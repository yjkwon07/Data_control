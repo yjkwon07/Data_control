{
 "cells": [
  {
   "cell_type": "markdown",
   "metadata": {},
   "source": [
    "# sumarry\n",
    "- pandas operator \n",
    "    - df.count()\n",
    "    - df.min()\n",
    "    - df.skew()\n",
    "    - df.kwrt()\n",
    "    - df.cov()\n",
    "\n",
    "\n",
    "- how to predict type \n",
    "    - DataFrame\n",
    "        - if number of column or rows is two more, DataFrame \n",
    "        - But, df.iloc[:, 1:2] - > is DataFrame\n",
    "    - Series \n",
    "        - only one column Search!!!\n",
    "        \n",
    "- df.iloc[7,4:8] -> Series\n",
    "- df.iloc[1,4:8] -> Series \n",
    "- df.loc[11,:] -> Series \n",
    "- df.loc[0] -> all of column -> Series\n",
    "- df.loc[1,['State','County']] -> Series\n",
    "\n",
    "\n",
    "- df.loc[11,1] -> Series\n",
    "- df.loc[df.Metro == 'New York', 'County'] -> Series\n",
    "\n",
    "\n",
    "- df.loc[1:7, \"Metro\":\"country\"] -> DataFrame\n",
    "\n",
    "\n",
    "- df.loc[ df['State'] == 'CA'] -> 함수형패러다임\n",
    "- df.loc[df.Date == \"2013\"] -> DataFrame\n",
    "\n",
    "\n",
    "- df.columns\n",
    "- df['Date'] -> Series\n",
    "- df[['Date']] -> DataFrame\n",
    "- df.loc[1:3,\"Date\"] -> Series\n",
    "- df.loc[1:3,[\"Date\"]] -> DataFrame\n",
    "\n",
    "\n",
    "- del df['column_name']\n",
    "\n",
    "\n",
    "- df.sort_values('Metro') -> DataFrame\n",
    "- df.sort_values('RegionID', ascending= False) #inplace -> mutable -> DataFrame\n",
    "- df.sort_vaues(['', ''])\n",
    "- df.sort_values(by=['Metro', 'County', 'Zhvi'], ascending=[True, True, False])\n",
    "- df.sort_values('RegionID', axis=1) *Notice: 열은 항상 비교가 되지만, 행과 비교는 에러가 날 수 있따 .\n",
    "\n",
    "- df.reset_index()\n",
    "    - loc는 인덱스 이름을 가져온다. reset index를 많이 사용해 "
   ]
  },
  {
   "cell_type": "markdown",
   "metadata": {},
   "source": [
    "# Search \n",
    "- at은 셀만\n",
    "- loc 행 또는 행과 열 / 셀도 포함\n",
    "- 열은 4가지 dict, at , loc, iloc\n",
    "- 셀은 4가지 loc, iloc, at, iat\n",
    "- 보통 iloc 속도측면을 잘 알고 판단하기를~"
   ]
  },
  {
   "cell_type": "markdown",
   "metadata": {},
   "source": [
    "df[조건] # -> 참인것만 불러온다 \n",
    "- df.filter(items=['State','Metro'])  # 컬럼 뽑기, dict, attr, loc, iloc, filter\n",
    "\n",
    "\n",
    "- filterd_data = df.filter(regex='Region', axis=0)  \n",
    "\n",
    "\n",
    "- df.filter(like='Met', axis=1) # like는 안에 해당하는 str 포함 하는부분을 찾기 "
   ]
  },
  {
   "cell_type": "markdown",
   "metadata": {},
   "source": [
    "- df[] # 조건에 맞는 행 뽑기\n",
    "- df[True] # 조건이 아니니깐\n",
    "- df[df.State == 'CA'] # true or false 나오기 # true만 나온다 \n",
    "\n",
    "\n",
    "- 조건 연결\n",
    "    - df[(df['Zhvi'] > 1000000) & (df['State'] == 'NY')]\n",
    "    - df[(df['Zhvi'] > 1000000) | (df['State'] == 'NY')]\n",
    "\n",
    "\n",
    "- isin; in 하면 파이썬 in하고 충돌 되기 때문에 \n",
    "    - df['State'].isin(['DC', 'PA']) -> Series type  # true false로 구성\n",
    "    - filter = df['Metro'].isin(['New York', 'SanFrancisco']) \n",
    "    - df[filter].head() #filter에는 true\n",
    "    - df[ df['State'].isin(['DC', 'PA']) ] -> DataFrame\n",
    "\n",
    "\n",
    "- isin은 여러개 dict포맷\n",
    "    - df[df.isin( {'State': ['CA'], 'Metro': ['San Francisco']} )] #nan이 나오네 \n",
    "    - df.isin({'State': ['CA'], 'Metro': ['San Francisco']}) # dataframe의 조건을 넣었기 때문에 dataframe\n"
   ]
  },
  {
   "cell_type": "markdown",
   "metadata": {},
   "source": [
    "- df['State'].unique()\n",
    "\n",
    "\n",
    "- . -> 한 컬럼에서만 조건을 여러개 붙일 때\n",
    "- 각각 컬럼에 조건을 줄 때 , dict 방식 \n"
   ]
  }
 ],
 "metadata": {
  "kernelspec": {
   "display_name": "Python 3",
   "language": "python",
   "name": "python3"
  },
  "language_info": {
   "codemirror_mode": {
    "name": "ipython",
    "version": 3
   },
   "file_extension": ".py",
   "mimetype": "text/x-python",
   "name": "python",
   "nbconvert_exporter": "python",
   "pygments_lexer": "ipython3",
   "version": "3.6.4"
  }
 },
 "nbformat": 4,
 "nbformat_minor": 2
}
