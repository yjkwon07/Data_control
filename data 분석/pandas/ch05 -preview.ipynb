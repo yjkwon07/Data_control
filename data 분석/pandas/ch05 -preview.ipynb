{
 "cells": [
  {
   "cell_type": "markdown",
   "metadata": {},
   "source": [
    "# summary \n",
    "- 판다스에서는 워소가 2개 있으면 앞은 행 뒤는 열\n",
    "    - len(df.axes) -> if 2\n",
    "    \n",
    "    \n",
    "- df.mean(axis= 0) # info에서 숫자로 나온애들만  # 전체 컬럼의 숫자값만의 개수     \n",
    "- df.mean(axis=1) # 전체 행만큼의 개수 \n",
    "- df.mean(axis='rows')\n",
    "- df.mean(axis='columns').head()\n",
    "\n",
    "\n",
    "- df.filter(regex='([0-9])', axis=1)  # 숫자 3자리 \n",
    "- df2.filter(regex='BFG', axis=0)\n"
   ]
  }
 ],
 "metadata": {
  "kernelspec": {
   "display_name": "Python 3",
   "language": "python",
   "name": "python3"
  },
  "language_info": {
   "codemirror_mode": {
    "name": "ipython",
    "version": 3
   },
   "file_extension": ".py",
   "mimetype": "text/x-python",
   "name": "python",
   "nbconvert_exporter": "python",
   "pygments_lexer": "ipython3",
   "version": "3.6.4"
  }
 },
 "nbformat": 4,
 "nbformat_minor": 2
}
