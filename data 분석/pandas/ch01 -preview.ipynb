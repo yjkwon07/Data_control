{
 "cells": [
  {
   "cell_type": "markdown",
   "metadata": {},
   "source": [
    "# summary \n",
    "- pandas 전처리 , eda<br/> \n",
    "\n",
    "\n",
    "- Data Frame is seq[slicing, indexing] <br/>\n",
    "\n",
    "\n",
    "- pandas verison<br/>\n",
    "\n",
    "\n",
    "- pandas install <br/>\n",
    "\n",
    "\n",
    "- basic 5 pandas <br/>\n",
    "    - head, tail\n",
    "    - sample \n",
    "    - info\n",
    "    - describe -> default is only numeric \n",
    "    - dataframe(the instance variable) \n",
    "\n",
    "\n",
    "- row(observation)<br/>\n",
    "\n",
    "\n",
    "- column(attribute)<br/>\n",
    "\n",
    "\n",
    "- header=None | 2 (because of seq.) <br/>\n",
    "\n",
    "\n",
    "- index_col=\"title\" <- is name column<br/>\n",
    "\n",
    "\n",
    "- usecols = [\"abc\", \"def\" , \"ghi\"] <- but it is waring for pandas <br/>\n",
    "\n",
    "\n",
    "- na_values = [''] <- not available instead <br/>\n",
    "\n",
    "\n",
    "- skip_blank_lines =(True | False)<br/>\n",
    "\n",
    "\n",
    "- skiprow = [1,2,3] <br/>\n",
    "\n",
    "\n",
    "- skipfooter = 2<br/>\n",
    "\n",
    "\n",
    "- sheetname = 0 <br/>\n",
    "\n",
    "\n",
    "- html <br/>\n",
    "\n",
    "\n",
    "- sql <br/>\n",
    "\n",
    "\n",
    "- pickle <br/>"
   ]
  }
 ],
 "metadata": {
  "kernelspec": {
   "display_name": "Python 3",
   "language": "python",
   "name": "python3"
  },
  "language_info": {
   "codemirror_mode": {
    "name": "ipython",
    "version": 3
   },
   "file_extension": ".py",
   "mimetype": "text/x-python",
   "name": "python",
   "nbconvert_exporter": "python",
   "pygments_lexer": "ipython3",
   "version": "3.6.4"
  }
 },
 "nbformat": 4,
 "nbformat_minor": 2
}
