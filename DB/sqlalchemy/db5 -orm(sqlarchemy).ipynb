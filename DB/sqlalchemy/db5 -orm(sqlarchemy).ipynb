{
 "cells": [
  {
   "cell_type": "code",
   "execution_count": 1,
   "metadata": {},
   "outputs": [],
   "source": [
    "from sqlalchemy import create_engine, MetaData"
   ]
  },
  {
   "cell_type": "code",
   "execution_count": 2,
   "metadata": {},
   "outputs": [],
   "source": [
    "engine = create_engine(\"sqlite:///arlchmy_core.db\", echo =True )"
   ]
  },
  {
   "cell_type": "code",
   "execution_count": 3,
   "metadata": {},
   "outputs": [
    {
     "name": "stdout",
     "output_type": "stream",
     "text": [
      "2018-07-31 12:47:44,131 INFO sqlalchemy.engine.base.Engine SELECT CAST('test plain returns' AS VARCHAR(60)) AS anon_1\n",
      "2018-07-31 12:47:44,144 INFO sqlalchemy.engine.base.Engine ()\n",
      "2018-07-31 12:47:44,148 INFO sqlalchemy.engine.base.Engine SELECT CAST('test unicode returns' AS VARCHAR(60)) AS anon_1\n",
      "2018-07-31 12:47:44,153 INFO sqlalchemy.engine.base.Engine ()\n"
     ]
    }
   ],
   "source": [
    "con = engine.connect()"
   ]
  },
  {
   "cell_type": "code",
   "execution_count": 4,
   "metadata": {},
   "outputs": [
    {
     "name": "stdout",
     "output_type": "stream",
     "text": [
      "2018-07-31 12:47:55,839 INFO sqlalchemy.engine.base.Engine SELECT name FROM sqlite_master WHERE type='table' ORDER BY name\n",
      "2018-07-31 12:47:55,840 INFO sqlalchemy.engine.base.Engine ()\n",
      "2018-07-31 12:47:55,846 INFO sqlalchemy.engine.base.Engine PRAGMA table_info(\"Album\")\n",
      "2018-07-31 12:47:55,847 INFO sqlalchemy.engine.base.Engine ()\n",
      "2018-07-31 12:47:55,850 INFO sqlalchemy.engine.base.Engine SELECT sql FROM  (SELECT * FROM sqlite_master UNION ALL   SELECT * FROM sqlite_temp_master) WHERE name = 'Album' AND type = 'table'\n",
      "2018-07-31 12:47:55,851 INFO sqlalchemy.engine.base.Engine ()\n",
      "2018-07-31 12:47:55,854 INFO sqlalchemy.engine.base.Engine PRAGMA foreign_key_list(\"Album\")\n",
      "2018-07-31 12:47:55,855 INFO sqlalchemy.engine.base.Engine ()\n",
      "2018-07-31 12:47:55,857 INFO sqlalchemy.engine.base.Engine SELECT sql FROM  (SELECT * FROM sqlite_master UNION ALL   SELECT * FROM sqlite_temp_master) WHERE name = 'Album' AND type = 'table'\n",
      "2018-07-31 12:47:55,858 INFO sqlalchemy.engine.base.Engine ()\n",
      "2018-07-31 12:47:55,865 INFO sqlalchemy.engine.base.Engine PRAGMA table_info(\"Artist\")\n",
      "2018-07-31 12:47:55,866 INFO sqlalchemy.engine.base.Engine ()\n",
      "2018-07-31 12:47:55,868 INFO sqlalchemy.engine.base.Engine SELECT sql FROM  (SELECT * FROM sqlite_master UNION ALL   SELECT * FROM sqlite_temp_master) WHERE name = 'Artist' AND type = 'table'\n",
      "2018-07-31 12:47:55,869 INFO sqlalchemy.engine.base.Engine ()\n",
      "2018-07-31 12:47:55,872 INFO sqlalchemy.engine.base.Engine PRAGMA foreign_key_list(\"Artist\")\n",
      "2018-07-31 12:47:55,873 INFO sqlalchemy.engine.base.Engine ()\n",
      "2018-07-31 12:47:55,874 INFO sqlalchemy.engine.base.Engine SELECT sql FROM  (SELECT * FROM sqlite_master UNION ALL   SELECT * FROM sqlite_temp_master) WHERE name = 'Artist' AND type = 'table'\n",
      "2018-07-31 12:47:55,876 INFO sqlalchemy.engine.base.Engine ()\n",
      "2018-07-31 12:47:55,878 INFO sqlalchemy.engine.base.Engine PRAGMA index_list(\"Artist\")\n",
      "2018-07-31 12:47:55,879 INFO sqlalchemy.engine.base.Engine ()\n",
      "2018-07-31 12:47:55,881 INFO sqlalchemy.engine.base.Engine PRAGMA index_list(\"Artist\")\n",
      "2018-07-31 12:47:55,883 INFO sqlalchemy.engine.base.Engine ()\n",
      "2018-07-31 12:47:55,884 INFO sqlalchemy.engine.base.Engine SELECT sql FROM  (SELECT * FROM sqlite_master UNION ALL   SELECT * FROM sqlite_temp_master) WHERE name = 'Artist' AND type = 'table'\n",
      "2018-07-31 12:47:55,885 INFO sqlalchemy.engine.base.Engine ()\n",
      "2018-07-31 12:47:55,892 INFO sqlalchemy.engine.base.Engine PRAGMA index_list(\"Album\")\n",
      "2018-07-31 12:47:55,894 INFO sqlalchemy.engine.base.Engine ()\n",
      "2018-07-31 12:47:55,896 INFO sqlalchemy.engine.base.Engine PRAGMA index_list(\"Album\")\n",
      "2018-07-31 12:47:55,897 INFO sqlalchemy.engine.base.Engine ()\n",
      "2018-07-31 12:47:55,899 INFO sqlalchemy.engine.base.Engine SELECT sql FROM  (SELECT * FROM sqlite_master UNION ALL   SELECT * FROM sqlite_temp_master) WHERE name = 'Album' AND type = 'table'\n",
      "2018-07-31 12:47:55,901 INFO sqlalchemy.engine.base.Engine ()\n",
      "2018-07-31 12:47:55,903 INFO sqlalchemy.engine.base.Engine PRAGMA table_info(\"Genre\")\n",
      "2018-07-31 12:47:55,904 INFO sqlalchemy.engine.base.Engine ()\n",
      "2018-07-31 12:47:55,907 INFO sqlalchemy.engine.base.Engine SELECT sql FROM  (SELECT * FROM sqlite_master UNION ALL   SELECT * FROM sqlite_temp_master) WHERE name = 'Genre' AND type = 'table'\n",
      "2018-07-31 12:47:55,909 INFO sqlalchemy.engine.base.Engine ()\n",
      "2018-07-31 12:47:55,912 INFO sqlalchemy.engine.base.Engine PRAGMA foreign_key_list(\"Genre\")\n",
      "2018-07-31 12:47:55,913 INFO sqlalchemy.engine.base.Engine ()\n",
      "2018-07-31 12:47:55,915 INFO sqlalchemy.engine.base.Engine SELECT sql FROM  (SELECT * FROM sqlite_master UNION ALL   SELECT * FROM sqlite_temp_master) WHERE name = 'Genre' AND type = 'table'\n",
      "2018-07-31 12:47:55,917 INFO sqlalchemy.engine.base.Engine ()\n",
      "2018-07-31 12:47:55,920 INFO sqlalchemy.engine.base.Engine PRAGMA index_list(\"Genre\")\n",
      "2018-07-31 12:47:55,921 INFO sqlalchemy.engine.base.Engine ()\n",
      "2018-07-31 12:47:55,924 INFO sqlalchemy.engine.base.Engine PRAGMA index_list(\"Genre\")\n",
      "2018-07-31 12:47:55,925 INFO sqlalchemy.engine.base.Engine ()\n",
      "2018-07-31 12:47:55,928 INFO sqlalchemy.engine.base.Engine SELECT sql FROM  (SELECT * FROM sqlite_master UNION ALL   SELECT * FROM sqlite_temp_master) WHERE name = 'Genre' AND type = 'table'\n",
      "2018-07-31 12:47:55,930 INFO sqlalchemy.engine.base.Engine ()\n",
      "2018-07-31 12:47:55,933 INFO sqlalchemy.engine.base.Engine PRAGMA table_info(\"track\")\n",
      "2018-07-31 12:47:55,935 INFO sqlalchemy.engine.base.Engine ()\n",
      "2018-07-31 12:47:55,940 INFO sqlalchemy.engine.base.Engine SELECT sql FROM  (SELECT * FROM sqlite_master UNION ALL   SELECT * FROM sqlite_temp_master) WHERE name = 'track' AND type = 'table'\n",
      "2018-07-31 12:47:55,942 INFO sqlalchemy.engine.base.Engine ()\n",
      "2018-07-31 12:47:55,945 INFO sqlalchemy.engine.base.Engine PRAGMA foreign_key_list(\"track\")\n",
      "2018-07-31 12:47:55,946 INFO sqlalchemy.engine.base.Engine ()\n",
      "2018-07-31 12:47:55,948 INFO sqlalchemy.engine.base.Engine SELECT sql FROM  (SELECT * FROM sqlite_master UNION ALL   SELECT * FROM sqlite_temp_master) WHERE name = 'track' AND type = 'table'\n",
      "2018-07-31 12:47:55,949 INFO sqlalchemy.engine.base.Engine ()\n",
      "2018-07-31 12:47:55,953 INFO sqlalchemy.engine.base.Engine PRAGMA index_list(\"track\")\n",
      "2018-07-31 12:47:55,954 INFO sqlalchemy.engine.base.Engine ()\n",
      "2018-07-31 12:47:55,956 INFO sqlalchemy.engine.base.Engine PRAGMA index_list(\"track\")\n",
      "2018-07-31 12:47:55,957 INFO sqlalchemy.engine.base.Engine ()\n",
      "2018-07-31 12:47:55,959 INFO sqlalchemy.engine.base.Engine SELECT sql FROM  (SELECT * FROM sqlite_master UNION ALL   SELECT * FROM sqlite_temp_master) WHERE name = 'track' AND type = 'table'\n",
      "2018-07-31 12:47:55,961 INFO sqlalchemy.engine.base.Engine ()\n"
     ]
    },
    {
     "name": "stderr",
     "output_type": "stream",
     "text": [
      "C:\\ProgramData\\Anaconda3\\lib\\site-packages\\ipykernel_launcher.py:1: SADeprecationWarning: reflect=True is deprecate; please use the reflect() method.\n",
      "  \"\"\"Entry point for launching an IPython kernel.\n"
     ]
    }
   ],
   "source": [
    "metadata = MetaData(bind = engine, reflect= True)"
   ]
  },
  {
   "cell_type": "code",
   "execution_count": 5,
   "metadata": {},
   "outputs": [
    {
     "name": "stdout",
     "output_type": "stream",
     "text": [
      "2018-07-19 00:24:17,112 INFO sqlalchemy.engine.base.Engine SELECT name FROM sqlite_master WHERE type='table' ORDER BY name\n",
      "2018-07-19 00:24:17,113 INFO sqlalchemy.engine.base.Engine ()\n"
     ]
    }
   ],
   "source": [
    "metadata.reflect(bind=engine) # 바인딩을 엔진을 주고 메타데이터 가져옴"
   ]
  },
  {
   "cell_type": "code",
   "execution_count": 6,
   "metadata": {},
   "outputs": [
    {
     "name": "stdout",
     "output_type": "stream",
     "text": [
      "Album\n",
      "Artist\n",
      "Genre\n",
      "track\n"
     ]
    }
   ],
   "source": [
    "for row in metadata.tables: #메모리상 존재하는지 참조\n",
    "    print(row)"
   ]
  },
  {
   "cell_type": "code",
   "execution_count": 7,
   "metadata": {},
   "outputs": [],
   "source": [
    "album = metadata.tables['Album']"
   ]
  },
  {
   "cell_type": "code",
   "execution_count": 8,
   "metadata": {},
   "outputs": [
    {
     "name": "stdout",
     "output_type": "stream",
     "text": [
      "2018-07-19 00:24:18,396 INFO sqlalchemy.engine.base.Engine SELECT \"Album\".id, \"Album\".title, \"Album\".artist_id \n",
      "FROM \"Album\"\n",
      "2018-07-19 00:24:18,397 INFO sqlalchemy.engine.base.Engine ()\n"
     ]
    }
   ],
   "source": [
    "result = con.execute(album.select())"
   ]
  },
  {
   "cell_type": "code",
   "execution_count": 9,
   "metadata": {},
   "outputs": [
    {
     "name": "stdout",
     "output_type": "stream",
     "text": [
      "(1, 'IV', 1)\n",
      "(2, 'who Made Who', 2)\n"
     ]
    }
   ],
   "source": [
    "for row in result:\n",
    "    print(row)"
   ]
  },
  {
   "cell_type": "markdown",
   "metadata": {},
   "source": [
    "# SQLAlchemy ORM"
   ]
  },
  {
   "cell_type": "code",
   "execution_count": 10,
   "metadata": {},
   "outputs": [],
   "source": [
    "from sqlalchemy import create_engine\n",
    "engine = create_engine(\"sqlite:///orm.db\", echo = True)\n",
    "# 중간과정보기 # 엔진 만들기"
   ]
  },
  {
   "cell_type": "code",
   "execution_count": 11,
   "metadata": {},
   "outputs": [
    {
     "name": "stdout",
     "output_type": "stream",
     "text": [
      "2018-07-19 00:24:20,092 INFO sqlalchemy.engine.base.Engine SELECT CAST('test plain returns' AS VARCHAR(60)) AS anon_1\n",
      "2018-07-19 00:24:20,093 INFO sqlalchemy.engine.base.Engine ()\n",
      "2018-07-19 00:24:20,094 INFO sqlalchemy.engine.base.Engine SELECT CAST('test unicode returns' AS VARCHAR(60)) AS anon_1\n",
      "2018-07-19 00:24:20,095 INFO sqlalchemy.engine.base.Engine ()\n"
     ]
    }
   ],
   "source": [
    "conn = engine.connect()"
   ]
  },
  {
   "cell_type": "code",
   "execution_count": 1,
   "metadata": {},
   "outputs": [],
   "source": [
    "from sqlalchemy.ext.declarative import declarative_base"
   ]
  },
  {
   "cell_type": "code",
   "execution_count": 13,
   "metadata": {},
   "outputs": [],
   "source": [
    "base = declarative_base() # metadata와 유사 -> 다른점 클래스를 만듬"
   ]
  },
  {
   "cell_type": "code",
   "execution_count": 2,
   "metadata": {},
   "outputs": [],
   "source": [
    "from sqlalchemy import Column, Integer, String, ForeignKey"
   ]
  },
  {
   "cell_type": "markdown",
   "metadata": {},
   "source": [
    "# relationship"
   ]
  },
  {
   "cell_type": "code",
   "execution_count": 15,
   "metadata": {},
   "outputs": [],
   "source": [
    "# pk와 fk 를 설정을 해줬기 때문에 sqlarchemy가 알아서 판단해서 출력해주는것 뿐\n",
    "# 싱크를 맞추기위해 클래스에게도 알려주는거 \n",
    "# db에 거치지 않아도 미리 알게 될 수 있게 하는것 "
   ]
  },
  {
   "cell_type": "code",
   "execution_count": 3,
   "metadata": {},
   "outputs": [],
   "source": [
    "from sqlalchemy.orm import relationship"
   ]
  },
  {
   "cell_type": "code",
   "execution_count": 17,
   "metadata": {},
   "outputs": [],
   "source": [
    "class Artist(base):\n",
    "    __tablename__ = \"artist\"\n",
    "    \n",
    "    id = Column(Integer, primary_key=True)\n",
    "    name = Column(String)\n",
    "    \n",
    "    album =relationship(\"Album\", back_populates= \"artist\")\n",
    "    \n",
    "    def __repr__(self):\n",
    "        return \"<T artist(name ='%s')>\" % (self.name)\n",
    "\n",
    "class Album(base):\n",
    "    __tablename__ = \"album\"\n",
    "    \n",
    "    id = Column(Integer, primary_key=True)\n",
    "    title = Column(String)\n",
    "    artist_id = Column(Integer, ForeignKey(\"artist.id\"))\n",
    "    \n",
    "    artist = relationship(\"Artist\", back_populates = \"album\", uselist=False)\n",
    "    \n",
    "    # 다시 클래스 정의를 해야한다.\n",
    "    # 1:N 의 관계 리스트 타입이 아니기 때문에 # 꼭 1이여야 한다.  \n",
    "    # Artist 객체와 관계를 맺고 얘를 추적해서 가면 album(어트리뷰트랑 관련이 있다)을 만날 수 있다 \n",
    "    \n",
    "class Genre(base):\n",
    "    __tablename__ = \"genre\"\n",
    "    \n",
    "    id = Column(Integer, primary_key=True)\n",
    "    name = Column(String)\n",
    "    \n",
    "class Track(base):\n",
    "    __tablename__ = \"track\"\n",
    "    \n",
    "    id = Column(Integer, primary_key=True)\n",
    "    title = Column(String)\n",
    "    album_id = Column(Integer, ForeignKey('album.id'))\n",
    "    genre_id = Column(Integer, ForeignKey('genre.id'))"
   ]
  },
  {
   "cell_type": "code",
   "execution_count": 20,
   "metadata": {
    "scrolled": true
   },
   "outputs": [
    {
     "name": "stdout",
     "output_type": "stream",
     "text": [
      "2018-07-19 00:24:24,539 INFO sqlalchemy.engine.base.Engine PRAGMA table_info(\"artist\")\n",
      "2018-07-19 00:24:24,540 INFO sqlalchemy.engine.base.Engine ()\n",
      "2018-07-19 00:24:24,543 INFO sqlalchemy.engine.base.Engine PRAGMA table_info(\"album\")\n",
      "2018-07-19 00:24:24,543 INFO sqlalchemy.engine.base.Engine ()\n",
      "2018-07-19 00:24:24,545 INFO sqlalchemy.engine.base.Engine PRAGMA table_info(\"genre\")\n",
      "2018-07-19 00:24:24,546 INFO sqlalchemy.engine.base.Engine ()\n",
      "2018-07-19 00:24:24,548 INFO sqlalchemy.engine.base.Engine PRAGMA table_info(\"track\")\n",
      "2018-07-19 00:24:24,549 INFO sqlalchemy.engine.base.Engine ()\n"
     ]
    }
   ],
   "source": [
    "base.metadata.create_all(engine)"
   ]
  },
  {
   "cell_type": "code",
   "execution_count": 21,
   "metadata": {},
   "outputs": [],
   "source": [
    "artist1 = Artist(name=\"Led zepplin\")\n",
    "artist2 = Artist(name=\"AC/DC\")"
   ]
  },
  {
   "cell_type": "code",
   "execution_count": 22,
   "metadata": {
    "scrolled": true
   },
   "outputs": [
    {
     "data": {
      "text/plain": [
       "<T artist(name ='Led zepplin')>"
      ]
     },
     "execution_count": 22,
     "metadata": {},
     "output_type": "execute_result"
    }
   ],
   "source": [
    "artist1"
   ]
  },
  {
   "cell_type": "code",
   "execution_count": 23,
   "metadata": {},
   "outputs": [],
   "source": [
    "artist1.album = [Album(title= \"IV\"), Album(title=\"who Made Who\")]"
   ]
  },
  {
   "cell_type": "code",
   "execution_count": 24,
   "metadata": {},
   "outputs": [
    {
     "data": {
      "text/plain": [
       "__main__.Artist"
      ]
     },
     "execution_count": 24,
     "metadata": {},
     "output_type": "execute_result"
    }
   ],
   "source": [
    "type(artist1.album[0].artist)"
   ]
  },
  {
   "cell_type": "code",
   "execution_count": 25,
   "metadata": {},
   "outputs": [],
   "source": [
    "from sqlalchemy.orm import sessionmaker"
   ]
  },
  {
   "cell_type": "code",
   "execution_count": 26,
   "metadata": {},
   "outputs": [],
   "source": [
    "Session = sessionmaker(bind = engine)"
   ]
  },
  {
   "cell_type": "code",
   "execution_count": 27,
   "metadata": {},
   "outputs": [],
   "source": [
    "session = Session() # con 대신 session"
   ]
  },
  {
   "cell_type": "code",
   "execution_count": 28,
   "metadata": {},
   "outputs": [],
   "source": [
    "session.add_all([artist1, artist2])"
   ]
  },
  {
   "cell_type": "code",
   "execution_count": 29,
   "metadata": {},
   "outputs": [
    {
     "name": "stdout",
     "output_type": "stream",
     "text": [
      "2018-07-19 00:24:30,543 INFO sqlalchemy.engine.base.Engine BEGIN (implicit)\n",
      "2018-07-19 00:24:30,545 INFO sqlalchemy.engine.base.Engine INSERT INTO artist (name) VALUES (?)\n",
      "2018-07-19 00:24:30,547 INFO sqlalchemy.engine.base.Engine ('Led zepplin',)\n",
      "2018-07-19 00:24:30,550 INFO sqlalchemy.engine.base.Engine INSERT INTO artist (name) VALUES (?)\n",
      "2018-07-19 00:24:30,551 INFO sqlalchemy.engine.base.Engine ('AC/DC',)\n",
      "2018-07-19 00:24:30,553 INFO sqlalchemy.engine.base.Engine INSERT INTO album (title, artist_id) VALUES (?, ?)\n",
      "2018-07-19 00:24:30,554 INFO sqlalchemy.engine.base.Engine ('IV', 7)\n",
      "2018-07-19 00:24:30,556 INFO sqlalchemy.engine.base.Engine INSERT INTO album (title, artist_id) VALUES (?, ?)\n",
      "2018-07-19 00:24:30,557 INFO sqlalchemy.engine.base.Engine ('who Made Who', 7)\n",
      "2018-07-19 00:24:30,558 INFO sqlalchemy.engine.base.Engine COMMIT\n"
     ]
    }
   ],
   "source": [
    "session.commit()"
   ]
  },
  {
   "cell_type": "code",
   "execution_count": 30,
   "metadata": {},
   "outputs": [
    {
     "data": {
      "text/plain": [
       "IdentitySet([])"
      ]
     },
     "execution_count": 30,
     "metadata": {},
     "output_type": "execute_result"
    }
   ],
   "source": [
    "session.dirty # database 싱크가 맞는지 (내가 알고있는 인스턴슨 값들이 바뀐게 있는지 알려줌 )"
   ]
  },
  {
   "cell_type": "code",
   "execution_count": 31,
   "metadata": {},
   "outputs": [
    {
     "name": "stdout",
     "output_type": "stream",
     "text": [
      "2018-07-19 00:24:31,488 INFO sqlalchemy.engine.base.Engine BEGIN (implicit)\n",
      "2018-07-19 00:24:31,490 INFO sqlalchemy.engine.base.Engine SELECT artist.id AS artist_id, artist.name AS artist_name \n",
      "FROM artist \n",
      "WHERE artist.id = ?\n",
      "2018-07-19 00:24:31,491 INFO sqlalchemy.engine.base.Engine (7,)\n",
      "2018-07-19 00:24:31,495 INFO sqlalchemy.engine.base.Engine SELECT album.id AS album_id, album.title AS album_title, album.artist_id AS album_artist_id \n",
      "FROM album \n",
      "WHERE ? = album.artist_id\n",
      "2018-07-19 00:24:31,496 INFO sqlalchemy.engine.base.Engine (7,)\n",
      "7 Led zepplin 9\n"
     ]
    }
   ],
   "source": [
    "print(artist1.id, artist1.name, artist1.album[0].id)"
   ]
  },
  {
   "cell_type": "code",
   "execution_count": 32,
   "metadata": {},
   "outputs": [
    {
     "name": "stdout",
     "output_type": "stream",
     "text": [
      "<class '__main__.Artist'>\n"
     ]
    }
   ],
   "source": [
    "print(type(artist1)) # list type n:M의 관계라서 "
   ]
  },
  {
   "cell_type": "code",
   "execution_count": 33,
   "metadata": {},
   "outputs": [],
   "source": [
    "artist1.album[0].title = \"test\""
   ]
  },
  {
   "cell_type": "code",
   "execution_count": 34,
   "metadata": {},
   "outputs": [
    {
     "data": {
      "text/plain": [
       "IdentitySet([<__main__.Album object at 0x000002120399D320>])"
      ]
     },
     "execution_count": 34,
     "metadata": {},
     "output_type": "execute_result"
    }
   ],
   "source": [
    "session.dirty"
   ]
  },
  {
   "cell_type": "code",
   "execution_count": 35,
   "metadata": {},
   "outputs": [
    {
     "name": "stdout",
     "output_type": "stream",
     "text": [
      "2018-07-19 00:24:33,465 INFO sqlalchemy.engine.base.Engine UPDATE album SET title=? WHERE album.id = ?\n",
      "2018-07-19 00:24:33,466 INFO sqlalchemy.engine.base.Engine ('test', 9)\n",
      "2018-07-19 00:24:33,469 INFO sqlalchemy.engine.base.Engine COMMIT\n"
     ]
    }
   ],
   "source": [
    "session.commit() # 커밋을 반드시 해줘야 반영이 된다 ."
   ]
  },
  {
   "cell_type": "code",
   "execution_count": 36,
   "metadata": {
    "scrolled": true
   },
   "outputs": [
    {
     "name": "stdout",
     "output_type": "stream",
     "text": [
      "2018-07-19 00:24:33,958 INFO sqlalchemy.engine.base.Engine BEGIN (implicit)\n",
      "2018-07-19 00:24:33,960 INFO sqlalchemy.engine.base.Engine SELECT artist.id AS artist_id, artist.name AS artist_name \n",
      "FROM artist \n",
      "WHERE artist.id = ?\n",
      "2018-07-19 00:24:33,961 INFO sqlalchemy.engine.base.Engine (7,)\n",
      "2018-07-19 00:24:33,964 INFO sqlalchemy.engine.base.Engine SELECT album.id AS album_id, album.title AS album_title, album.artist_id AS album_artist_id \n",
      "FROM album \n",
      "WHERE ? = album.artist_id\n",
      "2018-07-19 00:24:33,965 INFO sqlalchemy.engine.base.Engine (7,)\n",
      "7 Led zepplin 9 test\n"
     ]
    }
   ],
   "source": [
    "print(artist1.id, artist1.name, artist1.album[0].id, artist1.album[0].title)"
   ]
  },
  {
   "cell_type": "code",
   "execution_count": 37,
   "metadata": {},
   "outputs": [
    {
     "data": {
      "text/plain": [
       "IdentitySet([])"
      ]
     },
     "execution_count": 37,
     "metadata": {},
     "output_type": "execute_result"
    }
   ],
   "source": [
    "session.new "
   ]
  },
  {
   "cell_type": "code",
   "execution_count": 38,
   "metadata": {},
   "outputs": [],
   "source": [
    "artist1.name = \"xyz\""
   ]
  },
  {
   "cell_type": "code",
   "execution_count": 39,
   "metadata": {},
   "outputs": [
    {
     "data": {
      "text/plain": [
       "IdentitySet([<T artist(name ='xyz')>])"
      ]
     },
     "execution_count": 39,
     "metadata": {},
     "output_type": "execute_result"
    }
   ],
   "source": [
    "session.dirty"
   ]
  },
  {
   "cell_type": "code",
   "execution_count": 40,
   "metadata": {},
   "outputs": [
    {
     "data": {
      "text/plain": [
       "<bound method Session.commit of <sqlalchemy.orm.session.Session object at 0x00000212037EBC88>>"
      ]
     },
     "execution_count": 40,
     "metadata": {},
     "output_type": "execute_result"
    }
   ],
   "source": [
    "session.commit # 미반영된걸 sql commit"
   ]
  },
  {
   "cell_type": "code",
   "execution_count": 41,
   "metadata": {},
   "outputs": [],
   "source": [
    "# 매번 인스턴스 만드는게 귀찮고 \n",
    "# add_all은 무언가 많은걸 넣을 수 있어\n",
    "# 단지 차이는 우리는 클래스를 사용"
   ]
  },
  {
   "cell_type": "code",
   "execution_count": 42,
   "metadata": {},
   "outputs": [],
   "source": [
    "session.add_all([    \n",
    "    Album(title=\"1\", artist_id=1),\n",
    "    Album(title=\"2\", artist_id=2)\n",
    "]) # 메모리상에 올라온 것뿐"
   ]
  },
  {
   "cell_type": "code",
   "execution_count": 43,
   "metadata": {},
   "outputs": [
    {
     "data": {
      "text/plain": [
       "IdentitySet([<T artist(name ='xyz')>])"
      ]
     },
     "execution_count": 43,
     "metadata": {},
     "output_type": "execute_result"
    }
   ],
   "source": [
    "session.dirty # 바뀜 커밋을 해줘야함"
   ]
  },
  {
   "cell_type": "code",
   "execution_count": 44,
   "metadata": {},
   "outputs": [],
   "source": [
    "session.add_all([\n",
    "    Genre(name=\"Rock\"),\n",
    "    Genre(name=\"Metal\")\n",
    "]) # 메모리상에 올라온것뿐"
   ]
  },
  {
   "cell_type": "code",
   "execution_count": 45,
   "metadata": {},
   "outputs": [],
   "source": [
    "session.add_all([    \n",
    "    Track(title=\"1-1\", album_id=1, genre_id=1),\n",
    "    Track(title=\"1-2\", album_id=1, genre_id=2),\n",
    "    Track(title=\"2-1\", album_id=2, genre_id=1),\n",
    "    Track(title=\"2-2\", album_id=2, genre_id=2),\n",
    "]) # 메모리상에 올라온것뿐"
   ]
  },
  {
   "cell_type": "code",
   "execution_count": 46,
   "metadata": {},
   "outputs": [
    {
     "data": {
      "text/plain": [
       "IdentitySet([<__main__.Album object at 0x000002120399DA20>, <__main__.Album object at 0x000002120399DA90>, <__main__.Genre object at 0x000002120399DB70>, <__main__.Genre object at 0x000002120399DBE0>, <__main__.Track object at 0x00000212039A42E8>, <__main__.Track object at 0x00000212039A4358>, <__main__.Track object at 0x00000212039A43C8>, <__main__.Track object at 0x00000212039A4438>])"
      ]
     },
     "execution_count": 46,
     "metadata": {},
     "output_type": "execute_result"
    }
   ],
   "source": [
    "session.new"
   ]
  },
  {
   "cell_type": "code",
   "execution_count": 47,
   "metadata": {},
   "outputs": [
    {
     "data": {
      "text/plain": [
       "<bound method Session.commit of <sqlalchemy.orm.session.Session object at 0x00000212037EBC88>>"
      ]
     },
     "execution_count": 47,
     "metadata": {},
     "output_type": "execute_result"
    }
   ],
   "source": [
    "session.commit # 자동으로 어찌 했는지 쭉 나옴 "
   ]
  },
  {
   "cell_type": "code",
   "execution_count": 48,
   "metadata": {},
   "outputs": [],
   "source": [
    "temp = Track(title=\"3-1\", album_id=3, genre_id=3)"
   ]
  },
  {
   "cell_type": "code",
   "execution_count": 49,
   "metadata": {},
   "outputs": [
    {
     "name": "stdout",
     "output_type": "stream",
     "text": [
      "None\n"
     ]
    }
   ],
   "source": [
    "print(temp.id) # 실제 데이터베이스에 적용을 안했기 때문 "
   ]
  },
  {
   "cell_type": "code",
   "execution_count": 50,
   "metadata": {},
   "outputs": [],
   "source": [
    "session.add(temp)"
   ]
  },
  {
   "cell_type": "code",
   "execution_count": 51,
   "metadata": {},
   "outputs": [
    {
     "data": {
      "text/plain": [
       "IdentitySet([<__main__.Album object at 0x000002120399DA20>, <__main__.Album object at 0x000002120399DA90>, <__main__.Genre object at 0x000002120399DB70>, <__main__.Genre object at 0x000002120399DBE0>, <__main__.Track object at 0x00000212039A42E8>, <__main__.Track object at 0x00000212039A4358>, <__main__.Track object at 0x00000212039A43C8>, <__main__.Track object at 0x00000212039A4438>, <__main__.Track object at 0x000002120399DF28>])"
      ]
     },
     "execution_count": 51,
     "metadata": {},
     "output_type": "execute_result"
    }
   ],
   "source": [
    "session.new # 작업이 안되었기 때문에 "
   ]
  },
  {
   "cell_type": "code",
   "execution_count": 52,
   "metadata": {},
   "outputs": [
    {
     "name": "stdout",
     "output_type": "stream",
     "text": [
      "2018-07-19 00:24:41,023 INFO sqlalchemy.engine.base.Engine INSERT INTO track (title, album_id, genre_id) VALUES (?, ?, ?)\n",
      "2018-07-19 00:24:41,025 INFO sqlalchemy.engine.base.Engine ('1-1', 1, 1)\n",
      "2018-07-19 00:24:41,028 INFO sqlalchemy.engine.base.Engine INSERT INTO track (title, album_id, genre_id) VALUES (?, ?, ?)\n",
      "2018-07-19 00:24:41,029 INFO sqlalchemy.engine.base.Engine ('1-2', 1, 2)\n",
      "2018-07-19 00:24:41,030 INFO sqlalchemy.engine.base.Engine INSERT INTO track (title, album_id, genre_id) VALUES (?, ?, ?)\n",
      "2018-07-19 00:24:41,031 INFO sqlalchemy.engine.base.Engine ('2-1', 2, 1)\n",
      "2018-07-19 00:24:41,032 INFO sqlalchemy.engine.base.Engine INSERT INTO track (title, album_id, genre_id) VALUES (?, ?, ?)\n",
      "2018-07-19 00:24:41,033 INFO sqlalchemy.engine.base.Engine ('2-2', 2, 2)\n",
      "2018-07-19 00:24:41,034 INFO sqlalchemy.engine.base.Engine INSERT INTO track (title, album_id, genre_id) VALUES (?, ?, ?)\n",
      "2018-07-19 00:24:41,035 INFO sqlalchemy.engine.base.Engine ('3-1', 3, 3)\n",
      "2018-07-19 00:24:41,037 INFO sqlalchemy.engine.base.Engine UPDATE artist SET name=? WHERE artist.id = ?\n",
      "2018-07-19 00:24:41,038 INFO sqlalchemy.engine.base.Engine ('xyz', 7)\n",
      "2018-07-19 00:24:41,040 INFO sqlalchemy.engine.base.Engine INSERT INTO genre (name) VALUES (?)\n",
      "2018-07-19 00:24:41,041 INFO sqlalchemy.engine.base.Engine ('Rock',)\n",
      "2018-07-19 00:24:41,043 INFO sqlalchemy.engine.base.Engine INSERT INTO genre (name) VALUES (?)\n",
      "2018-07-19 00:24:41,043 INFO sqlalchemy.engine.base.Engine ('Metal',)\n",
      "2018-07-19 00:24:41,045 INFO sqlalchemy.engine.base.Engine INSERT INTO album (title, artist_id) VALUES (?, ?)\n",
      "2018-07-19 00:24:41,046 INFO sqlalchemy.engine.base.Engine ('1', 1)\n",
      "2018-07-19 00:24:41,047 INFO sqlalchemy.engine.base.Engine INSERT INTO album (title, artist_id) VALUES (?, ?)\n",
      "2018-07-19 00:24:41,048 INFO sqlalchemy.engine.base.Engine ('2', 2)\n",
      "2018-07-19 00:24:41,049 INFO sqlalchemy.engine.base.Engine COMMIT\n"
     ]
    }
   ],
   "source": [
    "session.commit()"
   ]
  },
  {
   "cell_type": "code",
   "execution_count": 53,
   "metadata": {},
   "outputs": [
    {
     "data": {
      "text/plain": [
       "IdentitySet([])"
      ]
     },
     "execution_count": 53,
     "metadata": {},
     "output_type": "execute_result"
    }
   ],
   "source": [
    "session.new"
   ]
  },
  {
   "cell_type": "code",
   "execution_count": 54,
   "metadata": {},
   "outputs": [
    {
     "name": "stdout",
     "output_type": "stream",
     "text": [
      "2018-07-19 00:24:42,252 INFO sqlalchemy.engine.base.Engine BEGIN (implicit)\n",
      "2018-07-19 00:24:42,254 INFO sqlalchemy.engine.base.Engine SELECT track.id AS track_id, track.title AS track_title, track.album_id AS track_album_id, track.genre_id AS track_genre_id \n",
      "FROM track \n",
      "WHERE track.id = ?\n",
      "2018-07-19 00:24:42,255 INFO sqlalchemy.engine.base.Engine (15,)\n",
      "15\n"
     ]
    }
   ],
   "source": [
    "print(temp.id) # 값을 불러온다 "
   ]
  },
  {
   "cell_type": "code",
   "execution_count": 55,
   "metadata": {},
   "outputs": [
    {
     "name": "stdout",
     "output_type": "stream",
     "text": [
      "2018-07-19 00:24:47,953 INFO sqlalchemy.engine.base.Engine SELECT track.id AS track_id, track.title AS track_title, track.album_id AS track_album_id, track.genre_id AS track_genre_id \n",
      "FROM track\n",
      "2018-07-19 00:24:47,954 INFO sqlalchemy.engine.base.Engine ()\n",
      "1 1\n",
      "2 1\n",
      "3 2\n",
      "4 2\n",
      "5 3\n",
      "6 1\n",
      "7 1\n",
      "8 2\n",
      "9 2\n",
      "10 3\n",
      "11 1\n",
      "12 1\n",
      "13 2\n",
      "14 2\n",
      "15 3\n"
     ]
    }
   ],
   "source": [
    "for row in session.query(Track):\n",
    "    print(row.id, end=\" \")\n",
    "    print(row.album_id)"
   ]
  },
  {
   "cell_type": "code",
   "execution_count": 56,
   "metadata": {},
   "outputs": [
    {
     "name": "stdout",
     "output_type": "stream",
     "text": [
      "2018-07-19 00:24:53,120 INFO sqlalchemy.engine.base.Engine SELECT artist.id AS artist_id, artist.name AS artist_name \n",
      "FROM artist\n",
      "2018-07-19 00:24:53,122 INFO sqlalchemy.engine.base.Engine ()\n",
      "<T artist(name ='xyz')>\n",
      "xyz\n",
      "1\n",
      "<T artist(name ='AC/DC')>\n",
      "AC/DC\n",
      "2\n",
      "<T artist(name ='Led zepplin')>\n",
      "Led zepplin\n",
      "3\n",
      "<T artist(name ='AC/DC')>\n",
      "AC/DC\n",
      "4\n",
      "<T artist(name ='xyz')>\n",
      "xyz\n",
      "5\n",
      "<T artist(name ='AC/DC')>\n",
      "AC/DC\n",
      "6\n",
      "<T artist(name ='xyz')>\n",
      "xyz\n",
      "7\n",
      "<T artist(name ='AC/DC')>\n",
      "AC/DC\n",
      "8\n"
     ]
    }
   ],
   "source": [
    "for row in session.query(Artist):\n",
    "    print(row)\n",
    "    print(row.name)\n",
    "    print(row.id)"
   ]
  },
  {
   "cell_type": "code",
   "execution_count": 57,
   "metadata": {},
   "outputs": [],
   "source": [
    "# 메모리상과 디비와 싱크를 맞아야하기 때문에\n",
    "# 값을 불러올때 메모리상 데이터를 가져온다 (속도 업)"
   ]
  },
  {
   "cell_type": "code",
   "execution_count": 58,
   "metadata": {},
   "outputs": [
    {
     "name": "stdout",
     "output_type": "stream",
     "text": [
      "2018-07-19 00:24:55,379 INFO sqlalchemy.engine.base.Engine SELECT artist.id AS artist_id, artist.name AS artist_name \n",
      "FROM artist \n",
      "WHERE artist.id = ?\n",
      "2018-07-19 00:24:55,381 INFO sqlalchemy.engine.base.Engine (1,)\n",
      "<T artist(name ='xyz')>\n",
      "xyz\n",
      "1\n"
     ]
    }
   ],
   "source": [
    "for row in session.query(Artist).filter(Artist.id == 1):\n",
    "    print(row)\n",
    "    print(row.name)\n",
    "    print(row.id)"
   ]
  },
  {
   "cell_type": "code",
   "execution_count": 64,
   "metadata": {},
   "outputs": [],
   "source": [
    "from sqlalchemy import join"
   ]
  },
  {
   "cell_type": "code",
   "execution_count": 67,
   "metadata": {},
   "outputs": [
    {
     "name": "stdout",
     "output_type": "stream",
     "text": [
      "2018-07-19 00:30:12,927 INFO sqlalchemy.engine.base.Engine SELECT track.title AS track_title, album.title AS album_title, genre.name AS genre_name, artist.name AS artist_name \n",
      "FROM track JOIN album ON album.id = track.album_id JOIN genre ON genre.id = track.genre_id JOIN artist ON artist.id = album.artist_id\n",
      "2018-07-19 00:30:12,928 INFO sqlalchemy.engine.base.Engine ()\n"
     ]
    }
   ],
   "source": [
    "result = session.query(Track.title, Album.title, Genre.name, Artist.name).select_from(Track).join(Album).join(Genre).join(Artist).all()"
   ]
  },
  {
   "cell_type": "code",
   "execution_count": 68,
   "metadata": {},
   "outputs": [
    {
     "name": "stdout",
     "output_type": "stream",
     "text": [
      "('1-1', '1', 'Rock', 'xyz')\n",
      "('1-2', '1', 'Metal', 'xyz')\n",
      "('2-1', '2', 'Rock', 'AC/DC')\n",
      "('2-2', '2', 'Metal', 'AC/DC')\n",
      "('3-1', 'test', 'Rock', 'Led zepplin')\n",
      "('1-1', '1', 'Rock', 'xyz')\n",
      "('1-2', '1', 'Metal', 'xyz')\n",
      "('2-1', '2', 'Rock', 'AC/DC')\n",
      "('2-2', '2', 'Metal', 'AC/DC')\n",
      "('3-1', 'test', 'Rock', 'Led zepplin')\n",
      "('1-1', '1', 'Rock', 'xyz')\n",
      "('1-2', '1', 'Metal', 'xyz')\n",
      "('2-1', '2', 'Rock', 'AC/DC')\n",
      "('2-2', '2', 'Metal', 'AC/DC')\n",
      "('3-1', 'test', 'Rock', 'Led zepplin')\n"
     ]
    }
   ],
   "source": [
    "for row in result:\n",
    "    print(row)"
   ]
  },
  {
   "cell_type": "code",
   "execution_count": 69,
   "metadata": {},
   "outputs": [],
   "source": [
    "sonList = [dict(Track=row[0], Album=row[1], Genre=row[2], Artist=row[3]) for row in result]"
   ]
  },
  {
   "cell_type": "code",
   "execution_count": 70,
   "metadata": {},
   "outputs": [
    {
     "data": {
      "text/plain": [
       "[{'Album': '1', 'Artist': 'xyz', 'Genre': 'Rock', 'Track': '1-1'},\n",
       " {'Album': '1', 'Artist': 'xyz', 'Genre': 'Metal', 'Track': '1-2'},\n",
       " {'Album': '2', 'Artist': 'AC/DC', 'Genre': 'Rock', 'Track': '2-1'},\n",
       " {'Album': '2', 'Artist': 'AC/DC', 'Genre': 'Metal', 'Track': '2-2'},\n",
       " {'Album': 'test', 'Artist': 'Led zepplin', 'Genre': 'Rock', 'Track': '3-1'},\n",
       " {'Album': '1', 'Artist': 'xyz', 'Genre': 'Rock', 'Track': '1-1'},\n",
       " {'Album': '1', 'Artist': 'xyz', 'Genre': 'Metal', 'Track': '1-2'},\n",
       " {'Album': '2', 'Artist': 'AC/DC', 'Genre': 'Rock', 'Track': '2-1'},\n",
       " {'Album': '2', 'Artist': 'AC/DC', 'Genre': 'Metal', 'Track': '2-2'},\n",
       " {'Album': 'test', 'Artist': 'Led zepplin', 'Genre': 'Rock', 'Track': '3-1'},\n",
       " {'Album': '1', 'Artist': 'xyz', 'Genre': 'Rock', 'Track': '1-1'},\n",
       " {'Album': '1', 'Artist': 'xyz', 'Genre': 'Metal', 'Track': '1-2'},\n",
       " {'Album': '2', 'Artist': 'AC/DC', 'Genre': 'Rock', 'Track': '2-1'},\n",
       " {'Album': '2', 'Artist': 'AC/DC', 'Genre': 'Metal', 'Track': '2-2'},\n",
       " {'Album': 'test', 'Artist': 'Led zepplin', 'Genre': 'Rock', 'Track': '3-1'}]"
      ]
     },
     "execution_count": 70,
     "metadata": {},
     "output_type": "execute_result"
    }
   ],
   "source": [
    "sonList"
   ]
  },
  {
   "cell_type": "code",
   "execution_count": null,
   "metadata": {},
   "outputs": [],
   "source": []
  }
 ],
 "metadata": {
  "kernelspec": {
   "display_name": "Python 3",
   "language": "python",
   "name": "python3"
  },
  "language_info": {
   "codemirror_mode": {
    "name": "ipython",
    "version": 3
   },
   "file_extension": ".py",
   "mimetype": "text/x-python",
   "name": "python",
   "nbconvert_exporter": "python",
   "pygments_lexer": "ipython3",
   "version": "3.6.4"
  }
 },
 "nbformat": 4,
 "nbformat_minor": 2
}
