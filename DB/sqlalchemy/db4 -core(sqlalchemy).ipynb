{
 "cells": [
  {
   "cell_type": "code",
   "execution_count": 1,
   "metadata": {},
   "outputs": [],
   "source": [
    "import sqlite3"
   ]
  },
  {
   "cell_type": "code",
   "execution_count": 2,
   "metadata": {},
   "outputs": [],
   "source": [
    "with open('test.dump', 'r') as f:\n",
    "    data = f.read()"
   ]
  },
  {
   "cell_type": "code",
   "execution_count": 3,
   "metadata": {},
   "outputs": [
    {
     "data": {
      "text/plain": [
       "'BEGIN TRANSACTION;\\nCREATE TABLE album(\\n                id INTEGER primary key  autoincrement,\\n                title text, \\n                artist_id int \\n                );\\nINSERT INTO \"album\" VALUES(1,\\'IV\\',1);\\nINSERT INTO \"album\" VALUES(2,\\'IV\\',1);\\nINSERT INTO \"album\" VALUES(3,\\'IV\\',2);\\nINSERT INTO \"album\" VALUES(4,\\'IV\\',1);\\nINSERT INTO \"album\" VALUES(5,\\'who Made who\\',2);\\nCREATE TABLE artist( \\n                id INTEGER not null primary key autoincrement,\\n                name text);\\nINSERT INTO \"artist\" VALUES(1,\\'Led zepplin\\');\\nINSERT INTO \"artist\" VALUES(2,\\'AC/DC\\');\\nCREATE TABLE genre (\\n                Id INTEGER not null primary key  autoincrement, \\n                name TEXT );\\nINSERT INTO \"genre\" VALUES(1,\\'Rock\\');\\nINSERT INTO \"genre\" VALUES(2,\\'Metal\\');\\nDELETE FROM \"sqlite_sequence\";\\nINSERT INTO \"sqlite_sequence\" VALUES(\\'artist\\',2);\\nINSERT INTO \"sqlite_sequence\" VALUES(\\'genre\\',2);\\nINSERT INTO \"sqlite_sequence\" VALUES(\\'album\\',5);\\nINSERT INTO \"sqlite_sequence\" VALUES(\\'track\\',4);\\nCREATE TABLE track(\\n            id INTEGER primary key  autoincrement,\\n            title text, \\n            length INTEGER,\\n            count INTEGER,\\n            rating INTEGER,\\n            album_id INTEGER, \\n            genre_id INTEGER \\n        );\\nINSERT INTO \"track\" VALUES(1,\\'Black Dog\\',NULL,NULL,NULL,1,1);\\nINSERT INTO \"track\" VALUES(2,\\'Stairway\\',NULL,NULL,NULL,1,2);\\nINSERT INTO \"track\" VALUES(3,\\'About to Rock\\',NULL,NULL,NULL,2,1);\\nINSERT INTO \"track\" VALUES(4,\\'who Made who\\',NULL,NULL,NULL,2,2);\\nCOMMIT;\\n'"
      ]
     },
     "execution_count": 3,
     "metadata": {},
     "output_type": "execute_result"
    }
   ],
   "source": [
    "data"
   ]
  },
  {
   "cell_type": "code",
   "execution_count": 4,
   "metadata": {},
   "outputs": [],
   "source": [
    "con = sqlite3.connect('dump.db')"
   ]
  },
  {
   "cell_type": "code",
   "execution_count": 5,
   "metadata": {},
   "outputs": [],
   "source": [
    "cur = con.cursor()"
   ]
  },
  {
   "cell_type": "code",
   "execution_count": 6,
   "metadata": {},
   "outputs": [
    {
     "ename": "OperationalError",
     "evalue": "table album already exists",
     "output_type": "error",
     "traceback": [
      "\u001b[1;31m---------------------------------------------------------------------------\u001b[0m",
      "\u001b[1;31mOperationalError\u001b[0m                          Traceback (most recent call last)",
      "\u001b[1;32m<ipython-input-6-d1b53faac1f4>\u001b[0m in \u001b[0;36m<module>\u001b[1;34m()\u001b[0m\n\u001b[1;32m----> 1\u001b[1;33m \u001b[0mcur\u001b[0m\u001b[1;33m.\u001b[0m\u001b[0mexecutescript\u001b[0m\u001b[1;33m(\u001b[0m\u001b[0mdata\u001b[0m\u001b[1;33m)\u001b[0m\u001b[1;33m\u001b[0m\u001b[0m\n\u001b[0m",
      "\u001b[1;31mOperationalError\u001b[0m: table album already exists"
     ]
    }
   ],
   "source": [
    "cur.executescript(data)"
   ]
  },
  {
   "cell_type": "code",
   "execution_count": 7,
   "metadata": {},
   "outputs": [
    {
     "data": {
      "text/plain": [
       "<sqlite3.Cursor at 0x1dcc6f335e0>"
      ]
     },
     "execution_count": 7,
     "metadata": {},
     "output_type": "execute_result"
    }
   ],
   "source": [
    "cur.execute(\"insert into track (title) values ('아무거나')\")"
   ]
  },
  {
   "cell_type": "code",
   "execution_count": 8,
   "metadata": {},
   "outputs": [
    {
     "data": {
      "text/plain": [
       "<sqlite3.Cursor at 0x1dcc6f335e0>"
      ]
     },
     "execution_count": 8,
     "metadata": {},
     "output_type": "execute_result"
    }
   ],
   "source": [
    "cur.execute(\"select * from track\")"
   ]
  },
  {
   "cell_type": "code",
   "execution_count": 9,
   "metadata": {},
   "outputs": [
    {
     "name": "stdout",
     "output_type": "stream",
     "text": [
      "[(1, 'Black Dog', None, None, None, 1, 1), (2, 'Stairway', None, None, None, 1, 2), (3, 'About to Rock', None, None, None, 2, 1), (4, 'who Made who', None, None, None, 2, 2), (5, '아무거나', None, None, None, None, None)]\n"
     ]
    }
   ],
   "source": [
    "print(cur.fetchall())"
   ]
  },
  {
   "cell_type": "code",
   "execution_count": 10,
   "metadata": {},
   "outputs": [
    {
     "data": {
      "text/plain": [
       "<sqlite3.Cursor at 0x1dcc6f335e0>"
      ]
     },
     "execution_count": 10,
     "metadata": {},
     "output_type": "execute_result"
    }
   ],
   "source": [
    "cur.execute('select * from track left join album on album.id=track.album_id')"
   ]
  },
  {
   "cell_type": "code",
   "execution_count": 11,
   "metadata": {},
   "outputs": [
    {
     "name": "stdout",
     "output_type": "stream",
     "text": [
      "(1, 'Black Dog', None, None, None, 1, 1, 1, 'IV', 1)\n",
      "(2, 'Stairway', None, None, None, 1, 2, 1, 'IV', 1)\n",
      "(3, 'About to Rock', None, None, None, 2, 1, 2, 'IV', 1)\n",
      "(4, 'who Made who', None, None, None, 2, 2, 2, 'IV', 1)\n",
      "(5, '아무거나', None, None, None, None, None, None, None, None)\n"
     ]
    }
   ],
   "source": [
    "for row in cur.fetchall():\n",
    "    print(row)"
   ]
  },
  {
   "cell_type": "code",
   "execution_count": 12,
   "metadata": {},
   "outputs": [
    {
     "ename": "OperationalError",
     "evalue": "RIGHT and FULL OUTER JOINs are not currently supported",
     "output_type": "error",
     "traceback": [
      "\u001b[1;31m---------------------------------------------------------------------------\u001b[0m",
      "\u001b[1;31mOperationalError\u001b[0m                          Traceback (most recent call last)",
      "\u001b[1;32m<ipython-input-12-cba90571be69>\u001b[0m in \u001b[0;36m<module>\u001b[1;34m()\u001b[0m\n\u001b[1;32m----> 1\u001b[1;33m \u001b[0mcur\u001b[0m\u001b[1;33m.\u001b[0m\u001b[0mexecute\u001b[0m\u001b[1;33m(\u001b[0m\u001b[1;34m'select * from track right join album on album.id=track.album_id'\u001b[0m\u001b[1;33m)\u001b[0m \u001b[1;31m# 왼쪽 테이블 기준\u001b[0m\u001b[1;33m\u001b[0m\u001b[0m\n\u001b[0m",
      "\u001b[1;31mOperationalError\u001b[0m: RIGHT and FULL OUTER JOINs are not currently supported"
     ]
    }
   ],
   "source": [
    "cur.execute('select * from track right join album on album.id=track.album_id') # 왼쪽 테이블 기준 "
   ]
  },
  {
   "cell_type": "code",
   "execution_count": 13,
   "metadata": {},
   "outputs": [
    {
     "data": {
      "text/plain": [
       "<sqlite3.Cursor at 0x1dcc6f335e0>"
      ]
     },
     "execution_count": 13,
     "metadata": {},
     "output_type": "execute_result"
    }
   ],
   "source": [
    "cur.execute('select * from album left join track on album.id=track.album_id')"
   ]
  },
  {
   "cell_type": "code",
   "execution_count": 14,
   "metadata": {},
   "outputs": [
    {
     "name": "stdout",
     "output_type": "stream",
     "text": [
      "(1, 'IV', 1, 1, 'Black Dog', None, None, None, 1, 1)\n",
      "(1, 'IV', 1, 2, 'Stairway', None, None, None, 1, 2)\n",
      "(2, 'IV', 1, 3, 'About to Rock', None, None, None, 2, 1)\n",
      "(2, 'IV', 1, 4, 'who Made who', None, None, None, 2, 2)\n",
      "(3, 'who Made who', 2, None, None, None, None, None, None, None)\n",
      "(4, 'IV', 1, None, None, None, None, None, None, None)\n",
      "(5, 'who Made who', 2, None, None, None, None, None, None, None)\n",
      "(6, 'IV', 1, None, None, None, None, None, None, None)\n",
      "(7, 'who Made who', 2, None, None, None, None, None, None, None)\n"
     ]
    }
   ],
   "source": [
    "for row in cur.fetchall():\n",
    "    print(row)"
   ]
  },
  {
   "cell_type": "markdown",
   "metadata": {},
   "source": [
    "# orm\n",
    "- orm 은 dbms가 아니라 그냥 프로그램, 단지 맵핑\n",
    "- ORM allows a developer to write Python code instead of SQL to create, read, update and delete\n",
    "    - Developers can use the programming language they are comfortable with to work with a database instead of writing SQL statements or stored procedures\n",
    "- ORMs make it theoretically possible to switch an application between various relational databases\n",
    "    - In practice however, it's best to use the same database for local development as is used in production\n"
   ]
  },
  {
   "cell_type": "code",
   "execution_count": 15,
   "metadata": {},
   "outputs": [
    {
     "name": "stdout",
     "output_type": "stream",
     "text": [
      "Package                            Version    \n",
      "---------------------------------- -----------\n",
      "absl-py                            0.1.12     \n",
      "alabaster                          0.7.10     \n",
      "anaconda-client                    1.6.9      \n",
      "anaconda-navigator                 1.7.0      \n",
      "anaconda-project                   0.8.2      \n",
      "asn1crypto                         0.24.0     \n",
      "astor                              0.6.2      \n",
      "astroid                            1.6.1      \n",
      "astropy                            2.0.3      \n",
      "attrs                              17.4.0     \n",
      "Babel                              2.5.3      \n",
      "backports.shutil-get-terminal-size 1.0.0      \n",
      "beautifulsoup4                     4.6.0      \n",
      "bitarray                           0.8.1      \n",
      "bkcharts                           0.2        \n",
      "blaze                              0.11.3     \n",
      "bleach                             1.5.0      \n",
      "bokeh                              0.12.13    \n",
      "boto                               2.48.0     \n",
      "Bottleneck                         1.2.1      \n",
      "builtwith                          1.3.3      \n",
      "certifi                            2018.1.18  \n",
      "cffi                               1.11.4     \n",
      "chardet                            3.0.4      \n",
      "click                              6.7        \n",
      "cloudpickle                        0.5.2      \n",
      "clyent                             1.2.2      \n",
      "colorama                           0.3.9      \n",
      "comtypes                           1.1.4      \n",
      "conda                              4.5.1      \n",
      "conda-build                        3.4.1      \n",
      "conda-verify                       2.0.0      \n",
      "contextlib2                        0.5.5      \n",
      "cryptography                       2.1.4      \n",
      "cycler                             0.10.0     \n",
      "Cython                             0.27.3     \n",
      "cytoolz                            0.9.0      \n",
      "dask                               0.16.1     \n",
      "datashape                          0.5.4      \n",
      "decorator                          4.2.1      \n",
      "distributed                        1.20.2     \n",
      "docutils                           0.14       \n",
      "entrypoints                        0.2.3      \n",
      "et-xmlfile                         1.0.1      \n",
      "fastcache                          1.0.2      \n",
      "filelock                           2.0.13     \n",
      "Flask                              0.12.2     \n",
      "Flask-Cors                         3.0.3      \n",
      "future                             0.16.0     \n",
      "gast                               0.2.0      \n",
      "gevent                             1.2.2      \n",
      "glob2                              0.6        \n",
      "greenlet                           0.4.12     \n",
      "grpcio                             1.10.0     \n",
      "h5py                               2.7.1      \n",
      "heapdict                           1.0.0      \n",
      "html5lib                           0.9999999  \n",
      "idna                               2.6        \n",
      "imageio                            2.2.0      \n",
      "imagesize                          0.7.1      \n",
      "ipykernel                          4.8.2      \n",
      "ipython                            6.2.1      \n",
      "ipython-genutils                   0.2.0      \n",
      "ipywidgets                         7.1.1      \n",
      "isort                              4.2.15     \n",
      "itsdangerous                       0.24       \n",
      "jdcal                              1.3        \n",
      "jedi                               0.11.1     \n",
      "Jinja2                             2.10       \n",
      "jsonschema                         2.6.0      \n",
      "jupyter                            1.0.0      \n",
      "jupyter-client                     5.2.2      \n",
      "jupyter-console                    5.2.0      \n",
      "jupyter-core                       4.4.0      \n",
      "jupyterlab                         0.31.4     \n",
      "jupyterlab-launcher                0.10.2     \n",
      "Keras                              2.1.5      \n",
      "lazy-object-proxy                  1.3.1      \n",
      "llvmlite                           0.21.0     \n",
      "locket                             0.2.0      \n",
      "lxml                               4.1.1      \n",
      "Markdown                           2.6.11     \n",
      "MarkupSafe                         1.0        \n",
      "matplotlib                         2.1.2      \n",
      "mccabe                             0.6.1      \n",
      "menuinst                           1.4.11     \n",
      "mistune                            0.8.3      \n",
      "mpmath                             1.0.0      \n",
      "msgpack-python                     0.5.1      \n",
      "multipledispatch                   0.4.9      \n",
      "navigator-updater                  0.1.0      \n",
      "nbconvert                          5.3.1      \n",
      "nbformat                           4.4.0      \n",
      "networkx                           2.1        \n",
      "nltk                               3.2.5      \n",
      "nose                               1.3.7      \n",
      "notebook                           5.4.0      \n",
      "numba                              0.36.2     \n",
      "numexpr                            2.6.4      \n",
      "numpy                              1.14.0     \n",
      "numpydoc                           0.7.0      \n",
      "odo                                0.5.1      \n",
      "olefile                            0.45.1     \n",
      "openpyxl                           2.4.10     \n",
      "packaging                          16.8       \n",
      "pandas                             0.22.0     \n",
      "pandocfilters                      1.4.2      \n",
      "parso                              0.1.1      \n",
      "partd                              0.3.8      \n",
      "path.py                            10.5       \n",
      "pathlib2                           2.3.0      \n",
      "patsy                              0.5.0      \n",
      "pep8                               1.7.1      \n",
      "pickleshare                        0.7.4      \n",
      "Pillow                             5.0.0      \n",
      "pip                                10.0.1     \n",
      "pkginfo                            1.4.1      \n",
      "pluggy                             0.6.0      \n",
      "ply                                3.10       \n",
      "prompt-toolkit                     1.0.15     \n",
      "protobuf                           3.5.2.post1\n",
      "psutil                             5.4.3      \n",
      "py                                 1.5.2      \n",
      "pycodestyle                        2.3.1      \n",
      "pycosat                            0.6.3      \n",
      "pycparser                          2.18       \n",
      "pycrypto                           2.6.1      \n",
      "pycurl                             7.43.0.1   \n",
      "pyflakes                           1.6.0      \n",
      "Pygments                           2.2.0      \n",
      "pylint                             1.8.2      \n",
      "pymongo                            3.7.1      \n",
      "pyodbc                             4.0.22     \n",
      "pyOpenSSL                          17.5.0     \n",
      "pyparsing                          2.2.0      \n",
      "PySocks                            1.6.7      \n",
      "pytest                             3.3.2      \n",
      "python-dateutil                    2.6.1      \n",
      "python-whois                       0.7.0      \n",
      "pytz                               2017.3     \n",
      "PyWavelets                         0.5.2      \n",
      "pywin32                            222        \n",
      "pywinpty                           0.5        \n",
      "PyYAML                             3.12       \n",
      "pyzmq                              16.0.3     \n",
      "QtAwesome                          0.4.4      \n",
      "qtconsole                          4.3.1      \n",
      "QtPy                               1.3.1      \n",
      "requests                           2.18.4     \n",
      "rope                               0.10.7     \n",
      "ruamel-yaml                        0.15.35    \n",
      "scikit-image                       0.13.1     \n",
      "scikit-learn                       0.19.1     \n",
      "scipy                              1.0.0      \n",
      "seaborn                            0.8.1      \n",
      "Send2Trash                         1.4.2      \n",
      "setuptools                         38.4.0     \n",
      "simplegeneric                      0.8.1      \n",
      "singledispatch                     3.4.0.3    \n",
      "six                                1.11.0     \n",
      "snowballstemmer                    1.2.1      \n",
      "sortedcollections                  0.5.3      \n",
      "sortedcontainers                   1.5.9      \n",
      "Sphinx                             1.6.6      \n",
      "sphinxcontrib-websupport           1.0.1      \n",
      "spyder                             3.2.6      \n",
      "SQLAlchemy                         1.2.1      \n",
      "statsmodels                        0.8.0      \n",
      "sympy                              1.1.1      \n",
      "tables                             3.4.2      \n",
      "tblib                              1.3.2      \n",
      "tensorboard                        1.8.0      \n",
      "tensorflow                         1.8.0      \n",
      "tensorflow-gpu                     1.7.0      \n",
      "termcolor                          1.1.0      \n",
      "terminado                          0.8.1      \n",
      "testpath                           0.3.1      \n",
      "toolz                              0.9.0      \n",
      "torch                              0.3.1.post2\n",
      "torchvision                        0.2.0      \n",
      "tornado                            4.5.3      \n",
      "traitlets                          4.3.2      \n",
      "typing                             3.6.2      \n",
      "ujson                              1.35       \n",
      "unicodecsv                         0.14.1     \n",
      "urllib3                            1.22       \n",
      "virtualenv                         16.0.0     \n",
      "wcwidth                            0.1.7      \n",
      "webencodings                       0.5.1      \n",
      "Werkzeug                           0.14.1     \n",
      "wheel                              0.30.0     \n",
      "widgetsnbextension                 3.1.0      \n",
      "win-inet-pton                      1.0.1      \n",
      "win-unicode-console                0.5        \n",
      "wincertstore                       0.2        \n",
      "wrapt                              1.10.11    \n",
      "xlrd                               1.1.0      \n",
      "XlsxWriter                         1.0.2      \n",
      "xlwings                            0.11.5     \n",
      "xlwt                               1.3.0      \n",
      "zict                               0.1.3      \n"
     ]
    }
   ],
   "source": [
    "!pip list"
   ]
  },
  {
   "cell_type": "code",
   "execution_count": 1,
   "metadata": {},
   "outputs": [
    {
     "data": {
      "text/plain": [
       "'1.2.1'"
      ]
     },
     "execution_count": 1,
     "metadata": {},
     "output_type": "execute_result"
    }
   ],
   "source": [
    "import sqlalchemy \n",
    "sqlalchemy.__version__"
   ]
  },
  {
   "cell_type": "markdown",
   "metadata": {},
   "source": [
    "# sqlalchemy\n",
    "- SQLAlchemy is a well-regarded database toolkit and ORM implementation written in Python\n",
    "- SQLAlchemy provides a generalized interface for creating and executing database-agnostic code without needing to write SQL statements."
   ]
  },
  {
   "cell_type": "markdown",
   "metadata": {},
   "source": [
    "<img src = \"db1.jpg\"/>"
   ]
  },
  {
   "cell_type": "markdown",
   "metadata": {},
   "source": [
    "<img src = \"db2.jpg\"/>"
   ]
  },
  {
   "cell_type": "code",
   "execution_count": 2,
   "metadata": {},
   "outputs": [],
   "source": [
    "from sqlalchemy import create_engine"
   ]
  },
  {
   "cell_type": "code",
   "execution_count": 3,
   "metadata": {},
   "outputs": [],
   "source": [
    "engine = create_engine(\"sqlite:///archmy_core.db\", echo = True) #경로 \n",
    "# engine = create_engine(\"slqite:///:memory:\", echo = True)\n",
    "# engine = create_engine(\"sqlite:///test.db\", echo = True)"
   ]
  },
  {
   "cell_type": "code",
   "execution_count": 4,
   "metadata": {},
   "outputs": [
    {
     "name": "stdout",
     "output_type": "stream",
     "text": [
      "Engine(sqlite:///archmy_core.db)\n"
     ]
    }
   ],
   "source": [
    "print(engine) # 시작 지점 메인 함수 "
   ]
  },
  {
   "cell_type": "code",
   "execution_count": 5,
   "metadata": {},
   "outputs": [],
   "source": [
    "from sqlalchemy import MetaData"
   ]
  },
  {
   "cell_type": "code",
   "execution_count": 6,
   "metadata": {},
   "outputs": [],
   "source": [
    "metatdata = MetaData()"
   ]
  },
  {
   "cell_type": "code",
   "execution_count": 7,
   "metadata": {},
   "outputs": [
    {
     "name": "stdout",
     "output_type": "stream",
     "text": [
      "MetaData(bind=None)\n"
     ]
    }
   ],
   "source": [
    "print(metatdata)"
   ]
  },
  {
   "cell_type": "code",
   "execution_count": 8,
   "metadata": {},
   "outputs": [],
   "source": [
    "from sqlalchemy import Table, Column, Integer, String, MetaData, ForeignKey\n",
    "\n",
    "metadata = MetaData()\n",
    "users = Table('users', metadata,\n",
    "        Column('id', Integer, primary_key = True),\n",
    "        Column('name', String),\n",
    "        Column('fullname', String),\n",
    "        )\n",
    "\n",
    "addresses = Table('adresses', metadata,\n",
    "            Column('id', Integer, primary_key= True),\n",
    "            Column('user_id', Integer, ForeignKey('users.id')),# 참조대상 \n",
    "            Column('email_address', String, nullable= False)\n",
    "            )"
   ]
  },
  {
   "cell_type": "code",
   "execution_count": 9,
   "metadata": {},
   "outputs": [
    {
     "name": "stdout",
     "output_type": "stream",
     "text": [
      "users\n"
     ]
    }
   ],
   "source": [
    "print(users)"
   ]
  },
  {
   "cell_type": "code",
   "execution_count": 10,
   "metadata": {},
   "outputs": [
    {
     "name": "stdout",
     "output_type": "stream",
     "text": [
      "adresses\n"
     ]
    }
   ],
   "source": [
    "print(addresses)"
   ]
  },
  {
   "cell_type": "code",
   "execution_count": 26,
   "metadata": {},
   "outputs": [
    {
     "name": "stdout",
     "output_type": "stream",
     "text": [
      "2018-07-18 21:44:08,341 INFO sqlalchemy.engine.base.Engine SELECT CAST('test plain returns' AS VARCHAR(60)) AS anon_1\n",
      "2018-07-18 21:44:08,342 INFO sqlalchemy.engine.base.Engine ()\n",
      "2018-07-18 21:44:08,344 INFO sqlalchemy.engine.base.Engine SELECT CAST('test unicode returns' AS VARCHAR(60)) AS anon_1\n",
      "2018-07-18 21:44:08,345 INFO sqlalchemy.engine.base.Engine ()\n",
      "2018-07-18 21:44:08,346 INFO sqlalchemy.engine.base.Engine PRAGMA table_info(\"users\")\n",
      "2018-07-18 21:44:08,347 INFO sqlalchemy.engine.base.Engine ()\n",
      "2018-07-18 21:44:08,350 INFO sqlalchemy.engine.base.Engine PRAGMA table_info(\"adresses\")\n",
      "2018-07-18 21:44:08,350 INFO sqlalchemy.engine.base.Engine ()\n",
      "2018-07-18 21:44:08,353 INFO sqlalchemy.engine.base.Engine \n",
      "CREATE TABLE users (\n",
      "\tid INTEGER NOT NULL, \n",
      "\tname VARCHAR, \n",
      "\tfullname VARCHAR, \n",
      "\tPRIMARY KEY (id)\n",
      ")\n",
      "\n",
      "\n",
      "2018-07-18 21:44:08,353 INFO sqlalchemy.engine.base.Engine ()\n",
      "2018-07-18 21:44:08,362 INFO sqlalchemy.engine.base.Engine COMMIT\n",
      "2018-07-18 21:44:08,363 INFO sqlalchemy.engine.base.Engine \n",
      "CREATE TABLE adresses (\n",
      "\tid INTEGER NOT NULL, \n",
      "\tuser_id INTEGER, \n",
      "\temail_address VARCHAR NOT NULL, \n",
      "\tPRIMARY KEY (id), \n",
      "\tFOREIGN KEY(user_id) REFERENCES users (id)\n",
      ")\n",
      "\n",
      "\n",
      "2018-07-18 21:44:08,364 INFO sqlalchemy.engine.base.Engine ()\n",
      "2018-07-18 21:44:08,375 INFO sqlalchemy.engine.base.Engine COMMIT\n"
     ]
    }
   ],
   "source": [
    "metadata.create_all(engine)# 아직 데이터베이스화 되지 않은 애들 바인딩 해줘라"
   ]
  },
  {
   "cell_type": "code",
   "execution_count": 5,
   "metadata": {},
   "outputs": [
    {
     "name": "stdout",
     "output_type": "stream",
     "text": [
      "users\n",
      "adresses\n"
     ]
    }
   ],
   "source": [
    "for row in metadata.tables:\n",
    "    print(row)"
   ]
  },
  {
   "cell_type": "code",
   "execution_count": 6,
   "metadata": {},
   "outputs": [
    {
     "name": "stdout",
     "output_type": "stream",
     "text": [
      "MetaData(bind=None)\n"
     ]
    }
   ],
   "source": [
    "print(metadata)"
   ]
  },
  {
   "cell_type": "markdown",
   "metadata": {},
   "source": [
    "## insert"
   ]
  },
  {
   "cell_type": "code",
   "execution_count": 11,
   "metadata": {},
   "outputs": [
    {
     "data": {
      "text/plain": [
       "<sqlalchemy.sql.dml.Insert object at 0x000002CFA38CBA20>"
      ]
     },
     "execution_count": 11,
     "metadata": {},
     "output_type": "execute_result"
    }
   ],
   "source": [
    "users.insert() # spl이 아니다 오브젝트 "
   ]
  },
  {
   "cell_type": "code",
   "execution_count": 12,
   "metadata": {},
   "outputs": [
    {
     "name": "stdout",
     "output_type": "stream",
     "text": [
      "INSERT INTO users (id, name, fullname) VALUES (:id, :name, :fullname)\n"
     ]
    }
   ],
   "source": [
    "print(users.insert())"
   ]
  },
  {
   "cell_type": "code",
   "execution_count": 31,
   "metadata": {},
   "outputs": [
    {
     "name": "stdout",
     "output_type": "stream",
     "text": [
      "INSERT INTO users (name, fullname) VALUES (:name, :fullname)\n"
     ]
    }
   ],
   "source": [
    "print(users.insert().values(name=\"kim\", fullname=\"Anonymous, Kim\")) # table에있는 어트리뷰트가 아니라 인스턴스 변수"
   ]
  },
  {
   "cell_type": "code",
   "execution_count": 15,
   "metadata": {},
   "outputs": [
    {
     "data": {
      "text/plain": [
       "{'fullname': 'Anonymous, Kim', 'name': 'kim'}"
      ]
     },
     "execution_count": 15,
     "metadata": {},
     "output_type": "execute_result"
    }
   ],
   "source": [
    "insert = users.insert().values(name=\"kim\", fullname=\"Anonymous, Kim\")\n",
    "insert.compile().params #Compile this SQL expression\n",
    "\n",
    "# Return value is a Compiled object\n",
    "# Compiled object also can return a dictionary of bind parameter names and values using the params accessor\n",
    "# binding"
   ]
  },
  {
   "cell_type": "code",
   "execution_count": 78,
   "metadata": {},
   "outputs": [],
   "source": [
    "insert.bind = engine"
   ]
  },
  {
   "cell_type": "code",
   "execution_count": 81,
   "metadata": {},
   "outputs": [
    {
     "name": "stdout",
     "output_type": "stream",
     "text": [
      "Engine(sqlite://)\n"
     ]
    }
   ],
   "source": [
    "print(insert.bind)"
   ]
  },
  {
   "cell_type": "code",
   "execution_count": 33,
   "metadata": {},
   "outputs": [
    {
     "name": "stdout",
     "output_type": "stream",
     "text": [
      "INSERT INTO users (name, fullname) VALUES (:name, :fullname)\n"
     ]
    }
   ],
   "source": [
    "print(insert)"
   ]
  },
  {
   "cell_type": "code",
   "execution_count": 13,
   "metadata": {},
   "outputs": [
    {
     "name": "stdout",
     "output_type": "stream",
     "text": [
      "2018-08-09 01:04:49,166 INFO sqlalchemy.engine.base.Engine SELECT CAST('test plain returns' AS VARCHAR(60)) AS anon_1\n",
      "2018-08-09 01:04:49,167 INFO sqlalchemy.engine.base.Engine ()\n",
      "2018-08-09 01:04:49,170 INFO sqlalchemy.engine.base.Engine SELECT CAST('test unicode returns' AS VARCHAR(60)) AS anon_1\n",
      "2018-08-09 01:04:49,171 INFO sqlalchemy.engine.base.Engine ()\n"
     ]
    }
   ],
   "source": [
    "con = engine.connect()\n",
    "# Provides high-level functionality for a wrapped DB-API connection\n",
    "# Provides execution support for string-based SQL statements as well as ClauseElement, Compiled and DefaultGenerator objects"
   ]
  },
  {
   "cell_type": "code",
   "execution_count": 16,
   "metadata": {},
   "outputs": [
    {
     "name": "stdout",
     "output_type": "stream",
     "text": [
      "2018-08-09 01:05:04,741 INFO sqlalchemy.engine.base.Engine INSERT INTO users (name, fullname) VALUES (?, ?)\n",
      "2018-08-09 01:05:04,742 INFO sqlalchemy.engine.base.Engine ('kim', 'Anonymous, Kim')\n",
      "2018-08-09 01:05:04,745 INFO sqlalchemy.engine.base.Engine ROLLBACK\n"
     ]
    },
    {
     "ename": "OperationalError",
     "evalue": "(sqlite3.OperationalError) no such table: users [SQL: 'INSERT INTO users (name, fullname) VALUES (?, ?)'] [parameters: ('kim', 'Anonymous, Kim')] (Background on this error at: http://sqlalche.me/e/e3q8)",
     "output_type": "error",
     "traceback": [
      "\u001b[1;31m---------------------------------------------------------------------------\u001b[0m",
      "\u001b[1;31mOperationalError\u001b[0m                          Traceback (most recent call last)",
      "\u001b[1;32mC:\\ProgramData\\Anaconda3\\lib\\site-packages\\sqlalchemy\\engine\\base.py\u001b[0m in \u001b[0;36m_execute_context\u001b[1;34m(self, dialect, constructor, statement, parameters, *args)\u001b[0m\n\u001b[0;32m   1192\u001b[0m                         \u001b[0mparameters\u001b[0m\u001b[1;33m,\u001b[0m\u001b[1;33m\u001b[0m\u001b[0m\n\u001b[1;32m-> 1193\u001b[1;33m                         context)\n\u001b[0m\u001b[0;32m   1194\u001b[0m         \u001b[1;32mexcept\u001b[0m \u001b[0mBaseException\u001b[0m \u001b[1;32mas\u001b[0m \u001b[0me\u001b[0m\u001b[1;33m:\u001b[0m\u001b[1;33m\u001b[0m\u001b[0m\n",
      "\u001b[1;32mC:\\ProgramData\\Anaconda3\\lib\\site-packages\\sqlalchemy\\engine\\default.py\u001b[0m in \u001b[0;36mdo_execute\u001b[1;34m(self, cursor, statement, parameters, context)\u001b[0m\n\u001b[0;32m    506\u001b[0m     \u001b[1;32mdef\u001b[0m \u001b[0mdo_execute\u001b[0m\u001b[1;33m(\u001b[0m\u001b[0mself\u001b[0m\u001b[1;33m,\u001b[0m \u001b[0mcursor\u001b[0m\u001b[1;33m,\u001b[0m \u001b[0mstatement\u001b[0m\u001b[1;33m,\u001b[0m \u001b[0mparameters\u001b[0m\u001b[1;33m,\u001b[0m \u001b[0mcontext\u001b[0m\u001b[1;33m=\u001b[0m\u001b[1;32mNone\u001b[0m\u001b[1;33m)\u001b[0m\u001b[1;33m:\u001b[0m\u001b[1;33m\u001b[0m\u001b[0m\n\u001b[1;32m--> 507\u001b[1;33m         \u001b[0mcursor\u001b[0m\u001b[1;33m.\u001b[0m\u001b[0mexecute\u001b[0m\u001b[1;33m(\u001b[0m\u001b[0mstatement\u001b[0m\u001b[1;33m,\u001b[0m \u001b[0mparameters\u001b[0m\u001b[1;33m)\u001b[0m\u001b[1;33m\u001b[0m\u001b[0m\n\u001b[0m\u001b[0;32m    508\u001b[0m \u001b[1;33m\u001b[0m\u001b[0m\n",
      "\u001b[1;31mOperationalError\u001b[0m: no such table: users",
      "\nThe above exception was the direct cause of the following exception:\n",
      "\u001b[1;31mOperationalError\u001b[0m                          Traceback (most recent call last)",
      "\u001b[1;32m<ipython-input-16-ee35e040bc30>\u001b[0m in \u001b[0;36m<module>\u001b[1;34m()\u001b[0m\n\u001b[1;32m----> 1\u001b[1;33m \u001b[0mresult\u001b[0m \u001b[1;33m=\u001b[0m \u001b[0mcon\u001b[0m\u001b[1;33m.\u001b[0m\u001b[0mexecute\u001b[0m\u001b[1;33m(\u001b[0m\u001b[0minsert\u001b[0m\u001b[1;33m)\u001b[0m\u001b[1;33m\u001b[0m\u001b[0m\n\u001b[0m\u001b[0;32m      2\u001b[0m \u001b[1;31m#Executes a SQL statement construct and returns a ResultProxy\u001b[0m\u001b[1;33m\u001b[0m\u001b[1;33m\u001b[0m\u001b[0m\n\u001b[0;32m      3\u001b[0m \u001b[1;33m\u001b[0m\u001b[0m\n\u001b[0;32m      4\u001b[0m \u001b[1;31m# ResultProxy\u001b[0m\u001b[1;33m\u001b[0m\u001b[1;33m\u001b[0m\u001b[0m\n\u001b[0;32m      5\u001b[0m \u001b[1;31m# Wraps a DB-API cursor object to provide easier access to row columns\u001b[0m\u001b[1;33m\u001b[0m\u001b[1;33m\u001b[0m\u001b[0m\n",
      "\u001b[1;32mC:\\ProgramData\\Anaconda3\\lib\\site-packages\\sqlalchemy\\engine\\base.py\u001b[0m in \u001b[0;36mexecute\u001b[1;34m(self, object, *multiparams, **params)\u001b[0m\n\u001b[0;32m    946\u001b[0m             \u001b[1;32mraise\u001b[0m \u001b[0mexc\u001b[0m\u001b[1;33m.\u001b[0m\u001b[0mObjectNotExecutableError\u001b[0m\u001b[1;33m(\u001b[0m\u001b[0mobject\u001b[0m\u001b[1;33m)\u001b[0m\u001b[1;33m\u001b[0m\u001b[0m\n\u001b[0;32m    947\u001b[0m         \u001b[1;32melse\u001b[0m\u001b[1;33m:\u001b[0m\u001b[1;33m\u001b[0m\u001b[0m\n\u001b[1;32m--> 948\u001b[1;33m             \u001b[1;32mreturn\u001b[0m \u001b[0mmeth\u001b[0m\u001b[1;33m(\u001b[0m\u001b[0mself\u001b[0m\u001b[1;33m,\u001b[0m \u001b[0mmultiparams\u001b[0m\u001b[1;33m,\u001b[0m \u001b[0mparams\u001b[0m\u001b[1;33m)\u001b[0m\u001b[1;33m\u001b[0m\u001b[0m\n\u001b[0m\u001b[0;32m    949\u001b[0m \u001b[1;33m\u001b[0m\u001b[0m\n\u001b[0;32m    950\u001b[0m     \u001b[1;32mdef\u001b[0m \u001b[0m_execute_function\u001b[0m\u001b[1;33m(\u001b[0m\u001b[0mself\u001b[0m\u001b[1;33m,\u001b[0m \u001b[0mfunc\u001b[0m\u001b[1;33m,\u001b[0m \u001b[0mmultiparams\u001b[0m\u001b[1;33m,\u001b[0m \u001b[0mparams\u001b[0m\u001b[1;33m)\u001b[0m\u001b[1;33m:\u001b[0m\u001b[1;33m\u001b[0m\u001b[0m\n",
      "\u001b[1;32mC:\\ProgramData\\Anaconda3\\lib\\site-packages\\sqlalchemy\\sql\\elements.py\u001b[0m in \u001b[0;36m_execute_on_connection\u001b[1;34m(self, connection, multiparams, params)\u001b[0m\n\u001b[0;32m    267\u001b[0m     \u001b[1;32mdef\u001b[0m \u001b[0m_execute_on_connection\u001b[0m\u001b[1;33m(\u001b[0m\u001b[0mself\u001b[0m\u001b[1;33m,\u001b[0m \u001b[0mconnection\u001b[0m\u001b[1;33m,\u001b[0m \u001b[0mmultiparams\u001b[0m\u001b[1;33m,\u001b[0m \u001b[0mparams\u001b[0m\u001b[1;33m)\u001b[0m\u001b[1;33m:\u001b[0m\u001b[1;33m\u001b[0m\u001b[0m\n\u001b[0;32m    268\u001b[0m         \u001b[1;32mif\u001b[0m \u001b[0mself\u001b[0m\u001b[1;33m.\u001b[0m\u001b[0msupports_execution\u001b[0m\u001b[1;33m:\u001b[0m\u001b[1;33m\u001b[0m\u001b[0m\n\u001b[1;32m--> 269\u001b[1;33m             \u001b[1;32mreturn\u001b[0m \u001b[0mconnection\u001b[0m\u001b[1;33m.\u001b[0m\u001b[0m_execute_clauseelement\u001b[0m\u001b[1;33m(\u001b[0m\u001b[0mself\u001b[0m\u001b[1;33m,\u001b[0m \u001b[0mmultiparams\u001b[0m\u001b[1;33m,\u001b[0m \u001b[0mparams\u001b[0m\u001b[1;33m)\u001b[0m\u001b[1;33m\u001b[0m\u001b[0m\n\u001b[0m\u001b[0;32m    270\u001b[0m         \u001b[1;32melse\u001b[0m\u001b[1;33m:\u001b[0m\u001b[1;33m\u001b[0m\u001b[0m\n\u001b[0;32m    271\u001b[0m             \u001b[1;32mraise\u001b[0m \u001b[0mexc\u001b[0m\u001b[1;33m.\u001b[0m\u001b[0mObjectNotExecutableError\u001b[0m\u001b[1;33m(\u001b[0m\u001b[0mself\u001b[0m\u001b[1;33m)\u001b[0m\u001b[1;33m\u001b[0m\u001b[0m\n",
      "\u001b[1;32mC:\\ProgramData\\Anaconda3\\lib\\site-packages\\sqlalchemy\\engine\\base.py\u001b[0m in \u001b[0;36m_execute_clauseelement\u001b[1;34m(self, elem, multiparams, params)\u001b[0m\n\u001b[0;32m   1058\u001b[0m             \u001b[0mcompiled_sql\u001b[0m\u001b[1;33m,\u001b[0m\u001b[1;33m\u001b[0m\u001b[0m\n\u001b[0;32m   1059\u001b[0m             \u001b[0mdistilled_params\u001b[0m\u001b[1;33m,\u001b[0m\u001b[1;33m\u001b[0m\u001b[0m\n\u001b[1;32m-> 1060\u001b[1;33m             \u001b[0mcompiled_sql\u001b[0m\u001b[1;33m,\u001b[0m \u001b[0mdistilled_params\u001b[0m\u001b[1;33m\u001b[0m\u001b[0m\n\u001b[0m\u001b[0;32m   1061\u001b[0m         )\n\u001b[0;32m   1062\u001b[0m         \u001b[1;32mif\u001b[0m \u001b[0mself\u001b[0m\u001b[1;33m.\u001b[0m\u001b[0m_has_events\u001b[0m \u001b[1;32mor\u001b[0m \u001b[0mself\u001b[0m\u001b[1;33m.\u001b[0m\u001b[0mengine\u001b[0m\u001b[1;33m.\u001b[0m\u001b[0m_has_events\u001b[0m\u001b[1;33m:\u001b[0m\u001b[1;33m\u001b[0m\u001b[0m\n",
      "\u001b[1;32mC:\\ProgramData\\Anaconda3\\lib\\site-packages\\sqlalchemy\\engine\\base.py\u001b[0m in \u001b[0;36m_execute_context\u001b[1;34m(self, dialect, constructor, statement, parameters, *args)\u001b[0m\n\u001b[0;32m   1198\u001b[0m                 \u001b[0mparameters\u001b[0m\u001b[1;33m,\u001b[0m\u001b[1;33m\u001b[0m\u001b[0m\n\u001b[0;32m   1199\u001b[0m                 \u001b[0mcursor\u001b[0m\u001b[1;33m,\u001b[0m\u001b[1;33m\u001b[0m\u001b[0m\n\u001b[1;32m-> 1200\u001b[1;33m                 context)\n\u001b[0m\u001b[0;32m   1201\u001b[0m \u001b[1;33m\u001b[0m\u001b[0m\n\u001b[0;32m   1202\u001b[0m         \u001b[1;32mif\u001b[0m \u001b[0mself\u001b[0m\u001b[1;33m.\u001b[0m\u001b[0m_has_events\u001b[0m \u001b[1;32mor\u001b[0m \u001b[0mself\u001b[0m\u001b[1;33m.\u001b[0m\u001b[0mengine\u001b[0m\u001b[1;33m.\u001b[0m\u001b[0m_has_events\u001b[0m\u001b[1;33m:\u001b[0m\u001b[1;33m\u001b[0m\u001b[0m\n",
      "\u001b[1;32mC:\\ProgramData\\Anaconda3\\lib\\site-packages\\sqlalchemy\\engine\\base.py\u001b[0m in \u001b[0;36m_handle_dbapi_exception\u001b[1;34m(self, e, statement, parameters, cursor, context)\u001b[0m\n\u001b[0;32m   1411\u001b[0m                 util.raise_from_cause(\n\u001b[0;32m   1412\u001b[0m                     \u001b[0msqlalchemy_exception\u001b[0m\u001b[1;33m,\u001b[0m\u001b[1;33m\u001b[0m\u001b[0m\n\u001b[1;32m-> 1413\u001b[1;33m                     \u001b[0mexc_info\u001b[0m\u001b[1;33m\u001b[0m\u001b[0m\n\u001b[0m\u001b[0;32m   1414\u001b[0m                 )\n\u001b[0;32m   1415\u001b[0m             \u001b[1;32melse\u001b[0m\u001b[1;33m:\u001b[0m\u001b[1;33m\u001b[0m\u001b[0m\n",
      "\u001b[1;32mC:\\ProgramData\\Anaconda3\\lib\\site-packages\\sqlalchemy\\util\\compat.py\u001b[0m in \u001b[0;36mraise_from_cause\u001b[1;34m(exception, exc_info)\u001b[0m\n\u001b[0;32m    201\u001b[0m     \u001b[0mexc_type\u001b[0m\u001b[1;33m,\u001b[0m \u001b[0mexc_value\u001b[0m\u001b[1;33m,\u001b[0m \u001b[0mexc_tb\u001b[0m \u001b[1;33m=\u001b[0m \u001b[0mexc_info\u001b[0m\u001b[1;33m\u001b[0m\u001b[0m\n\u001b[0;32m    202\u001b[0m     \u001b[0mcause\u001b[0m \u001b[1;33m=\u001b[0m \u001b[0mexc_value\u001b[0m \u001b[1;32mif\u001b[0m \u001b[0mexc_value\u001b[0m \u001b[1;32mis\u001b[0m \u001b[1;32mnot\u001b[0m \u001b[0mexception\u001b[0m \u001b[1;32melse\u001b[0m \u001b[1;32mNone\u001b[0m\u001b[1;33m\u001b[0m\u001b[0m\n\u001b[1;32m--> 203\u001b[1;33m     \u001b[0mreraise\u001b[0m\u001b[1;33m(\u001b[0m\u001b[0mtype\u001b[0m\u001b[1;33m(\u001b[0m\u001b[0mexception\u001b[0m\u001b[1;33m)\u001b[0m\u001b[1;33m,\u001b[0m \u001b[0mexception\u001b[0m\u001b[1;33m,\u001b[0m \u001b[0mtb\u001b[0m\u001b[1;33m=\u001b[0m\u001b[0mexc_tb\u001b[0m\u001b[1;33m,\u001b[0m \u001b[0mcause\u001b[0m\u001b[1;33m=\u001b[0m\u001b[0mcause\u001b[0m\u001b[1;33m)\u001b[0m\u001b[1;33m\u001b[0m\u001b[0m\n\u001b[0m\u001b[0;32m    204\u001b[0m \u001b[1;33m\u001b[0m\u001b[0m\n\u001b[0;32m    205\u001b[0m \u001b[1;32mif\u001b[0m \u001b[0mpy3k\u001b[0m\u001b[1;33m:\u001b[0m\u001b[1;33m\u001b[0m\u001b[0m\n",
      "\u001b[1;32mC:\\ProgramData\\Anaconda3\\lib\\site-packages\\sqlalchemy\\util\\compat.py\u001b[0m in \u001b[0;36mreraise\u001b[1;34m(tp, value, tb, cause)\u001b[0m\n\u001b[0;32m    184\u001b[0m             \u001b[0mvalue\u001b[0m\u001b[1;33m.\u001b[0m\u001b[0m__cause__\u001b[0m \u001b[1;33m=\u001b[0m \u001b[0mcause\u001b[0m\u001b[1;33m\u001b[0m\u001b[0m\n\u001b[0;32m    185\u001b[0m         \u001b[1;32mif\u001b[0m \u001b[0mvalue\u001b[0m\u001b[1;33m.\u001b[0m\u001b[0m__traceback__\u001b[0m \u001b[1;32mis\u001b[0m \u001b[1;32mnot\u001b[0m \u001b[0mtb\u001b[0m\u001b[1;33m:\u001b[0m\u001b[1;33m\u001b[0m\u001b[0m\n\u001b[1;32m--> 186\u001b[1;33m             \u001b[1;32mraise\u001b[0m \u001b[0mvalue\u001b[0m\u001b[1;33m.\u001b[0m\u001b[0mwith_traceback\u001b[0m\u001b[1;33m(\u001b[0m\u001b[0mtb\u001b[0m\u001b[1;33m)\u001b[0m\u001b[1;33m\u001b[0m\u001b[0m\n\u001b[0m\u001b[0;32m    187\u001b[0m         \u001b[1;32mraise\u001b[0m \u001b[0mvalue\u001b[0m\u001b[1;33m\u001b[0m\u001b[0m\n\u001b[0;32m    188\u001b[0m \u001b[1;33m\u001b[0m\u001b[0m\n",
      "\u001b[1;32mC:\\ProgramData\\Anaconda3\\lib\\site-packages\\sqlalchemy\\engine\\base.py\u001b[0m in \u001b[0;36m_execute_context\u001b[1;34m(self, dialect, constructor, statement, parameters, *args)\u001b[0m\n\u001b[0;32m   1191\u001b[0m                         \u001b[0mstatement\u001b[0m\u001b[1;33m,\u001b[0m\u001b[1;33m\u001b[0m\u001b[0m\n\u001b[0;32m   1192\u001b[0m                         \u001b[0mparameters\u001b[0m\u001b[1;33m,\u001b[0m\u001b[1;33m\u001b[0m\u001b[0m\n\u001b[1;32m-> 1193\u001b[1;33m                         context)\n\u001b[0m\u001b[0;32m   1194\u001b[0m         \u001b[1;32mexcept\u001b[0m \u001b[0mBaseException\u001b[0m \u001b[1;32mas\u001b[0m \u001b[0me\u001b[0m\u001b[1;33m:\u001b[0m\u001b[1;33m\u001b[0m\u001b[0m\n\u001b[0;32m   1195\u001b[0m             self._handle_dbapi_exception(\n",
      "\u001b[1;32mC:\\ProgramData\\Anaconda3\\lib\\site-packages\\sqlalchemy\\engine\\default.py\u001b[0m in \u001b[0;36mdo_execute\u001b[1;34m(self, cursor, statement, parameters, context)\u001b[0m\n\u001b[0;32m    505\u001b[0m \u001b[1;33m\u001b[0m\u001b[0m\n\u001b[0;32m    506\u001b[0m     \u001b[1;32mdef\u001b[0m \u001b[0mdo_execute\u001b[0m\u001b[1;33m(\u001b[0m\u001b[0mself\u001b[0m\u001b[1;33m,\u001b[0m \u001b[0mcursor\u001b[0m\u001b[1;33m,\u001b[0m \u001b[0mstatement\u001b[0m\u001b[1;33m,\u001b[0m \u001b[0mparameters\u001b[0m\u001b[1;33m,\u001b[0m \u001b[0mcontext\u001b[0m\u001b[1;33m=\u001b[0m\u001b[1;32mNone\u001b[0m\u001b[1;33m)\u001b[0m\u001b[1;33m:\u001b[0m\u001b[1;33m\u001b[0m\u001b[0m\n\u001b[1;32m--> 507\u001b[1;33m         \u001b[0mcursor\u001b[0m\u001b[1;33m.\u001b[0m\u001b[0mexecute\u001b[0m\u001b[1;33m(\u001b[0m\u001b[0mstatement\u001b[0m\u001b[1;33m,\u001b[0m \u001b[0mparameters\u001b[0m\u001b[1;33m)\u001b[0m\u001b[1;33m\u001b[0m\u001b[0m\n\u001b[0m\u001b[0;32m    508\u001b[0m \u001b[1;33m\u001b[0m\u001b[0m\n\u001b[0;32m    509\u001b[0m     \u001b[1;32mdef\u001b[0m \u001b[0mdo_execute_no_params\u001b[0m\u001b[1;33m(\u001b[0m\u001b[0mself\u001b[0m\u001b[1;33m,\u001b[0m \u001b[0mcursor\u001b[0m\u001b[1;33m,\u001b[0m \u001b[0mstatement\u001b[0m\u001b[1;33m,\u001b[0m \u001b[0mcontext\u001b[0m\u001b[1;33m=\u001b[0m\u001b[1;32mNone\u001b[0m\u001b[1;33m)\u001b[0m\u001b[1;33m:\u001b[0m\u001b[1;33m\u001b[0m\u001b[0m\n",
      "\u001b[1;31mOperationalError\u001b[0m: (sqlite3.OperationalError) no such table: users [SQL: 'INSERT INTO users (name, fullname) VALUES (?, ?)'] [parameters: ('kim', 'Anonymous, Kim')] (Background on this error at: http://sqlalche.me/e/e3q8)"
     ]
    }
   ],
   "source": [
    "result = con.execute(insert)\n",
    "#Executes a SQL statement construct and returns a ResultProxy\n",
    "\n",
    "# ResultProxy\n",
    "# Wraps a DB-API cursor object to provide easier access to row columns\n",
    "                "
   ]
  },
  {
   "cell_type": "code",
   "execution_count": 36,
   "metadata": {},
   "outputs": [
    {
     "data": {
      "text/plain": [
       "[1]"
      ]
     },
     "execution_count": 36,
     "metadata": {},
     "output_type": "execute_result"
    }
   ],
   "source": [
    "result.inserted_primary_key # 데이터 넣은거"
   ]
  },
  {
   "cell_type": "code",
   "execution_count": 37,
   "metadata": {},
   "outputs": [],
   "source": [
    "insert = users.insert() # table 객체를 받아옴 "
   ]
  },
  {
   "cell_type": "code",
   "execution_count": 38,
   "metadata": {},
   "outputs": [
    {
     "name": "stdout",
     "output_type": "stream",
     "text": [
      "2018-07-18 21:44:22,467 INFO sqlalchemy.engine.base.Engine INSERT INTO users (name, fullname) VALUES (?, ?)\n",
      "2018-07-18 21:44:22,468 INFO sqlalchemy.engine.base.Engine ('lee', 'Unknown, Lee')\n",
      "2018-07-18 21:44:22,471 INFO sqlalchemy.engine.base.Engine COMMIT\n"
     ]
    },
    {
     "data": {
      "text/plain": [
       "<sqlalchemy.engine.result.ResultProxy at 0x1dcc72f17f0>"
      ]
     },
     "execution_count": 38,
     "metadata": {},
     "output_type": "execute_result"
    }
   ],
   "source": [
    "con.execute(insert, name = \"lee\", fullname= \"Unknown, Lee\")"
   ]
  },
  {
   "cell_type": "code",
   "execution_count": 39,
   "metadata": {},
   "outputs": [
    {
     "name": "stdout",
     "output_type": "stream",
     "text": [
      "2018-07-18 21:44:24,044 INFO sqlalchemy.engine.base.Engine INSERT INTO users (name, fullname) VALUES (?, ?)\n",
      "2018-07-18 21:44:24,046 INFO sqlalchemy.engine.base.Engine ('xxx', 'xxx, xxx')\n",
      "2018-07-18 21:44:24,048 INFO sqlalchemy.engine.base.Engine COMMIT\n"
     ]
    }
   ],
   "source": [
    "result = con.execute(insert, name = \"xxx\", fullname=\"xxx, xxx\")"
   ]
  },
  {
   "cell_type": "code",
   "execution_count": 40,
   "metadata": {},
   "outputs": [
    {
     "data": {
      "text/plain": [
       "[3]"
      ]
     },
     "execution_count": 40,
     "metadata": {},
     "output_type": "execute_result"
    }
   ],
   "source": [
    "result.inserted_primary_key # pk return "
   ]
  },
  {
   "cell_type": "code",
   "execution_count": 41,
   "metadata": {},
   "outputs": [
    {
     "name": "stdout",
     "output_type": "stream",
     "text": [
      "2018-07-18 21:44:26,069 INFO sqlalchemy.engine.base.Engine INSERT INTO adresses (user_id, email_address) VALUES (?, ?)\n",
      "2018-07-18 21:44:26,071 INFO sqlalchemy.engine.base.Engine ((1, 'anonymous.kim@test.com'), (2, 'anonymous.lee@test.com'))\n",
      "2018-07-18 21:44:26,074 INFO sqlalchemy.engine.base.Engine COMMIT\n"
     ]
    },
    {
     "data": {
      "text/plain": [
       "<sqlalchemy.engine.result.ResultProxy at 0x1dcc72f1e48>"
      ]
     },
     "execution_count": 41,
     "metadata": {},
     "output_type": "execute_result"
    }
   ],
   "source": [
    "con.execute(addresses.insert(), [\n",
    "    {'user_id':1, 'email_address':'anonymous.kim@test.com'},\n",
    "    {'user_id':2, 'email_address':'anonymous.lee@test.com'}    \n",
    "])"
   ]
  },
  {
   "cell_type": "markdown",
   "metadata": {},
   "source": [
    "## select"
   ]
  },
  {
   "cell_type": "code",
   "execution_count": 42,
   "metadata": {},
   "outputs": [],
   "source": [
    "from sqlalchemy.sql import select # 하지만 그냥 select할경우 쿼리문으로해두 상관 없긴해"
   ]
  },
  {
   "cell_type": "code",
   "execution_count": 43,
   "metadata": {},
   "outputs": [],
   "source": [
    "query = select([users]) # 객체를 통째로 넣기위해서 list"
   ]
  },
  {
   "cell_type": "code",
   "execution_count": 44,
   "metadata": {},
   "outputs": [
    {
     "name": "stdout",
     "output_type": "stream",
     "text": [
      "SELECT users.id, users.name, users.fullname \n",
      "FROM users\n"
     ]
    }
   ],
   "source": [
    "print(query)"
   ]
  },
  {
   "cell_type": "code",
   "execution_count": 45,
   "metadata": {},
   "outputs": [
    {
     "name": "stdout",
     "output_type": "stream",
     "text": [
      "2018-07-18 21:44:29,217 INFO sqlalchemy.engine.base.Engine SELECT users.id, users.name, users.fullname \n",
      "FROM users\n",
      "2018-07-18 21:44:29,218 INFO sqlalchemy.engine.base.Engine ()\n"
     ]
    }
   ],
   "source": [
    "result = con.execute(query)"
   ]
  },
  {
   "cell_type": "code",
   "execution_count": 46,
   "metadata": {},
   "outputs": [
    {
     "name": "stdout",
     "output_type": "stream",
     "text": [
      "(1, 'kim', 'Anonymous, Kim')\n",
      "(2, 'lee', 'Unknown, Lee')\n",
      "(3, 'xxx', 'xxx, xxx')\n"
     ]
    }
   ],
   "source": [
    "for row in result:\n",
    "    print(row)"
   ]
  },
  {
   "cell_type": "code",
   "execution_count": 47,
   "metadata": {},
   "outputs": [],
   "source": [
    "row = result.fetchone() #제너레이터"
   ]
  },
  {
   "cell_type": "code",
   "execution_count": 48,
   "metadata": {},
   "outputs": [
    {
     "name": "stdout",
     "output_type": "stream",
     "text": [
      "None\n"
     ]
    }
   ],
   "source": [
    "print(row) "
   ]
  },
  {
   "cell_type": "code",
   "execution_count": 49,
   "metadata": {},
   "outputs": [],
   "source": [
    "rows = result.fetchall()"
   ]
  },
  {
   "cell_type": "code",
   "execution_count": 50,
   "metadata": {},
   "outputs": [],
   "source": [
    "for row in rows:\n",
    "    print(row[0], row[1], row[2])"
   ]
  },
  {
   "cell_type": "code",
   "execution_count": 51,
   "metadata": {},
   "outputs": [
    {
     "name": "stdout",
     "output_type": "stream",
     "text": [
      "2018-07-18 21:44:33,887 INFO sqlalchemy.engine.base.Engine SELECT users.name, users.fullname \n",
      "FROM users\n",
      "2018-07-18 21:44:33,888 INFO sqlalchemy.engine.base.Engine ()\n"
     ]
    }
   ],
   "source": [
    "result = con.execute(select([users.c.name, users.c.fullname])) # Column 안에 인스턴스 이기 때문에 c 안"
   ]
  },
  {
   "cell_type": "code",
   "execution_count": 52,
   "metadata": {},
   "outputs": [
    {
     "name": "stdout",
     "output_type": "stream",
     "text": [
      "('kim', 'Anonymous, Kim')\n",
      "('lee', 'Unknown, Lee')\n",
      "('xxx', 'xxx, xxx')\n"
     ]
    }
   ],
   "source": [
    "for row in result:\n",
    "    print(row)"
   ]
  },
  {
   "cell_type": "code",
   "execution_count": 53,
   "metadata": {},
   "outputs": [
    {
     "name": "stdout",
     "output_type": "stream",
     "text": [
      "2018-07-18 21:44:35,114 INFO sqlalchemy.engine.base.Engine SELECT users.id, users.name, users.fullname, adresses.id, adresses.user_id, adresses.email_address \n",
      "FROM users, adresses\n",
      "2018-07-18 21:44:35,115 INFO sqlalchemy.engine.base.Engine ()\n"
     ]
    }
   ],
   "source": [
    "result = con.execute(select([users, addresses]))"
   ]
  },
  {
   "cell_type": "code",
   "execution_count": 54,
   "metadata": {},
   "outputs": [
    {
     "name": "stdout",
     "output_type": "stream",
     "text": [
      "(1, 'kim', 'Anonymous, Kim', 1, 1, 'anonymous.kim@test.com')\n",
      "(1, 'kim', 'Anonymous, Kim', 2, 2, 'anonymous.lee@test.com')\n",
      "(2, 'lee', 'Unknown, Lee', 1, 1, 'anonymous.kim@test.com')\n",
      "(2, 'lee', 'Unknown, Lee', 2, 2, 'anonymous.lee@test.com')\n",
      "(3, 'xxx', 'xxx, xxx', 1, 1, 'anonymous.kim@test.com')\n",
      "(3, 'xxx', 'xxx, xxx', 2, 2, 'anonymous.lee@test.com')\n"
     ]
    }
   ],
   "source": [
    "for row in result:\n",
    "    print(row)"
   ]
  },
  {
   "cell_type": "markdown",
   "metadata": {},
   "source": [
    "## Conjections"
   ]
  },
  {
   "cell_type": "code",
   "execution_count": 55,
   "metadata": {},
   "outputs": [],
   "source": [
    "from sqlalchemy import and_, or_, not_"
   ]
  },
  {
   "cell_type": "code",
   "execution_count": 56,
   "metadata": {},
   "outputs": [
    {
     "name": "stdout",
     "output_type": "stream",
     "text": [
      "users.id = adresses.user_id\n"
     ]
    }
   ],
   "source": [
    "print(users.c.id == addresses.c.user_id)"
   ]
  },
  {
   "cell_type": "code",
   "execution_count": 57,
   "metadata": {},
   "outputs": [
    {
     "name": "stdout",
     "output_type": "stream",
     "text": [
      "users.id = adresses.user_id OR users.id = :id_1\n"
     ]
    }
   ],
   "source": [
    "print(or_(users.c.id == addresses.c.user_id, users.c.id == 1))"
   ]
  },
  {
   "cell_type": "code",
   "execution_count": 58,
   "metadata": {},
   "outputs": [
    {
     "name": "stdout",
     "output_type": "stream",
     "text": [
      "users.id = (adresses.user_id OR users.id = :id_1)\n"
     ]
    }
   ],
   "source": [
    "print(users.c.id == addresses.c.user_id | (users.c.id ==1 )) # 논리연산자로 가능"
   ]
  },
  {
   "cell_type": "code",
   "execution_count": 59,
   "metadata": {},
   "outputs": [
    {
     "name": "stdout",
     "output_type": "stream",
     "text": [
      "2018-07-18 21:44:39,409 INFO sqlalchemy.engine.base.Engine SELECT users.id, users.name, users.fullname \n",
      "FROM users \n",
      "WHERE users.id = ?\n",
      "2018-07-18 21:44:39,410 INFO sqlalchemy.engine.base.Engine (1,)\n"
     ]
    }
   ],
   "source": [
    "result = con.execute(select([users]).where(users.c.id ==1 ) ) # qmarker style"
   ]
  },
  {
   "cell_type": "code",
   "execution_count": 60,
   "metadata": {},
   "outputs": [
    {
     "name": "stdout",
     "output_type": "stream",
     "text": [
      "(1, 'kim', 'Anonymous, Kim')\n"
     ]
    }
   ],
   "source": [
    "for row in result:\n",
    "    print(row)"
   ]
  },
  {
   "cell_type": "code",
   "execution_count": 61,
   "metadata": {},
   "outputs": [
    {
     "name": "stdout",
     "output_type": "stream",
     "text": [
      "2018-07-18 21:44:40,441 INFO sqlalchemy.engine.base.Engine SELECT users.id, users.name, users.fullname, adresses.id, adresses.user_id, adresses.email_address \n",
      "FROM users, adresses \n",
      "WHERE users.id = adresses.user_id\n",
      "2018-07-18 21:44:40,442 INFO sqlalchemy.engine.base.Engine ()\n"
     ]
    }
   ],
   "source": [
    "result = con.execute(select([users, addresses]).where(users.c.id == addresses.c.user_id ) ) # inner join 형태로 만들기"
   ]
  },
  {
   "cell_type": "code",
   "execution_count": 62,
   "metadata": {},
   "outputs": [
    {
     "name": "stdout",
     "output_type": "stream",
     "text": [
      "(1, 'kim', 'Anonymous, Kim', 1, 1, 'anonymous.kim@test.com')\n",
      "(2, 'lee', 'Unknown, Lee', 2, 2, 'anonymous.lee@test.com')\n"
     ]
    }
   ],
   "source": [
    "for row in result:\n",
    "    print(row)"
   ]
  },
  {
   "cell_type": "code",
   "execution_count": 63,
   "metadata": {},
   "outputs": [
    {
     "name": "stdout",
     "output_type": "stream",
     "text": [
      "2018-07-18 21:44:41,571 INFO sqlalchemy.engine.base.Engine SELECT users.id, users.name, users.fullname \n",
      "FROM users \n",
      "WHERE users.name LIKE ?\n",
      "2018-07-18 21:44:41,572 INFO sqlalchemy.engine.base.Engine ('k%',)\n"
     ]
    }
   ],
   "source": [
    "result = con.execute(select([users]).where(users.c.name.like(\"k%\")))"
   ]
  },
  {
   "cell_type": "code",
   "execution_count": 64,
   "metadata": {},
   "outputs": [
    {
     "name": "stdout",
     "output_type": "stream",
     "text": [
      "(1, 'kim', 'Anonymous, Kim')\n"
     ]
    }
   ],
   "source": [
    "for row in result:\n",
    "    print(row)"
   ]
  },
  {
   "cell_type": "code",
   "execution_count": 65,
   "metadata": {},
   "outputs": [
    {
     "name": "stdout",
     "output_type": "stream",
     "text": [
      "2018-07-18 21:44:42,695 INFO sqlalchemy.engine.base.Engine SELECT users.id, users.name, users.fullname \n",
      "FROM users \n",
      "WHERE users.name LIKE ?\n",
      "2018-07-18 21:44:42,696 INFO sqlalchemy.engine.base.Engine ('%I%',)\n"
     ]
    }
   ],
   "source": [
    "result = con.execute(select([users]).where(users.c.name.like(\"%I%\")))"
   ]
  },
  {
   "cell_type": "code",
   "execution_count": 66,
   "metadata": {},
   "outputs": [
    {
     "name": "stdout",
     "output_type": "stream",
     "text": [
      "(1, 'kim', 'Anonymous, Kim')\n"
     ]
    }
   ],
   "source": [
    "for row in result:\n",
    "    print(row)"
   ]
  },
  {
   "cell_type": "code",
   "execution_count": 67,
   "metadata": {},
   "outputs": [
    {
     "name": "stdout",
     "output_type": "stream",
     "text": [
      "2018-07-18 21:44:44,558 INFO sqlalchemy.engine.base.Engine SELECT users.id, users.name, users.fullname, adresses.id, adresses.user_id, adresses.email_address \n",
      "FROM users, adresses \n",
      "WHERE users.id = adresses.user_id AND users.name LIKE ?\n",
      "2018-07-18 21:44:44,560 INFO sqlalchemy.engine.base.Engine ('k%',)\n"
     ]
    }
   ],
   "source": [
    "result = con.execute(select([users, addresses]).where(users.c.id == addresses.c.user_id).where(users.c.name.like(\"k%\")))"
   ]
  },
  {
   "cell_type": "code",
   "execution_count": 68,
   "metadata": {},
   "outputs": [
    {
     "name": "stdout",
     "output_type": "stream",
     "text": [
      "(1, 'kim', 'Anonymous, Kim', 1, 1, 'anonymous.kim@test.com')\n"
     ]
    }
   ],
   "source": [
    "for row in result:\n",
    "    print(row)"
   ]
  },
  {
   "cell_type": "markdown",
   "metadata": {},
   "source": [
    "##  join"
   ]
  },
  {
   "cell_type": "code",
   "execution_count": 69,
   "metadata": {},
   "outputs": [],
   "source": [
    "from sqlalchemy import join"
   ]
  },
  {
   "cell_type": "code",
   "execution_count": 70,
   "metadata": {},
   "outputs": [
    {
     "name": "stdout",
     "output_type": "stream",
     "text": [
      "users JOIN adresses ON users.id = adresses.user_id\n"
     ]
    }
   ],
   "source": [
    "print(users.join(addresses)) # 알아서; pk와 forinkey를 명시적으로 설정을 해줬기 때문에 "
   ]
  },
  {
   "cell_type": "code",
   "execution_count": 71,
   "metadata": {},
   "outputs": [
    {
     "name": "stdout",
     "output_type": "stream",
     "text": [
      "users JOIN adresses ON users.id = adresses.user_id\n"
     ]
    }
   ],
   "source": [
    "print(users.join(addresses, users.c.id == addresses.c.user_id))"
   ]
  },
  {
   "cell_type": "code",
   "execution_count": 72,
   "metadata": {},
   "outputs": [
    {
     "name": "stdout",
     "output_type": "stream",
     "text": [
      "2018-07-18 21:44:49,168 INFO sqlalchemy.engine.base.Engine SELECT users.id, users.name, users.fullname \n",
      "FROM users JOIN adresses ON users.id = adresses.user_id\n",
      "2018-07-18 21:44:49,170 INFO sqlalchemy.engine.base.Engine ()\n"
     ]
    }
   ],
   "source": [
    "result = con.execute(select([users]).select_from(users.join(addresses))) \n",
    "# pk와 fk를 설정해줬기 때문에 간단해 졌다\n",
    "# curspor값 받기"
   ]
  },
  {
   "cell_type": "code",
   "execution_count": 73,
   "metadata": {},
   "outputs": [
    {
     "name": "stdout",
     "output_type": "stream",
     "text": [
      "(1, 'kim', 'Anonymous, Kim')\n",
      "(2, 'lee', 'Unknown, Lee')\n"
     ]
    }
   ],
   "source": [
    "for row in result:\n",
    "    print(row) # inner join"
   ]
  },
  {
   "cell_type": "code",
   "execution_count": 74,
   "metadata": {},
   "outputs": [
    {
     "name": "stdout",
     "output_type": "stream",
     "text": [
      "2018-07-18 21:44:50,199 INFO sqlalchemy.engine.base.Engine SELECT users.name, adresses.email_address \n",
      "FROM users JOIN adresses ON users.id = adresses.user_id\n",
      "2018-07-18 21:44:50,201 INFO sqlalchemy.engine.base.Engine ()\n"
     ]
    }
   ],
   "source": [
    "result = con.execute(select([users.c.name, addresses.c.email_address]).select_from(users.join(addresses))) "
   ]
  },
  {
   "cell_type": "code",
   "execution_count": 75,
   "metadata": {},
   "outputs": [
    {
     "name": "stdout",
     "output_type": "stream",
     "text": [
      "('kim', 'anonymous.kim@test.com')\n",
      "('lee', 'anonymous.lee@test.com')\n"
     ]
    }
   ],
   "source": [
    "for row in result:\n",
    "    print(row) #reft outter join"
   ]
  },
  {
   "cell_type": "markdown",
   "metadata": {},
   "source": [
    "## create"
   ]
  },
  {
   "cell_type": "code",
   "execution_count": 76,
   "metadata": {},
   "outputs": [
    {
     "name": "stdout",
     "output_type": "stream",
     "text": [
      "2018-07-18 21:44:51,473 INFO sqlalchemy.engine.base.Engine PRAGMA table_info(\"users\")\n",
      "2018-07-18 21:44:51,474 INFO sqlalchemy.engine.base.Engine ()\n",
      "2018-07-18 21:44:51,476 INFO sqlalchemy.engine.base.Engine PRAGMA table_info(\"adresses\")\n",
      "2018-07-18 21:44:51,477 INFO sqlalchemy.engine.base.Engine ()\n",
      "2018-07-18 21:44:51,478 INFO sqlalchemy.engine.base.Engine PRAGMA table_info(\"Artist\")\n",
      "2018-07-18 21:44:51,479 INFO sqlalchemy.engine.base.Engine ()\n",
      "2018-07-18 21:44:51,481 INFO sqlalchemy.engine.base.Engine PRAGMA table_info(\"Album\")\n",
      "2018-07-18 21:44:51,482 INFO sqlalchemy.engine.base.Engine ()\n",
      "2018-07-18 21:44:51,483 INFO sqlalchemy.engine.base.Engine PRAGMA table_info(\"Genre\")\n",
      "2018-07-18 21:44:51,484 INFO sqlalchemy.engine.base.Engine ()\n",
      "2018-07-18 21:44:51,485 INFO sqlalchemy.engine.base.Engine PRAGMA table_info(\"track\")\n",
      "2018-07-18 21:44:51,486 INFO sqlalchemy.engine.base.Engine ()\n"
     ]
    }
   ],
   "source": [
    "artist = Table(\"Artist\", metadata, # rapper 안에 있어야한다.\n",
    "              Column('id', Integer, primary_key = True ),\n",
    "              Column('name', String, nullable=False),\n",
    "              extend_existing = True) # 기존에 있으면 덮어 씌어라\n",
    "\n",
    "album = Table('Album', metadata,\n",
    "             Column('id', Integer, primary_key=True),\n",
    "             Column('title' ,String, nullable=False),\n",
    "             Column('artist_id', Integer, ForeignKey('Artist.id')),\n",
    "             extend_existing=True)\n",
    "\n",
    "genre = Table('Genre', metadata,\n",
    "              Column('id',Integer, primary_key =True),\n",
    "              Column('name', String, nullable=False),\n",
    "              extend_existing=True)\n",
    "\n",
    "track = Table(\"track\", metadata,\n",
    "              Column('id', Integer, primary_key=True),\n",
    "              Column('title', String, nullable=False),\n",
    "              Column('length', Integer,nullable=False),\n",
    "              Column('rating', Integer, nullable=False),\n",
    "              Column('count', Integer, nullable=False),\n",
    "              Column('album_id', Integer, ForeignKey('Album.id')),\n",
    "              Column('genre_id', Integer, ForeignKey('Genre.id')),\n",
    "              extend_existing=True)\n",
    "\n",
    "metadata.create_all(engine)\n",
    "              "
   ]
  },
  {
   "cell_type": "code",
   "execution_count": 77,
   "metadata": {},
   "outputs": [
    {
     "data": {
      "text/plain": [
       "Table('Artist', MetaData(bind=None), Column('id', Integer(), table=<Artist>, primary_key=True, nullable=False), Column('name', String(), table=<Artist>, nullable=False), schema=None)"
      ]
     },
     "execution_count": 77,
     "metadata": {},
     "output_type": "execute_result"
    }
   ],
   "source": [
    "artist"
   ]
  },
  {
   "cell_type": "code",
   "execution_count": 78,
   "metadata": {},
   "outputs": [
    {
     "data": {
      "text/plain": [
       "immutabledict({'users': Table('users', MetaData(bind=None), Column('id', Integer(), table=<users>, primary_key=True, nullable=False), Column('name', String(), table=<users>), Column('fullname', String(), table=<users>), schema=None), 'adresses': Table('adresses', MetaData(bind=None), Column('id', Integer(), table=<adresses>, primary_key=True, nullable=False), Column('user_id', Integer(), ForeignKey('users.id'), table=<adresses>), Column('email_address', String(), table=<adresses>, nullable=False), schema=None), 'Artist': Table('Artist', MetaData(bind=None), Column('id', Integer(), table=<Artist>, primary_key=True, nullable=False), Column('name', String(), table=<Artist>, nullable=False), schema=None), 'Album': Table('Album', MetaData(bind=None), Column('id', Integer(), table=<Album>, primary_key=True, nullable=False), Column('title', String(), table=<Album>, nullable=False), Column('artist_id', Integer(), ForeignKey('Artist.id'), table=<Album>), schema=None), 'Genre': Table('Genre', MetaData(bind=None), Column('id', Integer(), table=<Genre>, primary_key=True, nullable=False), Column('name', String(), table=<Genre>, nullable=False), schema=None), 'track': Table('track', MetaData(bind=None), Column('id', Integer(), table=<track>, primary_key=True, nullable=False), Column('title', String(), table=<track>, nullable=False), Column('length', Integer(), table=<track>, nullable=False), Column('rating', Integer(), table=<track>, nullable=False), Column('count', Integer(), table=<track>, nullable=False), Column('album_id', Integer(), ForeignKey('Album.id'), table=<track>), Column('genre_id', Integer(), ForeignKey('Genre.id'), table=<track>), schema=None)})"
      ]
     },
     "execution_count": 78,
     "metadata": {},
     "output_type": "execute_result"
    }
   ],
   "source": [
    "metadata.tables"
   ]
  },
  {
   "cell_type": "code",
   "execution_count": 79,
   "metadata": {},
   "outputs": [
    {
     "name": "stdout",
     "output_type": "stream",
     "text": [
      "users\n",
      "adresses\n",
      "Artist\n",
      "Album\n",
      "Genre\n",
      "track\n"
     ]
    }
   ],
   "source": [
    "for row in metadata.tables:\n",
    "    print(row)"
   ]
  },
  {
   "cell_type": "code",
   "execution_count": 80,
   "metadata": {},
   "outputs": [
    {
     "name": "stdout",
     "output_type": "stream",
     "text": [
      "2018-07-18 21:44:55,081 INFO sqlalchemy.engine.base.Engine \n",
      "DROP TABLE users\n",
      "2018-07-18 21:44:55,082 INFO sqlalchemy.engine.base.Engine ()\n",
      "2018-07-18 21:44:55,092 INFO sqlalchemy.engine.base.Engine COMMIT\n"
     ]
    }
   ],
   "source": [
    "users.drop(engine)"
   ]
  },
  {
   "cell_type": "code",
   "execution_count": 81,
   "metadata": {},
   "outputs": [
    {
     "name": "stdout",
     "output_type": "stream",
     "text": [
      "2018-07-18 21:44:55,703 INFO sqlalchemy.engine.base.Engine \n",
      "DROP TABLE adresses\n",
      "2018-07-18 21:44:55,704 INFO sqlalchemy.engine.base.Engine ()\n",
      "2018-07-18 21:44:55,716 INFO sqlalchemy.engine.base.Engine COMMIT\n"
     ]
    }
   ],
   "source": [
    "addresses.drop(engine)"
   ]
  },
  {
   "cell_type": "code",
   "execution_count": 82,
   "metadata": {},
   "outputs": [
    {
     "data": {
      "text/plain": [
       "sqlalchemy.engine.base.Engine"
      ]
     },
     "execution_count": 82,
     "metadata": {},
     "output_type": "execute_result"
    }
   ],
   "source": [
    "type(engine)"
   ]
  },
  {
   "cell_type": "code",
   "execution_count": 83,
   "metadata": {},
   "outputs": [
    {
     "name": "stdout",
     "output_type": "stream",
     "text": [
      "users\n",
      "adresses\n",
      "Artist\n",
      "Album\n",
      "Genre\n",
      "track\n"
     ]
    }
   ],
   "source": [
    "for row in metadata.tables:\n",
    "    print(row) # 안죽고 살아있다"
   ]
  },
  {
   "cell_type": "code",
   "execution_count": 84,
   "metadata": {},
   "outputs": [
    {
     "name": "stdout",
     "output_type": "stream",
     "text": [
      "2018-07-18 21:44:58,188 INFO sqlalchemy.engine.base.Engine SELECT name FROM sqlite_master WHERE type='table' ORDER BY name\n",
      "2018-07-18 21:44:58,189 INFO sqlalchemy.engine.base.Engine ()\n",
      "Album\n",
      "Artist\n",
      "Genre\n",
      "track\n"
     ]
    }
   ],
   "source": [
    "for row in engine.table_names():\n",
    "    print(row) # 지웠지만, metadata는 살아있다. 하지만 엔진에서는 지워짐"
   ]
  },
  {
   "cell_type": "code",
   "execution_count": 85,
   "metadata": {},
   "outputs": [
    {
     "name": "stdout",
     "output_type": "stream",
     "text": [
      "2018-07-18 21:45:06,832 INFO sqlalchemy.engine.base.Engine PRAGMA table_info(\"users\")\n",
      "2018-07-18 21:45:06,833 INFO sqlalchemy.engine.base.Engine ()\n",
      "2018-07-18 21:45:06,835 INFO sqlalchemy.engine.base.Engine PRAGMA table_info(\"adresses\")\n",
      "2018-07-18 21:45:06,836 INFO sqlalchemy.engine.base.Engine ()\n",
      "2018-07-18 21:45:06,838 INFO sqlalchemy.engine.base.Engine PRAGMA table_info(\"Artist\")\n",
      "2018-07-18 21:45:06,839 INFO sqlalchemy.engine.base.Engine ()\n",
      "2018-07-18 21:45:06,840 INFO sqlalchemy.engine.base.Engine PRAGMA table_info(\"Album\")\n",
      "2018-07-18 21:45:06,842 INFO sqlalchemy.engine.base.Engine ()\n",
      "2018-07-18 21:45:06,843 INFO sqlalchemy.engine.base.Engine PRAGMA table_info(\"Genre\")\n",
      "2018-07-18 21:45:06,844 INFO sqlalchemy.engine.base.Engine ()\n",
      "2018-07-18 21:45:06,845 INFO sqlalchemy.engine.base.Engine PRAGMA table_info(\"track\")\n",
      "2018-07-18 21:45:06,845 INFO sqlalchemy.engine.base.Engine ()\n",
      "2018-07-18 21:45:06,847 INFO sqlalchemy.engine.base.Engine \n",
      "CREATE TABLE users (\n",
      "\tid INTEGER NOT NULL, \n",
      "\tname VARCHAR, \n",
      "\tfullname VARCHAR, \n",
      "\tPRIMARY KEY (id)\n",
      ")\n",
      "\n",
      "\n",
      "2018-07-18 21:45:06,848 INFO sqlalchemy.engine.base.Engine ()\n",
      "2018-07-18 21:45:06,856 INFO sqlalchemy.engine.base.Engine COMMIT\n",
      "2018-07-18 21:45:06,857 INFO sqlalchemy.engine.base.Engine \n",
      "CREATE TABLE adresses (\n",
      "\tid INTEGER NOT NULL, \n",
      "\tuser_id INTEGER, \n",
      "\temail_address VARCHAR NOT NULL, \n",
      "\tPRIMARY KEY (id), \n",
      "\tFOREIGN KEY(user_id) REFERENCES users (id)\n",
      ")\n",
      "\n",
      "\n",
      "2018-07-18 21:45:06,858 INFO sqlalchemy.engine.base.Engine ()\n",
      "2018-07-18 21:45:06,866 INFO sqlalchemy.engine.base.Engine COMMIT\n"
     ]
    }
   ],
   "source": [
    "metadata.create_all(engine)"
   ]
  },
  {
   "cell_type": "code",
   "execution_count": 86,
   "metadata": {},
   "outputs": [
    {
     "name": "stdout",
     "output_type": "stream",
     "text": [
      "2018-07-18 21:45:11,910 INFO sqlalchemy.engine.base.Engine INSERT INTO users (name, fullname) VALUES (?, ?)\n",
      "2018-07-18 21:45:11,911 INFO sqlalchemy.engine.base.Engine ('kim', 'Anonymous, Kim')\n",
      "2018-07-18 21:45:11,914 INFO sqlalchemy.engine.base.Engine COMMIT\n"
     ]
    },
    {
     "data": {
      "text/plain": [
       "<sqlalchemy.engine.result.ResultProxy at 0x1dcc6e599e8>"
      ]
     },
     "execution_count": 86,
     "metadata": {},
     "output_type": "execute_result"
    }
   ],
   "source": [
    "con.execute(users.insert().values(name=\"kim\", fullname=\"Anonymous, Kim\")) # table에있는 어트리뷰트가 아니라 인스턴스 변수"
   ]
  },
  {
   "cell_type": "code",
   "execution_count": 87,
   "metadata": {},
   "outputs": [
    {
     "name": "stdout",
     "output_type": "stream",
     "text": [
      "2018-07-18 21:45:12,837 INFO sqlalchemy.engine.base.Engine SELECT users.id, users.name, users.fullname \n",
      "FROM users\n",
      "2018-07-18 21:45:12,838 INFO sqlalchemy.engine.base.Engine ()\n",
      "(1, 'kim', 'Anonymous, Kim')\n"
     ]
    }
   ],
   "source": [
    "result = con.execute(users.select())\n",
    "for row in result:\n",
    "    print(row)"
   ]
  },
  {
   "cell_type": "code",
   "execution_count": 88,
   "metadata": {},
   "outputs": [
    {
     "name": "stdout",
     "output_type": "stream",
     "text": [
      "2018-07-18 21:45:13,405 INFO sqlalchemy.engine.base.Engine INSERT INTO \"Artist\" (name) VALUES (?)\n",
      "2018-07-18 21:45:13,406 INFO sqlalchemy.engine.base.Engine (('Led Zepplin',), ('AC/DC',))\n",
      "2018-07-18 21:45:13,409 INFO sqlalchemy.engine.base.Engine COMMIT\n",
      "2018-07-18 21:45:13,419 INFO sqlalchemy.engine.base.Engine INSERT INTO \"Album\" (title, artist_id) VALUES (?, ?)\n",
      "2018-07-18 21:45:13,420 INFO sqlalchemy.engine.base.Engine (('IV', 1), ('who Made Who', 2))\n",
      "2018-07-18 21:45:13,422 INFO sqlalchemy.engine.base.Engine COMMIT\n",
      "2018-07-18 21:45:13,430 INFO sqlalchemy.engine.base.Engine INSERT INTO \"Genre\" (name) VALUES (?)\n",
      "2018-07-18 21:45:13,430 INFO sqlalchemy.engine.base.Engine (('Rock',), ('Metal',))\n",
      "2018-07-18 21:45:13,433 INFO sqlalchemy.engine.base.Engine COMMIT\n"
     ]
    },
    {
     "data": {
      "text/plain": [
       "<sqlalchemy.engine.result.ResultProxy at 0x1dcc71424e0>"
      ]
     },
     "execution_count": 88,
     "metadata": {},
     "output_type": "execute_result"
    }
   ],
   "source": [
    "con.execute(artist.insert(), [\n",
    "    {'name':'Led Zepplin'},\n",
    "    {'name':'AC/DC'}\n",
    "])\n",
    "\n",
    "con.execute(album.insert(), [\n",
    "    {'title':'IV', 'artist_id':1},\n",
    "    {'title':'who Made Who', 'artist_id':2}\n",
    "])\n",
    "\n",
    "con.execute(genre.insert(), [\n",
    "    {'name':'Rock'},\n",
    "    {'name':'Metal'}\n",
    "])"
   ]
  },
  {
   "cell_type": "code",
   "execution_count": 89,
   "metadata": {},
   "outputs": [
    {
     "name": "stdout",
     "output_type": "stream",
     "text": [
      "2018-07-18 21:45:13,974 INFO sqlalchemy.engine.base.Engine INSERT INTO track (title, length, rating, count, album_id, genre_id) VALUES (?, ?, ?, ?, ?, ?)\n",
      "2018-07-18 21:45:13,975 INFO sqlalchemy.engine.base.Engine (('Black Dog', 297, 5, 0, 1, 1), ('Stairway', 482, 5, 0, 1, 1), ('About to rock', 313, 5, 0, 2, 2), ('Who Made Who', 297, 5, 0, 2, 2))\n",
      "2018-07-18 21:45:13,978 INFO sqlalchemy.engine.base.Engine COMMIT\n"
     ]
    },
    {
     "data": {
      "text/plain": [
       "<sqlalchemy.engine.result.ResultProxy at 0x1dcc7142fd0>"
      ]
     },
     "execution_count": 89,
     "metadata": {},
     "output_type": "execute_result"
    }
   ],
   "source": [
    "con.execute(track.insert(), [\n",
    "        {'title':'Black Dog', 'rating':5, 'length':297, 'count':0, 'album_id':1, 'genre_id':1},\n",
    "    {'title':'Stairway', 'rating':5, 'length':482, 'count':0, 'album_id':1, 'genre_id':1,},\n",
    "    {'title':'About to rock', 'rating':5, 'length':313, 'count':0, 'album_id':2, 'genre_id':2,},\n",
    "    {'title':'Who Made Who', 'rating':5, 'length':297, 'count':0, 'album_id':2, 'genre_id':2,}\n",
    "])"
   ]
  },
  {
   "cell_type": "code",
   "execution_count": 90,
   "metadata": {},
   "outputs": [
    {
     "name": "stdout",
     "output_type": "stream",
     "text": [
      "2018-07-18 21:45:14,453 INFO sqlalchemy.engine.base.Engine DELETE FROM track\n",
      "2018-07-18 21:45:14,454 INFO sqlalchemy.engine.base.Engine ()\n",
      "2018-07-18 21:45:14,457 INFO sqlalchemy.engine.base.Engine COMMIT\n"
     ]
    }
   ],
   "source": [
    "result = con.execute(track.delete())"
   ]
  },
  {
   "cell_type": "code",
   "execution_count": 91,
   "metadata": {},
   "outputs": [
    {
     "name": "stdout",
     "output_type": "stream",
     "text": [
      "2018-07-18 21:45:14,967 INFO sqlalchemy.engine.base.Engine SELECT track.id, track.title, track.length, track.rating, track.count, track.album_id, track.genre_id \n",
      "FROM track\n",
      "2018-07-18 21:45:14,968 INFO sqlalchemy.engine.base.Engine ()\n"
     ]
    }
   ],
   "source": [
    "result = con.execute(track.select()) #아까 select는 컬럼 테이블\n",
    "for row in result:\n",
    "    print(row)"
   ]
  },
  {
   "cell_type": "code",
   "execution_count": 92,
   "metadata": {},
   "outputs": [
    {
     "name": "stdout",
     "output_type": "stream",
     "text": [
      "2018-07-18 21:45:15,495 INFO sqlalchemy.engine.base.Engine SELECT track.id, track.title, track.length, track.rating, track.count, track.album_id, track.genre_id \n",
      "FROM track \n",
      "WHERE track.album_id = ? AND (track.genre_id = ? OR track.genre_id = ?)\n",
      "2018-07-18 21:45:15,496 INFO sqlalchemy.engine.base.Engine (1, 1, 2)\n"
     ]
    }
   ],
   "source": [
    "result = con.execute(select([track])\n",
    "                    .where(\n",
    "                        and_(\n",
    "                            track.c.album_id == 1,\n",
    "                            or_(\n",
    "                                track.c.genre_id == 1,\n",
    "                                track.c.genre_id == 2\n",
    "                            )\n",
    "                        )\n",
    "                    ))\n",
    "\n",
    "for row in result:\n",
    "    print(row)"
   ]
  },
  {
   "cell_type": "markdown",
   "metadata": {},
   "source": [
    "## update"
   ]
  },
  {
   "cell_type": "code",
   "execution_count": 93,
   "metadata": {},
   "outputs": [],
   "source": [
    "from sqlalchemy import update"
   ]
  },
  {
   "cell_type": "code",
   "execution_count": 94,
   "metadata": {},
   "outputs": [
    {
     "name": "stdout",
     "output_type": "stream",
     "text": [
      "2018-07-18 21:45:16,830 INFO sqlalchemy.engine.base.Engine UPDATE track SET genre_id=? WHERE track.genre_id = ?\n",
      "2018-07-18 21:45:16,831 INFO sqlalchemy.engine.base.Engine (3, 1)\n",
      "2018-07-18 21:45:16,833 INFO sqlalchemy.engine.base.Engine COMMIT\n"
     ]
    },
    {
     "data": {
      "text/plain": [
       "<sqlalchemy.engine.result.ResultProxy at 0x1dcc7456d68>"
      ]
     },
     "execution_count": 94,
     "metadata": {},
     "output_type": "execute_result"
    }
   ],
   "source": [
    "con.execute(track.update().values(genre_id=3).where(track.c.genre_id==1))"
   ]
  },
  {
   "cell_type": "code",
   "execution_count": 95,
   "metadata": {},
   "outputs": [
    {
     "name": "stdout",
     "output_type": "stream",
     "text": [
      "2018-07-18 21:45:28,188 INFO sqlalchemy.engine.base.Engine SELECT track.id, track.title, track.length, track.rating, track.count, track.album_id, track.genre_id \n",
      "FROM track \n",
      "WHERE track.album_id = ? AND (track.genre_id = ? OR track.genre_id = ?)\n",
      "2018-07-18 21:45:28,189 INFO sqlalchemy.engine.base.Engine (1, 1, 2)\n"
     ]
    }
   ],
   "source": [
    "result = con.execute(select([track])\n",
    "                    .where(\n",
    "                        and_(\n",
    "                            track.c.album_id == 1,\n",
    "                            or_(\n",
    "                                track.c.genre_id == 1,\n",
    "                                track.c.genre_id == 2\n",
    "                            )\n",
    "                        )\n",
    "                    ))\n",
    "\n",
    "for row in result:\n",
    "    print(row)"
   ]
  },
  {
   "cell_type": "code",
   "execution_count": 96,
   "metadata": {},
   "outputs": [
    {
     "name": "stdout",
     "output_type": "stream",
     "text": [
      "2018-07-18 21:45:29,209 INFO sqlalchemy.engine.base.Engine UPDATE track SET genre_id=? WHERE track.genre_id = ?\n",
      "2018-07-18 21:45:29,211 INFO sqlalchemy.engine.base.Engine (1, 3)\n",
      "2018-07-18 21:45:29,212 INFO sqlalchemy.engine.base.Engine COMMIT\n"
     ]
    },
    {
     "data": {
      "text/plain": [
       "<sqlalchemy.engine.result.ResultProxy at 0x1dcc72f1a90>"
      ]
     },
     "execution_count": 96,
     "metadata": {},
     "output_type": "execute_result"
    }
   ],
   "source": [
    "con.execute(track.update().values(genre_id=1).where(track.c.genre_id==3))"
   ]
  },
  {
   "cell_type": "code",
   "execution_count": 97,
   "metadata": {},
   "outputs": [
    {
     "name": "stdout",
     "output_type": "stream",
     "text": [
      "2018-07-18 21:45:29,872 INFO sqlalchemy.engine.base.Engine SELECT track.id, track.title, track.length, track.rating, track.count, track.album_id, track.genre_id \n",
      "FROM track \n",
      "WHERE track.album_id = ? AND (track.genre_id = ? OR track.genre_id = ?)\n",
      "2018-07-18 21:45:29,873 INFO sqlalchemy.engine.base.Engine (1, 1, 2)\n"
     ]
    }
   ],
   "source": [
    "result = con.execute(select([track])\n",
    "                    .where(\n",
    "                        and_(\n",
    "                            track.c.album_id == 1,\n",
    "                            or_(\n",
    "                                track.c.genre_id == 1,\n",
    "                                track.c.genre_id == 2\n",
    "                            )\n",
    "                        )\n",
    "                    ))\n",
    "\n",
    "for row in result:\n",
    "    print(row)"
   ]
  },
  {
   "cell_type": "code",
   "execution_count": 98,
   "metadata": {},
   "outputs": [
    {
     "name": "stdout",
     "output_type": "stream",
     "text": [
      "track JOIN \"Album\" ON \"Album\".id = track.album_id\n"
     ]
    }
   ],
   "source": [
    "print(track.join(album)) #sql문 확인"
   ]
  },
  {
   "cell_type": "code",
   "execution_count": 99,
   "metadata": {},
   "outputs": [
    {
     "name": "stdout",
     "output_type": "stream",
     "text": [
      "2018-07-18 21:45:30,837 INFO sqlalchemy.engine.base.Engine SELECT track.id, track.title, track.length, track.rating, track.count, track.album_id, track.genre_id \n",
      "FROM track JOIN \"Album\" ON \"Album\".id = track.album_id\n",
      "2018-07-18 21:45:30,839 INFO sqlalchemy.engine.base.Engine ()\n"
     ]
    }
   ],
   "source": [
    "result = con.execute(track.select().select_from(track.join(album)))\n",
    "\n",
    "for row in result:\n",
    "    print(row)"
   ]
  },
  {
   "cell_type": "code",
   "execution_count": 100,
   "metadata": {},
   "outputs": [
    {
     "name": "stdout",
     "output_type": "stream",
     "text": [
      "2018-07-18 21:45:31,305 INFO sqlalchemy.engine.base.Engine SELECT track.title, \"Album\".title \n",
      "FROM track JOIN \"Album\" ON \"Album\".id = track.album_id\n",
      "2018-07-18 21:45:31,306 INFO sqlalchemy.engine.base.Engine ()\n"
     ]
    }
   ],
   "source": [
    "result = con.execute(select([track.c.title, album.c.title]).select_from(track.join(album))) # 트랙의 제목 엘범에 제목# pk 와 fk를 이미 설정해주었기 때문에 조건을 걸 필요 없다. "
   ]
  },
  {
   "cell_type": "code",
   "execution_count": 101,
   "metadata": {},
   "outputs": [],
   "source": [
    "for row in result:\n",
    "    print(row)"
   ]
  },
  {
   "cell_type": "code",
   "execution_count": 102,
   "metadata": {},
   "outputs": [
    {
     "name": "stdout",
     "output_type": "stream",
     "text": [
      "track JOIN \"Album\" ON \"Album\".id = track.album_id\n"
     ]
    }
   ],
   "source": [
    "print(track.join(album))"
   ]
  },
  {
   "cell_type": "code",
   "execution_count": 103,
   "metadata": {},
   "outputs": [
    {
     "name": "stdout",
     "output_type": "stream",
     "text": [
      "track JOIN \"Album\" ON \"Album\".id = track.album_id JOIN \"Genre\" ON \"Genre\".id = track.genre_id\n"
     ]
    }
   ],
   "source": [
    "print(track.join(album).join(genre))"
   ]
  },
  {
   "cell_type": "code",
   "execution_count": 104,
   "metadata": {},
   "outputs": [
    {
     "name": "stdout",
     "output_type": "stream",
     "text": [
      "track JOIN \"Album\" ON \"Album\".id = track.album_id JOIN \"Genre\" ON \"Genre\".id = track.genre_id JOIN \"Artist\" ON \"Artist\".id = \"Album\".artist_id\n"
     ]
    }
   ],
   "source": [
    "print(track.join(album).join(genre).join(artist))"
   ]
  },
  {
   "cell_type": "code",
   "execution_count": 105,
   "metadata": {},
   "outputs": [
    {
     "name": "stdout",
     "output_type": "stream",
     "text": [
      "2018-07-18 21:45:33,637 INFO sqlalchemy.engine.base.Engine SELECT track.title, \"Album\".title, \"Genre\".name, \"Artist\".name \n",
      "FROM track JOIN \"Album\" ON \"Album\".id = track.album_id JOIN \"Genre\" ON \"Genre\".id = track.genre_id JOIN \"Artist\" ON \"Artist\".id = \"Album\".artist_id\n",
      "2018-07-18 21:45:33,638 INFO sqlalchemy.engine.base.Engine ()\n"
     ]
    }
   ],
   "source": [
    "result = con.execute(select([track.c.title, album.c.title, genre.c.name, artist.c.name])\n",
    "                    .select_from(track.join(album).join(genre).join(artist)))\n",
    "for row in result:\n",
    "    print(row)"
   ]
  },
  {
   "cell_type": "code",
   "execution_count": 106,
   "metadata": {},
   "outputs": [
    {
     "name": "stdout",
     "output_type": "stream",
     "text": [
      "2018-07-18 21:45:34,156 INFO sqlalchemy.engine.base.Engine SELECT track.title, \"Album\".title, \"Genre\".name, \"Artist\".name \n",
      "FROM track JOIN \"Album\" ON \"Album\".id = track.album_id JOIN \"Genre\" ON \"Genre\".id = track.genre_id JOIN \"Artist\" ON \"Artist\".id = \"Album\".artist_id \n",
      "WHERE \"Genre\".id = ? AND \"Artist\".name LIKE ?\n",
      "2018-07-18 21:45:34,157 INFO sqlalchemy.engine.base.Engine (1, '%pp%')\n"
     ]
    }
   ],
   "source": [
    "result = con.execute(select([track.c.title, album.c.title, genre.c.name, artist.c.name])\n",
    "                    .select_from(track.join(album).join(genre).join(artist))\n",
    "                    .where(\n",
    "                        and_(\n",
    "                            genre.c.id == 1,\n",
    "                            artist.c.name.like('%pp%')\n",
    "                        )\n",
    "                    ))\n",
    "for row in result:\n",
    "    print(row)"
   ]
  },
  {
   "cell_type": "code",
   "execution_count": 107,
   "metadata": {},
   "outputs": [
    {
     "name": "stdout",
     "output_type": "stream",
     "text": [
      "2018-07-18 21:45:34,603 INFO sqlalchemy.engine.base.Engine SELECT track.title, \"Album\".title, \"Genre\".name, \"Artist\".name \n",
      "FROM track JOIN \"Album\" ON \"Album\".id = track.album_id JOIN \"Genre\" ON \"Genre\".id = track.genre_id JOIN \"Artist\" ON \"Artist\".id = \"Album\".artist_id \n",
      "WHERE \"Genre\".id = ? AND \"Artist\".id = ?\n",
      "2018-07-18 21:45:34,604 INFO sqlalchemy.engine.base.Engine (1, 1)\n"
     ]
    }
   ],
   "source": [
    "result = con.execute(select([track.c.title, album.c.title, genre.c.name, artist.c.name])\n",
    "                    .select_from(track.join(album).join(genre).join(artist))\n",
    "                    .where(\n",
    "                        and_(\n",
    "                            genre.c.id == 1,\n",
    "                            artist.c.id == 1\n",
    "                        )\n",
    "                    ))\n",
    "for row in result:\n",
    "    print(row)"
   ]
  },
  {
   "cell_type": "code",
   "execution_count": 108,
   "metadata": {},
   "outputs": [
    {
     "name": "stdout",
     "output_type": "stream",
     "text": [
      "track JOIN \"Album\" ON \"Album\".id = track.album_id JOIN \"Genre\" ON \"Genre\".id = track.genre_id JOIN \"Artist\" ON \"Artist\".id = \"Album\".artist_id\n"
     ]
    }
   ],
   "source": [
    "print(track.join(album).join(genre).join(artist))"
   ]
  },
  {
   "cell_type": "code",
   "execution_count": null,
   "metadata": {},
   "outputs": [],
   "source": [
    "artist = Table(\"Artist\", metadata, # rapper 안에 있어야한다.\n",
    "              Column('id', Integer, primary_key = True ),\n",
    "              Column('name', String, nullable=False),\n",
    "              extend_existing = True) # 기존에 있으면 덮어 씌어라\n",
    "\n",
    "album = Table('Album', metadata,\n",
    "             Column('id', Integer, primary_key=True),\n",
    "             Column('title' ,String, nullable=False),\n",
    "             Column('artist_id', Integer, ForeignKey('Artist.id')),\n",
    "             extend_existing=True)\n",
    "\n",
    "genre = Table('Genre', metadata,\n",
    "              Column('id',Integer, primary_key =True),\n",
    "              Column('name', String, nullable=False),\n",
    "              extend_existing=True)\n",
    "\n",
    "track = Table(\"track\", metadata,\n",
    "              Column('id', Integer, primary_key=True),\n",
    "              Column('title', String, nullable=False),\n",
    "              Column('length', Integer,nullable=False),\n",
    "              Column('rating', Integer, nullable=False),\n",
    "              Column('count', Integer, nullable=False),\n",
    "              Column('album_id', Integer, ForeignKey('Album.id')),\n",
    "              Column('genre_id', Integer, ForeignKey('Genre.id')),\n",
    "              extend_existing=True)\n",
    "\n",
    "metadata.create_all(engine)\n",
    "              "
   ]
  }
 ],
 "metadata": {
  "kernelspec": {
   "display_name": "Python 3",
   "language": "python",
   "name": "python3"
  },
  "language_info": {
   "codemirror_mode": {
    "name": "ipython",
    "version": 3
   },
   "file_extension": ".py",
   "mimetype": "text/x-python",
   "name": "python",
   "nbconvert_exporter": "python",
   "pygments_lexer": "ipython3",
   "version": "3.6.4"
  }
 },
 "nbformat": 4,
 "nbformat_minor": 2
}
