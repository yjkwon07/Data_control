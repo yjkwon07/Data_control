{
 "cells": [
  {
   "cell_type": "markdown",
   "metadata": {},
   "source": [
    "# 배우고 싶은 것\n",
    "   - 하둡 & spark\n",
    "        1. 전반적 개념\n",
    "        2. 활용, 처리 능력\n",
    "        \n",
    "        \n",
    "   - 지능형 시스템\n",
    "        1. RNN 또는 CNN 적용 사례 \n",
    "        2. 빅데이터와 지능형의 앙상블\n",
    "        3. 텍스트 마이닝\n",
    "        \n",
    "        \n",
    "   - matplotlib \n",
    "        1. 그래프 시각화 능력\n",
    "        2. 수치 분석\n",
    "        \n",
    "\n",
    "# 관심 프로젝트  `\n",
    "\n",
    " - 수요 예측(투자)\n",
    "    1. 고객 성향(니즈) 파악 \n",
    "    2. 판매 실 금액 예측 \n",
    "    \n",
    "    \n",
    " - 사용자 맞춤 추천(문화) \n",
    "     1. 영화 추천\n",
    "     2. 고객 상품 추천\n",
    "     \n",
    "  "
   ]
  },
  {
   "cell_type": "code",
   "execution_count": null,
   "metadata": {},
   "outputs": [],
   "source": []
  }
 ],
 "metadata": {
  "kernelspec": {
   "display_name": "Python 3",
   "language": "python",
   "name": "python3"
  },
  "language_info": {
   "codemirror_mode": {
    "name": "ipython",
    "version": 3
   },
   "file_extension": ".py",
   "mimetype": "text/x-python",
   "name": "python",
   "nbconvert_exporter": "python",
   "pygments_lexer": "ipython3",
   "version": "3.6.4"
  }
 },
 "nbformat": 4,
 "nbformat_minor": 2
}
