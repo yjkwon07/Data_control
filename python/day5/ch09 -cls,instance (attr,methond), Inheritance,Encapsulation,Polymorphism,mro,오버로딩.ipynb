{
 "cells": [
  {
   "cell_type": "markdown",
   "metadata": {},
   "source": [
    "# EAFP(try)\n",
    "허락보다는 용서를 구하기가 쉽다 (Easier to ask for forgiveness than permission). 이 흔히 볼 수 있는 파이썬 코딩 스타일은, 올바른 키나 어트리뷰트의 존재를 가정하고, 그 가정이 틀리면 예외를 잡습니다. 이 깔끔하고 빠른 스타일은 많은 try 와 except 문의 존재로 특징지어집니다. \n",
    "이 테크닉은 C와 같은 다른 많은 언어에서 자주 사용되는 LBYL 스타일과 대비됩니다.\n",
    "\n",
    "# LBYL(if)\n",
    "뛰기 전에 보라 (Look before you leap). 이 코딩 스타일은 호출이나 조회를 하기 전에 명시적으로 사전 조건들을 검사합니다. 이 스타일은 EAFP 접근법과 대비되고, 많은 if 문의 존재로 특징지어집니다.\n",
    "\n",
    "다중 스레드 환경에서, LBYL 접근법은 \"보기\"와 \"뛰기\" 간에 경쟁 조건을 만들게 될 위험이 있습니다. 예를 들어, 코드 if key in mapping: return mapping[key] 는 검사 후에, 하지만 조회 전에, 다른 스레드가 key 를 mapping 에서 제거하면 실패할 수 있습니다. 이런 이슈는 록이나 EAFP 접근법을 사용함으로써 해결될 수 있습니다"
   ]
  },
  {
   "cell_type": "code",
   "execution_count": null,
   "metadata": {},
   "outputs": [],
   "source": [
    "# 클래스, 인스턴스 attr\n",
    "# 멤버변수가 메소드 \n",
    "\n",
    "# 클래스 어트리뷰트\n",
    "# 인스턴스 어트리뷰트 \n",
    "\n",
    "# 첫번째 인자가 self이면; parameter로 self 안 써두됨"
   ]
  },
  {
   "cell_type": "markdown",
   "metadata": {},
   "source": [
    "## Class and Object"
   ]
  },
  {
   "cell_type": "markdown",
   "metadata": {},
   "source": [
    "# 1. class, instance attr "
   ]
  },
  {
   "cell_type": "code",
   "execution_count": 2,
   "metadata": {},
   "outputs": [],
   "source": [
    "class Parrot: # 멤버 변수가 총 3개 \n",
    "\n",
    "    # class attribute\n",
    "    species = \"bird\"\n",
    "\n",
    "    # instance attribute\n",
    "    def __init__(self, name, age): # 인자 2개 받는다.\n",
    "        self.name = name\n",
    "        self.age = age"
   ]
  },
  {
   "cell_type": "code",
   "execution_count": 3,
   "metadata": {},
   "outputs": [],
   "source": [
    "# instantiate the Parrot class\n",
    "blu = Parrot(\"Blu\", 10) # 인스턴스화 \n",
    "woo = Parrot(\"Woo\", 15)"
   ]
  },
  {
   "cell_type": "code",
   "execution_count": 4,
   "metadata": {},
   "outputs": [
    {
     "data": {
      "text/plain": [
       "__main__.Parrot"
      ]
     },
     "execution_count": 4,
     "metadata": {},
     "output_type": "execute_result"
    }
   ],
   "source": [
    "type(blu) #_main__ 현재 작업하고있는 클래스"
   ]
  },
  {
   "cell_type": "code",
   "execution_count": 5,
   "metadata": {},
   "outputs": [
    {
     "data": {
      "text/plain": [
       "type"
      ]
     },
     "execution_count": 5,
     "metadata": {},
     "output_type": "execute_result"
    }
   ],
   "source": [
    "type(Parrot) # type -> class \n",
    "             #__main -> 현재작업하고있는 클래스"
   ]
  },
  {
   "cell_type": "code",
   "execution_count": 6,
   "metadata": {},
   "outputs": [
    {
     "data": {
      "text/plain": [
       "['__class__',\n",
       " '__delattr__',\n",
       " '__dict__',\n",
       " '__dir__',\n",
       " '__doc__',\n",
       " '__eq__',\n",
       " '__format__',\n",
       " '__ge__',\n",
       " '__getattribute__',\n",
       " '__gt__',\n",
       " '__hash__',\n",
       " '__init__',\n",
       " '__init_subclass__',\n",
       " '__le__',\n",
       " '__lt__',\n",
       " '__module__',\n",
       " '__ne__',\n",
       " '__new__',\n",
       " '__reduce__',\n",
       " '__reduce_ex__',\n",
       " '__repr__',\n",
       " '__setattr__',\n",
       " '__sizeof__',\n",
       " '__str__',\n",
       " '__subclasshook__',\n",
       " '__weakref__',\n",
       " 'age',\n",
       " 'name',\n",
       " 'species']"
      ]
     },
     "execution_count": 6,
     "metadata": {},
     "output_type": "execute_result"
    }
   ],
   "source": [
    "dir(blu)"
   ]
  },
  {
   "cell_type": "code",
   "execution_count": 7,
   "metadata": {},
   "outputs": [
    {
     "data": {
      "text/plain": [
       "{'age': 10, 'name': 'Blu'}"
      ]
     },
     "execution_count": 7,
     "metadata": {},
     "output_type": "execute_result"
    }
   ],
   "source": [
    "vars(blu) # 인스턴스 어트리뷰트 보여줌\n",
    "\n",
    "# 총 어트리뷰트는 3개 \n",
    "# 왜 스피시즈는 안나와? \n",
    "# 동적으로 생성된건 인스턴스 어트리뷰트!! self가 붙어있는거 \n",
    "# 클래스가 붙어 있는건 한 개 "
   ]
  },
  {
   "cell_type": "code",
   "execution_count": 8,
   "metadata": {},
   "outputs": [
    {
     "data": {
      "text/plain": [
       "{'age': 10, 'name': 'Blu'}"
      ]
     },
     "execution_count": 8,
     "metadata": {},
     "output_type": "execute_result"
    }
   ],
   "source": [
    "blu.__dict__"
   ]
  },
  {
   "cell_type": "code",
   "execution_count": 9,
   "metadata": {},
   "outputs": [],
   "source": [
    "blu.species = 'bird2'"
   ]
  },
  {
   "cell_type": "code",
   "execution_count": 10,
   "metadata": {},
   "outputs": [
    {
     "data": {
      "text/plain": [
       "{'age': 10, 'name': 'Blu', 'species': 'bird2'}"
      ]
     },
     "execution_count": 10,
     "metadata": {},
     "output_type": "execute_result"
    }
   ],
   "source": [
    "blu.__dict__"
   ]
  },
  {
   "cell_type": "code",
   "execution_count": 11,
   "metadata": {},
   "outputs": [
    {
     "data": {
      "text/plain": [
       "['__class__',\n",
       " '__delattr__',\n",
       " '__dict__',\n",
       " '__dir__',\n",
       " '__doc__',\n",
       " '__eq__',\n",
       " '__format__',\n",
       " '__ge__',\n",
       " '__getattribute__',\n",
       " '__gt__',\n",
       " '__hash__',\n",
       " '__init__',\n",
       " '__init_subclass__',\n",
       " '__le__',\n",
       " '__lt__',\n",
       " '__module__',\n",
       " '__ne__',\n",
       " '__new__',\n",
       " '__reduce__',\n",
       " '__reduce_ex__',\n",
       " '__repr__',\n",
       " '__setattr__',\n",
       " '__sizeof__',\n",
       " '__str__',\n",
       " '__subclasshook__',\n",
       " '__weakref__',\n",
       " 'age',\n",
       " 'name',\n",
       " 'species']"
      ]
     },
     "execution_count": 11,
     "metadata": {},
     "output_type": "execute_result"
    }
   ],
   "source": [
    "dir(blu) # 클래스, 인스턴스 차이점 (어트리뷰트)"
   ]
  },
  {
   "cell_type": "code",
   "execution_count": 12,
   "metadata": {},
   "outputs": [
    {
     "data": {
      "text/plain": [
       "'bird'"
      ]
     },
     "execution_count": 12,
     "metadata": {},
     "output_type": "execute_result"
    }
   ],
   "source": [
    "woo.species # 클래스 어트리뷰트"
   ]
  },
  {
   "cell_type": "code",
   "execution_count": 13,
   "metadata": {},
   "outputs": [
    {
     "data": {
      "text/plain": [
       "{'age': 15, 'name': 'Woo'}"
      ]
     },
     "execution_count": 13,
     "metadata": {},
     "output_type": "execute_result"
    }
   ],
   "source": [
    "woo.__dict__ # specise 가 안나와 "
   ]
  },
  {
   "cell_type": "code",
   "execution_count": 14,
   "metadata": {},
   "outputs": [
    {
     "data": {
      "text/plain": [
       "['__class__',\n",
       " '__delattr__',\n",
       " '__dict__',\n",
       " '__dir__',\n",
       " '__doc__',\n",
       " '__eq__',\n",
       " '__format__',\n",
       " '__ge__',\n",
       " '__getattribute__',\n",
       " '__gt__',\n",
       " '__hash__',\n",
       " '__init__',\n",
       " '__init_subclass__',\n",
       " '__le__',\n",
       " '__lt__',\n",
       " '__module__',\n",
       " '__ne__',\n",
       " '__new__',\n",
       " '__reduce__',\n",
       " '__reduce_ex__',\n",
       " '__repr__',\n",
       " '__setattr__',\n",
       " '__sizeof__',\n",
       " '__str__',\n",
       " '__subclasshook__',\n",
       " '__weakref__',\n",
       " 'age',\n",
       " 'name',\n",
       " 'species']"
      ]
     },
     "execution_count": 14,
     "metadata": {},
     "output_type": "execute_result"
    }
   ],
   "source": [
    "dir(blu) # species  클래스 어트리뷰트를 덮은걸까?\n",
    "         #인스턴스 일까? < - 이거임 (인스턴스 어트리뷰트)"
   ]
  },
  {
   "cell_type": "code",
   "execution_count": 15,
   "metadata": {},
   "outputs": [
    {
     "data": {
      "text/plain": [
       "'bird2'"
      ]
     },
     "execution_count": 15,
     "metadata": {},
     "output_type": "execute_result"
    }
   ],
   "source": [
    "blu.species"
   ]
  },
  {
   "cell_type": "code",
   "execution_count": 16,
   "metadata": {},
   "outputs": [
    {
     "data": {
      "text/plain": [
       "'bird'"
      ]
     },
     "execution_count": 16,
     "metadata": {},
     "output_type": "execute_result"
    }
   ],
   "source": [
    "woo.species"
   ]
  },
  {
   "cell_type": "code",
   "execution_count": 17,
   "metadata": {},
   "outputs": [
    {
     "data": {
      "text/plain": [
       "'bird'"
      ]
     },
     "execution_count": 17,
     "metadata": {},
     "output_type": "execute_result"
    }
   ],
   "source": [
    "Parrot.species # == class.class attr "
   ]
  },
  {
   "cell_type": "code",
   "execution_count": 18,
   "metadata": {},
   "outputs": [
    {
     "ename": "AttributeError",
     "evalue": "type object 'Parrot' has no attribute 'name'",
     "output_type": "error",
     "traceback": [
      "\u001b[1;31m---------------------------------------------------------------------------\u001b[0m",
      "\u001b[1;31mAttributeError\u001b[0m                            Traceback (most recent call last)",
      "\u001b[1;32m<ipython-input-18-4e3ac31676a8>\u001b[0m in \u001b[0;36m<module>\u001b[1;34m()\u001b[0m\n\u001b[1;32m----> 1\u001b[1;33m \u001b[0mParrot\u001b[0m\u001b[1;33m.\u001b[0m\u001b[0mname\u001b[0m \u001b[1;31m# instance attr- > instane화 되어있는 것만\u001b[0m\u001b[1;33m\u001b[0m\u001b[0m\n\u001b[0m",
      "\u001b[1;31mAttributeError\u001b[0m: type object 'Parrot' has no attribute 'name'"
     ]
    }
   ],
   "source": [
    "Parrot.name # instance attr- > instane화 되어있는 것만 "
   ]
  },
  {
   "cell_type": "markdown",
   "metadata": {},
   "source": [
    "# 1-1. class attr"
   ]
  },
  {
   "cell_type": "code",
   "execution_count": 19,
   "metadata": {},
   "outputs": [],
   "source": [
    "# 같은 name instance이름으로 덮어도 남아있는다 "
   ]
  },
  {
   "cell_type": "code",
   "execution_count": 20,
   "metadata": {},
   "outputs": [],
   "source": [
    "# 파이썬에 클래스는 오브젝트일 수 잇다 . <- 파이썬의 모든 클래스는 오브젝트이다 .\n",
    "# 클래스변수 <- static과 비슷하다고 생각하면됨 \n",
    "# 단, 여기서는 공유값(static)이 아니다 .\n"
   ]
  },
  {
   "cell_type": "code",
   "execution_count": 21,
   "metadata": {},
   "outputs": [
    {
     "name": "stdout",
     "output_type": "stream",
     "text": [
      "Blu is a bird\n",
      "Woo is also a bird\n",
      "Blu is 10 years old\n",
      "Woo is 15 years old\n"
     ]
    }
   ],
   "source": [
    "# access the class attributes\n",
    "print(\"Blu is a {}\".format(blu.__class__.species))\n",
    "print(\"Woo is also a {}\".format(woo.__class__.species))\n",
    "\n",
    "# access the instance attributes\n",
    "print(\"{} is {} years old\".format( blu.name, blu.age))\n",
    "print(\"{} is {} years old\".format( woo.name, woo.age))"
   ]
  },
  {
   "cell_type": "code",
   "execution_count": 22,
   "metadata": {},
   "outputs": [],
   "source": [
    "문근영 = Parrot('문근영', 30)"
   ]
  },
  {
   "cell_type": "code",
   "execution_count": 23,
   "metadata": {},
   "outputs": [
    {
     "data": {
      "text/plain": [
       "{'age': 30, 'name': '문근영'}"
      ]
     },
     "execution_count": 23,
     "metadata": {},
     "output_type": "execute_result"
    }
   ],
   "source": [
    "vars(문근영)"
   ]
  },
  {
   "cell_type": "code",
   "execution_count": 24,
   "metadata": {},
   "outputs": [
    {
     "data": {
      "text/plain": [
       "'bird'"
      ]
     },
     "execution_count": 24,
     "metadata": {},
     "output_type": "execute_result"
    }
   ],
   "source": [
    "문근영.species"
   ]
  },
  {
   "cell_type": "code",
   "execution_count": 25,
   "metadata": {},
   "outputs": [],
   "source": [
    "문근영.species = 'bird2'"
   ]
  },
  {
   "cell_type": "code",
   "execution_count": 26,
   "metadata": {},
   "outputs": [
    {
     "data": {
      "text/plain": [
       "'bird2'"
      ]
     },
     "execution_count": 26,
     "metadata": {},
     "output_type": "execute_result"
    }
   ],
   "source": [
    "문근영.species # instance attr\n",
    "                # 이름을 똑같이 하면 instance가 우선순위!!! \n",
    "                # 클래스 변수는 남아 있음\n",
    "                # 그래서 이름좀 다르게해라~~~"
   ]
  },
  {
   "cell_type": "code",
   "execution_count": 27,
   "metadata": {},
   "outputs": [
    {
     "data": {
      "text/plain": [
       "'bird'"
      ]
     },
     "execution_count": 27,
     "metadata": {},
     "output_type": "execute_result"
    }
   ],
   "source": [
    "문근영.__class__.species # class attr \n",
    "                        # 이런짓은 하지마 ...  instance attr 똑같이 nameing하는거 .. "
   ]
  },
  {
   "cell_type": "code",
   "execution_count": 28,
   "metadata": {},
   "outputs": [],
   "source": [
    "# 인스턴스화 된건 -> self!!! \n",
    "# atrr -> 3개 ( Parrot안에)"
   ]
  },
  {
   "cell_type": "code",
   "execution_count": 29,
   "metadata": {},
   "outputs": [
    {
     "data": {
      "text/plain": [
       "__main__.Parrot"
      ]
     },
     "execution_count": 29,
     "metadata": {},
     "output_type": "execute_result"
    }
   ],
   "source": [
    "문근영.__class__ # __main__.Parrot <- 현재 작업하고 잇는공간 "
   ]
  },
  {
   "cell_type": "markdown",
   "metadata": {},
   "source": [
    "## Methods"
   ]
  },
  {
   "cell_type": "code",
   "execution_count": 30,
   "metadata": {},
   "outputs": [
    {
     "name": "stdout",
     "output_type": "stream",
     "text": [
      "Blu sings 'Happy'\n",
      "Blu is now dancing\n"
     ]
    }
   ],
   "source": [
    "class Parrot:\n",
    "    \n",
    "    # instance attributes\n",
    "    def __init__(self, name, age):  # __ __ <- special mehod, magic method \n",
    "                                    # self가 들어갔다 인스턴스 메소드 \n",
    "                                    # 그럼 클래스 메소드도 잇겠네 \n",
    "                                    # 메소드에 첫 번째 인자는, 자기자신을 가리키는 것이다.\n",
    "                                    \n",
    "        self.name = name\n",
    "        self.age = age\n",
    "    \n",
    "    # instance method\n",
    "    def sing(self, song):\n",
    "        return \"{} sings {}\".format(self.name, song)\n",
    "\n",
    "    def dance(self):\n",
    "        return \"{} is now dancing\".format(self.name)\n",
    "\n",
    "# instantiate the object\n",
    "blu = Parrot(\"Blu\", 10)\n",
    "\n",
    "# call our instance methods\n",
    "print(blu.sing(\"'Happy'\"))\n",
    "print(blu.dance())"
   ]
  },
  {
   "cell_type": "code",
   "execution_count": 31,
   "metadata": {},
   "outputs": [],
   "source": [
    "class Parrot:\n",
    "    \n",
    "    # instance attributes\n",
    "    def __init__(selfsssss, name, age): \n",
    "                                       \n",
    "        selfsssss.name = name\n",
    "        selfsssss.age = age  # self란건 관례, (권장한다.) 아무것나 바꿔두됨, keyword가 아니라서 \n",
    "    \n",
    "    # instance method\n",
    "    def sing(self, song):\n",
    "        return \"{} sings {}\".format(self.name, song)\n",
    "\n",
    "    def dance(self):\n",
    "        return \"{} is now dancing\".format(self.name)"
   ]
  },
  {
   "cell_type": "code",
   "execution_count": 32,
   "metadata": {},
   "outputs": [
    {
     "name": "stdout",
     "output_type": "stream",
     "text": [
      "Blu sings 'Happy'\n",
      "Blu is now dancing\n"
     ]
    }
   ],
   "source": [
    "# instantiate the object\n",
    "blu = Parrot(\"Blu\", 10)\n",
    "\n",
    "# call our instance methods\n",
    "print(blu.sing(\"'Happy'\"))\n",
    "print(blu.dance())"
   ]
  },
  {
   "cell_type": "markdown",
   "metadata": {},
   "source": [
    "# 2-1. class.instance_method(self, ~), instance.instance_method(~)"
   ]
  },
  {
   "cell_type": "code",
   "execution_count": 33,
   "metadata": {},
   "outputs": [
    {
     "data": {
      "text/plain": [
       "'문근영 sings 노래'"
      ]
     },
     "execution_count": 33,
     "metadata": {},
     "output_type": "execute_result"
    }
   ],
   "source": [
    "Parrot.sing(문근영,\"노래\") # class. instance( 인스턴스를 기입 하야힌다.)"
   ]
  },
  {
   "cell_type": "code",
   "execution_count": 36,
   "metadata": {},
   "outputs": [
    {
     "data": {
      "text/plain": [
       "['__class__',\n",
       " '__delattr__',\n",
       " '__dict__',\n",
       " '__dir__',\n",
       " '__doc__',\n",
       " '__eq__',\n",
       " '__format__',\n",
       " '__ge__',\n",
       " '__getattribute__',\n",
       " '__gt__',\n",
       " '__hash__',\n",
       " '__init__',\n",
       " '__init_subclass__',\n",
       " '__le__',\n",
       " '__lt__',\n",
       " '__module__',\n",
       " '__ne__',\n",
       " '__new__',\n",
       " '__reduce__',\n",
       " '__reduce_ex__',\n",
       " '__repr__',\n",
       " '__setattr__',\n",
       " '__sizeof__',\n",
       " '__str__',\n",
       " '__subclasshook__',\n",
       " '__weakref__',\n",
       " 'age',\n",
       " 'name',\n",
       " 'species']"
      ]
     },
     "execution_count": 36,
     "metadata": {},
     "output_type": "execute_result"
    }
   ],
   "source": [
    "dir(문근영)"
   ]
  },
  {
   "cell_type": "code",
   "execution_count": 34,
   "metadata": {},
   "outputs": [
    {
     "ename": "AttributeError",
     "evalue": "'Parrot' object has no attribute 'sing'",
     "output_type": "error",
     "traceback": [
      "\u001b[1;31m---------------------------------------------------------------------------\u001b[0m",
      "\u001b[1;31mAttributeError\u001b[0m                            Traceback (most recent call last)",
      "\u001b[1;32m<ipython-input-34-c35ac0198978>\u001b[0m in \u001b[0;36m<module>\u001b[1;34m()\u001b[0m\n\u001b[1;32m----> 1\u001b[1;33m \u001b[0m문근영\u001b[0m\u001b[1;33m.\u001b[0m\u001b[0msing\u001b[0m\u001b[1;33m(\u001b[0m\u001b[1;34m'노래'\u001b[0m\u001b[1;33m)\u001b[0m \u001b[1;31m# instance. instnance(안써) - >인자가 self인 경우에만\u001b[0m\u001b[1;33m\u001b[0m\u001b[0m\n\u001b[0m",
      "\u001b[1;31mAttributeError\u001b[0m: 'Parrot' object has no attribute 'sing'"
     ]
    }
   ],
   "source": [
    "문근영.sing('노래') # instance. instnance(안써) - >인자가 self인 경우에만"
   ]
  },
  {
   "cell_type": "code",
   "execution_count": 35,
   "metadata": {},
   "outputs": [
    {
     "ename": "AttributeError",
     "evalue": "'Parrot' object has no attribute 'dance'",
     "output_type": "error",
     "traceback": [
      "\u001b[1;31m---------------------------------------------------------------------------\u001b[0m",
      "\u001b[1;31mAttributeError\u001b[0m                            Traceback (most recent call last)",
      "\u001b[1;32m<ipython-input-35-3f4dad221ea4>\u001b[0m in \u001b[0;36m<module>\u001b[1;34m()\u001b[0m\n\u001b[1;32m----> 1\u001b[1;33m \u001b[0m문근영\u001b[0m\u001b[1;33m.\u001b[0m\u001b[0mdance\u001b[0m\u001b[1;33m(\u001b[0m\u001b[1;33m)\u001b[0m \u001b[1;31m# mutable은 자기 자신이 바뀌는것  #에ㅔ러!!\u001b[0m\u001b[1;33m\u001b[0m\u001b[0m\n\u001b[0m",
      "\u001b[1;31mAttributeError\u001b[0m: 'Parrot' object has no attribute 'dance'"
     ]
    }
   ],
   "source": [
    "문근영.dance() # mutable은 자기 자신이 바뀌는것  #에ㅔ러!!"
   ]
  },
  {
   "cell_type": "code",
   "execution_count": 37,
   "metadata": {},
   "outputs": [],
   "source": [
    "class Parrot:\n",
    "    \n",
    "    # instance attributes\n",
    "    def __init__(selfsssss, name, age):  \n",
    "                                    \n",
    "        selfsssss.name = name\n",
    "        selfsssss.age = age  \n",
    "    \n",
    "    # instance method`\n",
    "    def sing(self, song):\n",
    "        return \"{} sings {}\".format(self.name, song)\n",
    "\n",
    "    def dance(self):\n",
    "        return \"{} is now dancing\".format(self.name)"
   ]
  },
  {
   "cell_type": "code",
   "execution_count": 38,
   "metadata": {},
   "outputs": [
    {
     "data": {
      "text/plain": [
       "['__class__',\n",
       " '__delattr__',\n",
       " '__dict__',\n",
       " '__dir__',\n",
       " '__doc__',\n",
       " '__eq__',\n",
       " '__format__',\n",
       " '__ge__',\n",
       " '__getattribute__',\n",
       " '__gt__',\n",
       " '__hash__',\n",
       " '__init__',\n",
       " '__init_subclass__',\n",
       " '__le__',\n",
       " '__lt__',\n",
       " '__module__',\n",
       " '__ne__',\n",
       " '__new__',\n",
       " '__reduce__',\n",
       " '__reduce_ex__',\n",
       " '__repr__',\n",
       " '__setattr__',\n",
       " '__sizeof__',\n",
       " '__str__',\n",
       " '__subclasshook__',\n",
       " '__weakref__',\n",
       " 'age',\n",
       " 'name',\n",
       " 'species']"
      ]
     },
     "execution_count": 38,
     "metadata": {},
     "output_type": "execute_result"
    }
   ],
   "source": [
    "dir(문근영)"
   ]
  },
  {
   "cell_type": "code",
   "execution_count": 39,
   "metadata": {},
   "outputs": [],
   "source": [
    "문근영 = Parrot('문근영', 10)"
   ]
  },
  {
   "cell_type": "code",
   "execution_count": 40,
   "metadata": {},
   "outputs": [
    {
     "data": {
      "text/plain": [
       "'문근영 sings ss'"
      ]
     },
     "execution_count": 40,
     "metadata": {},
     "output_type": "execute_result"
    }
   ],
   "source": [
    "문근영.sing('ss')"
   ]
  },
  {
   "cell_type": "code",
   "execution_count": 41,
   "metadata": {},
   "outputs": [
    {
     "data": {
      "text/plain": [
       "'문근영 sings ss'"
      ]
     },
     "execution_count": 41,
     "metadata": {},
     "output_type": "execute_result"
    }
   ],
   "source": [
    "Parrot.sing(문근영,'ss')"
   ]
  },
  {
   "cell_type": "code",
   "execution_count": 42,
   "metadata": {},
   "outputs": [
    {
     "data": {
      "text/plain": [
       "'문근영 is now dancing'"
      ]
     },
     "execution_count": 42,
     "metadata": {},
     "output_type": "execute_result"
    }
   ],
   "source": [
    "문근영.dance()"
   ]
  },
  {
   "cell_type": "code",
   "execution_count": 43,
   "metadata": {},
   "outputs": [
    {
     "data": {
      "text/plain": [
       "'문근영 is now dancing'"
      ]
     },
     "execution_count": 43,
     "metadata": {},
     "output_type": "execute_result"
    }
   ],
   "source": [
    "Parrot.dance(문근영)"
   ]
  },
  {
   "cell_type": "markdown",
   "metadata": {},
   "source": [
    "# 2-2. class method "
   ]
  },
  {
   "cell_type": "code",
   "execution_count": 44,
   "metadata": {},
   "outputs": [],
   "source": [
    "class Parrot:\n",
    "    speceies = 'ss'\n",
    "    # instance attributes\n",
    "    def __init__(selfsssss, name, age): \n",
    "                                    \n",
    "        selfsssss.name = name\n",
    "        selfsssss.age = age  \n",
    "    \n",
    "    # instance method`\n",
    "    def sing(self, song):\n",
    "        return \"{} sings {}\".format(self.name, song)\n",
    "\n",
    "    def dance(self):\n",
    "        return \"{} is now dancing\".format(self.name)\n",
    "    \n",
    "    @classmethod # anotation -> decorator \n",
    "    def dance2(cls): # 클래스 메소드는 관례상 cls \n",
    "# !      return \"{} is now dancing2\".format(self.name) # cls인디 self -> 인스턴스 변수 면 에러 \n",
    "        return \"{} is now dancing2\""
   ]
  },
  {
   "cell_type": "code",
   "execution_count": 45,
   "metadata": {},
   "outputs": [],
   "source": [
    "a = Parrot('sun' ,42)"
   ]
  },
  {
   "cell_type": "code",
   "execution_count": 46,
   "metadata": {},
   "outputs": [
    {
     "data": {
      "text/plain": [
       "'sun is now dancing'"
      ]
     },
     "execution_count": 46,
     "metadata": {},
     "output_type": "execute_result"
    }
   ],
   "source": [
    "Parrot.dance(a)"
   ]
  },
  {
   "cell_type": "code",
   "execution_count": 47,
   "metadata": {},
   "outputs": [
    {
     "data": {
      "text/plain": [
       "'sun is now dancing'"
      ]
     },
     "execution_count": 47,
     "metadata": {},
     "output_type": "execute_result"
    }
   ],
   "source": [
    "a.dance()"
   ]
  },
  {
   "cell_type": "code",
   "execution_count": 48,
   "metadata": {},
   "outputs": [
    {
     "data": {
      "text/plain": [
       "'{} is now dancing2'"
      ]
     },
     "execution_count": 48,
     "metadata": {},
     "output_type": "execute_result"
    }
   ],
   "source": [
    "Parrot.dance2() # class 메소드는 class 명 을 쓰고 기입을 한다. "
   ]
  },
  {
   "cell_type": "code",
   "execution_count": 49,
   "metadata": {},
   "outputs": [
    {
     "data": {
      "text/plain": [
       "'{} is now dancing2'"
      ]
     },
     "execution_count": 49,
     "metadata": {},
     "output_type": "execute_result"
    }
   ],
   "source": [
    "a.__class__.dance2() # instance.__class__ -> real class 전자와 같은 개념 "
   ]
  },
  {
   "cell_type": "markdown",
   "metadata": {},
   "source": [
    "# Summary\n",
    "- 다른 언어와 달리 파이썬은 attr를 2가지 종류로 \n",
    "- class, instance \n",
    "\n",
    "- method안에 선언된 얘가 instance\n",
    "- method 밖; class\n",
    "\n",
    "- 자기 자신(instance).method -> 첫번째 인자 생략\n",
    "- class명.metod -> 자기자신(instance) 입력 \n",
    "- instance.__class__ -> class 와 같다 \n"
   ]
  },
  {
   "cell_type": "code",
   "execution_count": 50,
   "metadata": {},
   "outputs": [
    {
     "data": {
      "text/plain": [
       "'ss'"
      ]
     },
     "execution_count": 50,
     "metadata": {},
     "output_type": "execute_result"
    }
   ],
   "source": [
    "Parrot.speceies"
   ]
  },
  {
   "cell_type": "code",
   "execution_count": 51,
   "metadata": {},
   "outputs": [],
   "source": [
    "문근영 = Parrot(1,1,)"
   ]
  },
  {
   "cell_type": "code",
   "execution_count": 52,
   "metadata": {},
   "outputs": [
    {
     "data": {
      "text/plain": [
       "'ss'"
      ]
     },
     "execution_count": 52,
     "metadata": {},
     "output_type": "execute_result"
    }
   ],
   "source": [
    "문근영.__class__.speceies"
   ]
  },
  {
   "cell_type": "markdown",
   "metadata": {},
   "source": [
    "# 3. Inheritance\n",
    "- 객체지향의 특징은 상속으로 확장과 변경이 가능하다 (재사용), #함수같은경우 재사용이 힘들다. \n",
    "- 상속은 상식적으로 2가지 \n",
    "- 단일 상속(java), 다중상속 (c++)<br>\n",
    "<br>\n",
    "- 파이썬은 다중상속 ,추상클래스 기법 가능 <br>\n",
    "<br>\n",
    "- 가능한 다중상속 쓰지마 \n",
    "-  java에서는 다중상속이 없지만 다중상속처럼 쓸 수 있는것이  -> interface \n"
   ]
  },
  {
   "cell_type": "markdown",
   "metadata": {},
   "source": [
    "## Inheritance"
   ]
  },
  {
   "cell_type": "code",
   "execution_count": 55,
   "metadata": {},
   "outputs": [],
   "source": [
    "# parent class # 실제 오브젝트 상속 되어있음 기본적으로 \n",
    "class Bird:\n",
    "    # attr 0개 \n",
    "    # attr 추가 가능하기 때문에 오류가 아니다 . # 자바에서는 오류\n",
    "    \n",
    "    def __init__(self):\n",
    "        print(\"Bird is ready\")\n",
    "\n",
    "    def whoisThis(self):\n",
    "        print(\"Bird\")\n",
    "\n",
    "    def swim(self):\n",
    "        print(\"Swim faster\")"
   ]
  },
  {
   "cell_type": "code",
   "execution_count": 56,
   "metadata": {},
   "outputs": [],
   "source": [
    "# child class\n",
    "class Penguin(Bird,): # Bird class를 상속 \n",
    "                      # 왼쪽에 클래스 부터 상속; Bird,fish,~~이런 식으로 \n",
    "    pass              # bird가 갖고있는거 다 쓸 수 있다 .\n",
    "        \n",
    "    def swim(self): # 물론 인자 바꿀 수 있는디 지금은 같게 해줘 \n",
    "        print(\"I can swim\")\n",
    "            \n",
    "    def run(self):\n",
    "        print(\"Run faster\")\n",
    "        \n",
    "    def __init__(self):\n",
    "        # call super() function\n",
    "        super(Penguin, self).__init__() # 부모거 가져온다 == super().__init__() why??? 다중 상속이 있으니깐, \n",
    "                                        # 인자에 자기 자신 넣어도 된다.\n",
    "                                     \n",
    "        print(\"Penguin is ready\")    "
   ]
  },
  {
   "cell_type": "code",
   "execution_count": 57,
   "metadata": {},
   "outputs": [
    {
     "data": {
      "text/plain": [
       "['__class__',\n",
       " '__delattr__',\n",
       " '__dict__',\n",
       " '__dir__',\n",
       " '__doc__',\n",
       " '__eq__',\n",
       " '__format__',\n",
       " '__ge__',\n",
       " '__getattribute__',\n",
       " '__gt__',\n",
       " '__hash__',\n",
       " '__init__',\n",
       " '__init_subclass__',\n",
       " '__le__',\n",
       " '__lt__',\n",
       " '__module__',\n",
       " '__ne__',\n",
       " '__new__',\n",
       " '__reduce__',\n",
       " '__reduce_ex__',\n",
       " '__repr__',\n",
       " '__setattr__',\n",
       " '__sizeof__',\n",
       " '__str__',\n",
       " '__subclasshook__',\n",
       " '__weakref__',\n",
       " 'run',\n",
       " 'swim',\n",
       " 'whoisThis']"
      ]
     },
     "execution_count": 57,
     "metadata": {},
     "output_type": "execute_result"
    }
   ],
   "source": [
    "dir(Penguin) #bird가 갖고 있던 메소드 가지고 오게됨 <- 요것이 상속 "
   ]
  },
  {
   "cell_type": "code",
   "execution_count": 58,
   "metadata": {},
   "outputs": [],
   "source": [
    "# 상속에서는 부모가 없는걸 추가 하거나 바꿀 수 있따 (오버라이딩)"
   ]
  },
  {
   "cell_type": "code",
   "execution_count": 59,
   "metadata": {},
   "outputs": [
    {
     "name": "stdout",
     "output_type": "stream",
     "text": [
      "Bird is ready\n",
      "Penguin is ready\n",
      "Bird\n",
      "I can swim\n",
      "Run faster\n"
     ]
    }
   ],
   "source": [
    "peggy = Penguin()\n",
    "peggy.whoisThis() # 상속되었다. ~\n",
    "peggy.swim()\n",
    "peggy.run() # Bird에서는 Run을 할 수 없다. 이러한 상속이란 개념이 중요하다 ."
   ]
  },
  {
   "cell_type": "code",
   "execution_count": 60,
   "metadata": {},
   "outputs": [
    {
     "data": {
      "text/plain": [
       "(__main__.Penguin, __main__.Bird, object)"
      ]
     },
     "execution_count": 60,
     "metadata": {},
     "output_type": "execute_result"
    }
   ],
   "source": [
    "Penguin.__mro__"
   ]
  },
  {
   "cell_type": "markdown",
   "metadata": {},
   "source": [
    "# 3-1. 상속의 문제점 \n",
    "- 나는 어떤 기능 한 개만 바꾸고 싶은디 \n",
    "- 상속 받은거 엄청 커 그럼 부모 성질 다 갖고 오잖아\n",
    "- 그래서 메모리커지잖아 \n",
    "- 그래서 상속을 쓰지 않는게 대부분\n",
    "- 참고로 간단한 확장시킬 수 있어 다른 언어에서는 다른 방법으로 사용한다. swift ...etc\n",
    "- 가장 간단한 방법이기 때문에 (확장)"
   ]
  },
  {
   "cell_type": "code",
   "execution_count": 61,
   "metadata": {},
   "outputs": [
    {
     "name": "stdout",
     "output_type": "stream",
     "text": [
      "Bird is ready\n",
      "Penguin is ready\n",
      "Penguin\n",
      "I can swim\n",
      "Run faster\n"
     ]
    }
   ],
   "source": [
    "# child class\n",
    "class Penguin(Bird,): \n",
    "                      \n",
    "    pass              \n",
    "        \n",
    "    def swim(self): \n",
    "        print(\"I can swim\")\n",
    "            \n",
    "    def run(self):\n",
    "        print(\"Run faster\")\n",
    "        \n",
    "    def __init__(self):\n",
    "        # call super() function\n",
    "        super(Penguin, self).__init__() \n",
    "                                       \n",
    "                                     \n",
    "        print(\"Penguin is ready\")    \n",
    "    def whoisThis(self):\n",
    "        print(\"Penguin\")\n",
    "\n",
    "    def run(self):\n",
    "        print(\"Run faster\")\n",
    "\n",
    "peggy = Penguin()\n",
    "peggy.whoisThis()\n",
    "peggy.swim()\n",
    "peggy.run()"
   ]
  },
  {
   "cell_type": "markdown",
   "metadata": {},
   "source": [
    "## Encapsulation"
   ]
  },
  {
   "cell_type": "code",
   "execution_count": 62,
   "metadata": {},
   "outputs": [],
   "source": [
    "# class는 private가 없어서 외부에서 관리 해주는게 어렵다 \n",
    "# 그래서 캡슐화 \n",
    "# 근디 mutable 땜에 또 골치 아프다 "
   ]
  },
  {
   "cell_type": "code",
   "execution_count": 1,
   "metadata": {},
   "outputs": [],
   "source": [
    "class Computer:\n",
    "\n",
    "    def __init__(self): # __ -> private _ -> 예약어\n",
    "        self.__maxprice = 900\n",
    "\n",
    "    def sell(self):\n",
    "        print(\"Selling Price: {}\".format(self.__maxprice))\n",
    "        \n",
    "    def setMaxPrice(self, price):\n",
    "        self.__maxprice = price"
   ]
  },
  {
   "cell_type": "code",
   "execution_count": 10,
   "metadata": {},
   "outputs": [
    {
     "name": "stdout",
     "output_type": "stream",
     "text": [
      "Selling Price: 900\n",
      "Selling Price: 900\n",
      "Selling Price: 1000\n"
     ]
    }
   ],
   "source": [
    "c = Computer()\n",
    "c.sell()\n",
    "\n",
    "# change the price\n",
    "c.__maxprice = 1000\n",
    "c.sell()\n",
    "\n",
    "# using setter function\n",
    "c.setMaxPrice(1000)\n",
    "c.sell()"
   ]
  },
  {
   "cell_type": "code",
   "execution_count": 11,
   "metadata": {},
   "outputs": [
    {
     "data": {
      "text/plain": [
       "1000"
      ]
     },
     "execution_count": 11,
     "metadata": {},
     "output_type": "execute_result"
    }
   ],
   "source": [
    "c.__maxprice"
   ]
  },
  {
   "cell_type": "code",
   "execution_count": 12,
   "metadata": {},
   "outputs": [
    {
     "data": {
      "text/plain": [
       "{'_Computer__maxprice': 1000, '__maxprice': 1000}"
      ]
     },
     "execution_count": 12,
     "metadata": {},
     "output_type": "execute_result"
    }
   ],
   "source": [
    "vars(c)"
   ]
  },
  {
   "cell_type": "code",
   "execution_count": 3,
   "metadata": {},
   "outputs": [
    {
     "data": {
      "text/plain": [
       "['_Computer__maxprice',\n",
       " '__class__',\n",
       " '__delattr__',\n",
       " '__dict__',\n",
       " '__dir__',\n",
       " '__doc__',\n",
       " '__eq__',\n",
       " '__format__',\n",
       " '__ge__',\n",
       " '__getattribute__',\n",
       " '__gt__',\n",
       " '__hash__',\n",
       " '__init__',\n",
       " '__init_subclass__',\n",
       " '__le__',\n",
       " '__lt__',\n",
       " '__maxprice',\n",
       " '__module__',\n",
       " '__ne__',\n",
       " '__new__',\n",
       " '__reduce__',\n",
       " '__reduce_ex__',\n",
       " '__repr__',\n",
       " '__setattr__',\n",
       " '__sizeof__',\n",
       " '__str__',\n",
       " '__subclasshook__',\n",
       " '__weakref__',\n",
       " 'sell',\n",
       " 'setMaxPrice']"
      ]
     },
     "execution_count": 3,
     "metadata": {},
     "output_type": "execute_result"
    }
   ],
   "source": [
    "dir(c)"
   ]
  },
  {
   "cell_type": "code",
   "execution_count": 66,
   "metadata": {},
   "outputs": [
    {
     "data": {
      "text/plain": [
       "{'_Computer__maxprice': 1000, '__maxprice': 1000}"
      ]
     },
     "execution_count": 66,
     "metadata": {},
     "output_type": "execute_result"
    }
   ],
   "source": [
    "vars(c)"
   ]
  },
  {
   "cell_type": "code",
   "execution_count": 67,
   "metadata": {},
   "outputs": [
    {
     "data": {
      "text/plain": [
       "['Bird',\n",
       " 'Computer',\n",
       " 'DataFrame',\n",
       " 'In',\n",
       " 'Out',\n",
       " 'Parrot',\n",
       " 'Penguin',\n",
       " 'Series',\n",
       " '_',\n",
       " '_10',\n",
       " '_11',\n",
       " '_12',\n",
       " '_13',\n",
       " '_14',\n",
       " '_15',\n",
       " '_16',\n",
       " '_17',\n",
       " '_23',\n",
       " '_24',\n",
       " '_26',\n",
       " '_27',\n",
       " '_29',\n",
       " '_33',\n",
       " '_36',\n",
       " '_38',\n",
       " '_4',\n",
       " '_40',\n",
       " '_41',\n",
       " '_42',\n",
       " '_43',\n",
       " '_46',\n",
       " '_47',\n",
       " '_48',\n",
       " '_49',\n",
       " '_5',\n",
       " '_50',\n",
       " '_52',\n",
       " '_57',\n",
       " '_6',\n",
       " '_60',\n",
       " '_66',\n",
       " '_7',\n",
       " '_8',\n",
       " '__',\n",
       " '___',\n",
       " '__builtin__',\n",
       " '__builtins__',\n",
       " '__doc__',\n",
       " '__loader__',\n",
       " '__name__',\n",
       " '__package__',\n",
       " '__spec__',\n",
       " '_dh',\n",
       " '_i',\n",
       " '_i1',\n",
       " '_i10',\n",
       " '_i11',\n",
       " '_i12',\n",
       " '_i13',\n",
       " '_i14',\n",
       " '_i15',\n",
       " '_i16',\n",
       " '_i17',\n",
       " '_i18',\n",
       " '_i19',\n",
       " '_i2',\n",
       " '_i20',\n",
       " '_i21',\n",
       " '_i22',\n",
       " '_i23',\n",
       " '_i24',\n",
       " '_i25',\n",
       " '_i26',\n",
       " '_i27',\n",
       " '_i28',\n",
       " '_i29',\n",
       " '_i3',\n",
       " '_i30',\n",
       " '_i31',\n",
       " '_i32',\n",
       " '_i33',\n",
       " '_i34',\n",
       " '_i35',\n",
       " '_i36',\n",
       " '_i37',\n",
       " '_i38',\n",
       " '_i39',\n",
       " '_i4',\n",
       " '_i40',\n",
       " '_i41',\n",
       " '_i42',\n",
       " '_i43',\n",
       " '_i44',\n",
       " '_i45',\n",
       " '_i46',\n",
       " '_i47',\n",
       " '_i48',\n",
       " '_i49',\n",
       " '_i5',\n",
       " '_i50',\n",
       " '_i51',\n",
       " '_i52',\n",
       " '_i53',\n",
       " '_i54',\n",
       " '_i55',\n",
       " '_i56',\n",
       " '_i57',\n",
       " '_i58',\n",
       " '_i59',\n",
       " '_i6',\n",
       " '_i60',\n",
       " '_i61',\n",
       " '_i62',\n",
       " '_i63',\n",
       " '_i64',\n",
       " '_i65',\n",
       " '_i66',\n",
       " '_i67',\n",
       " '_i7',\n",
       " '_i8',\n",
       " '_i9',\n",
       " '_ih',\n",
       " '_ii',\n",
       " '_iii',\n",
       " '_oh',\n",
       " 'a',\n",
       " 'blu',\n",
       " 'c',\n",
       " 'exit',\n",
       " 'get_ipython',\n",
       " 'np',\n",
       " 'pd',\n",
       " 'peggy',\n",
       " 'plt',\n",
       " 'quit',\n",
       " 'woo',\n",
       " '문근영']"
      ]
     },
     "execution_count": 67,
     "metadata": {},
     "output_type": "execute_result"
    }
   ],
   "source": [
    "dir() # ipthon에서만 나오는 것\n",
    "      # 현재 인터페이스에 저장된거 다 나옴 "
   ]
  },
  {
   "cell_type": "code",
   "execution_count": 68,
   "metadata": {},
   "outputs": [
    {
     "data": {
      "text/plain": [
       "'# 파이썬에 클래스는 오브젝트일 수 잇다 . <- 파이썬의 모든 클래스는 오브젝트이다 .\\n# 클래스변수 <- static과 비슷하다고 생각하면됨 \\n# 단, 여기서는 공유값(static)이 아니다 .'"
      ]
     },
     "execution_count": 68,
     "metadata": {},
     "output_type": "execute_result"
    }
   ],
   "source": [
    "_i20"
   ]
  },
  {
   "cell_type": "code",
   "execution_count": 69,
   "metadata": {},
   "outputs": [
    {
     "data": {
      "text/plain": [
       "{'Bird': __main__.Bird,\n",
       " 'Computer': __main__.Computer,\n",
       " 'DataFrame': pandas.core.frame.DataFrame,\n",
       " 'In': ['',\n",
       "  \"문근영 = Parrot('문근영', 30)\",\n",
       "  'class Parrot: # 멤버 변수가 총 3개 \\n\\n    # class attribute\\n    species = \"bird\"\\n\\n    # instance attribute\\n    def __init__(self, name, age): # 인자 2개 받는다.\\n        self.name = name\\n        self.age = age',\n",
       "  '# instantiate the Parrot class\\nblu = Parrot(\"Blu\", 10) # 인스턴스화 \\nwoo = Parrot(\"Woo\", 15)',\n",
       "  'type(blu) #_main__ 현재 작업하고있는 클래스',\n",
       "  'type(Parrot) # type -> class \\n             #__main -> 현재작업하고있는 클래스',\n",
       "  'dir(blu)',\n",
       "  'vars(blu) # 인스턴스 어트리뷰트 보여줌\\n\\n# 총 어트리뷰트는 3개 \\n# 왜 스피시즈는 안나와? \\n# 동적으로 생성된건 인스턴스 어트리뷰트!! self가 붙어있는거 \\n# 클래스가 붙어 있는건 한 개 ',\n",
       "  'blu.__dict__',\n",
       "  \"blu.species = 'bird2'\",\n",
       "  'blu.__dict__',\n",
       "  'dir(blu) # 클래스, 인스턴스 차이점 (어트리뷰트)',\n",
       "  'woo.species # 클래스 어트리뷰트',\n",
       "  'woo.__dict__ # specise 가 안나와 ',\n",
       "  'dir(blu) # species  클래스 어트리뷰트를 덮은걸까?\\n         #인스턴스 일까? < - 이거임 (인스턴스 어트리뷰트)',\n",
       "  'blu.species',\n",
       "  'woo.species',\n",
       "  'Parrot.species # == class.class attr ',\n",
       "  'Parrot.name # instance attr- > instane화 되어있는 것만 ',\n",
       "  '# 같은 name instance이름으로 덮어도 남아있는다 ',\n",
       "  '# 파이썬에 클래스는 오브젝트일 수 잇다 . <- 파이썬의 모든 클래스는 오브젝트이다 .\\n# 클래스변수 <- static과 비슷하다고 생각하면됨 \\n# 단, 여기서는 공유값(static)이 아니다 .',\n",
       "  '# access the class attributes\\nprint(\"Blu is a {}\".format(blu.__class__.species))\\nprint(\"Woo is also a {}\".format(woo.__class__.species))\\n\\n# access the instance attributes\\nprint(\"{} is {} years old\".format( blu.name, blu.age))\\nprint(\"{} is {} years old\".format( woo.name, woo.age))',\n",
       "  \"문근영 = Parrot('문근영', 30)\",\n",
       "  'vars(문근영)',\n",
       "  '문근영.species',\n",
       "  \"문근영.species = 'bird2'\",\n",
       "  '문근영.species # instance attr\\n                # 이름을 똑같이 하면 instance가 우선순위!!! \\n                # 클래스 변수는 남아 있음\\n                # 그래서 이름좀 다르게해라~~~',\n",
       "  '문근영.__class__.species # class attr \\n                        # 이런짓은 하지마 ...  instance attr 똑같이 nameing하는거 .. ',\n",
       "  '# 인스턴스화 된건 -> self!!! \\n# atrr -> 3개 ( Parrot안에)',\n",
       "  '문근영.__class__ # __main__.Parrot <- 현재 작업하고 잇는공간 ',\n",
       "  'class Parrot:\\n    \\n    # instance attributes\\n    def __init__(self, name, age):  # __ __ <- special mehod, magic method \\n                                    # self가 들어갔다 인스턴스 메소드 \\n                                    # 그럼 클래스 메소드도 잇겠네 \\n                                    # 메소드에 첫 번째 인자는, 자기자신을 가리키는 것이다.\\n                                    \\n        self.name = name\\n        self.age = age\\n    \\n    # instance method\\n    def sing(self, song):\\n        return \"{} sings {}\".format(self.name, song)\\n\\n    def dance(self):\\n        return \"{} is now dancing\".format(self.name)\\n\\n# instantiate the object\\nblu = Parrot(\"Blu\", 10)\\n\\n# call our instance methods\\nprint(blu.sing(\"\\'Happy\\'\"))\\nprint(blu.dance())',\n",
       "  'class Parrot:\\n    \\n    # instance attributes\\n    def __init__(selfsssss, name, age): \\n                                       \\n        selfsssss.name = name\\n        selfsssss.age = age  # self란건 관례, (권장한다.) 아무것나 바꿔두됨, keyword가 아니라서 \\n    \\n    # instance method\\n    def sing(self, song):\\n        return \"{} sings {}\".format(self.name, song)\\n\\n    def dance(self):\\n        return \"{} is now dancing\".format(self.name)',\n",
       "  '# instantiate the object\\nblu = Parrot(\"Blu\", 10)\\n\\n# call our instance methods\\nprint(blu.sing(\"\\'Happy\\'\"))\\nprint(blu.dance())',\n",
       "  'Parrot.sing(문근영,\"노래\") # class. instance( 인스턴스를 기입 하야힌다.)',\n",
       "  \"문근영.sing('노래') # instance. instnance(안써) - >인자가 self인 경우에만\",\n",
       "  '문근영.dance() # mutable은 자기 자신이 바뀌는것  #에ㅔ러!!',\n",
       "  'dir(문근영)',\n",
       "  'class Parrot:\\n    \\n    # instance attributes\\n    def __init__(selfsssss, name, age):  \\n                                    \\n        selfsssss.name = name\\n        selfsssss.age = age  \\n    \\n    # instance method`\\n    def sing(self, song):\\n        return \"{} sings {}\".format(self.name, song)\\n\\n    def dance(self):\\n        return \"{} is now dancing\".format(self.name)',\n",
       "  'dir(문근영)',\n",
       "  \"문근영 = Parrot('문근영', 10)\",\n",
       "  \"문근영.sing('ss')\",\n",
       "  \"Parrot.sing(문근영,'ss')\",\n",
       "  '문근영.dance()',\n",
       "  'Parrot.dance(문근영)',\n",
       "  'class Parrot:\\n    speceies = \\'ss\\'\\n    # instance attributes\\n    def __init__(selfsssss, name, age): \\n                                    \\n        selfsssss.name = name\\n        selfsssss.age = age  \\n    \\n    # instance method`\\n    def sing(self, song):\\n        return \"{} sings {}\".format(self.name, song)\\n\\n    def dance(self):\\n        return \"{} is now dancing\".format(self.name)\\n    \\n    @classmethod # anotation -> decorator \\n    def dance2(cls): # 클래스 메소드는 관례상 cls \\n# !      return \"{} is now dancing2\".format(self.name) # cls인디 self -> 인스턴스 변수 면 에러 \\n        return \"{} is now dancing2\"',\n",
       "  \"a = Parrot('sun' ,42)\",\n",
       "  'Parrot.dance(a)',\n",
       "  'a.dance()',\n",
       "  'Parrot.dance2() # class 메소드는 class 명 을 쓰고 기입을 한다. ',\n",
       "  'a.__class__.dance2() # instance.__class__ -> real class 전자와 같은 개념 ',\n",
       "  'Parrot.speceies',\n",
       "  '문근영 = Parrot(1,1,)',\n",
       "  '문근영.__class__.speceies',\n",
       "  '# parent class # 실제 오브젝트 상속 되어있음 기본적으로 \\nclass Bird:\\n    # attr 0개 \\n    # attr 추가 가능하기 때문에 오류가 아니다 . # 자바에서는 오류\\n    \\n    def __init__(self):\\n        print(\"Bird is ready\")\\n\\n    def whoisThis(self):\\n        print(\"Bird\")\\n\\n    def swim(self):\\n        print(\"Swim faster\")',\n",
       "  '# child class\\nclass Penguin(Bird,): # Bird class를 상속 \\n                      # 왼쪽에 클래스 부터 상속; Bird,fish,~~이런 식으로 \\n    pass              # bird가 갖고있는거 다 쓸 수 있다 .\\n        \\n    def swim(self): # 물론 인자 바꿀 수 있는디 지금은 같게 해줘 \\n        print(\"I can swim\")\\n            \\n    def run(self):\\n        print(\"Run faster\")\\n        \\n    def __init__(self):\\n        # call super() function\\n        super(Penguin, self).__init__() # 부모거 가져온다 == super().__init__() why??? 다중 상속이 있으니깐, \\n                                        # 인자에 자기 자신 넣어도 된다.\\n                                     \\n        print(\"Penguin is ready\")    ',\n",
       "  '# parent class # 실제 오브젝트 상속 되어있음 기본적으로 \\nclass Bird:\\n    # attr 0개 \\n    # attr 추가 가능하기 때문에 오류가 아니다 . # 자바에서는 오류\\n    \\n    def __init__(self):\\n        print(\"Bird is ready\")\\n\\n    def whoisThis(self):\\n        print(\"Bird\")\\n\\n    def swim(self):\\n        print(\"Swim faster\")',\n",
       "  '# child class\\nclass Penguin(Bird,): # Bird class를 상속 \\n                      # 왼쪽에 클래스 부터 상속; Bird,fish,~~이런 식으로 \\n    pass              # bird가 갖고있는거 다 쓸 수 있다 .\\n        \\n    def swim(self): # 물론 인자 바꿀 수 있는디 지금은 같게 해줘 \\n        print(\"I can swim\")\\n            \\n    def run(self):\\n        print(\"Run faster\")\\n        \\n    def __init__(self):\\n        # call super() function\\n        super(Penguin, self).__init__() # 부모거 가져온다 == super().__init__() why??? 다중 상속이 있으니깐, \\n                                        # 인자에 자기 자신 넣어도 된다.\\n                                     \\n        print(\"Penguin is ready\")    ',\n",
       "  'dir(Penguin) #bird가 갖고 있던 메소드 가지고 오게됨 <- 요것이 상속 ',\n",
       "  '# 상속에서는 부모가 없는걸 추가 하거나 바꿀 수 있따 (오버라이딩)',\n",
       "  'peggy = Penguin()\\npeggy.whoisThis() # 상속되었다. ~\\npeggy.swim()\\npeggy.run() # Bird에서는 Run을 할 수 없다. 이러한 상속이란 개념이 중요하다 .',\n",
       "  'Penguin.__mro__',\n",
       "  '# child class\\nclass Penguin(Bird,): \\n                      \\n    pass              \\n        \\n    def swim(self): \\n        print(\"I can swim\")\\n            \\n    def run(self):\\n        print(\"Run faster\")\\n        \\n    def __init__(self):\\n        # call super() function\\n        super(Penguin, self).__init__() \\n                                       \\n                                     \\n        print(\"Penguin is ready\")    \\n    def whoisThis(self):\\n        print(\"Penguin\")\\n\\n    def run(self):\\n        print(\"Run faster\")\\n\\npeggy = Penguin()\\npeggy.whoisThis()\\npeggy.swim()\\npeggy.run()',\n",
       "  '# class는 private가 없어서 외부에서 관리 해주는게 어렵다 \\n# 그래서 캡슐화 \\n# 근디 mutable 땜에 또 골치 아프다 ',\n",
       "  'class Computer:\\n\\n    def __init__(self): # __ -> private _ -> 예약어\\n        self.__maxprice = 900\\n\\n    def sell(self):\\n        print(\"Selling Price: {}\".format(self.__maxprice))\\n        \\n    def setMaxPrice(self, price):\\n        self.__maxprice = price',\n",
       "  'c = Computer()\\nc.sell()\\n\\n# change the price\\nc.__maxprice = 1000\\nc.sell()\\n\\n# using setter function\\nc.setMaxPrice(1000)\\nc.sell()',\n",
       "  'c = Computer()\\nc.sell()\\n\\n# change the price\\nc.__maxprice = 1000\\nc.sell()\\n\\n# using setter function\\nc.setMaxPrice(1000)\\nc.sell()',\n",
       "  'vars(c)',\n",
       "  'dir() # ipthon에서만 나오는 것\\n      # 현재 인터페이스에 저장된거 다 나옴 ',\n",
       "  '_i20',\n",
       "  'locals() # 영역에 해당된거 다 나옴 #자료구조의 기본적인 구조는dict'],\n",
       " 'Out': {4: __main__.Parrot,\n",
       "  5: type,\n",
       "  6: ['__class__',\n",
       "   '__delattr__',\n",
       "   '__dict__',\n",
       "   '__dir__',\n",
       "   '__doc__',\n",
       "   '__eq__',\n",
       "   '__format__',\n",
       "   '__ge__',\n",
       "   '__getattribute__',\n",
       "   '__gt__',\n",
       "   '__hash__',\n",
       "   '__init__',\n",
       "   '__init_subclass__',\n",
       "   '__le__',\n",
       "   '__lt__',\n",
       "   '__module__',\n",
       "   '__ne__',\n",
       "   '__new__',\n",
       "   '__reduce__',\n",
       "   '__reduce_ex__',\n",
       "   '__repr__',\n",
       "   '__setattr__',\n",
       "   '__sizeof__',\n",
       "   '__str__',\n",
       "   '__subclasshook__',\n",
       "   '__weakref__',\n",
       "   'age',\n",
       "   'name',\n",
       "   'species'],\n",
       "  7: {'age': 10, 'name': 'Blu', 'species': 'bird2'},\n",
       "  8: {'age': 10, 'name': 'Blu', 'species': 'bird2'},\n",
       "  10: {'age': 10, 'name': 'Blu', 'species': 'bird2'},\n",
       "  11: ['__class__',\n",
       "   '__delattr__',\n",
       "   '__dict__',\n",
       "   '__dir__',\n",
       "   '__doc__',\n",
       "   '__eq__',\n",
       "   '__format__',\n",
       "   '__ge__',\n",
       "   '__getattribute__',\n",
       "   '__gt__',\n",
       "   '__hash__',\n",
       "   '__init__',\n",
       "   '__init_subclass__',\n",
       "   '__le__',\n",
       "   '__lt__',\n",
       "   '__module__',\n",
       "   '__ne__',\n",
       "   '__new__',\n",
       "   '__reduce__',\n",
       "   '__reduce_ex__',\n",
       "   '__repr__',\n",
       "   '__setattr__',\n",
       "   '__sizeof__',\n",
       "   '__str__',\n",
       "   '__subclasshook__',\n",
       "   '__weakref__',\n",
       "   'age',\n",
       "   'name',\n",
       "   'species'],\n",
       "  12: 'bird',\n",
       "  13: {'age': 15, 'name': 'Woo'},\n",
       "  14: ['__class__',\n",
       "   '__delattr__',\n",
       "   '__dict__',\n",
       "   '__dir__',\n",
       "   '__doc__',\n",
       "   '__eq__',\n",
       "   '__format__',\n",
       "   '__ge__',\n",
       "   '__getattribute__',\n",
       "   '__gt__',\n",
       "   '__hash__',\n",
       "   '__init__',\n",
       "   '__init_subclass__',\n",
       "   '__le__',\n",
       "   '__lt__',\n",
       "   '__module__',\n",
       "   '__ne__',\n",
       "   '__new__',\n",
       "   '__reduce__',\n",
       "   '__reduce_ex__',\n",
       "   '__repr__',\n",
       "   '__setattr__',\n",
       "   '__sizeof__',\n",
       "   '__str__',\n",
       "   '__subclasshook__',\n",
       "   '__weakref__',\n",
       "   'age',\n",
       "   'name',\n",
       "   'species'],\n",
       "  15: 'bird2',\n",
       "  16: 'bird',\n",
       "  17: 'bird',\n",
       "  23: {'age': 30, 'name': '문근영', 'species': 'bird2'},\n",
       "  24: 'bird',\n",
       "  26: 'bird2',\n",
       "  27: 'bird',\n",
       "  29: __main__.Parrot,\n",
       "  33: '문근영 sings 노래',\n",
       "  36: ['__class__',\n",
       "   '__delattr__',\n",
       "   '__dict__',\n",
       "   '__dir__',\n",
       "   '__doc__',\n",
       "   '__eq__',\n",
       "   '__format__',\n",
       "   '__ge__',\n",
       "   '__getattribute__',\n",
       "   '__gt__',\n",
       "   '__hash__',\n",
       "   '__init__',\n",
       "   '__init_subclass__',\n",
       "   '__le__',\n",
       "   '__lt__',\n",
       "   '__module__',\n",
       "   '__ne__',\n",
       "   '__new__',\n",
       "   '__reduce__',\n",
       "   '__reduce_ex__',\n",
       "   '__repr__',\n",
       "   '__setattr__',\n",
       "   '__sizeof__',\n",
       "   '__str__',\n",
       "   '__subclasshook__',\n",
       "   '__weakref__',\n",
       "   'age',\n",
       "   'name',\n",
       "   'species'],\n",
       "  38: ['__class__',\n",
       "   '__delattr__',\n",
       "   '__dict__',\n",
       "   '__dir__',\n",
       "   '__doc__',\n",
       "   '__eq__',\n",
       "   '__format__',\n",
       "   '__ge__',\n",
       "   '__getattribute__',\n",
       "   '__gt__',\n",
       "   '__hash__',\n",
       "   '__init__',\n",
       "   '__init_subclass__',\n",
       "   '__le__',\n",
       "   '__lt__',\n",
       "   '__module__',\n",
       "   '__ne__',\n",
       "   '__new__',\n",
       "   '__reduce__',\n",
       "   '__reduce_ex__',\n",
       "   '__repr__',\n",
       "   '__setattr__',\n",
       "   '__sizeof__',\n",
       "   '__str__',\n",
       "   '__subclasshook__',\n",
       "   '__weakref__',\n",
       "   'age',\n",
       "   'name',\n",
       "   'species'],\n",
       "  40: '문근영 sings ss',\n",
       "  41: '문근영 sings ss',\n",
       "  42: '문근영 is now dancing',\n",
       "  43: '문근영 is now dancing',\n",
       "  46: 'sun is now dancing',\n",
       "  47: 'sun is now dancing',\n",
       "  48: '{} is now dancing2',\n",
       "  49: '{} is now dancing2',\n",
       "  50: 'ss',\n",
       "  52: 'ss',\n",
       "  57: ['__class__',\n",
       "   '__delattr__',\n",
       "   '__dict__',\n",
       "   '__dir__',\n",
       "   '__doc__',\n",
       "   '__eq__',\n",
       "   '__format__',\n",
       "   '__ge__',\n",
       "   '__getattribute__',\n",
       "   '__gt__',\n",
       "   '__hash__',\n",
       "   '__init__',\n",
       "   '__init_subclass__',\n",
       "   '__le__',\n",
       "   '__lt__',\n",
       "   '__module__',\n",
       "   '__ne__',\n",
       "   '__new__',\n",
       "   '__reduce__',\n",
       "   '__reduce_ex__',\n",
       "   '__repr__',\n",
       "   '__setattr__',\n",
       "   '__sizeof__',\n",
       "   '__str__',\n",
       "   '__subclasshook__',\n",
       "   '__weakref__',\n",
       "   'run',\n",
       "   'swim',\n",
       "   'whoisThis'],\n",
       "  60: (__main__.Penguin, __main__.Bird, object),\n",
       "  66: {'_Computer__maxprice': 1000, '__maxprice': 1000},\n",
       "  67: ['Bird',\n",
       "   'Computer',\n",
       "   'DataFrame',\n",
       "   'In',\n",
       "   'Out',\n",
       "   'Parrot',\n",
       "   'Penguin',\n",
       "   'Series',\n",
       "   '_',\n",
       "   '_10',\n",
       "   '_11',\n",
       "   '_12',\n",
       "   '_13',\n",
       "   '_14',\n",
       "   '_15',\n",
       "   '_16',\n",
       "   '_17',\n",
       "   '_23',\n",
       "   '_24',\n",
       "   '_26',\n",
       "   '_27',\n",
       "   '_29',\n",
       "   '_33',\n",
       "   '_36',\n",
       "   '_38',\n",
       "   '_4',\n",
       "   '_40',\n",
       "   '_41',\n",
       "   '_42',\n",
       "   '_43',\n",
       "   '_46',\n",
       "   '_47',\n",
       "   '_48',\n",
       "   '_49',\n",
       "   '_5',\n",
       "   '_50',\n",
       "   '_52',\n",
       "   '_57',\n",
       "   '_6',\n",
       "   '_60',\n",
       "   '_66',\n",
       "   '_7',\n",
       "   '_8',\n",
       "   '__',\n",
       "   '___',\n",
       "   '__builtin__',\n",
       "   '__builtins__',\n",
       "   '__doc__',\n",
       "   '__loader__',\n",
       "   '__name__',\n",
       "   '__package__',\n",
       "   '__spec__',\n",
       "   '_dh',\n",
       "   '_i',\n",
       "   '_i1',\n",
       "   '_i10',\n",
       "   '_i11',\n",
       "   '_i12',\n",
       "   '_i13',\n",
       "   '_i14',\n",
       "   '_i15',\n",
       "   '_i16',\n",
       "   '_i17',\n",
       "   '_i18',\n",
       "   '_i19',\n",
       "   '_i2',\n",
       "   '_i20',\n",
       "   '_i21',\n",
       "   '_i22',\n",
       "   '_i23',\n",
       "   '_i24',\n",
       "   '_i25',\n",
       "   '_i26',\n",
       "   '_i27',\n",
       "   '_i28',\n",
       "   '_i29',\n",
       "   '_i3',\n",
       "   '_i30',\n",
       "   '_i31',\n",
       "   '_i32',\n",
       "   '_i33',\n",
       "   '_i34',\n",
       "   '_i35',\n",
       "   '_i36',\n",
       "   '_i37',\n",
       "   '_i38',\n",
       "   '_i39',\n",
       "   '_i4',\n",
       "   '_i40',\n",
       "   '_i41',\n",
       "   '_i42',\n",
       "   '_i43',\n",
       "   '_i44',\n",
       "   '_i45',\n",
       "   '_i46',\n",
       "   '_i47',\n",
       "   '_i48',\n",
       "   '_i49',\n",
       "   '_i5',\n",
       "   '_i50',\n",
       "   '_i51',\n",
       "   '_i52',\n",
       "   '_i53',\n",
       "   '_i54',\n",
       "   '_i55',\n",
       "   '_i56',\n",
       "   '_i57',\n",
       "   '_i58',\n",
       "   '_i59',\n",
       "   '_i6',\n",
       "   '_i60',\n",
       "   '_i61',\n",
       "   '_i62',\n",
       "   '_i63',\n",
       "   '_i64',\n",
       "   '_i65',\n",
       "   '_i66',\n",
       "   '_i67',\n",
       "   '_i7',\n",
       "   '_i8',\n",
       "   '_i9',\n",
       "   '_ih',\n",
       "   '_ii',\n",
       "   '_iii',\n",
       "   '_oh',\n",
       "   'a',\n",
       "   'blu',\n",
       "   'c',\n",
       "   'exit',\n",
       "   'get_ipython',\n",
       "   'np',\n",
       "   'pd',\n",
       "   'peggy',\n",
       "   'plt',\n",
       "   'quit',\n",
       "   'woo',\n",
       "   '문근영'],\n",
       "  68: '# 파이썬에 클래스는 오브젝트일 수 잇다 . <- 파이썬의 모든 클래스는 오브젝트이다 .\\n# 클래스변수 <- static과 비슷하다고 생각하면됨 \\n# 단, 여기서는 공유값(static)이 아니다 .'},\n",
       " 'Parrot': __main__.Parrot,\n",
       " 'Penguin': __main__.Penguin,\n",
       " 'Series': pandas.core.series.Series,\n",
       " '_': '# 파이썬에 클래스는 오브젝트일 수 잇다 . <- 파이썬의 모든 클래스는 오브젝트이다 .\\n# 클래스변수 <- static과 비슷하다고 생각하면됨 \\n# 단, 여기서는 공유값(static)이 아니다 .',\n",
       " '_10': {'age': 10, 'name': 'Blu', 'species': 'bird2'},\n",
       " '_11': ['__class__',\n",
       "  '__delattr__',\n",
       "  '__dict__',\n",
       "  '__dir__',\n",
       "  '__doc__',\n",
       "  '__eq__',\n",
       "  '__format__',\n",
       "  '__ge__',\n",
       "  '__getattribute__',\n",
       "  '__gt__',\n",
       "  '__hash__',\n",
       "  '__init__',\n",
       "  '__init_subclass__',\n",
       "  '__le__',\n",
       "  '__lt__',\n",
       "  '__module__',\n",
       "  '__ne__',\n",
       "  '__new__',\n",
       "  '__reduce__',\n",
       "  '__reduce_ex__',\n",
       "  '__repr__',\n",
       "  '__setattr__',\n",
       "  '__sizeof__',\n",
       "  '__str__',\n",
       "  '__subclasshook__',\n",
       "  '__weakref__',\n",
       "  'age',\n",
       "  'name',\n",
       "  'species'],\n",
       " '_12': 'bird',\n",
       " '_13': {'age': 15, 'name': 'Woo'},\n",
       " '_14': ['__class__',\n",
       "  '__delattr__',\n",
       "  '__dict__',\n",
       "  '__dir__',\n",
       "  '__doc__',\n",
       "  '__eq__',\n",
       "  '__format__',\n",
       "  '__ge__',\n",
       "  '__getattribute__',\n",
       "  '__gt__',\n",
       "  '__hash__',\n",
       "  '__init__',\n",
       "  '__init_subclass__',\n",
       "  '__le__',\n",
       "  '__lt__',\n",
       "  '__module__',\n",
       "  '__ne__',\n",
       "  '__new__',\n",
       "  '__reduce__',\n",
       "  '__reduce_ex__',\n",
       "  '__repr__',\n",
       "  '__setattr__',\n",
       "  '__sizeof__',\n",
       "  '__str__',\n",
       "  '__subclasshook__',\n",
       "  '__weakref__',\n",
       "  'age',\n",
       "  'name',\n",
       "  'species'],\n",
       " '_15': 'bird2',\n",
       " '_16': 'bird',\n",
       " '_17': 'bird',\n",
       " '_23': {'age': 30, 'name': '문근영', 'species': 'bird2'},\n",
       " '_24': 'bird',\n",
       " '_26': 'bird2',\n",
       " '_27': 'bird',\n",
       " '_29': __main__.Parrot,\n",
       " '_33': '문근영 sings 노래',\n",
       " '_36': ['__class__',\n",
       "  '__delattr__',\n",
       "  '__dict__',\n",
       "  '__dir__',\n",
       "  '__doc__',\n",
       "  '__eq__',\n",
       "  '__format__',\n",
       "  '__ge__',\n",
       "  '__getattribute__',\n",
       "  '__gt__',\n",
       "  '__hash__',\n",
       "  '__init__',\n",
       "  '__init_subclass__',\n",
       "  '__le__',\n",
       "  '__lt__',\n",
       "  '__module__',\n",
       "  '__ne__',\n",
       "  '__new__',\n",
       "  '__reduce__',\n",
       "  '__reduce_ex__',\n",
       "  '__repr__',\n",
       "  '__setattr__',\n",
       "  '__sizeof__',\n",
       "  '__str__',\n",
       "  '__subclasshook__',\n",
       "  '__weakref__',\n",
       "  'age',\n",
       "  'name',\n",
       "  'species'],\n",
       " '_38': ['__class__',\n",
       "  '__delattr__',\n",
       "  '__dict__',\n",
       "  '__dir__',\n",
       "  '__doc__',\n",
       "  '__eq__',\n",
       "  '__format__',\n",
       "  '__ge__',\n",
       "  '__getattribute__',\n",
       "  '__gt__',\n",
       "  '__hash__',\n",
       "  '__init__',\n",
       "  '__init_subclass__',\n",
       "  '__le__',\n",
       "  '__lt__',\n",
       "  '__module__',\n",
       "  '__ne__',\n",
       "  '__new__',\n",
       "  '__reduce__',\n",
       "  '__reduce_ex__',\n",
       "  '__repr__',\n",
       "  '__setattr__',\n",
       "  '__sizeof__',\n",
       "  '__str__',\n",
       "  '__subclasshook__',\n",
       "  '__weakref__',\n",
       "  'age',\n",
       "  'name',\n",
       "  'species'],\n",
       " '_4': __main__.Parrot,\n",
       " '_40': '문근영 sings ss',\n",
       " '_41': '문근영 sings ss',\n",
       " '_42': '문근영 is now dancing',\n",
       " '_43': '문근영 is now dancing',\n",
       " '_46': 'sun is now dancing',\n",
       " '_47': 'sun is now dancing',\n",
       " '_48': '{} is now dancing2',\n",
       " '_49': '{} is now dancing2',\n",
       " '_5': type,\n",
       " '_50': 'ss',\n",
       " '_52': 'ss',\n",
       " '_57': ['__class__',\n",
       "  '__delattr__',\n",
       "  '__dict__',\n",
       "  '__dir__',\n",
       "  '__doc__',\n",
       "  '__eq__',\n",
       "  '__format__',\n",
       "  '__ge__',\n",
       "  '__getattribute__',\n",
       "  '__gt__',\n",
       "  '__hash__',\n",
       "  '__init__',\n",
       "  '__init_subclass__',\n",
       "  '__le__',\n",
       "  '__lt__',\n",
       "  '__module__',\n",
       "  '__ne__',\n",
       "  '__new__',\n",
       "  '__reduce__',\n",
       "  '__reduce_ex__',\n",
       "  '__repr__',\n",
       "  '__setattr__',\n",
       "  '__sizeof__',\n",
       "  '__str__',\n",
       "  '__subclasshook__',\n",
       "  '__weakref__',\n",
       "  'run',\n",
       "  'swim',\n",
       "  'whoisThis'],\n",
       " '_6': ['__class__',\n",
       "  '__delattr__',\n",
       "  '__dict__',\n",
       "  '__dir__',\n",
       "  '__doc__',\n",
       "  '__eq__',\n",
       "  '__format__',\n",
       "  '__ge__',\n",
       "  '__getattribute__',\n",
       "  '__gt__',\n",
       "  '__hash__',\n",
       "  '__init__',\n",
       "  '__init_subclass__',\n",
       "  '__le__',\n",
       "  '__lt__',\n",
       "  '__module__',\n",
       "  '__ne__',\n",
       "  '__new__',\n",
       "  '__reduce__',\n",
       "  '__reduce_ex__',\n",
       "  '__repr__',\n",
       "  '__setattr__',\n",
       "  '__sizeof__',\n",
       "  '__str__',\n",
       "  '__subclasshook__',\n",
       "  '__weakref__',\n",
       "  'age',\n",
       "  'name',\n",
       "  'species'],\n",
       " '_60': (__main__.Penguin, __main__.Bird, object),\n",
       " '_66': {'_Computer__maxprice': 1000, '__maxprice': 1000},\n",
       " '_67': ['Bird',\n",
       "  'Computer',\n",
       "  'DataFrame',\n",
       "  'In',\n",
       "  'Out',\n",
       "  'Parrot',\n",
       "  'Penguin',\n",
       "  'Series',\n",
       "  '_',\n",
       "  '_10',\n",
       "  '_11',\n",
       "  '_12',\n",
       "  '_13',\n",
       "  '_14',\n",
       "  '_15',\n",
       "  '_16',\n",
       "  '_17',\n",
       "  '_23',\n",
       "  '_24',\n",
       "  '_26',\n",
       "  '_27',\n",
       "  '_29',\n",
       "  '_33',\n",
       "  '_36',\n",
       "  '_38',\n",
       "  '_4',\n",
       "  '_40',\n",
       "  '_41',\n",
       "  '_42',\n",
       "  '_43',\n",
       "  '_46',\n",
       "  '_47',\n",
       "  '_48',\n",
       "  '_49',\n",
       "  '_5',\n",
       "  '_50',\n",
       "  '_52',\n",
       "  '_57',\n",
       "  '_6',\n",
       "  '_60',\n",
       "  '_66',\n",
       "  '_7',\n",
       "  '_8',\n",
       "  '__',\n",
       "  '___',\n",
       "  '__builtin__',\n",
       "  '__builtins__',\n",
       "  '__doc__',\n",
       "  '__loader__',\n",
       "  '__name__',\n",
       "  '__package__',\n",
       "  '__spec__',\n",
       "  '_dh',\n",
       "  '_i',\n",
       "  '_i1',\n",
       "  '_i10',\n",
       "  '_i11',\n",
       "  '_i12',\n",
       "  '_i13',\n",
       "  '_i14',\n",
       "  '_i15',\n",
       "  '_i16',\n",
       "  '_i17',\n",
       "  '_i18',\n",
       "  '_i19',\n",
       "  '_i2',\n",
       "  '_i20',\n",
       "  '_i21',\n",
       "  '_i22',\n",
       "  '_i23',\n",
       "  '_i24',\n",
       "  '_i25',\n",
       "  '_i26',\n",
       "  '_i27',\n",
       "  '_i28',\n",
       "  '_i29',\n",
       "  '_i3',\n",
       "  '_i30',\n",
       "  '_i31',\n",
       "  '_i32',\n",
       "  '_i33',\n",
       "  '_i34',\n",
       "  '_i35',\n",
       "  '_i36',\n",
       "  '_i37',\n",
       "  '_i38',\n",
       "  '_i39',\n",
       "  '_i4',\n",
       "  '_i40',\n",
       "  '_i41',\n",
       "  '_i42',\n",
       "  '_i43',\n",
       "  '_i44',\n",
       "  '_i45',\n",
       "  '_i46',\n",
       "  '_i47',\n",
       "  '_i48',\n",
       "  '_i49',\n",
       "  '_i5',\n",
       "  '_i50',\n",
       "  '_i51',\n",
       "  '_i52',\n",
       "  '_i53',\n",
       "  '_i54',\n",
       "  '_i55',\n",
       "  '_i56',\n",
       "  '_i57',\n",
       "  '_i58',\n",
       "  '_i59',\n",
       "  '_i6',\n",
       "  '_i60',\n",
       "  '_i61',\n",
       "  '_i62',\n",
       "  '_i63',\n",
       "  '_i64',\n",
       "  '_i65',\n",
       "  '_i66',\n",
       "  '_i67',\n",
       "  '_i7',\n",
       "  '_i8',\n",
       "  '_i9',\n",
       "  '_ih',\n",
       "  '_ii',\n",
       "  '_iii',\n",
       "  '_oh',\n",
       "  'a',\n",
       "  'blu',\n",
       "  'c',\n",
       "  'exit',\n",
       "  'get_ipython',\n",
       "  'np',\n",
       "  'pd',\n",
       "  'peggy',\n",
       "  'plt',\n",
       "  'quit',\n",
       "  'woo',\n",
       "  '문근영'],\n",
       " '_68': '# 파이썬에 클래스는 오브젝트일 수 잇다 . <- 파이썬의 모든 클래스는 오브젝트이다 .\\n# 클래스변수 <- static과 비슷하다고 생각하면됨 \\n# 단, 여기서는 공유값(static)이 아니다 .',\n",
       " '_7': {'age': 10, 'name': 'Blu', 'species': 'bird2'},\n",
       " '_8': {'age': 10, 'name': 'Blu', 'species': 'bird2'},\n",
       " '__': ['Bird',\n",
       "  'Computer',\n",
       "  'DataFrame',\n",
       "  'In',\n",
       "  'Out',\n",
       "  'Parrot',\n",
       "  'Penguin',\n",
       "  'Series',\n",
       "  '_',\n",
       "  '_10',\n",
       "  '_11',\n",
       "  '_12',\n",
       "  '_13',\n",
       "  '_14',\n",
       "  '_15',\n",
       "  '_16',\n",
       "  '_17',\n",
       "  '_23',\n",
       "  '_24',\n",
       "  '_26',\n",
       "  '_27',\n",
       "  '_29',\n",
       "  '_33',\n",
       "  '_36',\n",
       "  '_38',\n",
       "  '_4',\n",
       "  '_40',\n",
       "  '_41',\n",
       "  '_42',\n",
       "  '_43',\n",
       "  '_46',\n",
       "  '_47',\n",
       "  '_48',\n",
       "  '_49',\n",
       "  '_5',\n",
       "  '_50',\n",
       "  '_52',\n",
       "  '_57',\n",
       "  '_6',\n",
       "  '_60',\n",
       "  '_66',\n",
       "  '_7',\n",
       "  '_8',\n",
       "  '__',\n",
       "  '___',\n",
       "  '__builtin__',\n",
       "  '__builtins__',\n",
       "  '__doc__',\n",
       "  '__loader__',\n",
       "  '__name__',\n",
       "  '__package__',\n",
       "  '__spec__',\n",
       "  '_dh',\n",
       "  '_i',\n",
       "  '_i1',\n",
       "  '_i10',\n",
       "  '_i11',\n",
       "  '_i12',\n",
       "  '_i13',\n",
       "  '_i14',\n",
       "  '_i15',\n",
       "  '_i16',\n",
       "  '_i17',\n",
       "  '_i18',\n",
       "  '_i19',\n",
       "  '_i2',\n",
       "  '_i20',\n",
       "  '_i21',\n",
       "  '_i22',\n",
       "  '_i23',\n",
       "  '_i24',\n",
       "  '_i25',\n",
       "  '_i26',\n",
       "  '_i27',\n",
       "  '_i28',\n",
       "  '_i29',\n",
       "  '_i3',\n",
       "  '_i30',\n",
       "  '_i31',\n",
       "  '_i32',\n",
       "  '_i33',\n",
       "  '_i34',\n",
       "  '_i35',\n",
       "  '_i36',\n",
       "  '_i37',\n",
       "  '_i38',\n",
       "  '_i39',\n",
       "  '_i4',\n",
       "  '_i40',\n",
       "  '_i41',\n",
       "  '_i42',\n",
       "  '_i43',\n",
       "  '_i44',\n",
       "  '_i45',\n",
       "  '_i46',\n",
       "  '_i47',\n",
       "  '_i48',\n",
       "  '_i49',\n",
       "  '_i5',\n",
       "  '_i50',\n",
       "  '_i51',\n",
       "  '_i52',\n",
       "  '_i53',\n",
       "  '_i54',\n",
       "  '_i55',\n",
       "  '_i56',\n",
       "  '_i57',\n",
       "  '_i58',\n",
       "  '_i59',\n",
       "  '_i6',\n",
       "  '_i60',\n",
       "  '_i61',\n",
       "  '_i62',\n",
       "  '_i63',\n",
       "  '_i64',\n",
       "  '_i65',\n",
       "  '_i66',\n",
       "  '_i67',\n",
       "  '_i7',\n",
       "  '_i8',\n",
       "  '_i9',\n",
       "  '_ih',\n",
       "  '_ii',\n",
       "  '_iii',\n",
       "  '_oh',\n",
       "  'a',\n",
       "  'blu',\n",
       "  'c',\n",
       "  'exit',\n",
       "  'get_ipython',\n",
       "  'np',\n",
       "  'pd',\n",
       "  'peggy',\n",
       "  'plt',\n",
       "  'quit',\n",
       "  'woo',\n",
       "  '문근영'],\n",
       " '___': {'_Computer__maxprice': 1000, '__maxprice': 1000},\n",
       " '__builtin__': <module 'builtins' (built-in)>,\n",
       " '__builtins__': <module 'builtins' (built-in)>,\n",
       " '__doc__': 'Automatically created module for IPython interactive environment',\n",
       " '__loader__': None,\n",
       " '__name__': '__main__',\n",
       " '__package__': None,\n",
       " '__spec__': None,\n",
       " '_dh': ['C:\\\\Users\\\\cheerup\\\\Desktop\\\\고려대\\\\day5'],\n",
       " '_i': '_i20',\n",
       " '_i1': \"문근영 = Parrot('문근영', 30)\",\n",
       " '_i10': 'blu.__dict__',\n",
       " '_i11': 'dir(blu) # 클래스, 인스턴스 차이점 (어트리뷰트)',\n",
       " '_i12': 'woo.species # 클래스 어트리뷰트',\n",
       " '_i13': 'woo.__dict__ # specise 가 안나와 ',\n",
       " '_i14': 'dir(blu) # species  클래스 어트리뷰트를 덮은걸까?\\n         #인스턴스 일까? < - 이거임 (인스턴스 어트리뷰트)',\n",
       " '_i15': 'blu.species',\n",
       " '_i16': 'woo.species',\n",
       " '_i17': 'Parrot.species # == class.class attr ',\n",
       " '_i18': 'Parrot.name # instance attr- > instane화 되어있는 것만 ',\n",
       " '_i19': '# 같은 name instance이름으로 덮어도 남아있는다 ',\n",
       " '_i2': 'class Parrot: # 멤버 변수가 총 3개 \\n\\n    # class attribute\\n    species = \"bird\"\\n\\n    # instance attribute\\n    def __init__(self, name, age): # 인자 2개 받는다.\\n        self.name = name\\n        self.age = age',\n",
       " '_i20': '# 파이썬에 클래스는 오브젝트일 수 잇다 . <- 파이썬의 모든 클래스는 오브젝트이다 .\\n# 클래스변수 <- static과 비슷하다고 생각하면됨 \\n# 단, 여기서는 공유값(static)이 아니다 .',\n",
       " '_i21': '# access the class attributes\\nprint(\"Blu is a {}\".format(blu.__class__.species))\\nprint(\"Woo is also a {}\".format(woo.__class__.species))\\n\\n# access the instance attributes\\nprint(\"{} is {} years old\".format( blu.name, blu.age))\\nprint(\"{} is {} years old\".format( woo.name, woo.age))',\n",
       " '_i22': \"문근영 = Parrot('문근영', 30)\",\n",
       " '_i23': 'vars(문근영)',\n",
       " '_i24': '문근영.species',\n",
       " '_i25': \"문근영.species = 'bird2'\",\n",
       " '_i26': '문근영.species # instance attr\\n                # 이름을 똑같이 하면 instance가 우선순위!!! \\n                # 클래스 변수는 남아 있음\\n                # 그래서 이름좀 다르게해라~~~',\n",
       " '_i27': '문근영.__class__.species # class attr \\n                        # 이런짓은 하지마 ...  instance attr 똑같이 nameing하는거 .. ',\n",
       " '_i28': '# 인스턴스화 된건 -> self!!! \\n# atrr -> 3개 ( Parrot안에)',\n",
       " '_i29': '문근영.__class__ # __main__.Parrot <- 현재 작업하고 잇는공간 ',\n",
       " '_i3': '# instantiate the Parrot class\\nblu = Parrot(\"Blu\", 10) # 인스턴스화 \\nwoo = Parrot(\"Woo\", 15)',\n",
       " '_i30': 'class Parrot:\\n    \\n    # instance attributes\\n    def __init__(self, name, age):  # __ __ <- special mehod, magic method \\n                                    # self가 들어갔다 인스턴스 메소드 \\n                                    # 그럼 클래스 메소드도 잇겠네 \\n                                    # 메소드에 첫 번째 인자는, 자기자신을 가리키는 것이다.\\n                                    \\n        self.name = name\\n        self.age = age\\n    \\n    # instance method\\n    def sing(self, song):\\n        return \"{} sings {}\".format(self.name, song)\\n\\n    def dance(self):\\n        return \"{} is now dancing\".format(self.name)\\n\\n# instantiate the object\\nblu = Parrot(\"Blu\", 10)\\n\\n# call our instance methods\\nprint(blu.sing(\"\\'Happy\\'\"))\\nprint(blu.dance())',\n",
       " '_i31': 'class Parrot:\\n    \\n    # instance attributes\\n    def __init__(selfsssss, name, age): \\n                                       \\n        selfsssss.name = name\\n        selfsssss.age = age  # self란건 관례, (권장한다.) 아무것나 바꿔두됨, keyword가 아니라서 \\n    \\n    # instance method\\n    def sing(self, song):\\n        return \"{} sings {}\".format(self.name, song)\\n\\n    def dance(self):\\n        return \"{} is now dancing\".format(self.name)',\n",
       " '_i32': '# instantiate the object\\nblu = Parrot(\"Blu\", 10)\\n\\n# call our instance methods\\nprint(blu.sing(\"\\'Happy\\'\"))\\nprint(blu.dance())',\n",
       " '_i33': 'Parrot.sing(문근영,\"노래\") # class. instance( 인스턴스를 기입 하야힌다.)',\n",
       " '_i34': \"문근영.sing('노래') # instance. instnance(안써) - >인자가 self인 경우에만\",\n",
       " '_i35': '문근영.dance() # mutable은 자기 자신이 바뀌는것  #에ㅔ러!!',\n",
       " '_i36': 'dir(문근영)',\n",
       " '_i37': 'class Parrot:\\n    \\n    # instance attributes\\n    def __init__(selfsssss, name, age):  \\n                                    \\n        selfsssss.name = name\\n        selfsssss.age = age  \\n    \\n    # instance method`\\n    def sing(self, song):\\n        return \"{} sings {}\".format(self.name, song)\\n\\n    def dance(self):\\n        return \"{} is now dancing\".format(self.name)',\n",
       " '_i38': 'dir(문근영)',\n",
       " '_i39': \"문근영 = Parrot('문근영', 10)\",\n",
       " '_i4': 'type(blu) #_main__ 현재 작업하고있는 클래스',\n",
       " '_i40': \"문근영.sing('ss')\",\n",
       " '_i41': \"Parrot.sing(문근영,'ss')\",\n",
       " '_i42': '문근영.dance()',\n",
       " '_i43': 'Parrot.dance(문근영)',\n",
       " '_i44': 'class Parrot:\\n    speceies = \\'ss\\'\\n    # instance attributes\\n    def __init__(selfsssss, name, age): \\n                                    \\n        selfsssss.name = name\\n        selfsssss.age = age  \\n    \\n    # instance method`\\n    def sing(self, song):\\n        return \"{} sings {}\".format(self.name, song)\\n\\n    def dance(self):\\n        return \"{} is now dancing\".format(self.name)\\n    \\n    @classmethod # anotation -> decorator \\n    def dance2(cls): # 클래스 메소드는 관례상 cls \\n# !      return \"{} is now dancing2\".format(self.name) # cls인디 self -> 인스턴스 변수 면 에러 \\n        return \"{} is now dancing2\"',\n",
       " '_i45': \"a = Parrot('sun' ,42)\",\n",
       " '_i46': 'Parrot.dance(a)',\n",
       " '_i47': 'a.dance()',\n",
       " '_i48': 'Parrot.dance2() # class 메소드는 class 명 을 쓰고 기입을 한다. ',\n",
       " '_i49': 'a.__class__.dance2() # instance.__class__ -> real class 전자와 같은 개념 ',\n",
       " '_i5': 'type(Parrot) # type -> class \\n             #__main -> 현재작업하고있는 클래스',\n",
       " '_i50': 'Parrot.speceies',\n",
       " '_i51': '문근영 = Parrot(1,1,)',\n",
       " '_i52': '문근영.__class__.speceies',\n",
       " '_i53': '# parent class # 실제 오브젝트 상속 되어있음 기본적으로 \\nclass Bird:\\n    # attr 0개 \\n    # attr 추가 가능하기 때문에 오류가 아니다 . # 자바에서는 오류\\n    \\n    def __init__(self):\\n        print(\"Bird is ready\")\\n\\n    def whoisThis(self):\\n        print(\"Bird\")\\n\\n    def swim(self):\\n        print(\"Swim faster\")',\n",
       " '_i54': '# child class\\nclass Penguin(Bird,): # Bird class를 상속 \\n                      # 왼쪽에 클래스 부터 상속; Bird,fish,~~이런 식으로 \\n    pass              # bird가 갖고있는거 다 쓸 수 있다 .\\n        \\n    def swim(self): # 물론 인자 바꿀 수 있는디 지금은 같게 해줘 \\n        print(\"I can swim\")\\n            \\n    def run(self):\\n        print(\"Run faster\")\\n        \\n    def __init__(self):\\n        # call super() function\\n        super(Penguin, self).__init__() # 부모거 가져온다 == super().__init__() why??? 다중 상속이 있으니깐, \\n                                        # 인자에 자기 자신 넣어도 된다.\\n                                     \\n        print(\"Penguin is ready\")    ',\n",
       " '_i55': '# parent class # 실제 오브젝트 상속 되어있음 기본적으로 \\nclass Bird:\\n    # attr 0개 \\n    # attr 추가 가능하기 때문에 오류가 아니다 . # 자바에서는 오류\\n    \\n    def __init__(self):\\n        print(\"Bird is ready\")\\n\\n    def whoisThis(self):\\n        print(\"Bird\")\\n\\n    def swim(self):\\n        print(\"Swim faster\")',\n",
       " '_i56': '# child class\\nclass Penguin(Bird,): # Bird class를 상속 \\n                      # 왼쪽에 클래스 부터 상속; Bird,fish,~~이런 식으로 \\n    pass              # bird가 갖고있는거 다 쓸 수 있다 .\\n        \\n    def swim(self): # 물론 인자 바꿀 수 있는디 지금은 같게 해줘 \\n        print(\"I can swim\")\\n            \\n    def run(self):\\n        print(\"Run faster\")\\n        \\n    def __init__(self):\\n        # call super() function\\n        super(Penguin, self).__init__() # 부모거 가져온다 == super().__init__() why??? 다중 상속이 있으니깐, \\n                                        # 인자에 자기 자신 넣어도 된다.\\n                                     \\n        print(\"Penguin is ready\")    ',\n",
       " '_i57': 'dir(Penguin) #bird가 갖고 있던 메소드 가지고 오게됨 <- 요것이 상속 ',\n",
       " '_i58': '# 상속에서는 부모가 없는걸 추가 하거나 바꿀 수 있따 (오버라이딩)',\n",
       " '_i59': 'peggy = Penguin()\\npeggy.whoisThis() # 상속되었다. ~\\npeggy.swim()\\npeggy.run() # Bird에서는 Run을 할 수 없다. 이러한 상속이란 개념이 중요하다 .',\n",
       " '_i6': 'dir(blu)',\n",
       " '_i60': 'Penguin.__mro__',\n",
       " '_i61': '# child class\\nclass Penguin(Bird,): \\n                      \\n    pass              \\n        \\n    def swim(self): \\n        print(\"I can swim\")\\n            \\n    def run(self):\\n        print(\"Run faster\")\\n        \\n    def __init__(self):\\n        # call super() function\\n        super(Penguin, self).__init__() \\n                                       \\n                                     \\n        print(\"Penguin is ready\")    \\n    def whoisThis(self):\\n        print(\"Penguin\")\\n\\n    def run(self):\\n        print(\"Run faster\")\\n\\npeggy = Penguin()\\npeggy.whoisThis()\\npeggy.swim()\\npeggy.run()',\n",
       " '_i62': '# class는 private가 없어서 외부에서 관리 해주는게 어렵다 \\n# 그래서 캡슐화 \\n# 근디 mutable 땜에 또 골치 아프다 ',\n",
       " '_i63': 'class Computer:\\n\\n    def __init__(self): # __ -> private _ -> 예약어\\n        self.__maxprice = 900\\n\\n    def sell(self):\\n        print(\"Selling Price: {}\".format(self.__maxprice))\\n        \\n    def setMaxPrice(self, price):\\n        self.__maxprice = price',\n",
       " '_i64': 'c = Computer()\\nc.sell()\\n\\n# change the price\\nc.__maxprice = 1000\\nc.sell()\\n\\n# using setter function\\nc.setMaxPrice(1000)\\nc.sell()',\n",
       " '_i65': 'c = Computer()\\nc.sell()\\n\\n# change the price\\nc.__maxprice = 1000\\nc.sell()\\n\\n# using setter function\\nc.setMaxPrice(1000)\\nc.sell()',\n",
       " '_i66': 'vars(c)',\n",
       " '_i67': 'dir() # ipthon에서만 나오는 것\\n      # 현재 인터페이스에 저장된거 다 나옴 ',\n",
       " '_i68': '_i20',\n",
       " '_i69': 'locals() # 영역에 해당된거 다 나옴 #자료구조의 기본적인 구조는dict',\n",
       " '_i7': 'vars(blu) # 인스턴스 어트리뷰트 보여줌\\n\\n# 총 어트리뷰트는 3개 \\n# 왜 스피시즈는 안나와? \\n# 동적으로 생성된건 인스턴스 어트리뷰트!! self가 붙어있는거 \\n# 클래스가 붙어 있는건 한 개 ',\n",
       " '_i8': 'blu.__dict__',\n",
       " '_i9': \"blu.species = 'bird2'\",\n",
       " '_ih': ['',\n",
       "  \"문근영 = Parrot('문근영', 30)\",\n",
       "  'class Parrot: # 멤버 변수가 총 3개 \\n\\n    # class attribute\\n    species = \"bird\"\\n\\n    # instance attribute\\n    def __init__(self, name, age): # 인자 2개 받는다.\\n        self.name = name\\n        self.age = age',\n",
       "  '# instantiate the Parrot class\\nblu = Parrot(\"Blu\", 10) # 인스턴스화 \\nwoo = Parrot(\"Woo\", 15)',\n",
       "  'type(blu) #_main__ 현재 작업하고있는 클래스',\n",
       "  'type(Parrot) # type -> class \\n             #__main -> 현재작업하고있는 클래스',\n",
       "  'dir(blu)',\n",
       "  'vars(blu) # 인스턴스 어트리뷰트 보여줌\\n\\n# 총 어트리뷰트는 3개 \\n# 왜 스피시즈는 안나와? \\n# 동적으로 생성된건 인스턴스 어트리뷰트!! self가 붙어있는거 \\n# 클래스가 붙어 있는건 한 개 ',\n",
       "  'blu.__dict__',\n",
       "  \"blu.species = 'bird2'\",\n",
       "  'blu.__dict__',\n",
       "  'dir(blu) # 클래스, 인스턴스 차이점 (어트리뷰트)',\n",
       "  'woo.species # 클래스 어트리뷰트',\n",
       "  'woo.__dict__ # specise 가 안나와 ',\n",
       "  'dir(blu) # species  클래스 어트리뷰트를 덮은걸까?\\n         #인스턴스 일까? < - 이거임 (인스턴스 어트리뷰트)',\n",
       "  'blu.species',\n",
       "  'woo.species',\n",
       "  'Parrot.species # == class.class attr ',\n",
       "  'Parrot.name # instance attr- > instane화 되어있는 것만 ',\n",
       "  '# 같은 name instance이름으로 덮어도 남아있는다 ',\n",
       "  '# 파이썬에 클래스는 오브젝트일 수 잇다 . <- 파이썬의 모든 클래스는 오브젝트이다 .\\n# 클래스변수 <- static과 비슷하다고 생각하면됨 \\n# 단, 여기서는 공유값(static)이 아니다 .',\n",
       "  '# access the class attributes\\nprint(\"Blu is a {}\".format(blu.__class__.species))\\nprint(\"Woo is also a {}\".format(woo.__class__.species))\\n\\n# access the instance attributes\\nprint(\"{} is {} years old\".format( blu.name, blu.age))\\nprint(\"{} is {} years old\".format( woo.name, woo.age))',\n",
       "  \"문근영 = Parrot('문근영', 30)\",\n",
       "  'vars(문근영)',\n",
       "  '문근영.species',\n",
       "  \"문근영.species = 'bird2'\",\n",
       "  '문근영.species # instance attr\\n                # 이름을 똑같이 하면 instance가 우선순위!!! \\n                # 클래스 변수는 남아 있음\\n                # 그래서 이름좀 다르게해라~~~',\n",
       "  '문근영.__class__.species # class attr \\n                        # 이런짓은 하지마 ...  instance attr 똑같이 nameing하는거 .. ',\n",
       "  '# 인스턴스화 된건 -> self!!! \\n# atrr -> 3개 ( Parrot안에)',\n",
       "  '문근영.__class__ # __main__.Parrot <- 현재 작업하고 잇는공간 ',\n",
       "  'class Parrot:\\n    \\n    # instance attributes\\n    def __init__(self, name, age):  # __ __ <- special mehod, magic method \\n                                    # self가 들어갔다 인스턴스 메소드 \\n                                    # 그럼 클래스 메소드도 잇겠네 \\n                                    # 메소드에 첫 번째 인자는, 자기자신을 가리키는 것이다.\\n                                    \\n        self.name = name\\n        self.age = age\\n    \\n    # instance method\\n    def sing(self, song):\\n        return \"{} sings {}\".format(self.name, song)\\n\\n    def dance(self):\\n        return \"{} is now dancing\".format(self.name)\\n\\n# instantiate the object\\nblu = Parrot(\"Blu\", 10)\\n\\n# call our instance methods\\nprint(blu.sing(\"\\'Happy\\'\"))\\nprint(blu.dance())',\n",
       "  'class Parrot:\\n    \\n    # instance attributes\\n    def __init__(selfsssss, name, age): \\n                                       \\n        selfsssss.name = name\\n        selfsssss.age = age  # self란건 관례, (권장한다.) 아무것나 바꿔두됨, keyword가 아니라서 \\n    \\n    # instance method\\n    def sing(self, song):\\n        return \"{} sings {}\".format(self.name, song)\\n\\n    def dance(self):\\n        return \"{} is now dancing\".format(self.name)',\n",
       "  '# instantiate the object\\nblu = Parrot(\"Blu\", 10)\\n\\n# call our instance methods\\nprint(blu.sing(\"\\'Happy\\'\"))\\nprint(blu.dance())',\n",
       "  'Parrot.sing(문근영,\"노래\") # class. instance( 인스턴스를 기입 하야힌다.)',\n",
       "  \"문근영.sing('노래') # instance. instnance(안써) - >인자가 self인 경우에만\",\n",
       "  '문근영.dance() # mutable은 자기 자신이 바뀌는것  #에ㅔ러!!',\n",
       "  'dir(문근영)',\n",
       "  'class Parrot:\\n    \\n    # instance attributes\\n    def __init__(selfsssss, name, age):  \\n                                    \\n        selfsssss.name = name\\n        selfsssss.age = age  \\n    \\n    # instance method`\\n    def sing(self, song):\\n        return \"{} sings {}\".format(self.name, song)\\n\\n    def dance(self):\\n        return \"{} is now dancing\".format(self.name)',\n",
       "  'dir(문근영)',\n",
       "  \"문근영 = Parrot('문근영', 10)\",\n",
       "  \"문근영.sing('ss')\",\n",
       "  \"Parrot.sing(문근영,'ss')\",\n",
       "  '문근영.dance()',\n",
       "  'Parrot.dance(문근영)',\n",
       "  'class Parrot:\\n    speceies = \\'ss\\'\\n    # instance attributes\\n    def __init__(selfsssss, name, age): \\n                                    \\n        selfsssss.name = name\\n        selfsssss.age = age  \\n    \\n    # instance method`\\n    def sing(self, song):\\n        return \"{} sings {}\".format(self.name, song)\\n\\n    def dance(self):\\n        return \"{} is now dancing\".format(self.name)\\n    \\n    @classmethod # anotation -> decorator \\n    def dance2(cls): # 클래스 메소드는 관례상 cls \\n# !      return \"{} is now dancing2\".format(self.name) # cls인디 self -> 인스턴스 변수 면 에러 \\n        return \"{} is now dancing2\"',\n",
       "  \"a = Parrot('sun' ,42)\",\n",
       "  'Parrot.dance(a)',\n",
       "  'a.dance()',\n",
       "  'Parrot.dance2() # class 메소드는 class 명 을 쓰고 기입을 한다. ',\n",
       "  'a.__class__.dance2() # instance.__class__ -> real class 전자와 같은 개념 ',\n",
       "  'Parrot.speceies',\n",
       "  '문근영 = Parrot(1,1,)',\n",
       "  '문근영.__class__.speceies',\n",
       "  '# parent class # 실제 오브젝트 상속 되어있음 기본적으로 \\nclass Bird:\\n    # attr 0개 \\n    # attr 추가 가능하기 때문에 오류가 아니다 . # 자바에서는 오류\\n    \\n    def __init__(self):\\n        print(\"Bird is ready\")\\n\\n    def whoisThis(self):\\n        print(\"Bird\")\\n\\n    def swim(self):\\n        print(\"Swim faster\")',\n",
       "  '# child class\\nclass Penguin(Bird,): # Bird class를 상속 \\n                      # 왼쪽에 클래스 부터 상속; Bird,fish,~~이런 식으로 \\n    pass              # bird가 갖고있는거 다 쓸 수 있다 .\\n        \\n    def swim(self): # 물론 인자 바꿀 수 있는디 지금은 같게 해줘 \\n        print(\"I can swim\")\\n            \\n    def run(self):\\n        print(\"Run faster\")\\n        \\n    def __init__(self):\\n        # call super() function\\n        super(Penguin, self).__init__() # 부모거 가져온다 == super().__init__() why??? 다중 상속이 있으니깐, \\n                                        # 인자에 자기 자신 넣어도 된다.\\n                                     \\n        print(\"Penguin is ready\")    ',\n",
       "  '# parent class # 실제 오브젝트 상속 되어있음 기본적으로 \\nclass Bird:\\n    # attr 0개 \\n    # attr 추가 가능하기 때문에 오류가 아니다 . # 자바에서는 오류\\n    \\n    def __init__(self):\\n        print(\"Bird is ready\")\\n\\n    def whoisThis(self):\\n        print(\"Bird\")\\n\\n    def swim(self):\\n        print(\"Swim faster\")',\n",
       "  '# child class\\nclass Penguin(Bird,): # Bird class를 상속 \\n                      # 왼쪽에 클래스 부터 상속; Bird,fish,~~이런 식으로 \\n    pass              # bird가 갖고있는거 다 쓸 수 있다 .\\n        \\n    def swim(self): # 물론 인자 바꿀 수 있는디 지금은 같게 해줘 \\n        print(\"I can swim\")\\n            \\n    def run(self):\\n        print(\"Run faster\")\\n        \\n    def __init__(self):\\n        # call super() function\\n        super(Penguin, self).__init__() # 부모거 가져온다 == super().__init__() why??? 다중 상속이 있으니깐, \\n                                        # 인자에 자기 자신 넣어도 된다.\\n                                     \\n        print(\"Penguin is ready\")    ',\n",
       "  'dir(Penguin) #bird가 갖고 있던 메소드 가지고 오게됨 <- 요것이 상속 ',\n",
       "  '# 상속에서는 부모가 없는걸 추가 하거나 바꿀 수 있따 (오버라이딩)',\n",
       "  'peggy = Penguin()\\npeggy.whoisThis() # 상속되었다. ~\\npeggy.swim()\\npeggy.run() # Bird에서는 Run을 할 수 없다. 이러한 상속이란 개념이 중요하다 .',\n",
       "  'Penguin.__mro__',\n",
       "  '# child class\\nclass Penguin(Bird,): \\n                      \\n    pass              \\n        \\n    def swim(self): \\n        print(\"I can swim\")\\n            \\n    def run(self):\\n        print(\"Run faster\")\\n        \\n    def __init__(self):\\n        # call super() function\\n        super(Penguin, self).__init__() \\n                                       \\n                                     \\n        print(\"Penguin is ready\")    \\n    def whoisThis(self):\\n        print(\"Penguin\")\\n\\n    def run(self):\\n        print(\"Run faster\")\\n\\npeggy = Penguin()\\npeggy.whoisThis()\\npeggy.swim()\\npeggy.run()',\n",
       "  '# class는 private가 없어서 외부에서 관리 해주는게 어렵다 \\n# 그래서 캡슐화 \\n# 근디 mutable 땜에 또 골치 아프다 ',\n",
       "  'class Computer:\\n\\n    def __init__(self): # __ -> private _ -> 예약어\\n        self.__maxprice = 900\\n\\n    def sell(self):\\n        print(\"Selling Price: {}\".format(self.__maxprice))\\n        \\n    def setMaxPrice(self, price):\\n        self.__maxprice = price',\n",
       "  'c = Computer()\\nc.sell()\\n\\n# change the price\\nc.__maxprice = 1000\\nc.sell()\\n\\n# using setter function\\nc.setMaxPrice(1000)\\nc.sell()',\n",
       "  'c = Computer()\\nc.sell()\\n\\n# change the price\\nc.__maxprice = 1000\\nc.sell()\\n\\n# using setter function\\nc.setMaxPrice(1000)\\nc.sell()',\n",
       "  'vars(c)',\n",
       "  'dir() # ipthon에서만 나오는 것\\n      # 현재 인터페이스에 저장된거 다 나옴 ',\n",
       "  '_i20',\n",
       "  'locals() # 영역에 해당된거 다 나옴 #자료구조의 기본적인 구조는dict'],\n",
       " '_ii': 'dir() # ipthon에서만 나오는 것\\n      # 현재 인터페이스에 저장된거 다 나옴 ',\n",
       " '_iii': 'vars(c)',\n",
       " '_oh': {4: __main__.Parrot,\n",
       "  5: type,\n",
       "  6: ['__class__',\n",
       "   '__delattr__',\n",
       "   '__dict__',\n",
       "   '__dir__',\n",
       "   '__doc__',\n",
       "   '__eq__',\n",
       "   '__format__',\n",
       "   '__ge__',\n",
       "   '__getattribute__',\n",
       "   '__gt__',\n",
       "   '__hash__',\n",
       "   '__init__',\n",
       "   '__init_subclass__',\n",
       "   '__le__',\n",
       "   '__lt__',\n",
       "   '__module__',\n",
       "   '__ne__',\n",
       "   '__new__',\n",
       "   '__reduce__',\n",
       "   '__reduce_ex__',\n",
       "   '__repr__',\n",
       "   '__setattr__',\n",
       "   '__sizeof__',\n",
       "   '__str__',\n",
       "   '__subclasshook__',\n",
       "   '__weakref__',\n",
       "   'age',\n",
       "   'name',\n",
       "   'species'],\n",
       "  7: {'age': 10, 'name': 'Blu', 'species': 'bird2'},\n",
       "  8: {'age': 10, 'name': 'Blu', 'species': 'bird2'},\n",
       "  10: {'age': 10, 'name': 'Blu', 'species': 'bird2'},\n",
       "  11: ['__class__',\n",
       "   '__delattr__',\n",
       "   '__dict__',\n",
       "   '__dir__',\n",
       "   '__doc__',\n",
       "   '__eq__',\n",
       "   '__format__',\n",
       "   '__ge__',\n",
       "   '__getattribute__',\n",
       "   '__gt__',\n",
       "   '__hash__',\n",
       "   '__init__',\n",
       "   '__init_subclass__',\n",
       "   '__le__',\n",
       "   '__lt__',\n",
       "   '__module__',\n",
       "   '__ne__',\n",
       "   '__new__',\n",
       "   '__reduce__',\n",
       "   '__reduce_ex__',\n",
       "   '__repr__',\n",
       "   '__setattr__',\n",
       "   '__sizeof__',\n",
       "   '__str__',\n",
       "   '__subclasshook__',\n",
       "   '__weakref__',\n",
       "   'age',\n",
       "   'name',\n",
       "   'species'],\n",
       "  12: 'bird',\n",
       "  13: {'age': 15, 'name': 'Woo'},\n",
       "  14: ['__class__',\n",
       "   '__delattr__',\n",
       "   '__dict__',\n",
       "   '__dir__',\n",
       "   '__doc__',\n",
       "   '__eq__',\n",
       "   '__format__',\n",
       "   '__ge__',\n",
       "   '__getattribute__',\n",
       "   '__gt__',\n",
       "   '__hash__',\n",
       "   '__init__',\n",
       "   '__init_subclass__',\n",
       "   '__le__',\n",
       "   '__lt__',\n",
       "   '__module__',\n",
       "   '__ne__',\n",
       "   '__new__',\n",
       "   '__reduce__',\n",
       "   '__reduce_ex__',\n",
       "   '__repr__',\n",
       "   '__setattr__',\n",
       "   '__sizeof__',\n",
       "   '__str__',\n",
       "   '__subclasshook__',\n",
       "   '__weakref__',\n",
       "   'age',\n",
       "   'name',\n",
       "   'species'],\n",
       "  15: 'bird2',\n",
       "  16: 'bird',\n",
       "  17: 'bird',\n",
       "  23: {'age': 30, 'name': '문근영', 'species': 'bird2'},\n",
       "  24: 'bird',\n",
       "  26: 'bird2',\n",
       "  27: 'bird',\n",
       "  29: __main__.Parrot,\n",
       "  33: '문근영 sings 노래',\n",
       "  36: ['__class__',\n",
       "   '__delattr__',\n",
       "   '__dict__',\n",
       "   '__dir__',\n",
       "   '__doc__',\n",
       "   '__eq__',\n",
       "   '__format__',\n",
       "   '__ge__',\n",
       "   '__getattribute__',\n",
       "   '__gt__',\n",
       "   '__hash__',\n",
       "   '__init__',\n",
       "   '__init_subclass__',\n",
       "   '__le__',\n",
       "   '__lt__',\n",
       "   '__module__',\n",
       "   '__ne__',\n",
       "   '__new__',\n",
       "   '__reduce__',\n",
       "   '__reduce_ex__',\n",
       "   '__repr__',\n",
       "   '__setattr__',\n",
       "   '__sizeof__',\n",
       "   '__str__',\n",
       "   '__subclasshook__',\n",
       "   '__weakref__',\n",
       "   'age',\n",
       "   'name',\n",
       "   'species'],\n",
       "  38: ['__class__',\n",
       "   '__delattr__',\n",
       "   '__dict__',\n",
       "   '__dir__',\n",
       "   '__doc__',\n",
       "   '__eq__',\n",
       "   '__format__',\n",
       "   '__ge__',\n",
       "   '__getattribute__',\n",
       "   '__gt__',\n",
       "   '__hash__',\n",
       "   '__init__',\n",
       "   '__init_subclass__',\n",
       "   '__le__',\n",
       "   '__lt__',\n",
       "   '__module__',\n",
       "   '__ne__',\n",
       "   '__new__',\n",
       "   '__reduce__',\n",
       "   '__reduce_ex__',\n",
       "   '__repr__',\n",
       "   '__setattr__',\n",
       "   '__sizeof__',\n",
       "   '__str__',\n",
       "   '__subclasshook__',\n",
       "   '__weakref__',\n",
       "   'age',\n",
       "   'name',\n",
       "   'species'],\n",
       "  40: '문근영 sings ss',\n",
       "  41: '문근영 sings ss',\n",
       "  42: '문근영 is now dancing',\n",
       "  43: '문근영 is now dancing',\n",
       "  46: 'sun is now dancing',\n",
       "  47: 'sun is now dancing',\n",
       "  48: '{} is now dancing2',\n",
       "  49: '{} is now dancing2',\n",
       "  50: 'ss',\n",
       "  52: 'ss',\n",
       "  57: ['__class__',\n",
       "   '__delattr__',\n",
       "   '__dict__',\n",
       "   '__dir__',\n",
       "   '__doc__',\n",
       "   '__eq__',\n",
       "   '__format__',\n",
       "   '__ge__',\n",
       "   '__getattribute__',\n",
       "   '__gt__',\n",
       "   '__hash__',\n",
       "   '__init__',\n",
       "   '__init_subclass__',\n",
       "   '__le__',\n",
       "   '__lt__',\n",
       "   '__module__',\n",
       "   '__ne__',\n",
       "   '__new__',\n",
       "   '__reduce__',\n",
       "   '__reduce_ex__',\n",
       "   '__repr__',\n",
       "   '__setattr__',\n",
       "   '__sizeof__',\n",
       "   '__str__',\n",
       "   '__subclasshook__',\n",
       "   '__weakref__',\n",
       "   'run',\n",
       "   'swim',\n",
       "   'whoisThis'],\n",
       "  60: (__main__.Penguin, __main__.Bird, object),\n",
       "  66: {'_Computer__maxprice': 1000, '__maxprice': 1000},\n",
       "  67: ['Bird',\n",
       "   'Computer',\n",
       "   'DataFrame',\n",
       "   'In',\n",
       "   'Out',\n",
       "   'Parrot',\n",
       "   'Penguin',\n",
       "   'Series',\n",
       "   '_',\n",
       "   '_10',\n",
       "   '_11',\n",
       "   '_12',\n",
       "   '_13',\n",
       "   '_14',\n",
       "   '_15',\n",
       "   '_16',\n",
       "   '_17',\n",
       "   '_23',\n",
       "   '_24',\n",
       "   '_26',\n",
       "   '_27',\n",
       "   '_29',\n",
       "   '_33',\n",
       "   '_36',\n",
       "   '_38',\n",
       "   '_4',\n",
       "   '_40',\n",
       "   '_41',\n",
       "   '_42',\n",
       "   '_43',\n",
       "   '_46',\n",
       "   '_47',\n",
       "   '_48',\n",
       "   '_49',\n",
       "   '_5',\n",
       "   '_50',\n",
       "   '_52',\n",
       "   '_57',\n",
       "   '_6',\n",
       "   '_60',\n",
       "   '_66',\n",
       "   '_7',\n",
       "   '_8',\n",
       "   '__',\n",
       "   '___',\n",
       "   '__builtin__',\n",
       "   '__builtins__',\n",
       "   '__doc__',\n",
       "   '__loader__',\n",
       "   '__name__',\n",
       "   '__package__',\n",
       "   '__spec__',\n",
       "   '_dh',\n",
       "   '_i',\n",
       "   '_i1',\n",
       "   '_i10',\n",
       "   '_i11',\n",
       "   '_i12',\n",
       "   '_i13',\n",
       "   '_i14',\n",
       "   '_i15',\n",
       "   '_i16',\n",
       "   '_i17',\n",
       "   '_i18',\n",
       "   '_i19',\n",
       "   '_i2',\n",
       "   '_i20',\n",
       "   '_i21',\n",
       "   '_i22',\n",
       "   '_i23',\n",
       "   '_i24',\n",
       "   '_i25',\n",
       "   '_i26',\n",
       "   '_i27',\n",
       "   '_i28',\n",
       "   '_i29',\n",
       "   '_i3',\n",
       "   '_i30',\n",
       "   '_i31',\n",
       "   '_i32',\n",
       "   '_i33',\n",
       "   '_i34',\n",
       "   '_i35',\n",
       "   '_i36',\n",
       "   '_i37',\n",
       "   '_i38',\n",
       "   '_i39',\n",
       "   '_i4',\n",
       "   '_i40',\n",
       "   '_i41',\n",
       "   '_i42',\n",
       "   '_i43',\n",
       "   '_i44',\n",
       "   '_i45',\n",
       "   '_i46',\n",
       "   '_i47',\n",
       "   '_i48',\n",
       "   '_i49',\n",
       "   '_i5',\n",
       "   '_i50',\n",
       "   '_i51',\n",
       "   '_i52',\n",
       "   '_i53',\n",
       "   '_i54',\n",
       "   '_i55',\n",
       "   '_i56',\n",
       "   '_i57',\n",
       "   '_i58',\n",
       "   '_i59',\n",
       "   '_i6',\n",
       "   '_i60',\n",
       "   '_i61',\n",
       "   '_i62',\n",
       "   '_i63',\n",
       "   '_i64',\n",
       "   '_i65',\n",
       "   '_i66',\n",
       "   '_i67',\n",
       "   '_i7',\n",
       "   '_i8',\n",
       "   '_i9',\n",
       "   '_ih',\n",
       "   '_ii',\n",
       "   '_iii',\n",
       "   '_oh',\n",
       "   'a',\n",
       "   'blu',\n",
       "   'c',\n",
       "   'exit',\n",
       "   'get_ipython',\n",
       "   'np',\n",
       "   'pd',\n",
       "   'peggy',\n",
       "   'plt',\n",
       "   'quit',\n",
       "   'woo',\n",
       "   '문근영'],\n",
       "  68: '# 파이썬에 클래스는 오브젝트일 수 잇다 . <- 파이썬의 모든 클래스는 오브젝트이다 .\\n# 클래스변수 <- static과 비슷하다고 생각하면됨 \\n# 단, 여기서는 공유값(static)이 아니다 .'},\n",
       " 'a': <__main__.Parrot at 0x26b0abdd7f0>,\n",
       " 'blu': <__main__.Parrot at 0x26b0abd0d68>,\n",
       " 'c': <__main__.Computer at 0x26b0abd80b8>,\n",
       " 'exit': <IPython.core.autocall.ZMQExitAutocall at 0x26b080b10b8>,\n",
       " 'get_ipython': <bound method InteractiveShell.get_ipython of <ipykernel.zmqshell.ZMQInteractiveShell object at 0x0000026B0804EBE0>>,\n",
       " 'np': <module 'numpy' from 'C:\\\\ProgramData\\\\Anaconda3\\\\lib\\\\site-packages\\\\numpy\\\\__init__.py'>,\n",
       " 'pd': <module 'pandas' from 'C:\\\\ProgramData\\\\Anaconda3\\\\lib\\\\site-packages\\\\pandas\\\\__init__.py'>,\n",
       " 'peggy': <__main__.Penguin at 0x26b0ab94240>,\n",
       " 'plt': <module 'matplotlib.pyplot' from 'C:\\\\ProgramData\\\\Anaconda3\\\\lib\\\\site-packages\\\\matplotlib\\\\pyplot.py'>,\n",
       " 'quit': <IPython.core.autocall.ZMQExitAutocall at 0x26b080b10b8>,\n",
       " 'woo': <__main__.Parrot at 0x26b0ab94ef0>,\n",
       " '문근영': <__main__.Parrot at 0x26b0abdd668>}"
      ]
     },
     "execution_count": 69,
     "metadata": {},
     "output_type": "execute_result"
    }
   ],
   "source": [
    "locals() # 영역에 해당된거 다 나옴 #자료구조의 기본적인 구조는dict"
   ]
  },
  {
   "cell_type": "code",
   "execution_count": 70,
   "metadata": {
    "scrolled": false
   },
   "outputs": [
    {
     "data": {
      "text/plain": [
       "{'Bird': __main__.Bird,\n",
       " 'Computer': __main__.Computer,\n",
       " 'DataFrame': pandas.core.frame.DataFrame,\n",
       " 'In': ['',\n",
       "  \"문근영 = Parrot('문근영', 30)\",\n",
       "  'class Parrot: # 멤버 변수가 총 3개 \\n\\n    # class attribute\\n    species = \"bird\"\\n\\n    # instance attribute\\n    def __init__(self, name, age): # 인자 2개 받는다.\\n        self.name = name\\n        self.age = age',\n",
       "  '# instantiate the Parrot class\\nblu = Parrot(\"Blu\", 10) # 인스턴스화 \\nwoo = Parrot(\"Woo\", 15)',\n",
       "  'type(blu) #_main__ 현재 작업하고있는 클래스',\n",
       "  'type(Parrot) # type -> class \\n             #__main -> 현재작업하고있는 클래스',\n",
       "  'dir(blu)',\n",
       "  'vars(blu) # 인스턴스 어트리뷰트 보여줌\\n\\n# 총 어트리뷰트는 3개 \\n# 왜 스피시즈는 안나와? \\n# 동적으로 생성된건 인스턴스 어트리뷰트!! self가 붙어있는거 \\n# 클래스가 붙어 있는건 한 개 ',\n",
       "  'blu.__dict__',\n",
       "  \"blu.species = 'bird2'\",\n",
       "  'blu.__dict__',\n",
       "  'dir(blu) # 클래스, 인스턴스 차이점 (어트리뷰트)',\n",
       "  'woo.species # 클래스 어트리뷰트',\n",
       "  'woo.__dict__ # specise 가 안나와 ',\n",
       "  'dir(blu) # species  클래스 어트리뷰트를 덮은걸까?\\n         #인스턴스 일까? < - 이거임 (인스턴스 어트리뷰트)',\n",
       "  'blu.species',\n",
       "  'woo.species',\n",
       "  'Parrot.species # == class.class attr ',\n",
       "  'Parrot.name # instance attr- > instane화 되어있는 것만 ',\n",
       "  '# 같은 name instance이름으로 덮어도 남아있는다 ',\n",
       "  '# 파이썬에 클래스는 오브젝트일 수 잇다 . <- 파이썬의 모든 클래스는 오브젝트이다 .\\n# 클래스변수 <- static과 비슷하다고 생각하면됨 \\n# 단, 여기서는 공유값(static)이 아니다 .',\n",
       "  '# access the class attributes\\nprint(\"Blu is a {}\".format(blu.__class__.species))\\nprint(\"Woo is also a {}\".format(woo.__class__.species))\\n\\n# access the instance attributes\\nprint(\"{} is {} years old\".format( blu.name, blu.age))\\nprint(\"{} is {} years old\".format( woo.name, woo.age))',\n",
       "  \"문근영 = Parrot('문근영', 30)\",\n",
       "  'vars(문근영)',\n",
       "  '문근영.species',\n",
       "  \"문근영.species = 'bird2'\",\n",
       "  '문근영.species # instance attr\\n                # 이름을 똑같이 하면 instance가 우선순위!!! \\n                # 클래스 변수는 남아 있음\\n                # 그래서 이름좀 다르게해라~~~',\n",
       "  '문근영.__class__.species # class attr \\n                        # 이런짓은 하지마 ...  instance attr 똑같이 nameing하는거 .. ',\n",
       "  '# 인스턴스화 된건 -> self!!! \\n# atrr -> 3개 ( Parrot안에)',\n",
       "  '문근영.__class__ # __main__.Parrot <- 현재 작업하고 잇는공간 ',\n",
       "  'class Parrot:\\n    \\n    # instance attributes\\n    def __init__(self, name, age):  # __ __ <- special mehod, magic method \\n                                    # self가 들어갔다 인스턴스 메소드 \\n                                    # 그럼 클래스 메소드도 잇겠네 \\n                                    # 메소드에 첫 번째 인자는, 자기자신을 가리키는 것이다.\\n                                    \\n        self.name = name\\n        self.age = age\\n    \\n    # instance method\\n    def sing(self, song):\\n        return \"{} sings {}\".format(self.name, song)\\n\\n    def dance(self):\\n        return \"{} is now dancing\".format(self.name)\\n\\n# instantiate the object\\nblu = Parrot(\"Blu\", 10)\\n\\n# call our instance methods\\nprint(blu.sing(\"\\'Happy\\'\"))\\nprint(blu.dance())',\n",
       "  'class Parrot:\\n    \\n    # instance attributes\\n    def __init__(selfsssss, name, age): \\n                                       \\n        selfsssss.name = name\\n        selfsssss.age = age  # self란건 관례, (권장한다.) 아무것나 바꿔두됨, keyword가 아니라서 \\n    \\n    # instance method\\n    def sing(self, song):\\n        return \"{} sings {}\".format(self.name, song)\\n\\n    def dance(self):\\n        return \"{} is now dancing\".format(self.name)',\n",
       "  '# instantiate the object\\nblu = Parrot(\"Blu\", 10)\\n\\n# call our instance methods\\nprint(blu.sing(\"\\'Happy\\'\"))\\nprint(blu.dance())',\n",
       "  'Parrot.sing(문근영,\"노래\") # class. instance( 인스턴스를 기입 하야힌다.)',\n",
       "  \"문근영.sing('노래') # instance. instnance(안써) - >인자가 self인 경우에만\",\n",
       "  '문근영.dance() # mutable은 자기 자신이 바뀌는것  #에ㅔ러!!',\n",
       "  'dir(문근영)',\n",
       "  'class Parrot:\\n    \\n    # instance attributes\\n    def __init__(selfsssss, name, age):  \\n                                    \\n        selfsssss.name = name\\n        selfsssss.age = age  \\n    \\n    # instance method`\\n    def sing(self, song):\\n        return \"{} sings {}\".format(self.name, song)\\n\\n    def dance(self):\\n        return \"{} is now dancing\".format(self.name)',\n",
       "  'dir(문근영)',\n",
       "  \"문근영 = Parrot('문근영', 10)\",\n",
       "  \"문근영.sing('ss')\",\n",
       "  \"Parrot.sing(문근영,'ss')\",\n",
       "  '문근영.dance()',\n",
       "  'Parrot.dance(문근영)',\n",
       "  'class Parrot:\\n    speceies = \\'ss\\'\\n    # instance attributes\\n    def __init__(selfsssss, name, age): \\n                                    \\n        selfsssss.name = name\\n        selfsssss.age = age  \\n    \\n    # instance method`\\n    def sing(self, song):\\n        return \"{} sings {}\".format(self.name, song)\\n\\n    def dance(self):\\n        return \"{} is now dancing\".format(self.name)\\n    \\n    @classmethod # anotation -> decorator \\n    def dance2(cls): # 클래스 메소드는 관례상 cls \\n# !      return \"{} is now dancing2\".format(self.name) # cls인디 self -> 인스턴스 변수 면 에러 \\n        return \"{} is now dancing2\"',\n",
       "  \"a = Parrot('sun' ,42)\",\n",
       "  'Parrot.dance(a)',\n",
       "  'a.dance()',\n",
       "  'Parrot.dance2() # class 메소드는 class 명 을 쓰고 기입을 한다. ',\n",
       "  'a.__class__.dance2() # instance.__class__ -> real class 전자와 같은 개념 ',\n",
       "  'Parrot.speceies',\n",
       "  '문근영 = Parrot(1,1,)',\n",
       "  '문근영.__class__.speceies',\n",
       "  '# parent class # 실제 오브젝트 상속 되어있음 기본적으로 \\nclass Bird:\\n    # attr 0개 \\n    # attr 추가 가능하기 때문에 오류가 아니다 . # 자바에서는 오류\\n    \\n    def __init__(self):\\n        print(\"Bird is ready\")\\n\\n    def whoisThis(self):\\n        print(\"Bird\")\\n\\n    def swim(self):\\n        print(\"Swim faster\")',\n",
       "  '# child class\\nclass Penguin(Bird,): # Bird class를 상속 \\n                      # 왼쪽에 클래스 부터 상속; Bird,fish,~~이런 식으로 \\n    pass              # bird가 갖고있는거 다 쓸 수 있다 .\\n        \\n    def swim(self): # 물론 인자 바꿀 수 있는디 지금은 같게 해줘 \\n        print(\"I can swim\")\\n            \\n    def run(self):\\n        print(\"Run faster\")\\n        \\n    def __init__(self):\\n        # call super() function\\n        super(Penguin, self).__init__() # 부모거 가져온다 == super().__init__() why??? 다중 상속이 있으니깐, \\n                                        # 인자에 자기 자신 넣어도 된다.\\n                                     \\n        print(\"Penguin is ready\")    ',\n",
       "  '# parent class # 실제 오브젝트 상속 되어있음 기본적으로 \\nclass Bird:\\n    # attr 0개 \\n    # attr 추가 가능하기 때문에 오류가 아니다 . # 자바에서는 오류\\n    \\n    def __init__(self):\\n        print(\"Bird is ready\")\\n\\n    def whoisThis(self):\\n        print(\"Bird\")\\n\\n    def swim(self):\\n        print(\"Swim faster\")',\n",
       "  '# child class\\nclass Penguin(Bird,): # Bird class를 상속 \\n                      # 왼쪽에 클래스 부터 상속; Bird,fish,~~이런 식으로 \\n    pass              # bird가 갖고있는거 다 쓸 수 있다 .\\n        \\n    def swim(self): # 물론 인자 바꿀 수 있는디 지금은 같게 해줘 \\n        print(\"I can swim\")\\n            \\n    def run(self):\\n        print(\"Run faster\")\\n        \\n    def __init__(self):\\n        # call super() function\\n        super(Penguin, self).__init__() # 부모거 가져온다 == super().__init__() why??? 다중 상속이 있으니깐, \\n                                        # 인자에 자기 자신 넣어도 된다.\\n                                     \\n        print(\"Penguin is ready\")    ',\n",
       "  'dir(Penguin) #bird가 갖고 있던 메소드 가지고 오게됨 <- 요것이 상속 ',\n",
       "  '# 상속에서는 부모가 없는걸 추가 하거나 바꿀 수 있따 (오버라이딩)',\n",
       "  'peggy = Penguin()\\npeggy.whoisThis() # 상속되었다. ~\\npeggy.swim()\\npeggy.run() # Bird에서는 Run을 할 수 없다. 이러한 상속이란 개념이 중요하다 .',\n",
       "  'Penguin.__mro__',\n",
       "  '# child class\\nclass Penguin(Bird,): \\n                      \\n    pass              \\n        \\n    def swim(self): \\n        print(\"I can swim\")\\n            \\n    def run(self):\\n        print(\"Run faster\")\\n        \\n    def __init__(self):\\n        # call super() function\\n        super(Penguin, self).__init__() \\n                                       \\n                                     \\n        print(\"Penguin is ready\")    \\n    def whoisThis(self):\\n        print(\"Penguin\")\\n\\n    def run(self):\\n        print(\"Run faster\")\\n\\npeggy = Penguin()\\npeggy.whoisThis()\\npeggy.swim()\\npeggy.run()',\n",
       "  '# class는 private가 없어서 외부에서 관리 해주는게 어렵다 \\n# 그래서 캡슐화 \\n# 근디 mutable 땜에 또 골치 아프다 ',\n",
       "  'class Computer:\\n\\n    def __init__(self): # __ -> private _ -> 예약어\\n        self.__maxprice = 900\\n\\n    def sell(self):\\n        print(\"Selling Price: {}\".format(self.__maxprice))\\n        \\n    def setMaxPrice(self, price):\\n        self.__maxprice = price',\n",
       "  'c = Computer()\\nc.sell()\\n\\n# change the price\\nc.__maxprice = 1000\\nc.sell()\\n\\n# using setter function\\nc.setMaxPrice(1000)\\nc.sell()',\n",
       "  'c = Computer()\\nc.sell()\\n\\n# change the price\\nc.__maxprice = 1000\\nc.sell()\\n\\n# using setter function\\nc.setMaxPrice(1000)\\nc.sell()',\n",
       "  'vars(c)',\n",
       "  'dir() # ipthon에서만 나오는 것\\n      # 현재 인터페이스에 저장된거 다 나옴 ',\n",
       "  '_i20',\n",
       "  'locals() # 영역에 해당된거 다 나옴 #자료구조의 기본적인 구조는dict',\n",
       "  'globals()'],\n",
       " 'Out': {4: __main__.Parrot,\n",
       "  5: type,\n",
       "  6: ['__class__',\n",
       "   '__delattr__',\n",
       "   '__dict__',\n",
       "   '__dir__',\n",
       "   '__doc__',\n",
       "   '__eq__',\n",
       "   '__format__',\n",
       "   '__ge__',\n",
       "   '__getattribute__',\n",
       "   '__gt__',\n",
       "   '__hash__',\n",
       "   '__init__',\n",
       "   '__init_subclass__',\n",
       "   '__le__',\n",
       "   '__lt__',\n",
       "   '__module__',\n",
       "   '__ne__',\n",
       "   '__new__',\n",
       "   '__reduce__',\n",
       "   '__reduce_ex__',\n",
       "   '__repr__',\n",
       "   '__setattr__',\n",
       "   '__sizeof__',\n",
       "   '__str__',\n",
       "   '__subclasshook__',\n",
       "   '__weakref__',\n",
       "   'age',\n",
       "   'name',\n",
       "   'species'],\n",
       "  7: {'age': 10, 'name': 'Blu', 'species': 'bird2'},\n",
       "  8: {'age': 10, 'name': 'Blu', 'species': 'bird2'},\n",
       "  10: {'age': 10, 'name': 'Blu', 'species': 'bird2'},\n",
       "  11: ['__class__',\n",
       "   '__delattr__',\n",
       "   '__dict__',\n",
       "   '__dir__',\n",
       "   '__doc__',\n",
       "   '__eq__',\n",
       "   '__format__',\n",
       "   '__ge__',\n",
       "   '__getattribute__',\n",
       "   '__gt__',\n",
       "   '__hash__',\n",
       "   '__init__',\n",
       "   '__init_subclass__',\n",
       "   '__le__',\n",
       "   '__lt__',\n",
       "   '__module__',\n",
       "   '__ne__',\n",
       "   '__new__',\n",
       "   '__reduce__',\n",
       "   '__reduce_ex__',\n",
       "   '__repr__',\n",
       "   '__setattr__',\n",
       "   '__sizeof__',\n",
       "   '__str__',\n",
       "   '__subclasshook__',\n",
       "   '__weakref__',\n",
       "   'age',\n",
       "   'name',\n",
       "   'species'],\n",
       "  12: 'bird',\n",
       "  13: {'age': 15, 'name': 'Woo'},\n",
       "  14: ['__class__',\n",
       "   '__delattr__',\n",
       "   '__dict__',\n",
       "   '__dir__',\n",
       "   '__doc__',\n",
       "   '__eq__',\n",
       "   '__format__',\n",
       "   '__ge__',\n",
       "   '__getattribute__',\n",
       "   '__gt__',\n",
       "   '__hash__',\n",
       "   '__init__',\n",
       "   '__init_subclass__',\n",
       "   '__le__',\n",
       "   '__lt__',\n",
       "   '__module__',\n",
       "   '__ne__',\n",
       "   '__new__',\n",
       "   '__reduce__',\n",
       "   '__reduce_ex__',\n",
       "   '__repr__',\n",
       "   '__setattr__',\n",
       "   '__sizeof__',\n",
       "   '__str__',\n",
       "   '__subclasshook__',\n",
       "   '__weakref__',\n",
       "   'age',\n",
       "   'name',\n",
       "   'species'],\n",
       "  15: 'bird2',\n",
       "  16: 'bird',\n",
       "  17: 'bird',\n",
       "  23: {'age': 30, 'name': '문근영', 'species': 'bird2'},\n",
       "  24: 'bird',\n",
       "  26: 'bird2',\n",
       "  27: 'bird',\n",
       "  29: __main__.Parrot,\n",
       "  33: '문근영 sings 노래',\n",
       "  36: ['__class__',\n",
       "   '__delattr__',\n",
       "   '__dict__',\n",
       "   '__dir__',\n",
       "   '__doc__',\n",
       "   '__eq__',\n",
       "   '__format__',\n",
       "   '__ge__',\n",
       "   '__getattribute__',\n",
       "   '__gt__',\n",
       "   '__hash__',\n",
       "   '__init__',\n",
       "   '__init_subclass__',\n",
       "   '__le__',\n",
       "   '__lt__',\n",
       "   '__module__',\n",
       "   '__ne__',\n",
       "   '__new__',\n",
       "   '__reduce__',\n",
       "   '__reduce_ex__',\n",
       "   '__repr__',\n",
       "   '__setattr__',\n",
       "   '__sizeof__',\n",
       "   '__str__',\n",
       "   '__subclasshook__',\n",
       "   '__weakref__',\n",
       "   'age',\n",
       "   'name',\n",
       "   'species'],\n",
       "  38: ['__class__',\n",
       "   '__delattr__',\n",
       "   '__dict__',\n",
       "   '__dir__',\n",
       "   '__doc__',\n",
       "   '__eq__',\n",
       "   '__format__',\n",
       "   '__ge__',\n",
       "   '__getattribute__',\n",
       "   '__gt__',\n",
       "   '__hash__',\n",
       "   '__init__',\n",
       "   '__init_subclass__',\n",
       "   '__le__',\n",
       "   '__lt__',\n",
       "   '__module__',\n",
       "   '__ne__',\n",
       "   '__new__',\n",
       "   '__reduce__',\n",
       "   '__reduce_ex__',\n",
       "   '__repr__',\n",
       "   '__setattr__',\n",
       "   '__sizeof__',\n",
       "   '__str__',\n",
       "   '__subclasshook__',\n",
       "   '__weakref__',\n",
       "   'age',\n",
       "   'name',\n",
       "   'species'],\n",
       "  40: '문근영 sings ss',\n",
       "  41: '문근영 sings ss',\n",
       "  42: '문근영 is now dancing',\n",
       "  43: '문근영 is now dancing',\n",
       "  46: 'sun is now dancing',\n",
       "  47: 'sun is now dancing',\n",
       "  48: '{} is now dancing2',\n",
       "  49: '{} is now dancing2',\n",
       "  50: 'ss',\n",
       "  52: 'ss',\n",
       "  57: ['__class__',\n",
       "   '__delattr__',\n",
       "   '__dict__',\n",
       "   '__dir__',\n",
       "   '__doc__',\n",
       "   '__eq__',\n",
       "   '__format__',\n",
       "   '__ge__',\n",
       "   '__getattribute__',\n",
       "   '__gt__',\n",
       "   '__hash__',\n",
       "   '__init__',\n",
       "   '__init_subclass__',\n",
       "   '__le__',\n",
       "   '__lt__',\n",
       "   '__module__',\n",
       "   '__ne__',\n",
       "   '__new__',\n",
       "   '__reduce__',\n",
       "   '__reduce_ex__',\n",
       "   '__repr__',\n",
       "   '__setattr__',\n",
       "   '__sizeof__',\n",
       "   '__str__',\n",
       "   '__subclasshook__',\n",
       "   '__weakref__',\n",
       "   'run',\n",
       "   'swim',\n",
       "   'whoisThis'],\n",
       "  60: (__main__.Penguin, __main__.Bird, object),\n",
       "  66: {'_Computer__maxprice': 1000, '__maxprice': 1000},\n",
       "  67: ['Bird',\n",
       "   'Computer',\n",
       "   'DataFrame',\n",
       "   'In',\n",
       "   'Out',\n",
       "   'Parrot',\n",
       "   'Penguin',\n",
       "   'Series',\n",
       "   '_',\n",
       "   '_10',\n",
       "   '_11',\n",
       "   '_12',\n",
       "   '_13',\n",
       "   '_14',\n",
       "   '_15',\n",
       "   '_16',\n",
       "   '_17',\n",
       "   '_23',\n",
       "   '_24',\n",
       "   '_26',\n",
       "   '_27',\n",
       "   '_29',\n",
       "   '_33',\n",
       "   '_36',\n",
       "   '_38',\n",
       "   '_4',\n",
       "   '_40',\n",
       "   '_41',\n",
       "   '_42',\n",
       "   '_43',\n",
       "   '_46',\n",
       "   '_47',\n",
       "   '_48',\n",
       "   '_49',\n",
       "   '_5',\n",
       "   '_50',\n",
       "   '_52',\n",
       "   '_57',\n",
       "   '_6',\n",
       "   '_60',\n",
       "   '_66',\n",
       "   '_7',\n",
       "   '_8',\n",
       "   '__',\n",
       "   '___',\n",
       "   '__builtin__',\n",
       "   '__builtins__',\n",
       "   '__doc__',\n",
       "   '__loader__',\n",
       "   '__name__',\n",
       "   '__package__',\n",
       "   '__spec__',\n",
       "   '_dh',\n",
       "   '_i',\n",
       "   '_i1',\n",
       "   '_i10',\n",
       "   '_i11',\n",
       "   '_i12',\n",
       "   '_i13',\n",
       "   '_i14',\n",
       "   '_i15',\n",
       "   '_i16',\n",
       "   '_i17',\n",
       "   '_i18',\n",
       "   '_i19',\n",
       "   '_i2',\n",
       "   '_i20',\n",
       "   '_i21',\n",
       "   '_i22',\n",
       "   '_i23',\n",
       "   '_i24',\n",
       "   '_i25',\n",
       "   '_i26',\n",
       "   '_i27',\n",
       "   '_i28',\n",
       "   '_i29',\n",
       "   '_i3',\n",
       "   '_i30',\n",
       "   '_i31',\n",
       "   '_i32',\n",
       "   '_i33',\n",
       "   '_i34',\n",
       "   '_i35',\n",
       "   '_i36',\n",
       "   '_i37',\n",
       "   '_i38',\n",
       "   '_i39',\n",
       "   '_i4',\n",
       "   '_i40',\n",
       "   '_i41',\n",
       "   '_i42',\n",
       "   '_i43',\n",
       "   '_i44',\n",
       "   '_i45',\n",
       "   '_i46',\n",
       "   '_i47',\n",
       "   '_i48',\n",
       "   '_i49',\n",
       "   '_i5',\n",
       "   '_i50',\n",
       "   '_i51',\n",
       "   '_i52',\n",
       "   '_i53',\n",
       "   '_i54',\n",
       "   '_i55',\n",
       "   '_i56',\n",
       "   '_i57',\n",
       "   '_i58',\n",
       "   '_i59',\n",
       "   '_i6',\n",
       "   '_i60',\n",
       "   '_i61',\n",
       "   '_i62',\n",
       "   '_i63',\n",
       "   '_i64',\n",
       "   '_i65',\n",
       "   '_i66',\n",
       "   '_i67',\n",
       "   '_i7',\n",
       "   '_i8',\n",
       "   '_i9',\n",
       "   '_ih',\n",
       "   '_ii',\n",
       "   '_iii',\n",
       "   '_oh',\n",
       "   'a',\n",
       "   'blu',\n",
       "   'c',\n",
       "   'exit',\n",
       "   'get_ipython',\n",
       "   'np',\n",
       "   'pd',\n",
       "   'peggy',\n",
       "   'plt',\n",
       "   'quit',\n",
       "   'woo',\n",
       "   '문근영'],\n",
       "  68: '# 파이썬에 클래스는 오브젝트일 수 잇다 . <- 파이썬의 모든 클래스는 오브젝트이다 .\\n# 클래스변수 <- static과 비슷하다고 생각하면됨 \\n# 단, 여기서는 공유값(static)이 아니다 .',\n",
       "  69: {...}},\n",
       " 'Parrot': __main__.Parrot,\n",
       " 'Penguin': __main__.Penguin,\n",
       " 'Series': pandas.core.series.Series,\n",
       " '_': {...},\n",
       " '_10': {'age': 10, 'name': 'Blu', 'species': 'bird2'},\n",
       " '_11': ['__class__',\n",
       "  '__delattr__',\n",
       "  '__dict__',\n",
       "  '__dir__',\n",
       "  '__doc__',\n",
       "  '__eq__',\n",
       "  '__format__',\n",
       "  '__ge__',\n",
       "  '__getattribute__',\n",
       "  '__gt__',\n",
       "  '__hash__',\n",
       "  '__init__',\n",
       "  '__init_subclass__',\n",
       "  '__le__',\n",
       "  '__lt__',\n",
       "  '__module__',\n",
       "  '__ne__',\n",
       "  '__new__',\n",
       "  '__reduce__',\n",
       "  '__reduce_ex__',\n",
       "  '__repr__',\n",
       "  '__setattr__',\n",
       "  '__sizeof__',\n",
       "  '__str__',\n",
       "  '__subclasshook__',\n",
       "  '__weakref__',\n",
       "  'age',\n",
       "  'name',\n",
       "  'species'],\n",
       " '_12': 'bird',\n",
       " '_13': {'age': 15, 'name': 'Woo'},\n",
       " '_14': ['__class__',\n",
       "  '__delattr__',\n",
       "  '__dict__',\n",
       "  '__dir__',\n",
       "  '__doc__',\n",
       "  '__eq__',\n",
       "  '__format__',\n",
       "  '__ge__',\n",
       "  '__getattribute__',\n",
       "  '__gt__',\n",
       "  '__hash__',\n",
       "  '__init__',\n",
       "  '__init_subclass__',\n",
       "  '__le__',\n",
       "  '__lt__',\n",
       "  '__module__',\n",
       "  '__ne__',\n",
       "  '__new__',\n",
       "  '__reduce__',\n",
       "  '__reduce_ex__',\n",
       "  '__repr__',\n",
       "  '__setattr__',\n",
       "  '__sizeof__',\n",
       "  '__str__',\n",
       "  '__subclasshook__',\n",
       "  '__weakref__',\n",
       "  'age',\n",
       "  'name',\n",
       "  'species'],\n",
       " '_15': 'bird2',\n",
       " '_16': 'bird',\n",
       " '_17': 'bird',\n",
       " '_23': {'age': 30, 'name': '문근영', 'species': 'bird2'},\n",
       " '_24': 'bird',\n",
       " '_26': 'bird2',\n",
       " '_27': 'bird',\n",
       " '_29': __main__.Parrot,\n",
       " '_33': '문근영 sings 노래',\n",
       " '_36': ['__class__',\n",
       "  '__delattr__',\n",
       "  '__dict__',\n",
       "  '__dir__',\n",
       "  '__doc__',\n",
       "  '__eq__',\n",
       "  '__format__',\n",
       "  '__ge__',\n",
       "  '__getattribute__',\n",
       "  '__gt__',\n",
       "  '__hash__',\n",
       "  '__init__',\n",
       "  '__init_subclass__',\n",
       "  '__le__',\n",
       "  '__lt__',\n",
       "  '__module__',\n",
       "  '__ne__',\n",
       "  '__new__',\n",
       "  '__reduce__',\n",
       "  '__reduce_ex__',\n",
       "  '__repr__',\n",
       "  '__setattr__',\n",
       "  '__sizeof__',\n",
       "  '__str__',\n",
       "  '__subclasshook__',\n",
       "  '__weakref__',\n",
       "  'age',\n",
       "  'name',\n",
       "  'species'],\n",
       " '_38': ['__class__',\n",
       "  '__delattr__',\n",
       "  '__dict__',\n",
       "  '__dir__',\n",
       "  '__doc__',\n",
       "  '__eq__',\n",
       "  '__format__',\n",
       "  '__ge__',\n",
       "  '__getattribute__',\n",
       "  '__gt__',\n",
       "  '__hash__',\n",
       "  '__init__',\n",
       "  '__init_subclass__',\n",
       "  '__le__',\n",
       "  '__lt__',\n",
       "  '__module__',\n",
       "  '__ne__',\n",
       "  '__new__',\n",
       "  '__reduce__',\n",
       "  '__reduce_ex__',\n",
       "  '__repr__',\n",
       "  '__setattr__',\n",
       "  '__sizeof__',\n",
       "  '__str__',\n",
       "  '__subclasshook__',\n",
       "  '__weakref__',\n",
       "  'age',\n",
       "  'name',\n",
       "  'species'],\n",
       " '_4': __main__.Parrot,\n",
       " '_40': '문근영 sings ss',\n",
       " '_41': '문근영 sings ss',\n",
       " '_42': '문근영 is now dancing',\n",
       " '_43': '문근영 is now dancing',\n",
       " '_46': 'sun is now dancing',\n",
       " '_47': 'sun is now dancing',\n",
       " '_48': '{} is now dancing2',\n",
       " '_49': '{} is now dancing2',\n",
       " '_5': type,\n",
       " '_50': 'ss',\n",
       " '_52': 'ss',\n",
       " '_57': ['__class__',\n",
       "  '__delattr__',\n",
       "  '__dict__',\n",
       "  '__dir__',\n",
       "  '__doc__',\n",
       "  '__eq__',\n",
       "  '__format__',\n",
       "  '__ge__',\n",
       "  '__getattribute__',\n",
       "  '__gt__',\n",
       "  '__hash__',\n",
       "  '__init__',\n",
       "  '__init_subclass__',\n",
       "  '__le__',\n",
       "  '__lt__',\n",
       "  '__module__',\n",
       "  '__ne__',\n",
       "  '__new__',\n",
       "  '__reduce__',\n",
       "  '__reduce_ex__',\n",
       "  '__repr__',\n",
       "  '__setattr__',\n",
       "  '__sizeof__',\n",
       "  '__str__',\n",
       "  '__subclasshook__',\n",
       "  '__weakref__',\n",
       "  'run',\n",
       "  'swim',\n",
       "  'whoisThis'],\n",
       " '_6': ['__class__',\n",
       "  '__delattr__',\n",
       "  '__dict__',\n",
       "  '__dir__',\n",
       "  '__doc__',\n",
       "  '__eq__',\n",
       "  '__format__',\n",
       "  '__ge__',\n",
       "  '__getattribute__',\n",
       "  '__gt__',\n",
       "  '__hash__',\n",
       "  '__init__',\n",
       "  '__init_subclass__',\n",
       "  '__le__',\n",
       "  '__lt__',\n",
       "  '__module__',\n",
       "  '__ne__',\n",
       "  '__new__',\n",
       "  '__reduce__',\n",
       "  '__reduce_ex__',\n",
       "  '__repr__',\n",
       "  '__setattr__',\n",
       "  '__sizeof__',\n",
       "  '__str__',\n",
       "  '__subclasshook__',\n",
       "  '__weakref__',\n",
       "  'age',\n",
       "  'name',\n",
       "  'species'],\n",
       " '_60': (__main__.Penguin, __main__.Bird, object),\n",
       " '_66': {'_Computer__maxprice': 1000, '__maxprice': 1000},\n",
       " '_67': ['Bird',\n",
       "  'Computer',\n",
       "  'DataFrame',\n",
       "  'In',\n",
       "  'Out',\n",
       "  'Parrot',\n",
       "  'Penguin',\n",
       "  'Series',\n",
       "  '_',\n",
       "  '_10',\n",
       "  '_11',\n",
       "  '_12',\n",
       "  '_13',\n",
       "  '_14',\n",
       "  '_15',\n",
       "  '_16',\n",
       "  '_17',\n",
       "  '_23',\n",
       "  '_24',\n",
       "  '_26',\n",
       "  '_27',\n",
       "  '_29',\n",
       "  '_33',\n",
       "  '_36',\n",
       "  '_38',\n",
       "  '_4',\n",
       "  '_40',\n",
       "  '_41',\n",
       "  '_42',\n",
       "  '_43',\n",
       "  '_46',\n",
       "  '_47',\n",
       "  '_48',\n",
       "  '_49',\n",
       "  '_5',\n",
       "  '_50',\n",
       "  '_52',\n",
       "  '_57',\n",
       "  '_6',\n",
       "  '_60',\n",
       "  '_66',\n",
       "  '_7',\n",
       "  '_8',\n",
       "  '__',\n",
       "  '___',\n",
       "  '__builtin__',\n",
       "  '__builtins__',\n",
       "  '__doc__',\n",
       "  '__loader__',\n",
       "  '__name__',\n",
       "  '__package__',\n",
       "  '__spec__',\n",
       "  '_dh',\n",
       "  '_i',\n",
       "  '_i1',\n",
       "  '_i10',\n",
       "  '_i11',\n",
       "  '_i12',\n",
       "  '_i13',\n",
       "  '_i14',\n",
       "  '_i15',\n",
       "  '_i16',\n",
       "  '_i17',\n",
       "  '_i18',\n",
       "  '_i19',\n",
       "  '_i2',\n",
       "  '_i20',\n",
       "  '_i21',\n",
       "  '_i22',\n",
       "  '_i23',\n",
       "  '_i24',\n",
       "  '_i25',\n",
       "  '_i26',\n",
       "  '_i27',\n",
       "  '_i28',\n",
       "  '_i29',\n",
       "  '_i3',\n",
       "  '_i30',\n",
       "  '_i31',\n",
       "  '_i32',\n",
       "  '_i33',\n",
       "  '_i34',\n",
       "  '_i35',\n",
       "  '_i36',\n",
       "  '_i37',\n",
       "  '_i38',\n",
       "  '_i39',\n",
       "  '_i4',\n",
       "  '_i40',\n",
       "  '_i41',\n",
       "  '_i42',\n",
       "  '_i43',\n",
       "  '_i44',\n",
       "  '_i45',\n",
       "  '_i46',\n",
       "  '_i47',\n",
       "  '_i48',\n",
       "  '_i49',\n",
       "  '_i5',\n",
       "  '_i50',\n",
       "  '_i51',\n",
       "  '_i52',\n",
       "  '_i53',\n",
       "  '_i54',\n",
       "  '_i55',\n",
       "  '_i56',\n",
       "  '_i57',\n",
       "  '_i58',\n",
       "  '_i59',\n",
       "  '_i6',\n",
       "  '_i60',\n",
       "  '_i61',\n",
       "  '_i62',\n",
       "  '_i63',\n",
       "  '_i64',\n",
       "  '_i65',\n",
       "  '_i66',\n",
       "  '_i67',\n",
       "  '_i7',\n",
       "  '_i8',\n",
       "  '_i9',\n",
       "  '_ih',\n",
       "  '_ii',\n",
       "  '_iii',\n",
       "  '_oh',\n",
       "  'a',\n",
       "  'blu',\n",
       "  'c',\n",
       "  'exit',\n",
       "  'get_ipython',\n",
       "  'np',\n",
       "  'pd',\n",
       "  'peggy',\n",
       "  'plt',\n",
       "  'quit',\n",
       "  'woo',\n",
       "  '문근영'],\n",
       " '_68': '# 파이썬에 클래스는 오브젝트일 수 잇다 . <- 파이썬의 모든 클래스는 오브젝트이다 .\\n# 클래스변수 <- static과 비슷하다고 생각하면됨 \\n# 단, 여기서는 공유값(static)이 아니다 .',\n",
       " '_69': {...},\n",
       " '_7': {'age': 10, 'name': 'Blu', 'species': 'bird2'},\n",
       " '_8': {'age': 10, 'name': 'Blu', 'species': 'bird2'},\n",
       " '__': '# 파이썬에 클래스는 오브젝트일 수 잇다 . <- 파이썬의 모든 클래스는 오브젝트이다 .\\n# 클래스변수 <- static과 비슷하다고 생각하면됨 \\n# 단, 여기서는 공유값(static)이 아니다 .',\n",
       " '___': ['Bird',\n",
       "  'Computer',\n",
       "  'DataFrame',\n",
       "  'In',\n",
       "  'Out',\n",
       "  'Parrot',\n",
       "  'Penguin',\n",
       "  'Series',\n",
       "  '_',\n",
       "  '_10',\n",
       "  '_11',\n",
       "  '_12',\n",
       "  '_13',\n",
       "  '_14',\n",
       "  '_15',\n",
       "  '_16',\n",
       "  '_17',\n",
       "  '_23',\n",
       "  '_24',\n",
       "  '_26',\n",
       "  '_27',\n",
       "  '_29',\n",
       "  '_33',\n",
       "  '_36',\n",
       "  '_38',\n",
       "  '_4',\n",
       "  '_40',\n",
       "  '_41',\n",
       "  '_42',\n",
       "  '_43',\n",
       "  '_46',\n",
       "  '_47',\n",
       "  '_48',\n",
       "  '_49',\n",
       "  '_5',\n",
       "  '_50',\n",
       "  '_52',\n",
       "  '_57',\n",
       "  '_6',\n",
       "  '_60',\n",
       "  '_66',\n",
       "  '_7',\n",
       "  '_8',\n",
       "  '__',\n",
       "  '___',\n",
       "  '__builtin__',\n",
       "  '__builtins__',\n",
       "  '__doc__',\n",
       "  '__loader__',\n",
       "  '__name__',\n",
       "  '__package__',\n",
       "  '__spec__',\n",
       "  '_dh',\n",
       "  '_i',\n",
       "  '_i1',\n",
       "  '_i10',\n",
       "  '_i11',\n",
       "  '_i12',\n",
       "  '_i13',\n",
       "  '_i14',\n",
       "  '_i15',\n",
       "  '_i16',\n",
       "  '_i17',\n",
       "  '_i18',\n",
       "  '_i19',\n",
       "  '_i2',\n",
       "  '_i20',\n",
       "  '_i21',\n",
       "  '_i22',\n",
       "  '_i23',\n",
       "  '_i24',\n",
       "  '_i25',\n",
       "  '_i26',\n",
       "  '_i27',\n",
       "  '_i28',\n",
       "  '_i29',\n",
       "  '_i3',\n",
       "  '_i30',\n",
       "  '_i31',\n",
       "  '_i32',\n",
       "  '_i33',\n",
       "  '_i34',\n",
       "  '_i35',\n",
       "  '_i36',\n",
       "  '_i37',\n",
       "  '_i38',\n",
       "  '_i39',\n",
       "  '_i4',\n",
       "  '_i40',\n",
       "  '_i41',\n",
       "  '_i42',\n",
       "  '_i43',\n",
       "  '_i44',\n",
       "  '_i45',\n",
       "  '_i46',\n",
       "  '_i47',\n",
       "  '_i48',\n",
       "  '_i49',\n",
       "  '_i5',\n",
       "  '_i50',\n",
       "  '_i51',\n",
       "  '_i52',\n",
       "  '_i53',\n",
       "  '_i54',\n",
       "  '_i55',\n",
       "  '_i56',\n",
       "  '_i57',\n",
       "  '_i58',\n",
       "  '_i59',\n",
       "  '_i6',\n",
       "  '_i60',\n",
       "  '_i61',\n",
       "  '_i62',\n",
       "  '_i63',\n",
       "  '_i64',\n",
       "  '_i65',\n",
       "  '_i66',\n",
       "  '_i67',\n",
       "  '_i7',\n",
       "  '_i8',\n",
       "  '_i9',\n",
       "  '_ih',\n",
       "  '_ii',\n",
       "  '_iii',\n",
       "  '_oh',\n",
       "  'a',\n",
       "  'blu',\n",
       "  'c',\n",
       "  'exit',\n",
       "  'get_ipython',\n",
       "  'np',\n",
       "  'pd',\n",
       "  'peggy',\n",
       "  'plt',\n",
       "  'quit',\n",
       "  'woo',\n",
       "  '문근영'],\n",
       " '__builtin__': <module 'builtins' (built-in)>,\n",
       " '__builtins__': <module 'builtins' (built-in)>,\n",
       " '__doc__': 'Automatically created module for IPython interactive environment',\n",
       " '__loader__': None,\n",
       " '__name__': '__main__',\n",
       " '__package__': None,\n",
       " '__spec__': None,\n",
       " '_dh': ['C:\\\\Users\\\\cheerup\\\\Desktop\\\\고려대\\\\day5'],\n",
       " '_i': 'locals() # 영역에 해당된거 다 나옴 #자료구조의 기본적인 구조는dict',\n",
       " '_i1': \"문근영 = Parrot('문근영', 30)\",\n",
       " '_i10': 'blu.__dict__',\n",
       " '_i11': 'dir(blu) # 클래스, 인스턴스 차이점 (어트리뷰트)',\n",
       " '_i12': 'woo.species # 클래스 어트리뷰트',\n",
       " '_i13': 'woo.__dict__ # specise 가 안나와 ',\n",
       " '_i14': 'dir(blu) # species  클래스 어트리뷰트를 덮은걸까?\\n         #인스턴스 일까? < - 이거임 (인스턴스 어트리뷰트)',\n",
       " '_i15': 'blu.species',\n",
       " '_i16': 'woo.species',\n",
       " '_i17': 'Parrot.species # == class.class attr ',\n",
       " '_i18': 'Parrot.name # instance attr- > instane화 되어있는 것만 ',\n",
       " '_i19': '# 같은 name instance이름으로 덮어도 남아있는다 ',\n",
       " '_i2': 'class Parrot: # 멤버 변수가 총 3개 \\n\\n    # class attribute\\n    species = \"bird\"\\n\\n    # instance attribute\\n    def __init__(self, name, age): # 인자 2개 받는다.\\n        self.name = name\\n        self.age = age',\n",
       " '_i20': '# 파이썬에 클래스는 오브젝트일 수 잇다 . <- 파이썬의 모든 클래스는 오브젝트이다 .\\n# 클래스변수 <- static과 비슷하다고 생각하면됨 \\n# 단, 여기서는 공유값(static)이 아니다 .',\n",
       " '_i21': '# access the class attributes\\nprint(\"Blu is a {}\".format(blu.__class__.species))\\nprint(\"Woo is also a {}\".format(woo.__class__.species))\\n\\n# access the instance attributes\\nprint(\"{} is {} years old\".format( blu.name, blu.age))\\nprint(\"{} is {} years old\".format( woo.name, woo.age))',\n",
       " '_i22': \"문근영 = Parrot('문근영', 30)\",\n",
       " '_i23': 'vars(문근영)',\n",
       " '_i24': '문근영.species',\n",
       " '_i25': \"문근영.species = 'bird2'\",\n",
       " '_i26': '문근영.species # instance attr\\n                # 이름을 똑같이 하면 instance가 우선순위!!! \\n                # 클래스 변수는 남아 있음\\n                # 그래서 이름좀 다르게해라~~~',\n",
       " '_i27': '문근영.__class__.species # class attr \\n                        # 이런짓은 하지마 ...  instance attr 똑같이 nameing하는거 .. ',\n",
       " '_i28': '# 인스턴스화 된건 -> self!!! \\n# atrr -> 3개 ( Parrot안에)',\n",
       " '_i29': '문근영.__class__ # __main__.Parrot <- 현재 작업하고 잇는공간 ',\n",
       " '_i3': '# instantiate the Parrot class\\nblu = Parrot(\"Blu\", 10) # 인스턴스화 \\nwoo = Parrot(\"Woo\", 15)',\n",
       " '_i30': 'class Parrot:\\n    \\n    # instance attributes\\n    def __init__(self, name, age):  # __ __ <- special mehod, magic method \\n                                    # self가 들어갔다 인스턴스 메소드 \\n                                    # 그럼 클래스 메소드도 잇겠네 \\n                                    # 메소드에 첫 번째 인자는, 자기자신을 가리키는 것이다.\\n                                    \\n        self.name = name\\n        self.age = age\\n    \\n    # instance method\\n    def sing(self, song):\\n        return \"{} sings {}\".format(self.name, song)\\n\\n    def dance(self):\\n        return \"{} is now dancing\".format(self.name)\\n\\n# instantiate the object\\nblu = Parrot(\"Blu\", 10)\\n\\n# call our instance methods\\nprint(blu.sing(\"\\'Happy\\'\"))\\nprint(blu.dance())',\n",
       " '_i31': 'class Parrot:\\n    \\n    # instance attributes\\n    def __init__(selfsssss, name, age): \\n                                       \\n        selfsssss.name = name\\n        selfsssss.age = age  # self란건 관례, (권장한다.) 아무것나 바꿔두됨, keyword가 아니라서 \\n    \\n    # instance method\\n    def sing(self, song):\\n        return \"{} sings {}\".format(self.name, song)\\n\\n    def dance(self):\\n        return \"{} is now dancing\".format(self.name)',\n",
       " '_i32': '# instantiate the object\\nblu = Parrot(\"Blu\", 10)\\n\\n# call our instance methods\\nprint(blu.sing(\"\\'Happy\\'\"))\\nprint(blu.dance())',\n",
       " '_i33': 'Parrot.sing(문근영,\"노래\") # class. instance( 인스턴스를 기입 하야힌다.)',\n",
       " '_i34': \"문근영.sing('노래') # instance. instnance(안써) - >인자가 self인 경우에만\",\n",
       " '_i35': '문근영.dance() # mutable은 자기 자신이 바뀌는것  #에ㅔ러!!',\n",
       " '_i36': 'dir(문근영)',\n",
       " '_i37': 'class Parrot:\\n    \\n    # instance attributes\\n    def __init__(selfsssss, name, age):  \\n                                    \\n        selfsssss.name = name\\n        selfsssss.age = age  \\n    \\n    # instance method`\\n    def sing(self, song):\\n        return \"{} sings {}\".format(self.name, song)\\n\\n    def dance(self):\\n        return \"{} is now dancing\".format(self.name)',\n",
       " '_i38': 'dir(문근영)',\n",
       " '_i39': \"문근영 = Parrot('문근영', 10)\",\n",
       " '_i4': 'type(blu) #_main__ 현재 작업하고있는 클래스',\n",
       " '_i40': \"문근영.sing('ss')\",\n",
       " '_i41': \"Parrot.sing(문근영,'ss')\",\n",
       " '_i42': '문근영.dance()',\n",
       " '_i43': 'Parrot.dance(문근영)',\n",
       " '_i44': 'class Parrot:\\n    speceies = \\'ss\\'\\n    # instance attributes\\n    def __init__(selfsssss, name, age): \\n                                    \\n        selfsssss.name = name\\n        selfsssss.age = age  \\n    \\n    # instance method`\\n    def sing(self, song):\\n        return \"{} sings {}\".format(self.name, song)\\n\\n    def dance(self):\\n        return \"{} is now dancing\".format(self.name)\\n    \\n    @classmethod # anotation -> decorator \\n    def dance2(cls): # 클래스 메소드는 관례상 cls \\n# !      return \"{} is now dancing2\".format(self.name) # cls인디 self -> 인스턴스 변수 면 에러 \\n        return \"{} is now dancing2\"',\n",
       " '_i45': \"a = Parrot('sun' ,42)\",\n",
       " '_i46': 'Parrot.dance(a)',\n",
       " '_i47': 'a.dance()',\n",
       " '_i48': 'Parrot.dance2() # class 메소드는 class 명 을 쓰고 기입을 한다. ',\n",
       " '_i49': 'a.__class__.dance2() # instance.__class__ -> real class 전자와 같은 개념 ',\n",
       " '_i5': 'type(Parrot) # type -> class \\n             #__main -> 현재작업하고있는 클래스',\n",
       " '_i50': 'Parrot.speceies',\n",
       " '_i51': '문근영 = Parrot(1,1,)',\n",
       " '_i52': '문근영.__class__.speceies',\n",
       " '_i53': '# parent class # 실제 오브젝트 상속 되어있음 기본적으로 \\nclass Bird:\\n    # attr 0개 \\n    # attr 추가 가능하기 때문에 오류가 아니다 . # 자바에서는 오류\\n    \\n    def __init__(self):\\n        print(\"Bird is ready\")\\n\\n    def whoisThis(self):\\n        print(\"Bird\")\\n\\n    def swim(self):\\n        print(\"Swim faster\")',\n",
       " '_i54': '# child class\\nclass Penguin(Bird,): # Bird class를 상속 \\n                      # 왼쪽에 클래스 부터 상속; Bird,fish,~~이런 식으로 \\n    pass              # bird가 갖고있는거 다 쓸 수 있다 .\\n        \\n    def swim(self): # 물론 인자 바꿀 수 있는디 지금은 같게 해줘 \\n        print(\"I can swim\")\\n            \\n    def run(self):\\n        print(\"Run faster\")\\n        \\n    def __init__(self):\\n        # call super() function\\n        super(Penguin, self).__init__() # 부모거 가져온다 == super().__init__() why??? 다중 상속이 있으니깐, \\n                                        # 인자에 자기 자신 넣어도 된다.\\n                                     \\n        print(\"Penguin is ready\")    ',\n",
       " '_i55': '# parent class # 실제 오브젝트 상속 되어있음 기본적으로 \\nclass Bird:\\n    # attr 0개 \\n    # attr 추가 가능하기 때문에 오류가 아니다 . # 자바에서는 오류\\n    \\n    def __init__(self):\\n        print(\"Bird is ready\")\\n\\n    def whoisThis(self):\\n        print(\"Bird\")\\n\\n    def swim(self):\\n        print(\"Swim faster\")',\n",
       " '_i56': '# child class\\nclass Penguin(Bird,): # Bird class를 상속 \\n                      # 왼쪽에 클래스 부터 상속; Bird,fish,~~이런 식으로 \\n    pass              # bird가 갖고있는거 다 쓸 수 있다 .\\n        \\n    def swim(self): # 물론 인자 바꿀 수 있는디 지금은 같게 해줘 \\n        print(\"I can swim\")\\n            \\n    def run(self):\\n        print(\"Run faster\")\\n        \\n    def __init__(self):\\n        # call super() function\\n        super(Penguin, self).__init__() # 부모거 가져온다 == super().__init__() why??? 다중 상속이 있으니깐, \\n                                        # 인자에 자기 자신 넣어도 된다.\\n                                     \\n        print(\"Penguin is ready\")    ',\n",
       " '_i57': 'dir(Penguin) #bird가 갖고 있던 메소드 가지고 오게됨 <- 요것이 상속 ',\n",
       " '_i58': '# 상속에서는 부모가 없는걸 추가 하거나 바꿀 수 있따 (오버라이딩)',\n",
       " '_i59': 'peggy = Penguin()\\npeggy.whoisThis() # 상속되었다. ~\\npeggy.swim()\\npeggy.run() # Bird에서는 Run을 할 수 없다. 이러한 상속이란 개념이 중요하다 .',\n",
       " '_i6': 'dir(blu)',\n",
       " '_i60': 'Penguin.__mro__',\n",
       " '_i61': '# child class\\nclass Penguin(Bird,): \\n                      \\n    pass              \\n        \\n    def swim(self): \\n        print(\"I can swim\")\\n            \\n    def run(self):\\n        print(\"Run faster\")\\n        \\n    def __init__(self):\\n        # call super() function\\n        super(Penguin, self).__init__() \\n                                       \\n                                     \\n        print(\"Penguin is ready\")    \\n    def whoisThis(self):\\n        print(\"Penguin\")\\n\\n    def run(self):\\n        print(\"Run faster\")\\n\\npeggy = Penguin()\\npeggy.whoisThis()\\npeggy.swim()\\npeggy.run()',\n",
       " '_i62': '# class는 private가 없어서 외부에서 관리 해주는게 어렵다 \\n# 그래서 캡슐화 \\n# 근디 mutable 땜에 또 골치 아프다 ',\n",
       " '_i63': 'class Computer:\\n\\n    def __init__(self): # __ -> private _ -> 예약어\\n        self.__maxprice = 900\\n\\n    def sell(self):\\n        print(\"Selling Price: {}\".format(self.__maxprice))\\n        \\n    def setMaxPrice(self, price):\\n        self.__maxprice = price',\n",
       " '_i64': 'c = Computer()\\nc.sell()\\n\\n# change the price\\nc.__maxprice = 1000\\nc.sell()\\n\\n# using setter function\\nc.setMaxPrice(1000)\\nc.sell()',\n",
       " '_i65': 'c = Computer()\\nc.sell()\\n\\n# change the price\\nc.__maxprice = 1000\\nc.sell()\\n\\n# using setter function\\nc.setMaxPrice(1000)\\nc.sell()',\n",
       " '_i66': 'vars(c)',\n",
       " '_i67': 'dir() # ipthon에서만 나오는 것\\n      # 현재 인터페이스에 저장된거 다 나옴 ',\n",
       " '_i68': '_i20',\n",
       " '_i69': 'locals() # 영역에 해당된거 다 나옴 #자료구조의 기본적인 구조는dict',\n",
       " '_i7': 'vars(blu) # 인스턴스 어트리뷰트 보여줌\\n\\n# 총 어트리뷰트는 3개 \\n# 왜 스피시즈는 안나와? \\n# 동적으로 생성된건 인스턴스 어트리뷰트!! self가 붙어있는거 \\n# 클래스가 붙어 있는건 한 개 ',\n",
       " '_i70': 'globals()',\n",
       " '_i8': 'blu.__dict__',\n",
       " '_i9': \"blu.species = 'bird2'\",\n",
       " '_ih': ['',\n",
       "  \"문근영 = Parrot('문근영', 30)\",\n",
       "  'class Parrot: # 멤버 변수가 총 3개 \\n\\n    # class attribute\\n    species = \"bird\"\\n\\n    # instance attribute\\n    def __init__(self, name, age): # 인자 2개 받는다.\\n        self.name = name\\n        self.age = age',\n",
       "  '# instantiate the Parrot class\\nblu = Parrot(\"Blu\", 10) # 인스턴스화 \\nwoo = Parrot(\"Woo\", 15)',\n",
       "  'type(blu) #_main__ 현재 작업하고있는 클래스',\n",
       "  'type(Parrot) # type -> class \\n             #__main -> 현재작업하고있는 클래스',\n",
       "  'dir(blu)',\n",
       "  'vars(blu) # 인스턴스 어트리뷰트 보여줌\\n\\n# 총 어트리뷰트는 3개 \\n# 왜 스피시즈는 안나와? \\n# 동적으로 생성된건 인스턴스 어트리뷰트!! self가 붙어있는거 \\n# 클래스가 붙어 있는건 한 개 ',\n",
       "  'blu.__dict__',\n",
       "  \"blu.species = 'bird2'\",\n",
       "  'blu.__dict__',\n",
       "  'dir(blu) # 클래스, 인스턴스 차이점 (어트리뷰트)',\n",
       "  'woo.species # 클래스 어트리뷰트',\n",
       "  'woo.__dict__ # specise 가 안나와 ',\n",
       "  'dir(blu) # species  클래스 어트리뷰트를 덮은걸까?\\n         #인스턴스 일까? < - 이거임 (인스턴스 어트리뷰트)',\n",
       "  'blu.species',\n",
       "  'woo.species',\n",
       "  'Parrot.species # == class.class attr ',\n",
       "  'Parrot.name # instance attr- > instane화 되어있는 것만 ',\n",
       "  '# 같은 name instance이름으로 덮어도 남아있는다 ',\n",
       "  '# 파이썬에 클래스는 오브젝트일 수 잇다 . <- 파이썬의 모든 클래스는 오브젝트이다 .\\n# 클래스변수 <- static과 비슷하다고 생각하면됨 \\n# 단, 여기서는 공유값(static)이 아니다 .',\n",
       "  '# access the class attributes\\nprint(\"Blu is a {}\".format(blu.__class__.species))\\nprint(\"Woo is also a {}\".format(woo.__class__.species))\\n\\n# access the instance attributes\\nprint(\"{} is {} years old\".format( blu.name, blu.age))\\nprint(\"{} is {} years old\".format( woo.name, woo.age))',\n",
       "  \"문근영 = Parrot('문근영', 30)\",\n",
       "  'vars(문근영)',\n",
       "  '문근영.species',\n",
       "  \"문근영.species = 'bird2'\",\n",
       "  '문근영.species # instance attr\\n                # 이름을 똑같이 하면 instance가 우선순위!!! \\n                # 클래스 변수는 남아 있음\\n                # 그래서 이름좀 다르게해라~~~',\n",
       "  '문근영.__class__.species # class attr \\n                        # 이런짓은 하지마 ...  instance attr 똑같이 nameing하는거 .. ',\n",
       "  '# 인스턴스화 된건 -> self!!! \\n# atrr -> 3개 ( Parrot안에)',\n",
       "  '문근영.__class__ # __main__.Parrot <- 현재 작업하고 잇는공간 ',\n",
       "  'class Parrot:\\n    \\n    # instance attributes\\n    def __init__(self, name, age):  # __ __ <- special mehod, magic method \\n                                    # self가 들어갔다 인스턴스 메소드 \\n                                    # 그럼 클래스 메소드도 잇겠네 \\n                                    # 메소드에 첫 번째 인자는, 자기자신을 가리키는 것이다.\\n                                    \\n        self.name = name\\n        self.age = age\\n    \\n    # instance method\\n    def sing(self, song):\\n        return \"{} sings {}\".format(self.name, song)\\n\\n    def dance(self):\\n        return \"{} is now dancing\".format(self.name)\\n\\n# instantiate the object\\nblu = Parrot(\"Blu\", 10)\\n\\n# call our instance methods\\nprint(blu.sing(\"\\'Happy\\'\"))\\nprint(blu.dance())',\n",
       "  'class Parrot:\\n    \\n    # instance attributes\\n    def __init__(selfsssss, name, age): \\n                                       \\n        selfsssss.name = name\\n        selfsssss.age = age  # self란건 관례, (권장한다.) 아무것나 바꿔두됨, keyword가 아니라서 \\n    \\n    # instance method\\n    def sing(self, song):\\n        return \"{} sings {}\".format(self.name, song)\\n\\n    def dance(self):\\n        return \"{} is now dancing\".format(self.name)',\n",
       "  '# instantiate the object\\nblu = Parrot(\"Blu\", 10)\\n\\n# call our instance methods\\nprint(blu.sing(\"\\'Happy\\'\"))\\nprint(blu.dance())',\n",
       "  'Parrot.sing(문근영,\"노래\") # class. instance( 인스턴스를 기입 하야힌다.)',\n",
       "  \"문근영.sing('노래') # instance. instnance(안써) - >인자가 self인 경우에만\",\n",
       "  '문근영.dance() # mutable은 자기 자신이 바뀌는것  #에ㅔ러!!',\n",
       "  'dir(문근영)',\n",
       "  'class Parrot:\\n    \\n    # instance attributes\\n    def __init__(selfsssss, name, age):  \\n                                    \\n        selfsssss.name = name\\n        selfsssss.age = age  \\n    \\n    # instance method`\\n    def sing(self, song):\\n        return \"{} sings {}\".format(self.name, song)\\n\\n    def dance(self):\\n        return \"{} is now dancing\".format(self.name)',\n",
       "  'dir(문근영)',\n",
       "  \"문근영 = Parrot('문근영', 10)\",\n",
       "  \"문근영.sing('ss')\",\n",
       "  \"Parrot.sing(문근영,'ss')\",\n",
       "  '문근영.dance()',\n",
       "  'Parrot.dance(문근영)',\n",
       "  'class Parrot:\\n    speceies = \\'ss\\'\\n    # instance attributes\\n    def __init__(selfsssss, name, age): \\n                                    \\n        selfsssss.name = name\\n        selfsssss.age = age  \\n    \\n    # instance method`\\n    def sing(self, song):\\n        return \"{} sings {}\".format(self.name, song)\\n\\n    def dance(self):\\n        return \"{} is now dancing\".format(self.name)\\n    \\n    @classmethod # anotation -> decorator \\n    def dance2(cls): # 클래스 메소드는 관례상 cls \\n# !      return \"{} is now dancing2\".format(self.name) # cls인디 self -> 인스턴스 변수 면 에러 \\n        return \"{} is now dancing2\"',\n",
       "  \"a = Parrot('sun' ,42)\",\n",
       "  'Parrot.dance(a)',\n",
       "  'a.dance()',\n",
       "  'Parrot.dance2() # class 메소드는 class 명 을 쓰고 기입을 한다. ',\n",
       "  'a.__class__.dance2() # instance.__class__ -> real class 전자와 같은 개념 ',\n",
       "  'Parrot.speceies',\n",
       "  '문근영 = Parrot(1,1,)',\n",
       "  '문근영.__class__.speceies',\n",
       "  '# parent class # 실제 오브젝트 상속 되어있음 기본적으로 \\nclass Bird:\\n    # attr 0개 \\n    # attr 추가 가능하기 때문에 오류가 아니다 . # 자바에서는 오류\\n    \\n    def __init__(self):\\n        print(\"Bird is ready\")\\n\\n    def whoisThis(self):\\n        print(\"Bird\")\\n\\n    def swim(self):\\n        print(\"Swim faster\")',\n",
       "  '# child class\\nclass Penguin(Bird,): # Bird class를 상속 \\n                      # 왼쪽에 클래스 부터 상속; Bird,fish,~~이런 식으로 \\n    pass              # bird가 갖고있는거 다 쓸 수 있다 .\\n        \\n    def swim(self): # 물론 인자 바꿀 수 있는디 지금은 같게 해줘 \\n        print(\"I can swim\")\\n            \\n    def run(self):\\n        print(\"Run faster\")\\n        \\n    def __init__(self):\\n        # call super() function\\n        super(Penguin, self).__init__() # 부모거 가져온다 == super().__init__() why??? 다중 상속이 있으니깐, \\n                                        # 인자에 자기 자신 넣어도 된다.\\n                                     \\n        print(\"Penguin is ready\")    ',\n",
       "  '# parent class # 실제 오브젝트 상속 되어있음 기본적으로 \\nclass Bird:\\n    # attr 0개 \\n    # attr 추가 가능하기 때문에 오류가 아니다 . # 자바에서는 오류\\n    \\n    def __init__(self):\\n        print(\"Bird is ready\")\\n\\n    def whoisThis(self):\\n        print(\"Bird\")\\n\\n    def swim(self):\\n        print(\"Swim faster\")',\n",
       "  '# child class\\nclass Penguin(Bird,): # Bird class를 상속 \\n                      # 왼쪽에 클래스 부터 상속; Bird,fish,~~이런 식으로 \\n    pass              # bird가 갖고있는거 다 쓸 수 있다 .\\n        \\n    def swim(self): # 물론 인자 바꿀 수 있는디 지금은 같게 해줘 \\n        print(\"I can swim\")\\n            \\n    def run(self):\\n        print(\"Run faster\")\\n        \\n    def __init__(self):\\n        # call super() function\\n        super(Penguin, self).__init__() # 부모거 가져온다 == super().__init__() why??? 다중 상속이 있으니깐, \\n                                        # 인자에 자기 자신 넣어도 된다.\\n                                     \\n        print(\"Penguin is ready\")    ',\n",
       "  'dir(Penguin) #bird가 갖고 있던 메소드 가지고 오게됨 <- 요것이 상속 ',\n",
       "  '# 상속에서는 부모가 없는걸 추가 하거나 바꿀 수 있따 (오버라이딩)',\n",
       "  'peggy = Penguin()\\npeggy.whoisThis() # 상속되었다. ~\\npeggy.swim()\\npeggy.run() # Bird에서는 Run을 할 수 없다. 이러한 상속이란 개념이 중요하다 .',\n",
       "  'Penguin.__mro__',\n",
       "  '# child class\\nclass Penguin(Bird,): \\n                      \\n    pass              \\n        \\n    def swim(self): \\n        print(\"I can swim\")\\n            \\n    def run(self):\\n        print(\"Run faster\")\\n        \\n    def __init__(self):\\n        # call super() function\\n        super(Penguin, self).__init__() \\n                                       \\n                                     \\n        print(\"Penguin is ready\")    \\n    def whoisThis(self):\\n        print(\"Penguin\")\\n\\n    def run(self):\\n        print(\"Run faster\")\\n\\npeggy = Penguin()\\npeggy.whoisThis()\\npeggy.swim()\\npeggy.run()',\n",
       "  '# class는 private가 없어서 외부에서 관리 해주는게 어렵다 \\n# 그래서 캡슐화 \\n# 근디 mutable 땜에 또 골치 아프다 ',\n",
       "  'class Computer:\\n\\n    def __init__(self): # __ -> private _ -> 예약어\\n        self.__maxprice = 900\\n\\n    def sell(self):\\n        print(\"Selling Price: {}\".format(self.__maxprice))\\n        \\n    def setMaxPrice(self, price):\\n        self.__maxprice = price',\n",
       "  'c = Computer()\\nc.sell()\\n\\n# change the price\\nc.__maxprice = 1000\\nc.sell()\\n\\n# using setter function\\nc.setMaxPrice(1000)\\nc.sell()',\n",
       "  'c = Computer()\\nc.sell()\\n\\n# change the price\\nc.__maxprice = 1000\\nc.sell()\\n\\n# using setter function\\nc.setMaxPrice(1000)\\nc.sell()',\n",
       "  'vars(c)',\n",
       "  'dir() # ipthon에서만 나오는 것\\n      # 현재 인터페이스에 저장된거 다 나옴 ',\n",
       "  '_i20',\n",
       "  'locals() # 영역에 해당된거 다 나옴 #자료구조의 기본적인 구조는dict',\n",
       "  'globals()'],\n",
       " '_ii': '_i20',\n",
       " '_iii': 'dir() # ipthon에서만 나오는 것\\n      # 현재 인터페이스에 저장된거 다 나옴 ',\n",
       " '_oh': {4: __main__.Parrot,\n",
       "  5: type,\n",
       "  6: ['__class__',\n",
       "   '__delattr__',\n",
       "   '__dict__',\n",
       "   '__dir__',\n",
       "   '__doc__',\n",
       "   '__eq__',\n",
       "   '__format__',\n",
       "   '__ge__',\n",
       "   '__getattribute__',\n",
       "   '__gt__',\n",
       "   '__hash__',\n",
       "   '__init__',\n",
       "   '__init_subclass__',\n",
       "   '__le__',\n",
       "   '__lt__',\n",
       "   '__module__',\n",
       "   '__ne__',\n",
       "   '__new__',\n",
       "   '__reduce__',\n",
       "   '__reduce_ex__',\n",
       "   '__repr__',\n",
       "   '__setattr__',\n",
       "   '__sizeof__',\n",
       "   '__str__',\n",
       "   '__subclasshook__',\n",
       "   '__weakref__',\n",
       "   'age',\n",
       "   'name',\n",
       "   'species'],\n",
       "  7: {'age': 10, 'name': 'Blu', 'species': 'bird2'},\n",
       "  8: {'age': 10, 'name': 'Blu', 'species': 'bird2'},\n",
       "  10: {'age': 10, 'name': 'Blu', 'species': 'bird2'},\n",
       "  11: ['__class__',\n",
       "   '__delattr__',\n",
       "   '__dict__',\n",
       "   '__dir__',\n",
       "   '__doc__',\n",
       "   '__eq__',\n",
       "   '__format__',\n",
       "   '__ge__',\n",
       "   '__getattribute__',\n",
       "   '__gt__',\n",
       "   '__hash__',\n",
       "   '__init__',\n",
       "   '__init_subclass__',\n",
       "   '__le__',\n",
       "   '__lt__',\n",
       "   '__module__',\n",
       "   '__ne__',\n",
       "   '__new__',\n",
       "   '__reduce__',\n",
       "   '__reduce_ex__',\n",
       "   '__repr__',\n",
       "   '__setattr__',\n",
       "   '__sizeof__',\n",
       "   '__str__',\n",
       "   '__subclasshook__',\n",
       "   '__weakref__',\n",
       "   'age',\n",
       "   'name',\n",
       "   'species'],\n",
       "  12: 'bird',\n",
       "  13: {'age': 15, 'name': 'Woo'},\n",
       "  14: ['__class__',\n",
       "   '__delattr__',\n",
       "   '__dict__',\n",
       "   '__dir__',\n",
       "   '__doc__',\n",
       "   '__eq__',\n",
       "   '__format__',\n",
       "   '__ge__',\n",
       "   '__getattribute__',\n",
       "   '__gt__',\n",
       "   '__hash__',\n",
       "   '__init__',\n",
       "   '__init_subclass__',\n",
       "   '__le__',\n",
       "   '__lt__',\n",
       "   '__module__',\n",
       "   '__ne__',\n",
       "   '__new__',\n",
       "   '__reduce__',\n",
       "   '__reduce_ex__',\n",
       "   '__repr__',\n",
       "   '__setattr__',\n",
       "   '__sizeof__',\n",
       "   '__str__',\n",
       "   '__subclasshook__',\n",
       "   '__weakref__',\n",
       "   'age',\n",
       "   'name',\n",
       "   'species'],\n",
       "  15: 'bird2',\n",
       "  16: 'bird',\n",
       "  17: 'bird',\n",
       "  23: {'age': 30, 'name': '문근영', 'species': 'bird2'},\n",
       "  24: 'bird',\n",
       "  26: 'bird2',\n",
       "  27: 'bird',\n",
       "  29: __main__.Parrot,\n",
       "  33: '문근영 sings 노래',\n",
       "  36: ['__class__',\n",
       "   '__delattr__',\n",
       "   '__dict__',\n",
       "   '__dir__',\n",
       "   '__doc__',\n",
       "   '__eq__',\n",
       "   '__format__',\n",
       "   '__ge__',\n",
       "   '__getattribute__',\n",
       "   '__gt__',\n",
       "   '__hash__',\n",
       "   '__init__',\n",
       "   '__init_subclass__',\n",
       "   '__le__',\n",
       "   '__lt__',\n",
       "   '__module__',\n",
       "   '__ne__',\n",
       "   '__new__',\n",
       "   '__reduce__',\n",
       "   '__reduce_ex__',\n",
       "   '__repr__',\n",
       "   '__setattr__',\n",
       "   '__sizeof__',\n",
       "   '__str__',\n",
       "   '__subclasshook__',\n",
       "   '__weakref__',\n",
       "   'age',\n",
       "   'name',\n",
       "   'species'],\n",
       "  38: ['__class__',\n",
       "   '__delattr__',\n",
       "   '__dict__',\n",
       "   '__dir__',\n",
       "   '__doc__',\n",
       "   '__eq__',\n",
       "   '__format__',\n",
       "   '__ge__',\n",
       "   '__getattribute__',\n",
       "   '__gt__',\n",
       "   '__hash__',\n",
       "   '__init__',\n",
       "   '__init_subclass__',\n",
       "   '__le__',\n",
       "   '__lt__',\n",
       "   '__module__',\n",
       "   '__ne__',\n",
       "   '__new__',\n",
       "   '__reduce__',\n",
       "   '__reduce_ex__',\n",
       "   '__repr__',\n",
       "   '__setattr__',\n",
       "   '__sizeof__',\n",
       "   '__str__',\n",
       "   '__subclasshook__',\n",
       "   '__weakref__',\n",
       "   'age',\n",
       "   'name',\n",
       "   'species'],\n",
       "  40: '문근영 sings ss',\n",
       "  41: '문근영 sings ss',\n",
       "  42: '문근영 is now dancing',\n",
       "  43: '문근영 is now dancing',\n",
       "  46: 'sun is now dancing',\n",
       "  47: 'sun is now dancing',\n",
       "  48: '{} is now dancing2',\n",
       "  49: '{} is now dancing2',\n",
       "  50: 'ss',\n",
       "  52: 'ss',\n",
       "  57: ['__class__',\n",
       "   '__delattr__',\n",
       "   '__dict__',\n",
       "   '__dir__',\n",
       "   '__doc__',\n",
       "   '__eq__',\n",
       "   '__format__',\n",
       "   '__ge__',\n",
       "   '__getattribute__',\n",
       "   '__gt__',\n",
       "   '__hash__',\n",
       "   '__init__',\n",
       "   '__init_subclass__',\n",
       "   '__le__',\n",
       "   '__lt__',\n",
       "   '__module__',\n",
       "   '__ne__',\n",
       "   '__new__',\n",
       "   '__reduce__',\n",
       "   '__reduce_ex__',\n",
       "   '__repr__',\n",
       "   '__setattr__',\n",
       "   '__sizeof__',\n",
       "   '__str__',\n",
       "   '__subclasshook__',\n",
       "   '__weakref__',\n",
       "   'run',\n",
       "   'swim',\n",
       "   'whoisThis'],\n",
       "  60: (__main__.Penguin, __main__.Bird, object),\n",
       "  66: {'_Computer__maxprice': 1000, '__maxprice': 1000},\n",
       "  67: ['Bird',\n",
       "   'Computer',\n",
       "   'DataFrame',\n",
       "   'In',\n",
       "   'Out',\n",
       "   'Parrot',\n",
       "   'Penguin',\n",
       "   'Series',\n",
       "   '_',\n",
       "   '_10',\n",
       "   '_11',\n",
       "   '_12',\n",
       "   '_13',\n",
       "   '_14',\n",
       "   '_15',\n",
       "   '_16',\n",
       "   '_17',\n",
       "   '_23',\n",
       "   '_24',\n",
       "   '_26',\n",
       "   '_27',\n",
       "   '_29',\n",
       "   '_33',\n",
       "   '_36',\n",
       "   '_38',\n",
       "   '_4',\n",
       "   '_40',\n",
       "   '_41',\n",
       "   '_42',\n",
       "   '_43',\n",
       "   '_46',\n",
       "   '_47',\n",
       "   '_48',\n",
       "   '_49',\n",
       "   '_5',\n",
       "   '_50',\n",
       "   '_52',\n",
       "   '_57',\n",
       "   '_6',\n",
       "   '_60',\n",
       "   '_66',\n",
       "   '_7',\n",
       "   '_8',\n",
       "   '__',\n",
       "   '___',\n",
       "   '__builtin__',\n",
       "   '__builtins__',\n",
       "   '__doc__',\n",
       "   '__loader__',\n",
       "   '__name__',\n",
       "   '__package__',\n",
       "   '__spec__',\n",
       "   '_dh',\n",
       "   '_i',\n",
       "   '_i1',\n",
       "   '_i10',\n",
       "   '_i11',\n",
       "   '_i12',\n",
       "   '_i13',\n",
       "   '_i14',\n",
       "   '_i15',\n",
       "   '_i16',\n",
       "   '_i17',\n",
       "   '_i18',\n",
       "   '_i19',\n",
       "   '_i2',\n",
       "   '_i20',\n",
       "   '_i21',\n",
       "   '_i22',\n",
       "   '_i23',\n",
       "   '_i24',\n",
       "   '_i25',\n",
       "   '_i26',\n",
       "   '_i27',\n",
       "   '_i28',\n",
       "   '_i29',\n",
       "   '_i3',\n",
       "   '_i30',\n",
       "   '_i31',\n",
       "   '_i32',\n",
       "   '_i33',\n",
       "   '_i34',\n",
       "   '_i35',\n",
       "   '_i36',\n",
       "   '_i37',\n",
       "   '_i38',\n",
       "   '_i39',\n",
       "   '_i4',\n",
       "   '_i40',\n",
       "   '_i41',\n",
       "   '_i42',\n",
       "   '_i43',\n",
       "   '_i44',\n",
       "   '_i45',\n",
       "   '_i46',\n",
       "   '_i47',\n",
       "   '_i48',\n",
       "   '_i49',\n",
       "   '_i5',\n",
       "   '_i50',\n",
       "   '_i51',\n",
       "   '_i52',\n",
       "   '_i53',\n",
       "   '_i54',\n",
       "   '_i55',\n",
       "   '_i56',\n",
       "   '_i57',\n",
       "   '_i58',\n",
       "   '_i59',\n",
       "   '_i6',\n",
       "   '_i60',\n",
       "   '_i61',\n",
       "   '_i62',\n",
       "   '_i63',\n",
       "   '_i64',\n",
       "   '_i65',\n",
       "   '_i66',\n",
       "   '_i67',\n",
       "   '_i7',\n",
       "   '_i8',\n",
       "   '_i9',\n",
       "   '_ih',\n",
       "   '_ii',\n",
       "   '_iii',\n",
       "   '_oh',\n",
       "   'a',\n",
       "   'blu',\n",
       "   'c',\n",
       "   'exit',\n",
       "   'get_ipython',\n",
       "   'np',\n",
       "   'pd',\n",
       "   'peggy',\n",
       "   'plt',\n",
       "   'quit',\n",
       "   'woo',\n",
       "   '문근영'],\n",
       "  68: '# 파이썬에 클래스는 오브젝트일 수 잇다 . <- 파이썬의 모든 클래스는 오브젝트이다 .\\n# 클래스변수 <- static과 비슷하다고 생각하면됨 \\n# 단, 여기서는 공유값(static)이 아니다 .',\n",
       "  69: {...}},\n",
       " 'a': <__main__.Parrot at 0x26b0abdd7f0>,\n",
       " 'blu': <__main__.Parrot at 0x26b0abd0d68>,\n",
       " 'c': <__main__.Computer at 0x26b0abd80b8>,\n",
       " 'exit': <IPython.core.autocall.ZMQExitAutocall at 0x26b080b10b8>,\n",
       " 'get_ipython': <bound method InteractiveShell.get_ipython of <ipykernel.zmqshell.ZMQInteractiveShell object at 0x0000026B0804EBE0>>,\n",
       " 'np': <module 'numpy' from 'C:\\\\ProgramData\\\\Anaconda3\\\\lib\\\\site-packages\\\\numpy\\\\__init__.py'>,\n",
       " 'pd': <module 'pandas' from 'C:\\\\ProgramData\\\\Anaconda3\\\\lib\\\\site-packages\\\\pandas\\\\__init__.py'>,\n",
       " 'peggy': <__main__.Penguin at 0x26b0ab94240>,\n",
       " 'plt': <module 'matplotlib.pyplot' from 'C:\\\\ProgramData\\\\Anaconda3\\\\lib\\\\site-packages\\\\matplotlib\\\\pyplot.py'>,\n",
       " 'quit': <IPython.core.autocall.ZMQExitAutocall at 0x26b080b10b8>,\n",
       " 'woo': <__main__.Parrot at 0x26b0ab94ef0>,\n",
       " '문근영': <__main__.Parrot at 0x26b0abdd668>}"
      ]
     },
     "execution_count": 70,
     "metadata": {},
     "output_type": "execute_result"
    }
   ],
   "source": [
    "globals()"
   ]
  },
  {
   "cell_type": "code",
   "execution_count": 83,
   "metadata": {
    "scrolled": true
   },
   "outputs": [
    {
     "name": "stdout",
     "output_type": "stream",
     "text": [
      "Variable    Type        Data/Info\n",
      "---------------------------------\n",
      "Bird        type        <class '__main__.Bird'>\n",
      "Computer    type        <class '__main__.Computer'>\n",
      "Parrot      type        <class '__main__.Parrot'>\n",
      "Penguin     type        <class '__main__.Penguin'>\n",
      "a           Parrot      <__main__.Parrot object at 0x000001AE5C71A7B8>\n",
      "blu         Parrot      <__main__.Parrot object at 0x000001AE5C6B0240>\n",
      "c           Computer    <__main__.Computer object at 0x000001AE5C6E78D0>\n",
      "peggy       Penguin     <__main__.Penguin object at 0x000001AE5C71A550>\n",
      "run         function    <function run at 0x000001AE5C76A158>\n",
      "whoisThis   function    <function whoisThis at 0x000001AE5C76A268>\n",
      "woo         Parrot      <__main__.Parrot object at 0x000001AE5C545B00>\n",
      "문근영         Parrot      <__main__.Parrot object at 0x000001AE5C740B38>\n"
     ]
    }
   ],
   "source": [
    "%whos"
   ]
  },
  {
   "cell_type": "markdown",
   "metadata": {},
   "source": [
    "# 5. Polymorphism\n",
    "- 폴리모피즘은 상속하는 얘만\n",
    "- 파이썬은 상관 없어 Liskov Substitutiuin principle\n",
    "- 파이썬에서 다형성에서 상속을 안받아도 상관없는것이 특징"
   ]
  },
  {
   "cell_type": "markdown",
   "metadata": {},
   "source": [
    "## Polymorphism"
   ]
  },
  {
   "cell_type": "code",
   "execution_count": 14,
   "metadata": {},
   "outputs": [],
   "source": [
    "class Parrot:\n",
    "\n",
    "    def fly(self): # 상속 안받음\n",
    "        print(\"Parrot can fly\")\n",
    "    \n",
    "    def swim(self):\n",
    "        print(\"Parrot can't swim\")\n",
    "\n",
    "class Penguin:\n",
    "\n",
    "    def fly(self): #상속 안받음 \n",
    "        print(\"Penguin can't fly\")\n",
    "    \n",
    "    def swim(self):\n",
    "        print(\"Penguin can swim\")"
   ]
  },
  {
   "cell_type": "code",
   "execution_count": 72,
   "metadata": {},
   "outputs": [
    {
     "name": "stdout",
     "output_type": "stream",
     "text": [
      "Variable   Type        Data/Info\n",
      "--------------------------------\n",
      "Bird       type        <class '__main__.Bird'>\n",
      "Computer   type        <class '__main__.Computer'>\n",
      "Parrot     type        <class '__main__.Parrot'>\n",
      "Penguin    type        <class '__main__.Penguin'>\n",
      "a          Parrot      <__main__.Parrot object at 0x0000026B0ABDD7F0>\n",
      "blu        Parrot      <__main__.Parrot object at 0x0000026B0ABD0D68>\n",
      "c          Computer    <__main__.Computer object at 0x0000026B0ABD80B8>\n",
      "peggy      Penguin     <__main__.Penguin object at 0x0000026B0AB94240>\n",
      "woo        Parrot      <__main__.Parrot object at 0x0000026B0AB94EF0>\n",
      "문근영        Parrot      <__main__.Parrot object at 0x0000026B0ABDD668>\n"
     ]
    }
   ],
   "source": [
    "%whos"
   ]
  },
  {
   "cell_type": "code",
   "execution_count": 73,
   "metadata": {},
   "outputs": [
    {
     "data": {
      "text/plain": [
       "['__class__',\n",
       " '__delattr__',\n",
       " '__dict__',\n",
       " '__dir__',\n",
       " '__doc__',\n",
       " '__eq__',\n",
       " '__format__',\n",
       " '__ge__',\n",
       " '__getattribute__',\n",
       " '__gt__',\n",
       " '__hash__',\n",
       " '__init__',\n",
       " '__init_subclass__',\n",
       " '__le__',\n",
       " '__lt__',\n",
       " '__module__',\n",
       " '__ne__',\n",
       " '__new__',\n",
       " '__reduce__',\n",
       " '__reduce_ex__',\n",
       " '__repr__',\n",
       " '__setattr__',\n",
       " '__sizeof__',\n",
       " '__str__',\n",
       " '__subclasshook__',\n",
       " '__weakref__',\n",
       " 'age',\n",
       " 'dance',\n",
       " 'name',\n",
       " 'sing']"
      ]
     },
     "execution_count": 73,
     "metadata": {},
     "output_type": "execute_result"
    }
   ],
   "source": [
    "dir(blu)"
   ]
  },
  {
   "cell_type": "code",
   "execution_count": 74,
   "metadata": {},
   "outputs": [
    {
     "data": {
      "text/plain": [
       "['__class__',\n",
       " '__delattr__',\n",
       " '__dict__',\n",
       " '__dir__',\n",
       " '__doc__',\n",
       " '__eq__',\n",
       " '__format__',\n",
       " '__ge__',\n",
       " '__getattribute__',\n",
       " '__gt__',\n",
       " '__hash__',\n",
       " '__init__',\n",
       " '__init_subclass__',\n",
       " '__le__',\n",
       " '__lt__',\n",
       " '__module__',\n",
       " '__ne__',\n",
       " '__new__',\n",
       " '__reduce__',\n",
       " '__reduce_ex__',\n",
       " '__repr__',\n",
       " '__setattr__',\n",
       " '__sizeof__',\n",
       " '__str__',\n",
       " '__subclasshook__',\n",
       " '__weakref__',\n",
       " 'run',\n",
       " 'swim',\n",
       " 'whoisThis']"
      ]
     },
     "execution_count": 74,
     "metadata": {},
     "output_type": "execute_result"
    }
   ],
   "source": [
    "dir(peggy)"
   ]
  },
  {
   "cell_type": "markdown",
   "metadata": {},
   "source": [
    "# duck-typing (덕 타이핑)\n",
    "올바른 인터페이스를 가졌는지 판단하는데 객체의 형을 보지 않는 프로그래밍 스타일; 대신, 단순히 메서드나 어트리뷰트가 호출되거나 사용됩니다 (\"오리처럼 보이고 오리처럼 꽥꽥댄다면, 그것은 오리다.\") 특정한 형 대신에 인터페이스를 강조함으로써, 잘 설계된 코드는 다형적인 치환을 허락함으로써 유연성을 개선할 수 있습니다. 덕 타이핑은 type() 이나 isinstance() 을 사용한 검사를 피합니다. (하지만, 덕 타이핑이 추상 베이스 클래스 로 보완될 수 있음에 유의해야 합니다.) 대신에, hasattr() 검사나 EAFP 프로그래밍을 씁니다."
   ]
  },
  {
   "cell_type": "code",
   "execution_count": 15,
   "metadata": {},
   "outputs": [
    {
     "name": "stdout",
     "output_type": "stream",
     "text": [
      "Parrot can fly\n",
      "Penguin can't fly\n"
     ]
    },
    {
     "ename": "AttributeError",
     "evalue": "'int' object has no attribute 'fly'",
     "output_type": "error",
     "traceback": [
      "\u001b[1;31m---------------------------------------------------------------------------\u001b[0m",
      "\u001b[1;31mAttributeError\u001b[0m                            Traceback (most recent call last)",
      "\u001b[1;32m<ipython-input-15-57bcf67d0fd9>\u001b[0m in \u001b[0;36m<module>\u001b[1;34m()\u001b[0m\n\u001b[0;32m     11\u001b[0m \u001b[0mflying_test\u001b[0m\u001b[1;33m(\u001b[0m\u001b[0mblu\u001b[0m\u001b[1;33m)\u001b[0m\u001b[1;33m\u001b[0m\u001b[0m\n\u001b[0;32m     12\u001b[0m \u001b[0mflying_test\u001b[0m\u001b[1;33m(\u001b[0m\u001b[0mpeggy\u001b[0m\u001b[1;33m)\u001b[0m\u001b[1;33m\u001b[0m\u001b[0m\n\u001b[1;32m---> 13\u001b[1;33m \u001b[0mflying_test\u001b[0m\u001b[1;33m(\u001b[0m\u001b[1;36m1\u001b[0m\u001b[1;33m)\u001b[0m\u001b[1;33m\u001b[0m\u001b[0m\n\u001b[0m",
      "\u001b[1;32m<ipython-input-15-57bcf67d0fd9>\u001b[0m in \u001b[0;36mflying_test\u001b[1;34m(bird)\u001b[0m\n\u001b[0;32m      2\u001b[0m \u001b[1;32mdef\u001b[0m \u001b[0mflying_test\u001b[0m\u001b[1;33m(\u001b[0m\u001b[0mbird\u001b[0m\u001b[1;33m)\u001b[0m\u001b[1;33m:\u001b[0m \u001b[1;31m# bird 상속 안받았지만, duck typing! 제공 <- 인스턴스가 온다 ,\u001b[0m\u001b[1;33m\u001b[0m\u001b[0m\n\u001b[0;32m      3\u001b[0m                        \u001b[1;31m# self, 다른 언어에서는 전혀 안됨 (duck typing 지원하는거 이외)\u001b[0m\u001b[1;33m\u001b[0m\u001b[1;33m\u001b[0m\u001b[0m\n\u001b[1;32m----> 4\u001b[1;33m     \u001b[0mbird\u001b[0m\u001b[1;33m.\u001b[0m\u001b[0mfly\u001b[0m\u001b[1;33m(\u001b[0m\u001b[1;33m)\u001b[0m \u001b[1;31m# duck typing\u001b[0m\u001b[1;33m\u001b[0m\u001b[0m\n\u001b[0m\u001b[0;32m      5\u001b[0m \u001b[1;33m\u001b[0m\u001b[0m\n\u001b[0;32m      6\u001b[0m \u001b[1;31m#instantiate objects\u001b[0m\u001b[1;33m\u001b[0m\u001b[1;33m\u001b[0m\u001b[0m\n",
      "\u001b[1;31mAttributeError\u001b[0m: 'int' object has no attribute 'fly'"
     ]
    }
   ],
   "source": [
    "# common interface\n",
    "def flying_test(bird): # bird 상속 안받았지만, duck typing! 제공 <- 인스턴스가 온다 , \n",
    "                       # self, 다른 언어에서는 전혀 안됨 (duck typing 지원하는거 이외)\n",
    "    bird.fly() # duck typing \n",
    "\n",
    "#instantiate objects\n",
    "blu = Parrot()\n",
    "peggy = Penguin()\n",
    "\n",
    "# passing the object\n",
    "flying_test(blu)\n",
    "flying_test(peggy)\n",
    "flying_test(1)"
   ]
  },
  {
   "cell_type": "code",
   "execution_count": 76,
   "metadata": {},
   "outputs": [],
   "source": [
    "# tuple dms comprehein 안됨\n",
    "a = ( x for x in range(11))"
   ]
  },
  {
   "cell_type": "code",
   "execution_count": 77,
   "metadata": {},
   "outputs": [
    {
     "data": {
      "text/plain": [
       "<generator object <genexpr> at 0x0000026B0AB93AF0>"
      ]
     },
     "execution_count": 77,
     "metadata": {},
     "output_type": "execute_result"
    }
   ],
   "source": [
    "a"
   ]
  },
  {
   "cell_type": "code",
   "execution_count": 78,
   "metadata": {},
   "outputs": [
    {
     "data": {
      "text/plain": [
       "0"
      ]
     },
     "execution_count": 78,
     "metadata": {},
     "output_type": "execute_result"
    }
   ],
   "source": [
    "next(a)"
   ]
  },
  {
   "cell_type": "code",
   "execution_count": 79,
   "metadata": {},
   "outputs": [
    {
     "data": {
      "text/plain": [
       "1"
      ]
     },
     "execution_count": 79,
     "metadata": {},
     "output_type": "execute_result"
    }
   ],
   "source": [
    "next(a) # 인자가 똑같은디 리턴이 다름 next -> 제너레이터 \n",
    "# 어느 순간 에러 한꺼번에 모든걸 안보여주고 한번 실핼 할 때마다 한번만 \n",
    "# 제너레이터 발생시킬 때 필요한시점마다 하나씩 올려 (메모리 한꺼번에 올리지 않기 때문에 효율적 ) -> 큰 수를 할 때 제너레이터 좋아 \n",
    "# lazy 기법 \n"
   ]
  },
  {
   "cell_type": "code",
   "execution_count": 80,
   "metadata": {},
   "outputs": [
    {
     "data": {
      "text/plain": [
       "2"
      ]
     },
     "execution_count": 80,
     "metadata": {},
     "output_type": "execute_result"
    }
   ],
   "source": [
    "a.__next__() #전자와 같다  -> iterable for문 "
   ]
  },
  {
   "cell_type": "code",
   "execution_count": 1,
   "metadata": {},
   "outputs": [],
   "source": [
    "class Polygon:\n",
    "    # n -> instance\n",
    "    # sides -> instance\n",
    "    # 이름이 같으면 뒤에꺼 덮을 수 있잖아 클래스 안에서 살기 때문에 같은거 \n",
    "    \n",
    "    # class -> 다 똑같이 \n",
    "    # instance -> 개별적 소유 \n",
    "    \n",
    "    def __init__(self, no_of_sides):\n",
    "        self.n = no_of_sides\n",
    "        self.sides = [0 for i in range(no_of_sides)] #컴프리 헨션 <- 함수형 기법\n",
    "\n",
    "    def inputSides(self):\n",
    "        self.sides = [float(input(\"Enter side \"+str(i+1)+\" : \")) for i in range(self.n)] # <- type coversion 문자열 + 숫자는 nope!!!\n",
    "\n",
    "    def dispSides(self):\n",
    "        for i in range(self.n):    # 그럼 i는 attr?\n",
    "                                    # i <-  local\n",
    "            print(\"Side\",i+1,\"is\",self.sides[i])"
   ]
  },
  {
   "cell_type": "code",
   "execution_count": 2,
   "metadata": {},
   "outputs": [],
   "source": [
    "pp = Polygon(1) # <- 2가지 방식 생성 self\n",
    "\n",
    "zz = Polygon(5)"
   ]
  },
  {
   "cell_type": "code",
   "execution_count": 11,
   "metadata": {},
   "outputs": [
    {
     "name": "stdout",
     "output_type": "stream",
     "text": [
      "Enter side 1 : 5\n",
      "Enter side 2 : 6\n",
      "Enter side 3 : 7\n",
      "Enter side 4 : 2.5\n",
      "Enter side 5 : 2\n"
     ]
    }
   ],
   "source": [
    "zz.inputSides() # <- instance 메소드는 instance된것만 가능 "
   ]
  },
  {
   "cell_type": "code",
   "execution_count": 7,
   "metadata": {},
   "outputs": [
    {
     "data": {
      "text/plain": [
       "['__class__',\n",
       " '__delattr__',\n",
       " '__dict__',\n",
       " '__dir__',\n",
       " '__doc__',\n",
       " '__eq__',\n",
       " '__format__',\n",
       " '__ge__',\n",
       " '__getattribute__',\n",
       " '__gt__',\n",
       " '__hash__',\n",
       " '__init__',\n",
       " '__init_subclass__',\n",
       " '__le__',\n",
       " '__lt__',\n",
       " '__module__',\n",
       " '__ne__',\n",
       " '__new__',\n",
       " '__reduce__',\n",
       " '__reduce_ex__',\n",
       " '__repr__',\n",
       " '__setattr__',\n",
       " '__sizeof__',\n",
       " '__str__',\n",
       " '__subclasshook__',\n",
       " '__weakref__',\n",
       " 'dispSides',\n",
       " 'inputSides',\n",
       " 'n',\n",
       " 'sides']"
      ]
     },
     "execution_count": 7,
     "metadata": {},
     "output_type": "execute_result"
    }
   ],
   "source": [
    "dir(pp)"
   ]
  },
  {
   "cell_type": "code",
   "execution_count": 12,
   "metadata": {},
   "outputs": [
    {
     "data": {
      "text/plain": [
       "{'n': 5, 'sides': [5.0, 6.0, 7.0, 2.5, 2.0]}"
      ]
     },
     "execution_count": 12,
     "metadata": {},
     "output_type": "execute_result"
    }
   ],
   "source": [
    "vars(zz)"
   ]
  },
  {
   "cell_type": "code",
   "execution_count": 86,
   "metadata": {},
   "outputs": [],
   "source": [
    "## dir(pp) # i가 없다  # class of instance scope 참고 "
   ]
  },
  {
   "cell_type": "code",
   "execution_count": 87,
   "metadata": {},
   "outputs": [
    {
     "ename": "AttributeError",
     "evalue": "'Polygon' object has no attribute 'i'",
     "output_type": "error",
     "traceback": [
      "\u001b[1;31m---------------------------------------------------------------------------\u001b[0m",
      "\u001b[1;31mAttributeError\u001b[0m                            Traceback (most recent call last)",
      "\u001b[1;32m<ipython-input-87-49dd48504810>\u001b[0m in \u001b[0;36m<module>\u001b[1;34m()\u001b[0m\n\u001b[1;32m----> 1\u001b[1;33m \u001b[0mpp\u001b[0m\u001b[1;33m.\u001b[0m\u001b[0mi\u001b[0m\u001b[1;33m\u001b[0m\u001b[0m\n\u001b[0m",
      "\u001b[1;31mAttributeError\u001b[0m: 'Polygon' object has no attribute 'i'"
     ]
    }
   ],
   "source": [
    "pp.i"
   ]
  },
  {
   "cell_type": "code",
   "execution_count": 88,
   "metadata": {},
   "outputs": [
    {
     "data": {
      "text/plain": [
       "[11.0]"
      ]
     },
     "execution_count": 88,
     "metadata": {},
     "output_type": "execute_result"
    }
   ],
   "source": [
    "pp.sides #float 형식"
   ]
  },
  {
   "cell_type": "code",
   "execution_count": 89,
   "metadata": {},
   "outputs": [
    {
     "name": "stdout",
     "output_type": "stream",
     "text": [
      "Side 1 is 11.0\n"
     ]
    }
   ],
   "source": [
    "pp.dispSides()"
   ]
  },
  {
   "cell_type": "code",
   "execution_count": 90,
   "metadata": {},
   "outputs": [],
   "source": [
    "class Triangle(Polygon): # 가로 안에 존재 상속!!! 바꾸거나 추가 (삭제는 안됨)<- 삭제; 오버라이딩으로 무력화 시킬 수 있지만 없애는건 불가능 \n",
    "    def __init__(self):\n",
    "        Polygon.__init__(self,3) \n",
    "                               # super().__init__(3) , 가능함 예외로 생각하자 \n",
    "                               # 다중상속 가능하기 때문에 누구인지 찝어낸다 \n",
    "                               # init는 인스턴스 메소드, 왜 클래스 뒤에써(class.__inint__)? 그냥 예외임\n",
    "                               # super로 생각하여 예외로 생각하자 \n",
    "                               # 인자는 경우에 따라 다르다. self는 자기자신으로 나오기때문에 안넣는다라고 생각하자 \n",
    "                             \n",
    "    def findArea(self):\n",
    "        a, b, c = self.sides\n",
    "        # calculate the semi-perimeter\n",
    "        s = (a + b + c) / 2\n",
    "        area = (s*(s-a)*(s-b)*(s-c)) ** 0.5\n",
    "        print('The area of the triangle is %0.2f' %area)"
   ]
  },
  {
   "cell_type": "code",
   "execution_count": 91,
   "metadata": {},
   "outputs": [
    {
     "name": "stdout",
     "output_type": "stream",
     "text": [
      "True\n",
      "True\n",
      "True\n",
      "True\n"
     ]
    }
   ],
   "source": [
    "# Output: True\n",
    "print(issubclass(list,object)) # is ~~;  predicate; 참과 거짓을 반환하는 것 \n",
    "\n",
    "# Output: True\n",
    "print(isinstance(5.5,object)) # 클래스에서 만든거,  __init __\n",
    "print(issubclass(float,object))\n",
    "\n",
    "# Output: True\n",
    "print(isinstance(\"Hello\",object))"
   ]
  },
  {
   "cell_type": "code",
   "execution_count": 92,
   "metadata": {},
   "outputs": [
    {
     "data": {
      "text/plain": [
       "True"
      ]
     },
     "execution_count": 92,
     "metadata": {},
     "output_type": "execute_result"
    }
   ],
   "source": [
    "issubclass(bool,int)"
   ]
  },
  {
   "cell_type": "code",
   "execution_count": 93,
   "metadata": {},
   "outputs": [
    {
     "name": "stdout",
     "output_type": "stream",
     "text": [
      "[<class '__main__.M'>, <class '__main__.B'>, <class '__main__.A'>, <class '__main__.X'>, <class '__main__.Y'>, <class '__main__.Z'>, <class 'object'>]\n"
     ]
    }
   ],
   "source": [
    "class X: pass\n",
    "class Y: pass\n",
    "class Z: pass\n",
    "\n",
    "class A(X,Y): pass # X Y 상속 우선권은 X\n",
    "class B(Y,Z): pass # z가 b도 상속 받았기 땜에 우선순위가 뒤로 간다. # 다중상속 쓰지않는게 권장\n",
    "\n",
    "class M(B,A,Z): pass\n",
    "\n",
    "# Output:\n",
    "# [<class '__main__.M'>, <class '__main__.B'>,\n",
    "# <class '__main__.A'>, <class '__main__.X'>,\n",
    "# <class '__main__.Y'>, <class '__main__.Z'>,\n",
    "# <class 'object'>]\n",
    "\n",
    "print(M.mro()) # 다중상속의 순서를 반환 mre regulation"
   ]
  },
  {
   "cell_type": "code",
   "execution_count": 94,
   "metadata": {},
   "outputs": [],
   "source": [
    "# m1 = M() # <- 인스턴스 \n",
    "# M # <- 클래스 "
   ]
  },
  {
   "cell_type": "markdown",
   "metadata": {},
   "source": [
    "# str, rpepr"
   ]
  },
  {
   "cell_type": "code",
   "execution_count": 95,
   "metadata": {},
   "outputs": [],
   "source": [
    "class B:\n",
    "    #오버라이딩\n",
    "    def __str__(self): # print할 때\n",
    "        return 'aaa'\n",
    "    \n",
    "    def __repr__(self): # 변수 ipython에서 보여줌 \n",
    "        return 'bbb'\n",
    "    "
   ]
  },
  {
   "cell_type": "code",
   "execution_count": 96,
   "metadata": {},
   "outputs": [],
   "source": [
    "abc = B() # instance 화 "
   ]
  },
  {
   "cell_type": "code",
   "execution_count": 97,
   "metadata": {},
   "outputs": [
    {
     "data": {
      "text/plain": [
       "bbb"
      ]
     },
     "execution_count": 97,
     "metadata": {},
     "output_type": "execute_result"
    }
   ],
   "source": [
    "abc"
   ]
  },
  {
   "cell_type": "code",
   "execution_count": 98,
   "metadata": {},
   "outputs": [
    {
     "name": "stdout",
     "output_type": "stream",
     "text": [
      "aaa\n"
     ]
    }
   ],
   "source": [
    "print(abc)"
   ]
  },
  {
   "cell_type": "code",
   "execution_count": 99,
   "metadata": {},
   "outputs": [],
   "source": [
    "#str과 repr과 똑같은기 많다 "
   ]
  },
  {
   "cell_type": "code",
   "execution_count": 100,
   "metadata": {},
   "outputs": [
    {
     "data": {
      "text/plain": [
       "['__abs__',\n",
       " '__add__',\n",
       " '__and__',\n",
       " '__bool__',\n",
       " '__ceil__',\n",
       " '__class__',\n",
       " '__delattr__',\n",
       " '__dir__',\n",
       " '__divmod__',\n",
       " '__doc__',\n",
       " '__eq__',\n",
       " '__float__',\n",
       " '__floor__',\n",
       " '__floordiv__',\n",
       " '__format__',\n",
       " '__ge__',\n",
       " '__getattribute__',\n",
       " '__getnewargs__',\n",
       " '__gt__',\n",
       " '__hash__',\n",
       " '__index__',\n",
       " '__init__',\n",
       " '__init_subclass__',\n",
       " '__int__',\n",
       " '__invert__',\n",
       " '__le__',\n",
       " '__lshift__',\n",
       " '__lt__',\n",
       " '__mod__',\n",
       " '__mul__',\n",
       " '__ne__',\n",
       " '__neg__',\n",
       " '__new__',\n",
       " '__or__',\n",
       " '__pos__',\n",
       " '__pow__',\n",
       " '__radd__',\n",
       " '__rand__',\n",
       " '__rdivmod__',\n",
       " '__reduce__',\n",
       " '__reduce_ex__',\n",
       " '__repr__',\n",
       " '__rfloordiv__',\n",
       " '__rlshift__',\n",
       " '__rmod__',\n",
       " '__rmul__',\n",
       " '__ror__',\n",
       " '__round__',\n",
       " '__rpow__',\n",
       " '__rrshift__',\n",
       " '__rshift__',\n",
       " '__rsub__',\n",
       " '__rtruediv__',\n",
       " '__rxor__',\n",
       " '__setattr__',\n",
       " '__sizeof__',\n",
       " '__str__',\n",
       " '__sub__',\n",
       " '__subclasshook__',\n",
       " '__truediv__',\n",
       " '__trunc__',\n",
       " '__xor__',\n",
       " 'bit_length',\n",
       " 'conjugate',\n",
       " 'denominator',\n",
       " 'from_bytes',\n",
       " 'imag',\n",
       " 'numerator',\n",
       " 'real',\n",
       " 'to_bytes']"
      ]
     },
     "execution_count": 100,
     "metadata": {},
     "output_type": "execute_result"
    }
   ],
   "source": [
    "dir(int(30)) # add도 내맘대로 바꿀 수 있어 "
   ]
  },
  {
   "cell_type": "markdown",
   "metadata": {},
   "source": [
    "# 오버로딩 "
   ]
  },
  {
   "cell_type": "code",
   "execution_count": 101,
   "metadata": {},
   "outputs": [],
   "source": [
    "a = int()"
   ]
  },
  {
   "cell_type": "code",
   "execution_count": 102,
   "metadata": {},
   "outputs": [],
   "source": [
    "class MyINT(int):\n",
    "    def __add__(self, other):\n",
    "#         super().__add__(self) # <- 왜 self넣으면 에러? \n",
    "#         super().__add__(self,other)\n",
    "        super().__add__(other)"
   ]
  },
  {
   "cell_type": "code",
   "execution_count": 103,
   "metadata": {},
   "outputs": [],
   "source": [
    "a = MyINT(3)"
   ]
  },
  {
   "cell_type": "code",
   "execution_count": 104,
   "metadata": {},
   "outputs": [],
   "source": [
    "b = MyINT(4)"
   ]
  },
  {
   "cell_type": "code",
   "execution_count": 105,
   "metadata": {},
   "outputs": [],
   "source": [
    "a+b # repr 선언된거 나와야 하는디 ... "
   ]
  },
  {
   "cell_type": "code",
   "execution_count": 106,
   "metadata": {},
   "outputs": [
    {
     "name": "stdout",
     "output_type": "stream",
     "text": [
      "None\n"
     ]
    }
   ],
   "source": [
    "print(a+b) # -> str 선언이 안되어 있음 "
   ]
  },
  {
   "cell_type": "code",
   "execution_count": 107,
   "metadata": {},
   "outputs": [
    {
     "ename": "AttributeError",
     "evalue": "'MyINT' object has no attribute 'add'",
     "output_type": "error",
     "traceback": [
      "\u001b[1;31m---------------------------------------------------------------------------\u001b[0m",
      "\u001b[1;31mAttributeError\u001b[0m                            Traceback (most recent call last)",
      "\u001b[1;32m<ipython-input-107-73f363cda532>\u001b[0m in \u001b[0;36m<module>\u001b[1;34m()\u001b[0m\n\u001b[1;32m----> 1\u001b[1;33m \u001b[0ma\u001b[0m\u001b[1;33m.\u001b[0m\u001b[0madd\u001b[0m\u001b[1;33m(\u001b[0m\u001b[0mb\u001b[0m\u001b[1;33m)\u001b[0m\u001b[1;33m\u001b[0m\u001b[0m\n\u001b[0m",
      "\u001b[1;31mAttributeError\u001b[0m: 'MyINT' object has no attribute 'add'"
     ]
    }
   ],
   "source": [
    "a.add(b)"
   ]
  },
  {
   "cell_type": "code",
   "execution_count": 108,
   "metadata": {},
   "outputs": [],
   "source": [
    "# 연산자는 오버로딩"
   ]
  },
  {
   "cell_type": "code",
   "execution_count": 72,
   "metadata": {},
   "outputs": [],
   "source": [
    "class MyINT(int):\n",
    "    def __init__(self,num):\n",
    "        self.num =num\n",
    "    def __add__(self, other):\n",
    "#         super().__add__(other) # <- 왜 self넣으면 에러?  # self는 객체지 객체 값은 아니다, \n",
    "        print('add')\n",
    "        return self.num+other+3 # 연산자 오버로딩 아닌건, 오버 라이딩 <- 객체지향이기 때문에 바꿀 수 있다 . \n",
    "    \n",
    "    def __str__(self, other):\n",
    "#         print('')#<- 숫자 찍어야 하는데 문자로 찍고 있음\n",
    "#         return 'str' # x\n",
    "        print('aaa')\n",
    "        return str(self.other)\n",
    "        \n",
    "    def __repr__(self):\n",
    "        \n",
    "        print('안알려줌')\n",
    "        "
   ]
  },
  {
   "cell_type": "code",
   "execution_count": 73,
   "metadata": {},
   "outputs": [],
   "source": [
    "a = MyINT(3)"
   ]
  },
  {
   "cell_type": "code",
   "execution_count": 74,
   "metadata": {},
   "outputs": [],
   "source": [
    "b = MyINT(4)"
   ]
  },
  {
   "cell_type": "code",
   "execution_count": 75,
   "metadata": {},
   "outputs": [
    {
     "name": "stdout",
     "output_type": "stream",
     "text": [
      "add\n"
     ]
    },
    {
     "data": {
      "text/plain": [
       "10"
      ]
     },
     "execution_count": 75,
     "metadata": {},
     "output_type": "execute_result"
    }
   ],
   "source": [
    "a+b #repr과 str은 int를 보는것 "
   ]
  },
  {
   "cell_type": "code",
   "execution_count": 76,
   "metadata": {
    "scrolled": false
   },
   "outputs": [
    {
     "name": "stdout",
     "output_type": "stream",
     "text": [
      "add\n"
     ]
    },
    {
     "data": {
      "text/plain": [
       "int"
      ]
     },
     "execution_count": 76,
     "metadata": {},
     "output_type": "execute_result"
    }
   ],
   "source": [
    "type(a+b)"
   ]
  },
  {
   "cell_type": "code",
   "execution_count": 77,
   "metadata": {},
   "outputs": [
    {
     "name": "stdout",
     "output_type": "stream",
     "text": [
      "add\n",
      "10\n"
     ]
    }
   ],
   "source": [
    "print(a+b)"
   ]
  },
  {
   "cell_type": "code",
   "execution_count": 81,
   "metadata": {},
   "outputs": [
    {
     "name": "stdout",
     "output_type": "stream",
     "text": [
      "add\n"
     ]
    }
   ],
   "source": [
    "c = a+b"
   ]
  },
  {
   "cell_type": "code",
   "execution_count": 82,
   "metadata": {},
   "outputs": [
    {
     "data": {
      "text/plain": [
       "int"
      ]
     },
     "execution_count": 82,
     "metadata": {},
     "output_type": "execute_result"
    }
   ],
   "source": [
    "type(c)"
   ]
  },
  {
   "cell_type": "code",
   "execution_count": 83,
   "metadata": {},
   "outputs": [
    {
     "name": "stdout",
     "output_type": "stream",
     "text": [
      "10\n"
     ]
    }
   ],
   "source": [
    "print(c)"
   ]
  },
  {
   "cell_type": "code",
   "execution_count": 17,
   "metadata": {},
   "outputs": [
    {
     "name": "stdout",
     "output_type": "stream",
     "text": [
      "add\n",
      "10\n"
     ]
    }
   ],
   "source": [
    "print(a+b)"
   ]
  },
  {
   "cell_type": "code",
   "execution_count": 85,
   "metadata": {},
   "outputs": [
    {
     "name": "stdout",
     "output_type": "stream",
     "text": [
      "add\n"
     ]
    },
    {
     "data": {
      "text/plain": [
       "'10'"
      ]
     },
     "execution_count": 85,
     "metadata": {},
     "output_type": "execute_result"
    }
   ],
   "source": [
    "(a+b).__str__() # 오버라이딩 안됨 "
   ]
  },
  {
   "cell_type": "code",
   "execution_count": 86,
   "metadata": {},
   "outputs": [
    {
     "name": "stdout",
     "output_type": "stream",
     "text": [
      "aaa\n"
     ]
    },
    {
     "ename": "AttributeError",
     "evalue": "'MyINT' object has no attribute 'other'",
     "output_type": "error",
     "traceback": [
      "\u001b[1;31m---------------------------------------------------------------------------\u001b[0m",
      "\u001b[1;31mAttributeError\u001b[0m                            Traceback (most recent call last)",
      "\u001b[1;32m<ipython-input-86-20a39d05ea81>\u001b[0m in \u001b[0;36m<module>\u001b[1;34m()\u001b[0m\n\u001b[1;32m----> 1\u001b[1;33m \u001b[0ma\u001b[0m\u001b[1;33m.\u001b[0m\u001b[0m__str__\u001b[0m\u001b[1;33m(\u001b[0m\u001b[0mb\u001b[0m\u001b[1;33m)\u001b[0m\u001b[1;33m\u001b[0m\u001b[0m\n\u001b[0m",
      "\u001b[1;32m<ipython-input-72-aca54ab5bfad>\u001b[0m in \u001b[0;36m__str__\u001b[1;34m(self, other)\u001b[0m\n\u001b[0;32m     11\u001b[0m \u001b[1;31m#         return 'str' # x\u001b[0m\u001b[1;33m\u001b[0m\u001b[1;33m\u001b[0m\u001b[0m\n\u001b[0;32m     12\u001b[0m         \u001b[0mprint\u001b[0m\u001b[1;33m(\u001b[0m\u001b[1;34m'aaa'\u001b[0m\u001b[1;33m)\u001b[0m\u001b[1;33m\u001b[0m\u001b[0m\n\u001b[1;32m---> 13\u001b[1;33m         \u001b[1;32mreturn\u001b[0m \u001b[0mstr\u001b[0m\u001b[1;33m(\u001b[0m\u001b[0mself\u001b[0m\u001b[1;33m.\u001b[0m\u001b[0mother\u001b[0m\u001b[1;33m)\u001b[0m\u001b[1;33m\u001b[0m\u001b[0m\n\u001b[0m\u001b[0;32m     14\u001b[0m \u001b[1;33m\u001b[0m\u001b[0m\n\u001b[0;32m     15\u001b[0m     \u001b[1;32mdef\u001b[0m \u001b[0m__repr__\u001b[0m\u001b[1;33m(\u001b[0m\u001b[0mself\u001b[0m\u001b[1;33m)\u001b[0m\u001b[1;33m:\u001b[0m\u001b[1;33m\u001b[0m\u001b[0m\n",
      "\u001b[1;31mAttributeError\u001b[0m: 'MyINT' object has no attribute 'other'"
     ]
    }
   ],
   "source": [
    "a.__str__(b)"
   ]
  },
  {
   "cell_type": "code",
   "execution_count": 78,
   "metadata": {},
   "outputs": [
    {
     "data": {
      "text/plain": [
       "'3'"
      ]
     },
     "execution_count": 78,
     "metadata": {},
     "output_type": "execute_result"
    }
   ],
   "source": [
    "3 .__str__() # -> 자료 형태 int에 잇는 str은 str로 형변환 #<- 이기능을 구현해야해 "
   ]
  },
  {
   "cell_type": "code",
   "execution_count": 19,
   "metadata": {
    "scrolled": false
   },
   "outputs": [
    {
     "data": {
      "text/plain": [
       "['__call__',\n",
       " '__class__',\n",
       " '__delattr__',\n",
       " '__dir__',\n",
       " '__doc__',\n",
       " '__eq__',\n",
       " '__format__',\n",
       " '__ge__',\n",
       " '__get__',\n",
       " '__getattribute__',\n",
       " '__gt__',\n",
       " '__hash__',\n",
       " '__init__',\n",
       " '__init_subclass__',\n",
       " '__le__',\n",
       " '__lt__',\n",
       " '__name__',\n",
       " '__ne__',\n",
       " '__new__',\n",
       " '__objclass__',\n",
       " '__qualname__',\n",
       " '__reduce__',\n",
       " '__reduce_ex__',\n",
       " '__repr__',\n",
       " '__setattr__',\n",
       " '__sizeof__',\n",
       " '__str__',\n",
       " '__subclasshook__',\n",
       " '__text_signature__']"
      ]
     },
     "execution_count": 19,
     "metadata": {},
     "output_type": "execute_result"
    }
   ],
   "source": [
    "dir(int.__add__) # add 도 상속되어 있어 오버라이딩 해야함"
   ]
  },
  {
   "cell_type": "code",
   "execution_count": 103,
   "metadata": {},
   "outputs": [],
   "source": [
    "class MyINT(int):\n",
    "    def __init__(self,num):\n",
    "        self.num =num\n",
    "    def __add__(self, other):\n",
    "#         super().__add__(other) # <- 왜 self넣으면 에러?  # self는 객체지 객체 값은 아니다, \n",
    "        print('add')\n",
    "        return MyINT(self.num+other+3) # 연산자 오버로딩 아닌건, 오버 라이딩 <- 객체지향이기 때문에 바꿀 수 있다 . \n",
    "    \n",
    "    def __str__(self):\n",
    "#         print('')#<- 숫자 찍어야 하는데 문자로 찍고 있음\n",
    "#         return 'str' # x\n",
    "        print('aaa')\n",
    "        return str(self.num)\n",
    "        \n",
    "    def __repr__(self):\n",
    "        \n",
    "        print('안알려줌')\n",
    "        return str(self.num)"
   ]
  },
  {
   "cell_type": "code",
   "execution_count": 104,
   "metadata": {},
   "outputs": [],
   "source": [
    "a = MyINT(3)"
   ]
  },
  {
   "cell_type": "code",
   "execution_count": 105,
   "metadata": {},
   "outputs": [],
   "source": [
    "b = MyINT(3)"
   ]
  },
  {
   "cell_type": "code",
   "execution_count": 106,
   "metadata": {},
   "outputs": [
    {
     "name": "stdout",
     "output_type": "stream",
     "text": [
      "add\n"
     ]
    }
   ],
   "source": [
    "c = a+b"
   ]
  },
  {
   "cell_type": "code",
   "execution_count": 107,
   "metadata": {},
   "outputs": [
    {
     "name": "stdout",
     "output_type": "stream",
     "text": [
      "안알려줌\n"
     ]
    },
    {
     "data": {
      "text/plain": [
       "9"
      ]
     },
     "execution_count": 107,
     "metadata": {},
     "output_type": "execute_result"
    }
   ],
   "source": [
    "c"
   ]
  },
  {
   "cell_type": "code",
   "execution_count": 108,
   "metadata": {},
   "outputs": [
    {
     "name": "stdout",
     "output_type": "stream",
     "text": [
      "add\n",
      "안알려줌\n"
     ]
    },
    {
     "data": {
      "text/plain": [
       "9"
      ]
     },
     "execution_count": 108,
     "metadata": {},
     "output_type": "execute_result"
    }
   ],
   "source": [
    "a+b"
   ]
  },
  {
   "cell_type": "code",
   "execution_count": 110,
   "metadata": {
    "scrolled": true
   },
   "outputs": [
    {
     "data": {
      "text/plain": [
       "__main__.MyINT"
      ]
     },
     "execution_count": 110,
     "metadata": {},
     "output_type": "execute_result"
    }
   ],
   "source": [
    "type(c)"
   ]
  },
  {
   "cell_type": "code",
   "execution_count": 41,
   "metadata": {},
   "outputs": [],
   "source": [
    "class MyINT(int):\n",
    "    def __init__(self, num):\n",
    "        self.num = num\n",
    "    def __add__(self,other):\n",
    "        return self.num+other+3\n",
    "    def __str__(self, *args, **kwargs): # 오버라이딩은 인자 모양이 같아야한다 (맞춰줘야함 )\n",
    "        print('aaa')\n",
    "    def __radd__(self, other):\n",
    "         return self.num + other +1 # 연산이 객체냐 아니냐 따라 다르다 "
   ]
  },
  {
   "cell_type": "code",
   "execution_count": 42,
   "metadata": {},
   "outputs": [],
   "source": [
    "a = MyINT(3)"
   ]
  },
  {
   "cell_type": "code",
   "execution_count": 43,
   "metadata": {},
   "outputs": [],
   "source": [
    "b = MyINT(3)"
   ]
  },
  {
   "cell_type": "code",
   "execution_count": 44,
   "metadata": {},
   "outputs": [
    {
     "data": {
      "text/plain": [
       "3"
      ]
     },
     "execution_count": 44,
     "metadata": {},
     "output_type": "execute_result"
    }
   ],
   "source": [
    "a"
   ]
  },
  {
   "cell_type": "code",
   "execution_count": 45,
   "metadata": {},
   "outputs": [
    {
     "data": {
      "text/plain": [
       "3"
      ]
     },
     "execution_count": 45,
     "metadata": {},
     "output_type": "execute_result"
    }
   ],
   "source": [
    "b"
   ]
  },
  {
   "cell_type": "code",
   "execution_count": 48,
   "metadata": {},
   "outputs": [
    {
     "data": {
      "text/plain": [
       "3"
      ]
     },
     "execution_count": 48,
     "metadata": {},
     "output_type": "execute_result"
    }
   ],
   "source": [
    "a.num"
   ]
  },
  {
   "cell_type": "code",
   "execution_count": 39,
   "metadata": {},
   "outputs": [],
   "source": [
    "import dis"
   ]
  },
  {
   "cell_type": "code",
   "execution_count": 40,
   "metadata": {},
   "outputs": [
    {
     "name": "stdout",
     "output_type": "stream",
     "text": [
      "7\n",
      " 40           0 LOAD_FAST                0 (x)\n",
      "              2 LOAD_CONST               1 (None)\n",
      "              4 COMPARE_OP               8 (is)\n",
      "              6 POP_JUMP_IF_FALSE       22\n",
      "\n",
      " 41           8 LOAD_GLOBAL              0 (distb)\n",
      "             10 LOAD_FAST                1 (file)\n",
      "             12 LOAD_CONST               2 (('file',))\n",
      "             14 CALL_FUNCTION_KW         1\n",
      "             16 POP_TOP\n",
      "\n",
      " 42          18 LOAD_CONST               1 (None)\n",
      "             20 RETURN_VALUE\n",
      "\n",
      " 43     >>   22 LOAD_GLOBAL              1 (hasattr)\n",
      "             24 LOAD_FAST                0 (x)\n",
      "             26 LOAD_CONST               3 ('__func__')\n",
      "             28 CALL_FUNCTION            2\n",
      "             30 POP_JUMP_IF_FALSE       38\n",
      "\n",
      " 44          32 LOAD_FAST                0 (x)\n",
      "             34 LOAD_ATTR                2 (__func__)\n",
      "             36 STORE_FAST               0 (x)\n",
      "\n",
      " 45     >>   38 LOAD_GLOBAL              1 (hasattr)\n",
      "             40 LOAD_FAST                0 (x)\n",
      "             42 LOAD_CONST               4 ('__code__')\n",
      "             44 CALL_FUNCTION            2\n",
      "             46 POP_JUMP_IF_FALSE       54\n",
      "\n",
      " 46          48 LOAD_FAST                0 (x)\n",
      "             50 LOAD_ATTR                3 (__code__)\n",
      "             52 STORE_FAST               0 (x)\n",
      "\n",
      " 47     >>   54 LOAD_GLOBAL              1 (hasattr)\n",
      "             56 LOAD_FAST                0 (x)\n",
      "             58 LOAD_CONST               5 ('gi_code')\n",
      "             60 CALL_FUNCTION            2\n",
      "             62 POP_JUMP_IF_FALSE       70\n",
      "\n",
      " 48          64 LOAD_FAST                0 (x)\n",
      "             66 LOAD_ATTR                4 (gi_code)\n",
      "             68 STORE_FAST               0 (x)\n",
      "\n",
      " 49     >>   70 LOAD_GLOBAL              1 (hasattr)\n",
      "             72 LOAD_FAST                0 (x)\n",
      "             74 LOAD_CONST               6 ('__dict__')\n",
      "             76 CALL_FUNCTION            2\n",
      "             78 POP_JUMP_IF_FALSE      216\n",
      "\n",
      " 50          80 LOAD_GLOBAL              5 (sorted)\n",
      "             82 LOAD_FAST                0 (x)\n",
      "             84 LOAD_ATTR                6 (__dict__)\n",
      "             86 LOAD_ATTR                7 (items)\n",
      "             88 CALL_FUNCTION            0\n",
      "             90 CALL_FUNCTION            1\n",
      "             92 STORE_FAST               2 (items)\n",
      "\n",
      " 51          94 SETUP_LOOP             218 (to 314)\n",
      "             96 LOAD_FAST                2 (items)\n",
      "             98 GET_ITER\n",
      "        >>  100 FOR_ITER               110 (to 212)\n",
      "            102 UNPACK_SEQUENCE          2\n",
      "            104 STORE_FAST               3 (name)\n",
      "            106 STORE_FAST               4 (x1)\n",
      "\n",
      " 52         108 LOAD_GLOBAL              8 (isinstance)\n",
      "            110 LOAD_FAST                4 (x1)\n",
      "            112 LOAD_GLOBAL              9 (_have_code)\n",
      "            114 CALL_FUNCTION            2\n",
      "            116 POP_JUMP_IF_FALSE      100\n",
      "\n",
      " 53         118 LOAD_GLOBAL             10 (print)\n",
      "            120 LOAD_CONST               7 ('Disassembly of %s:')\n",
      "            122 LOAD_FAST                3 (name)\n",
      "            124 BINARY_MODULO\n",
      "            126 LOAD_FAST                1 (file)\n",
      "            128 LOAD_CONST               2 (('file',))\n",
      "            130 CALL_FUNCTION_KW         2\n",
      "            132 POP_TOP\n",
      "\n",
      " 54         134 SETUP_EXCEPT            16 (to 152)\n",
      "\n",
      " 55         136 LOAD_GLOBAL             11 (dis)\n",
      "            138 LOAD_FAST                4 (x1)\n",
      "            140 LOAD_FAST                1 (file)\n",
      "            142 LOAD_CONST               2 (('file',))\n",
      "            144 CALL_FUNCTION_KW         2\n",
      "            146 POP_TOP\n",
      "            148 POP_BLOCK\n",
      "            150 JUMP_FORWARD            48 (to 200)\n",
      "\n",
      " 56     >>  152 DUP_TOP\n",
      "            154 LOAD_GLOBAL             12 (TypeError)\n",
      "            156 COMPARE_OP              10 (exception match)\n",
      "            158 POP_JUMP_IF_FALSE      198\n",
      "            160 POP_TOP\n",
      "            162 STORE_FAST               5 (msg)\n",
      "            164 POP_TOP\n",
      "            166 SETUP_FINALLY           20 (to 188)\n",
      "\n",
      " 57         168 LOAD_GLOBAL             10 (print)\n",
      "            170 LOAD_CONST               8 ('Sorry:')\n",
      "            172 LOAD_FAST                5 (msg)\n",
      "            174 LOAD_FAST                1 (file)\n",
      "            176 LOAD_CONST               2 (('file',))\n",
      "            178 CALL_FUNCTION_KW         3\n",
      "            180 POP_TOP\n",
      "            182 POP_BLOCK\n",
      "            184 POP_EXCEPT\n",
      "            186 LOAD_CONST               1 (None)\n",
      "        >>  188 LOAD_CONST               1 (None)\n",
      "            190 STORE_FAST               5 (msg)\n",
      "            192 DELETE_FAST              5 (msg)\n",
      "            194 END_FINALLY\n",
      "            196 JUMP_FORWARD             2 (to 200)\n",
      "        >>  198 END_FINALLY\n",
      "\n",
      " 58     >>  200 LOAD_GLOBAL             10 (print)\n",
      "            202 LOAD_FAST                1 (file)\n",
      "            204 LOAD_CONST               2 (('file',))\n",
      "            206 CALL_FUNCTION_KW         1\n",
      "            208 POP_TOP\n",
      "            210 JUMP_ABSOLUTE          100\n",
      "        >>  212 POP_BLOCK\n",
      "            214 JUMP_FORWARD            98 (to 314)\n",
      "\n",
      " 59     >>  216 LOAD_GLOBAL              1 (hasattr)\n",
      "            218 LOAD_FAST                0 (x)\n",
      "            220 LOAD_CONST               9 ('co_code')\n",
      "            222 CALL_FUNCTION            2\n",
      "            224 POP_JUMP_IF_FALSE      240\n",
      "\n",
      " 60         226 LOAD_GLOBAL             13 (disassemble)\n",
      "            228 LOAD_FAST                0 (x)\n",
      "            230 LOAD_FAST                1 (file)\n",
      "            232 LOAD_CONST               2 (('file',))\n",
      "            234 CALL_FUNCTION_KW         2\n",
      "            236 POP_TOP\n",
      "            238 JUMP_FORWARD            74 (to 314)\n",
      "\n",
      " 61     >>  240 LOAD_GLOBAL              8 (isinstance)\n",
      "            242 LOAD_FAST                0 (x)\n",
      "            244 LOAD_GLOBAL             14 (bytes)\n",
      "            246 LOAD_GLOBAL             15 (bytearray)\n",
      "            248 BUILD_TUPLE              2\n",
      "            250 CALL_FUNCTION            2\n",
      "            252 EXTENDED_ARG             1\n",
      "            254 POP_JUMP_IF_FALSE      270\n",
      "\n",
      " 62         256 LOAD_GLOBAL             16 (_disassemble_bytes)\n",
      "            258 LOAD_FAST                0 (x)\n",
      "            260 LOAD_FAST                1 (file)\n",
      "            262 LOAD_CONST               2 (('file',))\n",
      "            264 CALL_FUNCTION_KW         2\n",
      "            266 POP_TOP\n",
      "            268 JUMP_FORWARD            44 (to 314)\n",
      "\n",
      " 63     >>  270 LOAD_GLOBAL              8 (isinstance)\n",
      "            272 LOAD_FAST                0 (x)\n",
      "            274 LOAD_GLOBAL             17 (str)\n",
      "            276 CALL_FUNCTION            2\n",
      "            278 EXTENDED_ARG             1\n",
      "            280 POP_JUMP_IF_FALSE      296\n",
      "\n",
      " 64         282 LOAD_GLOBAL             18 (_disassemble_str)\n",
      "            284 LOAD_FAST                0 (x)\n",
      "            286 LOAD_FAST                1 (file)\n",
      "            288 LOAD_CONST               2 (('file',))\n",
      "            290 CALL_FUNCTION_KW         2\n",
      "            292 POP_TOP\n",
      "            294 JUMP_FORWARD            18 (to 314)\n",
      "\n",
      " 66     >>  296 LOAD_GLOBAL             12 (TypeError)\n",
      "            298 LOAD_CONST              10 (\"don't know how to disassemble %s objects\")\n",
      "\n",
      " 67         300 LOAD_GLOBAL             19 (type)\n",
      "            302 LOAD_FAST                0 (x)\n",
      "            304 CALL_FUNCTION            1\n",
      "            306 LOAD_ATTR               20 (__name__)\n",
      "            308 BINARY_MODULO\n",
      "            310 CALL_FUNCTION            1\n",
      "    -->     312 RAISE_VARARGS            1\n",
      "        >>  314 LOAD_CONST               1 (None)\n",
      "            316 RETURN_VALUE\n"
     ]
    }
   ],
   "source": [
    "dis.dis(print(a+b))"
   ]
  },
  {
   "cell_type": "code",
   "execution_count": 33,
   "metadata": {},
   "outputs": [
    {
     "data": {
      "text/plain": [
       "7"
      ]
     },
     "execution_count": 33,
     "metadata": {},
     "output_type": "execute_result"
    }
   ],
   "source": [
    "MyINT(2)+MyINT(1)"
   ]
  },
  {
   "cell_type": "code",
   "execution_count": 40,
   "metadata": {},
   "outputs": [
    {
     "data": {
      "text/plain": [
       "10"
      ]
     },
     "execution_count": 40,
     "metadata": {},
     "output_type": "execute_result"
    }
   ],
   "source": [
    "a.__add__(b)"
   ]
  },
  {
   "cell_type": "code",
   "execution_count": 33,
   "metadata": {},
   "outputs": [],
   "source": [
    "a =2"
   ]
  },
  {
   "cell_type": "code",
   "execution_count": 34,
   "metadata": {},
   "outputs": [
    {
     "data": {
      "text/plain": [
       "'2'"
      ]
     },
     "execution_count": 34,
     "metadata": {},
     "output_type": "execute_result"
    }
   ],
   "source": [
    "a.__str__()"
   ]
  },
  {
   "cell_type": "code",
   "execution_count": 53,
   "metadata": {},
   "outputs": [],
   "source": [
    "class AA:\n",
    "    def __init__(self, num):\n",
    "        self.num = num\n",
    "    def __add__(self, other):\n",
    "    \n",
    "        self.num = self.num + other.num \n",
    "    def __str__(self):\n",
    "        return(self.num)\n",
    "    pass\n",
    "# 한 개만 오버로딩 하는게 아니다 \n"
   ]
  },
  {
   "cell_type": "code",
   "execution_count": 54,
   "metadata": {},
   "outputs": [],
   "source": [
    "aa = AA(3)"
   ]
  },
  {
   "cell_type": "code",
   "execution_count": 55,
   "metadata": {},
   "outputs": [],
   "source": [
    "bb = AA(4)"
   ]
  },
  {
   "cell_type": "code",
   "execution_count": 57,
   "metadata": {},
   "outputs": [
    {
     "name": "stdout",
     "output_type": "stream",
     "text": [
      "None\n"
     ]
    }
   ],
   "source": [
    "print(aa + bb) # <- 이 객체는 더하기가 정의되어있지 않아서 \n",
    "               # other가 숫자로 와야한다."
   ]
  },
  {
   "cell_type": "code",
   "execution_count": 128,
   "metadata": {},
   "outputs": [],
   "source": [
    "class Point:\n",
    "    def __init__(self, x = 0, y = 0):\n",
    "        self.x = x\n",
    "        self.y = y"
   ]
  },
  {
   "cell_type": "code",
   "execution_count": 12,
   "metadata": {},
   "outputs": [],
   "source": [
    "class Point:\n",
    "    def __init__(self, x = 0, y = 0):\n",
    "        self.x = x\n",
    "        self.y = y\n",
    "    \n",
    "    def __str__(self):\n",
    "        return \"({0},{1})\".format(self.x,self.y)"
   ]
  },
  {
   "cell_type": "code",
   "execution_count": 52,
   "metadata": {},
   "outputs": [],
   "source": [
    "class Point:\n",
    "    def __init__(self, x = 0, y = 0):\n",
    "        self.x = x\n",
    "        self.y = y\n",
    "    \n",
    "    def __str__(self):\n",
    "        return \"({0},{1})\".format(self.x,self.y)\n",
    "    \n",
    "    def __add__(self,other):\n",
    "        x = self.x + other.x\n",
    "        y = self.y + other.y\n",
    "        return Point(x,y)"
   ]
  },
  {
   "cell_type": "code",
   "execution_count": 53,
   "metadata": {},
   "outputs": [],
   "source": [
    "a = Point(1,2)"
   ]
  },
  {
   "cell_type": "code",
   "execution_count": 54,
   "metadata": {},
   "outputs": [],
   "source": [
    "b = Point(2,3)"
   ]
  },
  {
   "cell_type": "code",
   "execution_count": 56,
   "metadata": {},
   "outputs": [
    {
     "name": "stdout",
     "output_type": "stream",
     "text": [
      "(3,5)\n"
     ]
    }
   ],
   "source": [
    "print(a+b)"
   ]
  },
  {
   "cell_type": "code",
   "execution_count": 57,
   "metadata": {},
   "outputs": [],
   "source": [
    "c =a+b"
   ]
  },
  {
   "cell_type": "code",
   "execution_count": 58,
   "metadata": {
    "scrolled": false
   },
   "outputs": [
    {
     "data": {
      "text/plain": [
       "__main__.Point"
      ]
     },
     "execution_count": 58,
     "metadata": {},
     "output_type": "execute_result"
    }
   ],
   "source": [
    "type(c)"
   ]
  },
  {
   "cell_type": "code",
   "execution_count": 69,
   "metadata": {},
   "outputs": [],
   "source": [
    "class Point:\n",
    "    def __init__(self, x = 0, y = 0):\n",
    "        self.x = x\n",
    "        self.y = y\n",
    "    \n",
    "    def __str__(self):\n",
    "        return \"({0},{1})\".format(self.x,self.y)\n",
    "    \n",
    "    def __lt__(self,other):\n",
    "        self_mag = (self.x ** 2) + (self.y ** 2)\n",
    "        other_mag = (other.x ** 2) + (other.y ** 2)\n",
    "        return self_mag < other_mag"
   ]
  },
  {
   "cell_type": "code",
   "execution_count": 70,
   "metadata": {},
   "outputs": [],
   "source": [
    "c = Point(1,2)"
   ]
  },
  {
   "cell_type": "code",
   "execution_count": 71,
   "metadata": {},
   "outputs": [
    {
     "data": {
      "text/plain": [
       "False"
      ]
     },
     "execution_count": 71,
     "metadata": {},
     "output_type": "execute_result"
    }
   ],
   "source": [
    "c.__lt__(a)"
   ]
  },
  {
   "cell_type": "code",
   "execution_count": null,
   "metadata": {},
   "outputs": [],
   "source": []
  }
 ],
 "metadata": {
  "kernelspec": {
   "display_name": "Python 3",
   "language": "python",
   "name": "python3"
  },
  "language_info": {
   "codemirror_mode": {
    "name": "ipython",
    "version": 3
   },
   "file_extension": ".py",
   "mimetype": "text/x-python",
   "name": "python",
   "nbconvert_exporter": "python",
   "pygments_lexer": "ipython3",
   "version": "3.6.4"
  }
 },
 "nbformat": 4,
 "nbformat_minor": 2
}
