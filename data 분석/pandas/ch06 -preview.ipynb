{
 "cells": [
  {
   "cell_type": "markdown",
   "metadata": {},
   "source": [
    "# summary\n",
    "- df.RegionName.str.capitalize\n",
    "    - help function 지원(자동완성) bound method _noarg_wrapper. -> df.RegionName.str.capitalize() \n",
    "    - 단점 공백있을 때 사용 못함\n",
    "\n",
    "\n",
    "- df['RegionName'].str.upper() \n",
    "    - help function 지원x 그래서 어트리뷰트 방식 많이 사용\n",
    "\n",
    "\n",
    "- df.RegionName.str.replace('YORK', 'york')\n",
    "- df.RegionName.str.replace('', \"\")\n",
    "\n",
    "\n",
    "- df.RegionName.map(lambda x : x + '문근영') \n",
    "    - str은 컬럼 전체 다 바꿔줌 함수형 기법으로 만든 것 \n",
    "- df.RegionID.map(lambda x : str(x).format('.8%d'))\n",
    "\n",
    "\n",
    "- df['문근영'] = df.County.str.len()\n",
    "\n"
   ]
  }
 ],
 "metadata": {
  "kernelspec": {
   "display_name": "Python 3",
   "language": "python",
   "name": "python3"
  },
  "language_info": {
   "codemirror_mode": {
    "name": "ipython",
    "version": 3
   },
   "file_extension": ".py",
   "mimetype": "text/x-python",
   "name": "python",
   "nbconvert_exporter": "python",
   "pygments_lexer": "ipython3",
   "version": "3.6.4"
  }
 },
 "nbformat": 4,
 "nbformat_minor": 2
}
