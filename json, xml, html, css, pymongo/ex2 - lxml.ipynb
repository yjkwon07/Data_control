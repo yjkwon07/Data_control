{
 "cells": [
  {
   "cell_type": "code",
   "execution_count": 1,
   "metadata": {},
   "outputs": [],
   "source": [
    "import json"
   ]
  },
  {
   "cell_type": "code",
   "execution_count": 2,
   "metadata": {},
   "outputs": [],
   "source": [
    "import urllib.request"
   ]
  },
  {
   "cell_type": "code",
   "execution_count": 3,
   "metadata": {},
   "outputs": [],
   "source": [
    "from urllib import parse # 인테넷상에서 데이터 주고 받기 위해서 "
   ]
  },
  {
   "cell_type": "code",
   "execution_count": 4,
   "metadata": {},
   "outputs": [],
   "source": [
    "from lxml import etree"
   ]
  },
  {
   "cell_type": "code",
   "execution_count": 5,
   "metadata": {},
   "outputs": [],
   "source": [
    "url = \"http://openapi.airkorea.or.kr/openapi/services/rest/ArpltnInforInqireSvc/getCtprvnMesureSidoLIst?\""
   ]
  },
  {
   "cell_type": "code",
   "execution_count": 6,
   "metadata": {},
   "outputs": [],
   "source": [
    "params ={\n",
    "    \"serviceKey\":\"C9N9ExnIbd5esuobQ8zjDOi5p3iWoDQOhCRSlvgi4%2BgQEeLhRR4K3hDf%2BG3W%2BrZULxTVB3qUCrTxcAE43A6VNA%3D%3D\",\n",
    "    \"numOfRows\" : 10,\n",
    "    \"pageNo\":1,\n",
    "    \"sidoName\":None,\n",
    "    \"ver\":\"1.3\",\n",
    "    \"searchCondition\":\"DAILY\",\n",
    "    \n",
    "    }"
   ]
  },
  {
   "cell_type": "code",
   "execution_count": 7,
   "metadata": {},
   "outputs": [],
   "source": [
    "params[\"sidoName\"] = \"서울\""
   ]
  },
  {
   "cell_type": "code",
   "execution_count": 8,
   "metadata": {},
   "outputs": [
    {
     "data": {
      "text/plain": [
       "'C9N9ExnIbd5esuobQ8zjDOi5p3iWoDQOhCRSlvgi4+gQEeLhRR4K3hDf+G3W+rZULxTVB3qUCrTxcAE43A6VNA=='"
      ]
     },
     "execution_count": 8,
     "metadata": {},
     "output_type": "execute_result"
    }
   ],
   "source": [
    "params[\"serviceKey\"] = urllib.parse.unquote( params[\"serviceKey\"] )\n",
    "params[\"serviceKey\"]"
   ]
  },
  {
   "cell_type": "code",
   "execution_count": 9,
   "metadata": {},
   "outputs": [
    {
     "data": {
      "text/plain": [
       "'serviceKey=C9N9ExnIbd5esuobQ8zjDOi5p3iWoDQOhCRSlvgi4%2BgQEeLhRR4K3hDf%2BG3W%2BrZULxTVB3qUCrTxcAE43A6VNA%3D%3D&numOfRows=10&pageNo=1&sidoName=%EC%84%9C%EC%9A%B8&ver=1.3&searchCondition=DAILY'"
      ]
     },
     "execution_count": 9,
     "metadata": {},
     "output_type": "execute_result"
    }
   ],
   "source": [
    "paramUrl = parse.urlencode(params)\n",
    "paramUrl"
   ]
  },
  {
   "cell_type": "code",
   "execution_count": 10,
   "metadata": {},
   "outputs": [],
   "source": [
    "paramBytes = paramUrl.encode(\"utf-8\")"
   ]
  },
  {
   "cell_type": "code",
   "execution_count": 11,
   "metadata": {},
   "outputs": [],
   "source": [
    "req = urllib.request.Request(url, data=paramBytes)"
   ]
  },
  {
   "cell_type": "code",
   "execution_count": 12,
   "metadata": {},
   "outputs": [],
   "source": [
    "res = urllib.request.urlopen(req)"
   ]
  },
  {
   "cell_type": "code",
   "execution_count": 13,
   "metadata": {},
   "outputs": [],
   "source": [
    "result = res.read()"
   ]
  },
  {
   "cell_type": "code",
   "execution_count": 14,
   "metadata": {},
   "outputs": [
    {
     "data": {
      "text/plain": [
       "bytes"
      ]
     },
     "execution_count": 14,
     "metadata": {},
     "output_type": "execute_result"
    }
   ],
   "source": [
    "type(result)"
   ]
  },
  {
   "cell_type": "code",
   "execution_count": 15,
   "metadata": {},
   "outputs": [],
   "source": [
    "resultStr = result.decode(\"utf-8\")"
   ]
  },
  {
   "cell_type": "code",
   "execution_count": 16,
   "metadata": {},
   "outputs": [
    {
     "data": {
      "text/plain": [
       "str"
      ]
     },
     "execution_count": 16,
     "metadata": {},
     "output_type": "execute_result"
    }
   ],
   "source": [
    "type(resultStr)"
   ]
  },
  {
   "cell_type": "code",
   "execution_count": 17,
   "metadata": {},
   "outputs": [
    {
     "data": {
      "text/plain": [
       "'<?xml version=\"1.0\" encoding=\"UTF-8\"?>\\r\\n\\r\\n\\r\\n\\r\\n\\r\\n<response>\\r\\n\\t<header>\\r\\n\\t\\t<resultCode>00</resultCode>\\r\\n\\t\\t<resultMsg>NORMAL SERVICE.</resultMsg>\\r\\n\\t</header>\\r\\n\\t<body>\\r\\n\\t\\t<items>\\r\\n\\t\\t\\t\\r\\n\\t\\t\\t\\t<item>\\r\\n\\t\\t\\t\\t    <dataTime>2018-07-30 22:00</dataTime>\\r\\n\\t\\t\\t\\t    <cityName>강남구</cityName>\\r\\n\\t\\t\\t\\t    <so2Value>0.005</so2Value>\\r\\n\\t\\t\\t\\t    <coValue>0.3</coValue>\\r\\n\\t\\t\\t\\t    <o3Value>0.012</o3Value>\\r\\n\\t\\t\\t\\t    <no2Value>0.023</no2Value>\\r\\n\\t\\t\\t\\t    <pm10Value>4</pm10Value>\\r\\n\\t\\t\\t\\t    <pm25Value>3</pm25Value>\\r\\n\\t\\t\\t\\t</item>\\r\\n\\t\\t\\t\\r\\n\\t\\t\\t\\t<item>\\r\\n\\t\\t\\t\\t    <dataTime>2018-07-30 22:00</dataTime>\\r\\n\\t\\t\\t\\t    <cityName>강동구</cityName>\\r\\n\\t\\t\\t\\t    <so2Value>0.003</so2Value>\\r\\n\\t\\t\\t\\t    <coValue>0.3</coValue>\\r\\n\\t\\t\\t\\t    <o3Value>0.016</o3Value>\\r\\n\\t\\t\\t\\t    <no2Value>0.014</no2Value>\\r\\n\\t\\t\\t\\t    <pm10Value>8</pm10Value>\\r\\n\\t\\t\\t\\t    <pm25Value>4</pm25Value>\\r\\n\\t\\t\\t\\t</item>\\r\\n\\t\\t\\t\\r\\n\\t\\t\\t\\t<item>\\r\\n\\t\\t\\t\\t    <dataTime>2018-07-30 22:00</dataTime>\\r\\n\\t\\t\\t\\t    <cityName>강북구</cityName>\\r\\n\\t\\t\\t\\t    <so2Value>0.002</so2Value>\\r\\n\\t\\t\\t\\t    <coValue>0.2</coValue>\\r\\n\\t\\t\\t\\t    <o3Value>0.017</o3Value>\\r\\n\\t\\t\\t\\t    <no2Value>0.012</no2Value>\\r\\n\\t\\t\\t\\t    <pm10Value>5</pm10Value>\\r\\n\\t\\t\\t\\t    <pm25Value>4</pm25Value>\\r\\n\\t\\t\\t\\t</item>\\r\\n\\t\\t\\t\\r\\n\\t\\t\\t\\t<item>\\r\\n\\t\\t\\t\\t    <dataTime>2018-07-30 22:00</dataTime>\\r\\n\\t\\t\\t\\t    <cityName>강서구</cityName>\\r\\n\\t\\t\\t\\t    <so2Value>0.003</so2Value>\\r\\n\\t\\t\\t\\t    <coValue>0.3</coValue>\\r\\n\\t\\t\\t\\t    <o3Value>0.018</o3Value>\\r\\n\\t\\t\\t\\t    <no2Value>0.025</no2Value>\\r\\n\\t\\t\\t\\t    <pm10Value>5</pm10Value>\\r\\n\\t\\t\\t\\t    <pm25Value>5</pm25Value>\\r\\n\\t\\t\\t\\t</item>\\r\\n\\t\\t\\t\\r\\n\\t\\t\\t\\t<item>\\r\\n\\t\\t\\t\\t    <dataTime>2018-07-30 22:00</dataTime>\\r\\n\\t\\t\\t\\t    <cityName>관악구</cityName>\\r\\n\\t\\t\\t\\t    <so2Value>-</so2Value>\\r\\n\\t\\t\\t\\t    <coValue>0.3</coValue>\\r\\n\\t\\t\\t\\t    <o3Value>0.018</o3Value>\\r\\n\\t\\t\\t\\t    <no2Value>0.029</no2Value>\\r\\n\\t\\t\\t\\t    <pm10Value>10</pm10Value>\\r\\n\\t\\t\\t\\t    <pm25Value>-</pm25Value>\\r\\n\\t\\t\\t\\t</item>\\r\\n\\t\\t\\t\\r\\n\\t\\t\\t\\t<item>\\r\\n\\t\\t\\t\\t    <dataTime>2018-07-30 22:00</dataTime>\\r\\n\\t\\t\\t\\t    <cityName>광진구</cityName>\\r\\n\\t\\t\\t\\t    <so2Value>0.004</so2Value>\\r\\n\\t\\t\\t\\t    <coValue>0.4</coValue>\\r\\n\\t\\t\\t\\t    <o3Value>0.012</o3Value>\\r\\n\\t\\t\\t\\t    <no2Value>0.021</no2Value>\\r\\n\\t\\t\\t\\t    <pm10Value>11</pm10Value>\\r\\n\\t\\t\\t\\t    <pm25Value>4</pm25Value>\\r\\n\\t\\t\\t\\t</item>\\r\\n\\t\\t\\t\\r\\n\\t\\t\\t\\t<item>\\r\\n\\t\\t\\t\\t    <dataTime>2018-07-30 22:00</dataTime>\\r\\n\\t\\t\\t\\t    <cityName>구로구</cityName>\\r\\n\\t\\t\\t\\t    <so2Value>0.002</so2Value>\\r\\n\\t\\t\\t\\t    <coValue>0.2</coValue>\\r\\n\\t\\t\\t\\t    <o3Value>0.021</o3Value>\\r\\n\\t\\t\\t\\t    <no2Value>0.022</no2Value>\\r\\n\\t\\t\\t\\t    <pm10Value>6</pm10Value>\\r\\n\\t\\t\\t\\t    <pm25Value>-</pm25Value>\\r\\n\\t\\t\\t\\t</item>\\r\\n\\t\\t\\t\\r\\n\\t\\t\\t\\t<item>\\r\\n\\t\\t\\t\\t    <dataTime>2018-07-30 22:00</dataTime>\\r\\n\\t\\t\\t\\t    <cityName>금천구</cityName>\\r\\n\\t\\t\\t\\t    <so2Value>0.003</so2Value>\\r\\n\\t\\t\\t\\t    <coValue>0.2</coValue>\\r\\n\\t\\t\\t\\t    <o3Value>0.024</o3Value>\\r\\n\\t\\t\\t\\t    <no2Value>0.015</no2Value>\\r\\n\\t\\t\\t\\t    <pm10Value>11</pm10Value>\\r\\n\\t\\t\\t\\t    <pm25Value>6</pm25Value>\\r\\n\\t\\t\\t\\t</item>\\r\\n\\t\\t\\t\\r\\n\\t\\t\\t\\t<item>\\r\\n\\t\\t\\t\\t    <dataTime>2018-07-30 22:00</dataTime>\\r\\n\\t\\t\\t\\t    <cityName>노원구</cityName>\\r\\n\\t\\t\\t\\t    <so2Value>0.005</so2Value>\\r\\n\\t\\t\\t\\t    <coValue>0.2</coValue>\\r\\n\\t\\t\\t\\t    <o3Value>0.020</o3Value>\\r\\n\\t\\t\\t\\t    <no2Value>0.010</no2Value>\\r\\n\\t\\t\\t\\t    <pm10Value>11</pm10Value>\\r\\n\\t\\t\\t\\t    <pm25Value>5</pm25Value>\\r\\n\\t\\t\\t\\t</item>\\r\\n\\t\\t\\t\\r\\n\\t\\t\\t\\t<item>\\r\\n\\t\\t\\t\\t    <dataTime>2018-07-30 22:00</dataTime>\\r\\n\\t\\t\\t\\t    <cityName>도봉구</cityName>\\r\\n\\t\\t\\t\\t    <so2Value>-</so2Value>\\r\\n\\t\\t\\t\\t    <coValue>0.4</coValue>\\r\\n\\t\\t\\t\\t    <o3Value>0.020</o3Value>\\r\\n\\t\\t\\t\\t    <no2Value>0.014</no2Value>\\r\\n\\t\\t\\t\\t    <pm10Value>8</pm10Value>\\r\\n\\t\\t\\t\\t    <pm25Value>4</pm25Value>\\r\\n\\t\\t\\t\\t</item>\\r\\n\\t\\t\\t\\r\\n\\t\\t</items>\\r\\n\\t\\t<numOfRows>10</numOfRows>\\r\\n        <pageNo>1</pageNo>\\r\\n        <totalCount>625</totalCount>\\r\\n\\t</body>\\r\\n</response>\\r\\n'"
      ]
     },
     "execution_count": 17,
     "metadata": {},
     "output_type": "execute_result"
    }
   ],
   "source": [
    "resultStr"
   ]
  },
  {
   "cell_type": "code",
   "execution_count": 18,
   "metadata": {},
   "outputs": [],
   "source": [
    "apiEle = etree.fromstring(result)"
   ]
  },
  {
   "cell_type": "code",
   "execution_count": 19,
   "metadata": {},
   "outputs": [],
   "source": [
    "apiTree = etree.ElementTree(apiEle)"
   ]
  },
  {
   "cell_type": "code",
   "execution_count": 20,
   "metadata": {},
   "outputs": [
    {
     "data": {
      "text/plain": [
       "lxml.etree._ElementTree"
      ]
     },
     "execution_count": 20,
     "metadata": {},
     "output_type": "execute_result"
    }
   ],
   "source": [
    "type(apiTree)"
   ]
  },
  {
   "cell_type": "code",
   "execution_count": 24,
   "metadata": {},
   "outputs": [
    {
     "name": "stdout",
     "output_type": "stream",
     "text": [
      "<response>\n",
      "\t<header>\n",
      "\t\t<resultCode>00</resultCode>\n",
      "\t\t<resultMsg>NORMAL SERVICE.</resultMsg>\n",
      "\t</header>\n",
      "\t<body>\n",
      "\t\t<items>\n",
      "\t\t\t\n",
      "\t\t\t\t<item>\n",
      "\t\t\t\t    <dataTime>2018-07-30 22:00</dataTime>\n",
      "\t\t\t\t    <cityName>강남구</cityName>\n",
      "\t\t\t\t    <so2Value>0.005</so2Value>\n",
      "\t\t\t\t    <coValue>0.3</coValue>\n",
      "\t\t\t\t    <o3Value>0.012</o3Value>\n",
      "\t\t\t\t    <no2Value>0.023</no2Value>\n",
      "\t\t\t\t    <pm10Value>4</pm10Value>\n",
      "\t\t\t\t    <pm25Value>3</pm25Value>\n",
      "\t\t\t\t</item>\n",
      "\t\t\t\n",
      "\t\t\t\t<item>\n",
      "\t\t\t\t    <dataTime>2018-07-30 22:00</dataTime>\n",
      "\t\t\t\t    <cityName>강동구</cityName>\n",
      "\t\t\t\t    <so2Value>0.003</so2Value>\n",
      "\t\t\t\t    <coValue>0.3</coValue>\n",
      "\t\t\t\t    <o3Value>0.016</o3Value>\n",
      "\t\t\t\t    <no2Value>0.014</no2Value>\n",
      "\t\t\t\t    <pm10Value>8</pm10Value>\n",
      "\t\t\t\t    <pm25Value>4</pm25Value>\n",
      "\t\t\t\t</item>\n",
      "\t\t\t\n",
      "\t\t\t\t<item>\n",
      "\t\t\t\t    <dataTime>2018-07-30 22:00</dataTime>\n",
      "\t\t\t\t    <cityName>강북구</cityName>\n",
      "\t\t\t\t    <so2Value>0.002</so2Value>\n",
      "\t\t\t\t    <coValue>0.2</coValue>\n",
      "\t\t\t\t    <o3Value>0.017</o3Value>\n",
      "\t\t\t\t    <no2Value>0.012</no2Value>\n",
      "\t\t\t\t    <pm10Value>5</pm10Value>\n",
      "\t\t\t\t    <pm25Value>4</pm25Value>\n",
      "\t\t\t\t</item>\n",
      "\t\t\t\n",
      "\t\t\t\t<item>\n",
      "\t\t\t\t    <dataTime>2018-07-30 22:00</dataTime>\n",
      "\t\t\t\t    <cityName>강서구</cityName>\n",
      "\t\t\t\t    <so2Value>0.003</so2Value>\n",
      "\t\t\t\t    <coValue>0.3</coValue>\n",
      "\t\t\t\t    <o3Value>0.018</o3Value>\n",
      "\t\t\t\t    <no2Value>0.025</no2Value>\n",
      "\t\t\t\t    <pm10Value>5</pm10Value>\n",
      "\t\t\t\t    <pm25Value>5</pm25Value>\n",
      "\t\t\t\t</item>\n",
      "\t\t\t\n",
      "\t\t\t\t<item>\n",
      "\t\t\t\t    <dataTime>2018-07-30 22:00</dataTime>\n",
      "\t\t\t\t    <cityName>관악구</cityName>\n",
      "\t\t\t\t    <so2Value>-</so2Value>\n",
      "\t\t\t\t    <coValue>0.3</coValue>\n",
      "\t\t\t\t    <o3Value>0.018</o3Value>\n",
      "\t\t\t\t    <no2Value>0.029</no2Value>\n",
      "\t\t\t\t    <pm10Value>10</pm10Value>\n",
      "\t\t\t\t    <pm25Value>-</pm25Value>\n",
      "\t\t\t\t</item>\n",
      "\t\t\t\n",
      "\t\t\t\t<item>\n",
      "\t\t\t\t    <dataTime>2018-07-30 22:00</dataTime>\n",
      "\t\t\t\t    <cityName>광진구</cityName>\n",
      "\t\t\t\t    <so2Value>0.004</so2Value>\n",
      "\t\t\t\t    <coValue>0.4</coValue>\n",
      "\t\t\t\t    <o3Value>0.012</o3Value>\n",
      "\t\t\t\t    <no2Value>0.021</no2Value>\n",
      "\t\t\t\t    <pm10Value>11</pm10Value>\n",
      "\t\t\t\t    <pm25Value>4</pm25Value>\n",
      "\t\t\t\t</item>\n",
      "\t\t\t\n",
      "\t\t\t\t<item>\n",
      "\t\t\t\t    <dataTime>2018-07-30 22:00</dataTime>\n",
      "\t\t\t\t    <cityName>구로구</cityName>\n",
      "\t\t\t\t    <so2Value>0.002</so2Value>\n",
      "\t\t\t\t    <coValue>0.2</coValue>\n",
      "\t\t\t\t    <o3Value>0.021</o3Value>\n",
      "\t\t\t\t    <no2Value>0.022</no2Value>\n",
      "\t\t\t\t    <pm10Value>6</pm10Value>\n",
      "\t\t\t\t    <pm25Value>-</pm25Value>\n",
      "\t\t\t\t</item>\n",
      "\t\t\t\n",
      "\t\t\t\t<item>\n",
      "\t\t\t\t    <dataTime>2018-07-30 22:00</dataTime>\n",
      "\t\t\t\t    <cityName>금천구</cityName>\n",
      "\t\t\t\t    <so2Value>0.003</so2Value>\n",
      "\t\t\t\t    <coValue>0.2</coValue>\n",
      "\t\t\t\t    <o3Value>0.024</o3Value>\n",
      "\t\t\t\t    <no2Value>0.015</no2Value>\n",
      "\t\t\t\t    <pm10Value>11</pm10Value>\n",
      "\t\t\t\t    <pm25Value>6</pm25Value>\n",
      "\t\t\t\t</item>\n",
      "\t\t\t\n",
      "\t\t\t\t<item>\n",
      "\t\t\t\t    <dataTime>2018-07-30 22:00</dataTime>\n",
      "\t\t\t\t    <cityName>노원구</cityName>\n",
      "\t\t\t\t    <so2Value>0.005</so2Value>\n",
      "\t\t\t\t    <coValue>0.2</coValue>\n",
      "\t\t\t\t    <o3Value>0.020</o3Value>\n",
      "\t\t\t\t    <no2Value>0.010</no2Value>\n",
      "\t\t\t\t    <pm10Value>11</pm10Value>\n",
      "\t\t\t\t    <pm25Value>5</pm25Value>\n",
      "\t\t\t\t</item>\n",
      "\t\t\t\n",
      "\t\t\t\t<item>\n",
      "\t\t\t\t    <dataTime>2018-07-30 22:00</dataTime>\n",
      "\t\t\t\t    <cityName>도봉구</cityName>\n",
      "\t\t\t\t    <so2Value>-</so2Value>\n",
      "\t\t\t\t    <coValue>0.4</coValue>\n",
      "\t\t\t\t    <o3Value>0.020</o3Value>\n",
      "\t\t\t\t    <no2Value>0.014</no2Value>\n",
      "\t\t\t\t    <pm10Value>8</pm10Value>\n",
      "\t\t\t\t    <pm25Value>4</pm25Value>\n",
      "\t\t\t\t</item>\n",
      "\t\t\t\n",
      "\t\t</items>\n",
      "\t\t<numOfRows>10</numOfRows>\n",
      "        <pageNo>1</pageNo>\n",
      "        <totalCount>625</totalCount>\n",
      "\t</body>\n",
      "</response>\n"
     ]
    }
   ],
   "source": [
    "result = etree.dump(apiEle)"
   ]
  },
  {
   "cell_type": "code",
   "execution_count": 21,
   "metadata": {},
   "outputs": [],
   "source": [
    "rootNode = apiTree.getroot()"
   ]
  },
  {
   "cell_type": "code",
   "execution_count": 22,
   "metadata": {},
   "outputs": [
    {
     "name": "stdout",
     "output_type": "stream",
     "text": [
      "response\n"
     ]
    }
   ],
   "source": [
    "print(rootNode.tag)"
   ]
  },
  {
   "cell_type": "code",
   "execution_count": 34,
   "metadata": {},
   "outputs": [],
   "source": [
    "nodeList = rootNode.findall(\".//pm10Value\")"
   ]
  },
  {
   "cell_type": "code",
   "execution_count": 35,
   "metadata": {},
   "outputs": [
    {
     "data": {
      "text/plain": [
       "10"
      ]
     },
     "execution_count": 35,
     "metadata": {},
     "output_type": "execute_result"
    }
   ],
   "source": [
    "len(nodeList)"
   ]
  },
  {
   "cell_type": "code",
   "execution_count": 41,
   "metadata": {},
   "outputs": [
    {
     "name": "stdout",
     "output_type": "stream",
     "text": [
      "<Element item at 0x16a124f2c88>\n",
      "pm10Value 20\n",
      "<Element item at 0x16a124f2c88>\n",
      "pm10Value 28\n",
      "<Element item at 0x16a124f2c88>\n",
      "pm10Value 30\n",
      "<Element item at 0x16a124f2c88>\n",
      "pm10Value -\n",
      "<Element item at 0x16a124f2c88>\n",
      "pm10Value 19\n",
      "<Element item at 0x16a124f2c88>\n",
      "pm10Value 23\n",
      "<Element item at 0x16a124f2c88>\n",
      "pm10Value 15\n",
      "<Element item at 0x16a124f2c88>\n",
      "pm10Value 20\n",
      "<Element item at 0x16a124f2c88>\n",
      "pm10Value 23\n",
      "<Element item at 0x16a124f2c88>\n",
      "pm10Value 26\n"
     ]
    }
   ],
   "source": [
    "for row in nodeList:\n",
    "    print(row.getparent())\n",
    "    print(row.tag, row.text)"
   ]
  },
  {
   "cell_type": "code",
   "execution_count": null,
   "metadata": {},
   "outputs": [],
   "source": [
    "# json 파싱보다 좀 쉽게 가져간다\n"
   ]
  }
 ],
 "metadata": {
  "kernelspec": {
   "display_name": "Python 3",
   "language": "python",
   "name": "python3"
  },
  "language_info": {
   "codemirror_mode": {
    "name": "ipython",
    "version": 3
   },
   "file_extension": ".py",
   "mimetype": "text/x-python",
   "name": "python",
   "nbconvert_exporter": "python",
   "pygments_lexer": "ipython3",
   "version": "3.6.4"
  }
 },
 "nbformat": 4,
 "nbformat_minor": 2
}
