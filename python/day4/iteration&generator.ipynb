{
 "cells": [
  {
   "cell_type": "markdown",
   "metadata": {},
   "source": [
    "# Iterables & iterators\n",
    "\n",
    "■ An iterator is an object that supports the _ _next__ method for traversal\n",
    "\n",
    "■ Invoked via the next built-in function\n",
    "\n",
    "■ An iterable is an object that returns an iterator in support of _ _iter__ method\n",
    "\n",
    "■ Invoked via the iter built-in function\n",
    "\n",
    "■ Iterators are iterable, so the _ _iter__ method is an identity operation"
   ]
  },
  {
   "cell_type": "markdown",
   "metadata": {},
   "source": [
    "<img src=\"iter_1.jpg\"/>"
   ]
  },
  {
   "cell_type": "markdown",
   "metadata": {},
   "source": [
    "# Defining iterators\n",
    "■ There are many ways to provide an iterator...\n",
    "\n",
    "■ Define a class that supports the iterator protocol directly\n",
    "\n",
    "■ Return an iterator from another object\n",
    "\n",
    "■ Compose an iterator with iter, using an action and a termination value\n",
    "\n",
    "■ Define a generator function\n",
    "\n",
    "■ Write a generator expression"
   ]
  },
  {
   "cell_type": "code",
   "execution_count": 3,
   "metadata": {},
   "outputs": [
    {
     "ename": "NameError",
     "evalue": "name 'history' is not defined",
     "output_type": "error",
     "traceback": [
      "\u001b[1;31m---------------------------------------------------------------------------\u001b[0m",
      "\u001b[1;31mNameError\u001b[0m                                 Traceback (most recent call last)",
      "\u001b[1;32m<ipython-input-3-6032c3ae4cce>\u001b[0m in \u001b[0;36m<module>\u001b[1;34m()\u001b[0m\n\u001b[0;32m      6\u001b[0m     \u001b[1;32mreturn\u001b[0m \u001b[0miter\u001b[0m\u001b[1;33m(\u001b[0m\u001b[0mstack\u001b[0m\u001b[1;33m.\u001b[0m\u001b[0mpop\u001b[0m\u001b[1;33m,\u001b[0m \u001b[0mend\u001b[0m\u001b[1;33m)\u001b[0m\u001b[1;33m\u001b[0m\u001b[0m\n\u001b[0;32m      7\u001b[0m \u001b[1;33m\u001b[0m\u001b[0m\n\u001b[1;32m----> 8\u001b[1;33m \u001b[1;32mfor\u001b[0m \u001b[0mpopped\u001b[0m \u001b[1;32min\u001b[0m \u001b[0mpop_until\u001b[0m\u001b[1;33m(\u001b[0m\u001b[0mhistory\u001b[0m\u001b[1;33m,\u001b[0m\u001b[1;32mNone\u001b[0m\u001b[1;33m)\u001b[0m\u001b[1;33m:\u001b[0m\u001b[1;33m\u001b[0m\u001b[0m\n\u001b[0m\u001b[0;32m      9\u001b[0m     \u001b[0mprint\u001b[0m\u001b[1;33m(\u001b[0m\u001b[0mpoppped\u001b[0m\u001b[1;33m)\u001b[0m\u001b[1;33m\u001b[0m\u001b[0m\n\u001b[0;32m     10\u001b[0m \u001b[1;33m\u001b[0m\u001b[0m\n",
      "\u001b[1;31mNameError\u001b[0m: name 'history' is not defined"
     ]
    }
   ],
   "source": [
    "#iter \n",
    "# Use iter to create an iterator from a callable object and a sentinel value\n",
    "# Or to create an iterator from an iterable \n",
    "\n",
    "def pop_until(stack , end):\n",
    "    return iter(stack.pop, end)\n",
    "\n",
    "for popped in pop_until(history,None):\n",
    "    print(poppped)\n",
    "    \n",
    "def repl():\n",
    "    for line in iter(lambda: input('> '), 'exit'):\n",
    "        print(evaluate(line))"
   ]
  },
  {
   "cell_type": "markdown",
   "metadata": {},
   "source": [
    "## iterable\n",
    "■ Parallel assignment = tuple unpacking\n",
    "\n",
    "■ Parallel assignment in for loops\n",
    "\n",
    "■ Function argument unpacking = splat\n",
    "\n",
    "■ reduction functions = all, any, max, min, sum\n",
    "\n",
    "■ .sort() / sorted() 비교"
   ]
  },
  {
   "cell_type": "markdown",
   "metadata": {},
   "source": [
    "##  next\n",
    "■ Iterators can be advanced manually using next\n",
    "\n",
    "■ Calls the _ _next__ method\n",
    "\n",
    "■ Watch out for StopIteration at the end..."
   ]
  },
  {
   "cell_type": "code",
   "execution_count": 7,
   "metadata": {},
   "outputs": [],
   "source": [
    "def repl():\n",
    "    try:\n",
    "        lines = iter(lambda: input('> '), 'exit')\n",
    "        while True:\n",
    "            line = next(lines)\n",
    "            print(len(line))\n",
    "    except StopIteration:\n",
    "        pass"
   ]
  },
  {
   "cell_type": "code",
   "execution_count": 9,
   "metadata": {},
   "outputs": [
    {
     "name": "stdout",
     "output_type": "stream",
     "text": [
      "> 5\n",
      "1\n",
      "> 5,6\n",
      "3\n",
      "> 2\n",
      "1\n",
      "> exit\n"
     ]
    }
   ],
   "source": [
    "repl()"
   ]
  },
  {
   "cell_type": "markdown",
   "metadata": {},
   "source": [
    "# Generator expressions\n",
    "■ A comprehension-based expression that results in an iterator object\n",
    "\n",
    "■ Does not result in a container of values\n",
    "\n",
    "■ Must be surrounded by parentheses unless it is the sole argument of a function\n",
    "\n",
    "■ May be returned as the result of a function"
   ]
  },
  {
   "cell_type": "code",
   "execution_count": 11,
   "metadata": {},
   "outputs": [],
   "source": [
    "import random"
   ]
  },
  {
   "cell_type": "code",
   "execution_count": 12,
   "metadata": {},
   "outputs": [
    {
     "data": {
      "text/plain": [
       "861"
      ]
     },
     "execution_count": 12,
     "metadata": {},
     "output_type": "execute_result"
    }
   ],
   "source": [
    "numbers = (i for i in range(42))\n",
    "sum(numbers)"
   ]
  },
  {
   "cell_type": "code",
   "execution_count": 14,
   "metadata": {},
   "outputs": [
    {
     "data": {
      "text/plain": [
       "861"
      ]
     },
     "execution_count": 14,
     "metadata": {},
     "output_type": "execute_result"
    }
   ],
   "source": [
    "sum(i for i in range(42))"
   ]
  },
  {
   "cell_type": "markdown",
   "metadata": {},
   "source": [
    "# Generators\n",
    "■ A generator is a comprehension that results in an iterator object\n",
    "\n",
    "■ It does not result in a container of values\n",
    "\n",
    "■ Must be surrounded by parentheses unless it is the sole argument of a function"
   ]
  },
  {
   "cell_type": "code",
   "execution_count": 15,
   "metadata": {},
   "outputs": [
    {
     "data": {
      "text/plain": [
       "<generator object <genexpr> at 0x000001E2E1500990>"
      ]
     },
     "execution_count": 15,
     "metadata": {},
     "output_type": "execute_result"
    }
   ],
   "source": [
    "(i * 2 for i in range(50))"
   ]
  },
  {
   "cell_type": "code",
   "execution_count": 16,
   "metadata": {},
   "outputs": [
    {
     "data": {
      "text/plain": [
       "<generator object <genexpr> at 0x000001E2E1500AF0>"
      ]
     },
     "execution_count": 16,
     "metadata": {},
     "output_type": "execute_result"
    }
   ],
   "source": [
    "(i for i in range(100) if i % 2 == 0)"
   ]
  },
  {
   "cell_type": "code",
   "execution_count": 17,
   "metadata": {},
   "outputs": [
    {
     "data": {
      "text/plain": [
       "285"
      ]
     },
     "execution_count": 17,
     "metadata": {},
     "output_type": "execute_result"
    }
   ],
   "source": [
    "sum(i * i for i in range(10))"
   ]
  },
  {
   "cell_type": "markdown",
   "metadata": {},
   "source": [
    "# Gernerator functions & yield\n",
    "■ You can write your own iterator classes or, in many cases, just use a function\n",
    "\n",
    "■ On calling, a generator function returns an iterator and behaves like a coroutine"
   ]
  },
  {
   "cell_type": "code",
   "execution_count": 18,
   "metadata": {},
   "outputs": [],
   "source": [
    "def evens_up_to(limit):\n",
    "    for i in range(0, limit, 2):\n",
    "        yield i"
   ]
  },
  {
   "cell_type": "code",
   "execution_count": 20,
   "metadata": {},
   "outputs": [
    {
     "name": "stdout",
     "output_type": "stream",
     "text": [
      "0\n",
      "2\n",
      "4\n",
      "6\n",
      "8\n",
      "10\n",
      "12\n",
      "14\n",
      "16\n",
      "18\n",
      "20\n",
      "22\n",
      "24\n",
      "26\n",
      "28\n",
      "30\n",
      "32\n",
      "34\n",
      "36\n",
      "38\n",
      "40\n",
      "42\n",
      "44\n",
      "46\n",
      "48\n",
      "50\n",
      "52\n",
      "54\n",
      "56\n",
      "58\n",
      "60\n",
      "62\n",
      "64\n",
      "66\n",
      "68\n",
      "70\n",
      "72\n",
      "74\n",
      "76\n",
      "78\n",
      "80\n",
      "82\n",
      "84\n",
      "86\n",
      "88\n",
      "90\n",
      "92\n",
      "94\n",
      "96\n",
      "98\n"
     ]
    }
   ],
   "source": [
    "for i in evens_up_to(100):\n",
    "    print(i)"
   ]
  },
  {
   "cell_type": "markdown",
   "metadata": {},
   "source": [
    "# Generator functions\n",
    "■ A generator is an ordinary function that returns an iterator as its result\n",
    "\n",
    "■ The presence of a yield or yield from makes a function a generator, and can only be used within a function\n",
    "\n",
    "■ yield returns a single value\n",
    "\n",
    "■ yield from takes values from another iterator, advancing by one on each call\n",
    "\n",
    "■ return in a generator raises StopIteration, passing it any return value specified"
   ]
  },
  {
   "cell_type": "markdown",
   "metadata": {},
   "source": [
    "# Builtin Generation Function\n",
    "■ enumerate ■ filter ■ map ■ reversed ■ zip"
   ]
  },
  {
   "cell_type": "markdown",
   "metadata": {},
   "source": [
    "## enumerate\n",
    "■ enumerate to generate indexed pairs from any iterable"
   ]
  },
  {
   "cell_type": "code",
   "execution_count": 21,
   "metadata": {},
   "outputs": [
    {
     "name": "stdout",
     "output_type": "stream",
     "text": [
      "1 AMS\n",
      "2 LHR\n",
      "3 OSL\n"
     ]
    }
   ],
   "source": [
    "codes = ['AMS', 'LHR', 'OSL']\n",
    "for index, code in enumerate(codes, 1):\n",
    "    print(index, code)"
   ]
  },
  {
   "cell_type": "markdown",
   "metadata": {},
   "source": [
    "## zip \n",
    "■ Elements from multiple iterables can be zipped into a single sequence\n",
    "\n",
    "■ Resulting iterator tuple-ises corresponding values together"
   ]
  },
  {
   "cell_type": "code",
   "execution_count": 23,
   "metadata": {},
   "outputs": [],
   "source": [
    "codes = ['AMS', 'LHR', 'OSL']\n",
    "names = ['Schiphol', 'Heathrow', 'Oslo']"
   ]
  },
  {
   "cell_type": "code",
   "execution_count": 44,
   "metadata": {},
   "outputs": [
    {
     "name": "stdout",
     "output_type": "stream",
     "text": [
      "('AMS', 'Schiphol')\n",
      "('LHR', 'Heathrow')\n",
      "('OSL', 'Oslo')\n"
     ]
    }
   ],
   "source": [
    "for airport in zip(codes, names):\n",
    "    print(airport)"
   ]
  },
  {
   "cell_type": "code",
   "execution_count": 46,
   "metadata": {},
   "outputs": [
    {
     "name": "stdout",
     "output_type": "stream",
     "text": [
      "{'AMS': 'Schiphol', 'LHR': 'Heathrow', 'OSL': 'Oslo'}\n"
     ]
    }
   ],
   "source": [
    "airports = dict(zip(codes, names))\n",
    "print(airports)"
   ]
  },
  {
   "cell_type": "markdown",
   "metadata": {},
   "source": [
    "## map\n",
    "■ map applies a function to iterable elements to produce a new iterable\n",
    "\n",
    "■ The given callable object needs to take as many arguments as there are iterables\n",
    "\n",
    "■ The mapping is carried out on demand and not at the point map is called"
   ]
  },
  {
   "cell_type": "code",
   "execution_count": 25,
   "metadata": {},
   "outputs": [],
   "source": [
    "def histogram(data):\n",
    "    return map(lambda size: size * '#', map(len, data))"
   ]
  },
  {
   "cell_type": "code",
   "execution_count": 26,
   "metadata": {},
   "outputs": [
    {
     "name": "stdout",
     "output_type": "stream",
     "text": [
      "###\n",
      "#####\n",
      "#####\n",
      "###\n",
      "######\n",
      "#\n",
      "#####\n",
      "##\n",
      "#####\n"
     ]
    }
   ],
   "source": [
    "text = \"I'm sorry Dave, I'm afraid I can't do that.\"\n",
    "print('\\n'.join(histogram(text.split())))"
   ]
  },
  {
   "cell_type": "markdown",
   "metadata": {},
   "source": [
    "## filter\n",
    "■ filter includes only values that satisfy a given predicate in its generated result\n",
    "\n",
    "■ If no predicate is provided — i.e., None —the Boolean of each value is assumed"
   ]
  },
  {
   "cell_type": "code",
   "execution_count": 27,
   "metadata": {},
   "outputs": [],
   "source": [
    "numbers = [42, 0, -273.15, 0.0, 97, 23, -1]\n",
    "positive = filter(lambda value: value > 0, numbers)\n",
    "non_zero = filter(None, numbers)"
   ]
  },
  {
   "cell_type": "code",
   "execution_count": 28,
   "metadata": {},
   "outputs": [
    {
     "data": {
      "text/plain": [
       "[42, 97, 23]"
      ]
     },
     "execution_count": 28,
     "metadata": {},
     "output_type": "execute_result"
    }
   ],
   "source": [
    "list(positive)"
   ]
  },
  {
   "cell_type": "code",
   "execution_count": 29,
   "metadata": {},
   "outputs": [
    {
     "data": {
      "text/plain": [
       "[42, -273.15, 97, 23, -1]"
      ]
     },
     "execution_count": 29,
     "metadata": {},
     "output_type": "execute_result"
    }
   ],
   "source": [
    "list(non_zero)"
   ]
  },
  {
   "cell_type": "markdown",
   "metadata": {},
   "source": [
    "■ Prefer use of comprehensions over use of map and filter\n",
    "\n",
    "■ But note that a list comprehension is fully rather than lazily evaluated"
   ]
  },
  {
   "cell_type": "code",
   "execution_count": 30,
   "metadata": {},
   "outputs": [],
   "source": [
    "numbers = [42, 0, -273.15, 0.0, 97, 23, -1]\n",
    "positive = [value for value in numbers if value > 0]\n",
    "non_zero = [value for value in numbers if value]"
   ]
  },
  {
   "cell_type": "code",
   "execution_count": 31,
   "metadata": {},
   "outputs": [
    {
     "data": {
      "text/plain": [
       "[42, 97, 23]"
      ]
     },
     "execution_count": 31,
     "metadata": {},
     "output_type": "execute_result"
    }
   ],
   "source": [
    "positive\n"
   ]
  },
  {
   "cell_type": "code",
   "execution_count": 32,
   "metadata": {},
   "outputs": [
    {
     "data": {
      "text/plain": [
       "[42, -273.15, 97, 23, -1]"
      ]
     },
     "execution_count": 32,
     "metadata": {},
     "output_type": "execute_result"
    }
   ],
   "source": [
    "non_zero"
   ]
  },
  {
   "cell_type": "markdown",
   "metadata": {},
   "source": [
    "# Yielding a winner"
   ]
  },
  {
   "cell_type": "code",
   "execution_count": 33,
   "metadata": {},
   "outputs": [],
   "source": [
    "def medals():\n",
    "    yield 'Gold'\n",
    "    yield 'Silver'\n",
    "    yield 'Bronze'\n"
   ]
  },
  {
   "cell_type": "code",
   "execution_count": 34,
   "metadata": {},
   "outputs": [
    {
     "name": "stdout",
     "output_type": "stream",
     "text": [
      "Gold\n",
      "Silver\n",
      "Bronze\n"
     ]
    }
   ],
   "source": [
    "for medal in medals():\n",
    "    print(medal)"
   ]
  },
  {
   "cell_type": "code",
   "execution_count": 36,
   "metadata": {},
   "outputs": [],
   "source": [
    "def medals():\n",
    "    for result in 'Gold', 'Silver', 'Bronze':\n",
    "        yield result"
   ]
  },
  {
   "cell_type": "code",
   "execution_count": 37,
   "metadata": {},
   "outputs": [
    {
     "name": "stdout",
     "output_type": "stream",
     "text": [
      "Gold\n",
      "Silver\n",
      "Bronze\n"
     ]
    }
   ],
   "source": [
    "for medal in medals():\n",
    "    print(medal)"
   ]
  },
  {
   "cell_type": "code",
   "execution_count": 38,
   "metadata": {},
   "outputs": [],
   "source": [
    "def medals():\n",
    "    yield from ['Gold', 'Silver', 'Bronze']"
   ]
  },
  {
   "cell_type": "code",
   "execution_count": 39,
   "metadata": {},
   "outputs": [
    {
     "name": "stdout",
     "output_type": "stream",
     "text": [
      "Gold\n",
      "Silver\n",
      "Bronze\n"
     ]
    }
   ],
   "source": [
    "for medal in medals():\n",
    "    print(medal)"
   ]
  },
  {
   "cell_type": "markdown",
   "metadata": {},
   "source": [
    "# itertools\n",
    "■ infinte generators\n",
    "\n",
    "○ count(), cycle(), repeat()\n",
    "\n",
    "■ generators that consume multiple iterables\n",
    "\n",
    "○ chain(), tee(), izip(), imap(), product(), compress()…\n",
    "\n",
    "■ generators that filter or bundle items\n",
    "\n",
    "○ compress(), dropwhile(), groupby(), ifilter(), islice()\n",
    "\n",
    "■ generators that rearrange items\n",
    "\n",
    "○ product(), permutations(), combinations()"
   ]
  },
  {
   "cell_type": "markdown",
   "metadata": {},
   "source": [
    "# How not to iterate"
   ]
  },
  {
   "cell_type": "code",
   "execution_count": 47,
   "metadata": {},
   "outputs": [
    {
     "name": "stdout",
     "output_type": "stream",
     "text": [
      "EUR Euro\n",
      "GBP British pound\n",
      "NOK Norwegian krone\n"
     ]
    }
   ],
   "source": [
    "currencies = {\n",
    "'EUR': 'Euro',\n",
    "'GBP': 'British pound',\n",
    "'NOK': 'Norwegian krone',\n",
    "}\n",
    "\n",
    "for code in currencies:\n",
    "    print(code, currencies[code])"
   ]
  },
  {
   "cell_type": "code",
   "execution_count": 48,
   "metadata": {},
   "outputs": [],
   "source": [
    "ordinals = ['first', 'second', 'third']"
   ]
  },
  {
   "cell_type": "code",
   "execution_count": 49,
   "metadata": {},
   "outputs": [
    {
     "name": "stdout",
     "output_type": "stream",
     "text": [
      "first\n",
      "second\n",
      "third\n"
     ]
    }
   ],
   "source": [
    "for index in range(0, len(ordinals)):\n",
    "    print(ordinals[index])"
   ]
  },
  {
   "cell_type": "code",
   "execution_count": 50,
   "metadata": {},
   "outputs": [
    {
     "name": "stdout",
     "output_type": "stream",
     "text": [
      "1 first\n",
      "2 second\n",
      "3 third\n"
     ]
    }
   ],
   "source": [
    "for index in range(0, len(ordinals)):\n",
    "    print(index + 1, ordinals[index])"
   ]
  },
  {
   "cell_type": "markdown",
   "metadata": {},
   "source": [
    "# How to iterate"
   ]
  },
  {
   "cell_type": "code",
   "execution_count": 40,
   "metadata": {},
   "outputs": [
    {
     "name": "stdout",
     "output_type": "stream",
     "text": [
      "EUR Euro\n",
      "GBP British pound\n",
      "NOK Norwegian krone\n"
     ]
    }
   ],
   "source": [
    "currencies = {\n",
    "'EUR': 'Euro',\n",
    "'GBP': 'British pound',\n",
    "'NOK': 'Norwegian krone',\n",
    "}\n",
    "\n",
    "for code, name in currencies.items():\n",
    "    print(code, name)"
   ]
  },
  {
   "cell_type": "code",
   "execution_count": 41,
   "metadata": {},
   "outputs": [
    {
     "name": "stdout",
     "output_type": "stream",
     "text": [
      "first\n",
      "second\n",
      "third\n"
     ]
    }
   ],
   "source": [
    "ordinals = ['first', 'second', 'third']\n",
    "for ordinal in ordinals:\n",
    "    print(ordinal)"
   ]
  },
  {
   "cell_type": "code",
   "execution_count": 43,
   "metadata": {},
   "outputs": [
    {
     "name": "stdout",
     "output_type": "stream",
     "text": [
      "1 first\n",
      "2 second\n",
      "3 third\n"
     ]
    }
   ],
   "source": [
    "for index, ordinal in enumerate(ordinals, 1):\n",
    "    print(index, ordinal)"
   ]
  }
 ],
 "metadata": {
  "kernelspec": {
   "display_name": "Python 3",
   "language": "python",
   "name": "python3"
  },
  "language_info": {
   "codemirror_mode": {
    "name": "ipython",
    "version": 3
   },
   "file_extension": ".py",
   "mimetype": "text/x-python",
   "name": "python",
   "nbconvert_exporter": "python",
   "pygments_lexer": "ipython3",
   "version": "3.6.4"
  }
 },
 "nbformat": 4,
 "nbformat_minor": 2
}
