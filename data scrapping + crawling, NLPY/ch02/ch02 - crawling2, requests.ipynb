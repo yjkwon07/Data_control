{
 "cells": [
  {
   "cell_type": "code",
   "execution_count": 1,
   "metadata": {},
   "outputs": [],
   "source": [
    "import requests # 이제부터 이것만쓸것\n",
    "from bs4 import BeautifulSoup"
   ]
  },
  {
   "cell_type": "code",
   "execution_count": 2,
   "metadata": {},
   "outputs": [],
   "source": [
    "headers = {\n",
    "    \"user-agent\":\"Mozilla/5.0 (Windows NT 10.0; Win64; x64) AppleWebKit/537.36 (KHTML, like Gecko) Chrome/67.0.3396.99 Safari/537.36\" #header 정보가없으면 bot 이라고 걸러내는경우가있엇음\n",
    "}\n",
    "params = {\n",
    "    \"q\":\"한글\"\n",
    "}\n",
    "\n",
    "url = \"https://www.google.co.kr/search\"\n",
    "    \n",
    "    #한글로쓴것을 바이너리로바뀌어서 get 에 쿼리로 들어감. \n",
    "    "
   ]
  },
  {
   "cell_type": "code",
   "execution_count": 3,
   "metadata": {},
   "outputs": [],
   "source": [
    "html = requests.get(url, params=params, headers=headers) "
   ]
  },
  {
   "cell_type": "code",
   "execution_count": 4,
   "metadata": {},
   "outputs": [],
   "source": [
    "#bs4 로 돔트리를 해석한다. "
   ]
  },
  {
   "cell_type": "code",
   "execution_count": 5,
   "metadata": {},
   "outputs": [],
   "source": [
    "headers = {\n",
    "    \"user-agent\" : \"Mozilla/5.0 (Windows NT 10.0; Win64; x64) AppleWebKit/537.36 (KHTML, like Gecko) Chrome/67.0.3396.99 Safari/537.36\"\n",
    "}\n",
    "\n",
    "params = {\n",
    "    \"q\":\"한글\"\n",
    "}\n",
    "\n",
    "url = \"https://www.google.co.kr/search\"\n",
    "# https://www.google.co.kr/search?\n",
    "#     q=%EC%B6%94%EC%8B%A0%EC%88%98\n",
    "#     &oq=%EC%B6%94%EC%8B%A0%EC%88%98\n",
    "#     &aqs=chrome..69i57j0j69i60j69i61l2j0.10751j0j7\n",
    "#     &sourceid=chrome\n",
    "#     &ie=UTF-8"
   ]
  },
  {
   "cell_type": "code",
   "execution_count": 6,
   "metadata": {},
   "outputs": [],
   "source": [
    "html = requests.get(url, params=params, headers=headers) \n",
    "#해당 헤더, 파라미터와 url에 대한 request"
   ]
  },
  {
   "cell_type": "code",
   "execution_count": 7,
   "metadata": {},
   "outputs": [
    {
     "data": {
      "text/plain": [
       "'UTF-8'"
      ]
     },
     "execution_count": 7,
     "metadata": {},
     "output_type": "execute_result"
    }
   ],
   "source": [
    "html.encoding"
   ]
  },
  {
   "cell_type": "code",
   "execution_count": 8,
   "metadata": {},
   "outputs": [],
   "source": [
    "dom = BeautifulSoup(html.text,\"lxml\")"
   ]
  },
  {
   "cell_type": "code",
   "execution_count": 9,
   "metadata": {},
   "outputs": [
    {
     "data": {
      "text/plain": [
       "bs4.BeautifulSoup"
      ]
     },
     "execution_count": 9,
     "metadata": {},
     "output_type": "execute_result"
    }
   ],
   "source": [
    "type(dom) #이게 bs4 최상위에 있는 객체노드"
   ]
  },
  {
   "cell_type": "code",
   "execution_count": 10,
   "metadata": {},
   "outputs": [
    {
     "data": {
      "text/plain": [
       "[<a href=\"/search?q=%ED%95%9C%EA%B8%80&amp;gbv=1&amp;sei=TO5SW9XQO4yF8wWtlp7oAg\">여기</a>,\n",
       " <a aria-expanded=\"false\" class=\"gb_b gb_dc\" data-ogsr-alt=\"\" href=\"https://www.google.co.kr/intl/ko/options/\" role=\"button\" tabindex=\"0\" title=\"Google 앱\"></a>,\n",
       " <a class=\"gb_5f gb_Aa gb_Eb\" href=\"https://accounts.google.com/ServiceLogin?hl=ko&amp;passive=true&amp;continue=https://www.google.co.kr/search%3Fq%3D%25ED%2595%259C%25EA%25B8%2580\" id=\"gb_70\" target=\"_top\">로그인</a>,\n",
       " <a data-hveid=\"3\" href=\"https://www.google.co.kr/webhp?hl=ko&amp;sa=X&amp;ved=0ahUKEwjVprjl4q_cAhWMwrwKHS2LBy0QPAgD\" id=\"logo\" title=\"Google 홈페이지로 이동\"><img alt=\"Google\" height=\"44\" src=\"/images/branding/googlelogo/2x/googlelogo_color_120x44dp.png\" width=\"120\"/></a>,\n",
       " <a href=\"//support.google.com/websearch/answer/186645?hl=ko\">자세히 알아보기</a>,\n",
       " <a class=\"duf3 aciXEb\" data-async-trigger=\"duf3-46\" data-ved=\"0ahUKEwjVprjl4q_cAhWMwrwKHS2LBy0Qtw8IBQ\" href=\"#\" id=\"sbfblt\" jsaction=\"async.u\">부적절한 예상 검색어 신고</a>,\n",
       " <a class=\"q qs\" href=\"/search?q=%ED%95%9C%EA%B8%80&amp;source=lnms&amp;tbm=isch&amp;sa=X&amp;ved=0ahUKEwjVprjl4q_cAhWMwrwKHS2LBy0Q_AUICigB\">이미지</a>,\n",
       " <a class=\"q qs\" href=\"/search?q=%ED%95%9C%EA%B8%80&amp;source=lnms&amp;tbm=vid&amp;sa=X&amp;ved=0ahUKEwjVprjl4q_cAhWMwrwKHS2LBy0Q_AUICygC\">동영상</a>,\n",
       " <a class=\"q qs\" href=\"/search?q=%ED%95%9C%EA%B8%80&amp;source=lnms&amp;tbm=nws&amp;sa=X&amp;ved=0ahUKEwjVprjl4q_cAhWMwrwKHS2LBy0Q_AUIDCgD\">뉴스</a>,\n",
       " <a class=\"q qs\" href=\"/search?q=%ED%95%9C%EA%B8%80&amp;source=lnms&amp;tbm=bks&amp;sa=X&amp;ved=0ahUKEwjVprjl4q_cAhWMwrwKHS2LBy0Q_AUIDSgE\">도서</a>,\n",
       " <a aria-haspopup=\"true\" class=\"Cq34nf hdtb-dd-b\" jsaction=\"BVg1Q\" jsname=\"LgbsSe\" role=\"button\" tabindex=\"0\">더보기</a>,\n",
       " <a class=\"f9UGee q qs\" href=\"https://maps.google.co.kr/maps?q=%ED%95%9C%EA%B8%80&amp;um=1&amp;ie=UTF-8&amp;sa=X&amp;ved=0ahUKEwjVprjl4q_cAhWMwrwKHS2LBy0Q_AUIDygA\" jsaction=\"mouseover:sbHm2b\" role=\"menuitem\" tabindex=\"-1\">지도</a>,\n",
       " <a class=\"f9UGee q qs\" href=\"/search?q=%ED%95%9C%EA%B8%80&amp;source=lnms&amp;tbm=fin&amp;sa=X&amp;ved=0ahUKEwjVprjl4q_cAhWMwrwKHS2LBy0Q_AUIECgB\" jsaction=\"mouseover:sbHm2b\" role=\"menuitem\" tabindex=\"-1\">금융</a>,\n",
       " <a aria-haspopup=\"true\" class=\"Cq34nf hdtb-dd-b\" href=\"/preferences\" id=\"abar_button_opt\" jsaction=\"BVg1Q\" jsname=\"LgbsSe\" role=\"button\" tabindex=\"0\">설정</a>,\n",
       " <a class=\"f9UGee\" data-ved=\"0ahUKEwjVprjl4q_cAhWMwrwKHS2LBy0Qo_oBCBI\" href=\"/preferences?hl=ko&amp;prev=https://www.google.co.kr/search?q%3D%25ED%2595%259C%25EA%25B8%2580\" jsaction=\"mouseover:sbHm2b\" role=\"menuitem\" tabindex=\"-1\">검색 환경설정</a>,\n",
       " <a class=\"f9UGee\" data-ved=\"0ahUKEwjVprjl4q_cAhWMwrwKHS2LBy0Qo_oBCBM\" href=\"/preferences?hl=ko&amp;prev=https://www.google.co.kr/search?q%3D%25ED%2595%259C%25EA%25B8%2580#languages\" jsaction=\"mouseover:sbHm2b\" role=\"menuitem\" tabindex=\"-1\"><span>언어</span><span style=\"margin-left:3px\"> (Languages)</span></a>,\n",
       " <a class=\"f9UGee\" data-ved=\"0ahUKEwjVprjl4q_cAhWMwrwKHS2LBy0Qo_oBCBQ\" href=\"/setprefs?safeui=on&amp;sig=0_UauCb8okW0qs4DgzyqrWLxLAd0Q%3D&amp;prev=https://www.google.co.kr/search?q%3D%25ED%2595%259C%25EA%25B8%2580\" id=\"safesearch\" jsaction=\"mouseover:sbHm2b;m.cbbl\" role=\"menuitem\" tabindex=\"-1\"><div>세이프서치 사용 설정</div></a>,\n",
       " <a class=\"f9UGee\" data-ved=\"0ahUKEwjVprjl4q_cAhWMwrwKHS2LBy0Qo_oBCBU\" href=\"/advanced_search?q=%ED%95%9C%EA%B8%80&amp;hl=ko\" jsaction=\"mouseover:sbHm2b\" role=\"menuitem\" tabindex=\"-1\">고급검색</a>,\n",
       " <a class=\"f9UGee\" data-ved=\"0ahUKEwjVprjl4q_cAhWMwrwKHS2LBy0Qo_oBCBY\" href=\"/history/optout?hl=ko\" jsaction=\"mouseover:sbHm2b\" role=\"menuitem\" tabindex=\"-1\">기록</a>,\n",
       " <a class=\"f9UGee\" data-ved=\"0ahUKEwjVprjl4q_cAhWMwrwKHS2LBy0Qo_oBCBc\" href=\"//support.google.com/websearch/?source=g&amp;hl=ko\" jsaction=\"mouseover:sbHm2b\" role=\"menuitem\" tabindex=\"-1\">검색 도움말</a>,\n",
       " <a class=\"hdtb-tl\" data-ved=\"0ahUKEwjVprjl4q_cAhWMwrwKHS2LBy0Q2x8IGA\" id=\"hdtb-tls\" role=\"button\" style=\"display:\" tabindex=\"0\">도구</a>,\n",
       " <a class=\"spell\" id=\"srfl\"></a>,\n",
       " <a class=\"spell_orig\" id=\"sifl\"></a>,\n",
       " <a href=\"https://www.hancom.com/product/productWindowsMain.do\" ping=\"/url?sa=t&amp;source=web&amp;rct=j&amp;url=https://www.hancom.com/product/productWindowsMain.do&amp;ved=2ahUKEwjVprjl4q_cAhWMwrwKHS2LBy0QFjAAegQIARAB\">한컴오피스 - Windows : 한글과컴퓨터</a>,\n",
       " <a aria-expanded=\"false\" aria-haspopup=\"true\" aria-label=\"검색결과 옵션\" class=\"GHDvEf ab_button\" data-ved=\"2ahUKEwjVprjl4q_cAhWMwrwKHS2LBy0Q7B0wAHoECAEQAg\" href=\"#\" id=\"am-b0\" jsaction=\"m.tdd;keydown:m.hbke;keypress:m.mskpe\" role=\"button\"><span class=\"mn-dwn-arw\"></span></a>,\n",
       " <a class=\"fl\" href=\"https://webcache.googleusercontent.com/search?q=cache:c2hqAGFe1zUJ:https://www.hancom.com/product/productWindowsMain.do+&amp;cd=1&amp;hl=ko&amp;ct=clnk&amp;gl=kr\" ping=\"/url?sa=t&amp;source=web&amp;rct=j&amp;url=https://webcache.googleusercontent.com/search%3Fq%3Dcache:c2hqAGFe1zUJ:https://www.hancom.com/product/productWindowsMain.do%2B%26cd%3D1%26hl%3Dko%26ct%3Dclnk%26gl%3Dkr&amp;ved=2ahUKEwjVprjl4q_cAhWMwrwKHS2LBy0QIDAAegQIARAE\">저장된 페이지</a>,\n",
       " <a class=\"fl\" href=\"/search?q=related:https://www.hancom.com/product/productWindowsMain.do+%ED%95%9C%EA%B8%80&amp;tbo=1&amp;sa=X&amp;ved=2ahUKEwjVprjl4q_cAhWMwrwKHS2LBy0QHzAAegQIARAF\">유사한 페이지</a>,\n",
       " <a href=\"http://www.hancom.com/downLoad.downPU.do\" ping=\"/url?sa=t&amp;source=web&amp;rct=j&amp;url=http://www.hancom.com/downLoad.downPU.do&amp;ved=2ahUKEwjVprjl4q_cAhWMwrwKHS2LBy0QFjABegQIAhAB\">다운로드 : 한글과컴퓨터 - Hancom</a>,\n",
       " <a aria-expanded=\"false\" aria-haspopup=\"true\" aria-label=\"검색결과 옵션\" class=\"GHDvEf ab_button\" data-ved=\"2ahUKEwjVprjl4q_cAhWMwrwKHS2LBy0Q7B0wAXoECAIQAg\" href=\"#\" id=\"am-b1\" jsaction=\"m.tdd;keydown:m.hbke;keypress:m.mskpe\" role=\"button\"><span class=\"mn-dwn-arw\"></span></a>,\n",
       " <a class=\"fl\" href=\"http://webcache.googleusercontent.com/search?q=cache:G9zYJhBtY5UJ:www.hancom.com/downLoad.downPU.do+&amp;cd=2&amp;hl=ko&amp;ct=clnk&amp;gl=kr\" ping=\"/url?sa=t&amp;source=web&amp;rct=j&amp;url=http://webcache.googleusercontent.com/search%3Fq%3Dcache:G9zYJhBtY5UJ:www.hancom.com/downLoad.downPU.do%2B%26cd%3D2%26hl%3Dko%26ct%3Dclnk%26gl%3Dkr&amp;ved=2ahUKEwjVprjl4q_cAhWMwrwKHS2LBy0QIDABegQIAhAE\">저장된 페이지</a>,\n",
       " <a href=\"https://namu.wiki/w/%ED%95%9C%EA%B8%80\" ping=\"/url?sa=t&amp;source=web&amp;rct=j&amp;url=https://namu.wiki/w/%25ED%2595%259C%25EA%25B8%2580&amp;ved=2ahUKEwjVprjl4q_cAhWMwrwKHS2LBy0QFjACegQIABAB\">한글 - 나무위키</a>,\n",
       " <a aria-expanded=\"false\" aria-haspopup=\"true\" aria-label=\"검색결과 옵션\" class=\"GHDvEf ab_button\" data-ved=\"2ahUKEwjVprjl4q_cAhWMwrwKHS2LBy0Q7B0wAnoECAAQAg\" href=\"#\" id=\"am-b2\" jsaction=\"m.tdd;keydown:m.hbke;keypress:m.mskpe\" role=\"button\"><span class=\"mn-dwn-arw\"></span></a>,\n",
       " <a class=\"fl\" href=\"/search?q=related:https://namu.wiki/w/%25ED%2595%259C%25EA%25B8%2580+%ED%95%9C%EA%B8%80&amp;tbo=1&amp;sa=X&amp;ved=2ahUKEwjVprjl4q_cAhWMwrwKHS2LBy0QHzACegQIABAE\">유사한 페이지</a>,\n",
       " <a class=\"fl\" href=\"https://namu.wiki/w/%ED%95%9C%EC%BB%B4%EC%98%A4%ED%94%BC%EC%8A%A4%20%ED%95%9C%EA%B8%80\" ping=\"/url?sa=t&amp;source=web&amp;rct=j&amp;url=https://namu.wiki/w/%25ED%2595%259C%25EC%25BB%25B4%25EC%2598%25A4%25ED%2594%25BC%25EC%258A%25A4%2520%25ED%2595%259C%25EA%25B8%2580&amp;ved=2ahUKEwjVprjl4q_cAhWMwrwKHS2LBy0Q0gIoADACegQIABAG\">한컴오피스 한글</a>,\n",
       " <a class=\"fl\" href=\"https://namu.wiki/w/%ED%95%9C%EA%B8%80/%EC%97%AD%EC%82%AC\" ping=\"/url?sa=t&amp;source=web&amp;rct=j&amp;url=https://namu.wiki/w/%25ED%2595%259C%25EA%25B8%2580/%25EC%2597%25AD%25EC%2582%25AC&amp;ved=2ahUKEwjVprjl4q_cAhWMwrwKHS2LBy0Q0gIoATACegQIABAH\">한글/역사</a>,\n",
       " <a class=\"fl\" href=\"https://namu.wiki/w/%ED%95%9C%EA%B8%80%20%EC%9E%90%EB%AA%A8\" ping=\"/url?sa=t&amp;source=web&amp;rct=j&amp;url=https://namu.wiki/w/%25ED%2595%259C%25EA%25B8%2580%2520%25EC%259E%2590%25EB%25AA%25A8&amp;ved=2ahUKEwjVprjl4q_cAhWMwrwKHS2LBy0Q0gIoAjACegQIABAI\">한글 자모</a>,\n",
       " <a class=\"fl\" href=\"https://namu.wiki/w/%ED%95%9C%EA%B8%80/%EB%85%BC%EC%9F%81\" ping=\"/url?sa=t&amp;source=web&amp;rct=j&amp;url=https://namu.wiki/w/%25ED%2595%259C%25EA%25B8%2580/%25EB%2585%25BC%25EC%259F%2581&amp;ved=2ahUKEwjVprjl4q_cAhWMwrwKHS2LBy0Q0gIoAzACegQIABAJ\">한글/논쟁</a>,\n",
       " <a data-ved=\"2ahUKEwjVprjl4q_cAhWMwrwKHS2LBy0QwqsBMAN6BAgGEAQ\" href=\"https://www.youtube.com/watch?v=MujbEJkIimA\" ping=\"/url?sa=t&amp;source=web&amp;rct=j&amp;url=https://www.youtube.com/watch%3Fv%3DMujbEJkIimA&amp;ved=2ahUKEwjVprjl4q_cAhWMwrwKHS2LBy0QwqsBMAN6BAgGEAQ\"><div><div class=\"MAMEle\" style=\"height:115px\"><div class=\"Rd246b\" style=\"height:115px;width:205px\"><g-img><img alt=\"\" class=\"rISBZc M4dUYb\" data-deferred=\"1\" height=\"115\" id=\"dimg_1\" src=\"data:image/gif;base64,R0lGODlhAQABAIAAAP///////yH5BAEKAAEALAAAAAABAAEAAAICTAEAOw==\" width=\"205\"/></g-img></div><div class=\"OIL2le\"><span class=\"qB1pae\"></span></div><div class=\"k8B8Pc\">2:06</div></div></div><div class=\"wCIBKb\"><div class=\"KiGY3d mB12kf JRhSae ZyAH8d\" style=\"-webkit-line-clamp:5;height:6.875em\">6가지 한글이 우수한 문자인 이유! 6 Reasons Why Hangul is Amazing</div></div></a>,\n",
       " <a data-ved=\"2ahUKEwjVprjl4q_cAhWMwrwKHS2LBy0QwqsBMAR6BAgGEAc\" href=\"https://www.youtube.com/watch?v=OHcOyZl8iHY\" ping=\"/url?sa=t&amp;source=web&amp;rct=j&amp;url=https://www.youtube.com/watch%3Fv%3DOHcOyZl8iHY&amp;ved=2ahUKEwjVprjl4q_cAhWMwrwKHS2LBy0QwqsBMAR6BAgGEAc\"><div><div class=\"MAMEle\" style=\"height:115px\"><div class=\"Rd246b\" style=\"height:115px;width:205px\"><g-img><img alt=\"\" class=\"rISBZc M4dUYb\" data-deferred=\"1\" height=\"115\" id=\"dimg_3\" src=\"data:image/gif;base64,R0lGODlhAQABAIAAAP///////yH5BAEKAAEALAAAAAABAAEAAAICTAEAOw==\" width=\"205\"/></g-img></div><div class=\"OIL2le\"><span class=\"qB1pae\"></span></div><div class=\"k8B8Pc\">51:08</div></div></div><div class=\"wCIBKb\"><div class=\"KiGY3d mB12kf JRhSae ZyAH8d\" style=\"-webkit-line-clamp:5;height:6.875em\">[바른 한국어 1급] 1-1 한글 Ⅰ</div></div></a>,\n",
       " <a data-ved=\"2ahUKEwjVprjl4q_cAhWMwrwKHS2LBy0QwqsBMAV6BAgGEAo\" href=\"https://www.youtube.com/watch?v=WuLV5JYU-lA\" ping=\"/url?sa=t&amp;source=web&amp;rct=j&amp;url=https://www.youtube.com/watch%3Fv%3DWuLV5JYU-lA&amp;ved=2ahUKEwjVprjl4q_cAhWMwrwKHS2LBy0QwqsBMAV6BAgGEAo\"><div><div class=\"MAMEle\" style=\"height:115px\"><div class=\"Rd246b\" style=\"height:115px;width:205px\"><g-img><img alt=\"\" class=\"rISBZc M4dUYb\" data-deferred=\"1\" height=\"115\" id=\"dimg_5\" src=\"data:image/gif;base64,R0lGODlhAQABAIAAAP///////yH5BAEKAAEALAAAAAABAAEAAAICTAEAOw==\" width=\"205\"/></g-img></div><div class=\"OIL2le\"><span class=\"qB1pae\"></span></div><div class=\"k8B8Pc\">8:50</div></div></div><div class=\"wCIBKb\"><div class=\"KiGY3d mB12kf JRhSae ZyAH8d\" style=\"-webkit-line-clamp:5;height:6.875em\">다큐 오늘 - 모든 소리를 쓸 수 있다, 한글</div></div></a>,\n",
       " <a data-ved=\"2ahUKEwjVprjl4q_cAhWMwrwKHS2LBy0QwqsBMAZ6BAgGEA0\" href=\"https://www.youtube.com/watch?v=SuQEDKZpKsg\" ping=\"/url?sa=t&amp;source=web&amp;rct=j&amp;url=https://www.youtube.com/watch%3Fv%3DSuQEDKZpKsg&amp;ved=2ahUKEwjVprjl4q_cAhWMwrwKHS2LBy0QwqsBMAZ6BAgGEA0\"><div><div class=\"MAMEle\" style=\"height:115px\"><div class=\"Rd246b\" style=\"height:115px;width:205px\"><g-img><img alt=\"\" class=\"rISBZc M4dUYb\" data-src=\"https://encrypted-tbn0.gstatic.com/images?q=tbn:ANd9GcS5KmPu1A-f7tF0b8q1JL4vyOMFkvbpd_GTGfEEMu8-J1Dd9etanv5kZFs&amp;usqp=CAI\" height=\"115\" width=\"205\"/></g-img></div><div class=\"OIL2le\"><span class=\"qB1pae\"></span></div><div class=\"k8B8Pc\">5:02</div></div></div><div class=\"wCIBKb\"><div class=\"KiGY3d mB12kf JRhSae ZyAH8d\" style=\"-webkit-line-clamp:5;height:6.875em\">한글 없이 한국어를 읽는다면? Reading Korean without Hangeul ...</div></div></a>,\n",
       " <a data-ved=\"2ahUKEwjVprjl4q_cAhWMwrwKHS2LBy0QwqsBMAd6BAgGEBA\" href=\"https://www.youtube.com/watch?v=FF6gQ3vJiVY\" ping=\"/url?sa=t&amp;source=web&amp;rct=j&amp;url=https://www.youtube.com/watch%3Fv%3DFF6gQ3vJiVY&amp;ved=2ahUKEwjVprjl4q_cAhWMwrwKHS2LBy0QwqsBMAd6BAgGEBA\"><div><div class=\"MAMEle\" style=\"height:115px\"><div class=\"Rd246b\" style=\"height:115px;width:205px\"><g-img><img alt=\"\" class=\"rISBZc M4dUYb\" data-src=\"https://encrypted-tbn0.gstatic.com/images?q=tbn:ANd9GcTX-DKEgGm2aUtT2Rf_exhF8pBKWftNwUWw67FLZvEgLovpal9npzB_71Y&amp;usqp=CAI\" height=\"115\" width=\"205\"/></g-img></div><div class=\"OIL2le\"><span class=\"qB1pae\"></span></div><div class=\"k8B8Pc\">15:15</div></div></div><div class=\"wCIBKb\"><div class=\"KiGY3d mB12kf JRhSae ZyAH8d\" style=\"-webkit-line-clamp:5;height:6.875em\">EBS 한글날 특집- 위대한 문자,한글의 재발견_#002</div></div></a>,\n",
       " <a data-ved=\"2ahUKEwjVprjl4q_cAhWMwrwKHS2LBy0QwqsBMAh6BAgGEBM\" href=\"https://www.youtube.com/watch?v=YBokw-buDBc\" ping=\"/url?sa=t&amp;source=web&amp;rct=j&amp;url=https://www.youtube.com/watch%3Fv%3DYBokw-buDBc&amp;ved=2ahUKEwjVprjl4q_cAhWMwrwKHS2LBy0QwqsBMAh6BAgGEBM\"><div><div class=\"MAMEle\" style=\"height:115px\"><div class=\"Rd246b\" style=\"height:115px;width:205px\"><g-img><img alt=\"\" class=\"rISBZc M4dUYb\" data-src=\"https://encrypted-tbn0.gstatic.com/images?q=tbn:ANd9GcSBhNjJhlC_j11gY9DuEoRoYVN1nFe4YttBTWgt_NVVVC48Y6fKuujmO52my2niZ2kSU6pSji8&amp;usqp=CAI\" height=\"115\" width=\"205\"/></g-img></div><div class=\"OIL2le\"><span class=\"qB1pae\"></span></div><div class=\"k8B8Pc\">2:46</div></div></div><div class=\"wCIBKb\"><div class=\"KiGY3d mB12kf JRhSae ZyAH8d\" style=\"-webkit-line-clamp:5;height:6.875em\">(해외 반응) 한글이 쉬워서 하루만에 다 배웠다는 미국녀??</div></div></a>,\n",
       " <a data-ved=\"2ahUKEwjVprjl4q_cAhWMwrwKHS2LBy0QwqsBMAl6BAgGEBY\" href=\"https://www.youtube.com/watch?v=FV4A85PX_90\" ping=\"/url?sa=t&amp;source=web&amp;rct=j&amp;url=https://www.youtube.com/watch%3Fv%3DFV4A85PX_90&amp;ved=2ahUKEwjVprjl4q_cAhWMwrwKHS2LBy0QwqsBMAl6BAgGEBY\"><div><div class=\"MAMEle\" style=\"height:115px\"><div class=\"Rd246b\" style=\"height:115px;width:205px\"><g-img><img alt=\"\" class=\"rISBZc M4dUYb\" data-src=\"https://encrypted-tbn0.gstatic.com/images?q=tbn:ANd9GcSbeVaVwbg1AyENQGBIzCcQsydNQciq4qak9s7_x1Xi4Wc_btS2pXTIMrU&amp;usqp=CAI\" height=\"115\" width=\"205\"/></g-img></div><div class=\"OIL2le\"><span class=\"qB1pae\"></span></div><div class=\"k8B8Pc\">1:32</div></div></div><div class=\"wCIBKb\"><div class=\"KiGY3d mB12kf JRhSae ZyAH8d\" style=\"-webkit-line-clamp:5;height:6.875em\">매일매일 가나다 | 한글 가나다 | 핑크퐁 한글송 | 핑크퐁! 인기동요</div></div></a>,\n",
       " <a data-ved=\"2ahUKEwjVprjl4q_cAhWMwrwKHS2LBy0QwqsBMAp6BAgGEBk\" href=\"https://www.youtube.com/watch?v=2yFCh54rOJU\" ping=\"/url?sa=t&amp;source=web&amp;rct=j&amp;url=https://www.youtube.com/watch%3Fv%3D2yFCh54rOJU&amp;ved=2ahUKEwjVprjl4q_cAhWMwrwKHS2LBy0QwqsBMAp6BAgGEBk\"><div><div class=\"MAMEle\" style=\"height:115px\"><div class=\"Rd246b\" style=\"height:115px;width:205px\"><g-img><img alt=\"\" class=\"rISBZc M4dUYb\" data-src=\"https://encrypted-tbn0.gstatic.com/images?q=tbn:ANd9GcQJLHV6hwDRTIDszuSEyFYQlRz4hFF-6Zr2qSy2025pkeakuWtwGuZbJ2k&amp;usqp=CAI\" height=\"115\" width=\"205\"/></g-img></div><div class=\"OIL2le\"><span class=\"qB1pae\"></span></div><div class=\"k8B8Pc\">2:43</div></div></div><div class=\"wCIBKb\"><div class=\"KiGY3d mB12kf JRhSae ZyAH8d\" style=\"-webkit-line-clamp:5;height:6.875em\">한글공부 애니메이션 Learn Hangul Animation</div></div></a>,\n",
       " <a data-ved=\"2ahUKEwjVprjl4q_cAhWMwrwKHS2LBy0QwqsBMAt6BAgGEBw\" href=\"https://www.youtube.com/watch?v=3WpFLDNk8zo\" ping=\"/url?sa=t&amp;source=web&amp;rct=j&amp;url=https://www.youtube.com/watch%3Fv%3D3WpFLDNk8zo&amp;ved=2ahUKEwjVprjl4q_cAhWMwrwKHS2LBy0QwqsBMAt6BAgGEBw\"><div><div class=\"MAMEle\" style=\"height:115px\"><div class=\"Rd246b\" style=\"height:115px;width:205px\"><g-img><img alt=\"\" class=\"rISBZc M4dUYb\" data-src=\"https://encrypted-tbn0.gstatic.com/images?q=tbn:ANd9GcTpWAh_Ei8WybHcC3fori3o3_NGMQ9YYBPEHYz1HryafF3VTyMHto7X_i3YolpcAMuhXQWucWg&amp;usqp=CAI\" height=\"115\" width=\"205\"/></g-img></div><div class=\"OIL2le\"><span class=\"qB1pae\"></span></div><div class=\"k8B8Pc\">7:15</div></div></div><div class=\"wCIBKb\"><div class=\"KiGY3d mB12kf JRhSae ZyAH8d\" style=\"-webkit-line-clamp:5;height:6.875em\">한국문화소개 비디오클립 2 - 한글</div></div></a>,\n",
       " <a data-ved=\"2ahUKEwjVprjl4q_cAhWMwrwKHS2LBy0QwqsBMAx6BAgGEB8\" href=\"https://www.youtube.com/watch?v=CYUKxTl7U24\" ping=\"/url?sa=t&amp;source=web&amp;rct=j&amp;url=https://www.youtube.com/watch%3Fv%3DCYUKxTl7U24&amp;ved=2ahUKEwjVprjl4q_cAhWMwrwKHS2LBy0QwqsBMAx6BAgGEB8\"><div><div class=\"MAMEle\" style=\"height:115px\"><div class=\"Rd246b\" style=\"height:115px;width:205px\"><g-img><img alt=\"\" class=\"rISBZc M4dUYb\" data-src=\"https://encrypted-tbn0.gstatic.com/images?q=tbn:ANd9GcQJGxVJwzcKhpR2Znl0-JqQH8spOW86xyUE8j4Tkg96f3vidNRtO5RyRBk&amp;usqp=CAI\" height=\"115\" width=\"205\"/></g-img></div><div class=\"OIL2le\"><span class=\"qB1pae\"></span></div><div class=\"k8B8Pc\">10:38</div></div></div><div class=\"wCIBKb\"><div class=\"KiGY3d mB12kf JRhSae ZyAH8d\" style=\"-webkit-line-clamp:5;height:6.875em\">[한글자막] 이러지마 제발 뮤비의 충격반전 장면 해외반응 케이윌</div></div></a>,\n",
       " <a href=\"https://namu.wiki/w/%ED%95%9C%EC%BB%B4%EC%98%A4%ED%94%BC%EC%8A%A4%20%ED%95%9C%EA%B8%80\" ping=\"/url?sa=t&amp;source=web&amp;rct=j&amp;url=https://namu.wiki/w/%25ED%2595%259C%25EC%25BB%25B4%25EC%2598%25A4%25ED%2594%25BC%25EC%258A%25A4%2520%25ED%2595%259C%25EA%25B8%2580&amp;ved=2ahUKEwjVprjl4q_cAhWMwrwKHS2LBy0QFjANegQIAxAB\">한컴오피스 한글 - 나무위키</a>,\n",
       " <a aria-expanded=\"false\" aria-haspopup=\"true\" aria-label=\"검색결과 옵션\" class=\"GHDvEf ab_button\" data-ved=\"2ahUKEwjVprjl4q_cAhWMwrwKHS2LBy0Q7B0wDXoECAMQAg\" href=\"#\" id=\"am-b13\" jsaction=\"m.tdd;keydown:m.hbke;keypress:m.mskpe\" role=\"button\"><span class=\"mn-dwn-arw\"></span></a>,\n",
       " <a class=\"fl\" href=\"/search?q=related:https://namu.wiki/w/%25ED%2595%259C%25EC%25BB%25B4%25EC%2598%25A4%25ED%2594%25BC%25EC%258A%25A4%2520%25ED%2595%259C%25EA%25B8%2580+%ED%95%9C%EA%B8%80&amp;tbo=1&amp;sa=X&amp;ved=2ahUKEwjVprjl4q_cAhWMwrwKHS2LBy0QHzANegQIAxAE\">유사한 페이지</a>,\n",
       " <a href=\"https://ko.wikipedia.org/wiki/%ED%95%9C%EA%B8%80\" ping=\"/url?sa=t&amp;source=web&amp;rct=j&amp;url=https://ko.wikipedia.org/wiki/%25ED%2595%259C%25EA%25B8%2580&amp;ved=2ahUKEwjVprjl4q_cAhWMwrwKHS2LBy0QFjAOegQIBBAB\">한글 - 위키백과, 우리 모두의 백과사전</a>,\n",
       " <a aria-expanded=\"false\" aria-haspopup=\"true\" aria-label=\"검색결과 옵션\" class=\"GHDvEf ab_button\" data-ved=\"2ahUKEwjVprjl4q_cAhWMwrwKHS2LBy0Q7B0wDnoECAQQAg\" href=\"#\" id=\"am-b14\" jsaction=\"m.tdd;keydown:m.hbke;keypress:m.mskpe\" role=\"button\"><span class=\"mn-dwn-arw\"></span></a>,\n",
       " <a class=\"fl\" href=\"https://webcache.googleusercontent.com/search?q=cache:WFDRqFWp6qkJ:https://ko.wikipedia.org/wiki/%25ED%2595%259C%25EA%25B8%2580+&amp;cd=15&amp;hl=ko&amp;ct=clnk&amp;gl=kr\" ping=\"/url?sa=t&amp;source=web&amp;rct=j&amp;url=https://webcache.googleusercontent.com/search%3Fq%3Dcache:WFDRqFWp6qkJ:https://ko.wikipedia.org/wiki/%2525ED%252595%25259C%2525EA%2525B8%252580%2B%26cd%3D15%26hl%3Dko%26ct%3Dclnk%26gl%3Dkr&amp;ved=2ahUKEwjVprjl4q_cAhWMwrwKHS2LBy0QIDAOegQIBBAE\">저장된 페이지</a>,\n",
       " <a class=\"fl\" href=\"/search?q=related:https://ko.wikipedia.org/wiki/%25ED%2595%259C%25EA%25B8%2580+%ED%95%9C%EA%B8%80&amp;tbo=1&amp;sa=X&amp;ved=2ahUKEwjVprjl4q_cAhWMwrwKHS2LBy0QHzAOegQIBBAF\">유사한 페이지</a>,\n",
       " <a href=\"https://ko.wikibooks.org/wiki/%ED%95%9C%EA%B5%AD%EC%96%B4_%EC%9E%85%EB%AC%B8/%ED%95%9C%EA%B8%80_%EC%9E%90%EB%AA%A8\" ping=\"/url?sa=t&amp;source=web&amp;rct=j&amp;url=https://ko.wikibooks.org/wiki/%25ED%2595%259C%25EA%25B5%25AD%25EC%2596%25B4_%25EC%259E%2585%25EB%25AC%25B8/%25ED%2595%259C%25EA%25B8%2580_%25EC%259E%2590%25EB%25AA%25A8&amp;ved=2ahUKEwjVprjl4q_cAhWMwrwKHS2LBy0QFjAPegQIBRAB\">한국어 입문/한글 자모 - 위키책</a>,\n",
       " <a aria-expanded=\"false\" aria-haspopup=\"true\" aria-label=\"검색결과 옵션\" class=\"GHDvEf ab_button\" data-ved=\"2ahUKEwjVprjl4q_cAhWMwrwKHS2LBy0Q7B0wD3oECAUQAg\" href=\"#\" id=\"am-b15\" jsaction=\"m.tdd;keydown:m.hbke;keypress:m.mskpe\" role=\"button\"><span class=\"mn-dwn-arw\"></span></a>,\n",
       " <a class=\"fl\" href=\"https://webcache.googleusercontent.com/search?q=cache:pORgG4d9jF0J:https://ko.wikibooks.org/wiki/%25ED%2595%259C%25EA%25B5%25AD%25EC%2596%25B4_%25EC%259E%2585%25EB%25AC%25B8/%25ED%2595%259C%25EA%25B8%2580_%25EC%259E%2590%25EB%25AA%25A8+&amp;cd=16&amp;hl=ko&amp;ct=clnk&amp;gl=kr\" ping=\"/url?sa=t&amp;source=web&amp;rct=j&amp;url=https://webcache.googleusercontent.com/search%3Fq%3Dcache:pORgG4d9jF0J:https://ko.wikibooks.org/wiki/%2525ED%252595%25259C%2525EA%2525B5%2525AD%2525EC%252596%2525B4_%2525EC%25259E%252585%2525EB%2525AC%2525B8/%2525ED%252595%25259C%2525EA%2525B8%252580_%2525EC%25259E%252590%2525EB%2525AA%2525A8%2B%26cd%3D16%26hl%3Dko%26ct%3Dclnk%26gl%3Dkr&amp;ved=2ahUKEwjVprjl4q_cAhWMwrwKHS2LBy0QIDAPegQIBRAE\">저장된 페이지</a>,\n",
       " <a class=\"fl\" href=\"/search?q=related:https://ko.wikibooks.org/wiki/%25ED%2595%259C%25EA%25B5%25AD%25EC%2596%25B4_%25EC%259E%2585%25EB%25AC%25B8/%25ED%2595%259C%25EA%25B8%2580_%25EC%259E%2590%25EB%25AA%25A8+%ED%95%9C%EA%B8%80&amp;tbo=1&amp;sa=X&amp;ved=2ahUKEwjVprjl4q_cAhWMwrwKHS2LBy0QHzAPegQIBRAF\">유사한 페이지</a>,\n",
       " <a href=\"https://www.korean.go.kr/hangeul/\" ping=\"/url?sa=t&amp;source=web&amp;rct=j&amp;url=https://www.korean.go.kr/hangeul/&amp;ved=2ahUKEwjVprjl4q_cAhWMwrwKHS2LBy0QFjAQegQIBxAB\">알고 싶은 한글</a>,\n",
       " <a aria-expanded=\"false\" aria-haspopup=\"true\" aria-label=\"검색결과 옵션\" class=\"GHDvEf ab_button\" data-ved=\"2ahUKEwjVprjl4q_cAhWMwrwKHS2LBy0Q7B0wEHoECAcQAg\" href=\"#\" id=\"am-b16\" jsaction=\"m.tdd;keydown:m.hbke;keypress:m.mskpe\" role=\"button\"><span class=\"mn-dwn-arw\"></span></a>,\n",
       " <a class=\"fl\" href=\"https://webcache.googleusercontent.com/search?q=cache:zHfMhxG5xDMJ:https://www.korean.go.kr/hangeul/+&amp;cd=17&amp;hl=ko&amp;ct=clnk&amp;gl=kr\" ping=\"/url?sa=t&amp;source=web&amp;rct=j&amp;url=https://webcache.googleusercontent.com/search%3Fq%3Dcache:zHfMhxG5xDMJ:https://www.korean.go.kr/hangeul/%2B%26cd%3D17%26hl%3Dko%26ct%3Dclnk%26gl%3Dkr&amp;ved=2ahUKEwjVprjl4q_cAhWMwrwKHS2LBy0QIDAQegQIBxAE\">저장된 페이지</a>,\n",
       " <a class=\"fl\" href=\"/search?q=related:https://www.korean.go.kr/hangeul/+%ED%95%9C%EA%B8%80&amp;tbo=1&amp;sa=X&amp;ved=2ahUKEwjVprjl4q_cAhWMwrwKHS2LBy0QHzAQegQIBxAF\">유사한 페이지</a>,\n",
       " <a href=\"https://www.microsoft.com/ko-kr/download/details.aspx?id=36772\" ping=\"/url?sa=t&amp;source=web&amp;rct=j&amp;url=https://www.microsoft.com/ko-kr/download/details.aspx%3Fid%3D36772&amp;ved=2ahUKEwjVprjl4q_cAhWMwrwKHS2LBy0QFjARegQICBAB\">Download Microsoft Word를 위한 아래아한글 문서 변환 도구 from ...</a>,\n",
       " <a aria-expanded=\"false\" aria-haspopup=\"true\" aria-label=\"검색결과 옵션\" class=\"GHDvEf ab_button\" data-ved=\"2ahUKEwjVprjl4q_cAhWMwrwKHS2LBy0Q7B0wEXoECAgQAg\" href=\"#\" id=\"am-b17\" jsaction=\"m.tdd;keydown:m.hbke;keypress:m.mskpe\" role=\"button\"><span class=\"mn-dwn-arw\"></span></a>,\n",
       " <a class=\"fl\" href=\"https://webcache.googleusercontent.com/search?q=cache:Dwkw7nu5zlcJ:https://www.microsoft.com/ko-kr/download/details.aspx%3Fid%3D36772+&amp;cd=18&amp;hl=ko&amp;ct=clnk&amp;gl=kr\" ping=\"/url?sa=t&amp;source=web&amp;rct=j&amp;url=https://webcache.googleusercontent.com/search%3Fq%3Dcache:Dwkw7nu5zlcJ:https://www.microsoft.com/ko-kr/download/details.aspx%253Fid%253D36772%2B%26cd%3D18%26hl%3Dko%26ct%3Dclnk%26gl%3Dkr&amp;ved=2ahUKEwjVprjl4q_cAhWMwrwKHS2LBy0QIDARegQICBAE\">저장된 페이지</a>,\n",
       " <a class=\"fl\" href=\"/search?q=related:https://www.microsoft.com/ko-kr/download/details.aspx%3Fid%3D36772+%ED%95%9C%EA%B8%80&amp;tbo=1&amp;sa=X&amp;ved=2ahUKEwjVprjl4q_cAhWMwrwKHS2LBy0QHzARegQICBAF\">유사한 페이지</a>,\n",
       " <a href=\"https://www1.president.go.kr/petitions/154276\" ping=\"/url?sa=t&amp;source=web&amp;rct=j&amp;url=https://www1.president.go.kr/petitions/154276&amp;ved=2ahUKEwjVprjl4q_cAhWMwrwKHS2LBy0QFjASegQICRAB\">공공기관 한글(HWP) 독점을 금지시켜 주세요 &gt; 국민청원 &gt; 대한민국 ...</a>,\n",
       " <a aria-expanded=\"false\" aria-haspopup=\"true\" aria-label=\"검색결과 옵션\" class=\"GHDvEf ab_button\" data-ved=\"2ahUKEwjVprjl4q_cAhWMwrwKHS2LBy0Q7B0wEnoECAkQAg\" href=\"#\" id=\"am-b18\" jsaction=\"m.tdd;keydown:m.hbke;keypress:m.mskpe\" role=\"button\"><span class=\"mn-dwn-arw\"></span></a>,\n",
       " <a class=\"fl\" href=\"https://webcache.googleusercontent.com/search?q=cache:RWfKJiMKN48J:https://www1.president.go.kr/petitions/154276+&amp;cd=19&amp;hl=ko&amp;ct=clnk&amp;gl=kr\" ping=\"/url?sa=t&amp;source=web&amp;rct=j&amp;url=https://webcache.googleusercontent.com/search%3Fq%3Dcache:RWfKJiMKN48J:https://www1.president.go.kr/petitions/154276%2B%26cd%3D19%26hl%3Dko%26ct%3Dclnk%26gl%3Dkr&amp;ved=2ahUKEwjVprjl4q_cAhWMwrwKHS2LBy0QIDASegQICRAE\">저장된 페이지</a>,\n",
       " <a href=\"/search?q=%ED%95%9C%EA%B8%80%EC%98%A4%ED%94%BC%EC%8A%A4&amp;sa=X&amp;ved=0ahUKEwjVprjl4q_cAhWMwrwKHS2LBy0Q1QIIxAEoAA\">한글오피스</a>,\n",
       " <a href=\"/search?q=%ED%95%9C%EA%B8%80+2010&amp;sa=X&amp;ved=0ahUKEwjVprjl4q_cAhWMwrwKHS2LBy0Q1QIIxQEoAQ\">한글 2010</a>,\n",
       " <a href=\"/search?q=%ED%95%9C%EA%B8%80+%EC%B2%B4%ED%97%98%ED%8C%90&amp;sa=X&amp;ved=0ahUKEwjVprjl4q_cAhWMwrwKHS2LBy0Q1QIIxgEoAg\">한글 체험판</a>,\n",
       " <a href=\"/search?q=%ED%95%9C%EA%B8%80+2018&amp;sa=X&amp;ved=0ahUKEwjVprjl4q_cAhWMwrwKHS2LBy0Q1QIIxwEoAw\">한글 2018</a>,\n",
       " <a href=\"/search?q=%ED%95%9C%EA%B8%80+%EB%8B%A4%EC%9A%B4%EB%A1%9C%EB%93%9C&amp;sa=X&amp;ved=0ahUKEwjVprjl4q_cAhWMwrwKHS2LBy0Q1QIIyAEoBA\">한글 다운로드</a>,\n",
       " <a href=\"/search?q=%ED%95%9C%EA%B8%80+2010+%EB%8B%A4%EC%9A%B4&amp;sa=X&amp;ved=0ahUKEwjVprjl4q_cAhWMwrwKHS2LBy0Q1QIIyQEoBQ\">한글 2010 다운</a>,\n",
       " <a href=\"/search?q=%ED%95%9C%EA%B8%80%EA%B3%BC%EC%BB%B4%ED%93%A8%ED%84%B0&amp;sa=X&amp;ved=0ahUKEwjVprjl4q_cAhWMwrwKHS2LBy0Q1QIIygEoBg\">한글과컴퓨터</a>,\n",
       " <a href=\"/search?q=%ED%95%9C%EA%B8%80+2017&amp;sa=X&amp;ved=0ahUKEwjVprjl4q_cAhWMwrwKHS2LBy0Q1QIIywEoBw\">한글 2017</a>,\n",
       " <a href=\"/search?q=%ED%95%9C%EA%B8%80+2010+%EC%84%A4%EC%B9%98&amp;sa=X&amp;ved=0ahUKEwjVprjl4q_cAhWMwrwKHS2LBy0Q1QIIzAEoCA\">한글 2010 설치</a>,\n",
       " <a href=\"/search?q=%ED%95%9C%EA%B8%80+2016+%EB%AC%B4%EB%A3%8C%EC%84%A4%EC%B9%98&amp;sa=X&amp;ved=0ahUKEwjVprjl4q_cAhWMwrwKHS2LBy0Q1QIIzQEoCQ\">한글 2016 무료설치</a>,\n",
       " <a aria-label=\"Page 2\" class=\"fl\" href=\"/search?q=%ED%95%9C%EA%B8%80&amp;ei=TO5SW9XQO4yF8wWtlp7oAg&amp;start=10&amp;sa=N\"><span class=\"csb ch\" style=\"background:url(/images/nav_logo242.png) no-repeat;background-position:-74px 0;width:20px\"></span>2</a>,\n",
       " <a aria-label=\"Page 3\" class=\"fl\" href=\"/search?q=%ED%95%9C%EA%B8%80&amp;ei=TO5SW9XQO4yF8wWtlp7oAg&amp;start=20&amp;sa=N\"><span class=\"csb ch\" style=\"background:url(/images/nav_logo242.png) no-repeat;background-position:-74px 0;width:20px\"></span>3</a>,\n",
       " <a aria-label=\"Page 4\" class=\"fl\" href=\"/search?q=%ED%95%9C%EA%B8%80&amp;ei=TO5SW9XQO4yF8wWtlp7oAg&amp;start=30&amp;sa=N\"><span class=\"csb ch\" style=\"background:url(/images/nav_logo242.png) no-repeat;background-position:-74px 0;width:20px\"></span>4</a>,\n",
       " <a aria-label=\"Page 5\" class=\"fl\" href=\"/search?q=%ED%95%9C%EA%B8%80&amp;ei=TO5SW9XQO4yF8wWtlp7oAg&amp;start=40&amp;sa=N\"><span class=\"csb ch\" style=\"background:url(/images/nav_logo242.png) no-repeat;background-position:-74px 0;width:20px\"></span>5</a>,\n",
       " <a aria-label=\"Page 6\" class=\"fl\" href=\"/search?q=%ED%95%9C%EA%B8%80&amp;ei=TO5SW9XQO4yF8wWtlp7oAg&amp;start=50&amp;sa=N\"><span class=\"csb ch\" style=\"background:url(/images/nav_logo242.png) no-repeat;background-position:-74px 0;width:20px\"></span>6</a>,\n",
       " <a aria-label=\"Page 7\" class=\"fl\" href=\"/search?q=%ED%95%9C%EA%B8%80&amp;ei=TO5SW9XQO4yF8wWtlp7oAg&amp;start=60&amp;sa=N\"><span class=\"csb ch\" style=\"background:url(/images/nav_logo242.png) no-repeat;background-position:-74px 0;width:20px\"></span>7</a>,\n",
       " <a aria-label=\"Page 8\" class=\"fl\" href=\"/search?q=%ED%95%9C%EA%B8%80&amp;ei=TO5SW9XQO4yF8wWtlp7oAg&amp;start=70&amp;sa=N\"><span class=\"csb ch\" style=\"background:url(/images/nav_logo242.png) no-repeat;background-position:-74px 0;width:20px\"></span>8</a>,\n",
       " <a aria-label=\"Page 9\" class=\"fl\" href=\"/search?q=%ED%95%9C%EA%B8%80&amp;ei=TO5SW9XQO4yF8wWtlp7oAg&amp;start=80&amp;sa=N\"><span class=\"csb ch\" style=\"background:url(/images/nav_logo242.png) no-repeat;background-position:-74px 0;width:20px\"></span>9</a>,\n",
       " <a aria-label=\"Page 10\" class=\"fl\" href=\"/search?q=%ED%95%9C%EA%B8%80&amp;ei=TO5SW9XQO4yF8wWtlp7oAg&amp;start=90&amp;sa=N\"><span class=\"csb ch\" style=\"background:url(/images/nav_logo242.png) no-repeat;background-position:-74px 0;width:20px\"></span>10</a>,\n",
       " <a class=\"pn\" href=\"/search?q=%ED%95%9C%EA%B8%80&amp;ei=TO5SW9XQO4yF8wWtlp7oAg&amp;start=10&amp;sa=N\" id=\"pnnext\" style=\"text-align:left\"><span class=\"csb ch\" style=\"background:url(/images/nav_logo242.png) no-repeat;background-position:-96px 0;width:71px\"></span><span style=\"display:block;margin-left:53px\">다음</span></a>,\n",
       " <a class=\"bia uh_rl\" data-ved=\"2ahUKEwjVprjl4q_cAhWMwrwKHS2LBy0Q_B0wE3oECAsQEw\" href=\"/imgres?imgurl=http://www.image114.co.kr/files/attach/images/222/474/038/mzi.aysudqxi.175x175-75.png&amp;imgrefurl=http://www.image114.co.kr/?document_srl%3D38474&amp;h=175&amp;w=175&amp;tbnid=SdYb6R919CG4aM:&amp;q=%ED%95%9C%EA%B8%80&amp;tbnh=92&amp;tbnw=92&amp;usg=__wemlSOXmse52LUCVXNmWPODRQRw%3D&amp;vet=1&amp;docid=vpVDg5foNbxeQM&amp;itg=1&amp;sa=X&amp;ved=2ahUKEwjVprjl4q_cAhWMwrwKHS2LBy0Q_B0wE3oECAsQEw\" id=\"SdYb6R919CG4aM:\" jsaction=\"fire.ivg_o\" role=\"link\" style=\"background:rgb(184,192,168);height:92px;width:92px\" tabindex=\"0\" tag=\"bia\"><g-img><img alt=\"한글에 대한 이미지 검색결과\" class=\"rISBZc M4dUYb\" data-deferred=\"1\" height=\"92\" id=\"dimg_7\" src=\"data:image/gif;base64,R0lGODlhAQABAIAAAP///////yH5BAEKAAEALAAAAAABAAEAAAICTAEAOw==\" title=\"http://www.image114.co.kr/?document_srl=38474\" width=\"92\"/></g-img></a>,\n",
       " <a class=\"q ruhjFe NJLBac fl\" data-ved=\"2ahUKEwjVprjl4q_cAhWMwrwKHS2LBy0QmhMwFXoECAsQFg\" href=\"https://ko.wikipedia.org/wiki/%ED%95%9C/%EA%B8%80\" ping=\"/url?sa=t&amp;source=web&amp;rct=j&amp;url=https://ko.wikipedia.org/wiki/%25ED%2595%259C/%25EA%25B8%2580&amp;ved=2ahUKEwjVprjl4q_cAhWMwrwKHS2LBy0QmhMwFXoECAsQFg\">위키백과</a>,\n",
       " <a data-ved=\"2ahUKEwjVprjl4q_cAhWMwrwKHS2LBy0QMSgAMBd6BAgLEBk\" href=\"/search?q=%ED%95%9C/%EA%B8%80&amp;stick=H4sIAAAAAAAAAONgFuLUz9U3sEgvzK1QQjC1hLOTrfST83Nz8_OsijNTUssTK4sBXm6kbC0AAAA&amp;sa=X&amp;ved=2ahUKEwjVprjl4q_cAhWMwrwKHS2LBy0QMSgAMBd6BAgLEBk\">관련 검색어</a>,\n",
       " <a class=\"EbH0bb\" href=\"/search?q=%ED%95%9C/%EA%B8%80&amp;stick=H4sIAAAAAAAAAONgFuLUz9U3sEgvzK1QQjC1hLOTrfST83Nz8_OsijNTUssTK4sBXm6kbC0AAAA&amp;sa=X&amp;ved=2ahUKEwjVprjl4q_cAhWMwrwKHS2LBy0QzTooATAXegQICxAa\"><span class=\"rhsg3\">5개 이상 항목 더보기</span><span class=\"rhsl4\">5개 이상 항목 보기</span></a>,\n",
       " <a data-ved=\"2ahUKEwjVprjl4q_cAhWMwrwKHS2LBy0QxA0wF3oECAsQHQ\" href=\"/search?q=%ED%95%9C%EC%BB%B4%EC%98%A4%ED%94%BC%EC%8A%A4&amp;stick=H4sIAAAAAAAAAONgFuLUz9U3sEgvzK1Q4tFP1zc0qrIwyTNJTtfic87Pzc3PC85MSS1PrCwGAJp2mbErAAAA&amp;sa=X&amp;ved=2ahUKEwjVprjl4q_cAhWMwrwKHS2LBy0QxA0wF3oECAsQHQ\" title=\"한컴오피스\"><div class=\"XQ6p1d\"><g-img><img alt=\"한컴오피스\" class=\"rISBZc M4dUYb\" data-deferred=\"1\" height=\"72\" id=\"dimg_9\" src=\"data:image/gif;base64,R0lGODlhAQABAIAAAP///////yH5BAEKAAEALAAAAAABAAEAAAICTAEAOw==\" width=\"72\"/></g-img></div><div class=\"fl ellip oBrLN\" data-original-name=\"한컴오피스\">한컴오피스</div></a>,\n",
       " <a data-ved=\"2ahUKEwjVprjl4q_cAhWMwrwKHS2LBy0QxA0wF3oECAsQHw\" href=\"/search?q=%EB%A7%88%EC%9D%B4%ED%81%AC%EB%A1%9C%EC%86%8C%ED%94%84%ED%8A%B8+%EC%98%A4%ED%94%BC%EC%8A%A4&amp;stick=H4sIAAAAAAAAAONgFuLUz9U3sEgvzK1Q4gAxTY2qkrT4nPNzc_PzgjNTUssTK4sBDBSs8ycAAAA&amp;sa=X&amp;ved=2ahUKEwjVprjl4q_cAhWMwrwKHS2LBy0QxA0wF3oECAsQHw\" title=\"마이크로소프트 오피스\"><div class=\"XQ6p1d\"><g-img><img alt=\"마이크로소프트 오피스\" class=\"rISBZc M4dUYb\" data-deferred=\"1\" height=\"72\" id=\"dimg_11\" src=\"data:image/gif;base64,R0lGODlhAQABAIAAAP///////yH5BAEKAAEALAAAAAABAAEAAAICTAEAOw==\" width=\"72\"/></g-img></div><div class=\"fl ellip oBrLN\" data-original-name=\"마이크로소프트 오피스\">마이크로소프트 오피스</div></a>,\n",
       " <a data-ved=\"2ahUKEwjVprjl4q_cAhWMwrwKHS2LBy0QxA0wF3oECAsQIQ\" href=\"/search?q=%EC%95%8C%EC%A7%91&amp;stick=H4sIAAAAAAAAAONgFuLUz9U3sEgvzK1QAjPTq8qrkrT4nPNzc_PzgjNTUssTK4sBWlXTkCgAAAA&amp;sa=X&amp;ved=2ahUKEwjVprjl4q_cAhWMwrwKHS2LBy0QxA0wF3oECAsQIQ\" title=\"알집\"><div class=\"XQ6p1d\"><g-img><img alt=\"알집\" class=\"rISBZc M4dUYb\" data-deferred=\"1\" height=\"72\" id=\"dimg_13\" src=\"data:image/gif;base64,R0lGODlhAQABAIAAAP///////yH5BAEKAAEALAAAAAABAAEAAAICTAEAOw==\" width=\"72\"/></g-img></div><div class=\"fl ellip oBrLN\" data-original-name=\"알집\">알집</div></a>,\n",
       " <a data-ved=\"2ahUKEwjVprjl4q_cAhWMwrwKHS2LBy0QxA0wF3oECAsQIw\" href=\"/search?q=%EB%A7%88%EC%9D%B4%ED%81%AC%EB%A1%9C%EC%86%8C%ED%94%84%ED%8A%B8+%EC%9B%8C%EB%93%9C&amp;stick=H4sIAAAAAAAAAONgFuLUz9U3sEgvzK1Q4gAxTY0qy7T4nPNzc_PzgjNTUssTK4sB3HdzfScAAAA&amp;sa=X&amp;ved=2ahUKEwjVprjl4q_cAhWMwrwKHS2LBy0QxA0wF3oECAsQIw\" title=\"마이크로소프트 워드\"><div class=\"XQ6p1d\"><g-img><img alt=\"마이크로소프트 워드\" class=\"rISBZc M4dUYb\" data-deferred=\"1\" height=\"72\" id=\"dimg_15\" src=\"data:image/gif;base64,R0lGODlhAQABAIAAAP///////yH5BAEKAAEALAAAAAABAAEAAAICTAEAOw==\" width=\"72\"/></g-img></div><div class=\"fl ellip oBrLN\" data-original-name=\"마이크로소프트 워드\">마이크로소프트 워드</div></a>,\n",
       " <a data-ved=\"2ahUKEwjVprjl4q_cAhWMwrwKHS2LBy0QxA0wF3oECAsQJQ\" href=\"/search?q=%EB%B0%98%EB%94%94%EC%A7%91&amp;stick=H4sIAAAAAAAAAONgFuLUz9U3sEgvzK1Q4gIxM0zNDCsMtPic83Nz8_OCM1NSyxMriwFz3AnKKQAAAA&amp;sa=X&amp;ved=2ahUKEwjVprjl4q_cAhWMwrwKHS2LBy0QxA0wF3oECAsQJQ\" title=\"반디집\"><div class=\"XQ6p1d\"><g-img><img alt=\"반디집\" class=\"rISBZc M4dUYb\" data-deferred=\"1\" height=\"72\" id=\"dimg_17\" src=\"data:image/gif;base64,R0lGODlhAQABAIAAAP///////yH5BAEKAAEALAAAAAABAAEAAAICTAEAOw==\" width=\"72\"/></g-img></div><div class=\"fl ellip oBrLN\" data-original-name=\"반디집\">반디집</div></a>,\n",
       " <a data-ved=\"2ahUKEwjVprjl4q_cAhWMwrwKHS2LBy0QxA0wF3oECAsQJw\" href=\"/search?q=%EC%B9%B4%EC%B9%B4%EC%98%A4%ED%86%A1&amp;stick=H4sIAAAAAAAAAONgFuLUz9U3sEgvzK1Q4gIxM4zzys3MtPic83Nz8_OCM1NSyxMriwHuNpGgKQAAAA&amp;sa=X&amp;ved=2ahUKEwjVprjl4q_cAhWMwrwKHS2LBy0QxA0wF3oECAsQJw\" title=\"카카오톡\"><div class=\"XQ6p1d\"><g-img><img alt=\"카카오톡\" class=\"rISBZc M4dUYb\" data-deferred=\"1\" height=\"72\" id=\"dimg_19\" src=\"data:image/gif;base64,R0lGODlhAQABAIAAAP///////yH5BAEKAAEALAAAAAABAAEAAAICTAEAOw==\" width=\"72\"/></g-img></div><div class=\"fl ellip oBrLN\" data-original-name=\"카카오톡\">카카오톡</div></a>,\n",
       " <a class=\"duf3\" data-async-trigger=\"duf3-2-19\" data-ved=\"2ahUKEwjVprjl4q_cAhWMwrwKHS2LBy0Qtw96BAgLECk\" href=\"#\" jsaction=\"async.u\">사용자 의견</a>,\n",
       " <a class=\"M3LVze\" data-ved=\"2ahUKEwjVprjl4q_cAhWMwrwKHS2LBy0Q6RMwGXoECAoQBA\" href=\"/search?q=%ED%95%9C%EA%B8%80&amp;stick=H4sIAAAAAAAAAONgecToyC3w8sc9YSmLSWtOXmM04uIKzsgvd80rySypFFLhYoOypLh4pDj0c_UNjIssDTQYpLi44DweAPsoljNGAAAA&amp;sa=X&amp;ved=2ahUKEwjVprjl4q_cAhWMwrwKHS2LBy0Q6RMwGXoECAoQBA\"><div class=\"y8Jpof rhsvw\"><div class=\"o3mT7\"><div class=\"thumb\" style=\"overflow:hidden;width:72px;height:72px\"><g-img><img alt=\"\" class=\"rISBZc M4dUYb\" data-deferred=\"1\" height=\"72\" id=\"uid_4\" src=\"data:image/gif;base64,R0lGODlhAQABAIAAAP///////yH5BAEKAAEALAAAAAABAAEAAAICTAEAOw==\" width=\"72\"/></g-img></div></div><div class=\"k4DMHe\"><div class=\"RJn8N xXEKkb ellip\">한글 (문자 언어 시스템)</div><div class=\"izHQgf cwUqwd\"><span class=\"rhsl4\">한글은 조선 제 4대 임금 세종이 훈민정음이라는 이름으로 창제하여 ...</span><span class=\"rhsl5 rhsg3\">한글은 조선 제 4대 임금 세종이 훈민정음이라는 이름으로 창제하여 ...</span><span class=\"rhsg4\">한글은 조선 제 4대 임금 세종이 훈민정음이라는 이름으로 창제하여 1446년에 반포한 문자로, ...</span></div></div></div></a>,\n",
       " <a data-ved=\"0ahUKEwjVprjl4q_cAhWMwrwKHS2LBy0QpLkCCIEC\" href=\"#\" id=\"swml-upd\"></a>,\n",
       " <a href=\"https://support.google.com/websearch?p=ws_settings_location&amp;hl=ko\" ping=\"/url?sa=t&amp;source=web&amp;rct=j&amp;url=https://support.google.com/websearch%3Fp%3Dws_settings_location%26hl%3Dko&amp;ved=0ahUKEwjVprjl4q_cAhWMwrwKHS2LBy0Qty4IggI\">자세히 알아보기</a>,\n",
       " <a class=\"Fx4vi\" href=\"//support.google.com/websearch/?p=ws_results_help&amp;hl=ko&amp;fg=1\">도움말</a>,\n",
       " <a class=\"Fx4vi\" data-bucket=\"websearch\" data-ved=\"0ahUKEwjVprjl4q_cAhWMwrwKHS2LBy0QLgiDAg\" href=\"#\" id=\"dk2qOd\" jsaction=\"gf.sf\" target=\"_blank\">의견 보내기</a>,\n",
       " <a class=\"Fx4vi\" href=\"//www.google.co.kr/intl/ko_kr/policies/privacy/?fg=1\">개인정보처리방침</a>,\n",
       " <a class=\"Fx4vi\" href=\"//www.google.co.kr/intl/ko_kr/policies/terms/?fg=1\">약관</a>,\n",
       " <a class=\"gb_O\" data-pid=\"192\" href=\"https://myaccount.google.com/?utm_source=OGB&amp;utm_medium=app\" id=\"gb192\"><div class=\"gb_2\"></div><div class=\"gb_3\"></div><div class=\"gb_4\"></div><div class=\"gb_5\"></div><span class=\"gb_W\" style=\"background-position:0 -345px\"></span><span class=\"gb_X\">Google 계정</span></a>,\n",
       " <a class=\"gb_O\" data-pid=\"1\" href=\"https://www.google.co.kr/webhp?tab=ww\" id=\"gb1\"><div class=\"gb_2\"></div><div class=\"gb_3\"></div><div class=\"gb_4\"></div><div class=\"gb_5\"></div><span class=\"gb_W\" style=\"background-position:0 -69px\"></span><span class=\"gb_X\">검색</span></a>,\n",
       " <a class=\"gb_O\" data-pid=\"8\" href=\"https://maps.google.co.kr/maps?hl=ko&amp;tab=wl\" id=\"gb8\"><div class=\"gb_2\"></div><div class=\"gb_3\"></div><div class=\"gb_4\"></div><div class=\"gb_5\"></div><span class=\"gb_W\" style=\"background-position:0 -1242px\"></span><span class=\"gb_X\">지도</span></a>,\n",
       " <a class=\"gb_O\" data-pid=\"36\" href=\"https://www.youtube.com/?gl=KR\" id=\"gb36\"><div class=\"gb_2\"></div><div class=\"gb_3\"></div><div class=\"gb_4\"></div><div class=\"gb_5\"></div><span class=\"gb_W\" style=\"background-position:0 -1380px\"></span><span class=\"gb_X\">YouTube</span></a>,\n",
       " <a class=\"gb_O\" data-pid=\"78\" href=\"https://play.google.com/?hl=ko&amp;tab=w8\" id=\"gb78\"><div class=\"gb_2\"></div><div class=\"gb_3\"></div><div class=\"gb_4\"></div><div class=\"gb_5\"></div><span class=\"gb_W\" style=\"background-position:0 -1104px\"></span><span class=\"gb_X\">Play</span></a>,\n",
       " <a class=\"gb_O\" data-pid=\"5\" href=\"https://news.google.co.kr/nwshp?hl=ko&amp;tab=wn\" id=\"gb5\"><div class=\"gb_2\"></div><div class=\"gb_3\"></div><div class=\"gb_4\"></div><div class=\"gb_5\"></div><span class=\"gb_W\" style=\"background-position:0 -1725px\"></span><span class=\"gb_X\">뉴스</span></a>,\n",
       " <a class=\"gb_O\" data-pid=\"23\" href=\"https://mail.google.com/mail/?tab=wm\" id=\"gb23\"><div class=\"gb_2\"></div><div class=\"gb_3\"></div><div class=\"gb_4\"></div><div class=\"gb_5\"></div><span class=\"gb_W\" style=\"background-position:0 -1587px\"></span><span class=\"gb_X\">Gmail</span></a>,\n",
       " <a class=\"gb_O\" data-pid=\"53\" href=\"https://www.google.com/contacts/?hl=ko&amp;tab=wC\" id=\"gb53\"><div class=\"gb_2\"></div><div class=\"gb_3\"></div><div class=\"gb_4\"></div><div class=\"gb_5\"></div><span class=\"gb_W\" style=\"background-position:0 -2346px\"></span><span class=\"gb_X\">주소록</span></a>,\n",
       " <a class=\"gb_O\" data-pid=\"49\" href=\"https://drive.google.com/?tab=wo\" id=\"gb49\"><div class=\"gb_2\"></div><div class=\"gb_3\"></div><div class=\"gb_4\"></div><div class=\"gb_5\"></div><span class=\"gb_W\" style=\"background-position:0 -1794px\"></span><span class=\"gb_X\">드라이브</span></a>,\n",
       " <a class=\"gb_O\" data-pid=\"24\" href=\"https://www.google.com/calendar?tab=wc\" id=\"gb24\"><div class=\"gb_2\"></div><div class=\"gb_3\"></div><div class=\"gb_4\"></div><div class=\"gb_5\"></div><span class=\"gb_W\" style=\"background-position:0 -828px\"></span><span class=\"gb_X\">캘린더</span></a>,\n",
       " <a class=\"gb_O\" data-pid=\"119\" href=\"https://plus.google.com/?gpsrc=ogpy0&amp;tab=wX\" id=\"gb119\"><div class=\"gb_2\"></div><div class=\"gb_3\"></div><div class=\"gb_4\"></div><div class=\"gb_5\"></div><span class=\"gb_W\" style=\"background-position:0 -1863px\"></span><span class=\"gb_X\">Google+</span></a>,\n",
       " <a class=\"gb_O\" data-pid=\"51\" href=\"https://translate.google.co.kr/?hl=ko&amp;tab=wT\" id=\"gb51\"><div class=\"gb_2\"></div><div class=\"gb_3\"></div><div class=\"gb_4\"></div><div class=\"gb_5\"></div><span class=\"gb_W\" style=\"background-position:0 -1035px\"></span><span class=\"gb_X\">번역</span></a>,\n",
       " <a class=\"gb_O\" data-pid=\"31\" href=\"https://photos.google.com/?tab=wq&amp;pageId=none\" id=\"gb31\"><div class=\"gb_2\"></div><div class=\"gb_3\"></div><div class=\"gb_4\"></div><div class=\"gb_5\"></div><span class=\"gb_W\" style=\"background-position:0 -138px\"></span><span class=\"gb_X\">사진</span></a>,\n",
       " <a aria-label=\"Google 앱 더보기\" class=\"gb_ea gb_1f\" href=\"https://www.google.co.kr/intl/ko/options/\">더보기</a>,\n",
       " <a class=\"gb_O\" data-pid=\"25\" href=\"https://docs.google.com/document/?usp=docs_alc\" id=\"gb25\"><div class=\"gb_2\"></div><div class=\"gb_3\"></div><div class=\"gb_4\"></div><div class=\"gb_5\"></div><span class=\"gb_W\" style=\"background-position:0 -2001px\"></span><span class=\"gb_X\">문서</span></a>,\n",
       " <a class=\"gb_O\" data-pid=\"10\" href=\"https://books.google.co.kr/bkshp?hl=ko&amp;tab=wp\" id=\"gb10\"><div class=\"gb_2\"></div><div class=\"gb_3\"></div><div class=\"gb_4\"></div><div class=\"gb_5\"></div><span class=\"gb_W\" style=\"background-position:0 -1449px\"></span><span class=\"gb_X\">도서</span></a>,\n",
       " <a class=\"gb_O\" data-pid=\"30\" href=\"https://www.blogger.com/?tab=wj\" id=\"gb30\"><div class=\"gb_2\"></div><div class=\"gb_3\"></div><div class=\"gb_4\"></div><div class=\"gb_5\"></div><span class=\"gb_W\" style=\"background-position:0 -207px\"></span><span class=\"gb_X\">Blogger</span></a>,\n",
       " <a class=\"gb_O\" data-pid=\"300\" href=\"https://hangouts.google.com/\" id=\"gb300\"><div class=\"gb_2\"></div><div class=\"gb_3\"></div><div class=\"gb_4\"></div><div class=\"gb_5\"></div><span class=\"gb_W\" style=\"background-position:0 -966px\"></span><span class=\"gb_X\">행아웃</span></a>,\n",
       " <a class=\"gb_O\" data-pid=\"136\" href=\"https://keep.google.com/\" id=\"gb136\"><div class=\"gb_2\"></div><div class=\"gb_3\"></div><div class=\"gb_4\"></div><div class=\"gb_5\"></div><span class=\"gb_M\"></span><span class=\"gb_X\">Keep</span></a>,\n",
       " <a class=\"gb_O\" data-pid=\"429\" href=\"https://earth.google.com/web/\" id=\"gb429\"><div class=\"gb_2\"></div><div class=\"gb_3\"></div><div class=\"gb_4\"></div><div class=\"gb_5\"></div><span class=\"gb_W\" style=\"background-position:0 -2139px\"></span><span class=\"gb_X\">어스</span></a>,\n",
       " <a class=\"gb_fa gb_Vf\" href=\"https://www.google.co.kr/intl/ko/options/\">Google 제품 모두 보기</a>]"
      ]
     },
     "execution_count": 10,
     "metadata": {},
     "output_type": "execute_result"
    }
   ],
   "source": [
    "dom.select(\"a\")"
   ]
  },
  {
   "cell_type": "code",
   "execution_count": 11,
   "metadata": {},
   "outputs": [
    {
     "data": {
      "text/plain": [
       "[<div class=\"rc\"><h3 class=\"r\"><a href=\"https://www.hancom.com/product/productWindowsMain.do\" ping=\"/url?sa=t&amp;source=web&amp;rct=j&amp;url=https://www.hancom.com/product/productWindowsMain.do&amp;ved=2ahUKEwjVprjl4q_cAhWMwrwKHS2LBy0QFjAAegQIARAB\">한컴오피스 - Windows : 한글과컴퓨터</a></h3><div class=\"s\"><div><div class=\"f hJND5c TbwUpd\" style=\"white-space:nowrap\"><cite class=\"iUh30\">https://www.hancom.com/product/productWindowsMain.do</cite><div class=\"action-menu ab_ctl\"><a aria-expanded=\"false\" aria-haspopup=\"true\" aria-label=\"검색결과 옵션\" class=\"GHDvEf ab_button\" data-ved=\"2ahUKEwjVprjl4q_cAhWMwrwKHS2LBy0Q7B0wAHoECAEQAg\" href=\"#\" id=\"am-b0\" jsaction=\"m.tdd;keydown:m.hbke;keypress:m.mskpe\" role=\"button\"><span class=\"mn-dwn-arw\"></span></a><div class=\"action-menu-panel ab_dropdown\" data-ved=\"2ahUKEwjVprjl4q_cAhWMwrwKHS2LBy0QqR8wAHoECAEQAw\" jsaction=\"keydown:m.hdke;mouseover:m.hdhne;mouseout:m.hdhue\" role=\"menu\" tabindex=\"-1\"><ol><li class=\"action-menu-item ab_dropdownitem\" role=\"menuitem\"><a class=\"fl\" href=\"https://webcache.googleusercontent.com/search?q=cache:c2hqAGFe1zUJ:https://www.hancom.com/product/productWindowsMain.do+&amp;cd=1&amp;hl=ko&amp;ct=clnk&amp;gl=kr\" ping=\"/url?sa=t&amp;source=web&amp;rct=j&amp;url=https://webcache.googleusercontent.com/search%3Fq%3Dcache:c2hqAGFe1zUJ:https://www.hancom.com/product/productWindowsMain.do%2B%26cd%3D1%26hl%3Dko%26ct%3Dclnk%26gl%3Dkr&amp;ved=2ahUKEwjVprjl4q_cAhWMwrwKHS2LBy0QIDAAegQIARAE\">저장된 페이지</a></li><li class=\"action-menu-item ab_dropdownitem\" role=\"menuitem\"><a class=\"fl\" href=\"/search?q=related:https://www.hancom.com/product/productWindowsMain.do+%ED%95%9C%EA%B8%80&amp;tbo=1&amp;sa=X&amp;ved=2ahUKEwjVprjl4q_cAhWMwrwKHS2LBy0QHzAAegQIARAF\">유사한 페이지</a></li></ol></div></div></div><span class=\"st\">더 스마트해진 한 글. 한컴오피스 2018 <em>한글</em>. 음성인식을 통해 말로 제어할 수 있는 한 글. 한컴 툴즈 앱을 설치한 모바일 기기와 PC를 블루투스로 연결, 키보드나 ...</span></div></div><div class=\"r-i9zHkkIq34s4\" data-ved=\"2ahUKEwjVprjl4q_cAhWMwrwKHS2LBy0Q2Z0BMAB6BAgBEAY\" jsl=\"$t t--ddbPTeIsNI;$x 0;\"><div class=\"AUiS2 i9zHkkIq34s4-7_jVsFT_9Io\" data-ved=\"2ahUKEwjVprjl4q_cAhWMwrwKHS2LBy0Qx40DMAB6BAgBEAc\" id=\"eobm_0\"><div class=\"i9zHkkIq34s4-uhagcrfPmuU\" id=\"eobd_0\" style=\"display:none\"><div data-ved=\"2ahUKEwjVprjl4q_cAhWMwrwKHS2LBy0QsKwBKAAwAHoECAEQCA\">한컴오피스 2018 크랙</div><div data-ved=\"2ahUKEwjVprjl4q_cAhWMwrwKHS2LBy0QsKwBKAEwAHoECAEQCQ\">한컴오피스 2018 제품번호</div><div data-ved=\"2ahUKEwjVprjl4q_cAhWMwrwKHS2LBy0QsKwBKAIwAHoECAEQCg\">한컴오피스 neo</div><div data-ved=\"2ahUKEwjVprjl4q_cAhWMwrwKHS2LBy0QsKwBKAMwAHoECAEQCw\">한컴오피스 가정용</div><div data-ved=\"2ahUKEwjVprjl4q_cAhWMwrwKHS2LBy0QsKwBKAQwAHoECAEQDA\">한컴 오피스 할인</div><div data-ved=\"2ahUKEwjVprjl4q_cAhWMwrwKHS2LBy0QsKwBKAUwAHoECAEQDQ\">한컴 회원 가입</div></div><span aria-label=\"추천 후속 작업을 닫습니다.\" class=\"XCKyNd\" data-rtid=\"i9zHkkIq34s4\" id=\"eobs_0\" jsaction=\"r.pz0qjfJrMDo\" jsl=\"$x 2;\" role=\"button\" tabindex=\"0\"></span><div><div class=\"d8lLoc i9zHkkIq34s4-eEjGhTK0s34\" id=\"eobc_0\"><h4 class=\"eJ7tvc i9zHkkIq34s4-ZgH0LU9o8RU\" id=\"eobp_0\">함께 검색한 항목</h4><div class=\"hYkSRb i9zHkkIq34s4-ICxnu-SGsqE\" id=\"eobr_0\"></div></div></div></div></div></div>,\n",
       " <div class=\"rc\"><h3 class=\"r\"><a href=\"http://www.hancom.com/downLoad.downPU.do\" ping=\"/url?sa=t&amp;source=web&amp;rct=j&amp;url=http://www.hancom.com/downLoad.downPU.do&amp;ved=2ahUKEwjVprjl4q_cAhWMwrwKHS2LBy0QFjABegQIAhAB\">다운로드 : 한글과컴퓨터 - Hancom</a></h3><div class=\"s\"><div><div class=\"f hJND5c TbwUpd\" style=\"white-space:nowrap\"><cite class=\"iUh30\">www.hancom.com/downLoad.downPU.do</cite><div class=\"action-menu ab_ctl\"><a aria-expanded=\"false\" aria-haspopup=\"true\" aria-label=\"검색결과 옵션\" class=\"GHDvEf ab_button\" data-ved=\"2ahUKEwjVprjl4q_cAhWMwrwKHS2LBy0Q7B0wAXoECAIQAg\" href=\"#\" id=\"am-b1\" jsaction=\"m.tdd;keydown:m.hbke;keypress:m.mskpe\" role=\"button\"><span class=\"mn-dwn-arw\"></span></a><div class=\"action-menu-panel ab_dropdown\" data-ved=\"2ahUKEwjVprjl4q_cAhWMwrwKHS2LBy0QqR8wAXoECAIQAw\" jsaction=\"keydown:m.hdke;mouseover:m.hdhne;mouseout:m.hdhue\" role=\"menu\" tabindex=\"-1\"><ol><li class=\"action-menu-item ab_dropdownitem\" role=\"menuitem\"><a class=\"fl\" href=\"http://webcache.googleusercontent.com/search?q=cache:G9zYJhBtY5UJ:www.hancom.com/downLoad.downPU.do+&amp;cd=2&amp;hl=ko&amp;ct=clnk&amp;gl=kr\" ping=\"/url?sa=t&amp;source=web&amp;rct=j&amp;url=http://webcache.googleusercontent.com/search%3Fq%3Dcache:G9zYJhBtY5UJ:www.hancom.com/downLoad.downPU.do%2B%26cd%3D2%26hl%3Dko%26ct%3Dclnk%26gl%3Dkr&amp;ved=2ahUKEwjVprjl4q_cAhWMwrwKHS2LBy0QIDABegQIAhAE\">저장된 페이지</a></li></ol></div></div></div><span class=\"st\">한컴오피스 뷰어'와 '<em>한글</em> 뷰어'는 운영체제 또는 장치에 관계없이 언제 어디서나 자유로운 문서 열기 환경을 제공합니다. 사용권 및 저작권 안내 보기 ...</span></div></div><div class=\"r-iKV6vCHWgBRU\" data-ved=\"2ahUKEwjVprjl4q_cAhWMwrwKHS2LBy0Q2Z0BMAF6BAgCEAU\" jsl=\"$t t--ddbPTeIsNI;$x 0;\"><div class=\"AUiS2 iKV6vCHWgBRU-7_jVsFT_9Io\" data-ved=\"2ahUKEwjVprjl4q_cAhWMwrwKHS2LBy0Qx40DMAF6BAgCEAY\" id=\"eobm_1\"><div class=\"iKV6vCHWgBRU-uhagcrfPmuU\" id=\"eobd_1\" style=\"display:none\"><div data-ved=\"2ahUKEwjVprjl4q_cAhWMwrwKHS2LBy0QsKwBKAAwAXoECAIQBw\">한컴오피스 2018 크랙</div><div data-ved=\"2ahUKEwjVprjl4q_cAhWMwrwKHS2LBy0QsKwBKAEwAXoECAIQCA\">한글 2010 설치</div><div data-ved=\"2ahUKEwjVprjl4q_cAhWMwrwKHS2LBy0QsKwBKAIwAXoECAIQCQ\">한컴오피스 neo 크랙</div><div data-ved=\"2ahUKEwjVprjl4q_cAhWMwrwKHS2LBy0QsKwBKAMwAXoECAIQCg\">한글 2010 시리얼</div><div data-ved=\"2ahUKEwjVprjl4q_cAhWMwrwKHS2LBy0QsKwBKAQwAXoECAIQCw\">한컴오피스 2018 제품번호</div><div data-ved=\"2ahUKEwjVprjl4q_cAhWMwrwKHS2LBy0QsKwBKAUwAXoECAIQDA\">한컴오피스 2014 학교용</div></div><span aria-label=\"추천 후속 작업을 닫습니다.\" class=\"XCKyNd\" data-rtid=\"iKV6vCHWgBRU\" id=\"eobs_1\" jsaction=\"r.pz0qjfJrMDo\" jsl=\"$x 2;\" role=\"button\" tabindex=\"0\"></span><div><div class=\"d8lLoc iKV6vCHWgBRU-eEjGhTK0s34\" id=\"eobc_1\"><h4 class=\"eJ7tvc iKV6vCHWgBRU-ZgH0LU9o8RU\" id=\"eobp_1\">함께 검색한 항목</h4><div class=\"hYkSRb iKV6vCHWgBRU-ICxnu-SGsqE\" id=\"eobr_1\"></div></div></div></div></div></div>,\n",
       " <div class=\"rc\"><h3 class=\"r\"><a href=\"https://namu.wiki/w/%ED%95%9C%EA%B8%80\" ping=\"/url?sa=t&amp;source=web&amp;rct=j&amp;url=https://namu.wiki/w/%25ED%2595%259C%25EA%25B8%2580&amp;ved=2ahUKEwjVprjl4q_cAhWMwrwKHS2LBy0QFjACegQIABAB\">한글 - 나무위키</a></h3><div class=\"s\"><div><div class=\"f hJND5c TbwUpd\" style=\"white-space:nowrap\"><cite class=\"iUh30\">https://namu.wiki/w/한글</cite><div class=\"action-menu ab_ctl\"><a aria-expanded=\"false\" aria-haspopup=\"true\" aria-label=\"검색결과 옵션\" class=\"GHDvEf ab_button\" data-ved=\"2ahUKEwjVprjl4q_cAhWMwrwKHS2LBy0Q7B0wAnoECAAQAg\" href=\"#\" id=\"am-b2\" jsaction=\"m.tdd;keydown:m.hbke;keypress:m.mskpe\" role=\"button\"><span class=\"mn-dwn-arw\"></span></a><div class=\"action-menu-panel ab_dropdown\" data-ved=\"2ahUKEwjVprjl4q_cAhWMwrwKHS2LBy0QqR8wAnoECAAQAw\" jsaction=\"keydown:m.hdke;mouseover:m.hdhne;mouseout:m.hdhue\" role=\"menu\" tabindex=\"-1\"><ol><li class=\"action-menu-item ab_dropdownitem\" role=\"menuitem\"><a class=\"fl\" href=\"/search?q=related:https://namu.wiki/w/%25ED%2595%259C%25EA%25B8%2580+%ED%95%9C%EA%B8%80&amp;tbo=1&amp;sa=X&amp;ved=2ahUKEwjVprjl4q_cAhWMwrwKHS2LBy0QHzACegQIABAE\">유사한 페이지</a></li></ol></div></div></div><span class=\"st\">현재 쓰이는 '<em>한글</em>'이라는 이름은 창시자가 불분명하지만 대체로 주시경이 약 1912 ... <em>한글</em> 자모의 용법에는 한국어를 표기하는 것과 한국어의 발음을 표기하는 것이 ...</span><div class=\"osl\">‎<a class=\"fl\" href=\"https://namu.wiki/w/%ED%95%9C%EC%BB%B4%EC%98%A4%ED%94%BC%EC%8A%A4%20%ED%95%9C%EA%B8%80\" ping=\"/url?sa=t&amp;source=web&amp;rct=j&amp;url=https://namu.wiki/w/%25ED%2595%259C%25EC%25BB%25B4%25EC%2598%25A4%25ED%2594%25BC%25EC%258A%25A4%2520%25ED%2595%259C%25EA%25B8%2580&amp;ved=2ahUKEwjVprjl4q_cAhWMwrwKHS2LBy0Q0gIoADACegQIABAG\">한컴오피스 한글</a> · ‎<a class=\"fl\" href=\"https://namu.wiki/w/%ED%95%9C%EA%B8%80/%EC%97%AD%EC%82%AC\" ping=\"/url?sa=t&amp;source=web&amp;rct=j&amp;url=https://namu.wiki/w/%25ED%2595%259C%25EA%25B8%2580/%25EC%2597%25AD%25EC%2582%25AC&amp;ved=2ahUKEwjVprjl4q_cAhWMwrwKHS2LBy0Q0gIoATACegQIABAH\">한글/역사</a> · ‎<a class=\"fl\" href=\"https://namu.wiki/w/%ED%95%9C%EA%B8%80%20%EC%9E%90%EB%AA%A8\" ping=\"/url?sa=t&amp;source=web&amp;rct=j&amp;url=https://namu.wiki/w/%25ED%2595%259C%25EA%25B8%2580%2520%25EC%259E%2590%25EB%25AA%25A8&amp;ved=2ahUKEwjVprjl4q_cAhWMwrwKHS2LBy0Q0gIoAjACegQIABAI\">한글 자모</a> · ‎<a class=\"fl\" href=\"https://namu.wiki/w/%ED%95%9C%EA%B8%80/%EB%85%BC%EC%9F%81\" ping=\"/url?sa=t&amp;source=web&amp;rct=j&amp;url=https://namu.wiki/w/%25ED%2595%259C%25EA%25B8%2580/%25EB%2585%25BC%25EC%259F%2581&amp;ved=2ahUKEwjVprjl4q_cAhWMwrwKHS2LBy0Q0gIoAzACegQIABAJ\">한글/논쟁</a></div></div></div><div class=\"r-iXtsJWZk4Z1E\" data-ved=\"2ahUKEwjVprjl4q_cAhWMwrwKHS2LBy0Q2Z0BMAJ6BAgAEAo\" jsl=\"$t t--ddbPTeIsNI;$x 0;\"><div class=\"AUiS2 iXtsJWZk4Z1E-7_jVsFT_9Io\" data-ved=\"2ahUKEwjVprjl4q_cAhWMwrwKHS2LBy0Qx40DMAJ6BAgAEAs\" id=\"eobm_2\"><div class=\"iXtsJWZk4Z1E-uhagcrfPmuU\" id=\"eobd_2\" style=\"display:none\"><div data-ved=\"2ahUKEwjVprjl4q_cAhWMwrwKHS2LBy0QsKwBKAAwAnoECAAQDA\">한글 역사</div><div data-ved=\"2ahUKEwjVprjl4q_cAhWMwrwKHS2LBy0QsKwBKAEwAnoECAAQDQ\">한글의 우수성</div><div data-ved=\"2ahUKEwjVprjl4q_cAhWMwrwKHS2LBy0QsKwBKAIwAnoECAAQDg\">한글 자음</div><div data-ved=\"2ahUKEwjVprjl4q_cAhWMwrwKHS2LBy0QsKwBKAMwAnoECAAQDw\">훈민정음 발음</div><div data-ved=\"2ahUKEwjVprjl4q_cAhWMwrwKHS2LBy0QsKwBKAQwAnoECAAQEA\">옛 한글 발음</div><div data-ved=\"2ahUKEwjVprjl4q_cAhWMwrwKHS2LBy0QsKwBKAUwAnoECAAQEQ\">한글 몽골 문자</div></div><span aria-label=\"추천 후속 작업을 닫습니다.\" class=\"XCKyNd\" data-rtid=\"iXtsJWZk4Z1E\" id=\"eobs_2\" jsaction=\"r.pz0qjfJrMDo\" jsl=\"$x 2;\" role=\"button\" tabindex=\"0\"></span><div><div class=\"d8lLoc iXtsJWZk4Z1E-eEjGhTK0s34\" id=\"eobc_2\"><h4 class=\"eJ7tvc iXtsJWZk4Z1E-ZgH0LU9o8RU\" id=\"eobp_2\">함께 검색한 항목</h4><div class=\"hYkSRb iXtsJWZk4Z1E-ICxnu-SGsqE\" id=\"eobr_2\"></div></div></div></div></div></div>,\n",
       " <div class=\"rc\"><h3 class=\"r\"><a href=\"https://namu.wiki/w/%ED%95%9C%EC%BB%B4%EC%98%A4%ED%94%BC%EC%8A%A4%20%ED%95%9C%EA%B8%80\" ping=\"/url?sa=t&amp;source=web&amp;rct=j&amp;url=https://namu.wiki/w/%25ED%2595%259C%25EC%25BB%25B4%25EC%2598%25A4%25ED%2594%25BC%25EC%258A%25A4%2520%25ED%2595%259C%25EA%25B8%2580&amp;ved=2ahUKEwjVprjl4q_cAhWMwrwKHS2LBy0QFjANegQIAxAB\">한컴오피스 한글 - 나무위키</a></h3><div class=\"s\"><div><div class=\"f hJND5c TbwUpd\" style=\"white-space:nowrap\"><cite class=\"iUh30\">https://namu.wiki/w/한컴오피스%20한글</cite><div class=\"action-menu ab_ctl\"><a aria-expanded=\"false\" aria-haspopup=\"true\" aria-label=\"검색결과 옵션\" class=\"GHDvEf ab_button\" data-ved=\"2ahUKEwjVprjl4q_cAhWMwrwKHS2LBy0Q7B0wDXoECAMQAg\" href=\"#\" id=\"am-b13\" jsaction=\"m.tdd;keydown:m.hbke;keypress:m.mskpe\" role=\"button\"><span class=\"mn-dwn-arw\"></span></a><div class=\"action-menu-panel ab_dropdown\" data-ved=\"2ahUKEwjVprjl4q_cAhWMwrwKHS2LBy0QqR8wDXoECAMQAw\" jsaction=\"keydown:m.hdke;mouseover:m.hdhne;mouseout:m.hdhue\" role=\"menu\" tabindex=\"-1\"><ol><li class=\"action-menu-item ab_dropdownitem\" role=\"menuitem\"><a class=\"fl\" href=\"/search?q=related:https://namu.wiki/w/%25ED%2595%259C%25EC%25BB%25B4%25EC%2598%25A4%25ED%2594%25BC%25EC%258A%25A4%2520%25ED%2595%259C%25EA%25B8%2580+%ED%95%9C%EA%B8%80&amp;tbo=1&amp;sa=X&amp;ved=2ahUKEwjVprjl4q_cAhWMwrwKHS2LBy0QHzANegQIAxAE\">유사한 페이지</a></li></ol></div></div></div><span class=\"st\"><span class=\"f\">2018. 7. 13. - </span><em>한글</em>과컴퓨터에서 개발한 워드프로세서. 한컴오피스 제품군 중 ... 2018년 4월 기준으로, 최신 버전은 한컴오피스 <em>한글</em> 2018이다. <em>한글</em> 2007까지의 ...</span></div></div><div class=\"r-izrIPlIwj01o\" data-ved=\"2ahUKEwjVprjl4q_cAhWMwrwKHS2LBy0Q2Z0BMA16BAgDEAY\" jsl=\"$t t--ddbPTeIsNI;$x 0;\"><div class=\"AUiS2 izrIPlIwj01o-7_jVsFT_9Io\" data-ved=\"2ahUKEwjVprjl4q_cAhWMwrwKHS2LBy0Qx40DMA16BAgDEAc\" id=\"eobm_13\"><div class=\"izrIPlIwj01o-uhagcrfPmuU\" id=\"eobd_13\" style=\"display:none\"><div data-ved=\"2ahUKEwjVprjl4q_cAhWMwrwKHS2LBy0QsKwBKAAwDXoECAMQCA\">한컴오피스 가격</div><div data-ved=\"2ahUKEwjVprjl4q_cAhWMwrwKHS2LBy0QsKwBKAEwDXoECAMQCQ\">한글 neo 메모리 부족</div><div data-ved=\"2ahUKEwjVprjl4q_cAhWMwrwKHS2LBy0QsKwBKAIwDXoECAMQCg\">한글 2018 수식</div><div data-ved=\"2ahUKEwjVprjl4q_cAhWMwrwKHS2LBy0QsKwBKAMwDXoECAMQCw\">아이 패드 한컴 오피스</div><div data-ved=\"2ahUKEwjVprjl4q_cAhWMwrwKHS2LBy0QsKwBKAQwDXoECAMQDA\">넷피스 24 나무 위키</div><div data-ved=\"2ahUKEwjVprjl4q_cAhWMwrwKHS2LBy0QsKwBKAUwDXoECAMQDQ\">한글 대체 프로그램</div></div><span aria-label=\"추천 후속 작업을 닫습니다.\" class=\"XCKyNd\" data-rtid=\"izrIPlIwj01o\" id=\"eobs_13\" jsaction=\"r.pz0qjfJrMDo\" jsl=\"$x 2;\" role=\"button\" tabindex=\"0\"></span><div><div class=\"d8lLoc izrIPlIwj01o-eEjGhTK0s34\" id=\"eobc_13\"><h4 class=\"eJ7tvc izrIPlIwj01o-ZgH0LU9o8RU\" id=\"eobp_13\">함께 검색한 항목</h4><div class=\"hYkSRb izrIPlIwj01o-ICxnu-SGsqE\" id=\"eobr_13\"></div></div></div></div></div></div>,\n",
       " <div class=\"rc\"><h3 class=\"r\"><a href=\"https://ko.wikipedia.org/wiki/%ED%95%9C%EA%B8%80\" ping=\"/url?sa=t&amp;source=web&amp;rct=j&amp;url=https://ko.wikipedia.org/wiki/%25ED%2595%259C%25EA%25B8%2580&amp;ved=2ahUKEwjVprjl4q_cAhWMwrwKHS2LBy0QFjAOegQIBBAB\">한글 - 위키백과, 우리 모두의 백과사전</a></h3><div class=\"s\"><div><div class=\"f hJND5c TbwUpd\" style=\"white-space:nowrap\"><cite class=\"iUh30\">https://ko.wikipedia.org/wiki/한글</cite><div class=\"action-menu ab_ctl\"><a aria-expanded=\"false\" aria-haspopup=\"true\" aria-label=\"검색결과 옵션\" class=\"GHDvEf ab_button\" data-ved=\"2ahUKEwjVprjl4q_cAhWMwrwKHS2LBy0Q7B0wDnoECAQQAg\" href=\"#\" id=\"am-b14\" jsaction=\"m.tdd;keydown:m.hbke;keypress:m.mskpe\" role=\"button\"><span class=\"mn-dwn-arw\"></span></a><div class=\"action-menu-panel ab_dropdown\" data-ved=\"2ahUKEwjVprjl4q_cAhWMwrwKHS2LBy0QqR8wDnoECAQQAw\" jsaction=\"keydown:m.hdke;mouseover:m.hdhne;mouseout:m.hdhue\" role=\"menu\" tabindex=\"-1\"><ol><li class=\"action-menu-item ab_dropdownitem\" role=\"menuitem\"><a class=\"fl\" href=\"https://webcache.googleusercontent.com/search?q=cache:WFDRqFWp6qkJ:https://ko.wikipedia.org/wiki/%25ED%2595%259C%25EA%25B8%2580+&amp;cd=15&amp;hl=ko&amp;ct=clnk&amp;gl=kr\" ping=\"/url?sa=t&amp;source=web&amp;rct=j&amp;url=https://webcache.googleusercontent.com/search%3Fq%3Dcache:WFDRqFWp6qkJ:https://ko.wikipedia.org/wiki/%2525ED%252595%25259C%2525EA%2525B8%252580%2B%26cd%3D15%26hl%3Dko%26ct%3Dclnk%26gl%3Dkr&amp;ved=2ahUKEwjVprjl4q_cAhWMwrwKHS2LBy0QIDAOegQIBBAE\">저장된 페이지</a></li><li class=\"action-menu-item ab_dropdownitem\" role=\"menuitem\"><a class=\"fl\" href=\"/search?q=related:https://ko.wikipedia.org/wiki/%25ED%2595%259C%25EA%25B8%2580+%ED%95%9C%EA%B8%80&amp;tbo=1&amp;sa=X&amp;ved=2ahUKEwjVprjl4q_cAhWMwrwKHS2LBy0QHzAOegQIBBAF\">유사한 페이지</a></li></ol></div></div></div><span class=\"st\"><em>한글</em>은 조선 제 4대 임금 세종이 훈민정음(訓民正音)이라는 이름으로 창제하여 1446년에 반포한 문자로, 한국어를 표기하기 위해 만들어졌다. 현재 대한민국과 조선 ...</span></div></div><div class=\"r-iPzO01HOjzEI\" data-ved=\"2ahUKEwjVprjl4q_cAhWMwrwKHS2LBy0Q2Z0BMA56BAgEEAY\" jsl=\"$t t--ddbPTeIsNI;$x 0;\"><div class=\"AUiS2 iPzO01HOjzEI-7_jVsFT_9Io\" data-ved=\"2ahUKEwjVprjl4q_cAhWMwrwKHS2LBy0Qx40DMA56BAgEEAc\" id=\"eobm_14\"><div class=\"iPzO01HOjzEI-uhagcrfPmuU\" id=\"eobd_14\" style=\"display:none\"><div data-ved=\"2ahUKEwjVprjl4q_cAhWMwrwKHS2LBy0QsKwBKAAwDnoECAQQCA\">한글의 우수성</div><div data-ved=\"2ahUKEwjVprjl4q_cAhWMwrwKHS2LBy0QsKwBKAEwDnoECAQQCQ\">한글 창제</div><div data-ved=\"2ahUKEwjVprjl4q_cAhWMwrwKHS2LBy0QsKwBKAIwDnoECAQQCg\">훈민정음 의 우수성</div><div data-ved=\"2ahUKEwjVprjl4q_cAhWMwrwKHS2LBy0QsKwBKAMwDnoECAQQCw\">한글창제의 의의</div><div data-ved=\"2ahUKEwjVprjl4q_cAhWMwrwKHS2LBy0QsKwBKAQwDnoECAQQDA\">훈민정음의 가치</div><div data-ved=\"2ahUKEwjVprjl4q_cAhWMwrwKHS2LBy0QsKwBKAUwDnoECAQQDQ\">한글날</div></div><span aria-label=\"추천 후속 작업을 닫습니다.\" class=\"XCKyNd\" data-rtid=\"iPzO01HOjzEI\" id=\"eobs_14\" jsaction=\"r.pz0qjfJrMDo\" jsl=\"$x 2;\" role=\"button\" tabindex=\"0\"></span><div><div class=\"d8lLoc iPzO01HOjzEI-eEjGhTK0s34\" id=\"eobc_14\"><h4 class=\"eJ7tvc iPzO01HOjzEI-ZgH0LU9o8RU\" id=\"eobp_14\">함께 검색한 항목</h4><div class=\"hYkSRb iPzO01HOjzEI-ICxnu-SGsqE\" id=\"eobr_14\"></div></div></div></div></div></div>,\n",
       " <div class=\"rc\"><h3 class=\"r\"><a href=\"https://ko.wikibooks.org/wiki/%ED%95%9C%EA%B5%AD%EC%96%B4_%EC%9E%85%EB%AC%B8/%ED%95%9C%EA%B8%80_%EC%9E%90%EB%AA%A8\" ping=\"/url?sa=t&amp;source=web&amp;rct=j&amp;url=https://ko.wikibooks.org/wiki/%25ED%2595%259C%25EA%25B5%25AD%25EC%2596%25B4_%25EC%259E%2585%25EB%25AC%25B8/%25ED%2595%259C%25EA%25B8%2580_%25EC%259E%2590%25EB%25AA%25A8&amp;ved=2ahUKEwjVprjl4q_cAhWMwrwKHS2LBy0QFjAPegQIBRAB\">한국어 입문/한글 자모 - 위키책</a></h3><div class=\"s\"><div><div class=\"f hJND5c TbwUpd\" style=\"white-space:nowrap\"><cite class=\"iUh30\">https://ko.wikibooks.org/wiki/한국어_입문/한글_자모</cite><div class=\"action-menu ab_ctl\"><a aria-expanded=\"false\" aria-haspopup=\"true\" aria-label=\"검색결과 옵션\" class=\"GHDvEf ab_button\" data-ved=\"2ahUKEwjVprjl4q_cAhWMwrwKHS2LBy0Q7B0wD3oECAUQAg\" href=\"#\" id=\"am-b15\" jsaction=\"m.tdd;keydown:m.hbke;keypress:m.mskpe\" role=\"button\"><span class=\"mn-dwn-arw\"></span></a><div class=\"action-menu-panel ab_dropdown\" data-ved=\"2ahUKEwjVprjl4q_cAhWMwrwKHS2LBy0QqR8wD3oECAUQAw\" jsaction=\"keydown:m.hdke;mouseover:m.hdhne;mouseout:m.hdhue\" role=\"menu\" tabindex=\"-1\"><ol><li class=\"action-menu-item ab_dropdownitem\" role=\"menuitem\"><a class=\"fl\" href=\"https://webcache.googleusercontent.com/search?q=cache:pORgG4d9jF0J:https://ko.wikibooks.org/wiki/%25ED%2595%259C%25EA%25B5%25AD%25EC%2596%25B4_%25EC%259E%2585%25EB%25AC%25B8/%25ED%2595%259C%25EA%25B8%2580_%25EC%259E%2590%25EB%25AA%25A8+&amp;cd=16&amp;hl=ko&amp;ct=clnk&amp;gl=kr\" ping=\"/url?sa=t&amp;source=web&amp;rct=j&amp;url=https://webcache.googleusercontent.com/search%3Fq%3Dcache:pORgG4d9jF0J:https://ko.wikibooks.org/wiki/%2525ED%252595%25259C%2525EA%2525B5%2525AD%2525EC%252596%2525B4_%2525EC%25259E%252585%2525EB%2525AC%2525B8/%2525ED%252595%25259C%2525EA%2525B8%252580_%2525EC%25259E%252590%2525EB%2525AA%2525A8%2B%26cd%3D16%26hl%3Dko%26ct%3Dclnk%26gl%3Dkr&amp;ved=2ahUKEwjVprjl4q_cAhWMwrwKHS2LBy0QIDAPegQIBRAE\">저장된 페이지</a></li><li class=\"action-menu-item ab_dropdownitem\" role=\"menuitem\"><a class=\"fl\" href=\"/search?q=related:https://ko.wikibooks.org/wiki/%25ED%2595%259C%25EA%25B5%25AD%25EC%2596%25B4_%25EC%259E%2585%25EB%25AC%25B8/%25ED%2595%259C%25EA%25B8%2580_%25EC%259E%2590%25EB%25AA%25A8+%ED%95%9C%EA%B8%80&amp;tbo=1&amp;sa=X&amp;ved=2ahUKEwjVprjl4q_cAhWMwrwKHS2LBy0QHzAPegQIBRAF\">유사한 페이지</a></li></ol></div></div></div><span class=\"st\">ㄱ, ㄴ, ㄷ, ㄹ, ㅁ, ㅂ, ㅅ, ㅇ, ㅈ, ㅊ, ㅋ, ㅌ, ㅍ, ㅎ. 기역, 니은, 디귿, 리을, 미음, 비읍, 시옷, 이응, 지읒, 치읓, 키읔, 티읕, 피읖, 히읗 ...</span></div></div><div class=\"r-i00ZuT8Qy_zc\" data-ved=\"2ahUKEwjVprjl4q_cAhWMwrwKHS2LBy0Q2Z0BMA96BAgFEAY\" jsl=\"$t t--ddbPTeIsNI;$x 0;\"><div class=\"AUiS2 i00ZuT8Qy_zc-7_jVsFT_9Io\" data-ved=\"2ahUKEwjVprjl4q_cAhWMwrwKHS2LBy0Qx40DMA96BAgFEAc\" id=\"eobm_15\"><div class=\"i00ZuT8Qy_zc-uhagcrfPmuU\" id=\"eobd_15\" style=\"display:none\"><div data-ved=\"2ahUKEwjVprjl4q_cAhWMwrwKHS2LBy0QsKwBKAAwD3oECAUQCA\">한국어 ipa</div><div data-ved=\"2ahUKEwjVprjl4q_cAhWMwrwKHS2LBy0QsKwBKAEwD3oECAUQCQ\">한글 자음 발음</div><div data-ved=\"2ahUKEwjVprjl4q_cAhWMwrwKHS2LBy0QsKwBKAIwD3oECAUQCg\">ipa 변환기</div><div data-ved=\"2ahUKEwjVprjl4q_cAhWMwrwKHS2LBy0QsKwBKAMwD3oECAUQCw\">모음</div><div data-ved=\"2ahUKEwjVprjl4q_cAhWMwrwKHS2LBy0QsKwBKAQwD3oECAUQDA\">한글 모음 순서</div><div data-ved=\"2ahUKEwjVprjl4q_cAhWMwrwKHS2LBy0QsKwBKAUwD3oECAUQDQ\">한글 자음 모음 카드</div></div><span aria-label=\"추천 후속 작업을 닫습니다.\" class=\"XCKyNd\" data-rtid=\"i00ZuT8Qy_zc\" id=\"eobs_15\" jsaction=\"r.pz0qjfJrMDo\" jsl=\"$x 2;\" role=\"button\" tabindex=\"0\"></span><div><div class=\"d8lLoc i00ZuT8Qy_zc-eEjGhTK0s34\" id=\"eobc_15\"><h4 class=\"eJ7tvc i00ZuT8Qy_zc-ZgH0LU9o8RU\" id=\"eobp_15\">함께 검색한 항목</h4><div class=\"hYkSRb i00ZuT8Qy_zc-ICxnu-SGsqE\" id=\"eobr_15\"></div></div></div></div></div></div>,\n",
       " <div class=\"rc\"><h3 class=\"r\"><a href=\"https://www.korean.go.kr/hangeul/\" ping=\"/url?sa=t&amp;source=web&amp;rct=j&amp;url=https://www.korean.go.kr/hangeul/&amp;ved=2ahUKEwjVprjl4q_cAhWMwrwKHS2LBy0QFjAQegQIBxAB\">알고 싶은 한글</a></h3><div class=\"s\"><div><div class=\"f hJND5c TbwUpd\" style=\"white-space:nowrap\"><cite class=\"iUh30\">https://www.korean.go.kr/hangeul/</cite><div class=\"action-menu ab_ctl\"><a aria-expanded=\"false\" aria-haspopup=\"true\" aria-label=\"검색결과 옵션\" class=\"GHDvEf ab_button\" data-ved=\"2ahUKEwjVprjl4q_cAhWMwrwKHS2LBy0Q7B0wEHoECAcQAg\" href=\"#\" id=\"am-b16\" jsaction=\"m.tdd;keydown:m.hbke;keypress:m.mskpe\" role=\"button\"><span class=\"mn-dwn-arw\"></span></a><div class=\"action-menu-panel ab_dropdown\" data-ved=\"2ahUKEwjVprjl4q_cAhWMwrwKHS2LBy0QqR8wEHoECAcQAw\" jsaction=\"keydown:m.hdke;mouseover:m.hdhne;mouseout:m.hdhue\" role=\"menu\" tabindex=\"-1\"><ol><li class=\"action-menu-item ab_dropdownitem\" role=\"menuitem\"><a class=\"fl\" href=\"https://webcache.googleusercontent.com/search?q=cache:zHfMhxG5xDMJ:https://www.korean.go.kr/hangeul/+&amp;cd=17&amp;hl=ko&amp;ct=clnk&amp;gl=kr\" ping=\"/url?sa=t&amp;source=web&amp;rct=j&amp;url=https://webcache.googleusercontent.com/search%3Fq%3Dcache:zHfMhxG5xDMJ:https://www.korean.go.kr/hangeul/%2B%26cd%3D17%26hl%3Dko%26ct%3Dclnk%26gl%3Dkr&amp;ved=2ahUKEwjVprjl4q_cAhWMwrwKHS2LBy0QIDAQegQIBxAE\">저장된 페이지</a></li><li class=\"action-menu-item ab_dropdownitem\" role=\"menuitem\"><a class=\"fl\" href=\"/search?q=related:https://www.korean.go.kr/hangeul/+%ED%95%9C%EA%B8%80&amp;tbo=1&amp;sa=X&amp;ved=2ahUKEwjVprjl4q_cAhWMwrwKHS2LBy0QHzAQegQIBxAF\">유사한 페이지</a></li></ol></div></div></div></div></div><div class=\"r-iFVd3wJcoN9o\" data-ved=\"2ahUKEwjVprjl4q_cAhWMwrwKHS2LBy0Q2Z0BMBB6BAgHEAY\" jsl=\"$t t--ddbPTeIsNI;$x 0;\"><div class=\"AUiS2 iFVd3wJcoN9o-7_jVsFT_9Io\" data-ved=\"2ahUKEwjVprjl4q_cAhWMwrwKHS2LBy0Qx40DMBB6BAgHEAc\" id=\"eobm_16\"><div class=\"iFVd3wJcoN9o-uhagcrfPmuU\" id=\"eobd_16\" style=\"display:none\"><div data-ved=\"2ahUKEwjVprjl4q_cAhWMwrwKHS2LBy0QsKwBKAAwEHoECAcQCA\">한국어 기본 모음</div><div data-ved=\"2ahUKEwjVprjl4q_cAhWMwrwKHS2LBy0QsKwBKAEwEHoECAcQCQ\">세계 속의 한국어</div><div data-ved=\"2ahUKEwjVprjl4q_cAhWMwrwKHS2LBy0QsKwBKAIwEHoECAcQCg\">바른 소리</div><div data-ved=\"2ahUKEwjVprjl4q_cAhWMwrwKHS2LBy0QsKwBKAMwEHoECAcQCw\">한글 받침</div><div data-ved=\"2ahUKEwjVprjl4q_cAhWMwrwKHS2LBy0QsKwBKAQwEHoECAcQDA\">국어 문화 개선</div><div data-ved=\"2ahUKEwjVprjl4q_cAhWMwrwKHS2LBy0QsKwBKAUwEHoECAcQDQ\">한글 모음 과 자음</div></div><span aria-label=\"추천 후속 작업을 닫습니다.\" class=\"XCKyNd\" data-rtid=\"iFVd3wJcoN9o\" id=\"eobs_16\" jsaction=\"r.pz0qjfJrMDo\" jsl=\"$x 2;\" role=\"button\" tabindex=\"0\"></span><div><div class=\"d8lLoc iFVd3wJcoN9o-eEjGhTK0s34\" id=\"eobc_16\"><h4 class=\"eJ7tvc iFVd3wJcoN9o-ZgH0LU9o8RU\" id=\"eobp_16\">함께 검색한 항목</h4><div class=\"hYkSRb iFVd3wJcoN9o-ICxnu-SGsqE\" id=\"eobr_16\"></div></div></div></div></div></div>,\n",
       " <div class=\"rc\"><h3 class=\"r\"><a href=\"https://www.microsoft.com/ko-kr/download/details.aspx?id=36772\" ping=\"/url?sa=t&amp;source=web&amp;rct=j&amp;url=https://www.microsoft.com/ko-kr/download/details.aspx%3Fid%3D36772&amp;ved=2ahUKEwjVprjl4q_cAhWMwrwKHS2LBy0QFjARegQICBAB\">Download Microsoft Word를 위한 아래아한글 문서 변환 도구 from ...</a></h3><div class=\"s\"><div><div class=\"f hJND5c TbwUpd\" style=\"white-space:nowrap\"><cite class=\"iUh30\">https://www.microsoft.com/ko-kr/download/details.aspx?id=36772</cite><div class=\"action-menu ab_ctl\"><a aria-expanded=\"false\" aria-haspopup=\"true\" aria-label=\"검색결과 옵션\" class=\"GHDvEf ab_button\" data-ved=\"2ahUKEwjVprjl4q_cAhWMwrwKHS2LBy0Q7B0wEXoECAgQAg\" href=\"#\" id=\"am-b17\" jsaction=\"m.tdd;keydown:m.hbke;keypress:m.mskpe\" role=\"button\"><span class=\"mn-dwn-arw\"></span></a><div class=\"action-menu-panel ab_dropdown\" data-ved=\"2ahUKEwjVprjl4q_cAhWMwrwKHS2LBy0QqR8wEXoECAgQAw\" jsaction=\"keydown:m.hdke;mouseover:m.hdhne;mouseout:m.hdhue\" role=\"menu\" tabindex=\"-1\"><ol><li class=\"action-menu-item ab_dropdownitem\" role=\"menuitem\"><a class=\"fl\" href=\"https://webcache.googleusercontent.com/search?q=cache:Dwkw7nu5zlcJ:https://www.microsoft.com/ko-kr/download/details.aspx%3Fid%3D36772+&amp;cd=18&amp;hl=ko&amp;ct=clnk&amp;gl=kr\" ping=\"/url?sa=t&amp;source=web&amp;rct=j&amp;url=https://webcache.googleusercontent.com/search%3Fq%3Dcache:Dwkw7nu5zlcJ:https://www.microsoft.com/ko-kr/download/details.aspx%253Fid%253D36772%2B%26cd%3D18%26hl%3Dko%26ct%3Dclnk%26gl%3Dkr&amp;ved=2ahUKEwjVprjl4q_cAhWMwrwKHS2LBy0QIDARegQICBAE\">저장된 페이지</a></li><li class=\"action-menu-item ab_dropdownitem\" role=\"menuitem\"><a class=\"fl\" href=\"/search?q=related:https://www.microsoft.com/ko-kr/download/details.aspx%3Fid%3D36772+%ED%95%9C%EA%B8%80&amp;tbo=1&amp;sa=X&amp;ved=2ahUKEwjVprjl4q_cAhWMwrwKHS2LBy0QHzARegQICBAF\">유사한 페이지</a></li></ol></div></div></div><span class=\"st\"><span class=\"f\">2013. 2. 25. - </span>Microsoft Word를 위한 아래아<em>한글</em> 문서 변환 도구는 Microsoft Word에서 <em>HWP</em>파일을 DOCX파일처럼 변환하고 열 수 있도록 해 주는 도구입니다.</span></div></div><div class=\"r-iIDRzp1E4kwY\" data-ved=\"2ahUKEwjVprjl4q_cAhWMwrwKHS2LBy0Q2Z0BMBF6BAgIEAc\" jsl=\"$t t--ddbPTeIsNI;$x 0;\"><div class=\"AUiS2 iIDRzp1E4kwY-7_jVsFT_9Io\" data-ved=\"2ahUKEwjVprjl4q_cAhWMwrwKHS2LBy0Qx40DMBF6BAgIEAg\" id=\"eobm_17\"><div class=\"iIDRzp1E4kwY-uhagcrfPmuU\" id=\"eobd_17\" style=\"display:none\"><div data-ved=\"2ahUKEwjVprjl4q_cAhWMwrwKHS2LBy0QsKwBKAAwEXoECAgQCQ\">doc를 hwp 변환</div><div data-ved=\"2ahUKEwjVprjl4q_cAhWMwrwKHS2LBy0QsKwBKAEwEXoECAgQCg\">hwp doc 변환 사이트</div><div data-ved=\"2ahUKEwjVprjl4q_cAhWMwrwKHS2LBy0QsKwBKAIwEXoECAgQCw\">hwp 무료 다운로드</div><div data-ved=\"2ahUKEwjVprjl4q_cAhWMwrwKHS2LBy0QsKwBKAMwEXoECAgQDA\">hwpconverter</div><div data-ved=\"2ahUKEwjVprjl4q_cAhWMwrwKHS2LBy0QsKwBKAQwEXoECAgQDQ\">워드 로 한글 읽기</div><div data-ved=\"2ahUKEwjVprjl4q_cAhWMwrwKHS2LBy0QsKwBKAUwEXoECAgQDg\">hwp to docx online</div></div><span aria-label=\"추천 후속 작업을 닫습니다.\" class=\"XCKyNd\" data-rtid=\"iIDRzp1E4kwY\" id=\"eobs_17\" jsaction=\"r.pz0qjfJrMDo\" jsl=\"$x 2;\" role=\"button\" tabindex=\"0\"></span><div><div class=\"d8lLoc iIDRzp1E4kwY-eEjGhTK0s34\" id=\"eobc_17\"><h4 class=\"eJ7tvc iIDRzp1E4kwY-ZgH0LU9o8RU\" id=\"eobp_17\">함께 검색한 항목</h4><div class=\"hYkSRb iIDRzp1E4kwY-ICxnu-SGsqE\" id=\"eobr_17\"></div></div></div></div></div></div>,\n",
       " <div class=\"rc\"><h3 class=\"r\"><a href=\"https://www1.president.go.kr/petitions/154276\" ping=\"/url?sa=t&amp;source=web&amp;rct=j&amp;url=https://www1.president.go.kr/petitions/154276&amp;ved=2ahUKEwjVprjl4q_cAhWMwrwKHS2LBy0QFjASegQICRAB\">공공기관 한글(HWP) 독점을 금지시켜 주세요 &gt; 국민청원 &gt; 대한민국 ...</a></h3><div class=\"s\"><div><div class=\"f hJND5c TbwUpd\" style=\"white-space:nowrap\"><cite class=\"iUh30\">https://www1.president.go.kr/petitions/154276</cite><div class=\"action-menu ab_ctl\"><a aria-expanded=\"false\" aria-haspopup=\"true\" aria-label=\"검색결과 옵션\" class=\"GHDvEf ab_button\" data-ved=\"2ahUKEwjVprjl4q_cAhWMwrwKHS2LBy0Q7B0wEnoECAkQAg\" href=\"#\" id=\"am-b18\" jsaction=\"m.tdd;keydown:m.hbke;keypress:m.mskpe\" role=\"button\"><span class=\"mn-dwn-arw\"></span></a><div class=\"action-menu-panel ab_dropdown\" data-ved=\"2ahUKEwjVprjl4q_cAhWMwrwKHS2LBy0QqR8wEnoECAkQAw\" jsaction=\"keydown:m.hdke;mouseover:m.hdhne;mouseout:m.hdhue\" role=\"menu\" tabindex=\"-1\"><ol><li class=\"action-menu-item ab_dropdownitem\" role=\"menuitem\"><a class=\"fl\" href=\"https://webcache.googleusercontent.com/search?q=cache:RWfKJiMKN48J:https://www1.president.go.kr/petitions/154276+&amp;cd=19&amp;hl=ko&amp;ct=clnk&amp;gl=kr\" ping=\"/url?sa=t&amp;source=web&amp;rct=j&amp;url=https://webcache.googleusercontent.com/search%3Fq%3Dcache:RWfKJiMKN48J:https://www1.president.go.kr/petitions/154276%2B%26cd%3D19%26hl%3Dko%26ct%3Dclnk%26gl%3Dkr&amp;ved=2ahUKEwjVprjl4q_cAhWMwrwKHS2LBy0QIDASegQICRAE\">저장된 페이지</a></li></ol></div></div></div><span class=\"st\"><span class=\"f\">2018. 2. 28. - </span>나는 <em>HWP</em>가 없습니다. 그걸 살 돈 도 없고, 사주고 싶은 마음도 없습니다. 불법으로 사용하면 구속이 됩니다. 정부 관련 문서는 모두 <em>HWP</em>로 만 되어 ...</span></div></div></div>]"
      ]
     },
     "execution_count": 11,
     "metadata": {},
     "output_type": "execute_result"
    }
   ],
   "source": [
    "dom.select(\"div.rc\") # 그냥 rc 로 해도되는데 div 가 rc 인걸로한정지음"
   ]
  },
  {
   "cell_type": "code",
   "execution_count": 12,
   "metadata": {},
   "outputs": [],
   "source": [
    "aList = dom.select(\"div.rc > h3.r > a\")"
   ]
  },
  {
   "cell_type": "code",
   "execution_count": 13,
   "metadata": {},
   "outputs": [
    {
     "name": "stdout",
     "output_type": "stream",
     "text": [
      "https://www.hancom.com/product/productWindowsMain.do\n",
      "http://www.hancom.com/downLoad.downPU.do\n",
      "https://namu.wiki/w/%ED%95%9C%EA%B8%80\n",
      "https://namu.wiki/w/%ED%95%9C%EC%BB%B4%EC%98%A4%ED%94%BC%EC%8A%A4%20%ED%95%9C%EA%B8%80\n",
      "https://ko.wikipedia.org/wiki/%ED%95%9C%EA%B8%80\n",
      "https://ko.wikibooks.org/wiki/%ED%95%9C%EA%B5%AD%EC%96%B4_%EC%9E%85%EB%AC%B8/%ED%95%9C%EA%B8%80_%EC%9E%90%EB%AA%A8\n",
      "https://www.korean.go.kr/hangeul/\n",
      "https://www.microsoft.com/ko-kr/download/details.aspx?id=36772\n",
      "https://www1.president.go.kr/petitions/154276\n"
     ]
    }
   ],
   "source": [
    "for row in aList:\n",
    "    print(row[\"href\"])"
   ]
  },
  {
   "cell_type": "code",
   "execution_count": 14,
   "metadata": {},
   "outputs": [],
   "source": [
    "def getUrl(url,params=None,num_retries=2): # header 정보는 위에서 설정했으니까 필요가없을거같고.\n",
    "    html = requests.get(url, params=params, headers=headers) \n",
    "    \n",
    "    #responce 객체인 html 에 는 status_code 가 있다 . 에러 코드.\n",
    "    if 500<=html.status_code<600 and num_retries>0:\n",
    "        print(html.status_code,html.reason)\n",
    "        return getURl(url,params,num_retries-1)\n",
    "    \n",
    "    dom = BeautifulSoup(html.text,\"lxml\")\n",
    "    links = dom.select(\"div.rc > h3.r > a\")\n",
    "    return [link[\"href\"]for link in links]\n"
   ]
  },
  {
   "cell_type": "code",
   "execution_count": 15,
   "metadata": {},
   "outputs": [],
   "source": [
    "links = getUrl(url,params)"
   ]
  },
  {
   "cell_type": "code",
   "execution_count": 16,
   "metadata": {},
   "outputs": [
    {
     "data": {
      "text/plain": [
       "['https://www.hancom.com/product/productWindowsMain.do',\n",
       " 'http://www.hancom.com/downLoad.downPU.do',\n",
       " 'https://namu.wiki/w/%ED%95%9C%EA%B8%80',\n",
       " 'https://namu.wiki/w/%ED%95%9C%EC%BB%B4%EC%98%A4%ED%94%BC%EC%8A%A4%20%ED%95%9C%EA%B8%80',\n",
       " 'https://ko.wikipedia.org/wiki/%ED%95%9C%EA%B8%80',\n",
       " 'https://ko.wikibooks.org/wiki/%ED%95%9C%EA%B5%AD%EC%96%B4_%EC%9E%85%EB%AC%B8/%ED%95%9C%EA%B8%80_%EC%9E%90%EB%AA%A8',\n",
       " 'https://www.korean.go.kr/hangeul/',\n",
       " 'https://www.microsoft.com/ko-kr/download/details.aspx?id=36772',\n",
       " 'https://www1.president.go.kr/petitions/154276']"
      ]
     },
     "execution_count": 16,
     "metadata": {},
     "output_type": "execute_result"
    }
   ],
   "source": [
    "links"
   ]
  },
  {
   "cell_type": "code",
   "execution_count": 66,
   "metadata": {},
   "outputs": [],
   "source": [
    "#    links = dom.select(\"div.rc > h3.r > a\") 구글에서 해당되니까 다른사이트는 , 다른 방식으로 가져와야한다 .\n"
   ]
  },
  {
   "cell_type": "code",
   "execution_count": null,
   "metadata": {},
   "outputs": [],
   "source": []
  }
 ],
 "metadata": {
  "kernelspec": {
   "display_name": "Python 3",
   "language": "python",
   "name": "python3"
  },
  "language_info": {
   "codemirror_mode": {
    "name": "ipython",
    "version": 3
   },
   "file_extension": ".py",
   "mimetype": "text/x-python",
   "name": "python",
   "nbconvert_exporter": "python",
   "pygments_lexer": "ipython3",
   "version": "3.6.4"
  }
 },
 "nbformat": 4,
 "nbformat_minor": 2
}
