{
 "cells": [
  {
   "cell_type": "code",
   "execution_count": 1,
   "metadata": {},
   "outputs": [],
   "source": [
    "import urllib.request\n",
    "from lxml import etree"
   ]
  },
  {
   "cell_type": "code",
   "execution_count": 2,
   "metadata": {},
   "outputs": [],
   "source": [
    "url = \"http://openapi.airkorea.or.kr/openapi/services/rest/ArpltnInforInqireSvc/getMsrstnAcctoRltmMesureDnsty\""
   ]
  },
  {
   "cell_type": "code",
   "execution_count": 34,
   "metadata": {},
   "outputs": [],
   "source": [
    "params ={\n",
    "    \"serviceKey\":\"C9N9ExnIbd5esuobQ8zjDOi5p3iWoDQOhCRSlvgi4%2BgQEeLhRR4K3hDf%2BG3W%2BrZULxTVB3qUCrTxcAE43A6VNA%3D%3D\",\n",
    "    \"numOfRows\" : 10,\n",
    "    \"pageNo\":1,\n",
    "    \"stationName\":None,\n",
    "    \"ver\":\"1.3\",\n",
    "    \"dataTerm\":\"DAILY\",\n",
    "    \"startPage\" : 1,\n",
    "    \"pageSize\" : 10\n",
    "    }"
   ]
  },
  {
   "cell_type": "code",
   "execution_count": 35,
   "metadata": {},
   "outputs": [],
   "source": [
    "from urllib import parse"
   ]
  },
  {
   "cell_type": "code",
   "execution_count": 36,
   "metadata": {},
   "outputs": [],
   "source": [
    "params[\"serviceKey\"] = urllib.parse.unquote(params[\"serviceKey\"])"
   ]
  },
  {
   "cell_type": "code",
   "execution_count": 37,
   "metadata": {},
   "outputs": [
    {
     "data": {
      "text/plain": [
       "{'dataTerm': 'DAILY',\n",
       " 'numOfRows': 10,\n",
       " 'pageNo': 1,\n",
       " 'pageSize': 10,\n",
       " 'serviceKey': 'C9N9ExnIbd5esuobQ8zjDOi5p3iWoDQOhCRSlvgi4+gQEeLhRR4K3hDf+G3W+rZULxTVB3qUCrTxcAE43A6VNA==',\n",
       " 'startPage': 1,\n",
       " 'stationName': '종로구',\n",
       " 'ver': '1.3'}"
      ]
     },
     "execution_count": 37,
     "metadata": {},
     "output_type": "execute_result"
    }
   ],
   "source": [
    "params[\"stationName\"] =parse.unquote(\"종로구\")\n",
    "params"
   ]
  },
  {
   "cell_type": "code",
   "execution_count": 38,
   "metadata": {},
   "outputs": [],
   "source": [
    "params = urllib.parse.urlencode(params)"
   ]
  },
  {
   "cell_type": "code",
   "execution_count": 39,
   "metadata": {},
   "outputs": [
    {
     "data": {
      "text/plain": [
       "'serviceKey=C9N9ExnIbd5esuobQ8zjDOi5p3iWoDQOhCRSlvgi4%2BgQEeLhRR4K3hDf%2BG3W%2BrZULxTVB3qUCrTxcAE43A6VNA%3D%3D&numOfRows=10&pageNo=1&stationName=%EC%A2%85%EB%A1%9C%EA%B5%AC&ver=1.3&dataTerm=DAILY&startPage=1&pageSize=10'"
      ]
     },
     "execution_count": 39,
     "metadata": {},
     "output_type": "execute_result"
    }
   ],
   "source": [
    "params"
   ]
  },
  {
   "cell_type": "code",
   "execution_count": 40,
   "metadata": {
    "scrolled": true
   },
   "outputs": [
    {
     "data": {
      "text/plain": [
       "str"
      ]
     },
     "execution_count": 40,
     "metadata": {},
     "output_type": "execute_result"
    }
   ],
   "source": [
    "type(params)"
   ]
  },
  {
   "cell_type": "code",
   "execution_count": 41,
   "metadata": {},
   "outputs": [],
   "source": [
    "params = params.encode(\"utf-8\")"
   ]
  },
  {
   "cell_type": "code",
   "execution_count": 42,
   "metadata": {},
   "outputs": [
    {
     "data": {
      "text/plain": [
       "bytes"
      ]
     },
     "execution_count": 42,
     "metadata": {},
     "output_type": "execute_result"
    }
   ],
   "source": [
    "type(params)"
   ]
  },
  {
   "cell_type": "code",
   "execution_count": 43,
   "metadata": {},
   "outputs": [
    {
     "name": "stdout",
     "output_type": "stream",
     "text": [
      "http://openapi.airkorea.or.kr/openapi/services/rest/ArpltnInforInqireSvc/getMsrstnAcctoRltmMesureDnsty b'serviceKey=C9N9ExnIbd5esuobQ8zjDOi5p3iWoDQOhCRSlvgi4%2BgQEeLhRR4K3hDf%2BG3W%2BrZULxTVB3qUCrTxcAE43A6VNA%3D%3D&numOfRows=10&pageNo=1&stationName=%EC%A2%85%EB%A1%9C%EA%B5%AC&ver=1.3&dataTerm=DAILY&startPage=1&pageSize=10'\n"
     ]
    },
    {
     "data": {
      "text/plain": [
       "urllib.request.Request"
      ]
     },
     "execution_count": 43,
     "metadata": {},
     "output_type": "execute_result"
    }
   ],
   "source": [
    "req = urllib.request.Request(url,data=params)\n",
    "print(req.full_url,req.data)\n",
    "type(req)"
   ]
  },
  {
   "cell_type": "code",
   "execution_count": 44,
   "metadata": {},
   "outputs": [
    {
     "data": {
      "text/plain": [
       "200"
      ]
     },
     "execution_count": 44,
     "metadata": {},
     "output_type": "execute_result"
    }
   ],
   "source": [
    "rea = urllib.request.urlopen(req)\n",
    "rea.getcode()"
   ]
  },
  {
   "cell_type": "code",
   "execution_count": 29,
   "metadata": {},
   "outputs": [],
   "source": [
    "resResult = rea.read()"
   ]
  },
  {
   "cell_type": "code",
   "execution_count": 30,
   "metadata": {},
   "outputs": [
    {
     "data": {
      "text/plain": [
       "bytes"
      ]
     },
     "execution_count": 30,
     "metadata": {},
     "output_type": "execute_result"
    }
   ],
   "source": [
    "type(resResult)"
   ]
  },
  {
   "cell_type": "code",
   "execution_count": 31,
   "metadata": {},
   "outputs": [
    {
     "data": {
      "text/plain": [
       "b'<?xml version=\"1.0\" encoding=\"UTF-8\"?>\\r\\n\\r\\n\\r\\n\\r\\n\\r\\n<response>\\r\\n\\t<header>\\r\\n\\t\\t<resultCode>00</resultCode>\\r\\n\\t\\t<resultMsg>NORMAL SERVICE.</resultMsg>\\r\\n\\t</header>\\r\\n\\t<body>\\r\\n\\t\\t<items>\\r\\n\\t\\t\\t\\r\\n\\t\\t\\t\\t<item>\\r\\n\\t\\t\\t\\t\\t<dataTime>2018-08-06 22:00</dataTime>\\r\\n\\t\\t\\t\\t\\t\\r\\n                        <mangName>\\xeb\\x8f\\x84\\xec\\x8b\\x9c\\xeb\\x8c\\x80\\xea\\xb8\\xb0</mangName>\\r\\n                    \\r\\n\\t\\t\\t\\t\\t<so2Value>0.004</so2Value>\\r\\n\\t\\t\\t\\t\\t<coValue>0.3</coValue>\\r\\n\\t\\t\\t\\t\\t<o3Value>0.014</o3Value>\\r\\n\\t\\t\\t\\t\\t<no2Value>0.026</no2Value>\\r\\n\\t\\t\\t\\t\\t<pm10Value>28</pm10Value>\\r\\n\\t\\t\\t\\t\\t\\r\\n                        <pm10Value24>27</pm10Value24>\\r\\n                    \\r\\n\\t\\t\\t\\t\\t\\r\\n                        <pm25Value>18</pm25Value>\\r\\n                    \\r\\n                    \\r\\n                        <pm25Value24>18</pm25Value24>\\r\\n                    \\r\\n\\t\\t\\t\\t\\t<khaiValue>56</khaiValue>\\r\\n\\t\\t\\t\\t\\t<khaiGrade>2</khaiGrade>\\r\\n\\t\\t\\t\\t\\t<so2Grade>1</so2Grade>\\r\\n\\t\\t\\t\\t\\t<coGrade>1</coGrade>\\r\\n\\t\\t\\t\\t\\t<o3Grade>1</o3Grade>\\r\\n\\t\\t\\t\\t\\t<no2Grade>1</no2Grade>\\r\\n\\t\\t\\t\\t\\t<pm10Grade>1</pm10Grade>\\r\\n\\t\\t\\t\\t\\t\\r\\n                        <pm25Grade>2</pm25Grade>\\r\\n                    \\r\\n                    \\r\\n                        <pm10Grade1h>1</pm10Grade1h>\\r\\n                        <pm25Grade1h>2</pm25Grade1h>\\r\\n                    \\r\\n\\t\\t\\t\\t</item>\\r\\n\\t\\t\\t\\r\\n\\t\\t\\t\\t<item>\\r\\n\\t\\t\\t\\t\\t<dataTime>2018-08-06 21:00</dataTime>\\r\\n\\t\\t\\t\\t\\t\\r\\n                        <mangName>\\xeb\\x8f\\x84\\xec\\x8b\\x9c\\xeb\\x8c\\x80\\xea\\xb8\\xb0</mangName>\\r\\n                    \\r\\n\\t\\t\\t\\t\\t<so2Value>0.004</so2Value>\\r\\n\\t\\t\\t\\t\\t<coValue>0.3</coValue>\\r\\n\\t\\t\\t\\t\\t<o3Value>0.014</o3Value>\\r\\n\\t\\t\\t\\t\\t<no2Value>0.032</no2Value>\\r\\n\\t\\t\\t\\t\\t<pm10Value>28</pm10Value>\\r\\n\\t\\t\\t\\t\\t\\r\\n                        <pm10Value24>27</pm10Value24>\\r\\n                    \\r\\n\\t\\t\\t\\t\\t\\r\\n                        <pm25Value>19</pm25Value>\\r\\n                    \\r\\n                    \\r\\n                        <pm25Value24>18</pm25Value24>\\r\\n                    \\r\\n\\t\\t\\t\\t\\t<khaiValue>56</khaiValue>\\r\\n\\t\\t\\t\\t\\t<khaiGrade>2</khaiGrade>\\r\\n\\t\\t\\t\\t\\t<so2Grade>1</so2Grade>\\r\\n\\t\\t\\t\\t\\t<coGrade>1</coGrade>\\r\\n\\t\\t\\t\\t\\t<o3Grade>1</o3Grade>\\r\\n\\t\\t\\t\\t\\t<no2Grade>2</no2Grade>\\r\\n\\t\\t\\t\\t\\t<pm10Grade>1</pm10Grade>\\r\\n\\t\\t\\t\\t\\t\\r\\n                        <pm25Grade>2</pm25Grade>\\r\\n                    \\r\\n                    \\r\\n                        <pm10Grade1h>1</pm10Grade1h>\\r\\n                        <pm25Grade1h>2</pm25Grade1h>\\r\\n                    \\r\\n\\t\\t\\t\\t</item>\\r\\n\\t\\t\\t\\r\\n\\t\\t\\t\\t<item>\\r\\n\\t\\t\\t\\t\\t<dataTime>2018-08-06 20:00</dataTime>\\r\\n\\t\\t\\t\\t\\t\\r\\n                        <mangName>\\xeb\\x8f\\x84\\xec\\x8b\\x9c\\xeb\\x8c\\x80\\xea\\xb8\\xb0</mangName>\\r\\n                    \\r\\n\\t\\t\\t\\t\\t<so2Value>0.004</so2Value>\\r\\n\\t\\t\\t\\t\\t<coValue>0.5</coValue>\\r\\n\\t\\t\\t\\t\\t<o3Value>0.044</o3Value>\\r\\n\\t\\t\\t\\t\\t<no2Value>0.033</no2Value>\\r\\n\\t\\t\\t\\t\\t<pm10Value>22</pm10Value>\\r\\n\\t\\t\\t\\t\\t\\r\\n                        <pm10Value24>28</pm10Value24>\\r\\n                    \\r\\n\\t\\t\\t\\t\\t\\r\\n                        <pm25Value>16</pm25Value>\\r\\n                    \\r\\n                    \\r\\n                        <pm25Value24>18</pm25Value24>\\r\\n                    \\r\\n\\t\\t\\t\\t\\t<khaiValue>62</khaiValue>\\r\\n\\t\\t\\t\\t\\t<khaiGrade>2</khaiGrade>\\r\\n\\t\\t\\t\\t\\t<so2Grade>1</so2Grade>\\r\\n\\t\\t\\t\\t\\t<coGrade>1</coGrade>\\r\\n\\t\\t\\t\\t\\t<o3Grade>2</o3Grade>\\r\\n\\t\\t\\t\\t\\t<no2Grade>2</no2Grade>\\r\\n\\t\\t\\t\\t\\t<pm10Grade>1</pm10Grade>\\r\\n\\t\\t\\t\\t\\t\\r\\n                        <pm25Grade>2</pm25Grade>\\r\\n                    \\r\\n                    \\r\\n                        <pm10Grade1h>1</pm10Grade1h>\\r\\n                        <pm25Grade1h>2</pm25Grade1h>\\r\\n                    \\r\\n\\t\\t\\t\\t</item>\\r\\n\\t\\t\\t\\r\\n\\t\\t\\t\\t<item>\\r\\n\\t\\t\\t\\t\\t<dataTime>2018-08-06 19:00</dataTime>\\r\\n\\t\\t\\t\\t\\t\\r\\n                        <mangName>\\xeb\\x8f\\x84\\xec\\x8b\\x9c\\xeb\\x8c\\x80\\xea\\xb8\\xb0</mangName>\\r\\n                    \\r\\n\\t\\t\\t\\t\\t<so2Value>0.004</so2Value>\\r\\n\\t\\t\\t\\t\\t<coValue>0.5</coValue>\\r\\n\\t\\t\\t\\t\\t<o3Value>0.051</o3Value>\\r\\n\\t\\t\\t\\t\\t<no2Value>0.036</no2Value>\\r\\n\\t\\t\\t\\t\\t<pm10Value>26</pm10Value>\\r\\n\\t\\t\\t\\t\\t\\r\\n                        <pm10Value24>30</pm10Value24>\\r\\n                    \\r\\n\\t\\t\\t\\t\\t\\r\\n                        <pm25Value>17</pm25Value>\\r\\n                    \\r\\n                    \\r\\n                        <pm25Value24>19</pm25Value24>\\r\\n                    \\r\\n\\t\\t\\t\\t\\t<khaiValue>68</khaiValue>\\r\\n\\t\\t\\t\\t\\t<khaiGrade>2</khaiGrade>\\r\\n\\t\\t\\t\\t\\t<so2Grade>1</so2Grade>\\r\\n\\t\\t\\t\\t\\t<coGrade>1</coGrade>\\r\\n\\t\\t\\t\\t\\t<o3Grade>2</o3Grade>\\r\\n\\t\\t\\t\\t\\t<no2Grade>2</no2Grade>\\r\\n\\t\\t\\t\\t\\t<pm10Grade>1</pm10Grade>\\r\\n\\t\\t\\t\\t\\t\\r\\n                        <pm25Grade>2</pm25Grade>\\r\\n                    \\r\\n                    \\r\\n                        <pm10Grade1h>1</pm10Grade1h>\\r\\n                        <pm25Grade1h>2</pm25Grade1h>\\r\\n                    \\r\\n\\t\\t\\t\\t</item>\\r\\n\\t\\t\\t\\r\\n\\t\\t\\t\\t<item>\\r\\n\\t\\t\\t\\t\\t<dataTime>2018-08-06 18:00</dataTime>\\r\\n\\t\\t\\t\\t\\t\\r\\n                        <mangName>\\xeb\\x8f\\x84\\xec\\x8b\\x9c\\xeb\\x8c\\x80\\xea\\xb8\\xb0</mangName>\\r\\n                    \\r\\n\\t\\t\\t\\t\\t<so2Value>0.004</so2Value>\\r\\n\\t\\t\\t\\t\\t<coValue>0.6</coValue>\\r\\n\\t\\t\\t\\t\\t<o3Value>0.047</o3Value>\\r\\n\\t\\t\\t\\t\\t<no2Value>0.039</no2Value>\\r\\n\\t\\t\\t\\t\\t<pm10Value>32</pm10Value>\\r\\n\\t\\t\\t\\t\\t\\r\\n                        <pm10Value24>32</pm10Value24>\\r\\n                    \\r\\n\\t\\t\\t\\t\\t\\r\\n                        <pm25Value>22</pm25Value>\\r\\n                    \\r\\n                    \\r\\n                        <pm25Value24>20</pm25Value24>\\r\\n                    \\r\\n\\t\\t\\t\\t\\t<khaiValue>65</khaiValue>\\r\\n\\t\\t\\t\\t\\t<khaiGrade>2</khaiGrade>\\r\\n\\t\\t\\t\\t\\t<so2Grade>1</so2Grade>\\r\\n\\t\\t\\t\\t\\t<coGrade>1</coGrade>\\r\\n\\t\\t\\t\\t\\t<o3Grade>2</o3Grade>\\r\\n\\t\\t\\t\\t\\t<no2Grade>2</no2Grade>\\r\\n\\t\\t\\t\\t\\t<pm10Grade>2</pm10Grade>\\r\\n\\t\\t\\t\\t\\t\\r\\n                        <pm25Grade>2</pm25Grade>\\r\\n                    \\r\\n                    \\r\\n                        <pm10Grade1h>2</pm10Grade1h>\\r\\n                        <pm25Grade1h>2</pm25Grade1h>\\r\\n                    \\r\\n\\t\\t\\t\\t</item>\\r\\n\\t\\t\\t\\r\\n\\t\\t\\t\\t<item>\\r\\n\\t\\t\\t\\t\\t<dataTime>2018-08-06 17:00</dataTime>\\r\\n\\t\\t\\t\\t\\t\\r\\n                        <mangName>\\xeb\\x8f\\x84\\xec\\x8b\\x9c\\xeb\\x8c\\x80\\xea\\xb8\\xb0</mangName>\\r\\n                    \\r\\n\\t\\t\\t\\t\\t<so2Value>0.004</so2Value>\\r\\n\\t\\t\\t\\t\\t<coValue>0.4</coValue>\\r\\n\\t\\t\\t\\t\\t<o3Value>0.055</o3Value>\\r\\n\\t\\t\\t\\t\\t<no2Value>0.024</no2Value>\\r\\n\\t\\t\\t\\t\\t<pm10Value>34</pm10Value>\\r\\n\\t\\t\\t\\t\\t\\r\\n                        <pm10Value24>31</pm10Value24>\\r\\n                    \\r\\n\\t\\t\\t\\t\\t\\r\\n                        <pm25Value>21</pm25Value>\\r\\n                    \\r\\n                    \\r\\n                        <pm25Value24>19</pm25Value24>\\r\\n                    \\r\\n\\t\\t\\t\\t\\t<khaiValue>71</khaiValue>\\r\\n\\t\\t\\t\\t\\t<khaiGrade>2</khaiGrade>\\r\\n\\t\\t\\t\\t\\t<so2Grade>1</so2Grade>\\r\\n\\t\\t\\t\\t\\t<coGrade>1</coGrade>\\r\\n\\t\\t\\t\\t\\t<o3Grade>2</o3Grade>\\r\\n\\t\\t\\t\\t\\t<no2Grade>1</no2Grade>\\r\\n\\t\\t\\t\\t\\t<pm10Grade>2</pm10Grade>\\r\\n\\t\\t\\t\\t\\t\\r\\n                        <pm25Grade>2</pm25Grade>\\r\\n                    \\r\\n                    \\r\\n                        <pm10Grade1h>2</pm10Grade1h>\\r\\n                        <pm25Grade1h>2</pm25Grade1h>\\r\\n                    \\r\\n\\t\\t\\t\\t</item>\\r\\n\\t\\t\\t\\r\\n\\t\\t\\t\\t<item>\\r\\n\\t\\t\\t\\t\\t<dataTime>2018-08-06 16:00</dataTime>\\r\\n\\t\\t\\t\\t\\t\\r\\n                        <mangName>\\xeb\\x8f\\x84\\xec\\x8b\\x9c\\xeb\\x8c\\x80\\xea\\xb8\\xb0</mangName>\\r\\n                    \\r\\n\\t\\t\\t\\t\\t<so2Value>0.004</so2Value>\\r\\n\\t\\t\\t\\t\\t<coValue>0.4</coValue>\\r\\n\\t\\t\\t\\t\\t<o3Value>0.056</o3Value>\\r\\n\\t\\t\\t\\t\\t<no2Value>0.025</no2Value>\\r\\n\\t\\t\\t\\t\\t<pm10Value>34</pm10Value>\\r\\n\\t\\t\\t\\t\\t\\r\\n                        <pm10Value24>30</pm10Value24>\\r\\n                    \\r\\n\\t\\t\\t\\t\\t\\r\\n                        <pm25Value>21</pm25Value>\\r\\n                    \\r\\n                    \\r\\n                        <pm25Value24>18</pm25Value24>\\r\\n                    \\r\\n\\t\\t\\t\\t\\t<khaiValue>72</khaiValue>\\r\\n\\t\\t\\t\\t\\t<khaiGrade>2</khaiGrade>\\r\\n\\t\\t\\t\\t\\t<so2Grade>1</so2Grade>\\r\\n\\t\\t\\t\\t\\t<coGrade>1</coGrade>\\r\\n\\t\\t\\t\\t\\t<o3Grade>2</o3Grade>\\r\\n\\t\\t\\t\\t\\t<no2Grade>1</no2Grade>\\r\\n\\t\\t\\t\\t\\t<pm10Grade>1</pm10Grade>\\r\\n\\t\\t\\t\\t\\t\\r\\n                        <pm25Grade>2</pm25Grade>\\r\\n                    \\r\\n                    \\r\\n                        <pm10Grade1h>2</pm10Grade1h>\\r\\n                        <pm25Grade1h>2</pm25Grade1h>\\r\\n                    \\r\\n\\t\\t\\t\\t</item>\\r\\n\\t\\t\\t\\r\\n\\t\\t\\t\\t<item>\\r\\n\\t\\t\\t\\t\\t<dataTime>2018-08-06 15:00</dataTime>\\r\\n\\t\\t\\t\\t\\t\\r\\n                        <mangName>\\xeb\\x8f\\x84\\xec\\x8b\\x9c\\xeb\\x8c\\x80\\xea\\xb8\\xb0</mangName>\\r\\n                    \\r\\n\\t\\t\\t\\t\\t<so2Value>0.004</so2Value>\\r\\n\\t\\t\\t\\t\\t<coValue>0.4</coValue>\\r\\n\\t\\t\\t\\t\\t<o3Value>0.062</o3Value>\\r\\n\\t\\t\\t\\t\\t<no2Value>0.025</no2Value>\\r\\n\\t\\t\\t\\t\\t<pm10Value>38</pm10Value>\\r\\n\\t\\t\\t\\t\\t\\r\\n                        <pm10Value24>29</pm10Value24>\\r\\n                    \\r\\n\\t\\t\\t\\t\\t\\r\\n                        <pm25Value>22</pm25Value>\\r\\n                    \\r\\n                    \\r\\n                        <pm25Value24>17</pm25Value24>\\r\\n                    \\r\\n\\t\\t\\t\\t\\t<khaiValue>77</khaiValue>\\r\\n\\t\\t\\t\\t\\t<khaiGrade>2</khaiGrade>\\r\\n\\t\\t\\t\\t\\t<so2Grade>1</so2Grade>\\r\\n\\t\\t\\t\\t\\t<coGrade>1</coGrade>\\r\\n\\t\\t\\t\\t\\t<o3Grade>2</o3Grade>\\r\\n\\t\\t\\t\\t\\t<no2Grade>1</no2Grade>\\r\\n\\t\\t\\t\\t\\t<pm10Grade>1</pm10Grade>\\r\\n\\t\\t\\t\\t\\t\\r\\n                        <pm25Grade>2</pm25Grade>\\r\\n                    \\r\\n                    \\r\\n                        <pm10Grade1h>2</pm10Grade1h>\\r\\n                        <pm25Grade1h>2</pm25Grade1h>\\r\\n                    \\r\\n\\t\\t\\t\\t</item>\\r\\n\\t\\t\\t\\r\\n\\t\\t\\t\\t<item>\\r\\n\\t\\t\\t\\t\\t<dataTime>2018-08-06 14:00</dataTime>\\r\\n\\t\\t\\t\\t\\t\\r\\n                        <mangName>\\xeb\\x8f\\x84\\xec\\x8b\\x9c\\xeb\\x8c\\x80\\xea\\xb8\\xb0</mangName>\\r\\n                    \\r\\n\\t\\t\\t\\t\\t<so2Value>0.004</so2Value>\\r\\n\\t\\t\\t\\t\\t<coValue>0.4</coValue>\\r\\n\\t\\t\\t\\t\\t<o3Value>0.052</o3Value>\\r\\n\\t\\t\\t\\t\\t<no2Value>0.025</no2Value>\\r\\n\\t\\t\\t\\t\\t<pm10Value>28</pm10Value>\\r\\n\\t\\t\\t\\t\\t\\r\\n                        <pm10Value24>26</pm10Value24>\\r\\n                    \\r\\n\\t\\t\\t\\t\\t\\r\\n                        <pm25Value>18</pm25Value>\\r\\n                    \\r\\n                    \\r\\n                        <pm25Value24>16</pm25Value24>\\r\\n                    \\r\\n\\t\\t\\t\\t\\t<khaiValue>68</khaiValue>\\r\\n\\t\\t\\t\\t\\t<khaiGrade>2</khaiGrade>\\r\\n\\t\\t\\t\\t\\t<so2Grade>1</so2Grade>\\r\\n\\t\\t\\t\\t\\t<coGrade>1</coGrade>\\r\\n\\t\\t\\t\\t\\t<o3Grade>2</o3Grade>\\r\\n\\t\\t\\t\\t\\t<no2Grade>1</no2Grade>\\r\\n\\t\\t\\t\\t\\t<pm10Grade>1</pm10Grade>\\r\\n\\t\\t\\t\\t\\t\\r\\n                        <pm25Grade>2</pm25Grade>\\r\\n                    \\r\\n                    \\r\\n                        <pm10Grade1h>1</pm10Grade1h>\\r\\n                        <pm25Grade1h>2</pm25Grade1h>\\r\\n                    \\r\\n\\t\\t\\t\\t</item>\\r\\n\\t\\t\\t\\r\\n\\t\\t\\t\\t<item>\\r\\n\\t\\t\\t\\t\\t<dataTime>2018-08-06 13:00</dataTime>\\r\\n\\t\\t\\t\\t\\t\\r\\n                        <mangName>\\xeb\\x8f\\x84\\xec\\x8b\\x9c\\xeb\\x8c\\x80\\xea\\xb8\\xb0</mangName>\\r\\n                    \\r\\n\\t\\t\\t\\t\\t<so2Value>0.003</so2Value>\\r\\n\\t\\t\\t\\t\\t<coValue>0.4</coValue>\\r\\n\\t\\t\\t\\t\\t<o3Value>0.036</o3Value>\\r\\n\\t\\t\\t\\t\\t<no2Value>0.027</no2Value>\\r\\n\\t\\t\\t\\t\\t<pm10Value>24</pm10Value>\\r\\n\\t\\t\\t\\t\\t\\r\\n                        <pm10Value24>25</pm10Value24>\\r\\n                    \\r\\n\\t\\t\\t\\t\\t\\r\\n                        <pm25Value>13</pm25Value>\\r\\n                    \\r\\n                    \\r\\n                        <pm25Value24>15</pm25Value24>\\r\\n                    \\r\\n\\t\\t\\t\\t\\t<khaiValue>55</khaiValue>\\r\\n\\t\\t\\t\\t\\t<khaiGrade>2</khaiGrade>\\r\\n\\t\\t\\t\\t\\t<so2Grade>1</so2Grade>\\r\\n\\t\\t\\t\\t\\t<coGrade>1</coGrade>\\r\\n\\t\\t\\t\\t\\t<o3Grade>2</o3Grade>\\r\\n\\t\\t\\t\\t\\t<no2Grade>1</no2Grade>\\r\\n\\t\\t\\t\\t\\t<pm10Grade>1</pm10Grade>\\r\\n\\t\\t\\t\\t\\t\\r\\n                        <pm25Grade>1</pm25Grade>\\r\\n                    \\r\\n                    \\r\\n                        <pm10Grade1h>1</pm10Grade1h>\\r\\n                        <pm25Grade1h>1</pm25Grade1h>\\r\\n                    \\r\\n\\t\\t\\t\\t</item>\\r\\n\\t\\t\\t\\r\\n\\t\\t</items>\\r\\n\\t\\t\\t<numOfRows>10</numOfRows>\\r\\n\\t\\t\\t<pageNo>1</pageNo>\\r\\n\\t\\t\\t<totalCount>23</totalCount>\\r\\n\\t</body>\\r\\n</response>\\r\\n'"
      ]
     },
     "execution_count": 31,
     "metadata": {},
     "output_type": "execute_result"
    }
   ],
   "source": [
    "resResult"
   ]
  },
  {
   "cell_type": "code",
   "execution_count": 32,
   "metadata": {},
   "outputs": [],
   "source": [
    "xml = etree.fromstring(resResult)"
   ]
  },
  {
   "cell_type": "code",
   "execution_count": 69,
   "metadata": {},
   "outputs": [
    {
     "data": {
      "text/plain": [
       "lxml.etree._Element"
      ]
     },
     "execution_count": 69,
     "metadata": {},
     "output_type": "execute_result"
    }
   ],
   "source": [
    "type(xml)"
   ]
  },
  {
   "cell_type": "code",
   "execution_count": 20,
   "metadata": {},
   "outputs": [],
   "source": [
    "xmlTree = etree.ElementTree(xml)"
   ]
  },
  {
   "cell_type": "code",
   "execution_count": 20,
   "metadata": {},
   "outputs": [],
   "source": [
    "root = xmlTree.getroot()"
   ]
  },
  {
   "cell_type": "code",
   "execution_count": 21,
   "metadata": {},
   "outputs": [
    {
     "data": {
      "text/plain": [
       "(lxml.etree._ElementTree, lxml.etree._Element)"
      ]
     },
     "execution_count": 21,
     "metadata": {},
     "output_type": "execute_result"
    }
   ],
   "source": [
    "type(xmlTree), type(root)"
   ]
  },
  {
   "cell_type": "code",
   "execution_count": 22,
   "metadata": {},
   "outputs": [
    {
     "data": {
      "text/plain": [
       "<bound method _Element.find of <Element response at 0x1a5a0f12348>>"
      ]
     },
     "execution_count": 22,
     "metadata": {},
     "output_type": "execute_result"
    }
   ],
   "source": [
    "root.find"
   ]
  },
  {
   "cell_type": "code",
   "execution_count": 23,
   "metadata": {},
   "outputs": [
    {
     "name": "stdout",
     "output_type": "stream",
     "text": [
      "<response>\n",
      "\t<header>\n",
      "\t\t<resultCode>12</resultCode>\n",
      "\t\t<resultMsg>NO OPENAPI SERVICE ERROR.</resultMsg>\n",
      "\t</header>\n",
      "</response>\n"
     ]
    }
   ],
   "source": [
    "etree.dump(xml)"
   ]
  },
  {
   "cell_type": "code",
   "execution_count": 45,
   "metadata": {},
   "outputs": [],
   "source": [
    "items = root.findall(\".//item\")"
   ]
  },
  {
   "cell_type": "code",
   "execution_count": 46,
   "metadata": {},
   "outputs": [
    {
     "name": "stdout",
     "output_type": "stream",
     "text": [
      "20\n",
      "20\n",
      "20\n",
      "20\n",
      "20\n",
      "20\n",
      "20\n",
      "20\n",
      "20\n",
      "20\n"
     ]
    }
   ],
   "source": [
    "for item in items:\n",
    "    print(len(item))"
   ]
  },
  {
   "cell_type": "code",
   "execution_count": 51,
   "metadata": {
    "scrolled": true
   },
   "outputs": [
    {
     "name": "stdout",
     "output_type": "stream",
     "text": [
      "20\n",
      "dataTime 2018-07-20 01:00\n",
      "mangName 도시대기\n",
      "so2Value 0.003\n",
      "coValue 0.3\n",
      "o3Value 0.008\n",
      "no2Value 0.017\n",
      "pm10Value 22\n",
      "pm10Value24 24\n",
      "pm25Value 19\n",
      "pm25Value24 18\n",
      "khaiValue 56\n",
      "khaiGrade 2\n",
      "so2Grade 1\n",
      "coGrade 1\n",
      "o3Grade 1\n",
      "no2Grade 1\n",
      "pm10Grade 1\n",
      "pm25Grade 2\n",
      "pm10Grade1h 1\n",
      "pm25Grade1h 2\n",
      "20\n",
      "dataTime 2018-07-19 24:00\n",
      "mangName 도시대기\n",
      "so2Value 0.003\n",
      "coValue 0.3\n",
      "o3Value 0.009\n",
      "no2Value 0.016\n",
      "pm10Value 21\n",
      "pm10Value24 25\n",
      "pm25Value 17\n",
      "pm25Value24 18\n",
      "khaiValue 56\n",
      "khaiGrade 2\n",
      "so2Grade 1\n",
      "coGrade 1\n",
      "o3Grade 1\n",
      "no2Grade 1\n",
      "pm10Grade 1\n",
      "pm25Grade 2\n",
      "pm10Grade1h 1\n",
      "pm25Grade1h 2\n",
      "20\n",
      "dataTime 2018-07-19 23:00\n",
      "mangName 도시대기\n",
      "so2Value 0.002\n",
      "coValue 0.3\n",
      "o3Value 0.012\n",
      "no2Value 0.016\n",
      "pm10Value 24\n",
      "pm10Value24 27\n",
      "pm25Value 16\n",
      "pm25Value24 19\n",
      "khaiValue 59\n",
      "khaiGrade 2\n",
      "so2Grade 1\n",
      "coGrade 1\n",
      "o3Grade 1\n",
      "no2Grade 1\n",
      "pm10Grade 1\n",
      "pm25Grade 2\n",
      "pm10Grade1h 1\n",
      "pm25Grade1h 2\n",
      "20\n",
      "dataTime 2018-07-19 22:00\n",
      "mangName 도시대기\n",
      "so2Value 0.003\n",
      "coValue 0.3\n",
      "o3Value 0.016\n",
      "no2Value 0.017\n",
      "pm10Value 20\n",
      "pm10Value24 28\n",
      "pm25Value 15\n",
      "pm25Value24 20\n",
      "khaiValue 61\n",
      "khaiGrade 2\n",
      "so2Grade 1\n",
      "coGrade 1\n",
      "o3Grade 1\n",
      "no2Grade 1\n",
      "pm10Grade 1\n",
      "pm25Grade 2\n",
      "pm10Grade1h 1\n",
      "pm25Grade1h 1\n",
      "20\n",
      "dataTime 2018-07-19 21:00\n",
      "mangName 도시대기\n",
      "so2Value 0.003\n",
      "coValue 0.3\n",
      "o3Value 0.014\n",
      "no2Value 0.023\n",
      "pm10Value 19\n",
      "pm10Value24 29\n",
      "pm25Value 14\n",
      "pm25Value24 21\n",
      "khaiValue 64\n",
      "khaiGrade 2\n",
      "so2Grade 1\n",
      "coGrade 1\n",
      "o3Grade 1\n",
      "no2Grade 1\n",
      "pm10Grade 1\n",
      "pm25Grade 2\n",
      "pm10Grade1h 1\n",
      "pm25Grade1h 1\n",
      "20\n",
      "dataTime 2018-07-19 20:00\n",
      "mangName 도시대기\n",
      "so2Value 0.003\n",
      "coValue 0.4\n",
      "o3Value 0.029\n",
      "no2Value 0.026\n",
      "pm10Value 33\n",
      "pm10Value24 30\n",
      "pm25Value 24\n",
      "pm25Value24 22\n",
      "khaiValue 66\n",
      "khaiGrade 2\n",
      "so2Grade 1\n",
      "coGrade 1\n",
      "o3Grade 1\n",
      "no2Grade 1\n",
      "pm10Grade 1\n",
      "pm25Grade 2\n",
      "pm10Grade1h 2\n",
      "pm25Grade1h 2\n",
      "20\n",
      "dataTime 2018-07-19 19:00\n",
      "mangName 도시대기\n",
      "so2Value 0.003\n",
      "coValue 0.3\n",
      "o3Value 0.049\n",
      "no2Value 0.023\n",
      "pm10Value 28\n",
      "pm10Value24 28\n",
      "pm25Value 23\n",
      "pm25Value24 22\n",
      "khaiValue 66\n",
      "khaiGrade 2\n",
      "so2Grade 1\n",
      "coGrade 1\n",
      "o3Grade 2\n",
      "no2Grade 1\n",
      "pm10Grade 1\n",
      "pm25Grade 2\n",
      "pm10Grade1h 1\n",
      "pm25Grade1h 2\n",
      "20\n",
      "dataTime 2018-07-19 18:00\n",
      "mangName 도시대기\n",
      "so2Value 0.003\n",
      "coValue 0.3\n",
      "o3Value 0.051\n",
      "no2Value 0.020\n",
      "pm10Value 25\n",
      "pm10Value24 30\n",
      "pm25Value 18\n",
      "pm25Value24 22\n",
      "khaiValue 68\n",
      "khaiGrade 2\n",
      "so2Grade 1\n",
      "coGrade 1\n",
      "o3Grade 2\n",
      "no2Grade 1\n",
      "pm10Grade 1\n",
      "pm25Grade 2\n",
      "pm10Grade1h 1\n",
      "pm25Grade1h 2\n",
      "20\n",
      "dataTime 2018-07-19 17:00\n",
      "mangName 도시대기\n",
      "so2Value 0.003\n",
      "coValue 0.3\n",
      "o3Value 0.050\n",
      "no2Value 0.017\n",
      "pm10Value 19\n",
      "pm10Value24 33\n",
      "pm25Value 19\n",
      "pm25Value24 23\n",
      "khaiValue 69\n",
      "khaiGrade 2\n",
      "so2Grade 1\n",
      "coGrade 1\n",
      "o3Grade 2\n",
      "no2Grade 1\n",
      "pm10Grade 2\n",
      "pm25Grade 2\n",
      "pm10Grade1h 1\n",
      "pm25Grade1h 2\n",
      "20\n",
      "dataTime 2018-07-19 16:00\n",
      "mangName 도시대기\n",
      "so2Value 0.003\n",
      "coValue 0.3\n",
      "o3Value 0.049\n",
      "no2Value 0.018\n",
      "pm10Value 23\n",
      "pm10Value24 36\n",
      "pm25Value 20\n",
      "pm25Value24 24\n",
      "khaiValue 72\n",
      "khaiGrade 2\n",
      "so2Grade 1\n",
      "coGrade 1\n",
      "o3Grade 2\n",
      "no2Grade 1\n",
      "pm10Grade 2\n",
      "pm25Grade 2\n",
      "pm10Grade1h 1\n",
      "pm25Grade1h 2\n"
     ]
    }
   ],
   "source": [
    "for item in items:\n",
    "    print(len(item))\n",
    "    for i in range(len(item)):\n",
    "        print(item[i].tag, item[i].text)"
   ]
  },
  {
   "cell_type": "code",
   "execution_count": null,
   "metadata": {},
   "outputs": [],
   "source": [
    "pm10List = root.findall(\".//item/pml0Value\")"
   ]
  },
  {
   "cell_type": "code",
   "execution_count": 53,
   "metadata": {},
   "outputs": [],
   "source": [
    "for row in pm10List:\n",
    "    print(row.tag, row.text)"
   ]
  },
  {
   "cell_type": "code",
   "execution_count": 54,
   "metadata": {},
   "outputs": [
    {
     "name": "stdout",
     "output_type": "stream",
     "text": [
      "Requirement already satisfied: cssselect in c:\\programdata\\anaconda3\\lib\\site-packages (1.0.3)\n"
     ]
    },
    {
     "name": "stderr",
     "output_type": "stream",
     "text": [
      "tensorflow-gpu 1.7.0 has requirement tensorboard<1.8.0,>=1.7.0, but you'll have tensorboard 1.8.0 which is incompatible.\n"
     ]
    }
   ],
   "source": [
    "!pip install cssselect "
   ]
  },
  {
   "cell_type": "code",
   "execution_count": 55,
   "metadata": {},
   "outputs": [],
   "source": [
    "items = xml.cssselect(\"item\")"
   ]
  },
  {
   "cell_type": "code",
   "execution_count": 56,
   "metadata": {},
   "outputs": [
    {
     "name": "stdout",
     "output_type": "stream",
     "text": [
      "20\n",
      "dataTime 2018-07-20 01:00\n",
      "mangName 도시대기\n",
      "so2Value 0.003\n",
      "coValue 0.3\n",
      "o3Value 0.008\n",
      "no2Value 0.017\n",
      "pm10Value 22\n",
      "pm10Value24 24\n",
      "pm25Value 19\n",
      "pm25Value24 18\n",
      "khaiValue 56\n",
      "khaiGrade 2\n",
      "so2Grade 1\n",
      "coGrade 1\n",
      "o3Grade 1\n",
      "no2Grade 1\n",
      "pm10Grade 1\n",
      "pm25Grade 2\n",
      "pm10Grade1h 1\n",
      "pm25Grade1h 2\n",
      "20\n",
      "dataTime 2018-07-19 24:00\n",
      "mangName 도시대기\n",
      "so2Value 0.003\n",
      "coValue 0.3\n",
      "o3Value 0.009\n",
      "no2Value 0.016\n",
      "pm10Value 21\n",
      "pm10Value24 25\n",
      "pm25Value 17\n",
      "pm25Value24 18\n",
      "khaiValue 56\n",
      "khaiGrade 2\n",
      "so2Grade 1\n",
      "coGrade 1\n",
      "o3Grade 1\n",
      "no2Grade 1\n",
      "pm10Grade 1\n",
      "pm25Grade 2\n",
      "pm10Grade1h 1\n",
      "pm25Grade1h 2\n",
      "20\n",
      "dataTime 2018-07-19 23:00\n",
      "mangName 도시대기\n",
      "so2Value 0.002\n",
      "coValue 0.3\n",
      "o3Value 0.012\n",
      "no2Value 0.016\n",
      "pm10Value 24\n",
      "pm10Value24 27\n",
      "pm25Value 16\n",
      "pm25Value24 19\n",
      "khaiValue 59\n",
      "khaiGrade 2\n",
      "so2Grade 1\n",
      "coGrade 1\n",
      "o3Grade 1\n",
      "no2Grade 1\n",
      "pm10Grade 1\n",
      "pm25Grade 2\n",
      "pm10Grade1h 1\n",
      "pm25Grade1h 2\n",
      "20\n",
      "dataTime 2018-07-19 22:00\n",
      "mangName 도시대기\n",
      "so2Value 0.003\n",
      "coValue 0.3\n",
      "o3Value 0.016\n",
      "no2Value 0.017\n",
      "pm10Value 20\n",
      "pm10Value24 28\n",
      "pm25Value 15\n",
      "pm25Value24 20\n",
      "khaiValue 61\n",
      "khaiGrade 2\n",
      "so2Grade 1\n",
      "coGrade 1\n",
      "o3Grade 1\n",
      "no2Grade 1\n",
      "pm10Grade 1\n",
      "pm25Grade 2\n",
      "pm10Grade1h 1\n",
      "pm25Grade1h 1\n",
      "20\n",
      "dataTime 2018-07-19 21:00\n",
      "mangName 도시대기\n",
      "so2Value 0.003\n",
      "coValue 0.3\n",
      "o3Value 0.014\n",
      "no2Value 0.023\n",
      "pm10Value 19\n",
      "pm10Value24 29\n",
      "pm25Value 14\n",
      "pm25Value24 21\n",
      "khaiValue 64\n",
      "khaiGrade 2\n",
      "so2Grade 1\n",
      "coGrade 1\n",
      "o3Grade 1\n",
      "no2Grade 1\n",
      "pm10Grade 1\n",
      "pm25Grade 2\n",
      "pm10Grade1h 1\n",
      "pm25Grade1h 1\n",
      "20\n",
      "dataTime 2018-07-19 20:00\n",
      "mangName 도시대기\n",
      "so2Value 0.003\n",
      "coValue 0.4\n",
      "o3Value 0.029\n",
      "no2Value 0.026\n",
      "pm10Value 33\n",
      "pm10Value24 30\n",
      "pm25Value 24\n",
      "pm25Value24 22\n",
      "khaiValue 66\n",
      "khaiGrade 2\n",
      "so2Grade 1\n",
      "coGrade 1\n",
      "o3Grade 1\n",
      "no2Grade 1\n",
      "pm10Grade 1\n",
      "pm25Grade 2\n",
      "pm10Grade1h 2\n",
      "pm25Grade1h 2\n",
      "20\n",
      "dataTime 2018-07-19 19:00\n",
      "mangName 도시대기\n",
      "so2Value 0.003\n",
      "coValue 0.3\n",
      "o3Value 0.049\n",
      "no2Value 0.023\n",
      "pm10Value 28\n",
      "pm10Value24 28\n",
      "pm25Value 23\n",
      "pm25Value24 22\n",
      "khaiValue 66\n",
      "khaiGrade 2\n",
      "so2Grade 1\n",
      "coGrade 1\n",
      "o3Grade 2\n",
      "no2Grade 1\n",
      "pm10Grade 1\n",
      "pm25Grade 2\n",
      "pm10Grade1h 1\n",
      "pm25Grade1h 2\n",
      "20\n",
      "dataTime 2018-07-19 18:00\n",
      "mangName 도시대기\n",
      "so2Value 0.003\n",
      "coValue 0.3\n",
      "o3Value 0.051\n",
      "no2Value 0.020\n",
      "pm10Value 25\n",
      "pm10Value24 30\n",
      "pm25Value 18\n",
      "pm25Value24 22\n",
      "khaiValue 68\n",
      "khaiGrade 2\n",
      "so2Grade 1\n",
      "coGrade 1\n",
      "o3Grade 2\n",
      "no2Grade 1\n",
      "pm10Grade 1\n",
      "pm25Grade 2\n",
      "pm10Grade1h 1\n",
      "pm25Grade1h 2\n",
      "20\n",
      "dataTime 2018-07-19 17:00\n",
      "mangName 도시대기\n",
      "so2Value 0.003\n",
      "coValue 0.3\n",
      "o3Value 0.050\n",
      "no2Value 0.017\n",
      "pm10Value 19\n",
      "pm10Value24 33\n",
      "pm25Value 19\n",
      "pm25Value24 23\n",
      "khaiValue 69\n",
      "khaiGrade 2\n",
      "so2Grade 1\n",
      "coGrade 1\n",
      "o3Grade 2\n",
      "no2Grade 1\n",
      "pm10Grade 2\n",
      "pm25Grade 2\n",
      "pm10Grade1h 1\n",
      "pm25Grade1h 2\n",
      "20\n",
      "dataTime 2018-07-19 16:00\n",
      "mangName 도시대기\n",
      "so2Value 0.003\n",
      "coValue 0.3\n",
      "o3Value 0.049\n",
      "no2Value 0.018\n",
      "pm10Value 23\n",
      "pm10Value24 36\n",
      "pm25Value 20\n",
      "pm25Value24 24\n",
      "khaiValue 72\n",
      "khaiGrade 2\n",
      "so2Grade 1\n",
      "coGrade 1\n",
      "o3Grade 2\n",
      "no2Grade 1\n",
      "pm10Grade 2\n",
      "pm25Grade 2\n",
      "pm10Grade1h 1\n",
      "pm25Grade1h 2\n"
     ]
    }
   ],
   "source": [
    "for item in items:\n",
    "    print(len(item))\n",
    "    for i in range(len(item)):\n",
    "        print(item[i].tag, item[i].text)"
   ]
  },
  {
   "cell_type": "code",
   "execution_count": 57,
   "metadata": {},
   "outputs": [],
   "source": [
    "pm10ValueList = xml.cssselect(\"item > pm10Value\")"
   ]
  },
  {
   "cell_type": "code",
   "execution_count": 58,
   "metadata": {},
   "outputs": [
    {
     "name": "stdout",
     "output_type": "stream",
     "text": [
      "pm10Value 22\n",
      "pm10Value 21\n",
      "pm10Value 24\n",
      "pm10Value 20\n",
      "pm10Value 19\n",
      "pm10Value 33\n",
      "pm10Value 28\n",
      "pm10Value 25\n",
      "pm10Value 19\n",
      "pm10Value 23\n"
     ]
    }
   ],
   "source": [
    "for row in pm10ValueList:\n",
    "     print(row.tag, row.text)"
   ]
  },
  {
   "cell_type": "code",
   "execution_count": null,
   "metadata": {},
   "outputs": [],
   "source": []
  }
 ],
 "metadata": {
  "kernelspec": {
   "display_name": "Python 3",
   "language": "python",
   "name": "python3"
  },
  "language_info": {
   "codemirror_mode": {
    "name": "ipython",
    "version": 3
   },
   "file_extension": ".py",
   "mimetype": "text/x-python",
   "name": "python",
   "nbconvert_exporter": "python",
   "pygments_lexer": "ipython3",
   "version": "3.6.4"
  }
 },
 "nbformat": 4,
 "nbformat_minor": 2
}
