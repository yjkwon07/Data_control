{
 "cells": [
  {
   "cell_type": "code",
   "execution_count": 3,
   "metadata": {},
   "outputs": [],
   "source": [
    "import pandas as pd \n",
    "import numpy as np\n",
    "import datetime # dataetime , time, date -> 크게 3가지 패키지가 존재 "
   ]
  },
  {
   "cell_type": "code",
   "execution_count": 11,
   "metadata": {},
   "outputs": [],
   "source": [
    "date = datetime.date(year =2013, month = 6 , day =7) # 생성자 방식으로 인스턴스 \n",
    "time = datetime.time(hour = 12 , minute = 30, second = 19, microsecond = 463198)\n",
    "dt = datetime.datetime(year = 2013, month = 6, day =7, hour = 12, minute = 30, second = 19, microsecond = 463198)"
   ]
  },
  {
   "cell_type": "code",
   "execution_count": 13,
   "metadata": {},
   "outputs": [],
   "source": [
    "td = datetime.timedelta(weeks = 2, days = 5, hours = 10 , minutes = 20, seconds =  6.73, milliseconds = 99, microseconds =8)"
   ]
  },
  {
   "cell_type": "code",
   "execution_count": 16,
   "metadata": {},
   "outputs": [],
   "source": [
    "from IPython import InteractiveShell"
   ]
  },
  {
   "cell_type": "code",
   "execution_count": null,
   "metadata": {},
   "outputs": [],
   "source": []
  },
  {
   "cell_type": "code",
   "execution_count": 22,
   "metadata": {},
   "outputs": [
    {
     "data": {
      "text/plain": [
       "datetime.datetime(2013, 6, 26, 22, 50, 26, 292206)"
      ]
     },
     "execution_count": 22,
     "metadata": {},
     "output_type": "execute_result"
    }
   ],
   "source": [
    "date - td  # 날짜 - 시간 \n",
    "dt + td"
   ]
  },
  {
   "cell_type": "code",
   "execution_count": 21,
   "metadata": {},
   "outputs": [
    {
     "ename": "TypeError",
     "evalue": "unsupported operand type(s) for +: 'datetime.time' and 'datetime.timedelta'",
     "output_type": "error",
     "traceback": [
      "\u001b[1;31m---------------------------------------------------------------------------\u001b[0m",
      "\u001b[1;31mTypeError\u001b[0m                                 Traceback (most recent call last)",
      "\u001b[1;32m<ipython-input-21-8f759c62c7e5>\u001b[0m in \u001b[0;36m<module>\u001b[1;34m()\u001b[0m\n\u001b[1;32m----> 1\u001b[1;33m \u001b[0mtime\u001b[0m \u001b[1;33m+\u001b[0m \u001b[0mtd\u001b[0m \u001b[1;31m# 시간 + 시간\u001b[0m\u001b[1;33m\u001b[0m\u001b[0m\n\u001b[0m",
      "\u001b[1;31mTypeError\u001b[0m: unsupported operand type(s) for +: 'datetime.time' and 'datetime.timedelta'"
     ]
    }
   ],
   "source": [
    "time + td # 시간 + 시간 "
   ]
  },
  {
   "cell_type": "code",
   "execution_count": 18,
   "metadata": {},
   "outputs": [
    {
     "data": {
      "text/plain": [
       "['__class__',\n",
       " '__delattr__',\n",
       " '__dir__',\n",
       " '__doc__',\n",
       " '__eq__',\n",
       " '__format__',\n",
       " '__ge__',\n",
       " '__getattribute__',\n",
       " '__gt__',\n",
       " '__hash__',\n",
       " '__init__',\n",
       " '__init_subclass__',\n",
       " '__le__',\n",
       " '__lt__',\n",
       " '__ne__',\n",
       " '__new__',\n",
       " '__reduce__',\n",
       " '__reduce_ex__',\n",
       " '__repr__',\n",
       " '__setattr__',\n",
       " '__sizeof__',\n",
       " '__str__',\n",
       " '__subclasshook__',\n",
       " 'dst',\n",
       " 'fold',\n",
       " 'hour',\n",
       " 'isoformat',\n",
       " 'max',\n",
       " 'microsecond',\n",
       " 'min',\n",
       " 'minute',\n",
       " 'replace',\n",
       " 'resolution',\n",
       " 'second',\n",
       " 'strftime',\n",
       " 'tzinfo',\n",
       " 'tzname',\n",
       " 'utcoffset']"
      ]
     },
     "execution_count": 18,
     "metadata": {},
     "output_type": "execute_result"
    }
   ],
   "source": [
    "dir(time) # add 존재 하지가 않음 지정을 안했기 때문에 "
   ]
  },
  {
   "cell_type": "code",
   "execution_count": 19,
   "metadata": {},
   "outputs": [
    {
     "data": {
      "text/plain": [
       "['__abs__',\n",
       " '__add__',\n",
       " '__bool__',\n",
       " '__class__',\n",
       " '__delattr__',\n",
       " '__dir__',\n",
       " '__divmod__',\n",
       " '__doc__',\n",
       " '__eq__',\n",
       " '__floordiv__',\n",
       " '__format__',\n",
       " '__ge__',\n",
       " '__getattribute__',\n",
       " '__gt__',\n",
       " '__hash__',\n",
       " '__init__',\n",
       " '__init_subclass__',\n",
       " '__le__',\n",
       " '__lt__',\n",
       " '__mod__',\n",
       " '__mul__',\n",
       " '__ne__',\n",
       " '__neg__',\n",
       " '__new__',\n",
       " '__pos__',\n",
       " '__radd__',\n",
       " '__rdivmod__',\n",
       " '__reduce__',\n",
       " '__reduce_ex__',\n",
       " '__repr__',\n",
       " '__rfloordiv__',\n",
       " '__rmod__',\n",
       " '__rmul__',\n",
       " '__rsub__',\n",
       " '__rtruediv__',\n",
       " '__setattr__',\n",
       " '__sizeof__',\n",
       " '__str__',\n",
       " '__sub__',\n",
       " '__subclasshook__',\n",
       " '__truediv__',\n",
       " 'days',\n",
       " 'max',\n",
       " 'microseconds',\n",
       " 'min',\n",
       " 'resolution',\n",
       " 'seconds',\n",
       " 'total_seconds']"
      ]
     },
     "execution_count": 19,
     "metadata": {},
     "output_type": "execute_result"
    }
   ],
   "source": [
    "dir(td) # add 존재 "
   ]
  },
  {
   "cell_type": "code",
   "execution_count": 23,
   "metadata": {},
   "outputs": [],
   "source": [
    "# timestamp는 특정 시각 \n"
   ]
  },
  {
   "cell_type": "code",
   "execution_count": 35,
   "metadata": {},
   "outputs": [
    {
     "data": {
      "text/plain": [
       "Timestamp('2012-12-21 05:10:59')"
      ]
     },
     "execution_count": 35,
     "metadata": {},
     "output_type": "execute_result"
    }
   ],
   "source": [
    "pd.Timestamp(year = 2012, month = 12 , day = 21, hour = 5, minute = 10 , second=59)"
   ]
  },
  {
   "cell_type": "code",
   "execution_count": 26,
   "metadata": {},
   "outputs": [
    {
     "data": {
      "text/plain": [
       "Timestamp('2018-01-22 00:00:00')"
      ]
     },
     "execution_count": 26,
     "metadata": {},
     "output_type": "execute_result"
    }
   ],
   "source": [
    "pd.Timestamp('22/1/2018') # 앞에 꺼가 월이 될 수 있으면 월 앞이 월이 될 수 없으면 뒤에껄로 자동으로 하게 한다. "
   ]
  },
  {
   "cell_type": "code",
   "execution_count": 28,
   "metadata": {},
   "outputs": [
    {
     "data": {
      "text/plain": [
       "Timestamp('2014-05-10 00:00:00')"
      ]
     },
     "execution_count": 28,
     "metadata": {},
     "output_type": "execute_result"
    }
   ],
   "source": [
    "pd.Timestamp('2014-5/10')"
   ]
  },
  {
   "cell_type": "code",
   "execution_count": 29,
   "metadata": {},
   "outputs": [
    {
     "data": {
      "text/plain": [
       "Timestamp('1970-01-01 00:00:00.000000500')"
      ]
     },
     "execution_count": 29,
     "metadata": {},
     "output_type": "execute_result"
    }
   ],
   "source": [
    "pd.Timestamp(500) # 유닉스로 1970 - 01 시작 "
   ]
  },
  {
   "cell_type": "code",
   "execution_count": 30,
   "metadata": {},
   "outputs": [
    {
     "data": {
      "text/plain": [
       "Timestamp('1983-09-10 00:00:00')"
      ]
     },
     "execution_count": 30,
     "metadata": {},
     "output_type": "execute_result"
    }
   ],
   "source": [
    "pd.Timestamp(5000, unit= 'D')"
   ]
  },
  {
   "cell_type": "code",
   "execution_count": 36,
   "metadata": {},
   "outputs": [
    {
     "data": {
      "text/plain": [
       "Timestamp('2015-05-13 00:00:00')"
      ]
     },
     "execution_count": 36,
     "metadata": {},
     "output_type": "execute_result"
    }
   ],
   "source": [
    "pd.to_datetime('2015-5-13')"
   ]
  },
  {
   "cell_type": "code",
   "execution_count": 37,
   "metadata": {},
   "outputs": [
    {
     "data": {
      "text/plain": [
       "Timestamp('2015-05-13 00:00:00')"
      ]
     },
     "execution_count": 37,
     "metadata": {},
     "output_type": "execute_result"
    }
   ],
   "source": [
    "pd.to_datetime('2015-13-5', dayfirst=True)"
   ]
  },
  {
   "cell_type": "code",
   "execution_count": 38,
   "metadata": {},
   "outputs": [
    {
     "data": {
      "text/plain": [
       "Timestamp('2013-04-11 00:00:00')"
      ]
     },
     "execution_count": 38,
     "metadata": {},
     "output_type": "execute_result"
    }
   ],
   "source": [
    "pd.to_datetime(100, unit = 'D', origin = '2013-1-1')"
   ]
  },
  {
   "cell_type": "code",
   "execution_count": 44,
   "metadata": {},
   "outputs": [],
   "source": [
    "s = pd.Series([10,100, 1000, 10000]) # day 뒤에 ~ 10일 뒤에 \n",
    "b = pd.to_datetime(s, unit= 'D')\n",
    "a = pd.Series(b)"
   ]
  },
  {
   "cell_type": "code",
   "execution_count": 40,
   "metadata": {},
   "outputs": [
    {
     "data": {
      "text/plain": [
       "10"
      ]
     },
     "execution_count": 40,
     "metadata": {},
     "output_type": "execute_result"
    }
   ],
   "source": [
    "s[0]"
   ]
  },
  {
   "cell_type": "code",
   "execution_count": 45,
   "metadata": {},
   "outputs": [
    {
     "data": {
      "text/plain": [
       "Timestamp('1970-01-11 00:00:00')"
      ]
     },
     "execution_count": 45,
     "metadata": {},
     "output_type": "execute_result"
    }
   ],
   "source": [
    "a[0]"
   ]
  },
  {
   "cell_type": "code",
   "execution_count": 46,
   "metadata": {},
   "outputs": [
    {
     "data": {
      "text/plain": [
       "0   2015-05-12\n",
       "1   2013-01-14\n",
       "2   2017-12-20\n",
       "3          NaT\n",
       "dtype: datetime64[ns]"
      ]
     },
     "execution_count": 46,
     "metadata": {},
     "output_type": "execute_result"
    }
   ],
   "source": [
    "s = pd.Series(['12-5-2015', '14-1-2013', '20/12/2017', '40/23/2017'])\n",
    "pd.to_datetime(s, dayfirst=True, errors='coerce')\n",
    "# Nat datetime이 아니란것 \n",
    "# 변환 실패 시 -> errors -> coerce -> 강제적으로 NAt Nat a tiemstamp 숫자즌 NaN not a number"
   ]
  },
  {
   "cell_type": "code",
   "execution_count": 47,
   "metadata": {
    "scrolled": true
   },
   "outputs": [
    {
     "data": {
      "text/plain": [
       "Timedelta('5 days 00:07:20.400000')"
      ]
     },
     "execution_count": 47,
     "metadata": {},
     "output_type": "execute_result"
    }
   ],
   "source": [
    "pd.Timedelta(days = 5, minutes =7.34) "
   ]
  },
  {
   "cell_type": "code",
   "execution_count": 48,
   "metadata": {},
   "outputs": [
    {
     "data": {
      "text/plain": [
       "Timedelta('700 days 00:00:00')"
      ]
     },
     "execution_count": 48,
     "metadata": {},
     "output_type": "execute_result"
    }
   ],
   "source": [
    "pd.Timedelta(100, unit = \"W\")"
   ]
  },
  {
   "cell_type": "code",
   "execution_count": 49,
   "metadata": {},
   "outputs": [
    {
     "data": {
      "text/plain": [
       "NaT"
      ]
     },
     "execution_count": 49,
     "metadata": {},
     "output_type": "execute_result"
    }
   ],
   "source": [
    "pd.to_timedelta('5 dayz', errors='coerce') # dayz -> 안되니깐 변환 똑 바로 못함  "
   ]
  },
  {
   "cell_type": "code",
   "execution_count": 50,
   "metadata": {},
   "outputs": [
    {
     "data": {
      "text/plain": [
       "'5 dayz'"
      ]
     },
     "execution_count": 50,
     "metadata": {},
     "output_type": "execute_result"
    }
   ],
   "source": [
    "pd.to_timedelta('5 dayz', errors='ignore') "
   ]
  },
  {
   "cell_type": "code",
   "execution_count": 51,
   "metadata": {},
   "outputs": [
    {
     "data": {
      "text/plain": [
       "Timedelta('3 days 07:52:34')"
      ]
     },
     "execution_count": 51,
     "metadata": {},
     "output_type": "execute_result"
    }
   ],
   "source": [
    "pd.to_timedelta('67:15:45, 454')"
   ]
  },
  {
   "cell_type": "code",
   "execution_count": 52,
   "metadata": {},
   "outputs": [],
   "source": [
    "s = pd.Series([10, 100])"
   ]
  },
  {
   "cell_type": "code",
   "execution_count": 53,
   "metadata": {},
   "outputs": [
    {
     "data": {
      "text/plain": [
       "0   00:00:10\n",
       "1   00:01:40\n",
       "dtype: timedelta64[ns]"
      ]
     },
     "execution_count": 53,
     "metadata": {},
     "output_type": "execute_result"
    }
   ],
   "source": [
    "pd.to_timedelta(s, unit='s')"
   ]
  },
  {
   "cell_type": "code",
   "execution_count": 54,
   "metadata": {},
   "outputs": [],
   "source": [
    "time_strings = ['2 days 24 minutes 89.67 seconds', '00:45:23.6']"
   ]
  },
  {
   "cell_type": "code",
   "execution_count": 55,
   "metadata": {},
   "outputs": [
    {
     "data": {
      "text/plain": [
       "Timedelta('24 days 10:06:00')"
      ]
     },
     "execution_count": 55,
     "metadata": {},
     "output_type": "execute_result"
    }
   ],
   "source": [
    "pd.Timedelta('12 days 5 hours 3 minutes') * 2"
   ]
  },
  {
   "cell_type": "code",
   "execution_count": 56,
   "metadata": {},
   "outputs": [],
   "source": [
    "# value 들어갈 수 있는건 \n",
    "# 인덱스에 시간 날짜 데이터 있을 때 시계열 분석\n",
    "# 총 3가지 \n",
    "# 인덱스에 따라 3가지 방식 \n",
    "# 기본적인 포맷은 파이썬의 datetime 사용이 아니라  안에있는는 np 에있는 datetime64 사용 \n",
    "# 값 자체를 pd.datastmpa  pd.timedelta 클래스를 만든 것 \n",
    "# 지금은 timedelta -> 시간차를 나타내는 객체\n",
    "# 변화하는걸 자주 사용 하니깐 astype이 아니라 \n",
    "# helpfunc -> to_~~~\n",
    "# to_Timedelta \n",
    "# 아 옵션 많아 \n",
    "# timedelta -> timestamp는 + - 사용 가능 (며칠 뒤 며칠 앞)\n",
    "# datatime에 timedata와 똑같다 pandas 전용으로 만든거야 \n",
    "# dateTime\n",
    "# Timedelta \n",
    "# "
   ]
  },
  {
   "cell_type": "code",
   "execution_count": 58,
   "metadata": {},
   "outputs": [],
   "source": [
    "td1 = pd.to_timedelta([10, 100], unit ='s')"
   ]
  },
  {
   "cell_type": "code",
   "execution_count": 59,
   "metadata": {},
   "outputs": [
    {
     "data": {
      "text/plain": [
       "pandas.core.indexes.timedeltas.TimedeltaIndex"
      ]
     },
     "execution_count": 59,
     "metadata": {},
     "output_type": "execute_result"
    }
   ],
   "source": [
    "type(td1)"
   ]
  },
  {
   "cell_type": "code",
   "execution_count": 60,
   "metadata": {},
   "outputs": [
    {
     "data": {
      "text/plain": [
       "TimedeltaIndex(['03:00:10', '04:01:40'], dtype='timedelta64[ns]', freq=None)"
      ]
     },
     "execution_count": 60,
     "metadata": {},
     "output_type": "execute_result"
    }
   ],
   "source": [
    "td2 = pd.to_timedelta(['3 hours', '4 hours'])\n",
    "td1 + td2 \n",
    "# timedelta끼리도 더하고 빼진다. 후~~ 많아 많아 ( + - )"
   ]
  },
  {
   "cell_type": "code",
   "execution_count": 61,
   "metadata": {},
   "outputs": [
    {
     "data": {
      "text/plain": [
       "0.16666666666666666"
      ]
     },
     "execution_count": 61,
     "metadata": {},
     "output_type": "execute_result"
    }
   ],
   "source": [
    "pd.Timedelta('12 hours') / pd.Timedelta('3 days') # 근디 사칙연산 하지마 -> timedelta + td -> 반환이 td이기 때문에 이거 갑자기 안드로메다 가 "
   ]
  },
  {
   "cell_type": "code",
   "execution_count": 62,
   "metadata": {},
   "outputs": [],
   "source": [
    "# 곱셈도 가능한디 하지마..."
   ]
  },
  {
   "cell_type": "code",
   "execution_count": 63,
   "metadata": {},
   "outputs": [],
   "source": [
    "# timesstamp는 객체 \n",
    "# pd.timedelta는 timedelta \n"
   ]
  },
  {
   "cell_type": "code",
   "execution_count": 65,
   "metadata": {},
   "outputs": [],
   "source": [
    "ts = pd.Timestamp('2016-10-1 4:23:23.9')"
   ]
  },
  {
   "cell_type": "code",
   "execution_count": 66,
   "metadata": {},
   "outputs": [
    {
     "data": {
      "text/plain": [
       "pandas._libs.tslibs.timestamps.Timestamp"
      ]
     },
     "execution_count": 66,
     "metadata": {},
     "output_type": "execute_result"
    }
   ],
   "source": [
    "type(ts)"
   ]
  },
  {
   "cell_type": "code",
   "execution_count": 69,
   "metadata": {},
   "outputs": [
    {
     "data": {
      "text/plain": [
       "Timestamp('2016-10-01 05:00:00')"
      ]
     },
     "execution_count": 69,
     "metadata": {},
     "output_type": "execute_result"
    }
   ],
   "source": [
    "ts.ceil('h') # datetime 객체와 비슷하다"
   ]
  },
  {
   "cell_type": "code",
   "execution_count": 68,
   "metadata": {},
   "outputs": [
    {
     "data": {
      "text/plain": [
       "pandas._libs.tslibs.timestamps.Timestamp"
      ]
     },
     "execution_count": 68,
     "metadata": {},
     "output_type": "execute_result"
    }
   ],
   "source": [
    "type(ts.ceil('h')) # 올림  datetime 객체 만들어서 .year"
   ]
  },
  {
   "cell_type": "code",
   "execution_count": 70,
   "metadata": {},
   "outputs": [
    {
     "data": {
      "text/plain": [
       "(2016, 10, 1, 4, 23, 31)"
      ]
     },
     "execution_count": 70,
     "metadata": {},
     "output_type": "execute_result"
    }
   ],
   "source": [
    "ts.year, ts.month, ts.day, ts.hour, ts.minute, ts.daysinmonth"
   ]
  },
  {
   "cell_type": "code",
   "execution_count": 75,
   "metadata": {},
   "outputs": [
    {
     "data": {
      "text/plain": [
       "int"
      ]
     },
     "execution_count": 75,
     "metadata": {},
     "output_type": "execute_result"
    }
   ],
   "source": [
    "type(ts.year)"
   ]
  },
  {
   "cell_type": "code",
   "execution_count": 71,
   "metadata": {},
   "outputs": [
    {
     "data": {
      "text/plain": [
       "datetime.datetime(2016, 10, 1, 4, 23, 23, 900000)"
      ]
     },
     "execution_count": 71,
     "metadata": {},
     "output_type": "execute_result"
    }
   ],
   "source": [
    "ts.to_pydatetime()"
   ]
  },
  {
   "cell_type": "code",
   "execution_count": 73,
   "metadata": {},
   "outputs": [
    {
     "data": {
      "text/plain": [
       "Timedelta('5 days 05:52:20.280000')"
      ]
     },
     "execution_count": 73,
     "metadata": {},
     "output_type": "execute_result"
    }
   ],
   "source": [
    "td = pd.Timedelta(125.8723, unit='h')\n",
    "td"
   ]
  },
  {
   "cell_type": "code",
   "execution_count": 74,
   "metadata": {},
   "outputs": [
    {
     "data": {
      "text/plain": [
       "Timedelta('5 days 05:52:00')"
      ]
     },
     "execution_count": 74,
     "metadata": {},
     "output_type": "execute_result"
    }
   ],
   "source": [
    "td.round('min') # 시간 내림 ceil round flow "
   ]
  },
  {
   "cell_type": "code",
   "execution_count": 76,
   "metadata": {},
   "outputs": [
    {
     "data": {
      "text/plain": [
       "Components(days=5, hours=5, minutes=52, seconds=20, milliseconds=280, microseconds=0, nanoseconds=0)"
      ]
     },
     "execution_count": 76,
     "metadata": {},
     "output_type": "execute_result"
    }
   ],
   "source": [
    "td.components"
   ]
  },
  {
   "cell_type": "code",
   "execution_count": 77,
   "metadata": {},
   "outputs": [
    {
     "data": {
      "text/plain": [
       "Timedelta('5 days 05:52:00')"
      ]
     },
     "execution_count": 77,
     "metadata": {},
     "output_type": "execute_result"
    }
   ],
   "source": [
    "td.round('min')"
   ]
  },
  {
   "cell_type": "code",
   "execution_count": 78,
   "metadata": {},
   "outputs": [
    {
     "data": {
      "text/plain": [
       "Components(days=5, hours=5, minutes=52, seconds=20, milliseconds=280, microseconds=0, nanoseconds=0)"
      ]
     },
     "execution_count": 78,
     "metadata": {},
     "output_type": "execute_result"
    }
   ],
   "source": [
    "td.components"
   ]
  },
  {
   "cell_type": "code",
   "execution_count": 79,
   "metadata": {},
   "outputs": [
    {
     "data": {
      "text/plain": [
       "453140.28"
      ]
     },
     "execution_count": 79,
     "metadata": {},
     "output_type": "execute_result"
    }
   ],
   "source": [
    "td.total_seconds()"
   ]
  },
  {
   "cell_type": "code",
   "execution_count": 80,
   "metadata": {},
   "outputs": [],
   "source": [
    "date_string_list = ['Sep 30 1984'] * 10000"
   ]
  },
  {
   "cell_type": "code",
   "execution_count": 82,
   "metadata": {},
   "outputs": [
    {
     "data": {
      "text/plain": [
       "['Sep 30 1984',\n",
       " 'Sep 30 1984',\n",
       " 'Sep 30 1984',\n",
       " 'Sep 30 1984',\n",
       " 'Sep 30 1984',\n",
       " 'Sep 30 1984',\n",
       " 'Sep 30 1984',\n",
       " 'Sep 30 1984',\n",
       " 'Sep 30 1984',\n",
       " 'Sep 30 1984',\n",
       " 'Sep 30 1984',\n",
       " 'Sep 30 1984',\n",
       " 'Sep 30 1984',\n",
       " 'Sep 30 1984',\n",
       " 'Sep 30 1984',\n",
       " 'Sep 30 1984',\n",
       " 'Sep 30 1984',\n",
       " 'Sep 30 1984',\n",
       " 'Sep 30 1984',\n",
       " 'Sep 30 1984',\n",
       " 'Sep 30 1984',\n",
       " 'Sep 30 1984',\n",
       " 'Sep 30 1984',\n",
       " 'Sep 30 1984',\n",
       " 'Sep 30 1984',\n",
       " 'Sep 30 1984',\n",
       " 'Sep 30 1984',\n",
       " 'Sep 30 1984',\n",
       " 'Sep 30 1984',\n",
       " 'Sep 30 1984',\n",
       " 'Sep 30 1984',\n",
       " 'Sep 30 1984',\n",
       " 'Sep 30 1984',\n",
       " 'Sep 30 1984',\n",
       " 'Sep 30 1984',\n",
       " 'Sep 30 1984',\n",
       " 'Sep 30 1984',\n",
       " 'Sep 30 1984',\n",
       " 'Sep 30 1984',\n",
       " 'Sep 30 1984',\n",
       " 'Sep 30 1984',\n",
       " 'Sep 30 1984',\n",
       " 'Sep 30 1984',\n",
       " 'Sep 30 1984',\n",
       " 'Sep 30 1984',\n",
       " 'Sep 30 1984',\n",
       " 'Sep 30 1984',\n",
       " 'Sep 30 1984',\n",
       " 'Sep 30 1984',\n",
       " 'Sep 30 1984',\n",
       " 'Sep 30 1984',\n",
       " 'Sep 30 1984',\n",
       " 'Sep 30 1984',\n",
       " 'Sep 30 1984',\n",
       " 'Sep 30 1984',\n",
       " 'Sep 30 1984',\n",
       " 'Sep 30 1984',\n",
       " 'Sep 30 1984',\n",
       " 'Sep 30 1984',\n",
       " 'Sep 30 1984',\n",
       " 'Sep 30 1984',\n",
       " 'Sep 30 1984',\n",
       " 'Sep 30 1984',\n",
       " 'Sep 30 1984',\n",
       " 'Sep 30 1984',\n",
       " 'Sep 30 1984',\n",
       " 'Sep 30 1984',\n",
       " 'Sep 30 1984',\n",
       " 'Sep 30 1984',\n",
       " 'Sep 30 1984',\n",
       " 'Sep 30 1984',\n",
       " 'Sep 30 1984',\n",
       " 'Sep 30 1984',\n",
       " 'Sep 30 1984',\n",
       " 'Sep 30 1984',\n",
       " 'Sep 30 1984',\n",
       " 'Sep 30 1984',\n",
       " 'Sep 30 1984',\n",
       " 'Sep 30 1984',\n",
       " 'Sep 30 1984',\n",
       " 'Sep 30 1984',\n",
       " 'Sep 30 1984',\n",
       " 'Sep 30 1984',\n",
       " 'Sep 30 1984',\n",
       " 'Sep 30 1984',\n",
       " 'Sep 30 1984',\n",
       " 'Sep 30 1984',\n",
       " 'Sep 30 1984',\n",
       " 'Sep 30 1984',\n",
       " 'Sep 30 1984',\n",
       " 'Sep 30 1984',\n",
       " 'Sep 30 1984',\n",
       " 'Sep 30 1984',\n",
       " 'Sep 30 1984',\n",
       " 'Sep 30 1984',\n",
       " 'Sep 30 1984',\n",
       " 'Sep 30 1984',\n",
       " 'Sep 30 1984',\n",
       " 'Sep 30 1984',\n",
       " 'Sep 30 1984',\n",
       " 'Sep 30 1984',\n",
       " 'Sep 30 1984',\n",
       " 'Sep 30 1984',\n",
       " 'Sep 30 1984',\n",
       " 'Sep 30 1984',\n",
       " 'Sep 30 1984',\n",
       " 'Sep 30 1984',\n",
       " 'Sep 30 1984',\n",
       " 'Sep 30 1984',\n",
       " 'Sep 30 1984',\n",
       " 'Sep 30 1984',\n",
       " 'Sep 30 1984',\n",
       " 'Sep 30 1984',\n",
       " 'Sep 30 1984',\n",
       " 'Sep 30 1984',\n",
       " 'Sep 30 1984',\n",
       " 'Sep 30 1984',\n",
       " 'Sep 30 1984',\n",
       " 'Sep 30 1984',\n",
       " 'Sep 30 1984',\n",
       " 'Sep 30 1984',\n",
       " 'Sep 30 1984',\n",
       " 'Sep 30 1984',\n",
       " 'Sep 30 1984',\n",
       " 'Sep 30 1984',\n",
       " 'Sep 30 1984',\n",
       " 'Sep 30 1984',\n",
       " 'Sep 30 1984',\n",
       " 'Sep 30 1984',\n",
       " 'Sep 30 1984',\n",
       " 'Sep 30 1984',\n",
       " 'Sep 30 1984',\n",
       " 'Sep 30 1984',\n",
       " 'Sep 30 1984',\n",
       " 'Sep 30 1984',\n",
       " 'Sep 30 1984',\n",
       " 'Sep 30 1984',\n",
       " 'Sep 30 1984',\n",
       " 'Sep 30 1984',\n",
       " 'Sep 30 1984',\n",
       " 'Sep 30 1984',\n",
       " 'Sep 30 1984',\n",
       " 'Sep 30 1984',\n",
       " 'Sep 30 1984',\n",
       " 'Sep 30 1984',\n",
       " 'Sep 30 1984',\n",
       " 'Sep 30 1984',\n",
       " 'Sep 30 1984',\n",
       " 'Sep 30 1984',\n",
       " 'Sep 30 1984',\n",
       " 'Sep 30 1984',\n",
       " 'Sep 30 1984',\n",
       " 'Sep 30 1984',\n",
       " 'Sep 30 1984',\n",
       " 'Sep 30 1984',\n",
       " 'Sep 30 1984',\n",
       " 'Sep 30 1984',\n",
       " 'Sep 30 1984',\n",
       " 'Sep 30 1984',\n",
       " 'Sep 30 1984',\n",
       " 'Sep 30 1984',\n",
       " 'Sep 30 1984',\n",
       " 'Sep 30 1984',\n",
       " 'Sep 30 1984',\n",
       " 'Sep 30 1984',\n",
       " 'Sep 30 1984',\n",
       " 'Sep 30 1984',\n",
       " 'Sep 30 1984',\n",
       " 'Sep 30 1984',\n",
       " 'Sep 30 1984',\n",
       " 'Sep 30 1984',\n",
       " 'Sep 30 1984',\n",
       " 'Sep 30 1984',\n",
       " 'Sep 30 1984',\n",
       " 'Sep 30 1984',\n",
       " 'Sep 30 1984',\n",
       " 'Sep 30 1984',\n",
       " 'Sep 30 1984',\n",
       " 'Sep 30 1984',\n",
       " 'Sep 30 1984',\n",
       " 'Sep 30 1984',\n",
       " 'Sep 30 1984',\n",
       " 'Sep 30 1984',\n",
       " 'Sep 30 1984',\n",
       " 'Sep 30 1984',\n",
       " 'Sep 30 1984',\n",
       " 'Sep 30 1984',\n",
       " 'Sep 30 1984',\n",
       " 'Sep 30 1984',\n",
       " 'Sep 30 1984',\n",
       " 'Sep 30 1984',\n",
       " 'Sep 30 1984',\n",
       " 'Sep 30 1984',\n",
       " 'Sep 30 1984',\n",
       " 'Sep 30 1984',\n",
       " 'Sep 30 1984',\n",
       " 'Sep 30 1984',\n",
       " 'Sep 30 1984',\n",
       " 'Sep 30 1984',\n",
       " 'Sep 30 1984',\n",
       " 'Sep 30 1984',\n",
       " 'Sep 30 1984',\n",
       " 'Sep 30 1984',\n",
       " 'Sep 30 1984',\n",
       " 'Sep 30 1984',\n",
       " 'Sep 30 1984',\n",
       " 'Sep 30 1984',\n",
       " 'Sep 30 1984',\n",
       " 'Sep 30 1984',\n",
       " 'Sep 30 1984',\n",
       " 'Sep 30 1984',\n",
       " 'Sep 30 1984',\n",
       " 'Sep 30 1984',\n",
       " 'Sep 30 1984',\n",
       " 'Sep 30 1984',\n",
       " 'Sep 30 1984',\n",
       " 'Sep 30 1984',\n",
       " 'Sep 30 1984',\n",
       " 'Sep 30 1984',\n",
       " 'Sep 30 1984',\n",
       " 'Sep 30 1984',\n",
       " 'Sep 30 1984',\n",
       " 'Sep 30 1984',\n",
       " 'Sep 30 1984',\n",
       " 'Sep 30 1984',\n",
       " 'Sep 30 1984',\n",
       " 'Sep 30 1984',\n",
       " 'Sep 30 1984',\n",
       " 'Sep 30 1984',\n",
       " 'Sep 30 1984',\n",
       " 'Sep 30 1984',\n",
       " 'Sep 30 1984',\n",
       " 'Sep 30 1984',\n",
       " 'Sep 30 1984',\n",
       " 'Sep 30 1984',\n",
       " 'Sep 30 1984',\n",
       " 'Sep 30 1984',\n",
       " 'Sep 30 1984',\n",
       " 'Sep 30 1984',\n",
       " 'Sep 30 1984',\n",
       " 'Sep 30 1984',\n",
       " 'Sep 30 1984',\n",
       " 'Sep 30 1984',\n",
       " 'Sep 30 1984',\n",
       " 'Sep 30 1984',\n",
       " 'Sep 30 1984',\n",
       " 'Sep 30 1984',\n",
       " 'Sep 30 1984',\n",
       " 'Sep 30 1984',\n",
       " 'Sep 30 1984',\n",
       " 'Sep 30 1984',\n",
       " 'Sep 30 1984',\n",
       " 'Sep 30 1984',\n",
       " 'Sep 30 1984',\n",
       " 'Sep 30 1984',\n",
       " 'Sep 30 1984',\n",
       " 'Sep 30 1984',\n",
       " 'Sep 30 1984',\n",
       " 'Sep 30 1984',\n",
       " 'Sep 30 1984',\n",
       " 'Sep 30 1984',\n",
       " 'Sep 30 1984',\n",
       " 'Sep 30 1984',\n",
       " 'Sep 30 1984',\n",
       " 'Sep 30 1984',\n",
       " 'Sep 30 1984',\n",
       " 'Sep 30 1984',\n",
       " 'Sep 30 1984',\n",
       " 'Sep 30 1984',\n",
       " 'Sep 30 1984',\n",
       " 'Sep 30 1984',\n",
       " 'Sep 30 1984',\n",
       " 'Sep 30 1984',\n",
       " 'Sep 30 1984',\n",
       " 'Sep 30 1984',\n",
       " 'Sep 30 1984',\n",
       " 'Sep 30 1984',\n",
       " 'Sep 30 1984',\n",
       " 'Sep 30 1984',\n",
       " 'Sep 30 1984',\n",
       " 'Sep 30 1984',\n",
       " 'Sep 30 1984',\n",
       " 'Sep 30 1984',\n",
       " 'Sep 30 1984',\n",
       " 'Sep 30 1984',\n",
       " 'Sep 30 1984',\n",
       " 'Sep 30 1984',\n",
       " 'Sep 30 1984',\n",
       " 'Sep 30 1984',\n",
       " 'Sep 30 1984',\n",
       " 'Sep 30 1984',\n",
       " 'Sep 30 1984',\n",
       " 'Sep 30 1984',\n",
       " 'Sep 30 1984',\n",
       " 'Sep 30 1984',\n",
       " 'Sep 30 1984',\n",
       " 'Sep 30 1984',\n",
       " 'Sep 30 1984',\n",
       " 'Sep 30 1984',\n",
       " 'Sep 30 1984',\n",
       " 'Sep 30 1984',\n",
       " 'Sep 30 1984',\n",
       " 'Sep 30 1984',\n",
       " 'Sep 30 1984',\n",
       " 'Sep 30 1984',\n",
       " 'Sep 30 1984',\n",
       " 'Sep 30 1984',\n",
       " 'Sep 30 1984',\n",
       " 'Sep 30 1984',\n",
       " 'Sep 30 1984',\n",
       " 'Sep 30 1984',\n",
       " 'Sep 30 1984',\n",
       " 'Sep 30 1984',\n",
       " 'Sep 30 1984',\n",
       " 'Sep 30 1984',\n",
       " 'Sep 30 1984',\n",
       " 'Sep 30 1984',\n",
       " 'Sep 30 1984',\n",
       " 'Sep 30 1984',\n",
       " 'Sep 30 1984',\n",
       " 'Sep 30 1984',\n",
       " 'Sep 30 1984',\n",
       " 'Sep 30 1984',\n",
       " 'Sep 30 1984',\n",
       " 'Sep 30 1984',\n",
       " 'Sep 30 1984',\n",
       " 'Sep 30 1984',\n",
       " 'Sep 30 1984',\n",
       " 'Sep 30 1984',\n",
       " 'Sep 30 1984',\n",
       " 'Sep 30 1984',\n",
       " 'Sep 30 1984',\n",
       " 'Sep 30 1984',\n",
       " 'Sep 30 1984',\n",
       " 'Sep 30 1984',\n",
       " 'Sep 30 1984',\n",
       " 'Sep 30 1984',\n",
       " 'Sep 30 1984',\n",
       " 'Sep 30 1984',\n",
       " 'Sep 30 1984',\n",
       " 'Sep 30 1984',\n",
       " 'Sep 30 1984',\n",
       " 'Sep 30 1984',\n",
       " 'Sep 30 1984',\n",
       " 'Sep 30 1984',\n",
       " 'Sep 30 1984',\n",
       " 'Sep 30 1984',\n",
       " 'Sep 30 1984',\n",
       " 'Sep 30 1984',\n",
       " 'Sep 30 1984',\n",
       " 'Sep 30 1984',\n",
       " 'Sep 30 1984',\n",
       " 'Sep 30 1984',\n",
       " 'Sep 30 1984',\n",
       " 'Sep 30 1984',\n",
       " 'Sep 30 1984',\n",
       " 'Sep 30 1984',\n",
       " 'Sep 30 1984',\n",
       " 'Sep 30 1984',\n",
       " 'Sep 30 1984',\n",
       " 'Sep 30 1984',\n",
       " 'Sep 30 1984',\n",
       " 'Sep 30 1984',\n",
       " 'Sep 30 1984',\n",
       " 'Sep 30 1984',\n",
       " 'Sep 30 1984',\n",
       " 'Sep 30 1984',\n",
       " 'Sep 30 1984',\n",
       " 'Sep 30 1984',\n",
       " 'Sep 30 1984',\n",
       " 'Sep 30 1984',\n",
       " 'Sep 30 1984',\n",
       " 'Sep 30 1984',\n",
       " 'Sep 30 1984',\n",
       " 'Sep 30 1984',\n",
       " 'Sep 30 1984',\n",
       " 'Sep 30 1984',\n",
       " 'Sep 30 1984',\n",
       " 'Sep 30 1984',\n",
       " 'Sep 30 1984',\n",
       " 'Sep 30 1984',\n",
       " 'Sep 30 1984',\n",
       " 'Sep 30 1984',\n",
       " 'Sep 30 1984',\n",
       " 'Sep 30 1984',\n",
       " 'Sep 30 1984',\n",
       " 'Sep 30 1984',\n",
       " 'Sep 30 1984',\n",
       " 'Sep 30 1984',\n",
       " 'Sep 30 1984',\n",
       " 'Sep 30 1984',\n",
       " 'Sep 30 1984',\n",
       " 'Sep 30 1984',\n",
       " 'Sep 30 1984',\n",
       " 'Sep 30 1984',\n",
       " 'Sep 30 1984',\n",
       " 'Sep 30 1984',\n",
       " 'Sep 30 1984',\n",
       " 'Sep 30 1984',\n",
       " 'Sep 30 1984',\n",
       " 'Sep 30 1984',\n",
       " 'Sep 30 1984',\n",
       " 'Sep 30 1984',\n",
       " 'Sep 30 1984',\n",
       " 'Sep 30 1984',\n",
       " 'Sep 30 1984',\n",
       " 'Sep 30 1984',\n",
       " 'Sep 30 1984',\n",
       " 'Sep 30 1984',\n",
       " 'Sep 30 1984',\n",
       " 'Sep 30 1984',\n",
       " 'Sep 30 1984',\n",
       " 'Sep 30 1984',\n",
       " 'Sep 30 1984',\n",
       " 'Sep 30 1984',\n",
       " 'Sep 30 1984',\n",
       " 'Sep 30 1984',\n",
       " 'Sep 30 1984',\n",
       " 'Sep 30 1984',\n",
       " 'Sep 30 1984',\n",
       " 'Sep 30 1984',\n",
       " 'Sep 30 1984',\n",
       " 'Sep 30 1984',\n",
       " 'Sep 30 1984',\n",
       " 'Sep 30 1984',\n",
       " 'Sep 30 1984',\n",
       " 'Sep 30 1984',\n",
       " 'Sep 30 1984',\n",
       " 'Sep 30 1984',\n",
       " 'Sep 30 1984',\n",
       " 'Sep 30 1984',\n",
       " 'Sep 30 1984',\n",
       " 'Sep 30 1984',\n",
       " 'Sep 30 1984',\n",
       " 'Sep 30 1984',\n",
       " 'Sep 30 1984',\n",
       " 'Sep 30 1984',\n",
       " 'Sep 30 1984',\n",
       " 'Sep 30 1984',\n",
       " 'Sep 30 1984',\n",
       " 'Sep 30 1984',\n",
       " 'Sep 30 1984',\n",
       " 'Sep 30 1984',\n",
       " 'Sep 30 1984',\n",
       " 'Sep 30 1984',\n",
       " 'Sep 30 1984',\n",
       " 'Sep 30 1984',\n",
       " 'Sep 30 1984',\n",
       " 'Sep 30 1984',\n",
       " 'Sep 30 1984',\n",
       " 'Sep 30 1984',\n",
       " 'Sep 30 1984',\n",
       " 'Sep 30 1984',\n",
       " 'Sep 30 1984',\n",
       " 'Sep 30 1984',\n",
       " 'Sep 30 1984',\n",
       " 'Sep 30 1984',\n",
       " 'Sep 30 1984',\n",
       " 'Sep 30 1984',\n",
       " 'Sep 30 1984',\n",
       " 'Sep 30 1984',\n",
       " 'Sep 30 1984',\n",
       " 'Sep 30 1984',\n",
       " 'Sep 30 1984',\n",
       " 'Sep 30 1984',\n",
       " 'Sep 30 1984',\n",
       " 'Sep 30 1984',\n",
       " 'Sep 30 1984',\n",
       " 'Sep 30 1984',\n",
       " 'Sep 30 1984',\n",
       " 'Sep 30 1984',\n",
       " 'Sep 30 1984',\n",
       " 'Sep 30 1984',\n",
       " 'Sep 30 1984',\n",
       " 'Sep 30 1984',\n",
       " 'Sep 30 1984',\n",
       " 'Sep 30 1984',\n",
       " 'Sep 30 1984',\n",
       " 'Sep 30 1984',\n",
       " 'Sep 30 1984',\n",
       " 'Sep 30 1984',\n",
       " 'Sep 30 1984',\n",
       " 'Sep 30 1984',\n",
       " 'Sep 30 1984',\n",
       " 'Sep 30 1984',\n",
       " 'Sep 30 1984',\n",
       " 'Sep 30 1984',\n",
       " 'Sep 30 1984',\n",
       " 'Sep 30 1984',\n",
       " 'Sep 30 1984',\n",
       " 'Sep 30 1984',\n",
       " 'Sep 30 1984',\n",
       " 'Sep 30 1984',\n",
       " 'Sep 30 1984',\n",
       " 'Sep 30 1984',\n",
       " 'Sep 30 1984',\n",
       " 'Sep 30 1984',\n",
       " 'Sep 30 1984',\n",
       " 'Sep 30 1984',\n",
       " 'Sep 30 1984',\n",
       " 'Sep 30 1984',\n",
       " 'Sep 30 1984',\n",
       " 'Sep 30 1984',\n",
       " 'Sep 30 1984',\n",
       " 'Sep 30 1984',\n",
       " 'Sep 30 1984',\n",
       " 'Sep 30 1984',\n",
       " 'Sep 30 1984',\n",
       " 'Sep 30 1984',\n",
       " 'Sep 30 1984',\n",
       " 'Sep 30 1984',\n",
       " 'Sep 30 1984',\n",
       " 'Sep 30 1984',\n",
       " 'Sep 30 1984',\n",
       " 'Sep 30 1984',\n",
       " 'Sep 30 1984',\n",
       " 'Sep 30 1984',\n",
       " 'Sep 30 1984',\n",
       " 'Sep 30 1984',\n",
       " 'Sep 30 1984',\n",
       " 'Sep 30 1984',\n",
       " 'Sep 30 1984',\n",
       " 'Sep 30 1984',\n",
       " 'Sep 30 1984',\n",
       " 'Sep 30 1984',\n",
       " 'Sep 30 1984',\n",
       " 'Sep 30 1984',\n",
       " 'Sep 30 1984',\n",
       " 'Sep 30 1984',\n",
       " 'Sep 30 1984',\n",
       " 'Sep 30 1984',\n",
       " 'Sep 30 1984',\n",
       " 'Sep 30 1984',\n",
       " 'Sep 30 1984',\n",
       " 'Sep 30 1984',\n",
       " 'Sep 30 1984',\n",
       " 'Sep 30 1984',\n",
       " 'Sep 30 1984',\n",
       " 'Sep 30 1984',\n",
       " 'Sep 30 1984',\n",
       " 'Sep 30 1984',\n",
       " 'Sep 30 1984',\n",
       " 'Sep 30 1984',\n",
       " 'Sep 30 1984',\n",
       " 'Sep 30 1984',\n",
       " 'Sep 30 1984',\n",
       " 'Sep 30 1984',\n",
       " 'Sep 30 1984',\n",
       " 'Sep 30 1984',\n",
       " 'Sep 30 1984',\n",
       " 'Sep 30 1984',\n",
       " 'Sep 30 1984',\n",
       " 'Sep 30 1984',\n",
       " 'Sep 30 1984',\n",
       " 'Sep 30 1984',\n",
       " 'Sep 30 1984',\n",
       " 'Sep 30 1984',\n",
       " 'Sep 30 1984',\n",
       " 'Sep 30 1984',\n",
       " 'Sep 30 1984',\n",
       " 'Sep 30 1984',\n",
       " 'Sep 30 1984',\n",
       " 'Sep 30 1984',\n",
       " 'Sep 30 1984',\n",
       " 'Sep 30 1984',\n",
       " 'Sep 30 1984',\n",
       " 'Sep 30 1984',\n",
       " 'Sep 30 1984',\n",
       " 'Sep 30 1984',\n",
       " 'Sep 30 1984',\n",
       " 'Sep 30 1984',\n",
       " 'Sep 30 1984',\n",
       " 'Sep 30 1984',\n",
       " 'Sep 30 1984',\n",
       " 'Sep 30 1984',\n",
       " 'Sep 30 1984',\n",
       " 'Sep 30 1984',\n",
       " 'Sep 30 1984',\n",
       " 'Sep 30 1984',\n",
       " 'Sep 30 1984',\n",
       " 'Sep 30 1984',\n",
       " 'Sep 30 1984',\n",
       " 'Sep 30 1984',\n",
       " 'Sep 30 1984',\n",
       " 'Sep 30 1984',\n",
       " 'Sep 30 1984',\n",
       " 'Sep 30 1984',\n",
       " 'Sep 30 1984',\n",
       " 'Sep 30 1984',\n",
       " 'Sep 30 1984',\n",
       " 'Sep 30 1984',\n",
       " 'Sep 30 1984',\n",
       " 'Sep 30 1984',\n",
       " 'Sep 30 1984',\n",
       " 'Sep 30 1984',\n",
       " 'Sep 30 1984',\n",
       " 'Sep 30 1984',\n",
       " 'Sep 30 1984',\n",
       " 'Sep 30 1984',\n",
       " 'Sep 30 1984',\n",
       " 'Sep 30 1984',\n",
       " 'Sep 30 1984',\n",
       " 'Sep 30 1984',\n",
       " 'Sep 30 1984',\n",
       " 'Sep 30 1984',\n",
       " 'Sep 30 1984',\n",
       " 'Sep 30 1984',\n",
       " 'Sep 30 1984',\n",
       " 'Sep 30 1984',\n",
       " 'Sep 30 1984',\n",
       " 'Sep 30 1984',\n",
       " 'Sep 30 1984',\n",
       " 'Sep 30 1984',\n",
       " 'Sep 30 1984',\n",
       " 'Sep 30 1984',\n",
       " 'Sep 30 1984',\n",
       " 'Sep 30 1984',\n",
       " 'Sep 30 1984',\n",
       " 'Sep 30 1984',\n",
       " 'Sep 30 1984',\n",
       " 'Sep 30 1984',\n",
       " 'Sep 30 1984',\n",
       " 'Sep 30 1984',\n",
       " 'Sep 30 1984',\n",
       " 'Sep 30 1984',\n",
       " 'Sep 30 1984',\n",
       " 'Sep 30 1984',\n",
       " 'Sep 30 1984',\n",
       " 'Sep 30 1984',\n",
       " 'Sep 30 1984',\n",
       " 'Sep 30 1984',\n",
       " 'Sep 30 1984',\n",
       " 'Sep 30 1984',\n",
       " 'Sep 30 1984',\n",
       " 'Sep 30 1984',\n",
       " 'Sep 30 1984',\n",
       " 'Sep 30 1984',\n",
       " 'Sep 30 1984',\n",
       " 'Sep 30 1984',\n",
       " 'Sep 30 1984',\n",
       " 'Sep 30 1984',\n",
       " 'Sep 30 1984',\n",
       " 'Sep 30 1984',\n",
       " 'Sep 30 1984',\n",
       " 'Sep 30 1984',\n",
       " 'Sep 30 1984',\n",
       " 'Sep 30 1984',\n",
       " 'Sep 30 1984',\n",
       " 'Sep 30 1984',\n",
       " 'Sep 30 1984',\n",
       " 'Sep 30 1984',\n",
       " 'Sep 30 1984',\n",
       " 'Sep 30 1984',\n",
       " 'Sep 30 1984',\n",
       " 'Sep 30 1984',\n",
       " 'Sep 30 1984',\n",
       " 'Sep 30 1984',\n",
       " 'Sep 30 1984',\n",
       " 'Sep 30 1984',\n",
       " 'Sep 30 1984',\n",
       " 'Sep 30 1984',\n",
       " 'Sep 30 1984',\n",
       " 'Sep 30 1984',\n",
       " 'Sep 30 1984',\n",
       " 'Sep 30 1984',\n",
       " 'Sep 30 1984',\n",
       " 'Sep 30 1984',\n",
       " 'Sep 30 1984',\n",
       " 'Sep 30 1984',\n",
       " 'Sep 30 1984',\n",
       " 'Sep 30 1984',\n",
       " 'Sep 30 1984',\n",
       " 'Sep 30 1984',\n",
       " 'Sep 30 1984',\n",
       " 'Sep 30 1984',\n",
       " 'Sep 30 1984',\n",
       " 'Sep 30 1984',\n",
       " 'Sep 30 1984',\n",
       " 'Sep 30 1984',\n",
       " 'Sep 30 1984',\n",
       " 'Sep 30 1984',\n",
       " 'Sep 30 1984',\n",
       " 'Sep 30 1984',\n",
       " 'Sep 30 1984',\n",
       " 'Sep 30 1984',\n",
       " 'Sep 30 1984',\n",
       " 'Sep 30 1984',\n",
       " 'Sep 30 1984',\n",
       " 'Sep 30 1984',\n",
       " 'Sep 30 1984',\n",
       " 'Sep 30 1984',\n",
       " 'Sep 30 1984',\n",
       " 'Sep 30 1984',\n",
       " 'Sep 30 1984',\n",
       " 'Sep 30 1984',\n",
       " 'Sep 30 1984',\n",
       " 'Sep 30 1984',\n",
       " 'Sep 30 1984',\n",
       " 'Sep 30 1984',\n",
       " 'Sep 30 1984',\n",
       " 'Sep 30 1984',\n",
       " 'Sep 30 1984',\n",
       " 'Sep 30 1984',\n",
       " 'Sep 30 1984',\n",
       " 'Sep 30 1984',\n",
       " 'Sep 30 1984',\n",
       " 'Sep 30 1984',\n",
       " 'Sep 30 1984',\n",
       " 'Sep 30 1984',\n",
       " 'Sep 30 1984',\n",
       " 'Sep 30 1984',\n",
       " 'Sep 30 1984',\n",
       " 'Sep 30 1984',\n",
       " 'Sep 30 1984',\n",
       " 'Sep 30 1984',\n",
       " 'Sep 30 1984',\n",
       " 'Sep 30 1984',\n",
       " 'Sep 30 1984',\n",
       " 'Sep 30 1984',\n",
       " 'Sep 30 1984',\n",
       " 'Sep 30 1984',\n",
       " 'Sep 30 1984',\n",
       " 'Sep 30 1984',\n",
       " 'Sep 30 1984',\n",
       " 'Sep 30 1984',\n",
       " 'Sep 30 1984',\n",
       " 'Sep 30 1984',\n",
       " 'Sep 30 1984',\n",
       " 'Sep 30 1984',\n",
       " 'Sep 30 1984',\n",
       " 'Sep 30 1984',\n",
       " 'Sep 30 1984',\n",
       " 'Sep 30 1984',\n",
       " 'Sep 30 1984',\n",
       " 'Sep 30 1984',\n",
       " 'Sep 30 1984',\n",
       " 'Sep 30 1984',\n",
       " 'Sep 30 1984',\n",
       " 'Sep 30 1984',\n",
       " 'Sep 30 1984',\n",
       " 'Sep 30 1984',\n",
       " 'Sep 30 1984',\n",
       " 'Sep 30 1984',\n",
       " 'Sep 30 1984',\n",
       " 'Sep 30 1984',\n",
       " 'Sep 30 1984',\n",
       " 'Sep 30 1984',\n",
       " 'Sep 30 1984',\n",
       " 'Sep 30 1984',\n",
       " 'Sep 30 1984',\n",
       " 'Sep 30 1984',\n",
       " 'Sep 30 1984',\n",
       " 'Sep 30 1984',\n",
       " 'Sep 30 1984',\n",
       " 'Sep 30 1984',\n",
       " 'Sep 30 1984',\n",
       " 'Sep 30 1984',\n",
       " 'Sep 30 1984',\n",
       " 'Sep 30 1984',\n",
       " 'Sep 30 1984',\n",
       " 'Sep 30 1984',\n",
       " 'Sep 30 1984',\n",
       " 'Sep 30 1984',\n",
       " 'Sep 30 1984',\n",
       " 'Sep 30 1984',\n",
       " 'Sep 30 1984',\n",
       " 'Sep 30 1984',\n",
       " 'Sep 30 1984',\n",
       " 'Sep 30 1984',\n",
       " 'Sep 30 1984',\n",
       " 'Sep 30 1984',\n",
       " 'Sep 30 1984',\n",
       " 'Sep 30 1984',\n",
       " 'Sep 30 1984',\n",
       " 'Sep 30 1984',\n",
       " 'Sep 30 1984',\n",
       " 'Sep 30 1984',\n",
       " 'Sep 30 1984',\n",
       " 'Sep 30 1984',\n",
       " 'Sep 30 1984',\n",
       " 'Sep 30 1984',\n",
       " 'Sep 30 1984',\n",
       " 'Sep 30 1984',\n",
       " 'Sep 30 1984',\n",
       " 'Sep 30 1984',\n",
       " 'Sep 30 1984',\n",
       " 'Sep 30 1984',\n",
       " 'Sep 30 1984',\n",
       " 'Sep 30 1984',\n",
       " 'Sep 30 1984',\n",
       " 'Sep 30 1984',\n",
       " 'Sep 30 1984',\n",
       " 'Sep 30 1984',\n",
       " 'Sep 30 1984',\n",
       " 'Sep 30 1984',\n",
       " 'Sep 30 1984',\n",
       " 'Sep 30 1984',\n",
       " 'Sep 30 1984',\n",
       " 'Sep 30 1984',\n",
       " 'Sep 30 1984',\n",
       " 'Sep 30 1984',\n",
       " 'Sep 30 1984',\n",
       " 'Sep 30 1984',\n",
       " 'Sep 30 1984',\n",
       " 'Sep 30 1984',\n",
       " 'Sep 30 1984',\n",
       " 'Sep 30 1984',\n",
       " 'Sep 30 1984',\n",
       " 'Sep 30 1984',\n",
       " 'Sep 30 1984',\n",
       " 'Sep 30 1984',\n",
       " 'Sep 30 1984',\n",
       " 'Sep 30 1984',\n",
       " 'Sep 30 1984',\n",
       " 'Sep 30 1984',\n",
       " 'Sep 30 1984',\n",
       " 'Sep 30 1984',\n",
       " 'Sep 30 1984',\n",
       " 'Sep 30 1984',\n",
       " 'Sep 30 1984',\n",
       " 'Sep 30 1984',\n",
       " 'Sep 30 1984',\n",
       " 'Sep 30 1984',\n",
       " 'Sep 30 1984',\n",
       " 'Sep 30 1984',\n",
       " 'Sep 30 1984',\n",
       " 'Sep 30 1984',\n",
       " 'Sep 30 1984',\n",
       " 'Sep 30 1984',\n",
       " 'Sep 30 1984',\n",
       " 'Sep 30 1984',\n",
       " 'Sep 30 1984',\n",
       " 'Sep 30 1984',\n",
       " 'Sep 30 1984',\n",
       " 'Sep 30 1984',\n",
       " 'Sep 30 1984',\n",
       " 'Sep 30 1984',\n",
       " 'Sep 30 1984',\n",
       " 'Sep 30 1984',\n",
       " 'Sep 30 1984',\n",
       " 'Sep 30 1984',\n",
       " 'Sep 30 1984',\n",
       " 'Sep 30 1984',\n",
       " 'Sep 30 1984',\n",
       " 'Sep 30 1984',\n",
       " 'Sep 30 1984',\n",
       " 'Sep 30 1984',\n",
       " 'Sep 30 1984',\n",
       " 'Sep 30 1984',\n",
       " 'Sep 30 1984',\n",
       " 'Sep 30 1984',\n",
       " 'Sep 30 1984',\n",
       " 'Sep 30 1984',\n",
       " 'Sep 30 1984',\n",
       " 'Sep 30 1984',\n",
       " 'Sep 30 1984',\n",
       " 'Sep 30 1984',\n",
       " 'Sep 30 1984',\n",
       " 'Sep 30 1984',\n",
       " 'Sep 30 1984',\n",
       " 'Sep 30 1984',\n",
       " 'Sep 30 1984',\n",
       " 'Sep 30 1984',\n",
       " 'Sep 30 1984',\n",
       " 'Sep 30 1984',\n",
       " 'Sep 30 1984',\n",
       " 'Sep 30 1984',\n",
       " 'Sep 30 1984',\n",
       " 'Sep 30 1984',\n",
       " 'Sep 30 1984',\n",
       " 'Sep 30 1984',\n",
       " 'Sep 30 1984',\n",
       " 'Sep 30 1984',\n",
       " 'Sep 30 1984',\n",
       " 'Sep 30 1984',\n",
       " 'Sep 30 1984',\n",
       " 'Sep 30 1984',\n",
       " 'Sep 30 1984',\n",
       " 'Sep 30 1984',\n",
       " 'Sep 30 1984',\n",
       " 'Sep 30 1984',\n",
       " 'Sep 30 1984',\n",
       " 'Sep 30 1984',\n",
       " 'Sep 30 1984',\n",
       " 'Sep 30 1984',\n",
       " 'Sep 30 1984',\n",
       " 'Sep 30 1984',\n",
       " 'Sep 30 1984',\n",
       " 'Sep 30 1984',\n",
       " 'Sep 30 1984',\n",
       " 'Sep 30 1984',\n",
       " 'Sep 30 1984',\n",
       " 'Sep 30 1984',\n",
       " 'Sep 30 1984',\n",
       " 'Sep 30 1984',\n",
       " 'Sep 30 1984',\n",
       " 'Sep 30 1984',\n",
       " 'Sep 30 1984',\n",
       " 'Sep 30 1984',\n",
       " 'Sep 30 1984',\n",
       " 'Sep 30 1984',\n",
       " 'Sep 30 1984',\n",
       " 'Sep 30 1984',\n",
       " 'Sep 30 1984',\n",
       " 'Sep 30 1984',\n",
       " 'Sep 30 1984',\n",
       " 'Sep 30 1984',\n",
       " 'Sep 30 1984',\n",
       " 'Sep 30 1984',\n",
       " 'Sep 30 1984',\n",
       " 'Sep 30 1984',\n",
       " 'Sep 30 1984',\n",
       " 'Sep 30 1984',\n",
       " 'Sep 30 1984',\n",
       " 'Sep 30 1984',\n",
       " 'Sep 30 1984',\n",
       " 'Sep 30 1984',\n",
       " 'Sep 30 1984',\n",
       " 'Sep 30 1984',\n",
       " 'Sep 30 1984',\n",
       " 'Sep 30 1984',\n",
       " 'Sep 30 1984',\n",
       " 'Sep 30 1984',\n",
       " 'Sep 30 1984',\n",
       " 'Sep 30 1984',\n",
       " 'Sep 30 1984',\n",
       " 'Sep 30 1984',\n",
       " 'Sep 30 1984',\n",
       " 'Sep 30 1984',\n",
       " 'Sep 30 1984',\n",
       " 'Sep 30 1984',\n",
       " 'Sep 30 1984',\n",
       " 'Sep 30 1984',\n",
       " 'Sep 30 1984',\n",
       " 'Sep 30 1984',\n",
       " 'Sep 30 1984',\n",
       " 'Sep 30 1984',\n",
       " 'Sep 30 1984',\n",
       " 'Sep 30 1984',\n",
       " 'Sep 30 1984',\n",
       " 'Sep 30 1984',\n",
       " 'Sep 30 1984',\n",
       " 'Sep 30 1984',\n",
       " 'Sep 30 1984',\n",
       " 'Sep 30 1984',\n",
       " 'Sep 30 1984',\n",
       " 'Sep 30 1984',\n",
       " 'Sep 30 1984',\n",
       " 'Sep 30 1984',\n",
       " 'Sep 30 1984',\n",
       " 'Sep 30 1984',\n",
       " 'Sep 30 1984',\n",
       " 'Sep 30 1984',\n",
       " 'Sep 30 1984',\n",
       " 'Sep 30 1984',\n",
       " 'Sep 30 1984',\n",
       " 'Sep 30 1984',\n",
       " 'Sep 30 1984',\n",
       " 'Sep 30 1984',\n",
       " 'Sep 30 1984',\n",
       " 'Sep 30 1984',\n",
       " 'Sep 30 1984',\n",
       " 'Sep 30 1984',\n",
       " 'Sep 30 1984',\n",
       " 'Sep 30 1984',\n",
       " 'Sep 30 1984',\n",
       " 'Sep 30 1984',\n",
       " 'Sep 30 1984',\n",
       " 'Sep 30 1984',\n",
       " 'Sep 30 1984',\n",
       " 'Sep 30 1984',\n",
       " 'Sep 30 1984',\n",
       " 'Sep 30 1984',\n",
       " 'Sep 30 1984',\n",
       " 'Sep 30 1984',\n",
       " 'Sep 30 1984',\n",
       " 'Sep 30 1984',\n",
       " 'Sep 30 1984',\n",
       " 'Sep 30 1984',\n",
       " 'Sep 30 1984',\n",
       " 'Sep 30 1984',\n",
       " 'Sep 30 1984',\n",
       " 'Sep 30 1984',\n",
       " 'Sep 30 1984',\n",
       " 'Sep 30 1984',\n",
       " 'Sep 30 1984',\n",
       " 'Sep 30 1984',\n",
       " 'Sep 30 1984',\n",
       " 'Sep 30 1984',\n",
       " 'Sep 30 1984',\n",
       " 'Sep 30 1984',\n",
       " 'Sep 30 1984',\n",
       " 'Sep 30 1984',\n",
       " 'Sep 30 1984',\n",
       " 'Sep 30 1984',\n",
       " 'Sep 30 1984',\n",
       " 'Sep 30 1984',\n",
       " 'Sep 30 1984',\n",
       " 'Sep 30 1984',\n",
       " 'Sep 30 1984',\n",
       " ...]"
      ]
     },
     "execution_count": 82,
     "metadata": {},
     "output_type": "execute_result"
    }
   ],
   "source": [
    "date_string_list"
   ]
  },
  {
   "cell_type": "code",
   "execution_count": 83,
   "metadata": {},
   "outputs": [
    {
     "name": "stdout",
     "output_type": "stream",
     "text": [
      "40.7 ms ± 1.57 ms per loop (mean ± std. dev. of 7 runs, 10 loops each)\n"
     ]
    }
   ],
   "source": [
    "%timeit pd.to_datetime(date_string_list, format= '%b %d %Y') # format은 느려 속도차가 엄청나 (이렇게 하지말고 모든걸 2018-09-9 '-'로 통일 하자 )"
   ]
  },
  {
   "cell_type": "code",
   "execution_count": 84,
   "metadata": {},
   "outputs": [
    {
     "name": "stdout",
     "output_type": "stream",
     "text": [
      "1.48 s ± 151 ms per loop (mean ± std. dev. of 7 runs, 1 loop each)\n"
     ]
    }
   ],
   "source": [
    "%timeit pd.to_datetime(date_string_list)"
   ]
  },
  {
   "cell_type": "code",
   "execution_count": null,
   "metadata": {},
   "outputs": [],
   "source": [
    "# TS -> 만드는 방법 객체의 인스턴스화 \n",
    "#     ->pd.to_datetime  (인자가 하나면 인스턴스를 돌려주고) 리스트를 넣었을 때 결과가 인덱스 \n",
    "# TS -> Datetime 파이썬 np -> Datetime64\n",
    "# TD ->인스턴스화,  pd.to_timedelta \n",
    "# TD 파이썬 timedelta , np -> timedelta64"
   ]
  },
  {
   "cell_type": "code",
   "execution_count": 85,
   "metadata": {},
   "outputs": [],
   "source": [
    "TS = pd.to_datetime('2015-05-30')"
   ]
  },
  {
   "cell_type": "code",
   "execution_count": 86,
   "metadata": {},
   "outputs": [
    {
     "data": {
      "text/plain": [
       "pandas._libs.tslibs.timestamps.Timestamp"
      ]
     },
     "execution_count": 86,
     "metadata": {},
     "output_type": "execute_result"
    }
   ],
   "source": [
    "type(TS)"
   ]
  },
  {
   "cell_type": "code",
   "execution_count": 87,
   "metadata": {},
   "outputs": [],
   "source": [
    "TS = pd.to_datetime(['2015-05-30','2015-05-30'])"
   ]
  },
  {
   "cell_type": "code",
   "execution_count": 88,
   "metadata": {},
   "outputs": [
    {
     "data": {
      "text/plain": [
       "pandas.core.indexes.datetimes.DatetimeIndex"
      ]
     },
     "execution_count": 88,
     "metadata": {},
     "output_type": "execute_result"
    }
   ],
   "source": [
    "type(TS)"
   ]
  },
  {
   "cell_type": "code",
   "execution_count": 89,
   "metadata": {},
   "outputs": [],
   "source": [
    "# datetime 변환의 핵심!!!!!"
   ]
  },
  {
   "cell_type": "code",
   "execution_count": 92,
   "metadata": {},
   "outputs": [],
   "source": [
    "TD = pd.to_timedelta('12 hour')"
   ]
  },
  {
   "cell_type": "code",
   "execution_count": 93,
   "metadata": {},
   "outputs": [
    {
     "data": {
      "text/plain": [
       "pandas._libs.tslibs.timedeltas.Timedelta"
      ]
     },
     "execution_count": 93,
     "metadata": {},
     "output_type": "execute_result"
    }
   ],
   "source": [
    "type(TD)"
   ]
  },
  {
   "cell_type": "code",
   "execution_count": 94,
   "metadata": {},
   "outputs": [],
   "source": [
    "TD = pd.to_timedelta(['12 hour','12 hour'] )"
   ]
  },
  {
   "cell_type": "code",
   "execution_count": 95,
   "metadata": {},
   "outputs": [
    {
     "data": {
      "text/plain": [
       "pandas.core.indexes.timedeltas.TimedeltaIndex"
      ]
     },
     "execution_count": 95,
     "metadata": {},
     "output_type": "execute_result"
    }
   ],
   "source": [
    "type(TD)"
   ]
  },
  {
   "cell_type": "code",
   "execution_count": null,
   "metadata": {},
   "outputs": [],
   "source": []
  }
 ],
 "metadata": {
  "kernelspec": {
   "display_name": "Python 3",
   "language": "python",
   "name": "python3"
  },
  "language_info": {
   "codemirror_mode": {
    "name": "ipython",
    "version": 3
   },
   "file_extension": ".py",
   "mimetype": "text/x-python",
   "name": "python",
   "nbconvert_exporter": "python",
   "pygments_lexer": "ipython3",
   "version": "3.6.4"
  }
 },
 "nbformat": 4,
 "nbformat_minor": 2
}
