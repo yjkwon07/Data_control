{
 "cells": [
  {
   "cell_type": "markdown",
   "metadata": {},
   "source": [
    "# summary \n",
    "- data.groupby(['smoker','sex']).mean() # 분석 범위에서 엄청 달라진다.\n",
    "- pd.pivot_table(data, values = 'tip' , index= 'smoker') # data frame의 인자 \n",
    "- pd.pivot_table(data, values = 'tip' , index= ['smoker','sex']) \n",
    "\n",
    "\n",
    "- graph = pd.pivot_table(data, values='tip', index= ['sex'])\n",
    "- graph.plot()\n",
    "- graph.plot(kind='barh')\n",
    "- graph.plot.bar()\n",
    "\n",
    "\n",
    "- import matplotlib.pyplot as plt\n",
    "- plt.style.available\n",
    "\n",
    "\n",
    "- plt.style.use('ggplot')\n",
    "- %matplotlib notebook\n",
    "- graph.plot.bar() # matplotlib기반을 했기 때문에 \n",
    "\n",
    "\n",
    "- plt.style.use('seaborn')\n",
    "- graph.plot.bar()\n",
    "\n",
    "- %matplotlib inline #interactive 기능이 사라짐\n",
    "- graph.vgplot.bar() # vgplot vega \n",
    "\n",
    "\n",
    "- pvega는 다형성을 적용한 아주 훌륭한 얘\n",
    "- import pdvega\n",
    "- sns.barplot(graph) # 통계값 추가 # 검은색이 오차 범위 \n",
    "- graph # 1차원\n",
    "- sns.barplot(graph,orient=\"v\") # no interactivity\n",
    "- graph.T #transpose #1차원\n",
    "- graph = pd.pivot_table(data, values='tip', index= ['day'])\n",
    "- sns.barplot(graph,orient=\"v\") # no interactivity\n",
    "- sns.pairplot(iris , hue='species')\n",
    "\n",
    "\n",
    "- iris.corr()"
   ]
  },
  {
   "cell_type": "markdown",
   "metadata": {},
   "source": [
    "- seaborn\n",
    "- ggplot -> r \n",
    "- interactive -> js -> plotly(돈내야해) vogcat \n",
    "- svg -> 기똥차 \n",
    "- vga  -> 문법 또 배워야해 .... . "
   ]
  }
 ],
 "metadata": {
  "kernelspec": {
   "display_name": "Python 3",
   "language": "python",
   "name": "python3"
  },
  "language_info": {
   "codemirror_mode": {
    "name": "ipython",
    "version": 3
   },
   "file_extension": ".py",
   "mimetype": "text/x-python",
   "name": "python",
   "nbconvert_exporter": "python",
   "pygments_lexer": "ipython3",
   "version": "3.6.4"
  }
 },
 "nbformat": 4,
 "nbformat_minor": 2
}
