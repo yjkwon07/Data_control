{
 "cells": [
  {
   "cell_type": "code",
   "execution_count": 2,
   "metadata": {},
   "outputs": [],
   "source": [
    "import tensorflow as tf"
   ]
  },
  {
   "cell_type": "code",
   "execution_count": 3,
   "metadata": {},
   "outputs": [],
   "source": [
    "import numpy as np"
   ]
  },
  {
   "cell_type": "code",
   "execution_count": 4,
   "metadata": {},
   "outputs": [],
   "source": [
    "a = np.array([1,0,0,0])"
   ]
  },
  {
   "cell_type": "code",
   "execution_count": 5,
   "metadata": {},
   "outputs": [
    {
     "data": {
      "text/plain": [
       "array([1, 0, 0, 0])"
      ]
     },
     "execution_count": 5,
     "metadata": {},
     "output_type": "execute_result"
    }
   ],
   "source": [
    "a"
   ]
  },
  {
   "cell_type": "code",
   "execution_count": 8,
   "metadata": {},
   "outputs": [
    {
     "name": "stderr",
     "output_type": "stream",
     "text": [
      "C:\\ProgramData\\Anaconda3\\lib\\site-packages\\ipykernel_launcher.py:1: RuntimeWarning: divide by zero encountered in log\n",
      "  \"\"\"Entry point for launching an IPython kernel.\n"
     ]
    },
    {
     "data": {
      "text/plain": [
       "array([  0., -inf, -inf, -inf])"
      ]
     },
     "execution_count": 8,
     "metadata": {},
     "output_type": "execute_result"
    }
   ],
   "source": [
    "np.log(a)"
   ]
  },
  {
   "cell_type": "code",
   "execution_count": 11,
   "metadata": {},
   "outputs": [
    {
     "name": "stderr",
     "output_type": "stream",
     "text": [
      "C:\\ProgramData\\Anaconda3\\lib\\site-packages\\ipykernel_launcher.py:1: RuntimeWarning: divide by zero encountered in log\n",
      "  \"\"\"Entry point for launching an IPython kernel.\n"
     ]
    },
    {
     "data": {
      "text/plain": [
       "array([-inf,   0.,   0.,   0.])"
      ]
     },
     "execution_count": 11,
     "metadata": {},
     "output_type": "execute_result"
    }
   ],
   "source": [
    "np.log((1-a))"
   ]
  },
  {
   "cell_type": "code",
   "execution_count": 12,
   "metadata": {},
   "outputs": [
    {
     "data": {
      "text/plain": [
       "array([0.36787944, 1.        , 1.        , 1.        ])"
      ]
     },
     "execution_count": 12,
     "metadata": {},
     "output_type": "execute_result"
    }
   ],
   "source": [
    "1/(np.exp(a))"
   ]
  },
  {
   "cell_type": "code",
   "execution_count": 13,
   "metadata": {},
   "outputs": [],
   "source": [
    "a = np.array([1.0, 0.99, 0.54, 0.78])"
   ]
  },
  {
   "cell_type": "code",
   "execution_count": 14,
   "metadata": {},
   "outputs": [
    {
     "data": {
      "text/plain": [
       "array([0.36787944, 0.37157669, 0.58274825, 0.45840601])"
      ]
     },
     "execution_count": 14,
     "metadata": {},
     "output_type": "execute_result"
    }
   ],
   "source": [
    "1/(np.exp(a))"
   ]
  },
  {
   "cell_type": "code",
   "execution_count": 16,
   "metadata": {},
   "outputs": [],
   "source": [
    "test = np.array([1,0,0,0])"
   ]
  },
  {
   "cell_type": "code",
   "execution_count": 17,
   "metadata": {},
   "outputs": [
    {
     "data": {
      "text/plain": [
       "array([-1., -0., -0., -0.])"
      ]
     },
     "execution_count": 17,
     "metadata": {},
     "output_type": "execute_result"
    }
   ],
   "source": [
    "test*np.log(1/(np.exp(a)))"
   ]
  },
  {
   "cell_type": "code",
   "execution_count": 20,
   "metadata": {},
   "outputs": [
    {
     "data": {
      "text/plain": [
       "array([-0.        , -0.46454128, -0.87406553, -0.61323866])"
      ]
     },
     "execution_count": 20,
     "metadata": {},
     "output_type": "execute_result"
    }
   ],
   "source": [
    "(1-test)*np.log((1-(1/(np.exp(a)))))"
   ]
  },
  {
   "cell_type": "code",
   "execution_count": 21,
   "metadata": {},
   "outputs": [
    {
     "data": {
      "text/plain": [
       "array([0.63212056, 0.62842331, 0.41725175, 0.54159399])"
      ]
     },
     "execution_count": 21,
     "metadata": {},
     "output_type": "execute_result"
    }
   ],
   "source": [
    "(1-(1/(np.exp(a))))"
   ]
  },
  {
   "cell_type": "code",
   "execution_count": 22,
   "metadata": {},
   "outputs": [
    {
     "data": {
      "text/plain": [
       "array([1, 0, 0, 0])"
      ]
     },
     "execution_count": 22,
     "metadata": {},
     "output_type": "execute_result"
    }
   ],
   "source": [
    "test"
   ]
  },
  {
   "cell_type": "code",
   "execution_count": 23,
   "metadata": {},
   "outputs": [
    {
     "data": {
      "text/plain": [
       "array([0, 1, 1, 1])"
      ]
     },
     "execution_count": 23,
     "metadata": {},
     "output_type": "execute_result"
    }
   ],
   "source": [
    "1-test"
   ]
  },
  {
   "cell_type": "code",
   "execution_count": 24,
   "metadata": {},
   "outputs": [
    {
     "data": {
      "text/plain": [
       "array([0.63212056, 0.62842331, 0.41725175, 0.54159399])"
      ]
     },
     "execution_count": 24,
     "metadata": {},
     "output_type": "execute_result"
    }
   ],
   "source": [
    "1- (1 / np.exp(a))"
   ]
  },
  {
   "cell_type": "code",
   "execution_count": 25,
   "metadata": {},
   "outputs": [
    {
     "data": {
      "text/plain": [
       "array([2.71828183, 2.69123447, 1.71600686, 2.18147227])"
      ]
     },
     "execution_count": 25,
     "metadata": {},
     "output_type": "execute_result"
    }
   ],
   "source": [
    "np.exp(a)"
   ]
  },
  {
   "cell_type": "code",
   "execution_count": 38,
   "metadata": {},
   "outputs": [],
   "source": [
    "import matplotlib.pyplot as plt"
   ]
  },
  {
   "cell_type": "code",
   "execution_count": 33,
   "metadata": {},
   "outputs": [],
   "source": [
    "b = range(0, 100)"
   ]
  },
  {
   "cell_type": "code",
   "execution_count": 47,
   "metadata": {},
   "outputs": [
    {
     "data": {
      "text/plain": [
       "[<matplotlib.lines.Line2D at 0x1512c492da0>]"
      ]
     },
     "execution_count": 47,
     "metadata": {},
     "output_type": "execute_result"
    },
    {
     "data": {
      "image/png": "[encoded data removed]",
      "text/plain": [
       "<matplotlib.figure.Figure at 0x1512c256f28>"
      ]
     },
     "metadata": {},
     "output_type": "display_data"
    }
   ],
   "source": [
    "plt.semilogx([1.0,2.3,3,4])"
   ]
  },
  {
   "cell_type": "code",
   "execution_count": 45,
   "metadata": {},
   "outputs": [
    {
     "data": {
      "text/plain": [
       "array([0.        , 0.69314718, 1.09861229, 1.38629436])"
      ]
     },
     "execution_count": 45,
     "metadata": {},
     "output_type": "execute_result"
    }
   ],
   "source": [
    "np.log([1,2,3,4])"
   ]
  },
  {
   "cell_type": "code",
   "execution_count": 49,
   "metadata": {},
   "outputs": [
    {
     "data": {
      "text/plain": [
       "[<matplotlib.lines.Line2D at 0x1512cf04c18>]"
      ]
     },
     "execution_count": 49,
     "metadata": {},
     "output_type": "execute_result"
    },
    {
     "data": {
      "image/png": "[encoded data removed]",
      "text/plain": [
       "<matplotlib.figure.Figure at 0x1512c3ea940>"
      ]
     },
     "metadata": {},
     "output_type": "display_data"
    }
   ],
   "source": [
    "plt.plot(a)"
   ]
  },
  {
   "cell_type": "code",
   "execution_count": 50,
   "metadata": {},
   "outputs": [
    {
     "data": {
      "text/plain": [
       "array([1.  , 0.99, 0.54, 0.78])"
      ]
     },
     "execution_count": 50,
     "metadata": {},
     "output_type": "execute_result"
    }
   ],
   "source": [
    "a"
   ]
  },
  {
   "cell_type": "code",
   "execution_count": 51,
   "metadata": {},
   "outputs": [],
   "source": [
    "a = np.array([1,0,0,0])"
   ]
  },
  {
   "cell_type": "code",
   "execution_count": 55,
   "metadata": {},
   "outputs": [
    {
     "data": {
      "text/plain": [
       "array([-0.43429448,  0.        ,  0.        ,  0.        ])"
      ]
     },
     "execution_count": 55,
     "metadata": {},
     "output_type": "execute_result"
    }
   ],
   "source": [
    "np.log10(1 / np.exp(a))"
   ]
  },
  {
   "cell_type": "code",
   "execution_count": 56,
   "metadata": {},
   "outputs": [],
   "source": [
    "test= a"
   ]
  },
  {
   "cell_type": "code",
   "execution_count": 58,
   "metadata": {
    "scrolled": true
   },
   "outputs": [
    {
     "data": {
      "text/plain": [
       "array([0.43429448, 0.        , 0.        , 0.        ])"
      ]
     },
     "execution_count": 58,
     "metadata": {},
     "output_type": "execute_result"
    }
   ],
   "source": [
    "-test*np.log10(1 / np.exp(a))"
   ]
  },
  {
   "cell_type": "code",
   "execution_count": 61,
   "metadata": {},
   "outputs": [
    {
     "data": {
      "text/plain": [
       "4"
      ]
     },
     "execution_count": 61,
     "metadata": {},
     "output_type": "execute_result"
    }
   ],
   "source": [
    "len(a)"
   ]
  },
  {
   "cell_type": "code",
   "execution_count": 62,
   "metadata": {},
   "outputs": [],
   "source": [
    "\n",
    "def main(a):\n",
    "    x = np.linspace(-1, len(a))\n",
    "    y = 1 / np.exp(a)\n",
    "\n",
    "    plt.figure()\n",
    "    plt.plot(x, y)\n",
    "    plt.xlabel('$x$')\n",
    "    plt.ylabel('$\\exp(x)$')\n",
    "\n",
    "    plt.figure()\n",
    "    plt.plot(x, -np.exp(-x))\n",
    "    plt.xlabel('$x$')\n",
    "    plt.ylabel('$-\\exp(-x)$')\n",
    "\n",
    "    plt.show()"
   ]
  },
  {
   "cell_type": "code",
   "execution_count": 70,
   "metadata": {},
   "outputs": [],
   "source": [
    "y = 1 / np.exp(-a)"
   ]
  },
  {
   "cell_type": "code",
   "execution_count": 71,
   "metadata": {},
   "outputs": [
    {
     "data": {
      "text/plain": [
       "array([2.71828183, 1.        , 1.        , 1.        ])"
      ]
     },
     "execution_count": 71,
     "metadata": {},
     "output_type": "execute_result"
    }
   ],
   "source": [
    "y"
   ]
  },
  {
   "cell_type": "code",
   "execution_count": 72,
   "metadata": {},
   "outputs": [
    {
     "data": {
      "text/plain": [
       "array([1, 0, 0, 0])"
      ]
     },
     "execution_count": 72,
     "metadata": {},
     "output_type": "execute_result"
    }
   ],
   "source": [
    "a"
   ]
  },
  {
   "cell_type": "code",
   "execution_count": null,
   "metadata": {},
   "outputs": [],
   "source": [
    "y = wx + b \n",
    "y = final predict \n",
    "so search, the x scalar\n",
    "when i if predict the a is final predict "
   ]
  },
  {
   "cell_type": "markdown",
   "metadata": {},
   "source": [
    "nonlinear func \n",
    "initialzie를 잘 해야하는데 sigmoid로 예를 들면 0, 1로 계속 갔을 때\n",
    "2 * sigmoid -1  = tanh(x)\n",
    "(거의 같지만, 서로 가족관계 )  -> gradient가 역시나 kill gradients when saturated \n",
    "but, zero centered( nice) <- well...  not uesed <- usually\n",
    "\n",
    "relu -> nonlinear function\n",
    "max( 0, x )\n",
    "0 보다 작으면 무조건 0 0 이상은 그 이상의값\n",
    "dif.. y=x (x > 0 ) gradient always 0 gradient를 줄이지 않는다 . \n",
    "no, kill  ( if max 1 , (1)^10 -> 1 ) -> safe \n",
    "but not zero centered output\n",
    "an annoyance \n",
    "\n",
    "\n",
    "sigmoid -> max -> 0.25 -> (o.25) ^10  ~= 0 (warning zero ) \n",
    "dad relue \n",
    "<- w 를 initialize!!  relue가 처음부터 끝까지 active가 되지 않는다면, 무조건 0 죽어버림 \n",
    "제일 중요한것이 init \n",
    "relue를 많이 wild를 하여 aproching을 하여 그래프가 나온다. \n",
    " \n",
    "sigmoid -> firering -> gating을 하기위함 ( 0, 1 ) 1 을 받아들이고 , 0의 모든것을 firerin을 ( just kill) (but deep이 안됨)\n",
    "\n",
    "tanh(x) - > RNN을 사용할 때 relue를 안쓰는 이유는 relue를 사용하였을 때,  음의 정수를 모두 kill을 하기 때문에 어떠한 음의 정수가 필요할 상황이 생기는 경우 즉 단어 임베딩을 할 때(RNN)을 사용할 때 어떠한 음의 정보가 필요 할 상황이 생길 수 있따 .그 때는 tanh(x)를 사용한다. \n",
    "\n",
    "relue -> 더 딥한 구조를 사용할 때, relue를 많이 사용한다. wild한 relue(complex부분을 표현하기 위해)를 사용하여 딥하게 used \n",
    "\n",
    "복잡한 데이터 구조를 나왔을 때, 간단한 모델링 부분 split를하여 relu를 사용한다.\n",
    "\n",
    "SGD -> 50000개 데이터를 랜덤으로 뽑아 (64개) <- mini- batch (batch size) why dont used shuple?? \n",
    "\n",
    "lepoch ( data 케어)\n",
    "weight updat procy\n",
    "data 뽑고 -> 계산 -> update \n",
    "-> iteration \n",
    "SGD -> 너무 많은 iteration이 필요함 ... very slow \n",
    "\n",
    "모멘텀 (어차피 오른쪽이 니깐 훅 더 밀어주는것 ) 하지만, 지그재그는 여전함\n",
    "sol.  local minimam ..... \n",
    "so -> go to the global space \n",
    "초기 값은 0 \n",
    "\n",
    "full batch -> all of data \n",
    "1 batch -> batch split  -> 모든 베치의 local minimum이 달라서 global space를 찾을 수 있다. \n",
    "2 batch \n",
    "3 batch \n",
    "\n",
    "\n",
    "adgrad update \n",
    "cache \n",
    "나누는것이 증가 gradient가 적을 텐디 -> 쉽게 gradient가 0 ... 나누는값이 증가 되기 때문에 \n",
    "결국 dx가 어느 순간 0이 될 수 있는 불상사\n",
    "\n",
    "RMSPro update\n",
    "평균값으로 나누자 \n",
    "훨씬더 좁은 값으로 \n",
    "캐시의 % 로 사용\n",
    "\n",
    "Adam update\n",
    "모멘텀과 노드마다 learningrate를 다르게 주자 \n",
    "m -> 모멘텀 0.9(기존의 값의 0.9)*m + (1-beta1) * dx\n",
    "v -> cache\n",
    "v= beta2 * v + (1- beta2)*(dx **2)\n",
    "x -= learing_Rate * m / (np.sqrt()  * ) \n",
    "(최고는 아니다....)\n",
    "practical보다는 잘 됨 \n",
    "(일단 아담 쓰고 -> sgd -> ..... )\n",
    "\n",
    "\n",
    "learning rate (usualy - > 0.01)\n",
    "leaning rate decacy \n",
    "Batch normalization -> zero content \n",
    "\n",
    "cNN -> bias teram 이 없어진다. <- bias가 중요한 이유는 (actvite 풍부하게 움직이기 위해서)\n",
    "\n",
    "normalization -> \n",
    "특정한 값이 큰 값을 가졌을 때 낮춰주기 때문에 normalizttion 효과가 잇다. \n",
    "\n",
    "앙상블 -> 다수결 원칙 \n",
    "overgfiting 문제 \n",
    "\n",
    "drop out 어떠한 피쳐 특징을 오버피팅 하지 않게 떨어뜨린다. \n",
    "앙상블처럼, \n",
    "1 , 1 \n",
    "(1+1) * p = > 1 \n",
    "\n",
    "avg pooling 보다는 보통 maxpooling을 사용 \n",
    "\n",
    "cnn을 증가하는 이유 ? \n"
   ]
  }
 ],
 "metadata": {
  "kernelspec": {
   "display_name": "Python 3",
   "language": "python",
   "name": "python3"
  },
  "language_info": {
   "codemirror_mode": {
    "name": "ipython",
    "version": 3
   },
   "file_extension": ".py",
   "mimetype": "text/x-python",
   "name": "python",
   "nbconvert_exporter": "python",
   "pygments_lexer": "ipython3",
   "version": "3.6.4"
  }
 },
 "nbformat": 4,
 "nbformat_minor": 2
}
