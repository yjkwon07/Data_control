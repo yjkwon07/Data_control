{
 "cells": [
  {
   "cell_type": "code",
   "execution_count": 1,
   "metadata": {},
   "outputs": [],
   "source": [
    "import json"
   ]
  },
  {
   "cell_type": "code",
   "execution_count": 2,
   "metadata": {},
   "outputs": [],
   "source": [
    "import urllib.request"
   ]
  },
  {
   "cell_type": "code",
   "execution_count": 3,
   "metadata": {},
   "outputs": [],
   "source": [
    "from urllib import parse # 인테넷상에서 데이터 주고 받기 위해서 "
   ]
  },
  {
   "cell_type": "code",
   "execution_count": 4,
   "metadata": {},
   "outputs": [],
   "source": [
    "url = \"http://openapi.airkorea.or.kr/openapi/services/rest/ArpltnInforInqireSvc/getCtprvnMesureSidoLIst?\""
   ]
  },
  {
   "cell_type": "code",
   "execution_count": 5,
   "metadata": {},
   "outputs": [],
   "source": [
    "params ={\n",
    "    \"serviceKey\":\"C9N9ExnIbd5esuobQ8zjDOi5p3iWoDQOhCRSlvgi4%2BgQEeLhRR4K3hDf%2BG3W%2BrZULxTVB3qUCrTxcAE43A6VNA%3D%3D\",\n",
    "    \"numOfRows\" : 10,\n",
    "    \"pageNo\":1,\n",
    "    \"sidoName\":None,\n",
    "    \"ver\":\"1.3\",\n",
    "    \"searchCondition\":\"DAILY\",\n",
    "    \"_returnType\":\"json\",\n",
    "    }"
   ]
  },
  {
   "cell_type": "code",
   "execution_count": 6,
   "metadata": {},
   "outputs": [],
   "source": [
    "params[\"sidoName\"] = \"서울\""
   ]
  },
  {
   "cell_type": "code",
   "execution_count": 7,
   "metadata": {},
   "outputs": [
    {
     "data": {
      "text/plain": [
       "'C9N9ExnIbd5esuobQ8zjDOi5p3iWoDQOhCRSlvgi4+gQEeLhRR4K3hDf+G3W+rZULxTVB3qUCrTxcAE43A6VNA=='"
      ]
     },
     "execution_count": 7,
     "metadata": {},
     "output_type": "execute_result"
    }
   ],
   "source": [
    "params[\"serviceKey\"] = urllib.parse.unquote( params[\"serviceKey\"] )\n",
    "params[\"serviceKey\"]"
   ]
  },
  {
   "cell_type": "code",
   "execution_count": 8,
   "metadata": {},
   "outputs": [
    {
     "data": {
      "text/plain": [
       "'serviceKey=C9N9ExnIbd5esuobQ8zjDOi5p3iWoDQOhCRSlvgi4%2BgQEeLhRR4K3hDf%2BG3W%2BrZULxTVB3qUCrTxcAE43A6VNA%3D%3D&numOfRows=10&pageNo=1&sidoName=%EC%84%9C%EC%9A%B8&ver=1.3&searchCondition=DAILY&_returnType=json'"
      ]
     },
     "execution_count": 8,
     "metadata": {},
     "output_type": "execute_result"
    }
   ],
   "source": [
    "paramUrl = parse.urlencode(params)\n",
    "paramUrl"
   ]
  },
  {
   "cell_type": "code",
   "execution_count": 9,
   "metadata": {},
   "outputs": [
    {
     "data": {
      "text/plain": [
       "str"
      ]
     },
     "execution_count": 9,
     "metadata": {},
     "output_type": "execute_result"
    }
   ],
   "source": [
    "type(paramUrl)"
   ]
  },
  {
   "cell_type": "code",
   "execution_count": 10,
   "metadata": {},
   "outputs": [],
   "source": [
    "paramBytes = paramUrl.encode(\"utf-8\")"
   ]
  },
  {
   "cell_type": "code",
   "execution_count": 11,
   "metadata": {},
   "outputs": [
    {
     "data": {
      "text/plain": [
       "bytes"
      ]
     },
     "execution_count": 11,
     "metadata": {},
     "output_type": "execute_result"
    }
   ],
   "source": [
    "type(paramBytes)"
   ]
  },
  {
   "cell_type": "code",
   "execution_count": 55,
   "metadata": {},
   "outputs": [],
   "source": [
    "req = urllib.request.Request(url, data=paramBytes)"
   ]
  },
  {
   "cell_type": "code",
   "execution_count": 56,
   "metadata": {},
   "outputs": [],
   "source": [
    "res = urllib.request.urlopen(req)"
   ]
  },
  {
   "cell_type": "code",
   "execution_count": 57,
   "metadata": {},
   "outputs": [],
   "source": [
    "result = res.read()"
   ]
  },
  {
   "cell_type": "code",
   "execution_count": 58,
   "metadata": {},
   "outputs": [
    {
     "data": {
      "text/plain": [
       "bytes"
      ]
     },
     "execution_count": 58,
     "metadata": {},
     "output_type": "execute_result"
    }
   ],
   "source": [
    "type(result)"
   ]
  },
  {
   "cell_type": "code",
   "execution_count": 59,
   "metadata": {},
   "outputs": [],
   "source": [
    "resultStr = result.decode(\"utf-8\")"
   ]
  },
  {
   "cell_type": "code",
   "execution_count": 60,
   "metadata": {},
   "outputs": [
    {
     "data": {
      "text/plain": [
       "str"
      ]
     },
     "execution_count": 60,
     "metadata": {},
     "output_type": "execute_result"
    }
   ],
   "source": [
    "type(resultStr)"
   ]
  },
  {
   "cell_type": "code",
   "execution_count": 61,
   "metadata": {},
   "outputs": [
    {
     "data": {
      "text/plain": [
       "'{\"list\":[{\"_returnType\":\"json\",\"cityName\":\"강남구\",\"cityNameEng\":\"Gangnam-gu\",\"coValue\":\"0.3\",\"dataGubun\":\"\",\"dataTime\":\"2018-07-13 15:00\",\"districtCode\":\"02\",\"districtNumSeq\":\"001\",\"itemCode\":\"\",\"khaiValue\":\"\",\"no2Value\":\"0.016\",\"numOfRows\":\"10\",\"o3Value\":\"0.022\",\"pageNo\":\"1\",\"pm10Value\":\"15\",\"pm25Value\":\"8\",\"resultCode\":\"\",\"resultMsg\":\"\",\"searchCondition\":\"\",\"serviceKey\":\"\",\"sidoName\":\"서울\",\"so2Value\":\"0.005\",\"totalCount\":\"\"},{\"_returnType\":\"json\",\"cityName\":\"강동구\",\"cityNameEng\":\"Gangdong-gu\",\"coValue\":\"0.3\",\"dataGubun\":\"\",\"dataTime\":\"2018-07-13 15:00\",\"districtCode\":\"02\",\"districtNumSeq\":\"002\",\"itemCode\":\"\",\"khaiValue\":\"\",\"no2Value\":\"0.014\",\"numOfRows\":\"10\",\"o3Value\":\"0.021\",\"pageNo\":\"1\",\"pm10Value\":\"17\",\"pm25Value\":\"12\",\"resultCode\":\"\",\"resultMsg\":\"\",\"searchCondition\":\"\",\"serviceKey\":\"\",\"sidoName\":\"서울\",\"so2Value\":\"0.004\",\"totalCount\":\"\"},{\"_returnType\":\"json\",\"cityName\":\"강북구\",\"cityNameEng\":\"Gangbuk-gu\",\"coValue\":\"0.2\",\"dataGubun\":\"\",\"dataTime\":\"2018-07-13 15:00\",\"districtCode\":\"02\",\"districtNumSeq\":\"003\",\"itemCode\":\"\",\"khaiValue\":\"\",\"no2Value\":\"0.010\",\"numOfRows\":\"10\",\"o3Value\":\"0.028\",\"pageNo\":\"1\",\"pm10Value\":\"19\",\"pm25Value\":\"13\",\"resultCode\":\"\",\"resultMsg\":\"\",\"searchCondition\":\"\",\"serviceKey\":\"\",\"sidoName\":\"서울\",\"so2Value\":\"0.003\",\"totalCount\":\"\"},{\"_returnType\":\"json\",\"cityName\":\"강서구\",\"cityNameEng\":\"Gangseo-gu\",\"coValue\":\"0.2\",\"dataGubun\":\"\",\"dataTime\":\"2018-07-13 15:00\",\"districtCode\":\"02\",\"districtNumSeq\":\"004\",\"itemCode\":\"\",\"khaiValue\":\"\",\"no2Value\":\"0.014\",\"numOfRows\":\"10\",\"o3Value\":\"0.025\",\"pageNo\":\"1\",\"pm10Value\":\"19\",\"pm25Value\":\"7\",\"resultCode\":\"\",\"resultMsg\":\"\",\"searchCondition\":\"\",\"serviceKey\":\"\",\"sidoName\":\"서울\",\"so2Value\":\"0.002\",\"totalCount\":\"\"},{\"_returnType\":\"json\",\"cityName\":\"관악구\",\"cityNameEng\":\"Gwanak-gu\",\"coValue\":\"0.2\",\"dataGubun\":\"\",\"dataTime\":\"2018-07-13 15:00\",\"districtCode\":\"02\",\"districtNumSeq\":\"005\",\"itemCode\":\"\",\"khaiValue\":\"\",\"no2Value\":\"0.011\",\"numOfRows\":\"10\",\"o3Value\":\"0.037\",\"pageNo\":\"1\",\"pm10Value\":\"20\",\"pm25Value\":\"9\",\"resultCode\":\"\",\"resultMsg\":\"\",\"searchCondition\":\"\",\"serviceKey\":\"\",\"sidoName\":\"서울\",\"so2Value\":\"0.003\",\"totalCount\":\"\"},{\"_returnType\":\"json\",\"cityName\":\"광진구\",\"cityNameEng\":\"Gwangjin-gu\",\"coValue\":\"0.5\",\"dataGubun\":\"\",\"dataTime\":\"2018-07-13 15:00\",\"districtCode\":\"02\",\"districtNumSeq\":\"006\",\"itemCode\":\"\",\"khaiValue\":\"\",\"no2Value\":\"0.010\",\"numOfRows\":\"10\",\"o3Value\":\"0.026\",\"pageNo\":\"1\",\"pm10Value\":\"16\",\"pm25Value\":\"5\",\"resultCode\":\"\",\"resultMsg\":\"\",\"searchCondition\":\"\",\"serviceKey\":\"\",\"sidoName\":\"서울\",\"so2Value\":\"0.006\",\"totalCount\":\"\"},{\"_returnType\":\"json\",\"cityName\":\"구로구\",\"cityNameEng\":\"Guro-gu\",\"coValue\":\"\",\"dataGubun\":\"\",\"dataTime\":\"2018-07-13 15:00\",\"districtCode\":\"02\",\"districtNumSeq\":\"007\",\"itemCode\":\"\",\"khaiValue\":\"\",\"no2Value\":\"\",\"numOfRows\":\"10\",\"o3Value\":\"\",\"pageNo\":\"1\",\"pm10Value\":\"15\",\"pm25Value\":\"8\",\"resultCode\":\"\",\"resultMsg\":\"\",\"searchCondition\":\"\",\"serviceKey\":\"\",\"sidoName\":\"서울\",\"so2Value\":\"\",\"totalCount\":\"\"},{\"_returnType\":\"json\",\"cityName\":\"금천구\",\"cityNameEng\":\"Geumcheon-gu\",\"coValue\":\"0.2\",\"dataGubun\":\"\",\"dataTime\":\"2018-07-13 15:00\",\"districtCode\":\"02\",\"districtNumSeq\":\"008\",\"itemCode\":\"\",\"khaiValue\":\"\",\"no2Value\":\"0.014\",\"numOfRows\":\"10\",\"o3Value\":\"0.036\",\"pageNo\":\"1\",\"pm10Value\":\"20\",\"pm25Value\":\"15\",\"resultCode\":\"\",\"resultMsg\":\"\",\"searchCondition\":\"\",\"serviceKey\":\"\",\"sidoName\":\"서울\",\"so2Value\":\"0.004\",\"totalCount\":\"\"},{\"_returnType\":\"json\",\"cityName\":\"노원구\",\"cityNameEng\":\"Nowon-gu\",\"coValue\":\"0.3\",\"dataGubun\":\"\",\"dataTime\":\"2018-07-13 15:00\",\"districtCode\":\"02\",\"districtNumSeq\":\"009\",\"itemCode\":\"\",\"khaiValue\":\"\",\"no2Value\":\"0.011\",\"numOfRows\":\"10\",\"o3Value\":\"0.026\",\"pageNo\":\"1\",\"pm10Value\":\"22\",\"pm25Value\":\"16\",\"resultCode\":\"\",\"resultMsg\":\"\",\"searchCondition\":\"\",\"serviceKey\":\"\",\"sidoName\":\"서울\",\"so2Value\":\"0.005\",\"totalCount\":\"\"},{\"_returnType\":\"json\",\"cityName\":\"도봉구\",\"cityNameEng\":\"Dobong-gu\",\"coValue\":\"0.6\",\"dataGubun\":\"\",\"dataTime\":\"2018-07-13 15:00\",\"districtCode\":\"02\",\"districtNumSeq\":\"010\",\"itemCode\":\"\",\"khaiValue\":\"\",\"no2Value\":\"0.011\",\"numOfRows\":\"10\",\"o3Value\":\"0.027\",\"pageNo\":\"1\",\"pm10Value\":\"21\",\"pm25Value\":\"12\",\"resultCode\":\"\",\"resultMsg\":\"\",\"searchCondition\":\"\",\"serviceKey\":\"\",\"sidoName\":\"서울\",\"so2Value\":\"0.004\",\"totalCount\":\"\"}],\"parm\":{\"_returnType\":\"json\",\"cityName\":\"\",\"cityNameEng\":\"\",\"coValue\":\"\",\"dataGubun\":\"\",\"dataTime\":\"\",\"districtCode\":\"\",\"districtNumSeq\":\"\",\"itemCode\":\"\",\"khaiValue\":\"\",\"no2Value\":\"\",\"numOfRows\":\"10\",\"o3Value\":\"\",\"pageNo\":\"1\",\"pm10Value\":\"\",\"pm25Value\":\"\",\"resultCode\":\"\",\"resultMsg\":\"\",\"searchCondition\":\"DAILY\",\"serviceKey\":\"C9N9ExnIbd5esuobQ8zjDOi5p3iWoDQOhCRSlvgi4+gQEeLhRR4K3hDf+G3W+rZULxTVB3qUCrTxcAE43A6VNA==\",\"sidoName\":\"서울\",\"so2Value\":\"\",\"totalCount\":\"\"},\"CtprvnMesureLIstVo2\":{\"_returnType\":\"json\",\"cityName\":\"\",\"cityNameEng\":\"\",\"coValue\":\"\",\"dataGubun\":\"\",\"dataTime\":\"\",\"districtCode\":\"\",\"districtNumSeq\":\"\",\"itemCode\":\"\",\"khaiValue\":\"\",\"no2Value\":\"\",\"numOfRows\":\"10\",\"o3Value\":\"\",\"pageNo\":\"1\",\"pm10Value\":\"\",\"pm25Value\":\"\",\"resultCode\":\"\",\"resultMsg\":\"\",\"searchCondition\":\"DAILY\",\"serviceKey\":\"C9N9ExnIbd5esuobQ8zjDOi5p3iWoDQOhCRSlvgi4+gQEeLhRR4K3hDf+G3W+rZULxTVB3qUCrTxcAE43A6VNA==\",\"sidoName\":\"서울\",\"so2Value\":\"\",\"totalCount\":\"\"},\"totalCount\":600}'"
      ]
     },
     "execution_count": 61,
     "metadata": {},
     "output_type": "execute_result"
    }
   ],
   "source": [
    "resultStr"
   ]
  },
  {
   "cell_type": "code",
   "execution_count": 62,
   "metadata": {},
   "outputs": [],
   "source": [
    "resultObj = json.loads(resultStr)"
   ]
  },
  {
   "cell_type": "code",
   "execution_count": 63,
   "metadata": {},
   "outputs": [
    {
     "data": {
      "text/plain": [
       "dict"
      ]
     },
     "execution_count": 63,
     "metadata": {},
     "output_type": "execute_result"
    }
   ],
   "source": [
    "type(resultObj)"
   ]
  },
  {
   "cell_type": "code",
   "execution_count": 66,
   "metadata": {},
   "outputs": [
    {
     "name": "stdout",
     "output_type": "stream",
     "text": [
      "{'_returnType': 'json', 'cityName': '강남구', 'cityNameEng': 'Gangnam-gu', 'coValue': '0.3', 'dataGubun': '', 'dataTime': '2018-07-13 15:00', 'districtCode': '02', 'districtNumSeq': '001', 'itemCode': '', 'khaiValue': '', 'no2Value': '0.016', 'numOfRows': '10', 'o3Value': '0.022', 'pageNo': '1', 'pm10Value': '15', 'pm25Value': '8', 'resultCode': '', 'resultMsg': '', 'searchCondition': '', 'serviceKey': '', 'sidoName': '서울', 'so2Value': '0.005', 'totalCount': ''}\n",
      "{'_returnType': 'json', 'cityName': '강동구', 'cityNameEng': 'Gangdong-gu', 'coValue': '0.3', 'dataGubun': '', 'dataTime': '2018-07-13 15:00', 'districtCode': '02', 'districtNumSeq': '002', 'itemCode': '', 'khaiValue': '', 'no2Value': '0.014', 'numOfRows': '10', 'o3Value': '0.021', 'pageNo': '1', 'pm10Value': '17', 'pm25Value': '12', 'resultCode': '', 'resultMsg': '', 'searchCondition': '', 'serviceKey': '', 'sidoName': '서울', 'so2Value': '0.004', 'totalCount': ''}\n",
      "{'_returnType': 'json', 'cityName': '강북구', 'cityNameEng': 'Gangbuk-gu', 'coValue': '0.2', 'dataGubun': '', 'dataTime': '2018-07-13 15:00', 'districtCode': '02', 'districtNumSeq': '003', 'itemCode': '', 'khaiValue': '', 'no2Value': '0.010', 'numOfRows': '10', 'o3Value': '0.028', 'pageNo': '1', 'pm10Value': '19', 'pm25Value': '13', 'resultCode': '', 'resultMsg': '', 'searchCondition': '', 'serviceKey': '', 'sidoName': '서울', 'so2Value': '0.003', 'totalCount': ''}\n",
      "{'_returnType': 'json', 'cityName': '강서구', 'cityNameEng': 'Gangseo-gu', 'coValue': '0.2', 'dataGubun': '', 'dataTime': '2018-07-13 15:00', 'districtCode': '02', 'districtNumSeq': '004', 'itemCode': '', 'khaiValue': '', 'no2Value': '0.014', 'numOfRows': '10', 'o3Value': '0.025', 'pageNo': '1', 'pm10Value': '19', 'pm25Value': '7', 'resultCode': '', 'resultMsg': '', 'searchCondition': '', 'serviceKey': '', 'sidoName': '서울', 'so2Value': '0.002', 'totalCount': ''}\n",
      "{'_returnType': 'json', 'cityName': '관악구', 'cityNameEng': 'Gwanak-gu', 'coValue': '0.2', 'dataGubun': '', 'dataTime': '2018-07-13 15:00', 'districtCode': '02', 'districtNumSeq': '005', 'itemCode': '', 'khaiValue': '', 'no2Value': '0.011', 'numOfRows': '10', 'o3Value': '0.037', 'pageNo': '1', 'pm10Value': '20', 'pm25Value': '9', 'resultCode': '', 'resultMsg': '', 'searchCondition': '', 'serviceKey': '', 'sidoName': '서울', 'so2Value': '0.003', 'totalCount': ''}\n",
      "{'_returnType': 'json', 'cityName': '광진구', 'cityNameEng': 'Gwangjin-gu', 'coValue': '0.5', 'dataGubun': '', 'dataTime': '2018-07-13 15:00', 'districtCode': '02', 'districtNumSeq': '006', 'itemCode': '', 'khaiValue': '', 'no2Value': '0.010', 'numOfRows': '10', 'o3Value': '0.026', 'pageNo': '1', 'pm10Value': '16', 'pm25Value': '5', 'resultCode': '', 'resultMsg': '', 'searchCondition': '', 'serviceKey': '', 'sidoName': '서울', 'so2Value': '0.006', 'totalCount': ''}\n",
      "{'_returnType': 'json', 'cityName': '구로구', 'cityNameEng': 'Guro-gu', 'coValue': '', 'dataGubun': '', 'dataTime': '2018-07-13 15:00', 'districtCode': '02', 'districtNumSeq': '007', 'itemCode': '', 'khaiValue': '', 'no2Value': '', 'numOfRows': '10', 'o3Value': '', 'pageNo': '1', 'pm10Value': '15', 'pm25Value': '8', 'resultCode': '', 'resultMsg': '', 'searchCondition': '', 'serviceKey': '', 'sidoName': '서울', 'so2Value': '', 'totalCount': ''}\n",
      "{'_returnType': 'json', 'cityName': '금천구', 'cityNameEng': 'Geumcheon-gu', 'coValue': '0.2', 'dataGubun': '', 'dataTime': '2018-07-13 15:00', 'districtCode': '02', 'districtNumSeq': '008', 'itemCode': '', 'khaiValue': '', 'no2Value': '0.014', 'numOfRows': '10', 'o3Value': '0.036', 'pageNo': '1', 'pm10Value': '20', 'pm25Value': '15', 'resultCode': '', 'resultMsg': '', 'searchCondition': '', 'serviceKey': '', 'sidoName': '서울', 'so2Value': '0.004', 'totalCount': ''}\n",
      "{'_returnType': 'json', 'cityName': '노원구', 'cityNameEng': 'Nowon-gu', 'coValue': '0.3', 'dataGubun': '', 'dataTime': '2018-07-13 15:00', 'districtCode': '02', 'districtNumSeq': '009', 'itemCode': '', 'khaiValue': '', 'no2Value': '0.011', 'numOfRows': '10', 'o3Value': '0.026', 'pageNo': '1', 'pm10Value': '22', 'pm25Value': '16', 'resultCode': '', 'resultMsg': '', 'searchCondition': '', 'serviceKey': '', 'sidoName': '서울', 'so2Value': '0.005', 'totalCount': ''}\n",
      "{'_returnType': 'json', 'cityName': '도봉구', 'cityNameEng': 'Dobong-gu', 'coValue': '0.6', 'dataGubun': '', 'dataTime': '2018-07-13 15:00', 'districtCode': '02', 'districtNumSeq': '010', 'itemCode': '', 'khaiValue': '', 'no2Value': '0.011', 'numOfRows': '10', 'o3Value': '0.027', 'pageNo': '1', 'pm10Value': '21', 'pm25Value': '12', 'resultCode': '', 'resultMsg': '', 'searchCondition': '', 'serviceKey': '', 'sidoName': '서울', 'so2Value': '0.004', 'totalCount': ''}\n",
      "_returnType\n",
      "cityName\n",
      "cityNameEng\n",
      "coValue\n",
      "dataGubun\n",
      "dataTime\n",
      "districtCode\n",
      "districtNumSeq\n",
      "itemCode\n",
      "khaiValue\n",
      "no2Value\n",
      "numOfRows\n",
      "o3Value\n",
      "pageNo\n",
      "pm10Value\n",
      "pm25Value\n",
      "resultCode\n",
      "resultMsg\n",
      "searchCondition\n",
      "serviceKey\n",
      "sidoName\n",
      "so2Value\n",
      "totalCount\n",
      "_returnType\n",
      "cityName\n",
      "cityNameEng\n",
      "coValue\n",
      "dataGubun\n",
      "dataTime\n",
      "districtCode\n",
      "districtNumSeq\n",
      "itemCode\n",
      "khaiValue\n",
      "no2Value\n",
      "numOfRows\n",
      "o3Value\n",
      "pageNo\n",
      "pm10Value\n",
      "pm25Value\n",
      "resultCode\n",
      "resultMsg\n",
      "searchCondition\n",
      "serviceKey\n",
      "sidoName\n",
      "so2Value\n",
      "totalCount\n"
     ]
    },
    {
     "ename": "TypeError",
     "evalue": "'int' object is not iterable",
     "output_type": "error",
     "traceback": [
      "\u001b[1;31m---------------------------------------------------------------------------\u001b[0m",
      "\u001b[1;31mTypeError\u001b[0m                                 Traceback (most recent call last)",
      "\u001b[1;32m<ipython-input-66-3f8a5a2ebfc8>\u001b[0m in \u001b[0;36m<module>\u001b[1;34m()\u001b[0m\n\u001b[1;32m----> 1\u001b[1;33m \u001b[1;33m[\u001b[0m\u001b[0mprint\u001b[0m\u001b[1;33m(\u001b[0m\u001b[0mj\u001b[0m\u001b[1;33m)\u001b[0m \u001b[1;32mfor\u001b[0m \u001b[0mi\u001b[0m \u001b[1;32min\u001b[0m \u001b[0mresultObj\u001b[0m \u001b[1;32mfor\u001b[0m \u001b[0mj\u001b[0m \u001b[1;32min\u001b[0m \u001b[0mresultObj\u001b[0m\u001b[1;33m[\u001b[0m\u001b[0mi\u001b[0m\u001b[1;33m]\u001b[0m\u001b[1;33m]\u001b[0m\u001b[1;33m\u001b[0m\u001b[0m\n\u001b[0m\u001b[0;32m      2\u001b[0m \u001b[1;33m\u001b[0m\u001b[0m\n",
      "\u001b[1;32m<ipython-input-66-3f8a5a2ebfc8>\u001b[0m in \u001b[0;36m<listcomp>\u001b[1;34m(.0)\u001b[0m\n\u001b[1;32m----> 1\u001b[1;33m \u001b[1;33m[\u001b[0m\u001b[0mprint\u001b[0m\u001b[1;33m(\u001b[0m\u001b[0mj\u001b[0m\u001b[1;33m)\u001b[0m \u001b[1;32mfor\u001b[0m \u001b[0mi\u001b[0m \u001b[1;32min\u001b[0m \u001b[0mresultObj\u001b[0m \u001b[1;32mfor\u001b[0m \u001b[0mj\u001b[0m \u001b[1;32min\u001b[0m \u001b[0mresultObj\u001b[0m\u001b[1;33m[\u001b[0m\u001b[0mi\u001b[0m\u001b[1;33m]\u001b[0m\u001b[1;33m]\u001b[0m\u001b[1;33m\u001b[0m\u001b[0m\n\u001b[0m\u001b[0;32m      2\u001b[0m \u001b[1;33m\u001b[0m\u001b[0m\n",
      "\u001b[1;31mTypeError\u001b[0m: 'int' object is not iterable"
     ]
    }
   ],
   "source": [
    "[print(j) for i in resultObj for j in resultObj[i]]    "
   ]
  },
  {
   "cell_type": "code",
   "execution_count": null,
   "metadata": {},
   "outputs": [],
   "source": []
  }
 ],
 "metadata": {
  "kernelspec": {
   "display_name": "Python 3",
   "language": "python",
   "name": "python3"
  },
  "language_info": {
   "codemirror_mode": {
    "name": "ipython",
    "version": 3
   },
   "file_extension": ".py",
   "mimetype": "text/x-python",
   "name": "python",
   "nbconvert_exporter": "python",
   "pygments_lexer": "ipython3",
   "version": "3.6.4"
  }
 },
 "nbformat": 4,
 "nbformat_minor": 2
}
