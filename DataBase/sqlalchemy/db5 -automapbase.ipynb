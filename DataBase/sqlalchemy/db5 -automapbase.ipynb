{
 "cells": [
  {
   "cell_type": "code",
   "execution_count": 1,
   "metadata": {},
   "outputs": [],
   "source": [
    "from sqlalchemy import create_engine # core"
   ]
  },
  {
   "cell_type": "code",
   "execution_count": 2,
   "metadata": {},
   "outputs": [],
   "source": [
    "from sqlalchemy.ext.declarative import declarative_base # 원래 베이스(비교하기 위해) orm (like a Metadata)"
   ]
  },
  {
   "cell_type": "code",
   "execution_count": 3,
   "metadata": {},
   "outputs": [],
   "source": [
    "engine = create_engine(\"sqlite:///orm.db\", echo=True)"
   ]
  },
  {
   "cell_type": "code",
   "execution_count": 4,
   "metadata": {},
   "outputs": [],
   "source": [
    "from sqlalchemy.ext.automap import automap_base"
   ]
  },
  {
   "cell_type": "code",
   "execution_count": 5,
   "metadata": {},
   "outputs": [],
   "source": [
    "Base = automap_base()\n",
    "# Base = declartive_base()"
   ]
  },
  {
   "cell_type": "code",
   "execution_count": 6,
   "metadata": {},
   "outputs": [
    {
     "name": "stdout",
     "output_type": "stream",
     "text": [
      "2018-07-18 22:08:53,254 INFO sqlalchemy.engine.base.Engine SELECT CAST('test plain returns' AS VARCHAR(60)) AS anon_1\n",
      "2018-07-18 22:08:53,269 INFO sqlalchemy.engine.base.Engine ()\n",
      "2018-07-18 22:08:53,271 INFO sqlalchemy.engine.base.Engine SELECT CAST('test unicode returns' AS VARCHAR(60)) AS anon_1\n",
      "2018-07-18 22:08:53,272 INFO sqlalchemy.engine.base.Engine ()\n",
      "2018-07-18 22:08:53,273 INFO sqlalchemy.engine.base.Engine SELECT name FROM sqlite_master WHERE type='table' ORDER BY name\n",
      "2018-07-18 22:08:53,274 INFO sqlalchemy.engine.base.Engine ()\n",
      "2018-07-18 22:08:53,278 INFO sqlalchemy.engine.base.Engine PRAGMA table_info(\"album\")\n",
      "2018-07-18 22:08:53,279 INFO sqlalchemy.engine.base.Engine ()\n",
      "2018-07-18 22:08:53,281 INFO sqlalchemy.engine.base.Engine SELECT sql FROM  (SELECT * FROM sqlite_master UNION ALL   SELECT * FROM sqlite_temp_master) WHERE name = 'album' AND type = 'table'\n",
      "2018-07-18 22:08:53,282 INFO sqlalchemy.engine.base.Engine ()\n",
      "2018-07-18 22:08:53,285 INFO sqlalchemy.engine.base.Engine PRAGMA foreign_key_list(\"album\")\n",
      "2018-07-18 22:08:53,286 INFO sqlalchemy.engine.base.Engine ()\n",
      "2018-07-18 22:08:53,288 INFO sqlalchemy.engine.base.Engine SELECT sql FROM  (SELECT * FROM sqlite_master UNION ALL   SELECT * FROM sqlite_temp_master) WHERE name = 'album' AND type = 'table'\n",
      "2018-07-18 22:08:53,289 INFO sqlalchemy.engine.base.Engine ()\n",
      "2018-07-18 22:08:53,295 INFO sqlalchemy.engine.base.Engine PRAGMA table_info(\"artist\")\n",
      "2018-07-18 22:08:53,296 INFO sqlalchemy.engine.base.Engine ()\n",
      "2018-07-18 22:08:53,298 INFO sqlalchemy.engine.base.Engine SELECT sql FROM  (SELECT * FROM sqlite_master UNION ALL   SELECT * FROM sqlite_temp_master) WHERE name = 'artist' AND type = 'table'\n",
      "2018-07-18 22:08:53,299 INFO sqlalchemy.engine.base.Engine ()\n",
      "2018-07-18 22:08:53,301 INFO sqlalchemy.engine.base.Engine PRAGMA foreign_key_list(\"artist\")\n",
      "2018-07-18 22:08:53,302 INFO sqlalchemy.engine.base.Engine ()\n",
      "2018-07-18 22:08:53,303 INFO sqlalchemy.engine.base.Engine SELECT sql FROM  (SELECT * FROM sqlite_master UNION ALL   SELECT * FROM sqlite_temp_master) WHERE name = 'artist' AND type = 'table'\n",
      "2018-07-18 22:08:53,304 INFO sqlalchemy.engine.base.Engine ()\n",
      "2018-07-18 22:08:53,306 INFO sqlalchemy.engine.base.Engine PRAGMA index_list(\"artist\")\n",
      "2018-07-18 22:08:53,308 INFO sqlalchemy.engine.base.Engine ()\n",
      "2018-07-18 22:08:53,310 INFO sqlalchemy.engine.base.Engine PRAGMA index_list(\"artist\")\n",
      "2018-07-18 22:08:53,310 INFO sqlalchemy.engine.base.Engine ()\n",
      "2018-07-18 22:08:53,312 INFO sqlalchemy.engine.base.Engine SELECT sql FROM  (SELECT * FROM sqlite_master UNION ALL   SELECT * FROM sqlite_temp_master) WHERE name = 'artist' AND type = 'table'\n",
      "2018-07-18 22:08:53,313 INFO sqlalchemy.engine.base.Engine ()\n",
      "2018-07-18 22:08:53,318 INFO sqlalchemy.engine.base.Engine PRAGMA index_list(\"album\")\n",
      "2018-07-18 22:08:53,319 INFO sqlalchemy.engine.base.Engine ()\n",
      "2018-07-18 22:08:53,321 INFO sqlalchemy.engine.base.Engine PRAGMA index_list(\"album\")\n",
      "2018-07-18 22:08:53,321 INFO sqlalchemy.engine.base.Engine ()\n",
      "2018-07-18 22:08:53,324 INFO sqlalchemy.engine.base.Engine SELECT sql FROM  (SELECT * FROM sqlite_master UNION ALL   SELECT * FROM sqlite_temp_master) WHERE name = 'album' AND type = 'table'\n",
      "2018-07-18 22:08:53,325 INFO sqlalchemy.engine.base.Engine ()\n",
      "2018-07-18 22:08:53,327 INFO sqlalchemy.engine.base.Engine PRAGMA table_info(\"genre\")\n",
      "2018-07-18 22:08:53,328 INFO sqlalchemy.engine.base.Engine ()\n",
      "2018-07-18 22:08:53,330 INFO sqlalchemy.engine.base.Engine SELECT sql FROM  (SELECT * FROM sqlite_master UNION ALL   SELECT * FROM sqlite_temp_master) WHERE name = 'genre' AND type = 'table'\n",
      "2018-07-18 22:08:53,331 INFO sqlalchemy.engine.base.Engine ()\n",
      "2018-07-18 22:08:53,332 INFO sqlalchemy.engine.base.Engine PRAGMA foreign_key_list(\"genre\")\n",
      "2018-07-18 22:08:53,333 INFO sqlalchemy.engine.base.Engine ()\n",
      "2018-07-18 22:08:53,335 INFO sqlalchemy.engine.base.Engine SELECT sql FROM  (SELECT * FROM sqlite_master UNION ALL   SELECT * FROM sqlite_temp_master) WHERE name = 'genre' AND type = 'table'\n",
      "2018-07-18 22:08:53,335 INFO sqlalchemy.engine.base.Engine ()\n",
      "2018-07-18 22:08:53,337 INFO sqlalchemy.engine.base.Engine PRAGMA index_list(\"genre\")\n",
      "2018-07-18 22:08:53,338 INFO sqlalchemy.engine.base.Engine ()\n",
      "2018-07-18 22:08:53,339 INFO sqlalchemy.engine.base.Engine PRAGMA index_list(\"genre\")\n",
      "2018-07-18 22:08:53,340 INFO sqlalchemy.engine.base.Engine ()\n",
      "2018-07-18 22:08:53,343 INFO sqlalchemy.engine.base.Engine SELECT sql FROM  (SELECT * FROM sqlite_master UNION ALL   SELECT * FROM sqlite_temp_master) WHERE name = 'genre' AND type = 'table'\n",
      "2018-07-18 22:08:53,344 INFO sqlalchemy.engine.base.Engine ()\n",
      "2018-07-18 22:08:53,347 INFO sqlalchemy.engine.base.Engine PRAGMA table_info(\"track\")\n",
      "2018-07-18 22:08:53,348 INFO sqlalchemy.engine.base.Engine ()\n",
      "2018-07-18 22:08:53,352 INFO sqlalchemy.engine.base.Engine SELECT sql FROM  (SELECT * FROM sqlite_master UNION ALL   SELECT * FROM sqlite_temp_master) WHERE name = 'track' AND type = 'table'\n",
      "2018-07-18 22:08:53,353 INFO sqlalchemy.engine.base.Engine ()\n",
      "2018-07-18 22:08:53,355 INFO sqlalchemy.engine.base.Engine PRAGMA foreign_key_list(\"track\")\n",
      "2018-07-18 22:08:53,356 INFO sqlalchemy.engine.base.Engine ()\n",
      "2018-07-18 22:08:53,359 INFO sqlalchemy.engine.base.Engine SELECT sql FROM  (SELECT * FROM sqlite_master UNION ALL   SELECT * FROM sqlite_temp_master) WHERE name = 'track' AND type = 'table'\n",
      "2018-07-18 22:08:53,360 INFO sqlalchemy.engine.base.Engine ()\n",
      "2018-07-18 22:08:53,362 INFO sqlalchemy.engine.base.Engine PRAGMA index_list(\"track\")\n",
      "2018-07-18 22:08:53,363 INFO sqlalchemy.engine.base.Engine ()\n",
      "2018-07-18 22:08:53,364 INFO sqlalchemy.engine.base.Engine PRAGMA index_list(\"track\")\n",
      "2018-07-18 22:08:53,365 INFO sqlalchemy.engine.base.Engine ()\n",
      "2018-07-18 22:08:53,367 INFO sqlalchemy.engine.base.Engine SELECT sql FROM  (SELECT * FROM sqlite_master UNION ALL   SELECT * FROM sqlite_temp_master) WHERE name = 'track' AND type = 'table'\n",
      "2018-07-18 22:08:53,368 INFO sqlalchemy.engine.base.Engine ()\n"
     ]
    }
   ],
   "source": [
    "Base.prepare(engine, reflect=True) # 반영하기"
   ]
  },
  {
   "cell_type": "code",
   "execution_count": 7,
   "metadata": {},
   "outputs": [],
   "source": [
    "from sqlalchemy.orm import sessionmaker"
   ]
  },
  {
   "cell_type": "code",
   "execution_count": 8,
   "metadata": {},
   "outputs": [],
   "source": [
    "Session = sessionmaker(bind = engine)"
   ]
  },
  {
   "cell_type": "code",
   "execution_count": 9,
   "metadata": {},
   "outputs": [],
   "source": [
    "session = Session() # DB작업 할거 아니면 필요 없다 # 이미 클래스 상수에 이미 불러 왔기 때문에 "
   ]
  },
  {
   "cell_type": "code",
   "execution_count": 10,
   "metadata": {},
   "outputs": [],
   "source": [
    "artist = Base.classes.artist"
   ]
  },
  {
   "cell_type": "code",
   "execution_count": 11,
   "metadata": {},
   "outputs": [
    {
     "data": {
      "text/plain": [
       "sqlalchemy.ext.automap.artist"
      ]
     },
     "execution_count": 11,
     "metadata": {},
     "output_type": "execute_result"
    }
   ],
   "source": [
    "artist # 오토맵이라는 클래스를 감싼다  # 객체화"
   ]
  },
  {
   "cell_type": "code",
   "execution_count": 12,
   "metadata": {},
   "outputs": [
    {
     "data": {
      "text/plain": [
       "<sqlalchemy.orm.attributes.InstrumentedAttribute at 0x1c2bc5104c0>"
      ]
     },
     "execution_count": 12,
     "metadata": {},
     "output_type": "execute_result"
    }
   ],
   "source": [
    "artist.name"
   ]
  },
  {
   "cell_type": "code",
   "execution_count": 13,
   "metadata": {},
   "outputs": [],
   "source": [
    "result = session.query(artist)"
   ]
  },
  {
   "cell_type": "code",
   "execution_count": 14,
   "metadata": {},
   "outputs": [
    {
     "data": {
      "text/plain": [
       "sqlalchemy.orm.query.Query"
      ]
     },
     "execution_count": 14,
     "metadata": {},
     "output_type": "execute_result"
    }
   ],
   "source": [
    "type(result)"
   ]
  },
  {
   "cell_type": "code",
   "execution_count": 15,
   "metadata": {},
   "outputs": [
    {
     "name": "stdout",
     "output_type": "stream",
     "text": [
      "2018-07-18 22:09:26,261 INFO sqlalchemy.engine.base.Engine BEGIN (implicit)\n",
      "2018-07-18 22:09:26,263 INFO sqlalchemy.engine.base.Engine SELECT artist.id AS artist_id, artist.name AS artist_name \n",
      "FROM artist\n",
      "2018-07-18 22:09:26,264 INFO sqlalchemy.engine.base.Engine ()\n",
      "<sqlalchemy.ext.automap.artist object at 0x000001C2BC282E10>\n",
      "<sqlalchemy.ext.automap.artist object at 0x000001C2BC282E80>\n",
      "<sqlalchemy.ext.automap.artist object at 0x000001C2BC282EF0>\n",
      "<sqlalchemy.ext.automap.artist object at 0x000001C2BC282F60>\n",
      "<sqlalchemy.ext.automap.artist object at 0x000001C2BC282FD0>\n",
      "<sqlalchemy.ext.automap.artist object at 0x000001C2BC2950B8>\n"
     ]
    }
   ],
   "source": [
    "for row in result:\n",
    "    print(row)# 바로 출력이 안됨 # 인스턴스로 가져왔지만 우리는 아직 보이지 안흔다 "
   ]
  },
  {
   "cell_type": "code",
   "execution_count": 16,
   "metadata": {},
   "outputs": [
    {
     "name": "stdout",
     "output_type": "stream",
     "text": [
      "2018-07-18 22:09:32,626 INFO sqlalchemy.engine.base.Engine SELECT artist.id AS artist_id, artist.name AS artist_name \n",
      "FROM artist\n",
      "2018-07-18 22:09:32,627 INFO sqlalchemy.engine.base.Engine ()\n",
      "1 xyz\n",
      "2 AC/DC\n",
      "3 Led zepplin\n",
      "4 AC/DC\n",
      "5 xyz\n",
      "6 AC/DC\n"
     ]
    }
   ],
   "source": [
    "for row in result:\n",
    "    print(row.id, row.name)"
   ]
  }
 ],
 "metadata": {
  "kernelspec": {
   "display_name": "Python 3",
   "language": "python",
   "name": "python3"
  },
  "language_info": {
   "codemirror_mode": {
    "name": "ipython",
    "version": 3
   },
   "file_extension": ".py",
   "mimetype": "text/x-python",
   "name": "python",
   "nbconvert_exporter": "python",
   "pygments_lexer": "ipython3",
   "version": "3.6.4"
  }
 },
 "nbformat": 4,
 "nbformat_minor": 2
}
