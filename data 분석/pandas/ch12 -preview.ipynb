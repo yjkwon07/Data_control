{
 "cells": [
  {
   "cell_type": "markdown",
   "metadata": {},
   "source": [
    "# summary\n",
    "- import datetime\n",
    "    - dir(datetime) # 파이썬은 상수가 없다!!! \n",
    "    -  __ - >  # date -> 날짜, datetime 시간, datetime_capi 날짜 시간\n",
    "    - dir(datetime.datetime) # 패키징 \n",
    "<pre>\n",
    "...\n",
    "'max',\n",
    " 'microsecond',\n",
    " 'min',\n",
    " 'minute',\n",
    " 'month',\n",
    " 'now',\n",
    " 'replace',\n",
    " 'resolution',\n",
    " 'second',\n",
    " 'strftime',\n",
    " 'strptime',\n",
    " 'time',\n",
    " 'timestamp',\n",
    " 'timetuple',\n",
    " 'timetz',\n",
    " 'today',\n",
    " 'toordinal',\n",
    " 'tzinfo',\n",
    " 'tzname',\n",
    " 'utcfromtimestamp',\n",
    " 'utcnow',\n",
    " 'utcoffset',\n",
    " 'utctimetuple',\n",
    " 'weekday',\n",
    " ...\n",
    " </pre>\n",
    " "
   ]
  },
  {
   "cell_type": "markdown",
   "metadata": {},
   "source": [
    " \n",
    "- type(datetime.datetime) -> type -> class, class는 대부분 대문자인디 builtin은 예외\n",
    "    - from datetime import datetime <- datetime.datetime 귀찮아서\n",
    "    - a = datetime.datetime(2018,7,30) #[, ] <- 옵션 \n",
    "    - a.day\n",
    "    - a.strftime('%A') -> Monday\n",
    "    - a.strftime('%a') -> Mon\n",
    "    - a.strftime('%W') -> 31\n",
    "    - a.strftime('%y=%a') -> 18=Mon\n",
    "    \n",
    "    "
   ]
  },
  {
   "cell_type": "markdown",
   "metadata": {},
   "source": [
    "- from dateutil import parser # 한글 지원 안됨 \n",
    "    - date = parser.parse(\"4th of July, 2015\")"
   ]
  },
  {
   "cell_type": "markdown",
   "metadata": {},
   "source": [
    "- numpy <- 선형대수 처리 -> 계산이 컴퓨터에 최적화 시간이 빨라짐 \n",
    "    - date = np.array('2015-07-04', dtype = np.datetime64)\n",
    "    - date # 날짜데이터 속도가 빨라  # 판다스에서는 내부적으로 이렇게 되어잇음 # 판다스에서 사용하는 데이터 타입 "
   ]
  },
  {
   "cell_type": "markdown",
   "metadata": {},
   "source": [
    "- 판다스는 넘파이 데이터 타입을 썼는데 지원하는 기능은 99% 똑같아 \n",
    "    - np.datetime64('2015-07-04')\n",
    "    - np.datetime64('2015-07-04 12:00')\n",
    "    - date = pd.to_datetime(\"4th of July, 2015\")\n",
    "    - date = pd.to_datetime(\"2018/07/30\")\n",
    "    - date.strftime('%A')\n",
    "    - date + pd.to_timedelta(3, 'Y')\n",
    "        - out: Timestamp('2021-07-29 17:27:36')\n",
    "    - date + pd.to_timedelta(-4, 'W') # 99% 파이썬에 datetime.datetime을 만들었다. 속도가 빨라  # astype으로 못고치고 to ~(to_datetime, to_timedelta)\n",
    "        - out: Timestamp('2018-07-02 00:00:00')"
   ]
  },
  {
   "cell_type": "markdown",
   "metadata": {},
   "source": [
    "- index 중에서 datetiemindex -> 시간 날짜를 인덱스로 사용하고자 할때 \n",
    "    - index = pd.DatetimeIndex(['2014-07-04', '2014-08-04', '2015-07-04', '2015-08-04']) # 날짜를 인덱스로 하면 기똥찬 기능이 많아 \n",
    "\n",
    "\n",
    "- index 종류가 여러가지 \n",
    "    - index 추상적으로 붙인다\n",
    "    - data= pd.Series([0,1,2,3], index=index)\n",
    "    - a = pd.Series([1,2,3,4],['a','b','c','d'])\n",
    "    - a = pd.Series([1,2,3,4]) # range index -> index 설정을 안해주면[0:4] \n",
    "    - type(a.index) -> out: pandas.core.indexes.range.RangeIndex\n",
    "    - a.index -> out: RangeIndex(start=0, stop=4, step=1)\n",
    "    - data[:] # index가 있다는건 슬라이싱도 있다.\n",
    "    <pre>\n",
    "    2014-07-04    0\n",
    "2014-08-04    1\n",
    "2015-07-04    2\n",
    "2015-08-04    3\n",
    "dtype: int64\n",
    "    </pre>\n",
    "    - 시계열 분석은 시간 날짜가 인데스가 있는것이 대부분\n",
    "    - data['2015']\n",
    "    <pre>\n",
    "    2015-07-04    2\n",
    "2015-08-04    3\n",
    "dtype: int64\n",
    "    </pre>\n",
    "\n",
    "\n",
    "\n"
   ]
  },
  {
   "cell_type": "markdown",
   "metadata": {},
   "source": [
    "- series는 똑같은데 필터링이 년 월 일로 필터링이 된다. \n",
    "    - dates = pd.to_datetime([datetime.datetime(2015,7,3), '4th of July 2015','2015-Jul-6', '07-07-2015', '20150708'])\n",
    "    - dates \n",
    "    <pre>\n",
    "    DatetimeIndex(['2015-07-03', '2015-07-04', '2015-07-06', '2015-07-07',  '2015-07-08'], dtype='datetime64[ns]', freq=None)\n",
    "    </pre>\n",
    "\n",
    "- dates.to_period('D') # 사칙연산이 된다. \"d' 는 day  개수 안맞으면 broadcasting\n",
    "<pre>\n",
    "PeriodIndex(['2015-07-03', '2015-07-04', '2015-07-06', '2015-07-07', '2015-07-08'], dtype='period[D]', freq='D')\n",
    "</pre>\n",
    "- dates - dates[0]\n",
    "<pre>\n",
    "TimedeltaIndex(['0 days', '1 days', '3 days', '4 days', '5 days'], dtype='timedelta64[ns]', freq=None)\n",
    "</pre>\n",
    "- dates.to_period('H') \n",
    "<pre>\n",
    "PeriodIndex(['2015-07-03 00:00', '2015-07-04 00:00', '2015-07-06 00:00','2015-07-07 00:00', '2015-07-08 00:00'],dtype='period[H]',freq='H')\n",
    "</pre>            \n",
    "            \n",
    "            \n",
    "            "
   ]
  },
  {
   "cell_type": "markdown",
   "metadata": {},
   "source": [
    "- 시계열 분석 -> 날짜가 컴럼에 들어올 수 있다. data일부가 날짜 \n",
    "    - index 자체가 시계열 \n",
    "    - timestamp\n",
    "    - period\n",
    "    - timedelta \n",
    "    - 만드는 방식이 차이 \n",
    "    - 값이랑 상관없이 인덱스!!\n",
    "    - 특정 날짜 !! timestamp\n",
    "    - 어떤 특정주기 period -> periodindex  W H D Y\n",
    "    - 시간하고 차 -> period \n",
    "    - 결국 데이터 프레임 연결시키는것이 목적"
   ]
  },
  {
   "cell_type": "markdown",
   "metadata": {},
   "source": [
    "- 기간을 한꺼번에 들어가게 해주고 싶어 \n",
    "    - pd.date_range('2018-07-02', '2018-07-30')\n",
    "    - pd.date_range('2018-07-02', periods=5, freq='M') # value가 아니라 인덱스이다 .!!!!!!!!!!\n",
    "<pre>\n",
    "DatetimeIndex(['2018-07-31', '2018-08-31', '2018-09-30', '2018-10-31','2018-11-30'],dtype='datetime64[ns]', freq='M')\n",
    "</pre>"
   ]
  }
 ],
 "metadata": {
  "kernelspec": {
   "display_name": "Python 3",
   "language": "python",
   "name": "python3"
  },
  "language_info": {
   "codemirror_mode": {
    "name": "ipython",
    "version": 3
   },
   "file_extension": ".py",
   "mimetype": "text/x-python",
   "name": "python",
   "nbconvert_exporter": "python",
   "pygments_lexer": "ipython3",
   "version": "3.6.4"
  }
 },
 "nbformat": 4,
 "nbformat_minor": 2
}
