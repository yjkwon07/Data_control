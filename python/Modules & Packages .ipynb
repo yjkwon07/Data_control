{
 "cells": [
  {
   "cell_type": "markdown",
   "metadata": {},
   "source": [
    "# Facts at a glance\n",
    "■ A package hierarchically organises modules and other packages <br/>\n",
    "■ Where a module corresponds to a file, a regular package corresponds to a directory <br/>\n",
    "■ Modules and ackages define global namespaces <br/>\n",
    "■ Extension modules allow extension of Python itself<br/>\n"
   ]
  },
  {
   "cell_type": "markdown",
   "metadata": {},
   "source": [
    "# Modules\n",
    "■ A module in Python corresponds to a file with a .py extension <br/>\n",
    "○ import is used to access features in another module \n",
    "\n",
    "<pre>\n",
    "■ A module's __name__ corresponds to its file name without the extension \n",
    "○ When run as a script (e.g., using the –m option), the root module has '__main__' as its __name__\n",
    "</pre>"
   ]
  },
  {
   "cell_type": "markdown",
   "metadata": {},
   "source": [
    "# Extensions & embedding\n",
    "■ The Python interpreter can be extended using extension modules <br/>\n",
    "○ Python has a C API that allows programmatic access in C (or C++) and, therefore, any language callable from C<br/>\n",
    "■ Python can also be embedded in an application as a scripting language<br/>\n",
    "○ E.g., allow an application's features to be scripted in Python<br/>"
   ]
  },
  {
   "cell_type": "markdown",
   "metadata": {},
   "source": [
    "<img src=\"module.jpg\"/>"
   ]
  },
  {
   "cell_type": "markdown",
   "metadata": {},
   "source": [
    "# Packages\n",
    "■ Packages are a way of structuring the module namespace <br/>\n",
    "○ A submodule bar within a package foo represents the module foo.bar <br/>\n",
    "<pre>\n",
    "■ A regular package corresponds to a directory of modules (and packages) \n",
    "○ A regular package directory must have an __init__.py file (even if it's empty)\n",
    "○ The package name is the directory name\n",
    "</pre>"
   ]
  },
  {
   "cell_type": "markdown",
   "metadata": {},
   "source": [
    "# Namespaces\n",
    "■ A namespace is a mapping from names to objects, e.g., variables c <br/>\n",
    "○ A namespace is implemented as a dict <br/>\n",
    "○ Global, local, built-in and nested <br/>\n",
    "■ Each module gets its own global namespace, as does each package<br/>\n",
    "○ import pulls names into a namespace<br/>\n",
    "○ Within a scope, names in a namespace can be accessed without qualification <br/>"
   ]
  },
  {
   "cell_type": "markdown",
   "metadata": {},
   "source": [
    "# Packages & import\n",
    "■ A submodule can be imported with respect to its package <br/>\n",
    "○ E.g., import package.submodule<br/>\n",
    "○ Relative naming can be used to navigate within a package<br/>\n",
    "○ Main modules must use absolute imports<br/>\n",
    "<pre>\n",
    "○ Submodules seen by wildcard import can be specified by assigning a list of module names (as strings) to __all__ in __init__.py\n",
    "</pre>"
   ]
  }
 ],
 "metadata": {
  "kernelspec": {
   "display_name": "Python 3",
   "language": "python",
   "name": "python3"
  },
  "language_info": {
   "codemirror_mode": {
    "name": "ipython",
    "version": 3
   },
   "file_extension": ".py",
   "mimetype": "text/x-python",
   "name": "python",
   "nbconvert_exporter": "python",
   "pygments_lexer": "ipython3",
   "version": "3.6.4"
  }
 },
 "nbformat": 4,
 "nbformat_minor": 2
}
