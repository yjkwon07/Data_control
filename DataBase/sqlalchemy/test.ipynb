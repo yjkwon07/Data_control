{
 "cells": [
  {
   "cell_type": "code",
   "execution_count": 1,
   "metadata": {},
   "outputs": [],
   "source": [
    "from sqlalchemy.ext.declarative import declarative_base"
   ]
  },
  {
   "cell_type": "code",
   "execution_count": 2,
   "metadata": {},
   "outputs": [],
   "source": [
    "base = declarative_base() "
   ]
  },
  {
   "cell_type": "code",
   "execution_count": 3,
   "metadata": {},
   "outputs": [],
   "source": [
    "from sqlalchemy import Column, Integer, String, ForeignKey"
   ]
  },
  {
   "cell_type": "code",
   "execution_count": 4,
   "metadata": {},
   "outputs": [],
   "source": [
    "from sqlalchemy.orm import relationship"
   ]
  },
  {
   "cell_type": "code",
   "execution_count": 5,
   "metadata": {},
   "outputs": [],
   "source": [
    "class Artist(base):\n",
    "    __tablename__ = \"artist\"\n",
    "    \n",
    "    id = Column(Integer, primary_key=True)\n",
    "    name = Column(String)\n",
    "    \n",
    "    album =relationship(\"Album\", back_populates= \"artist\")\n",
    "    \n",
    "    def __repr__(self):\n",
    "        return \"<T artist(name ='%s')>\" % (self.name)\n",
    "\n",
    "class Album(base):\n",
    "    __tablename__ = \"album\"\n",
    "    \n",
    "    id = Column(Integer, primary_key=True)\n",
    "    title = Column(String)\n",
    "    artist_id = Column(Integer, ForeignKey(\"artist.id\"))\n",
    "    \n",
    "    artist = relationship(\"Artist\", back_populates = \"album\", uselist=False)\n",
    "    \n",
    "    # 다시 클래스 정의를 해야한다.\n",
    "    # 1:N 의 관계 리스트 타입이 아니기 때문에 # 꼭 1이여야 한다.  \n",
    "    # Artist 객체와 관계를 맺고 얘를 추적해서 가면 album(어트리뷰트랑 관련이 있다)을 만날 수 있다 \n",
    "    \n",
    "class Genre(base):\n",
    "    __tablename__ = \"genre\"\n",
    "    \n",
    "    id = Column(Integer, primary_key=True)\n",
    "    name = Column(String)\n",
    "    \n",
    "class Track(base):\n",
    "    __tablename__ = \"track\"\n",
    "    \n",
    "    id = Column(Integer, primary_key=True)\n",
    "    title = Column(String)\n",
    "    album_id = Column(Integer, ForeignKey('album.id'))\n",
    "    genre_id = Column(Integer, ForeignKey('genre.id'))"
   ]
  },
  {
   "cell_type": "code",
   "execution_count": 6,
   "metadata": {},
   "outputs": [],
   "source": [
    "from sqlalchemy import create_engine"
   ]
  },
  {
   "cell_type": "code",
   "execution_count": 7,
   "metadata": {},
   "outputs": [],
   "source": [
    "engine = create_engine(\"sqlite:///test2.db\", echo = True)"
   ]
  },
  {
   "cell_type": "code",
   "execution_count": 8,
   "metadata": {},
   "outputs": [
    {
     "name": "stdout",
     "output_type": "stream",
     "text": [
      "2018-08-18 17:00:19,549 INFO sqlalchemy.engine.base.Engine SELECT CAST('test plain returns' AS VARCHAR(60)) AS anon_1\n",
      "2018-08-18 17:00:19,552 INFO sqlalchemy.engine.base.Engine ()\n",
      "2018-08-18 17:00:19,554 INFO sqlalchemy.engine.base.Engine SELECT CAST('test unicode returns' AS VARCHAR(60)) AS anon_1\n",
      "2018-08-18 17:00:19,555 INFO sqlalchemy.engine.base.Engine ()\n"
     ]
    }
   ],
   "source": [
    "con = engine.connect()"
   ]
  },
  {
   "cell_type": "code",
   "execution_count": 9,
   "metadata": {
    "scrolled": true
   },
   "outputs": [
    {
     "name": "stdout",
     "output_type": "stream",
     "text": [
      "2018-08-18 17:00:25,691 INFO sqlalchemy.engine.base.Engine PRAGMA table_info(\"artist\")\n",
      "2018-08-18 17:00:25,692 INFO sqlalchemy.engine.base.Engine ()\n",
      "2018-08-18 17:00:25,695 INFO sqlalchemy.engine.base.Engine PRAGMA table_info(\"album\")\n",
      "2018-08-18 17:00:25,696 INFO sqlalchemy.engine.base.Engine ()\n",
      "2018-08-18 17:00:25,697 INFO sqlalchemy.engine.base.Engine PRAGMA table_info(\"genre\")\n",
      "2018-08-18 17:00:25,698 INFO sqlalchemy.engine.base.Engine ()\n",
      "2018-08-18 17:00:25,700 INFO sqlalchemy.engine.base.Engine PRAGMA table_info(\"track\")\n",
      "2018-08-18 17:00:25,701 INFO sqlalchemy.engine.base.Engine ()\n",
      "2018-08-18 17:00:25,703 INFO sqlalchemy.engine.base.Engine \n",
      "CREATE TABLE artist (\n",
      "\tid INTEGER NOT NULL, \n",
      "\tname VARCHAR, \n",
      "\tPRIMARY KEY (id)\n",
      ")\n",
      "\n",
      "\n",
      "2018-08-18 17:00:25,704 INFO sqlalchemy.engine.base.Engine ()\n",
      "2018-08-18 17:00:25,714 INFO sqlalchemy.engine.base.Engine COMMIT\n",
      "2018-08-18 17:00:25,715 INFO sqlalchemy.engine.base.Engine \n",
      "CREATE TABLE genre (\n",
      "\tid INTEGER NOT NULL, \n",
      "\tname VARCHAR, \n",
      "\tPRIMARY KEY (id)\n",
      ")\n",
      "\n",
      "\n",
      "2018-08-18 17:00:25,716 INFO sqlalchemy.engine.base.Engine ()\n",
      "2018-08-18 17:00:25,724 INFO sqlalchemy.engine.base.Engine COMMIT\n",
      "2018-08-18 17:00:25,725 INFO sqlalchemy.engine.base.Engine \n",
      "CREATE TABLE album (\n",
      "\tid INTEGER NOT NULL, \n",
      "\ttitle VARCHAR, \n",
      "\tartist_id INTEGER, \n",
      "\tPRIMARY KEY (id), \n",
      "\tFOREIGN KEY(artist_id) REFERENCES artist (id)\n",
      ")\n",
      "\n",
      "\n",
      "2018-08-18 17:00:25,726 INFO sqlalchemy.engine.base.Engine ()\n",
      "2018-08-18 17:00:25,733 INFO sqlalchemy.engine.base.Engine COMMIT\n",
      "2018-08-18 17:00:25,734 INFO sqlalchemy.engine.base.Engine \n",
      "CREATE TABLE track (\n",
      "\tid INTEGER NOT NULL, \n",
      "\ttitle VARCHAR, \n",
      "\talbum_id INTEGER, \n",
      "\tgenre_id INTEGER, \n",
      "\tPRIMARY KEY (id), \n",
      "\tFOREIGN KEY(album_id) REFERENCES album (id), \n",
      "\tFOREIGN KEY(genre_id) REFERENCES genre (id)\n",
      ")\n",
      "\n",
      "\n",
      "2018-08-18 17:00:25,735 INFO sqlalchemy.engine.base.Engine ()\n",
      "2018-08-18 17:00:25,744 INFO sqlalchemy.engine.base.Engine COMMIT\n"
     ]
    }
   ],
   "source": [
    "base.metadata.create_all(engine)"
   ]
  },
  {
   "cell_type": "code",
   "execution_count": 10,
   "metadata": {},
   "outputs": [],
   "source": [
    "artist1 = Artist(name=\"Led zepplin\")\n",
    "artist2 = Artist(name=\"AC/DC\")"
   ]
  },
  {
   "cell_type": "code",
   "execution_count": 11,
   "metadata": {},
   "outputs": [
    {
     "data": {
      "text/plain": [
       "<T artist(name ='Led zepplin')>"
      ]
     },
     "execution_count": 11,
     "metadata": {},
     "output_type": "execute_result"
    }
   ],
   "source": [
    "artist1"
   ]
  },
  {
   "cell_type": "code",
   "execution_count": 12,
   "metadata": {},
   "outputs": [],
   "source": [
    "artist1.album = [Album(title= \"IV\"), Album(title=\"who Made Who\")]"
   ]
  },
  {
   "cell_type": "code",
   "execution_count": 13,
   "metadata": {},
   "outputs": [
    {
     "data": {
      "text/plain": [
       "__main__.Album"
      ]
     },
     "execution_count": 13,
     "metadata": {},
     "output_type": "execute_result"
    }
   ],
   "source": [
    "type(artist1.album[1])"
   ]
  },
  {
   "cell_type": "code",
   "execution_count": 14,
   "metadata": {},
   "outputs": [
    {
     "data": {
      "text/plain": [
       "'who Made Who'"
      ]
     },
     "execution_count": 14,
     "metadata": {},
     "output_type": "execute_result"
    }
   ],
   "source": [
    "artist1.album[1].title"
   ]
  },
  {
   "cell_type": "code",
   "execution_count": 15,
   "metadata": {},
   "outputs": [],
   "source": [
    "from sqlalchemy.orm import sessionmaker"
   ]
  },
  {
   "cell_type": "code",
   "execution_count": 16,
   "metadata": {},
   "outputs": [],
   "source": [
    "Session = sessionmaker(bind = engine)"
   ]
  },
  {
   "cell_type": "code",
   "execution_count": 17,
   "metadata": {},
   "outputs": [],
   "source": [
    "session = Session()"
   ]
  },
  {
   "cell_type": "code",
   "execution_count": 18,
   "metadata": {},
   "outputs": [],
   "source": [
    "session.add_all([artist1, artist2])"
   ]
  },
  {
   "cell_type": "code",
   "execution_count": 19,
   "metadata": {},
   "outputs": [
    {
     "data": {
      "text/plain": [
       "IdentitySet([])"
      ]
     },
     "execution_count": 19,
     "metadata": {},
     "output_type": "execute_result"
    }
   ],
   "source": [
    "session.dirty"
   ]
  },
  {
   "cell_type": "code",
   "execution_count": 20,
   "metadata": {},
   "outputs": [
    {
     "data": {
      "text/plain": [
       "IdentitySet([<T artist(name ='Led zepplin')>, <__main__.Album object at 0x000001CCFEE1AE10>, <__main__.Album object at 0x000001CCFEE1A8D0>, <T artist(name ='AC/DC')>])"
      ]
     },
     "execution_count": 20,
     "metadata": {},
     "output_type": "execute_result"
    }
   ],
   "source": [
    "session.new"
   ]
  },
  {
   "cell_type": "code",
   "execution_count": 21,
   "metadata": {},
   "outputs": [
    {
     "name": "stdout",
     "output_type": "stream",
     "text": [
      "2018-08-18 17:00:53,536 INFO sqlalchemy.engine.base.Engine BEGIN (implicit)\n",
      "2018-08-18 17:00:53,538 INFO sqlalchemy.engine.base.Engine INSERT INTO artist (name) VALUES (?)\n",
      "2018-08-18 17:00:53,539 INFO sqlalchemy.engine.base.Engine ('Led zepplin',)\n",
      "2018-08-18 17:00:53,543 INFO sqlalchemy.engine.base.Engine INSERT INTO artist (name) VALUES (?)\n",
      "2018-08-18 17:00:53,544 INFO sqlalchemy.engine.base.Engine ('AC/DC',)\n",
      "2018-08-18 17:00:53,546 INFO sqlalchemy.engine.base.Engine INSERT INTO album (title, artist_id) VALUES (?, ?)\n",
      "2018-08-18 17:00:53,548 INFO sqlalchemy.engine.base.Engine ('IV', 1)\n",
      "2018-08-18 17:00:53,549 INFO sqlalchemy.engine.base.Engine INSERT INTO album (title, artist_id) VALUES (?, ?)\n",
      "2018-08-18 17:00:53,550 INFO sqlalchemy.engine.base.Engine ('who Made Who', 1)\n",
      "2018-08-18 17:00:53,552 INFO sqlalchemy.engine.base.Engine COMMIT\n"
     ]
    }
   ],
   "source": [
    "session.commit()"
   ]
  },
  {
   "cell_type": "code",
   "execution_count": 22,
   "metadata": {},
   "outputs": [
    {
     "name": "stdout",
     "output_type": "stream",
     "text": [
      "2018-08-18 17:00:57,985 INFO sqlalchemy.engine.base.Engine select * from Genre\n",
      "2018-08-18 17:00:57,986 INFO sqlalchemy.engine.base.Engine ()\n"
     ]
    }
   ],
   "source": [
    "result = con.execute(\"select * from Genre\")"
   ]
  },
  {
   "cell_type": "code",
   "execution_count": 23,
   "metadata": {},
   "outputs": [
    {
     "data": {
      "text/plain": [
       "[]"
      ]
     },
     "execution_count": 23,
     "metadata": {},
     "output_type": "execute_result"
    }
   ],
   "source": [
    "result.fetchall()"
   ]
  },
  {
   "cell_type": "code",
   "execution_count": 24,
   "metadata": {},
   "outputs": [
    {
     "name": "stdout",
     "output_type": "stream",
     "text": [
      "2018-08-18 17:01:06,327 INFO sqlalchemy.engine.base.Engine BEGIN (implicit)\n",
      "2018-08-18 17:01:06,328 INFO sqlalchemy.engine.base.Engine SELECT artist.id AS artist_id, artist.name AS artist_name \n",
      "FROM artist \n",
      "WHERE artist.id = ?\n",
      "2018-08-18 17:01:06,329 INFO sqlalchemy.engine.base.Engine (1,)\n",
      "2018-08-18 17:01:06,332 INFO sqlalchemy.engine.base.Engine SELECT album.id AS album_id, album.title AS album_title, album.artist_id AS album_artist_id \n",
      "FROM album \n",
      "WHERE ? = album.artist_id\n",
      "2018-08-18 17:01:06,333 INFO sqlalchemy.engine.base.Engine (1,)\n"
     ]
    },
    {
     "data": {
      "text/plain": [
       "'IV'"
      ]
     },
     "execution_count": 24,
     "metadata": {},
     "output_type": "execute_result"
    }
   ],
   "source": [
    "artist1.album[0].title "
   ]
  },
  {
   "cell_type": "code",
   "execution_count": 25,
   "metadata": {},
   "outputs": [
    {
     "data": {
      "text/plain": [
       "<T artist(name ='Led zepplin')>"
      ]
     },
     "execution_count": 25,
     "metadata": {},
     "output_type": "execute_result"
    }
   ],
   "source": [
    "artist1"
   ]
  },
  {
   "cell_type": "code",
   "execution_count": 26,
   "metadata": {},
   "outputs": [
    {
     "data": {
      "text/plain": [
       "IdentitySet([])"
      ]
     },
     "execution_count": 26,
     "metadata": {},
     "output_type": "execute_result"
    }
   ],
   "source": [
    "session.dirty"
   ]
  },
  {
   "cell_type": "code",
   "execution_count": 27,
   "metadata": {},
   "outputs": [
    {
     "name": "stdout",
     "output_type": "stream",
     "text": [
      "2018-08-18 17:01:15,198 INFO sqlalchemy.engine.base.Engine COMMIT\n"
     ]
    }
   ],
   "source": [
    "session.commit() # 커밋을 반드시 해줘야 반영이 된다 ."
   ]
  },
  {
   "cell_type": "code",
   "execution_count": 28,
   "metadata": {},
   "outputs": [],
   "source": [
    "session.add_all([    \n",
    "    Album(title=\"1\", artist_id=1),\n",
    "    Album(title=\"2\", artist_id=2)\n",
    "]) # 메모리상에 올라온 것뿐"
   ]
  },
  {
   "cell_type": "code",
   "execution_count": 29,
   "metadata": {},
   "outputs": [
    {
     "data": {
      "text/plain": [
       "IdentitySet([])"
      ]
     },
     "execution_count": 29,
     "metadata": {},
     "output_type": "execute_result"
    }
   ],
   "source": [
    "session.dirty "
   ]
  },
  {
   "cell_type": "code",
   "execution_count": 30,
   "metadata": {},
   "outputs": [],
   "source": [
    "session.add_all([\n",
    "    Genre(name=\"Rock\"),\n",
    "    Genre(name=\"Metal\")\n",
    "]) "
   ]
  },
  {
   "cell_type": "code",
   "execution_count": 31,
   "metadata": {},
   "outputs": [],
   "source": [
    "session.add_all([    \n",
    "    Track(title=\"1-1\", album_id=1, genre_id=1),\n",
    "    Track(title=\"1-2\", album_id=1, genre_id=2),\n",
    "    Track(title=\"2-1\", album_id=2, genre_id=1),\n",
    "    Track(title=\"2-2\", album_id=2, genre_id=2),\n",
    "])"
   ]
  },
  {
   "cell_type": "code",
   "execution_count": 32,
   "metadata": {},
   "outputs": [
    {
     "data": {
      "text/plain": [
       "IdentitySet([<__main__.Album object at 0x000001CCFEFBEA58>, <__main__.Album object at 0x000001CCFEFBE9E8>, <__main__.Genre object at 0x000001CCFEFBEBE0>, <__main__.Genre object at 0x000001CCFEFBEC50>, <__main__.Track object at 0x000001CCFEFB9390>, <__main__.Track object at 0x000001CCFEFB9400>, <__main__.Track object at 0x000001CCFEFB9470>, <__main__.Track object at 0x000001CCFEFB94E0>])"
      ]
     },
     "execution_count": 32,
     "metadata": {},
     "output_type": "execute_result"
    }
   ],
   "source": [
    "session.new"
   ]
  },
  {
   "cell_type": "code",
   "execution_count": 33,
   "metadata": {},
   "outputs": [
    {
     "name": "stdout",
     "output_type": "stream",
     "text": [
      "2018-08-18 17:01:28,041 INFO sqlalchemy.engine.base.Engine BEGIN (implicit)\n",
      "2018-08-18 17:01:28,043 INFO sqlalchemy.engine.base.Engine INSERT INTO genre (name) VALUES (?)\n",
      "2018-08-18 17:01:28,044 INFO sqlalchemy.engine.base.Engine ('Rock',)\n",
      "2018-08-18 17:01:28,049 INFO sqlalchemy.engine.base.Engine INSERT INTO genre (name) VALUES (?)\n",
      "2018-08-18 17:01:28,051 INFO sqlalchemy.engine.base.Engine ('Metal',)\n",
      "2018-08-18 17:01:28,052 INFO sqlalchemy.engine.base.Engine INSERT INTO album (title, artist_id) VALUES (?, ?)\n",
      "2018-08-18 17:01:28,053 INFO sqlalchemy.engine.base.Engine ('1', 1)\n",
      "2018-08-18 17:01:28,055 INFO sqlalchemy.engine.base.Engine INSERT INTO album (title, artist_id) VALUES (?, ?)\n",
      "2018-08-18 17:01:28,055 INFO sqlalchemy.engine.base.Engine ('2', 2)\n",
      "2018-08-18 17:01:28,058 INFO sqlalchemy.engine.base.Engine INSERT INTO track (title, album_id, genre_id) VALUES (?, ?, ?)\n",
      "2018-08-18 17:01:28,059 INFO sqlalchemy.engine.base.Engine ('1-1', 1, 1)\n",
      "2018-08-18 17:01:28,060 INFO sqlalchemy.engine.base.Engine INSERT INTO track (title, album_id, genre_id) VALUES (?, ?, ?)\n",
      "2018-08-18 17:01:28,061 INFO sqlalchemy.engine.base.Engine ('1-2', 1, 2)\n",
      "2018-08-18 17:01:28,062 INFO sqlalchemy.engine.base.Engine INSERT INTO track (title, album_id, genre_id) VALUES (?, ?, ?)\n",
      "2018-08-18 17:01:28,062 INFO sqlalchemy.engine.base.Engine ('2-1', 2, 1)\n",
      "2018-08-18 17:01:28,063 INFO sqlalchemy.engine.base.Engine INSERT INTO track (title, album_id, genre_id) VALUES (?, ?, ?)\n",
      "2018-08-18 17:01:28,064 INFO sqlalchemy.engine.base.Engine ('2-2', 2, 2)\n",
      "2018-08-18 17:01:28,065 INFO sqlalchemy.engine.base.Engine COMMIT\n"
     ]
    }
   ],
   "source": [
    "session.commit()"
   ]
  },
  {
   "cell_type": "code",
   "execution_count": 34,
   "metadata": {},
   "outputs": [],
   "source": [
    "temp = Track(title=\"3-1\", album_id=3, genre_id=3)"
   ]
  },
  {
   "cell_type": "code",
   "execution_count": 35,
   "metadata": {},
   "outputs": [],
   "source": [
    "session.add(temp)"
   ]
  },
  {
   "cell_type": "code",
   "execution_count": 36,
   "metadata": {},
   "outputs": [
    {
     "data": {
      "text/plain": [
       "IdentitySet([<__main__.Track object at 0x000001CCFEFBEE80>])"
      ]
     },
     "execution_count": 36,
     "metadata": {},
     "output_type": "execute_result"
    }
   ],
   "source": [
    "session.new"
   ]
  },
  {
   "cell_type": "code",
   "execution_count": 37,
   "metadata": {
    "scrolled": false
   },
   "outputs": [
    {
     "name": "stdout",
     "output_type": "stream",
     "text": [
      "2018-08-18 17:01:40,199 INFO sqlalchemy.engine.base.Engine BEGIN (implicit)\n",
      "2018-08-18 17:01:40,201 INFO sqlalchemy.engine.base.Engine INSERT INTO track (title, album_id, genre_id) VALUES (?, ?, ?)\n",
      "2018-08-18 17:01:40,202 INFO sqlalchemy.engine.base.Engine ('3-1', 3, 3)\n",
      "2018-08-18 17:01:40,206 INFO sqlalchemy.engine.base.Engine COMMIT\n"
     ]
    }
   ],
   "source": [
    "session.commit()"
   ]
  },
  {
   "cell_type": "code",
   "execution_count": 38,
   "metadata": {},
   "outputs": [
    {
     "name": "stdout",
     "output_type": "stream",
     "text": [
      "2018-08-18 17:01:43,935 INFO sqlalchemy.engine.base.Engine BEGIN (implicit)\n",
      "2018-08-18 17:01:43,937 INFO sqlalchemy.engine.base.Engine SELECT track.id AS track_id, track.title AS track_title, track.album_id AS track_album_id, track.genre_id AS track_genre_id \n",
      "FROM track \n",
      "WHERE track.id = ?\n",
      "2018-08-18 17:01:43,938 INFO sqlalchemy.engine.base.Engine (5,)\n",
      "5\n"
     ]
    }
   ],
   "source": [
    "print(temp.id)"
   ]
  },
  {
   "cell_type": "code",
   "execution_count": 39,
   "metadata": {},
   "outputs": [
    {
     "name": "stdout",
     "output_type": "stream",
     "text": [
      "2018-08-18 17:02:30,599 INFO sqlalchemy.engine.base.Engine select * from Album\n",
      "2018-08-18 17:02:30,600 INFO sqlalchemy.engine.base.Engine ()\n"
     ]
    }
   ],
   "source": [
    "result = con.execute(\"select * from Album\")"
   ]
  },
  {
   "cell_type": "code",
   "execution_count": 41,
   "metadata": {},
   "outputs": [
    {
     "name": "stdout",
     "output_type": "stream",
     "text": [
      "(1, 'IV', 1)\n",
      "(2, 'who Made Who', 1)\n",
      "(3, '1', 1)\n",
      "(4, '2', 2)\n"
     ]
    }
   ],
   "source": [
    "for row in result:\n",
    "    print(row)"
   ]
  },
  {
   "cell_type": "code",
   "execution_count": 49,
   "metadata": {},
   "outputs": [],
   "source": [
    "result = session.query(Track.title)"
   ]
  },
  {
   "cell_type": "code",
   "execution_count": 50,
   "metadata": {},
   "outputs": [
    {
     "name": "stdout",
     "output_type": "stream",
     "text": [
      "2018-08-18 17:06:00,078 INFO sqlalchemy.engine.base.Engine SELECT track.title AS track_title \n",
      "FROM track\n",
      "2018-08-18 17:06:00,079 INFO sqlalchemy.engine.base.Engine ()\n",
      "('1-1',)\n",
      "('1-2',)\n",
      "('2-1',)\n",
      "('2-2',)\n",
      "('3-1',)\n",
      "('4-1',)\n"
     ]
    }
   ],
   "source": []
  },
  {
   "cell_type": "code",
   "execution_count": 46,
   "metadata": {},
   "outputs": [],
   "source": [
    "session.add(Track(title=\"4-1\", album_id=4, genre_id=4))"
   ]
  },
  {
   "cell_type": "code",
   "execution_count": 51,
   "metadata": {},
   "outputs": [
    {
     "name": "stdout",
     "output_type": "stream",
     "text": [
      "2018-08-18 17:06:14,421 INFO sqlalchemy.engine.base.Engine select * from Track\n",
      "2018-08-18 17:06:14,422 INFO sqlalchemy.engine.base.Engine ()\n"
     ]
    }
   ],
   "source": [
    "result = con.execute(\"select * from Track\")"
   ]
  },
  {
   "cell_type": "code",
   "execution_count": 52,
   "metadata": {},
   "outputs": [
    {
     "name": "stdout",
     "output_type": "stream",
     "text": [
      "(1, '1-1', 1, 1)\n",
      "(2, '1-2', 1, 2)\n",
      "(3, '2-1', 2, 1)\n",
      "(4, '2-2', 2, 2)\n",
      "(5, '3-1', 3, 3)\n"
     ]
    }
   ],
   "source": [
    "for row in result:\n",
    "    print(row)"
   ]
  },
  {
   "cell_type": "code",
   "execution_count": 78,
   "metadata": {},
   "outputs": [],
   "source": [
    "from sqlalchemy import join"
   ]
  },
  {
   "cell_type": "code",
   "execution_count": 79,
   "metadata": {
    "scrolled": true
   },
   "outputs": [
    {
     "name": "stdout",
     "output_type": "stream",
     "text": [
      "2018-08-09 02:36:15,913 INFO sqlalchemy.engine.base.Engine SELECT track.title AS track_title, album.title AS album_title, genre.name AS genre_name, artist.name AS artist_name \n",
      "FROM track JOIN album ON album.id = track.album_id JOIN genre ON genre.id = track.genre_id JOIN artist ON artist.id = album.artist_id\n",
      "2018-08-09 02:36:15,915 INFO sqlalchemy.engine.base.Engine ()\n"
     ]
    }
   ],
   "source": [
    "result = session.query(Track.title, Album.title, Genre.name, Artist.name).select_from(Track).join(Album).join(Genre).join(Artist).all()"
   ]
  },
  {
   "cell_type": "code",
   "execution_count": 80,
   "metadata": {},
   "outputs": [
    {
     "name": "stdout",
     "output_type": "stream",
     "text": [
      "('1-1', 'IV', 'Rock', 'Led zepplin')\n",
      "('1-2', 'IV', 'Metal', 'Led zepplin')\n",
      "('2-1', 'who Made Who', 'Rock', 'Led zepplin')\n",
      "('2-2', 'who Made Who', 'Metal', 'Led zepplin')\n",
      "('3-1', '1', 'Rock', 'Led zepplin')\n",
      "('1-1', 'IV', 'Rock', 'Led zepplin')\n",
      "('1-2', 'IV', 'Metal', 'Led zepplin')\n",
      "('2-1', 'who Made Who', 'Rock', 'Led zepplin')\n",
      "('2-2', 'who Made Who', 'Metal', 'Led zepplin')\n",
      "('3-1', '1', 'Rock', 'Led zepplin')\n",
      "('1-1', 'IV', 'Rock', 'Led zepplin')\n",
      "('1-2', 'IV', 'Metal', 'Led zepplin')\n",
      "('2-1', 'who Made Who', 'Rock', 'Led zepplin')\n",
      "('2-2', 'who Made Who', 'Metal', 'Led zepplin')\n",
      "('3-1', '1', 'Rock', 'Led zepplin')\n",
      "('1-1', 'IV', 'Rock', 'Led zepplin')\n",
      "('1-2', 'IV', 'Metal', 'Led zepplin')\n",
      "('2-1', 'who Made Who', 'Rock', 'Led zepplin')\n",
      "('2-2', 'who Made Who', 'Metal', 'Led zepplin')\n",
      "('3-1', '1', 'Rock', 'Led zepplin')\n"
     ]
    }
   ],
   "source": [
    "for row in result:\n",
    "    print(row)"
   ]
  },
  {
   "cell_type": "code",
   "execution_count": 81,
   "metadata": {},
   "outputs": [],
   "source": [
    "sonList = [dict(Track=row[0], Album=row[1], Genre=row[2], Artist=row[3]) for row in result]"
   ]
  },
  {
   "cell_type": "code",
   "execution_count": 82,
   "metadata": {},
   "outputs": [
    {
     "data": {
      "text/plain": [
       "[{'Album': 'IV', 'Artist': 'Led zepplin', 'Genre': 'Rock', 'Track': '1-1'},\n",
       " {'Album': 'IV', 'Artist': 'Led zepplin', 'Genre': 'Metal', 'Track': '1-2'},\n",
       " {'Album': 'who Made Who',\n",
       "  'Artist': 'Led zepplin',\n",
       "  'Genre': 'Rock',\n",
       "  'Track': '2-1'},\n",
       " {'Album': 'who Made Who',\n",
       "  'Artist': 'Led zepplin',\n",
       "  'Genre': 'Metal',\n",
       "  'Track': '2-2'},\n",
       " {'Album': '1', 'Artist': 'Led zepplin', 'Genre': 'Rock', 'Track': '3-1'},\n",
       " {'Album': 'IV', 'Artist': 'Led zepplin', 'Genre': 'Rock', 'Track': '1-1'},\n",
       " {'Album': 'IV', 'Artist': 'Led zepplin', 'Genre': 'Metal', 'Track': '1-2'},\n",
       " {'Album': 'who Made Who',\n",
       "  'Artist': 'Led zepplin',\n",
       "  'Genre': 'Rock',\n",
       "  'Track': '2-1'},\n",
       " {'Album': 'who Made Who',\n",
       "  'Artist': 'Led zepplin',\n",
       "  'Genre': 'Metal',\n",
       "  'Track': '2-2'},\n",
       " {'Album': '1', 'Artist': 'Led zepplin', 'Genre': 'Rock', 'Track': '3-1'},\n",
       " {'Album': 'IV', 'Artist': 'Led zepplin', 'Genre': 'Rock', 'Track': '1-1'},\n",
       " {'Album': 'IV', 'Artist': 'Led zepplin', 'Genre': 'Metal', 'Track': '1-2'},\n",
       " {'Album': 'who Made Who',\n",
       "  'Artist': 'Led zepplin',\n",
       "  'Genre': 'Rock',\n",
       "  'Track': '2-1'},\n",
       " {'Album': 'who Made Who',\n",
       "  'Artist': 'Led zepplin',\n",
       "  'Genre': 'Metal',\n",
       "  'Track': '2-2'},\n",
       " {'Album': '1', 'Artist': 'Led zepplin', 'Genre': 'Rock', 'Track': '3-1'},\n",
       " {'Album': 'IV', 'Artist': 'Led zepplin', 'Genre': 'Rock', 'Track': '1-1'},\n",
       " {'Album': 'IV', 'Artist': 'Led zepplin', 'Genre': 'Metal', 'Track': '1-2'},\n",
       " {'Album': 'who Made Who',\n",
       "  'Artist': 'Led zepplin',\n",
       "  'Genre': 'Rock',\n",
       "  'Track': '2-1'},\n",
       " {'Album': 'who Made Who',\n",
       "  'Artist': 'Led zepplin',\n",
       "  'Genre': 'Metal',\n",
       "  'Track': '2-2'},\n",
       " {'Album': '1', 'Artist': 'Led zepplin', 'Genre': 'Rock', 'Track': '3-1'}]"
      ]
     },
     "execution_count": 82,
     "metadata": {},
     "output_type": "execute_result"
    }
   ],
   "source": [
    "sonList"
   ]
  },
  {
   "cell_type": "code",
   "execution_count": null,
   "metadata": {},
   "outputs": [],
   "source": []
  }
 ],
 "metadata": {
  "kernelspec": {
   "display_name": "Python 3",
   "language": "python",
   "name": "python3"
  },
  "language_info": {
   "codemirror_mode": {
    "name": "ipython",
    "version": 3
   },
   "file_extension": ".py",
   "mimetype": "text/x-python",
   "name": "python",
   "nbconvert_exporter": "python",
   "pygments_lexer": "ipython3",
   "version": "3.6.4"
  }
 },
 "nbformat": 4,
 "nbformat_minor": 2
}
