{
 "cells": [
  {
   "cell_type": "code",
   "execution_count": 1,
   "metadata": {},
   "outputs": [
    {
     "name": "stdout",
     "output_type": "stream",
     "text": [
      "SQLite Version:  ('3.21.0',)\n"
     ]
    }
   ],
   "source": [
    "import sqlite3 as sql \n",
    "\n",
    "con = None\n",
    "\n",
    "try:\n",
    "    con = sql.connect('test.db')\n",
    "    \n",
    "    cur = con.cursor()\n",
    "    \n",
    "    cur.execute('select  SQLITE_VERSION()') # 버전을 가져옴\n",
    "    \n",
    "    data = cur.fetchone()\n",
    "    \n",
    "    print(\"SQLite Version: \", data)\n",
    "    \n",
    "except Exception as e:\n",
    "    print(\"Error: \", e)\n",
    "finally:\n",
    "    if con:\n",
    "        con.close()"
   ]
  },
  {
   "cell_type": "code",
   "execution_count": 2,
   "metadata": {},
   "outputs": [],
   "source": [
    "con = sql.connect('test.db')\n",
    "\n",
    "with con:\n",
    "    cur = con.cursor()\n",
    "    cur.execute(\"create table cars(id int primary key, name text, price int )\") # pk 필수\n",
    "    cur.execute(\"insert into cars values(1,'Audi',52642)\")\n",
    "    cur.execute(\"insert into cars values(2,'Mercedes',57127)\")\n",
    "    cur.execute(\"insert into cars values(3,'Audi',9000)\")\n",
    "    cur.execute(\"insert into cars values(4,'Audi',29000)\")\n",
    "    cur.execute(\"insert into cars values(5,'Audi',350000)\")\n",
    "    cur.execute(\"insert into cars values(6,'Audi',21000)\")\n",
    "    cur.execute(\"insert into cars values(7,'Audi',41400)\")\n",
    "    cur.execute(\"insert into cars values(8,'Audi',21600)\")"
   ]
  },
  {
   "cell_type": "code",
   "execution_count": 11,
   "metadata": {},
   "outputs": [],
   "source": [
    "cars = [\n",
    "  (1,'Audi',52642),\n",
    "  (2,'Mercedes',57127),\n",
    "  (3,'Audi',9000),\n",
    "  (4,'Audi',29000),\n",
    "  (5,'Audi',350000),\n",
    "  (6,'Audi',21000),\n",
    "  (7,'Audi',41400),  \n",
    "  (8,'Audi',21600)\n",
    "]\n",
    "\n",
    "con = sql.connect('test.db')\n",
    "\n",
    "with con: # with con -> 마치면 자동으로 close하게 됨 \n",
    "    cur = con.cursor() # 포인터 개념 \n",
    "    cur.execute(\"drop table if exists cars\")\n",
    "    cur.execute(\"create table cars(id int primary key, name text, price int)\")\n",
    "    cur.executemany(\"insert into cars values(?,?,?)\",cars)"
   ]
  },
  {
   "cell_type": "code",
   "execution_count": 8,
   "metadata": {},
   "outputs": [
    {
     "name": "stdout",
     "output_type": "stream",
     "text": [
      "Error:  near \"cur\": syntax error\n"
     ]
    }
   ],
   "source": [
    "try:\n",
    "    con = sql.connect('test.db')\n",
    "    \n",
    "    cur = con.cursor()\n",
    "    \n",
    "    cur.executescript(\n",
    "        \"\"\"\n",
    "        drop table if exists cars;\n",
    "        cur.execute(\"create table cars(id int primary key, name text, price int );\") \n",
    "        cur.execute(\"insert into cars values(1,'Audi',52642);\")\n",
    "        cur.execute(\"insert into cars values(2,'Mercedes',57127);\")\n",
    "        cur.execute(\"insert into cars values(3,'Audi',9000);\")\n",
    "        cur.execute(\"insert into cars values(4,'Audi',29000);\")\n",
    "        cur.execute(\"insert into cars values(5,'Audi',350000);\")\n",
    "        cur.execute(\"insert into cars values(6,'Audi',21000);\")\n",
    "        cur.execute(\"insert into cars values(7,'Audi',41400);\")\n",
    "        cur.execute(\"insert into cars values(8,'Audi',21600);\")\n",
    "        \"\"\"\n",
    "    )\n",
    "    \n",
    "    con.commit()\n",
    "    \n",
    "except Exception as e:\n",
    "        if con: # 인터프립터 언어이기 때문에 만약 insert부분에 오류가 나도 위에 크리에이트문은 이미 \n",
    "                    # 실행이 되어있는 상황\n",
    "            con.rollback()\n",
    "        print(\"Error: \", e)\n",
    "finally:\n",
    "    if con:\n",
    "        con.close()"
   ]
  },
  {
   "cell_type": "code",
   "execution_count": 9,
   "metadata": {},
   "outputs": [
    {
     "name": "stdout",
     "output_type": "stream",
     "text": [
      "The last Id of the inserted row is 4\n"
     ]
    }
   ],
   "source": [
    "con = sql.connect(\":memory:\")\n",
    "\n",
    "with con:\n",
    "    cur = con.cursor()\n",
    "    cur.execute(\"create table friends(id int primary key, name text )\")\n",
    "    cur.execute(\"insert into friends(Name) values ('Tom');\")\n",
    "    cur.execute(\"insert into friends(Name) values ('Rebecca');\")\n",
    "    cur.execute(\"insert into friends(Name) values ('Jim');\")\n",
    "    cur.execute(\"insert into friends(Name) values ('Ribert');\")\n",
    "    \n",
    "    lid = cur.lastrowid\n",
    "    print(\"The last Id of the inserted row is\", lid)"
   ]
  },
  {
   "cell_type": "code",
   "execution_count": 12,
   "metadata": {},
   "outputs": [
    {
     "name": "stdout",
     "output_type": "stream",
     "text": [
      "1 Audi 52642\n",
      "2 Mercedes 57127\n",
      "3 Audi 9000\n",
      "4 Audi 29000\n",
      "5 Audi 350000\n",
      "6 Audi 21000\n",
      "7 Audi 41400\n",
      "8 Audi 21600\n"
     ]
    }
   ],
   "source": [
    "con = sql.connect('test.db')\n",
    "\n",
    "with con:\n",
    "    cur = con.cursor()\n",
    "    cur.execute(\"select * from cars\")\n",
    "    \n",
    "    while True: # fetchall\n",
    "        row = cur.fetchone()\n",
    "        \n",
    "        if row == None:\n",
    "            break;\n",
    "            \n",
    "        print(row[0], row[1], row[2])\n",
    "            "
   ]
  },
  {
   "cell_type": "code",
   "execution_count": 13,
   "metadata": {},
   "outputs": [
    {
     "name": "stdout",
     "output_type": "stream",
     "text": [
      "1 Audi 52642\n",
      "2 Mercedes 57127\n",
      "3 Audi 9000\n",
      "4 Audi 29000\n",
      "5 Audi 350000\n",
      "6 Audi 21000\n",
      "7 Audi 41400\n",
      "8 Audi 21600\n"
     ]
    }
   ],
   "source": [
    "con = sql.connect('test.db')\n",
    "\n",
    "with con:\n",
    "    con.row_factory = sql.Row # dict type, or mapping accesee를 하기 위해 colum 명 index, 조건해서 필터링으로 가져온다.\n",
    "    \n",
    "    cur = con.cursor()\n",
    "    cur.execute(\"select * from cars\")\n",
    "    \n",
    "    rows = cur.fetchall()\n",
    "    \n",
    "    for row in rows:\n",
    "        print(row[\"id\"], row[\"name\"], row[\"price\"]) # dictionary 구현 메소드 오버로딩\n",
    "        "
   ]
  },
  {
   "cell_type": "code",
   "execution_count": 15,
   "metadata": {},
   "outputs": [
    {
     "name": "stdout",
     "output_type": "stream",
     "text": [
      "Number of rows updated: 1\n"
     ]
    }
   ],
   "source": [
    "uId = 1\n",
    "uPrice = 62300\n",
    "\n",
    "con = sql.connect('test.db')\n",
    "#qmarker 사용\n",
    "with con:\n",
    "    cur = con.cursor()\n",
    "    \n",
    "    cur.execute(\"update cars set price =? where id =?\", (uPrice, uId))\n",
    "    \n",
    "    print(\"Number of rows updated:\", cur.rowcount)\n"
   ]
  },
  {
   "cell_type": "code",
   "execution_count": 16,
   "metadata": {},
   "outputs": [
    {
     "name": "stdout",
     "output_type": "stream",
     "text": [
      "Audi 29000\n"
     ]
    }
   ],
   "source": [
    "uId = 4\n",
    "\n",
    "con = sql.connect('test.db')\n",
    "\n",
    "with con:\n",
    "    \n",
    "    cur = con.cursor()\n",
    "    \n",
    "    cur.execute(\"select name, price from cars where id =:id\",{\"id\":uId})\n",
    "    \n",
    "    row = cur.fetchone()\n",
    "    print(row[0], row[1])"
   ]
  },
  {
   "cell_type": "code",
   "execution_count": null,
   "metadata": {},
   "outputs": [],
   "source": []
  }
 ],
 "metadata": {
  "kernelspec": {
   "display_name": "Python 3",
   "language": "python",
   "name": "python3"
  },
  "language_info": {
   "codemirror_mode": {
    "name": "ipython",
    "version": 3
   },
   "file_extension": ".py",
   "mimetype": "text/x-python",
   "name": "python",
   "nbconvert_exporter": "python",
   "pygments_lexer": "ipython3",
   "version": "3.6.4"
  }
 },
 "nbformat": 4,
 "nbformat_minor": 2
}
