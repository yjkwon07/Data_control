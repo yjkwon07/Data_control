{
 "cells": [
  {
   "cell_type": "markdown",
   "metadata": {},
   "source": [
    "# summary \n",
    "- df.stack()  #series # 한열로 쫙 쌓는거야 # axixs = index \n",
    "<pre>\n",
    "religion                                 \n",
    "Agnostic               <$10k                  27\n",
    "                       $10-20k                34\n",
    "                       $20-30k                60\n",
    "                       $30-40k                81\n",
    "                       $40-50k                76\n",
    "                       $50-75k               137\n",
    "                       $75-100k              122\n",
    "                       $100-150k             109\n",
    "                       >150k                  84\n",
    "                       Don't know/refused     96\n",
    "Atheist                <$10k                  12\n",
    "                       $10-20k                27\n",
    "                       $20-30k                37\n",
    "                       $30-40k                52\n",
    "                       $40-50k                35\n",
    "                       $50-75k                70\n",
    "                       $75-100k               73\n",
    "                       $100-150k              59\n",
    "....\n",
    "</pre>\n",
    "\n",
    "\n",
    "- df.unstack() # axis = column \n",
    "<pre>\n",
    "                   religion               \n",
    "<$10k               Agnostic                     27\n",
    "                    Atheist                      12\n",
    "                    Buddhist                     27\n",
    "                    Catholic                    418\n",
    "                    Don’t know/refused           15\n",
    "                    Evangelical Prot            575\n",
    "                    Hindu                         1\n",
    "                    Historically Black Prot     228\n",
    "                    Jehovah's Witness            20\n",
    "                    Jewish                       19\n",
    "                    Mainline Prot               289\n",
    "                    Mormon                       29\n",
    "                    Muslim                        6\n",
    "                    Orthodox                     13\n",
    "                    Other Christian               9\n",
    "                    Other Faiths                 20\n",
    "                    Other World Religions         5\n",
    "                    Unaffiliated                217\n",
    "$10-20k             Agnostic                     34\n",
    "                    Atheist                      27\n",
    "                    Buddhist                     21\n",
    "                    Catholic                    617\n",
    "                    Don’t know/refused           14\n",
    "                    Evangelical Prot            869\n",
    "                    Hindu                         9\n",
    "                    Historically Black Prot     244\n",
    "                    Jehovah's Witness            27\n",
    "                    Jewish                       19\n",
    "                    Mainline Prot               495\n",
    "                    Mormon                       40\n",
    "</pre>\n",
    "  \n",
    "  \n",
    "- df.index.rename('A')  \n",
    "- df['<$10k'].astype('category')"
   ]
  },
  {
   "cell_type": "markdown",
   "metadata": {},
   "source": [
    "- 데이터 읽기\n",
    "- info\n",
    "- 데이터 훓어보기 insight 찾기 \n",
    "- astype으로 데이터 변경 \n",
    "- 전처리란? -> 통계치 보고 agreegation하는디 전처리 겁나 하는거야 "
   ]
  },
  {
   "cell_type": "code",
   "execution_count": null,
   "metadata": {},
   "outputs": [],
   "source": []
  }
 ],
 "metadata": {
  "kernelspec": {
   "display_name": "Python 3",
   "language": "python",
   "name": "python3"
  },
  "language_info": {
   "codemirror_mode": {
    "name": "ipython",
    "version": 3
   },
   "file_extension": ".py",
   "mimetype": "text/x-python",
   "name": "python",
   "nbconvert_exporter": "python",
   "pygments_lexer": "ipython3",
   "version": "3.6.4"
  }
 },
 "nbformat": 4,
 "nbformat_minor": 2
}
