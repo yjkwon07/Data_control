{
 "cells": [
  {
   "cell_type": "markdown",
   "metadata": {},
   "source": [
    "# json \n",
    "- json을 만들기 위해서는 모든 형식을 str 형식으로 변환 dump, dumps \n",
    "- json을 읽기위해서는 str 형식을 dict형식으로 변환 load, loads "
   ]
  },
  {
   "cell_type": "code",
   "execution_count": 1,
   "metadata": {},
   "outputs": [],
   "source": [
    "import json"
   ]
  },
  {
   "cell_type": "code",
   "execution_count": 2,
   "metadata": {},
   "outputs": [],
   "source": [
    "name = (\"kim\",\"lee\",\"park\")"
   ]
  },
  {
   "cell_type": "code",
   "execution_count": 3,
   "metadata": {},
   "outputs": [],
   "source": [
    "age = [20,32,25]"
   ]
  },
  {
   "cell_type": "code",
   "execution_count": 4,
   "metadata": {},
   "outputs": [
    {
     "data": {
      "text/plain": [
       "list"
      ]
     },
     "execution_count": 4,
     "metadata": {},
     "output_type": "execute_result"
    }
   ],
   "source": [
    "type(age)"
   ]
  },
  {
   "cell_type": "code",
   "execution_count": 5,
   "metadata": {},
   "outputs": [],
   "source": [
    "person = {\"name\":\"kim\",\"age\":28, \"car\":False}"
   ]
  },
  {
   "cell_type": "code",
   "execution_count": 6,
   "metadata": {},
   "outputs": [
    {
     "data": {
      "text/plain": [
       "dict"
      ]
     },
     "execution_count": 6,
     "metadata": {},
     "output_type": "execute_result"
    }
   ],
   "source": [
    "type(person)"
   ]
  },
  {
   "cell_type": "code",
   "execution_count": 7,
   "metadata": {},
   "outputs": [],
   "source": [
    "nameStr = json.dumps(name)"
   ]
  },
  {
   "cell_type": "code",
   "execution_count": 8,
   "metadata": {},
   "outputs": [
    {
     "data": {
      "text/plain": [
       "'[\"kim\", \"lee\", \"park\"]'"
      ]
     },
     "execution_count": 8,
     "metadata": {},
     "output_type": "execute_result"
    }
   ],
   "source": [
    "nameStr"
   ]
  },
  {
   "cell_type": "code",
   "execution_count": 9,
   "metadata": {},
   "outputs": [
    {
     "data": {
      "text/plain": [
       "str"
      ]
     },
     "execution_count": 9,
     "metadata": {},
     "output_type": "execute_result"
    }
   ],
   "source": [
    "type(nameStr)"
   ]
  },
  {
   "cell_type": "code",
   "execution_count": 10,
   "metadata": {},
   "outputs": [],
   "source": [
    "personStr = json.dumps(person, indent=\"    \")"
   ]
  },
  {
   "cell_type": "code",
   "execution_count": 11,
   "metadata": {},
   "outputs": [
    {
     "data": {
      "text/plain": [
       "'{\\n    \"name\": \"kim\",\\n    \"age\": 28,\\n    \"car\": false\\n}'"
      ]
     },
     "execution_count": 11,
     "metadata": {},
     "output_type": "execute_result"
    }
   ],
   "source": [
    "personStr"
   ]
  },
  {
   "cell_type": "code",
   "execution_count": 12,
   "metadata": {},
   "outputs": [
    {
     "name": "stdout",
     "output_type": "stream",
     "text": [
      "{\n",
      "    \"name\": \"kim\",\n",
      "    \"age\": 28,\n",
      "    \"car\": false\n",
      "}\n"
     ]
    }
   ],
   "source": [
    "print(personStr)"
   ]
  },
  {
   "cell_type": "code",
   "execution_count": 13,
   "metadata": {},
   "outputs": [
    {
     "data": {
      "text/plain": [
       "str"
      ]
     },
     "execution_count": 13,
     "metadata": {},
     "output_type": "execute_result"
    }
   ],
   "source": [
    "type(personStr)"
   ]
  },
  {
   "cell_type": "code",
   "execution_count": 14,
   "metadata": {},
   "outputs": [],
   "source": [
    "korean = (\"김\", \"이\", \"박\")"
   ]
  },
  {
   "cell_type": "code",
   "execution_count": 15,
   "metadata": {},
   "outputs": [],
   "source": [
    "koreanStr = json.dumps(korean,  ensure_ascii=False)"
   ]
  },
  {
   "cell_type": "code",
   "execution_count": 16,
   "metadata": {},
   "outputs": [
    {
     "name": "stdout",
     "output_type": "stream",
     "text": [
      "[\"김\", \"이\", \"박\"]\n"
     ]
    }
   ],
   "source": [
    "print(koreanStr,     ) # 유니코드(byte로 전송 -> 한글로 보내면 2byte로 보내지기 때문에 유니코드로 ) -> 아스키코드(유니코드를 해석하기 위해서 )"
   ]
  },
  {
   "cell_type": "code",
   "execution_count": 17,
   "metadata": {},
   "outputs": [],
   "source": [
    "personObj = json.loads(personStr) #객체를 넣는게 아니라 string을 기입"
   ]
  },
  {
   "cell_type": "code",
   "execution_count": 18,
   "metadata": {},
   "outputs": [
    {
     "data": {
      "text/plain": [
       "dict"
      ]
     },
     "execution_count": 18,
     "metadata": {},
     "output_type": "execute_result"
    }
   ],
   "source": [
    "type(personObj) # 파이썬 객체로 인식하여 변환 "
   ]
  },
  {
   "cell_type": "code",
   "execution_count": 19,
   "metadata": {},
   "outputs": [
    {
     "name": "stdout",
     "output_type": "stream",
     "text": [
      "kim\n",
      "28\n",
      "False\n"
     ]
    }
   ],
   "source": [
    "for i in personObj:\n",
    "    print(personObj[i])"
   ]
  },
  {
   "cell_type": "code",
   "execution_count": 20,
   "metadata": {},
   "outputs": [
    {
     "data": {
      "text/plain": [
       "'kim'"
      ]
     },
     "execution_count": 20,
     "metadata": {},
     "output_type": "execute_result"
    }
   ],
   "source": [
    "personObj[\"name\"]"
   ]
  },
  {
   "cell_type": "code",
   "execution_count": 21,
   "metadata": {},
   "outputs": [
    {
     "data": {
      "text/plain": [
       "True"
      ]
     },
     "execution_count": 21,
     "metadata": {},
     "output_type": "execute_result"
    }
   ],
   "source": [
    "person == personObj"
   ]
  },
  {
   "cell_type": "code",
   "execution_count": 22,
   "metadata": {},
   "outputs": [],
   "source": [
    "personObj[\"car\"] = [\"레이\", \"모닝\"]"
   ]
  },
  {
   "cell_type": "code",
   "execution_count": 23,
   "metadata": {},
   "outputs": [
    {
     "data": {
      "text/plain": [
       "{'age': 28, 'car': ['레이', '모닝'], 'name': 'kim'}"
      ]
     },
     "execution_count": 23,
     "metadata": {},
     "output_type": "execute_result"
    }
   ],
   "source": [
    "personObj"
   ]
  },
  {
   "cell_type": "code",
   "execution_count": 27,
   "metadata": {},
   "outputs": [
    {
     "data": {
      "text/plain": [
       "dict"
      ]
     },
     "execution_count": 27,
     "metadata": {},
     "output_type": "execute_result"
    }
   ],
   "source": [
    "type(personObj)"
   ]
  },
  {
   "cell_type": "code",
   "execution_count": 35,
   "metadata": {},
   "outputs": [
    {
     "name": "stdout",
     "output_type": "stream",
     "text": [
      "<class 'NoneType'>\n"
     ]
    }
   ],
   "source": [
    "with open(\"test.json\", \"w\") as f:\n",
    "    print(type(json.dump(personObj, f))) # s는 메모리에서 작업을 했을 때 \n"
   ]
  },
  {
   "cell_type": "code",
   "execution_count": 25,
   "metadata": {},
   "outputs": [],
   "source": [
    "with open(\"test.json\", \"r\") as f:\n",
    "    loadObj = json.load(f)"
   ]
  },
  {
   "cell_type": "code",
   "execution_count": 26,
   "metadata": {},
   "outputs": [
    {
     "data": {
      "text/plain": [
       "{'age': 28, 'car': ['레이', '모닝'], 'name': 'kim'}"
      ]
     },
     "execution_count": 26,
     "metadata": {},
     "output_type": "execute_result"
    }
   ],
   "source": [
    "loadObj #한글로 변환 "
   ]
  },
  {
   "cell_type": "code",
   "execution_count": 29,
   "metadata": {},
   "outputs": [
    {
     "data": {
      "text/plain": [
       "dict"
      ]
     },
     "execution_count": 29,
     "metadata": {},
     "output_type": "execute_result"
    }
   ],
   "source": [
    "type(loadObj)"
   ]
  },
  {
   "cell_type": "code",
   "execution_count": 28,
   "metadata": {},
   "outputs": [
    {
     "data": {
      "text/plain": [
       "True"
      ]
     },
     "execution_count": 28,
     "metadata": {},
     "output_type": "execute_result"
    }
   ],
   "source": [
    "personObj  ==  loadObj"
   ]
  },
  {
   "cell_type": "markdown",
   "metadata": {},
   "source": [
    "# urllib.request \n",
    "- urllib.request.urlopen -> request \n",
    "- .read() -> byte code로 불러옴\n",
    "- .decode() -> 알 맞는 형태로 encode -> decode (str 변환)\n",
    "-  json.loads() -> dict형 변환 "
   ]
  },
  {
   "cell_type": "code",
   "execution_count": 36,
   "metadata": {},
   "outputs": [],
   "source": [
    "import urllib.request # 인테넷상에서 데이터 주고 받기 위해서 "
   ]
  },
  {
   "cell_type": "code",
   "execution_count": 37,
   "metadata": {},
   "outputs": [],
   "source": [
    "reap = urllib.request.urlopen(\"http://jsonplaceholder.typicode.com/posts/1\")"
   ]
  },
  {
   "cell_type": "code",
   "execution_count": 38,
   "metadata": {},
   "outputs": [],
   "source": [
    "text = reap.read()"
   ]
  },
  {
   "cell_type": "code",
   "execution_count": 39,
   "metadata": {},
   "outputs": [
    {
     "data": {
      "text/plain": [
       "bytes"
      ]
     },
     "execution_count": 39,
     "metadata": {},
     "output_type": "execute_result"
    }
   ],
   "source": [
    "type(text)"
   ]
  },
  {
   "cell_type": "code",
   "execution_count": 40,
   "metadata": {},
   "outputs": [],
   "source": [
    "textStr = text.decode(\"utf-8\")"
   ]
  },
  {
   "cell_type": "code",
   "execution_count": 41,
   "metadata": {},
   "outputs": [
    {
     "data": {
      "text/plain": [
       "str"
      ]
     },
     "execution_count": 41,
     "metadata": {},
     "output_type": "execute_result"
    }
   ],
   "source": [
    "type(textStr)"
   ]
  },
  {
   "cell_type": "code",
   "execution_count": 42,
   "metadata": {},
   "outputs": [],
   "source": [
    "respObj = json.loads(textStr)"
   ]
  },
  {
   "cell_type": "code",
   "execution_count": 43,
   "metadata": {},
   "outputs": [
    {
     "data": {
      "text/plain": [
       "dict"
      ]
     },
     "execution_count": 43,
     "metadata": {},
     "output_type": "execute_result"
    }
   ],
   "source": [
    "type(respObj)"
   ]
  },
  {
   "cell_type": "code",
   "execution_count": 44,
   "metadata": {},
   "outputs": [
    {
     "name": "stdout",
     "output_type": "stream",
     "text": [
      "{'userId': 1, 'id': 1, 'title': 'sunt aut facere repellat provident occaecati excepturi optio reprehenderit', 'body': 'quia et suscipit\\nsuscipit recusandae consequuntur expedita et cum\\nreprehenderit molestiae ut ut quas totam\\nnostrum rerum est autem sunt rem eveniet architecto'}\n"
     ]
    }
   ],
   "source": [
    "print(respObj)"
   ]
  },
  {
   "cell_type": "code",
   "execution_count": 45,
   "metadata": {},
   "outputs": [
    {
     "data": {
      "text/plain": [
       "'sunt aut facere repellat provident occaecati excepturi optio reprehenderit'"
      ]
     },
     "execution_count": 45,
     "metadata": {},
     "output_type": "execute_result"
    }
   ],
   "source": [
    "respObj[\"title\"]"
   ]
  },
  {
   "cell_type": "code",
   "execution_count": 64,
   "metadata": {},
   "outputs": [
    {
     "name": "stdout",
     "output_type": "stream",
     "text": [
      "userId 1\n",
      "<class 'int'>\n",
      "id 1\n",
      "<class 'int'>\n",
      "title sunt aut facere repellat provident occaecati excepturi optio reprehenderit\n",
      "<class 'str'>\n",
      "body quia et suscipit\n",
      "suscipit recusandae consequuntur expedita et cum\n",
      "reprehenderit molestiae ut ut quas totam\n",
      "nostrum rerum est autem sunt rem eveniet architecto\n",
      "<class 'str'>\n"
     ]
    }
   ],
   "source": [
    "for (k,v) in respObj.items():\n",
    "    print(k,v)\n",
    "    print(type(v)) # 오브젝트 객체가 들어갈 수 있기 때문에 타입을 확인 해야한다 . \n",
    "    "
   ]
  },
  {
   "cell_type": "markdown",
   "metadata": {},
   "source": [
    "# 공공데이터\n",
    "- urllib.parse.unquote( params[\"serviceKey\"] ) \n",
    "\n",
    " Replace %xx escapes by their single-character equivalent. The optional\n",
    "encoding and errors parameters specify how to decode percent-encoded\n",
    "sequences into Unicode characters, as accepted by the bytes.decode()\n",
    "method.\n",
    "\n",
    "\n",
    "- urllibe.prarse() str형 변환\n",
    "- .encode() byte형 변환\n",
    "- req = urllib.request.Request(url, data=paramBytes) Request객체 반환 \n",
    "- res = urllib.request.urlopen(req)  ->HTTPRESPONSE 반환\n",
    "- res.read() -> byte형식으로 읽음\n",
    "- res.read().decode() -> 알맞은 형식으로 decode()"
   ]
  },
  {
   "cell_type": "code",
   "execution_count": 1,
   "metadata": {},
   "outputs": [],
   "source": [
    "a = \"http://openapi.airkorea.or.kr/openapi/services/rest/ArpltnInforInqireSvc/getCtprvnMesureSidoLIst?serviceKey=C9N9ExnIbd5esuobQ8zjDOi5p3iWoDQOhCRSlvgi4%2BgQEeLhRR4K3hDf%2BG3W%2BrZULxTVB3qUCrTxcAE43A6VNA%3D%3D&numOfRows=10&pageSize=10&pageNo=1&startPage=1&sidoName=%EC%84%9C%EC%9A%B8&searchCondition=DAILY\""
   ]
  },
  {
   "cell_type": "code",
   "execution_count": 2,
   "metadata": {},
   "outputs": [
    {
     "ename": "IndentationError",
     "evalue": "unexpected indent (<ipython-input-2-5f91e570dc67>, line 2)",
     "output_type": "error",
     "traceback": [
      "\u001b[1;36m  File \u001b[1;32m\"<ipython-input-2-5f91e570dc67>\"\u001b[1;36m, line \u001b[1;32m2\u001b[0m\n\u001b[1;33m    serviceKey=C9N9ExnIbd5esuobQ8zjDOi5p3iWoDQOhCRSlvgi4%2BgQEeLhRR4K3hDf%2BG3W%2BrZULxTVB3qUCrTxcAE43A6VNA%3D%3D\u001b[0m\n\u001b[1;37m    ^\u001b[0m\n\u001b[1;31mIndentationError\u001b[0m\u001b[1;31m:\u001b[0m unexpected indent\n"
     ]
    }
   ],
   "source": [
    "http://openapi.airkorea.or.kr/openapi/services/rest/ArpltnInforInqireSvc/getCtprvnMesureSidoLIst?\n",
    "    serviceKey=C9N9ExnIbd5esuobQ8zjDOi5p3iWoDQOhCRSlvgi4%2BgQEeLhRR4K3hDf%2BG3W%2BrZULxTVB3qUCrTxcAE43A6VNA%3D%3D\n",
    "    &numOfRows=10\n",
    "    &pageSize=10\n",
    "    &pageNo=1\n",
    "    &startPage=1\n",
    "    &sidoName=%EC%84%9C%EC%9A%B8\n",
    "    &searchCondition=DAILY\n",
    "    &ver=1.3\n",
    "    &_returnType=json"
   ]
  },
  {
   "cell_type": "code",
   "execution_count": 78,
   "metadata": {},
   "outputs": [],
   "source": [
    "params ={\n",
    "    \"serviceKey\":\"C9N9ExnIbd5esuobQ8zjDOi5p3iWoDQOhCRSlvgi4%2BgQEeLhRR4K3hDf%2BG3W%2BrZULxTVB3qUCrTxcAE43A6VNA%3D%3D\",\n",
    "    \"numOfRows\" : 10,\n",
    "    \"pageNo\":1,\n",
    "    \"startPage\":1,\n",
    "    \"sidoName\":None,\n",
    "    \"ver\":\"1.3\",\n",
    "    \"_returnType\":\"json\",\n",
    "    }"
   ]
  },
  {
   "cell_type": "code",
   "execution_count": 47,
   "metadata": {},
   "outputs": [],
   "source": [
    "params[\"sidoName\"] = \"서울\"\n",
    "#서울, 부산, 대구, 인천, 광주, 대전, 울산, 경기, 강원, 충북, 충남, 전북, 전남, 경북, 경남, 제주, 세종"
   ]
  },
  {
   "cell_type": "code",
   "execution_count": 48,
   "metadata": {},
   "outputs": [],
   "source": [
    "url = \"http://openapi.airkorea.or.kr/openapi/services/rest/ArpltnInforInqireSvc/getCtprvnRltmMesureDnsty?\""
   ]
  },
  {
   "cell_type": "code",
   "execution_count": 49,
   "metadata": {},
   "outputs": [],
   "source": [
    "from urllib import parse"
   ]
  },
  {
   "cell_type": "code",
   "execution_count": 50,
   "metadata": {},
   "outputs": [],
   "source": [
    "paramUrl = parse.urlencode(params)"
   ]
  },
  {
   "cell_type": "code",
   "execution_count": 51,
   "metadata": {},
   "outputs": [
    {
     "data": {
      "text/plain": [
       "'serviceKey=C9N9ExnIbd5esuobQ8zjDOi5p3iWoDQOhCRSlvgi4%252BgQEeLhRR4K3hDf%252BG3W%252BrZULxTVB3qUCrTxcAE43A6VNA%253D%253D&numOfRows=10&pageNo=1&startPage=1&sidoName=%EC%84%9C%EC%9A%B8&ver=1.3&_returnType=json'"
      ]
     },
     "execution_count": 51,
     "metadata": {},
     "output_type": "execute_result"
    }
   ],
   "source": [
    "paramUrl"
   ]
  },
  {
   "cell_type": "code",
   "execution_count": 52,
   "metadata": {},
   "outputs": [
    {
     "data": {
      "text/plain": [
       "str"
      ]
     },
     "execution_count": 52,
     "metadata": {},
     "output_type": "execute_result"
    }
   ],
   "source": [
    "type(paramUrl) # string url 전송방식은 항상 바이트 단위 "
   ]
  },
  {
   "cell_type": "code",
   "execution_count": 53,
   "metadata": {},
   "outputs": [],
   "source": [
    "paramBytes = paramUrl.encode(\"utf-8\")"
   ]
  },
  {
   "cell_type": "code",
   "execution_count": 54,
   "metadata": {},
   "outputs": [
    {
     "data": {
      "text/plain": [
       "bytes"
      ]
     },
     "execution_count": 54,
     "metadata": {},
     "output_type": "execute_result"
    }
   ],
   "source": [
    "type(paramBytes)"
   ]
  },
  {
   "cell_type": "code",
   "execution_count": 55,
   "metadata": {},
   "outputs": [
    {
     "name": "stdout",
     "output_type": "stream",
     "text": [
      "b'serviceKey=C9N9ExnIbd5esuobQ8zjDOi5p3iWoDQOhCRSlvgi4%252BgQEeLhRR4K3hDf%252BG3W%252BrZULxTVB3qUCrTxcAE43A6VNA%253D%253D&numOfRows=10&pageNo=1&startPage=1&sidoName=%EC%84%9C%EC%9A%B8&ver=1.3&_returnType=json'\n"
     ]
    }
   ],
   "source": [
    "print(paramBytes)"
   ]
  },
  {
   "cell_type": "code",
   "execution_count": 61,
   "metadata": {},
   "outputs": [
    {
     "data": {
      "text/plain": [
       "str"
      ]
     },
     "execution_count": 61,
     "metadata": {},
     "output_type": "execute_result"
    }
   ],
   "source": [
    "type(url)"
   ]
  },
  {
   "cell_type": "code",
   "execution_count": 56,
   "metadata": {},
   "outputs": [],
   "source": [
    "req = urllib.request.Request(url, data=paramBytes)"
   ]
  },
  {
   "cell_type": "code",
   "execution_count": 62,
   "metadata": {},
   "outputs": [
    {
     "data": {
      "text/plain": [
       "urllib.request.Request"
      ]
     },
     "execution_count": 62,
     "metadata": {},
     "output_type": "execute_result"
    }
   ],
   "source": [
    "type(req)"
   ]
  },
  {
   "cell_type": "code",
   "execution_count": 57,
   "metadata": {},
   "outputs": [],
   "source": [
    "res = urllib.request.urlopen(req)"
   ]
  },
  {
   "cell_type": "code",
   "execution_count": 63,
   "metadata": {},
   "outputs": [
    {
     "data": {
      "text/plain": [
       "http.client.HTTPResponse"
      ]
     },
     "execution_count": 63,
     "metadata": {},
     "output_type": "execute_result"
    }
   ],
   "source": [
    "type(res)"
   ]
  },
  {
   "cell_type": "code",
   "execution_count": 58,
   "metadata": {},
   "outputs": [],
   "source": [
    "result = res.read()"
   ]
  },
  {
   "cell_type": "code",
   "execution_count": 59,
   "metadata": {},
   "outputs": [
    {
     "data": {
      "text/plain": [
       "b'<?xml version=\"1.0\" encoding=\"UTF-8\"?>\\r\\n\\r\\n\\r\\n\\r\\n\\r\\n<response>\\r\\n\\t<header>\\r\\n\\t\\t<resultCode>30</resultCode>\\r\\n\\t\\t<resultMsg>SERVICE KEY IS NOT REGISTERED ERROR.</resultMsg>\\r\\n\\t</header>\\r\\n</response>\\r\\n'"
      ]
     },
     "execution_count": 59,
     "metadata": {},
     "output_type": "execute_result"
    }
   ],
   "source": [
    "result #server쪽에서 service key가 안맞는다고 워링 나옴 .....%부분부터 머신이 알아서 해석하기 때문에 .... 후~~~~~"
   ]
  },
  {
   "cell_type": "code",
   "execution_count": 60,
   "metadata": {},
   "outputs": [
    {
     "data": {
      "text/plain": [
       "'C9N9ExnIbd5esuobQ8zjDOi5p3iWoDQOhCRSlvgi4+gQEeLhRR4K3hDf+G3W+rZULxTVB3qUCrTxcAE43A6VNA=='"
      ]
     },
     "execution_count": 60,
     "metadata": {},
     "output_type": "execute_result"
    }
   ],
   "source": [
    "params[\"serviceKey\"] = urllib.parse.unquote( params[\"serviceKey\"] )\n",
    "params[\"serviceKey\"]"
   ]
  },
  {
   "cell_type": "code",
   "execution_count": 79,
   "metadata": {},
   "outputs": [
    {
     "data": {
      "text/plain": [
       "str"
      ]
     },
     "execution_count": 79,
     "metadata": {},
     "output_type": "execute_result"
    }
   ],
   "source": [
    "type(params[\"serviceKey\"])"
   ]
  },
  {
   "cell_type": "code",
   "execution_count": 64,
   "metadata": {},
   "outputs": [
    {
     "data": {
      "text/plain": [
       "'serviceKey=C9N9ExnIbd5esuobQ8zjDOi5p3iWoDQOhCRSlvgi4%2BgQEeLhRR4K3hDf%2BG3W%2BrZULxTVB3qUCrTxcAE43A6VNA%3D%3D&numOfRows=10&pageNo=1&startPage=1&sidoName=%EC%84%9C%EC%9A%B8&ver=1.3&_returnType=json'"
      ]
     },
     "execution_count": 64,
     "metadata": {},
     "output_type": "execute_result"
    }
   ],
   "source": [
    "paramUrl = parse.urlencode(params)\n",
    "paramUrl"
   ]
  },
  {
   "cell_type": "code",
   "execution_count": 65,
   "metadata": {},
   "outputs": [],
   "source": [
    "paramBytes = paramUrl.encode(\"utf-8\")"
   ]
  },
  {
   "cell_type": "code",
   "execution_count": 66,
   "metadata": {},
   "outputs": [],
   "source": [
    "req = urllib.request.Request(url, data=paramBytes)"
   ]
  },
  {
   "cell_type": "code",
   "execution_count": 67,
   "metadata": {
    "scrolled": true
   },
   "outputs": [
    {
     "name": "stdout",
     "output_type": "stream",
     "text": [
      "<urllib.request.Request object at 0x000002BC37DFE128>\n"
     ]
    }
   ],
   "source": [
    "print(req)"
   ]
  },
  {
   "cell_type": "code",
   "execution_count": 68,
   "metadata": {},
   "outputs": [],
   "source": [
    "res = urllib.request.urlopen(req)"
   ]
  },
  {
   "cell_type": "code",
   "execution_count": 69,
   "metadata": {},
   "outputs": [],
   "source": [
    "result = res.read()"
   ]
  },
  {
   "cell_type": "code",
   "execution_count": 70,
   "metadata": {},
   "outputs": [
    {
     "data": {
      "text/plain": [
       "b'{\"list\":[{\"_returnType\":\"json\",\"coGrade\":\"1\",\"coValue\":\"0.4\",\"dataTerm\":\"\",\"dataTime\":\"2018-07-30 21:00\",\"khaiGrade\":\"2\",\"khaiValue\":\"65\",\"mangName\":\"\\xeb\\x8f\\x84\\xec\\x8b\\x9c\\xeb\\x8c\\x80\\xea\\xb8\\xb0\",\"no2Grade\":\"2\",\"no2Value\":\"0.039\",\"numOfRows\":\"10\",\"o3Grade\":\"1\",\"o3Value\":\"0.010\",\"pageNo\":\"1\",\"pm10Grade\":\"1\",\"pm10Grade1h\":\"1\",\"pm10Value\":\"16\",\"pm10Value24\":\"11\",\"pm25Grade\":\"1\",\"pm25Grade1h\":\"1\",\"pm25Value\":\"11\",\"pm25Value24\":\"8\",\"resultCode\":\"\",\"resultMsg\":\"\",\"rnum\":0,\"serviceKey\":\"\",\"sidoName\":\"\",\"so2Grade\":\"1\",\"so2Value\":\"0.003\",\"stationCode\":\"\",\"stationName\":\"\\xec\\xa4\\x91\\xea\\xb5\\xac\",\"totalCount\":\"\",\"ver\":\"\"},{\"_returnType\":\"json\",\"coGrade\":\"1\",\"coValue\":\"0.3\",\"dataTerm\":\"\",\"dataTime\":\"2018-07-30 21:00\",\"khaiGrade\":\"2\",\"khaiValue\":\"56\",\"mangName\":\"\\xeb\\x8f\\x84\\xeb\\xa1\\x9c\\xeb\\xb3\\x80\\xeb\\x8c\\x80\\xea\\xb8\\xb0\",\"no2Grade\":\"2\",\"no2Value\":\"0.034\",\"numOfRows\":\"10\",\"o3Grade\":\"1\",\"o3Value\":\"0.014\",\"pageNo\":\"1\",\"pm10Grade\":\"2\",\"pm10Grade1h\":\"1\",\"pm10Value\":\"30\",\"pm10Value24\":\"32\",\"pm25Grade\":\"1\",\"pm25Grade1h\":\"2\",\"pm25Value\":\"18\",\"pm25Value24\":\"14\",\"resultCode\":\"\",\"resultMsg\":\"\",\"rnum\":0,\"serviceKey\":\"\",\"sidoName\":\"\",\"so2Grade\":\"1\",\"so2Value\":\"0.004\",\"stationCode\":\"\",\"stationName\":\"\\xed\\x95\\x9c\\xea\\xb0\\x95\\xeb\\x8c\\x80\\xeb\\xa1\\x9c\",\"totalCount\":\"\",\"ver\":\"\"},{\"_returnType\":\"json\",\"coGrade\":\"1\",\"coValue\":\"0.4\",\"dataTerm\":\"\",\"dataTime\":\"2018-07-30 21:00\",\"khaiGrade\":\"1\",\"khaiValue\":\"47\",\"mangName\":\"\\xeb\\x8f\\x84\\xec\\x8b\\x9c\\xeb\\x8c\\x80\\xea\\xb8\\xb0\",\"no2Grade\":\"1\",\"no2Value\":\"0.028\",\"numOfRows\":\"10\",\"o3Grade\":\"1\",\"o3Value\":\"0.018\",\"pageNo\":\"1\",\"pm10Grade\":\"1\",\"pm10Grade1h\":\"1\",\"pm10Value\":\"11\",\"pm10Value24\":\"10\",\"pm25Grade\":\"1\",\"pm25Grade1h\":\"1\",\"pm25Value\":\"7\",\"pm25Value24\":\"6\",\"resultCode\":\"\",\"resultMsg\":\"\",\"rnum\":0,\"serviceKey\":\"\",\"sidoName\":\"\",\"so2Grade\":\"1\",\"so2Value\":\"0.003\",\"stationCode\":\"\",\"stationName\":\"\\xec\\xa2\\x85\\xeb\\xa1\\x9c\\xea\\xb5\\xac\",\"totalCount\":\"\",\"ver\":\"\"},{\"_returnType\":\"json\",\"coGrade\":\"1\",\"coValue\":\"0.4\",\"dataTerm\":\"\",\"dataTime\":\"2018-07-30 21:00\",\"khaiGrade\":\"2\",\"khaiValue\":\"59\",\"mangName\":\"\\xeb\\x8f\\x84\\xeb\\xa1\\x9c\\xeb\\xb3\\x80\\xeb\\x8c\\x80\\xea\\xb8\\xb0\",\"no2Grade\":\"2\",\"no2Value\":\"0.036\",\"numOfRows\":\"10\",\"o3Grade\":\"1\",\"o3Value\":\"0.015\",\"pageNo\":\"1\",\"pm10Grade\":\"1\",\"pm10Grade1h\":\"1\",\"pm10Value\":\"9\",\"pm10Value24\":\"14\",\"pm25Grade\":\"1\",\"pm25Grade1h\":\"1\",\"pm25Value\":\"3\",\"pm25Value24\":\"10\",\"resultCode\":\"\",\"resultMsg\":\"\",\"rnum\":0,\"serviceKey\":\"\",\"sidoName\":\"\",\"so2Grade\":\"1\",\"so2Value\":\"0.006\",\"stationCode\":\"\",\"stationName\":\"\\xec\\xb2\\xad\\xea\\xb3\\x84\\xec\\xb2\\x9c\\xeb\\xa1\\x9c\",\"totalCount\":\"\",\"ver\":\"\"},{\"_returnType\":\"json\",\"coGrade\":\"1\",\"coValue\":\"0.5\",\"dataTerm\":\"\",\"dataTime\":\"2018-07-30 21:00\",\"khaiGrade\":\"2\",\"khaiValue\":\"95\",\"mangName\":\"\\xeb\\x8f\\x84\\xeb\\xa1\\x9c\\xeb\\xb3\\x80\\xeb\\x8c\\x80\\xea\\xb8\\xb0\",\"no2Grade\":\"2\",\"no2Value\":\"0.057\",\"numOfRows\":\"10\",\"o3Grade\":\"1\",\"o3Value\":\"0.006\",\"pageNo\":\"1\",\"pm10Grade\":\"1\",\"pm10Grade1h\":\"1\",\"pm10Value\":\"10\",\"pm10Value24\":\"11\",\"pm25Grade\":\"1\",\"pm25Grade1h\":\"1\",\"pm25Value\":\"9\",\"pm25Value24\":\"7\",\"resultCode\":\"\",\"resultMsg\":\"\",\"rnum\":0,\"serviceKey\":\"\",\"sidoName\":\"\",\"so2Grade\":\"1\",\"so2Value\":\"0.003\",\"stationCode\":\"\",\"stationName\":\"\\xec\\xa2\\x85\\xeb\\xa1\\x9c\",\"totalCount\":\"\",\"ver\":\"\"},{\"_returnType\":\"json\",\"coGrade\":\"1\",\"coValue\":\"0.3\",\"dataTerm\":\"\",\"dataTime\":\"2018-07-30 21:00\",\"khaiGrade\":\"1\",\"khaiValue\":\"38\",\"mangName\":\"\\xeb\\x8f\\x84\\xec\\x8b\\x9c\\xeb\\x8c\\x80\\xea\\xb8\\xb0\",\"no2Grade\":\"1\",\"no2Value\":\"0.016\",\"numOfRows\":\"10\",\"o3Grade\":\"1\",\"o3Value\":\"0.023\",\"pageNo\":\"1\",\"pm10Grade\":\"1\",\"pm10Grade1h\":\"1\",\"pm10Value\":\"5\",\"pm10Value24\":\"6\",\"pm25Grade\":\"1\",\"pm25Grade1h\":\"1\",\"pm25Value\":\"4\",\"pm25Value24\":\"5\",\"resultCode\":\"\",\"resultMsg\":\"\",\"rnum\":0,\"serviceKey\":\"\",\"sidoName\":\"\",\"so2Grade\":\"1\",\"so2Value\":\"0.002\",\"stationCode\":\"\",\"stationName\":\"\\xec\\x9a\\xa9\\xec\\x82\\xb0\\xea\\xb5\\xac\",\"totalCount\":\"\",\"ver\":\"\"},{\"_returnType\":\"json\",\"coGrade\":\"1\",\"coValue\":\"0.4\",\"dataTerm\":\"\",\"dataTime\":\"2018-07-30 21:00\",\"khaiGrade\":\"1\",\"khaiValue\":\"37\",\"mangName\":\"\\xeb\\x8f\\x84\\xec\\x8b\\x9c\\xeb\\x8c\\x80\\xea\\xb8\\xb0\",\"no2Grade\":\"1\",\"no2Value\":\"0.022\",\"numOfRows\":\"10\",\"o3Grade\":\"1\",\"o3Value\":\"0.015\",\"pageNo\":\"1\",\"pm10Grade\":\"1\",\"pm10Grade1h\":\"1\",\"pm10Value\":\"11\",\"pm10Value24\":\"8\",\"pm25Grade\":\"1\",\"pm25Grade1h\":\"1\",\"pm25Value\":\"6\",\"pm25Value24\":\"4\",\"resultCode\":\"\",\"resultMsg\":\"\",\"rnum\":0,\"serviceKey\":\"\",\"sidoName\":\"\",\"so2Grade\":\"1\",\"so2Value\":\"0.004\",\"stationCode\":\"\",\"stationName\":\"\\xea\\xb4\\x91\\xec\\xa7\\x84\\xea\\xb5\\xac\",\"totalCount\":\"\",\"ver\":\"\"},{\"_returnType\":\"json\",\"coGrade\":\"1\",\"coValue\":\"0.2\",\"dataTerm\":\"\",\"dataTime\":\"2018-07-30 21:00\",\"khaiGrade\":\"1\",\"khaiValue\":\"35\",\"mangName\":\"\\xeb\\x8f\\x84\\xec\\x8b\\x9c\\xeb\\x8c\\x80\\xea\\xb8\\xb0\",\"no2Grade\":\"1\",\"no2Value\":\"0.010\",\"numOfRows\":\"10\",\"o3Grade\":\"1\",\"o3Value\":\"0.021\",\"pageNo\":\"1\",\"pm10Grade\":\"1\",\"pm10Grade1h\":\"1\",\"pm10Value\":\"21\",\"pm10Value24\":\"15\",\"pm25Grade\":\"1\",\"pm25Grade1h\":\"1\",\"pm25Value\":\"7\",\"pm25Value24\":\"8\",\"resultCode\":\"\",\"resultMsg\":\"\",\"rnum\":0,\"serviceKey\":\"\",\"sidoName\":\"\",\"so2Grade\":\"1\",\"so2Value\":\"0.005\",\"stationCode\":\"\",\"stationName\":\"\\xec\\x84\\xb1\\xeb\\x8f\\x99\\xea\\xb5\\xac\",\"totalCount\":\"\",\"ver\":\"\"},{\"_returnType\":\"json\",\"coGrade\":\"1\",\"coValue\":\"0.1\",\"dataTerm\":\"\",\"dataTime\":\"2018-07-30 21:00\",\"khaiGrade\":\"1\",\"khaiValue\":\"35\",\"mangName\":\"\\xeb\\x8f\\x84\\xeb\\xa1\\x9c\\xeb\\xb3\\x80\\xeb\\x8c\\x80\\xea\\xb8\\xb0\",\"no2Grade\":\"1\",\"no2Value\":\"0.012\",\"numOfRows\":\"10\",\"o3Grade\":\"1\",\"o3Value\":\"0.021\",\"pageNo\":\"1\",\"pm10Grade\":\"1\",\"pm10Grade1h\":\"1\",\"pm10Value\":\"8\",\"pm10Value24\":\"9\",\"pm25Grade\":\"1\",\"pm25Grade1h\":\"1\",\"pm25Value\":\"3\",\"pm25Value24\":\"3\",\"resultCode\":\"\",\"resultMsg\":\"\",\"rnum\":0,\"serviceKey\":\"\",\"sidoName\":\"\",\"so2Grade\":\"1\",\"so2Value\":\"0.002\",\"stationCode\":\"\",\"stationName\":\"\\xea\\xb0\\x95\\xeb\\xb3\\x80\\xeb\\xb6\\x81\\xeb\\xa1\\x9c\",\"totalCount\":\"\",\"ver\":\"\"},{\"_returnType\":\"json\",\"coGrade\":\"1\",\"coValue\":\"0.3\",\"dataTerm\":\"\",\"dataTime\":\"2018-07-30 21:00\",\"khaiGrade\":\"1\",\"khaiValue\":\"33\",\"mangName\":\"\\xeb\\x8f\\x84\\xec\\x8b\\x9c\\xeb\\x8c\\x80\\xea\\xb8\\xb0\",\"no2Grade\":\"1\",\"no2Value\":\"0.016\",\"numOfRows\":\"10\",\"o3Grade\":\"1\",\"o3Value\":\"0.020\",\"pageNo\":\"1\",\"pm10Grade\":\"1\",\"pm10Grade1h\":\"1\",\"pm10Value\":\"11\",\"pm10Value24\":\"7\",\"pm25Grade\":\"1\",\"pm25Grade1h\":\"1\",\"pm25Value\":\"8\",\"pm25Value24\":\"5\",\"resultCode\":\"\",\"resultMsg\":\"\",\"rnum\":0,\"serviceKey\":\"\",\"sidoName\":\"\",\"so2Grade\":\"1\",\"so2Value\":\"0.006\",\"stationCode\":\"\",\"stationName\":\"\\xec\\xa4\\x91\\xeb\\x9e\\x91\\xea\\xb5\\xac\",\"totalCount\":\"\",\"ver\":\"\"}],\"parm\":{\"_returnType\":\"json\",\"coGrade\":\"\",\"coValue\":\"\",\"dataTerm\":\"\",\"dataTime\":\"\",\"khaiGrade\":\"\",\"khaiValue\":\"\",\"mangName\":\"\",\"no2Grade\":\"\",\"no2Value\":\"\",\"numOfRows\":\"10\",\"o3Grade\":\"\",\"o3Value\":\"\",\"pageNo\":\"1\",\"pm10Grade\":\"\",\"pm10Grade1h\":\"\",\"pm10Value\":\"\",\"pm10Value24\":\"\",\"pm25Grade\":\"\",\"pm25Grade1h\":\"\",\"pm25Value\":\"\",\"pm25Value24\":\"\",\"resultCode\":\"\",\"resultMsg\":\"\",\"rnum\":0,\"serviceKey\":\"C9N9ExnIbd5esuobQ8zjDOi5p3iWoDQOhCRSlvgi4+gQEeLhRR4K3hDf+G3W+rZULxTVB3qUCrTxcAE43A6VNA==\",\"sidoName\":\"\\xec\\x84\\x9c\\xec\\x9a\\xb8\",\"so2Grade\":\"\",\"so2Value\":\"\",\"stationCode\":\"\",\"stationName\":\"\",\"totalCount\":\"\",\"ver\":\"1.3\"},\"ArpltnInforInqireSvcVo\":{\"_returnType\":\"json\",\"coGrade\":\"\",\"coValue\":\"\",\"dataTerm\":\"\",\"dataTime\":\"\",\"khaiGrade\":\"\",\"khaiValue\":\"\",\"mangName\":\"\",\"no2Grade\":\"\",\"no2Value\":\"\",\"numOfRows\":\"10\",\"o3Grade\":\"\",\"o3Value\":\"\",\"pageNo\":\"1\",\"pm10Grade\":\"\",\"pm10Grade1h\":\"\",\"pm10Value\":\"\",\"pm10Value24\":\"\",\"pm25Grade\":\"\",\"pm25Grade1h\":\"\",\"pm25Value\":\"\",\"pm25Value24\":\"\",\"resultCode\":\"\",\"resultMsg\":\"\",\"rnum\":0,\"serviceKey\":\"C9N9ExnIbd5esuobQ8zjDOi5p3iWoDQOhCRSlvgi4+gQEeLhRR4K3hDf+G3W+rZULxTVB3qUCrTxcAE43A6VNA==\",\"sidoName\":\"\\xec\\x84\\x9c\\xec\\x9a\\xb8\",\"so2Grade\":\"\",\"so2Value\":\"\",\"stationCode\":\"\",\"stationName\":\"\",\"totalCount\":\"\",\"ver\":\"1.3\"},\"totalCount\":39}'"
      ]
     },
     "execution_count": 70,
     "metadata": {},
     "output_type": "execute_result"
    }
   ],
   "source": [
    "result"
   ]
  },
  {
   "cell_type": "code",
   "execution_count": 71,
   "metadata": {},
   "outputs": [
    {
     "data": {
      "text/plain": [
       "bytes"
      ]
     },
     "execution_count": 71,
     "metadata": {},
     "output_type": "execute_result"
    }
   ],
   "source": [
    "type(result)"
   ]
  },
  {
   "cell_type": "code",
   "execution_count": 72,
   "metadata": {},
   "outputs": [],
   "source": [
    "resultStr = result.decode(\"utf-8\")"
   ]
  },
  {
   "cell_type": "code",
   "execution_count": 73,
   "metadata": {},
   "outputs": [
    {
     "data": {
      "text/plain": [
       "'{\"list\":[{\"_returnType\":\"json\",\"coGrade\":\"1\",\"coValue\":\"0.4\",\"dataTerm\":\"\",\"dataTime\":\"2018-07-30 21:00\",\"khaiGrade\":\"2\",\"khaiValue\":\"65\",\"mangName\":\"도시대기\",\"no2Grade\":\"2\",\"no2Value\":\"0.039\",\"numOfRows\":\"10\",\"o3Grade\":\"1\",\"o3Value\":\"0.010\",\"pageNo\":\"1\",\"pm10Grade\":\"1\",\"pm10Grade1h\":\"1\",\"pm10Value\":\"16\",\"pm10Value24\":\"11\",\"pm25Grade\":\"1\",\"pm25Grade1h\":\"1\",\"pm25Value\":\"11\",\"pm25Value24\":\"8\",\"resultCode\":\"\",\"resultMsg\":\"\",\"rnum\":0,\"serviceKey\":\"\",\"sidoName\":\"\",\"so2Grade\":\"1\",\"so2Value\":\"0.003\",\"stationCode\":\"\",\"stationName\":\"중구\",\"totalCount\":\"\",\"ver\":\"\"},{\"_returnType\":\"json\",\"coGrade\":\"1\",\"coValue\":\"0.3\",\"dataTerm\":\"\",\"dataTime\":\"2018-07-30 21:00\",\"khaiGrade\":\"2\",\"khaiValue\":\"56\",\"mangName\":\"도로변대기\",\"no2Grade\":\"2\",\"no2Value\":\"0.034\",\"numOfRows\":\"10\",\"o3Grade\":\"1\",\"o3Value\":\"0.014\",\"pageNo\":\"1\",\"pm10Grade\":\"2\",\"pm10Grade1h\":\"1\",\"pm10Value\":\"30\",\"pm10Value24\":\"32\",\"pm25Grade\":\"1\",\"pm25Grade1h\":\"2\",\"pm25Value\":\"18\",\"pm25Value24\":\"14\",\"resultCode\":\"\",\"resultMsg\":\"\",\"rnum\":0,\"serviceKey\":\"\",\"sidoName\":\"\",\"so2Grade\":\"1\",\"so2Value\":\"0.004\",\"stationCode\":\"\",\"stationName\":\"한강대로\",\"totalCount\":\"\",\"ver\":\"\"},{\"_returnType\":\"json\",\"coGrade\":\"1\",\"coValue\":\"0.4\",\"dataTerm\":\"\",\"dataTime\":\"2018-07-30 21:00\",\"khaiGrade\":\"1\",\"khaiValue\":\"47\",\"mangName\":\"도시대기\",\"no2Grade\":\"1\",\"no2Value\":\"0.028\",\"numOfRows\":\"10\",\"o3Grade\":\"1\",\"o3Value\":\"0.018\",\"pageNo\":\"1\",\"pm10Grade\":\"1\",\"pm10Grade1h\":\"1\",\"pm10Value\":\"11\",\"pm10Value24\":\"10\",\"pm25Grade\":\"1\",\"pm25Grade1h\":\"1\",\"pm25Value\":\"7\",\"pm25Value24\":\"6\",\"resultCode\":\"\",\"resultMsg\":\"\",\"rnum\":0,\"serviceKey\":\"\",\"sidoName\":\"\",\"so2Grade\":\"1\",\"so2Value\":\"0.003\",\"stationCode\":\"\",\"stationName\":\"종로구\",\"totalCount\":\"\",\"ver\":\"\"},{\"_returnType\":\"json\",\"coGrade\":\"1\",\"coValue\":\"0.4\",\"dataTerm\":\"\",\"dataTime\":\"2018-07-30 21:00\",\"khaiGrade\":\"2\",\"khaiValue\":\"59\",\"mangName\":\"도로변대기\",\"no2Grade\":\"2\",\"no2Value\":\"0.036\",\"numOfRows\":\"10\",\"o3Grade\":\"1\",\"o3Value\":\"0.015\",\"pageNo\":\"1\",\"pm10Grade\":\"1\",\"pm10Grade1h\":\"1\",\"pm10Value\":\"9\",\"pm10Value24\":\"14\",\"pm25Grade\":\"1\",\"pm25Grade1h\":\"1\",\"pm25Value\":\"3\",\"pm25Value24\":\"10\",\"resultCode\":\"\",\"resultMsg\":\"\",\"rnum\":0,\"serviceKey\":\"\",\"sidoName\":\"\",\"so2Grade\":\"1\",\"so2Value\":\"0.006\",\"stationCode\":\"\",\"stationName\":\"청계천로\",\"totalCount\":\"\",\"ver\":\"\"},{\"_returnType\":\"json\",\"coGrade\":\"1\",\"coValue\":\"0.5\",\"dataTerm\":\"\",\"dataTime\":\"2018-07-30 21:00\",\"khaiGrade\":\"2\",\"khaiValue\":\"95\",\"mangName\":\"도로변대기\",\"no2Grade\":\"2\",\"no2Value\":\"0.057\",\"numOfRows\":\"10\",\"o3Grade\":\"1\",\"o3Value\":\"0.006\",\"pageNo\":\"1\",\"pm10Grade\":\"1\",\"pm10Grade1h\":\"1\",\"pm10Value\":\"10\",\"pm10Value24\":\"11\",\"pm25Grade\":\"1\",\"pm25Grade1h\":\"1\",\"pm25Value\":\"9\",\"pm25Value24\":\"7\",\"resultCode\":\"\",\"resultMsg\":\"\",\"rnum\":0,\"serviceKey\":\"\",\"sidoName\":\"\",\"so2Grade\":\"1\",\"so2Value\":\"0.003\",\"stationCode\":\"\",\"stationName\":\"종로\",\"totalCount\":\"\",\"ver\":\"\"},{\"_returnType\":\"json\",\"coGrade\":\"1\",\"coValue\":\"0.3\",\"dataTerm\":\"\",\"dataTime\":\"2018-07-30 21:00\",\"khaiGrade\":\"1\",\"khaiValue\":\"38\",\"mangName\":\"도시대기\",\"no2Grade\":\"1\",\"no2Value\":\"0.016\",\"numOfRows\":\"10\",\"o3Grade\":\"1\",\"o3Value\":\"0.023\",\"pageNo\":\"1\",\"pm10Grade\":\"1\",\"pm10Grade1h\":\"1\",\"pm10Value\":\"5\",\"pm10Value24\":\"6\",\"pm25Grade\":\"1\",\"pm25Grade1h\":\"1\",\"pm25Value\":\"4\",\"pm25Value24\":\"5\",\"resultCode\":\"\",\"resultMsg\":\"\",\"rnum\":0,\"serviceKey\":\"\",\"sidoName\":\"\",\"so2Grade\":\"1\",\"so2Value\":\"0.002\",\"stationCode\":\"\",\"stationName\":\"용산구\",\"totalCount\":\"\",\"ver\":\"\"},{\"_returnType\":\"json\",\"coGrade\":\"1\",\"coValue\":\"0.4\",\"dataTerm\":\"\",\"dataTime\":\"2018-07-30 21:00\",\"khaiGrade\":\"1\",\"khaiValue\":\"37\",\"mangName\":\"도시대기\",\"no2Grade\":\"1\",\"no2Value\":\"0.022\",\"numOfRows\":\"10\",\"o3Grade\":\"1\",\"o3Value\":\"0.015\",\"pageNo\":\"1\",\"pm10Grade\":\"1\",\"pm10Grade1h\":\"1\",\"pm10Value\":\"11\",\"pm10Value24\":\"8\",\"pm25Grade\":\"1\",\"pm25Grade1h\":\"1\",\"pm25Value\":\"6\",\"pm25Value24\":\"4\",\"resultCode\":\"\",\"resultMsg\":\"\",\"rnum\":0,\"serviceKey\":\"\",\"sidoName\":\"\",\"so2Grade\":\"1\",\"so2Value\":\"0.004\",\"stationCode\":\"\",\"stationName\":\"광진구\",\"totalCount\":\"\",\"ver\":\"\"},{\"_returnType\":\"json\",\"coGrade\":\"1\",\"coValue\":\"0.2\",\"dataTerm\":\"\",\"dataTime\":\"2018-07-30 21:00\",\"khaiGrade\":\"1\",\"khaiValue\":\"35\",\"mangName\":\"도시대기\",\"no2Grade\":\"1\",\"no2Value\":\"0.010\",\"numOfRows\":\"10\",\"o3Grade\":\"1\",\"o3Value\":\"0.021\",\"pageNo\":\"1\",\"pm10Grade\":\"1\",\"pm10Grade1h\":\"1\",\"pm10Value\":\"21\",\"pm10Value24\":\"15\",\"pm25Grade\":\"1\",\"pm25Grade1h\":\"1\",\"pm25Value\":\"7\",\"pm25Value24\":\"8\",\"resultCode\":\"\",\"resultMsg\":\"\",\"rnum\":0,\"serviceKey\":\"\",\"sidoName\":\"\",\"so2Grade\":\"1\",\"so2Value\":\"0.005\",\"stationCode\":\"\",\"stationName\":\"성동구\",\"totalCount\":\"\",\"ver\":\"\"},{\"_returnType\":\"json\",\"coGrade\":\"1\",\"coValue\":\"0.1\",\"dataTerm\":\"\",\"dataTime\":\"2018-07-30 21:00\",\"khaiGrade\":\"1\",\"khaiValue\":\"35\",\"mangName\":\"도로변대기\",\"no2Grade\":\"1\",\"no2Value\":\"0.012\",\"numOfRows\":\"10\",\"o3Grade\":\"1\",\"o3Value\":\"0.021\",\"pageNo\":\"1\",\"pm10Grade\":\"1\",\"pm10Grade1h\":\"1\",\"pm10Value\":\"8\",\"pm10Value24\":\"9\",\"pm25Grade\":\"1\",\"pm25Grade1h\":\"1\",\"pm25Value\":\"3\",\"pm25Value24\":\"3\",\"resultCode\":\"\",\"resultMsg\":\"\",\"rnum\":0,\"serviceKey\":\"\",\"sidoName\":\"\",\"so2Grade\":\"1\",\"so2Value\":\"0.002\",\"stationCode\":\"\",\"stationName\":\"강변북로\",\"totalCount\":\"\",\"ver\":\"\"},{\"_returnType\":\"json\",\"coGrade\":\"1\",\"coValue\":\"0.3\",\"dataTerm\":\"\",\"dataTime\":\"2018-07-30 21:00\",\"khaiGrade\":\"1\",\"khaiValue\":\"33\",\"mangName\":\"도시대기\",\"no2Grade\":\"1\",\"no2Value\":\"0.016\",\"numOfRows\":\"10\",\"o3Grade\":\"1\",\"o3Value\":\"0.020\",\"pageNo\":\"1\",\"pm10Grade\":\"1\",\"pm10Grade1h\":\"1\",\"pm10Value\":\"11\",\"pm10Value24\":\"7\",\"pm25Grade\":\"1\",\"pm25Grade1h\":\"1\",\"pm25Value\":\"8\",\"pm25Value24\":\"5\",\"resultCode\":\"\",\"resultMsg\":\"\",\"rnum\":0,\"serviceKey\":\"\",\"sidoName\":\"\",\"so2Grade\":\"1\",\"so2Value\":\"0.006\",\"stationCode\":\"\",\"stationName\":\"중랑구\",\"totalCount\":\"\",\"ver\":\"\"}],\"parm\":{\"_returnType\":\"json\",\"coGrade\":\"\",\"coValue\":\"\",\"dataTerm\":\"\",\"dataTime\":\"\",\"khaiGrade\":\"\",\"khaiValue\":\"\",\"mangName\":\"\",\"no2Grade\":\"\",\"no2Value\":\"\",\"numOfRows\":\"10\",\"o3Grade\":\"\",\"o3Value\":\"\",\"pageNo\":\"1\",\"pm10Grade\":\"\",\"pm10Grade1h\":\"\",\"pm10Value\":\"\",\"pm10Value24\":\"\",\"pm25Grade\":\"\",\"pm25Grade1h\":\"\",\"pm25Value\":\"\",\"pm25Value24\":\"\",\"resultCode\":\"\",\"resultMsg\":\"\",\"rnum\":0,\"serviceKey\":\"C9N9ExnIbd5esuobQ8zjDOi5p3iWoDQOhCRSlvgi4+gQEeLhRR4K3hDf+G3W+rZULxTVB3qUCrTxcAE43A6VNA==\",\"sidoName\":\"서울\",\"so2Grade\":\"\",\"so2Value\":\"\",\"stationCode\":\"\",\"stationName\":\"\",\"totalCount\":\"\",\"ver\":\"1.3\"},\"ArpltnInforInqireSvcVo\":{\"_returnType\":\"json\",\"coGrade\":\"\",\"coValue\":\"\",\"dataTerm\":\"\",\"dataTime\":\"\",\"khaiGrade\":\"\",\"khaiValue\":\"\",\"mangName\":\"\",\"no2Grade\":\"\",\"no2Value\":\"\",\"numOfRows\":\"10\",\"o3Grade\":\"\",\"o3Value\":\"\",\"pageNo\":\"1\",\"pm10Grade\":\"\",\"pm10Grade1h\":\"\",\"pm10Value\":\"\",\"pm10Value24\":\"\",\"pm25Grade\":\"\",\"pm25Grade1h\":\"\",\"pm25Value\":\"\",\"pm25Value24\":\"\",\"resultCode\":\"\",\"resultMsg\":\"\",\"rnum\":0,\"serviceKey\":\"C9N9ExnIbd5esuobQ8zjDOi5p3iWoDQOhCRSlvgi4+gQEeLhRR4K3hDf+G3W+rZULxTVB3qUCrTxcAE43A6VNA==\",\"sidoName\":\"서울\",\"so2Grade\":\"\",\"so2Value\":\"\",\"stationCode\":\"\",\"stationName\":\"\",\"totalCount\":\"\",\"ver\":\"1.3\"},\"totalCount\":39}'"
      ]
     },
     "execution_count": 73,
     "metadata": {},
     "output_type": "execute_result"
    }
   ],
   "source": [
    "resultStr"
   ]
  },
  {
   "cell_type": "code",
   "execution_count": 74,
   "metadata": {},
   "outputs": [],
   "source": [
    "resultObj = json.loads(resultStr)"
   ]
  },
  {
   "cell_type": "code",
   "execution_count": 75,
   "metadata": {},
   "outputs": [
    {
     "name": "stdout",
     "output_type": "stream",
     "text": [
      "list [{'_returnType': 'json', 'coGrade': '1', 'coValue': '0.4', 'dataTerm': '', 'dataTime': '2018-07-30 21:00', 'khaiGrade': '2', 'khaiValue': '65', 'mangName': '도시대기', 'no2Grade': '2', 'no2Value': '0.039', 'numOfRows': '10', 'o3Grade': '1', 'o3Value': '0.010', 'pageNo': '1', 'pm10Grade': '1', 'pm10Grade1h': '1', 'pm10Value': '16', 'pm10Value24': '11', 'pm25Grade': '1', 'pm25Grade1h': '1', 'pm25Value': '11', 'pm25Value24': '8', 'resultCode': '', 'resultMsg': '', 'rnum': 0, 'serviceKey': '', 'sidoName': '', 'so2Grade': '1', 'so2Value': '0.003', 'stationCode': '', 'stationName': '중구', 'totalCount': '', 'ver': ''}, {'_returnType': 'json', 'coGrade': '1', 'coValue': '0.3', 'dataTerm': '', 'dataTime': '2018-07-30 21:00', 'khaiGrade': '2', 'khaiValue': '56', 'mangName': '도로변대기', 'no2Grade': '2', 'no2Value': '0.034', 'numOfRows': '10', 'o3Grade': '1', 'o3Value': '0.014', 'pageNo': '1', 'pm10Grade': '2', 'pm10Grade1h': '1', 'pm10Value': '30', 'pm10Value24': '32', 'pm25Grade': '1', 'pm25Grade1h': '2', 'pm25Value': '18', 'pm25Value24': '14', 'resultCode': '', 'resultMsg': '', 'rnum': 0, 'serviceKey': '', 'sidoName': '', 'so2Grade': '1', 'so2Value': '0.004', 'stationCode': '', 'stationName': '한강대로', 'totalCount': '', 'ver': ''}, {'_returnType': 'json', 'coGrade': '1', 'coValue': '0.4', 'dataTerm': '', 'dataTime': '2018-07-30 21:00', 'khaiGrade': '1', 'khaiValue': '47', 'mangName': '도시대기', 'no2Grade': '1', 'no2Value': '0.028', 'numOfRows': '10', 'o3Grade': '1', 'o3Value': '0.018', 'pageNo': '1', 'pm10Grade': '1', 'pm10Grade1h': '1', 'pm10Value': '11', 'pm10Value24': '10', 'pm25Grade': '1', 'pm25Grade1h': '1', 'pm25Value': '7', 'pm25Value24': '6', 'resultCode': '', 'resultMsg': '', 'rnum': 0, 'serviceKey': '', 'sidoName': '', 'so2Grade': '1', 'so2Value': '0.003', 'stationCode': '', 'stationName': '종로구', 'totalCount': '', 'ver': ''}, {'_returnType': 'json', 'coGrade': '1', 'coValue': '0.4', 'dataTerm': '', 'dataTime': '2018-07-30 21:00', 'khaiGrade': '2', 'khaiValue': '59', 'mangName': '도로변대기', 'no2Grade': '2', 'no2Value': '0.036', 'numOfRows': '10', 'o3Grade': '1', 'o3Value': '0.015', 'pageNo': '1', 'pm10Grade': '1', 'pm10Grade1h': '1', 'pm10Value': '9', 'pm10Value24': '14', 'pm25Grade': '1', 'pm25Grade1h': '1', 'pm25Value': '3', 'pm25Value24': '10', 'resultCode': '', 'resultMsg': '', 'rnum': 0, 'serviceKey': '', 'sidoName': '', 'so2Grade': '1', 'so2Value': '0.006', 'stationCode': '', 'stationName': '청계천로', 'totalCount': '', 'ver': ''}, {'_returnType': 'json', 'coGrade': '1', 'coValue': '0.5', 'dataTerm': '', 'dataTime': '2018-07-30 21:00', 'khaiGrade': '2', 'khaiValue': '95', 'mangName': '도로변대기', 'no2Grade': '2', 'no2Value': '0.057', 'numOfRows': '10', 'o3Grade': '1', 'o3Value': '0.006', 'pageNo': '1', 'pm10Grade': '1', 'pm10Grade1h': '1', 'pm10Value': '10', 'pm10Value24': '11', 'pm25Grade': '1', 'pm25Grade1h': '1', 'pm25Value': '9', 'pm25Value24': '7', 'resultCode': '', 'resultMsg': '', 'rnum': 0, 'serviceKey': '', 'sidoName': '', 'so2Grade': '1', 'so2Value': '0.003', 'stationCode': '', 'stationName': '종로', 'totalCount': '', 'ver': ''}, {'_returnType': 'json', 'coGrade': '1', 'coValue': '0.3', 'dataTerm': '', 'dataTime': '2018-07-30 21:00', 'khaiGrade': '1', 'khaiValue': '38', 'mangName': '도시대기', 'no2Grade': '1', 'no2Value': '0.016', 'numOfRows': '10', 'o3Grade': '1', 'o3Value': '0.023', 'pageNo': '1', 'pm10Grade': '1', 'pm10Grade1h': '1', 'pm10Value': '5', 'pm10Value24': '6', 'pm25Grade': '1', 'pm25Grade1h': '1', 'pm25Value': '4', 'pm25Value24': '5', 'resultCode': '', 'resultMsg': '', 'rnum': 0, 'serviceKey': '', 'sidoName': '', 'so2Grade': '1', 'so2Value': '0.002', 'stationCode': '', 'stationName': '용산구', 'totalCount': '', 'ver': ''}, {'_returnType': 'json', 'coGrade': '1', 'coValue': '0.4', 'dataTerm': '', 'dataTime': '2018-07-30 21:00', 'khaiGrade': '1', 'khaiValue': '37', 'mangName': '도시대기', 'no2Grade': '1', 'no2Value': '0.022', 'numOfRows': '10', 'o3Grade': '1', 'o3Value': '0.015', 'pageNo': '1', 'pm10Grade': '1', 'pm10Grade1h': '1', 'pm10Value': '11', 'pm10Value24': '8', 'pm25Grade': '1', 'pm25Grade1h': '1', 'pm25Value': '6', 'pm25Value24': '4', 'resultCode': '', 'resultMsg': '', 'rnum': 0, 'serviceKey': '', 'sidoName': '', 'so2Grade': '1', 'so2Value': '0.004', 'stationCode': '', 'stationName': '광진구', 'totalCount': '', 'ver': ''}, {'_returnType': 'json', 'coGrade': '1', 'coValue': '0.2', 'dataTerm': '', 'dataTime': '2018-07-30 21:00', 'khaiGrade': '1', 'khaiValue': '35', 'mangName': '도시대기', 'no2Grade': '1', 'no2Value': '0.010', 'numOfRows': '10', 'o3Grade': '1', 'o3Value': '0.021', 'pageNo': '1', 'pm10Grade': '1', 'pm10Grade1h': '1', 'pm10Value': '21', 'pm10Value24': '15', 'pm25Grade': '1', 'pm25Grade1h': '1', 'pm25Value': '7', 'pm25Value24': '8', 'resultCode': '', 'resultMsg': '', 'rnum': 0, 'serviceKey': '', 'sidoName': '', 'so2Grade': '1', 'so2Value': '0.005', 'stationCode': '', 'stationName': '성동구', 'totalCount': '', 'ver': ''}, {'_returnType': 'json', 'coGrade': '1', 'coValue': '0.1', 'dataTerm': '', 'dataTime': '2018-07-30 21:00', 'khaiGrade': '1', 'khaiValue': '35', 'mangName': '도로변대기', 'no2Grade': '1', 'no2Value': '0.012', 'numOfRows': '10', 'o3Grade': '1', 'o3Value': '0.021', 'pageNo': '1', 'pm10Grade': '1', 'pm10Grade1h': '1', 'pm10Value': '8', 'pm10Value24': '9', 'pm25Grade': '1', 'pm25Grade1h': '1', 'pm25Value': '3', 'pm25Value24': '3', 'resultCode': '', 'resultMsg': '', 'rnum': 0, 'serviceKey': '', 'sidoName': '', 'so2Grade': '1', 'so2Value': '0.002', 'stationCode': '', 'stationName': '강변북로', 'totalCount': '', 'ver': ''}, {'_returnType': 'json', 'coGrade': '1', 'coValue': '0.3', 'dataTerm': '', 'dataTime': '2018-07-30 21:00', 'khaiGrade': '1', 'khaiValue': '33', 'mangName': '도시대기', 'no2Grade': '1', 'no2Value': '0.016', 'numOfRows': '10', 'o3Grade': '1', 'o3Value': '0.020', 'pageNo': '1', 'pm10Grade': '1', 'pm10Grade1h': '1', 'pm10Value': '11', 'pm10Value24': '7', 'pm25Grade': '1', 'pm25Grade1h': '1', 'pm25Value': '8', 'pm25Value24': '5', 'resultCode': '', 'resultMsg': '', 'rnum': 0, 'serviceKey': '', 'sidoName': '', 'so2Grade': '1', 'so2Value': '0.006', 'stationCode': '', 'stationName': '중랑구', 'totalCount': '', 'ver': ''}]\n",
      "<class 'list'>\n",
      "parm {'_returnType': 'json', 'coGrade': '', 'coValue': '', 'dataTerm': '', 'dataTime': '', 'khaiGrade': '', 'khaiValue': '', 'mangName': '', 'no2Grade': '', 'no2Value': '', 'numOfRows': '10', 'o3Grade': '', 'o3Value': '', 'pageNo': '1', 'pm10Grade': '', 'pm10Grade1h': '', 'pm10Value': '', 'pm10Value24': '', 'pm25Grade': '', 'pm25Grade1h': '', 'pm25Value': '', 'pm25Value24': '', 'resultCode': '', 'resultMsg': '', 'rnum': 0, 'serviceKey': 'C9N9ExnIbd5esuobQ8zjDOi5p3iWoDQOhCRSlvgi4+gQEeLhRR4K3hDf+G3W+rZULxTVB3qUCrTxcAE43A6VNA==', 'sidoName': '서울', 'so2Grade': '', 'so2Value': '', 'stationCode': '', 'stationName': '', 'totalCount': '', 'ver': '1.3'}\n",
      "<class 'dict'>\n",
      "ArpltnInforInqireSvcVo {'_returnType': 'json', 'coGrade': '', 'coValue': '', 'dataTerm': '', 'dataTime': '', 'khaiGrade': '', 'khaiValue': '', 'mangName': '', 'no2Grade': '', 'no2Value': '', 'numOfRows': '10', 'o3Grade': '', 'o3Value': '', 'pageNo': '1', 'pm10Grade': '', 'pm10Grade1h': '', 'pm10Value': '', 'pm10Value24': '', 'pm25Grade': '', 'pm25Grade1h': '', 'pm25Value': '', 'pm25Value24': '', 'resultCode': '', 'resultMsg': '', 'rnum': 0, 'serviceKey': 'C9N9ExnIbd5esuobQ8zjDOi5p3iWoDQOhCRSlvgi4+gQEeLhRR4K3hDf+G3W+rZULxTVB3qUCrTxcAE43A6VNA==', 'sidoName': '서울', 'so2Grade': '', 'so2Value': '', 'stationCode': '', 'stationName': '', 'totalCount': '', 'ver': '1.3'}\n",
      "<class 'dict'>\n",
      "totalCount 39\n",
      "<class 'int'>\n"
     ]
    }
   ],
   "source": [
    "for (k,v) in resultObj.items():\n",
    "    print(k,v)\n",
    "    print(type(v))"
   ]
  },
  {
   "cell_type": "markdown",
   "metadata": {},
   "source": [
    "# pymongo"
   ]
  },
  {
   "cell_type": "code",
   "execution_count": 37,
   "metadata": {},
   "outputs": [],
   "source": [
    "from pymongo import MongoClient"
   ]
  },
  {
   "cell_type": "code",
   "execution_count": 38,
   "metadata": {},
   "outputs": [],
   "source": [
    "client = MongoClient('127.0.0.1')"
   ]
  },
  {
   "cell_type": "code",
   "execution_count": 39,
   "metadata": {},
   "outputs": [
    {
     "data": {
      "text/plain": [
       "<pymongo.cursor.Cursor at 0x2a0dad13518>"
      ]
     },
     "execution_count": 39,
     "metadata": {},
     "output_type": "execute_result"
    }
   ],
   "source": [
    "client.air.info.find({})"
   ]
  },
  {
   "cell_type": "code",
   "execution_count": 43,
   "metadata": {},
   "outputs": [
    {
     "data": {
      "text/plain": [
       "[{'_returnType': 'json',\n",
       "  'coGrade': '1',\n",
       "  'coValue': '0.3',\n",
       "  'dataTerm': '',\n",
       "  'dataTime': '2018-07-18 11:00',\n",
       "  'khaiGrade': '2',\n",
       "  'khaiValue': '72',\n",
       "  'mangName': '도시대기',\n",
       "  'no2Grade': '1',\n",
       "  'no2Value': '0.024',\n",
       "  'numOfRows': '10',\n",
       "  'o3Grade': '1',\n",
       "  'o3Value': '0.017',\n",
       "  'pageNo': '1',\n",
       "  'pm10Grade': '2',\n",
       "  'pm10Grade1h': '1',\n",
       "  'pm10Value': '30',\n",
       "  'pm10Value24': '31',\n",
       "  'pm25Grade': '2',\n",
       "  'pm25Grade1h': '2',\n",
       "  'pm25Value': '28',\n",
       "  'pm25Value24': '24',\n",
       "  'resultCode': '',\n",
       "  'resultMsg': '',\n",
       "  'rnum': 0,\n",
       "  'serviceKey': '',\n",
       "  'sidoName': '',\n",
       "  'so2Grade': '1',\n",
       "  'so2Value': '0.003',\n",
       "  'stationCode': '',\n",
       "  'stationName': '중구',\n",
       "  'totalCount': '',\n",
       "  'ver': ''},\n",
       " {'_returnType': 'json',\n",
       "  'coGrade': '1',\n",
       "  'coValue': '0.5',\n",
       "  'dataTerm': '',\n",
       "  'dataTime': '2018-07-18 11:00',\n",
       "  'khaiGrade': '2',\n",
       "  'khaiValue': '73',\n",
       "  'mangName': '도로변대기',\n",
       "  'no2Grade': '2',\n",
       "  'no2Value': '0.044',\n",
       "  'numOfRows': '10',\n",
       "  'o3Grade': '1',\n",
       "  'o3Value': '0.011',\n",
       "  'pageNo': '1',\n",
       "  'pm10Grade': '2',\n",
       "  'pm10Grade1h': '2',\n",
       "  'pm10Value': '36',\n",
       "  'pm10Value24': '43',\n",
       "  'pm25Grade': '2',\n",
       "  'pm25Grade1h': '2',\n",
       "  'pm25Value': '28',\n",
       "  'pm25Value24': '27',\n",
       "  'resultCode': '',\n",
       "  'resultMsg': '',\n",
       "  'rnum': 0,\n",
       "  'serviceKey': '',\n",
       "  'sidoName': '',\n",
       "  'so2Grade': '1',\n",
       "  'so2Value': '0.005',\n",
       "  'stationCode': '',\n",
       "  'stationName': '한강대로',\n",
       "  'totalCount': '',\n",
       "  'ver': ''},\n",
       " {'_returnType': 'json',\n",
       "  'coGrade': '1',\n",
       "  'coValue': '0.4',\n",
       "  'dataTerm': '',\n",
       "  'dataTime': '2018-07-18 11:00',\n",
       "  'khaiGrade': '2',\n",
       "  'khaiValue': '77',\n",
       "  'mangName': '도시대기',\n",
       "  'no2Grade': '2',\n",
       "  'no2Value': '0.033',\n",
       "  'numOfRows': '10',\n",
       "  'o3Grade': '1',\n",
       "  'o3Value': '0.013',\n",
       "  'pageNo': '1',\n",
       "  'pm10Grade': '2',\n",
       "  'pm10Grade1h': '2',\n",
       "  'pm10Value': '37',\n",
       "  'pm10Value24': '31',\n",
       "  'pm25Grade': '2',\n",
       "  'pm25Grade1h': '2',\n",
       "  'pm25Value': '30',\n",
       "  'pm25Value24': '26',\n",
       "  'resultCode': '',\n",
       "  'resultMsg': '',\n",
       "  'rnum': 0,\n",
       "  'serviceKey': '',\n",
       "  'sidoName': '',\n",
       "  'so2Grade': '1',\n",
       "  'so2Value': '0.004',\n",
       "  'stationCode': '',\n",
       "  'stationName': '종로구',\n",
       "  'totalCount': '',\n",
       "  'ver': ''},\n",
       " {'_returnType': 'json',\n",
       "  'coGrade': '1',\n",
       "  'coValue': '0.5',\n",
       "  'dataTerm': '',\n",
       "  'dataTime': '2018-07-18 11:00',\n",
       "  'khaiGrade': '2',\n",
       "  'khaiValue': '85',\n",
       "  'mangName': '도로변대기',\n",
       "  'no2Grade': '2',\n",
       "  'no2Value': '0.038',\n",
       "  'numOfRows': '10',\n",
       "  'o3Grade': '1',\n",
       "  'o3Value': '0.015',\n",
       "  'pageNo': '1',\n",
       "  'pm10Grade': '2',\n",
       "  'pm10Grade1h': '2',\n",
       "  'pm10Value': '40',\n",
       "  'pm10Value24': '39',\n",
       "  'pm25Grade': '2',\n",
       "  'pm25Grade1h': '2',\n",
       "  'pm25Value': '35',\n",
       "  'pm25Value24': '29',\n",
       "  'resultCode': '',\n",
       "  'resultMsg': '',\n",
       "  'rnum': 0,\n",
       "  'serviceKey': '',\n",
       "  'sidoName': '',\n",
       "  'so2Grade': '1',\n",
       "  'so2Value': '0.006',\n",
       "  'stationCode': '',\n",
       "  'stationName': '청계천로',\n",
       "  'totalCount': '',\n",
       "  'ver': ''},\n",
       " {'_returnType': 'json',\n",
       "  'coGrade': '1',\n",
       "  'coValue': '0.4',\n",
       "  'dataTerm': '',\n",
       "  'dataTime': '2018-07-18 11:00',\n",
       "  'khaiGrade': '2',\n",
       "  'khaiValue': '74',\n",
       "  'mangName': '도로변대기',\n",
       "  'no2Grade': '2',\n",
       "  'no2Value': '0.034',\n",
       "  'numOfRows': '10',\n",
       "  'o3Grade': '1',\n",
       "  'o3Value': '0.012',\n",
       "  'pageNo': '1',\n",
       "  'pm10Grade': '2',\n",
       "  'pm10Grade1h': '2',\n",
       "  'pm10Value': '41',\n",
       "  'pm10Value24': '35',\n",
       "  'pm25Grade': '2',\n",
       "  'pm25Grade1h': '2',\n",
       "  'pm25Value': '28',\n",
       "  'pm25Value24': '25',\n",
       "  'resultCode': '',\n",
       "  'resultMsg': '',\n",
       "  'rnum': 0,\n",
       "  'serviceKey': '',\n",
       "  'sidoName': '',\n",
       "  'so2Grade': '1',\n",
       "  'so2Value': '0.004',\n",
       "  'stationCode': '',\n",
       "  'stationName': '종로',\n",
       "  'totalCount': '',\n",
       "  'ver': ''},\n",
       " {'_returnType': 'json',\n",
       "  'coGrade': '1',\n",
       "  'coValue': '0.4',\n",
       "  'dataTerm': '',\n",
       "  'dataTime': '2018-07-18 11:00',\n",
       "  'khaiGrade': '2',\n",
       "  'khaiValue': '77',\n",
       "  'mangName': '도시대기',\n",
       "  'no2Grade': '2',\n",
       "  'no2Value': '0.033',\n",
       "  'numOfRows': '10',\n",
       "  'o3Grade': '1',\n",
       "  'o3Value': '0.015',\n",
       "  'pageNo': '1',\n",
       "  'pm10Grade': '2',\n",
       "  'pm10Grade1h': '1',\n",
       "  'pm10Value': '30',\n",
       "  'pm10Value24': '32',\n",
       "  'pm25Grade': '2',\n",
       "  'pm25Grade1h': '2',\n",
       "  'pm25Value': '23',\n",
       "  'pm25Value24': '26',\n",
       "  'resultCode': '',\n",
       "  'resultMsg': '',\n",
       "  'rnum': 0,\n",
       "  'serviceKey': '',\n",
       "  'sidoName': '',\n",
       "  'so2Grade': '1',\n",
       "  'so2Value': '0.003',\n",
       "  'stationCode': '',\n",
       "  'stationName': '용산구',\n",
       "  'totalCount': '',\n",
       "  'ver': ''},\n",
       " {'_returnType': 'json',\n",
       "  'coGrade': '1',\n",
       "  'coValue': '0.7',\n",
       "  'dataTerm': '',\n",
       "  'dataTime': '2018-07-18 11:00',\n",
       "  'khaiGrade': '2',\n",
       "  'khaiValue': '74',\n",
       "  'mangName': '도시대기',\n",
       "  'no2Grade': '1',\n",
       "  'no2Value': '0.023',\n",
       "  'numOfRows': '10',\n",
       "  'o3Grade': '1',\n",
       "  'o3Value': '0.013',\n",
       "  'pageNo': '1',\n",
       "  'pm10Grade': '2',\n",
       "  'pm10Grade1h': '2',\n",
       "  'pm10Value': '33',\n",
       "  'pm10Value24': '35',\n",
       "  'pm25Grade': '2',\n",
       "  'pm25Grade1h': '2',\n",
       "  'pm25Value': '24',\n",
       "  'pm25Value24': '25',\n",
       "  'resultCode': '',\n",
       "  'resultMsg': '',\n",
       "  'rnum': 0,\n",
       "  'serviceKey': '',\n",
       "  'sidoName': '',\n",
       "  'so2Grade': '1',\n",
       "  'so2Value': '0.008',\n",
       "  'stationCode': '',\n",
       "  'stationName': '광진구',\n",
       "  'totalCount': '',\n",
       "  'ver': ''},\n",
       " {'_returnType': 'json',\n",
       "  'coGrade': '',\n",
       "  'coValue': '-',\n",
       "  'dataTerm': '',\n",
       "  'dataTime': '2018-07-18 11:00',\n",
       "  'khaiGrade': '',\n",
       "  'khaiValue': '-',\n",
       "  'mangName': '도시대기',\n",
       "  'no2Grade': '',\n",
       "  'no2Value': '-',\n",
       "  'numOfRows': '10',\n",
       "  'o3Grade': '',\n",
       "  'o3Value': '-',\n",
       "  'pageNo': '1',\n",
       "  'pm10Grade': '',\n",
       "  'pm10Grade1h': '',\n",
       "  'pm10Value': '-',\n",
       "  'pm10Value24': '-',\n",
       "  'pm25Grade': '',\n",
       "  'pm25Grade1h': '',\n",
       "  'pm25Value': '-',\n",
       "  'pm25Value24': '-',\n",
       "  'resultCode': '',\n",
       "  'resultMsg': '',\n",
       "  'rnum': 0,\n",
       "  'serviceKey': '',\n",
       "  'sidoName': '',\n",
       "  'so2Grade': '',\n",
       "  'so2Value': '-',\n",
       "  'stationCode': '',\n",
       "  'stationName': '성동구',\n",
       "  'totalCount': '',\n",
       "  'ver': ''},\n",
       " {'_returnType': 'json',\n",
       "  'coGrade': '1',\n",
       "  'coValue': '0.5',\n",
       "  'dataTerm': '',\n",
       "  'dataTime': '2018-07-18 11:00',\n",
       "  'khaiGrade': '2',\n",
       "  'khaiValue': '79',\n",
       "  'mangName': '도로변대기',\n",
       "  'no2Grade': '2',\n",
       "  'no2Value': '0.046',\n",
       "  'numOfRows': '10',\n",
       "  'o3Grade': '1',\n",
       "  'o3Value': '0.008',\n",
       "  'pageNo': '1',\n",
       "  'pm10Grade': '2',\n",
       "  'pm10Grade1h': '2',\n",
       "  'pm10Value': '40',\n",
       "  'pm10Value24': '40',\n",
       "  'pm25Grade': '2',\n",
       "  'pm25Grade1h': '2',\n",
       "  'pm25Value': '29',\n",
       "  'pm25Value24': '27',\n",
       "  'resultCode': '',\n",
       "  'resultMsg': '',\n",
       "  'rnum': 0,\n",
       "  'serviceKey': '',\n",
       "  'sidoName': '',\n",
       "  'so2Grade': '1',\n",
       "  'so2Value': '0.003',\n",
       "  'stationCode': '',\n",
       "  'stationName': '강변북로',\n",
       "  'totalCount': '',\n",
       "  'ver': ''},\n",
       " {'_returnType': 'json',\n",
       "  'coGrade': '1',\n",
       "  'coValue': '0.4',\n",
       "  'dataTerm': '',\n",
       "  'dataTime': '2018-07-18 11:00',\n",
       "  'khaiGrade': '2',\n",
       "  'khaiValue': '69',\n",
       "  'mangName': '도시대기',\n",
       "  'no2Grade': '1',\n",
       "  'no2Value': '0.029',\n",
       "  'numOfRows': '10',\n",
       "  'o3Grade': '1',\n",
       "  'o3Value': '0.016',\n",
       "  'pageNo': '1',\n",
       "  'pm10Grade': '1',\n",
       "  'pm10Grade1h': '1',\n",
       "  'pm10Value': '23',\n",
       "  'pm10Value24': '26',\n",
       "  'pm25Grade': '2',\n",
       "  'pm25Grade1h': '2',\n",
       "  'pm25Value': '20',\n",
       "  'pm25Value24': '23',\n",
       "  'resultCode': '',\n",
       "  'resultMsg': '',\n",
       "  'rnum': 0,\n",
       "  'serviceKey': '',\n",
       "  'sidoName': '',\n",
       "  'so2Grade': '1',\n",
       "  'so2Value': '0.006',\n",
       "  'stationCode': '',\n",
       "  'stationName': '중랑구',\n",
       "  'totalCount': '',\n",
       "  'ver': ''}]"
      ]
     },
     "execution_count": 43,
     "metadata": {},
     "output_type": "execute_result"
    }
   ],
   "source": [
    "resultObj['list']"
   ]
  },
  {
   "cell_type": "code",
   "execution_count": 46,
   "metadata": {},
   "outputs": [
    {
     "data": {
      "text/plain": [
       "Collection(Database(MongoClient(host=['127.0.0.1:27017'], document_class=dict, tz_aware=False, connect=True), 'air'), 'info')"
      ]
     },
     "execution_count": 46,
     "metadata": {},
     "output_type": "execute_result"
    }
   ],
   "source": [
    "client.air.get_collection('info')"
   ]
  },
  {
   "cell_type": "code",
   "execution_count": 48,
   "metadata": {},
   "outputs": [
    {
     "data": {
      "text/plain": [
       "<pymongo.results.InsertManyResult at 0x2a0dae97f88>"
      ]
     },
     "execution_count": 48,
     "metadata": {},
     "output_type": "execute_result"
    }
   ],
   "source": [
    "client.air.info.insert_many(resultObj['list'])"
   ]
  },
  {
   "cell_type": "code",
   "execution_count": 53,
   "metadata": {},
   "outputs": [],
   "source": [
    "result =client.air.info.find({})"
   ]
  },
  {
   "cell_type": "code",
   "execution_count": 40,
   "metadata": {},
   "outputs": [],
   "source": [
    "from pprint import pprint "
   ]
  },
  {
   "cell_type": "code",
   "execution_count": 50,
   "metadata": {},
   "outputs": [
    {
     "name": "stdout",
     "output_type": "stream",
     "text": [
      "{'_id': ObjectId('5b4eb00461daa75ba8ae9121'), '_returnType': 'json', 'coGrade': '1', 'coValue': '0.3', 'dataTerm': '', 'dataTime': '2018-07-18 11:00', 'khaiGrade': '2', 'khaiValue': '72', 'mangName': '도시대기', 'no2Grade': '1', 'no2Value': '0.024', 'numOfRows': '10', 'o3Grade': '1', 'o3Value': '0.017', 'pageNo': '1', 'pm10Grade': '2', 'pm10Grade1h': '1', 'pm10Value': '30', 'pm10Value24': '31', 'pm25Grade': '2', 'pm25Grade1h': '2', 'pm25Value': '28', 'pm25Value24': '24', 'resultCode': '', 'resultMsg': '', 'rnum': 0, 'serviceKey': '', 'sidoName': '', 'so2Grade': '1', 'so2Value': '0.003', 'stationCode': '', 'stationName': '중구', 'totalCount': '', 'ver': ''}\n",
      "{'_id': ObjectId('5b4eb00461daa75ba8ae9122'), '_returnType': 'json', 'coGrade': '1', 'coValue': '0.5', 'dataTerm': '', 'dataTime': '2018-07-18 11:00', 'khaiGrade': '2', 'khaiValue': '73', 'mangName': '도로변대기', 'no2Grade': '2', 'no2Value': '0.044', 'numOfRows': '10', 'o3Grade': '1', 'o3Value': '0.011', 'pageNo': '1', 'pm10Grade': '2', 'pm10Grade1h': '2', 'pm10Value': '36', 'pm10Value24': '43', 'pm25Grade': '2', 'pm25Grade1h': '2', 'pm25Value': '28', 'pm25Value24': '27', 'resultCode': '', 'resultMsg': '', 'rnum': 0, 'serviceKey': '', 'sidoName': '', 'so2Grade': '1', 'so2Value': '0.005', 'stationCode': '', 'stationName': '한강대로', 'totalCount': '', 'ver': ''}\n",
      "{'_id': ObjectId('5b4eb00461daa75ba8ae9123'), '_returnType': 'json', 'coGrade': '1', 'coValue': '0.4', 'dataTerm': '', 'dataTime': '2018-07-18 11:00', 'khaiGrade': '2', 'khaiValue': '77', 'mangName': '도시대기', 'no2Grade': '2', 'no2Value': '0.033', 'numOfRows': '10', 'o3Grade': '1', 'o3Value': '0.013', 'pageNo': '1', 'pm10Grade': '2', 'pm10Grade1h': '2', 'pm10Value': '37', 'pm10Value24': '31', 'pm25Grade': '2', 'pm25Grade1h': '2', 'pm25Value': '30', 'pm25Value24': '26', 'resultCode': '', 'resultMsg': '', 'rnum': 0, 'serviceKey': '', 'sidoName': '', 'so2Grade': '1', 'so2Value': '0.004', 'stationCode': '', 'stationName': '종로구', 'totalCount': '', 'ver': ''}\n",
      "{'_id': ObjectId('5b4eb00461daa75ba8ae9124'), '_returnType': 'json', 'coGrade': '1', 'coValue': '0.5', 'dataTerm': '', 'dataTime': '2018-07-18 11:00', 'khaiGrade': '2', 'khaiValue': '85', 'mangName': '도로변대기', 'no2Grade': '2', 'no2Value': '0.038', 'numOfRows': '10', 'o3Grade': '1', 'o3Value': '0.015', 'pageNo': '1', 'pm10Grade': '2', 'pm10Grade1h': '2', 'pm10Value': '40', 'pm10Value24': '39', 'pm25Grade': '2', 'pm25Grade1h': '2', 'pm25Value': '35', 'pm25Value24': '29', 'resultCode': '', 'resultMsg': '', 'rnum': 0, 'serviceKey': '', 'sidoName': '', 'so2Grade': '1', 'so2Value': '0.006', 'stationCode': '', 'stationName': '청계천로', 'totalCount': '', 'ver': ''}\n",
      "{'_id': ObjectId('5b4eb00461daa75ba8ae9125'), '_returnType': 'json', 'coGrade': '1', 'coValue': '0.4', 'dataTerm': '', 'dataTime': '2018-07-18 11:00', 'khaiGrade': '2', 'khaiValue': '74', 'mangName': '도로변대기', 'no2Grade': '2', 'no2Value': '0.034', 'numOfRows': '10', 'o3Grade': '1', 'o3Value': '0.012', 'pageNo': '1', 'pm10Grade': '2', 'pm10Grade1h': '2', 'pm10Value': '41', 'pm10Value24': '35', 'pm25Grade': '2', 'pm25Grade1h': '2', 'pm25Value': '28', 'pm25Value24': '25', 'resultCode': '', 'resultMsg': '', 'rnum': 0, 'serviceKey': '', 'sidoName': '', 'so2Grade': '1', 'so2Value': '0.004', 'stationCode': '', 'stationName': '종로', 'totalCount': '', 'ver': ''}\n",
      "{'_id': ObjectId('5b4eb00461daa75ba8ae9126'), '_returnType': 'json', 'coGrade': '1', 'coValue': '0.4', 'dataTerm': '', 'dataTime': '2018-07-18 11:00', 'khaiGrade': '2', 'khaiValue': '77', 'mangName': '도시대기', 'no2Grade': '2', 'no2Value': '0.033', 'numOfRows': '10', 'o3Grade': '1', 'o3Value': '0.015', 'pageNo': '1', 'pm10Grade': '2', 'pm10Grade1h': '1', 'pm10Value': '30', 'pm10Value24': '32', 'pm25Grade': '2', 'pm25Grade1h': '2', 'pm25Value': '23', 'pm25Value24': '26', 'resultCode': '', 'resultMsg': '', 'rnum': 0, 'serviceKey': '', 'sidoName': '', 'so2Grade': '1', 'so2Value': '0.003', 'stationCode': '', 'stationName': '용산구', 'totalCount': '', 'ver': ''}\n",
      "{'_id': ObjectId('5b4eb00461daa75ba8ae9127'), '_returnType': 'json', 'coGrade': '1', 'coValue': '0.7', 'dataTerm': '', 'dataTime': '2018-07-18 11:00', 'khaiGrade': '2', 'khaiValue': '74', 'mangName': '도시대기', 'no2Grade': '1', 'no2Value': '0.023', 'numOfRows': '10', 'o3Grade': '1', 'o3Value': '0.013', 'pageNo': '1', 'pm10Grade': '2', 'pm10Grade1h': '2', 'pm10Value': '33', 'pm10Value24': '35', 'pm25Grade': '2', 'pm25Grade1h': '2', 'pm25Value': '24', 'pm25Value24': '25', 'resultCode': '', 'resultMsg': '', 'rnum': 0, 'serviceKey': '', 'sidoName': '', 'so2Grade': '1', 'so2Value': '0.008', 'stationCode': '', 'stationName': '광진구', 'totalCount': '', 'ver': ''}\n",
      "{'_id': ObjectId('5b4eb00461daa75ba8ae9128'), '_returnType': 'json', 'coGrade': '', 'coValue': '-', 'dataTerm': '', 'dataTime': '2018-07-18 11:00', 'khaiGrade': '', 'khaiValue': '-', 'mangName': '도시대기', 'no2Grade': '', 'no2Value': '-', 'numOfRows': '10', 'o3Grade': '', 'o3Value': '-', 'pageNo': '1', 'pm10Grade': '', 'pm10Grade1h': '', 'pm10Value': '-', 'pm10Value24': '-', 'pm25Grade': '', 'pm25Grade1h': '', 'pm25Value': '-', 'pm25Value24': '-', 'resultCode': '', 'resultMsg': '', 'rnum': 0, 'serviceKey': '', 'sidoName': '', 'so2Grade': '', 'so2Value': '-', 'stationCode': '', 'stationName': '성동구', 'totalCount': '', 'ver': ''}\n",
      "{'_id': ObjectId('5b4eb00461daa75ba8ae9129'), '_returnType': 'json', 'coGrade': '1', 'coValue': '0.5', 'dataTerm': '', 'dataTime': '2018-07-18 11:00', 'khaiGrade': '2', 'khaiValue': '79', 'mangName': '도로변대기', 'no2Grade': '2', 'no2Value': '0.046', 'numOfRows': '10', 'o3Grade': '1', 'o3Value': '0.008', 'pageNo': '1', 'pm10Grade': '2', 'pm10Grade1h': '2', 'pm10Value': '40', 'pm10Value24': '40', 'pm25Grade': '2', 'pm25Grade1h': '2', 'pm25Value': '29', 'pm25Value24': '27', 'resultCode': '', 'resultMsg': '', 'rnum': 0, 'serviceKey': '', 'sidoName': '', 'so2Grade': '1', 'so2Value': '0.003', 'stationCode': '', 'stationName': '강변북로', 'totalCount': '', 'ver': ''}\n",
      "{'_id': ObjectId('5b4eb00461daa75ba8ae912a'), '_returnType': 'json', 'coGrade': '1', 'coValue': '0.4', 'dataTerm': '', 'dataTime': '2018-07-18 11:00', 'khaiGrade': '2', 'khaiValue': '69', 'mangName': '도시대기', 'no2Grade': '1', 'no2Value': '0.029', 'numOfRows': '10', 'o3Grade': '1', 'o3Value': '0.016', 'pageNo': '1', 'pm10Grade': '1', 'pm10Grade1h': '1', 'pm10Value': '23', 'pm10Value24': '26', 'pm25Grade': '2', 'pm25Grade1h': '2', 'pm25Value': '20', 'pm25Value24': '23', 'resultCode': '', 'resultMsg': '', 'rnum': 0, 'serviceKey': '', 'sidoName': '', 'so2Grade': '1', 'so2Value': '0.006', 'stationCode': '', 'stationName': '중랑구', 'totalCount': '', 'ver': ''}\n"
     ]
    }
   ],
   "source": [
    "for i in result:\n",
    "    print(i)"
   ]
  },
  {
   "cell_type": "code",
   "execution_count": 54,
   "metadata": {},
   "outputs": [],
   "source": [
    "result = list(result)"
   ]
  },
  {
   "cell_type": "code",
   "execution_count": 55,
   "metadata": {},
   "outputs": [
    {
     "data": {
      "text/plain": [
       "[{'_id': ObjectId('5b4eb00461daa75ba8ae9121'),\n",
       "  '_returnType': 'json',\n",
       "  'coGrade': '1',\n",
       "  'coValue': '0.3',\n",
       "  'dataTerm': '',\n",
       "  'dataTime': '2018-07-18 11:00',\n",
       "  'khaiGrade': '2',\n",
       "  'khaiValue': '72',\n",
       "  'mangName': '도시대기',\n",
       "  'no2Grade': '1',\n",
       "  'no2Value': '0.024',\n",
       "  'numOfRows': '10',\n",
       "  'o3Grade': '1',\n",
       "  'o3Value': '0.017',\n",
       "  'pageNo': '1',\n",
       "  'pm10Grade': '2',\n",
       "  'pm10Grade1h': '1',\n",
       "  'pm10Value': '30',\n",
       "  'pm10Value24': '31',\n",
       "  'pm25Grade': '2',\n",
       "  'pm25Grade1h': '2',\n",
       "  'pm25Value': '28',\n",
       "  'pm25Value24': '24',\n",
       "  'resultCode': '',\n",
       "  'resultMsg': '',\n",
       "  'rnum': 0,\n",
       "  'serviceKey': '',\n",
       "  'sidoName': '',\n",
       "  'so2Grade': '1',\n",
       "  'so2Value': '0.003',\n",
       "  'stationCode': '',\n",
       "  'stationName': '중구',\n",
       "  'totalCount': '',\n",
       "  'ver': ''},\n",
       " {'_id': ObjectId('5b4eb00461daa75ba8ae9122'),\n",
       "  '_returnType': 'json',\n",
       "  'coGrade': '1',\n",
       "  'coValue': '0.5',\n",
       "  'dataTerm': '',\n",
       "  'dataTime': '2018-07-18 11:00',\n",
       "  'khaiGrade': '2',\n",
       "  'khaiValue': '73',\n",
       "  'mangName': '도로변대기',\n",
       "  'no2Grade': '2',\n",
       "  'no2Value': '0.044',\n",
       "  'numOfRows': '10',\n",
       "  'o3Grade': '1',\n",
       "  'o3Value': '0.011',\n",
       "  'pageNo': '1',\n",
       "  'pm10Grade': '2',\n",
       "  'pm10Grade1h': '2',\n",
       "  'pm10Value': '36',\n",
       "  'pm10Value24': '43',\n",
       "  'pm25Grade': '2',\n",
       "  'pm25Grade1h': '2',\n",
       "  'pm25Value': '28',\n",
       "  'pm25Value24': '27',\n",
       "  'resultCode': '',\n",
       "  'resultMsg': '',\n",
       "  'rnum': 0,\n",
       "  'serviceKey': '',\n",
       "  'sidoName': '',\n",
       "  'so2Grade': '1',\n",
       "  'so2Value': '0.005',\n",
       "  'stationCode': '',\n",
       "  'stationName': '한강대로',\n",
       "  'totalCount': '',\n",
       "  'ver': ''},\n",
       " {'_id': ObjectId('5b4eb00461daa75ba8ae9123'),\n",
       "  '_returnType': 'json',\n",
       "  'coGrade': '1',\n",
       "  'coValue': '0.4',\n",
       "  'dataTerm': '',\n",
       "  'dataTime': '2018-07-18 11:00',\n",
       "  'khaiGrade': '2',\n",
       "  'khaiValue': '77',\n",
       "  'mangName': '도시대기',\n",
       "  'no2Grade': '2',\n",
       "  'no2Value': '0.033',\n",
       "  'numOfRows': '10',\n",
       "  'o3Grade': '1',\n",
       "  'o3Value': '0.013',\n",
       "  'pageNo': '1',\n",
       "  'pm10Grade': '2',\n",
       "  'pm10Grade1h': '2',\n",
       "  'pm10Value': '37',\n",
       "  'pm10Value24': '31',\n",
       "  'pm25Grade': '2',\n",
       "  'pm25Grade1h': '2',\n",
       "  'pm25Value': '30',\n",
       "  'pm25Value24': '26',\n",
       "  'resultCode': '',\n",
       "  'resultMsg': '',\n",
       "  'rnum': 0,\n",
       "  'serviceKey': '',\n",
       "  'sidoName': '',\n",
       "  'so2Grade': '1',\n",
       "  'so2Value': '0.004',\n",
       "  'stationCode': '',\n",
       "  'stationName': '종로구',\n",
       "  'totalCount': '',\n",
       "  'ver': ''},\n",
       " {'_id': ObjectId('5b4eb00461daa75ba8ae9124'),\n",
       "  '_returnType': 'json',\n",
       "  'coGrade': '1',\n",
       "  'coValue': '0.5',\n",
       "  'dataTerm': '',\n",
       "  'dataTime': '2018-07-18 11:00',\n",
       "  'khaiGrade': '2',\n",
       "  'khaiValue': '85',\n",
       "  'mangName': '도로변대기',\n",
       "  'no2Grade': '2',\n",
       "  'no2Value': '0.038',\n",
       "  'numOfRows': '10',\n",
       "  'o3Grade': '1',\n",
       "  'o3Value': '0.015',\n",
       "  'pageNo': '1',\n",
       "  'pm10Grade': '2',\n",
       "  'pm10Grade1h': '2',\n",
       "  'pm10Value': '40',\n",
       "  'pm10Value24': '39',\n",
       "  'pm25Grade': '2',\n",
       "  'pm25Grade1h': '2',\n",
       "  'pm25Value': '35',\n",
       "  'pm25Value24': '29',\n",
       "  'resultCode': '',\n",
       "  'resultMsg': '',\n",
       "  'rnum': 0,\n",
       "  'serviceKey': '',\n",
       "  'sidoName': '',\n",
       "  'so2Grade': '1',\n",
       "  'so2Value': '0.006',\n",
       "  'stationCode': '',\n",
       "  'stationName': '청계천로',\n",
       "  'totalCount': '',\n",
       "  'ver': ''},\n",
       " {'_id': ObjectId('5b4eb00461daa75ba8ae9125'),\n",
       "  '_returnType': 'json',\n",
       "  'coGrade': '1',\n",
       "  'coValue': '0.4',\n",
       "  'dataTerm': '',\n",
       "  'dataTime': '2018-07-18 11:00',\n",
       "  'khaiGrade': '2',\n",
       "  'khaiValue': '74',\n",
       "  'mangName': '도로변대기',\n",
       "  'no2Grade': '2',\n",
       "  'no2Value': '0.034',\n",
       "  'numOfRows': '10',\n",
       "  'o3Grade': '1',\n",
       "  'o3Value': '0.012',\n",
       "  'pageNo': '1',\n",
       "  'pm10Grade': '2',\n",
       "  'pm10Grade1h': '2',\n",
       "  'pm10Value': '41',\n",
       "  'pm10Value24': '35',\n",
       "  'pm25Grade': '2',\n",
       "  'pm25Grade1h': '2',\n",
       "  'pm25Value': '28',\n",
       "  'pm25Value24': '25',\n",
       "  'resultCode': '',\n",
       "  'resultMsg': '',\n",
       "  'rnum': 0,\n",
       "  'serviceKey': '',\n",
       "  'sidoName': '',\n",
       "  'so2Grade': '1',\n",
       "  'so2Value': '0.004',\n",
       "  'stationCode': '',\n",
       "  'stationName': '종로',\n",
       "  'totalCount': '',\n",
       "  'ver': ''},\n",
       " {'_id': ObjectId('5b4eb00461daa75ba8ae9126'),\n",
       "  '_returnType': 'json',\n",
       "  'coGrade': '1',\n",
       "  'coValue': '0.4',\n",
       "  'dataTerm': '',\n",
       "  'dataTime': '2018-07-18 11:00',\n",
       "  'khaiGrade': '2',\n",
       "  'khaiValue': '77',\n",
       "  'mangName': '도시대기',\n",
       "  'no2Grade': '2',\n",
       "  'no2Value': '0.033',\n",
       "  'numOfRows': '10',\n",
       "  'o3Grade': '1',\n",
       "  'o3Value': '0.015',\n",
       "  'pageNo': '1',\n",
       "  'pm10Grade': '2',\n",
       "  'pm10Grade1h': '1',\n",
       "  'pm10Value': '30',\n",
       "  'pm10Value24': '32',\n",
       "  'pm25Grade': '2',\n",
       "  'pm25Grade1h': '2',\n",
       "  'pm25Value': '23',\n",
       "  'pm25Value24': '26',\n",
       "  'resultCode': '',\n",
       "  'resultMsg': '',\n",
       "  'rnum': 0,\n",
       "  'serviceKey': '',\n",
       "  'sidoName': '',\n",
       "  'so2Grade': '1',\n",
       "  'so2Value': '0.003',\n",
       "  'stationCode': '',\n",
       "  'stationName': '용산구',\n",
       "  'totalCount': '',\n",
       "  'ver': ''},\n",
       " {'_id': ObjectId('5b4eb00461daa75ba8ae9127'),\n",
       "  '_returnType': 'json',\n",
       "  'coGrade': '1',\n",
       "  'coValue': '0.7',\n",
       "  'dataTerm': '',\n",
       "  'dataTime': '2018-07-18 11:00',\n",
       "  'khaiGrade': '2',\n",
       "  'khaiValue': '74',\n",
       "  'mangName': '도시대기',\n",
       "  'no2Grade': '1',\n",
       "  'no2Value': '0.023',\n",
       "  'numOfRows': '10',\n",
       "  'o3Grade': '1',\n",
       "  'o3Value': '0.013',\n",
       "  'pageNo': '1',\n",
       "  'pm10Grade': '2',\n",
       "  'pm10Grade1h': '2',\n",
       "  'pm10Value': '33',\n",
       "  'pm10Value24': '35',\n",
       "  'pm25Grade': '2',\n",
       "  'pm25Grade1h': '2',\n",
       "  'pm25Value': '24',\n",
       "  'pm25Value24': '25',\n",
       "  'resultCode': '',\n",
       "  'resultMsg': '',\n",
       "  'rnum': 0,\n",
       "  'serviceKey': '',\n",
       "  'sidoName': '',\n",
       "  'so2Grade': '1',\n",
       "  'so2Value': '0.008',\n",
       "  'stationCode': '',\n",
       "  'stationName': '광진구',\n",
       "  'totalCount': '',\n",
       "  'ver': ''},\n",
       " {'_id': ObjectId('5b4eb00461daa75ba8ae9128'),\n",
       "  '_returnType': 'json',\n",
       "  'coGrade': '',\n",
       "  'coValue': '-',\n",
       "  'dataTerm': '',\n",
       "  'dataTime': '2018-07-18 11:00',\n",
       "  'khaiGrade': '',\n",
       "  'khaiValue': '-',\n",
       "  'mangName': '도시대기',\n",
       "  'no2Grade': '',\n",
       "  'no2Value': '-',\n",
       "  'numOfRows': '10',\n",
       "  'o3Grade': '',\n",
       "  'o3Value': '-',\n",
       "  'pageNo': '1',\n",
       "  'pm10Grade': '',\n",
       "  'pm10Grade1h': '',\n",
       "  'pm10Value': '-',\n",
       "  'pm10Value24': '-',\n",
       "  'pm25Grade': '',\n",
       "  'pm25Grade1h': '',\n",
       "  'pm25Value': '-',\n",
       "  'pm25Value24': '-',\n",
       "  'resultCode': '',\n",
       "  'resultMsg': '',\n",
       "  'rnum': 0,\n",
       "  'serviceKey': '',\n",
       "  'sidoName': '',\n",
       "  'so2Grade': '',\n",
       "  'so2Value': '-',\n",
       "  'stationCode': '',\n",
       "  'stationName': '성동구',\n",
       "  'totalCount': '',\n",
       "  'ver': ''},\n",
       " {'_id': ObjectId('5b4eb00461daa75ba8ae9129'),\n",
       "  '_returnType': 'json',\n",
       "  'coGrade': '1',\n",
       "  'coValue': '0.5',\n",
       "  'dataTerm': '',\n",
       "  'dataTime': '2018-07-18 11:00',\n",
       "  'khaiGrade': '2',\n",
       "  'khaiValue': '79',\n",
       "  'mangName': '도로변대기',\n",
       "  'no2Grade': '2',\n",
       "  'no2Value': '0.046',\n",
       "  'numOfRows': '10',\n",
       "  'o3Grade': '1',\n",
       "  'o3Value': '0.008',\n",
       "  'pageNo': '1',\n",
       "  'pm10Grade': '2',\n",
       "  'pm10Grade1h': '2',\n",
       "  'pm10Value': '40',\n",
       "  'pm10Value24': '40',\n",
       "  'pm25Grade': '2',\n",
       "  'pm25Grade1h': '2',\n",
       "  'pm25Value': '29',\n",
       "  'pm25Value24': '27',\n",
       "  'resultCode': '',\n",
       "  'resultMsg': '',\n",
       "  'rnum': 0,\n",
       "  'serviceKey': '',\n",
       "  'sidoName': '',\n",
       "  'so2Grade': '1',\n",
       "  'so2Value': '0.003',\n",
       "  'stationCode': '',\n",
       "  'stationName': '강변북로',\n",
       "  'totalCount': '',\n",
       "  'ver': ''},\n",
       " {'_id': ObjectId('5b4eb00461daa75ba8ae912a'),\n",
       "  '_returnType': 'json',\n",
       "  'coGrade': '1',\n",
       "  'coValue': '0.4',\n",
       "  'dataTerm': '',\n",
       "  'dataTime': '2018-07-18 11:00',\n",
       "  'khaiGrade': '2',\n",
       "  'khaiValue': '69',\n",
       "  'mangName': '도시대기',\n",
       "  'no2Grade': '1',\n",
       "  'no2Value': '0.029',\n",
       "  'numOfRows': '10',\n",
       "  'o3Grade': '1',\n",
       "  'o3Value': '0.016',\n",
       "  'pageNo': '1',\n",
       "  'pm10Grade': '1',\n",
       "  'pm10Grade1h': '1',\n",
       "  'pm10Value': '23',\n",
       "  'pm10Value24': '26',\n",
       "  'pm25Grade': '2',\n",
       "  'pm25Grade1h': '2',\n",
       "  'pm25Value': '20',\n",
       "  'pm25Value24': '23',\n",
       "  'resultCode': '',\n",
       "  'resultMsg': '',\n",
       "  'rnum': 0,\n",
       "  'serviceKey': '',\n",
       "  'sidoName': '',\n",
       "  'so2Grade': '1',\n",
       "  'so2Value': '0.006',\n",
       "  'stationCode': '',\n",
       "  'stationName': '중랑구',\n",
       "  'totalCount': '',\n",
       "  'ver': ''}]"
      ]
     },
     "execution_count": 55,
     "metadata": {},
     "output_type": "execute_result"
    }
   ],
   "source": [
    "result"
   ]
  }
 ],
 "metadata": {
  "kernelspec": {
   "display_name": "Python 3",
   "language": "python",
   "name": "python3"
  },
  "language_info": {
   "codemirror_mode": {
    "name": "ipython",
    "version": 3
   },
   "file_extension": ".py",
   "mimetype": "text/x-python",
   "name": "python",
   "nbconvert_exporter": "python",
   "pygments_lexer": "ipython3",
   "version": "3.6.4"
  }
 },
 "nbformat": 4,
 "nbformat_minor": 2
}
