{
 "cells": [
  {
   "cell_type": "markdown",
   "metadata": {},
   "source": [
    "# new-style class (뉴스타일 클래스)\n",
    "지금은 모든 클래스 객체에 사용되고 있는 클래스 버전의 예전 이름. 초기의 파이썬 버전에서는, 오직 뉴스타일 클래스만 _ _slots__, 디스크립터, 프라퍼티, _ _getattribute__(), 클래스 메서드, 스태틱 메서드와 같은 파이썬의 새롭고 다양한 기능들을 사용할 수 있었습니다."
   ]
  },
  {
   "cell_type": "markdown",
   "metadata": {},
   "source": [
    "# case-sensitive names\n",
    "<img src=\"2.jpg\"/>"
   ]
  },
  {
   "cell_type": "markdown",
   "metadata": {},
   "source": [
    "# case \n",
    "<img src=\"7.jpg\"/>"
   ]
  },
  {
   "cell_type": "markdown",
   "metadata": {},
   "source": [
    "---"
   ]
  },
  {
   "cell_type": "markdown",
   "metadata": {},
   "source": [
    "# type hint (형 힌트)\n",
    "변수, 클래스 어트리뷰트 및 함수 매개변수 나 반환 값의 기대되는 형을 지정하는 어노테이션.\n",
    "\n",
    "형 힌트는 선택 사항이며 파이썬에서 강제되지는 않습니다. 하지만, 정적 형 분석 도구에 유용하며 IDE의 코드 완성 및 리팩토링을 돕습니다.\n",
    "\n",
    "지역 변수를 제외하고, 전역 변수, 클래스 어트리뷰트 및 함수의 형 힌트는 typing.get_type_hints() 를 사용하여 액세스할 수 있습니다.\n",
    "\n",
    "이 기능을 설명하는 typing과 PEP 484를 참조하세요."
   ]
  },
  {
   "cell_type": "markdown",
   "metadata": {},
   "source": [
    "# annotation (어노테이션)\n",
    "■ A function's parameters and its result can be annotated with expressions\n",
    "\n",
    "■ No semantic effect, but are associated with the function object as metadata, typically for documentation purposes"
   ]
  },
  {
   "cell_type": "markdown",
   "metadata": {},
   "source": [
    "관습에 따라 형 힌트 로 사용되는 변수, 클래스 어트리뷰트 또는 함수 매개변수 나 반환 값과 연결된 레이블입니다.\n",
    "\n",
    "지역 변수의 어노테이션은 실행 시간에 액세스할 수 없지만, **전역 변수, 클래스 속성 및 함수의 어노테이션은 각각 모듈, 클래스, 함수의 _ _annotations__ 특수 어트리뷰트에 저장됩니다.**\n",
    "\n",
    "이 기능을 설명하는 변수 어노테이션, 함수 어노테이션, PEP 484, PEP 526을 참조하세요."
   ]
  },
  {
   "cell_type": "code",
   "execution_count": 2,
   "metadata": {
    "scrolled": true
   },
   "outputs": [
    {
     "data": {
      "text/plain": [
       "{'return': bool, 'year': 'Gregorian'}"
      ]
     },
     "execution_count": 2,
     "metadata": {},
     "output_type": "execute_result"
    }
   ],
   "source": [
    "def is_leap_year(year : 'Gregorian') -> bool:\n",
    "    return year % 4 == 0 and year % 100 != 0 or year % 400 == 0\n",
    "is_leap_year.__annotations__"
   ]
  },
  {
   "cell_type": "markdown",
   "metadata": {},
   "source": [
    "# function annotation (함수 어노테이션)\n",
    "함수 매개변수나 반환 값의 어노테이션.\n",
    "\n",
    "함수 어노테이션은 일반적으로 형 힌트 로 사용됩니다: 예를 들어, 이 함수는 두 개의 int 인자를 받아들일 것으로 기대되고, 동시에 int 반환 값을 줄 것으로 기대됩니다:"
   ]
  },
  {
   "cell_type": "code",
   "execution_count": 3,
   "metadata": {},
   "outputs": [],
   "source": [
    "def sum_two_numbers(a: int, b: int) -> int:\n",
    "    return a + b"
   ]
  },
  {
   "cell_type": "markdown",
   "metadata": {},
   "source": [
    "함수 어노테이션 문법은 섹션 함수 정의 에서 설명합니다.\n",
    "\n",
    "이 기능을 설명하는 변수 어노테이션 과 PEP 484를 참조하세요."
   ]
  },
  {
   "cell_type": "markdown",
   "metadata": {},
   "source": [
    "# variable annotation (변수 어노테이션)\n",
    "변수 또는 클래스 어트리뷰트의 어노테이션.\n",
    "\n",
    "변수 또는 클래스 어트리뷰트에 어노테이션을 달 때 대입은 선택 사항입니다:"
   ]
  },
  {
   "cell_type": "code",
   "execution_count": 4,
   "metadata": {},
   "outputs": [],
   "source": [
    "class C:\n",
    "    field: 'annotation'"
   ]
  },
  {
   "cell_type": "markdown",
   "metadata": {},
   "source": [
    "변수 어노테이션은 일반적으로 형 힌트로 사용됩니다: 예를 들어, 이 변수는 int 값을 가질 것으로 기대됩니다:"
   ]
  },
  {
   "cell_type": "code",
   "execution_count": 5,
   "metadata": {},
   "outputs": [],
   "source": [
    "count: int = 0"
   ]
  },
  {
   "cell_type": "markdown",
   "metadata": {},
   "source": [
    "변수 어노테이션 문법은 섹션 어노테이트된 대입문(Annotated assignment statements) 에서 설명합니다."
   ]
  },
  {
   "cell_type": "markdown",
   "metadata": {},
   "source": [
    "이 기능을 설명하는 함수 어노테이션, PEP 484 및 PEP 526을 참조하세요."
   ]
  },
  {
   "cell_type": "markdown",
   "metadata": {},
   "source": [
    "# 7.2.2. 어노테이트된 대입문(Annotated assignment statements)\n",
    "어노테이션 대입은, 한 문장에서, 변수나 어트리뷰트 어노테이션과 생략할 수 있는 대입문을 합치는 것입니다."
   ]
  },
  {
   "cell_type": "code",
   "execution_count": 6,
   "metadata": {},
   "outputs": [
    {
     "ename": "SyntaxError",
     "evalue": "invalid syntax (<ipython-input-6-e06f3ef98c8a>, line 1)",
     "output_type": "error",
     "traceback": [
      "\u001b[1;36m  File \u001b[1;32m\"<ipython-input-6-e06f3ef98c8a>\"\u001b[1;36m, line \u001b[1;32m1\u001b[0m\n\u001b[1;33m    annotated_assignment_stmt ::=  augtarget \":\" expression [\"=\" expression]\u001b[0m\n\u001b[1;37m                               ^\u001b[0m\n\u001b[1;31mSyntaxError\u001b[0m\u001b[1;31m:\u001b[0m invalid syntax\n"
     ]
    }
   ],
   "source": [
    "annotated_assignment_stmt ::=  augtarget \":\" expression [\"=\" expression]"
   ]
  },
  {
   "cell_type": "markdown",
   "metadata": {},
   "source": [
    "일반 대입문 과의 차이점은 오직 하나의 타깃과 오직 하나의 우변 값만 허락된다는 것입니다.\n",
    "\n",
    "**대인 타깃에 단순한 이름을 쓰는 경우, 클래스나 모듈 스코프에 있으면, 어노테이션은 값이 구해진 후 특별한 클래스나 모듈의 어트리뷰트 _ _annotations__ 에 저장되는데, 이 어트리뷰트는 (만약 비공개면 뒤섞인) 변수 이름을 어노테이션의 값으로 대응시키는 딕셔너리 매핑입니다. 이 어트리뷰트는 쓰기가 허락되고, 클래스나 모듈의 실행을 시작할 때 어노테이션이 정적으로 발견되면 만들어집니다.**\n",
    "\n",
    "**대입 타깃으로 표현식을 쓸 때, 어노테이션은 클래스나 모듈 스코프에 있는 것처럼 값이 구해지지만 저장되지는 않습니다.**\n",
    "\n",
    "이름이 함수 스코프에서 어노테이트되면, 이 이름은 그 스코프에 지역적(local)입니다. 함수 스코프에서 어노테이션은 값이 구해지거나 저장되지 않습니다.\n",
    "\n",
    "우변이 존재하면, 어노테이트된 대입은 (적절한 곳에서) 어노테이션의 값을 구하기 전에 실제 대입을 수행합니다. 표현식 타깃의 경우 우변이 존재하지 않으면, 인터프리터는 티깃의 값을 구하는데, 마지막 _ _setitem__() 이나 _ _setattr__() 호출은 생략합니다."
   ]
  },
  {
   "cell_type": "markdown",
   "metadata": {},
   "source": [
    "---"
   ]
  },
  {
   "cell_type": "markdown",
   "metadata": {},
   "source": [
    "# class (클래스)\n",
    "ch07 참조\n",
    "\n",
    "사용자 정의 객체들을 만들기 위한 주형. 클래스 정의는 보통 클래스의 인스턴스를 대상으로 연산하는 메서드 정의들을 포함합니다."
   ]
  },
  {
   "cell_type": "markdown",
   "metadata": {},
   "source": [
    "# object (객체)\n",
    "상태 (어트리뷰트나 값) 를 갖고 동작 (메서드) 이 정의된 모든 데이터. 또한, 모든 뉴스타일 클래스 의 최종적인 베이스 클래스입니다.\n",
    "package (패키지)"
   ]
  },
  {
   "cell_type": "markdown",
   "metadata": {},
   "source": [
    "# docstring (독스트링)\n",
    "클래스, 함수, 모듈에서 첫 번째 표현식으로 나타나는 문자열 리터럴. 스위트가 실행될 때는 무시되지만, 컴파일러에 의해 인지되어 둘러싼 클래스, 함수, 모듈의 __doc__ 어트리뷰트로 삽입됩니다. 인트로스팩션을 통해 사용할 수 있으므로, 객체의 설명서를 위한 규범적인 장소입니다."
   ]
  },
  {
   "cell_type": "markdown",
   "metadata": {},
   "source": [
    "# namespace (이름 공간)\n",
    "변수가 저장되는 장소. 이름 공간은 딕셔너리로 구현됩니다. 객체에 중첩된 이름 공간 (메서드 에서) 뿐만 아니라 지역, 전역, 내장 이름 공간이 있습니다.<br/>\n",
    "이름 공간은 이름 충돌을 방지해서 모듈성을 지원합니다. 예를 들어, 함수 builtins.open 과 os.open() 은 그들의 이름 공간에 의해 구별됩니다. 또한, 이름 공간은 어떤 모듈이 함수를 구현하는지를 분명하게 만들어서 가독성과 유지 보수성에 도움을 줍니다. 예를 들어, random.seed() 또는 itertools.islice() 라고 쓰면 그 함수들이 각각 random 과 itertools 모듈에 의해 구현되었음이 명확해집니다."
   ]
  },
  {
   "cell_type": "markdown",
   "metadata": {},
   "source": [
    "# portion (포션)\n",
    "PEP 420 에서 정의한 것처럼, 이름 공간 패키지에 이바지하는 하나의 디렉터리에 들어있는 파일들의 집합 (zip 파일에 저장되는 것도 가능합니다)."
   ]
  },
  {
   "cell_type": "markdown",
   "metadata": {},
   "source": [
    "# named tuple (네임드 튜플)\n",
    "인덱싱할 수 있는 요소들을 이름 붙은 어트리뷰트로도 액세스할 수 있는 모든 튜플류 클래스 (예를 들어, time.localtime() 은 year 가 t[0] 처럼 인덱스로도, t.tm_year 처럼 어트리뷰트로도 액세스할 수 있는 튜플류 객체를 돌려줍니다.)\n",
    "\n",
    "네임드 튜플은 time.struct_time 같은 내장형일 수도, 일반 클래스 정의로 만들 수도 있습니다. 모든 기능이 구현된 네임드 튜플을 팩토리 함수 collections.namedtuple() 로도 만들 수 있습니다. 마지막 접근법은 Employee(name='jones', title='programmer') 와 같은 스스로 문서로 만드는 repr 과 같은 확장 기능도 자동 제공합니다."
   ]
  },
  {
   "cell_type": "markdown",
   "metadata": {},
   "source": [
    "# struct sequence (구조체 시퀀스)\n",
    "이름 붙은 요소들을 가진 튜플. 구조체 시퀀스는 네임드 튜플 과 비슷한 인터페이스를 드러내는데, 요소들이 인덱스나 어트리뷰트로 액세스 될 수 있습니다. 하지만, 이것은 _make() 나 _asdict() 같은 네임드 튜플의 메서드들을 갖고 있지 않습니다. 구조체 시퀀스의 예로는 sys.float_info 과 os.stat() 의 반환 값을 들 수 있습니다."
   ]
  },
  {
   "cell_type": "markdown",
   "metadata": {},
   "source": [
    "# regular package (정규 패키지)\n",
    "_ _init__.py 파일을 포함하는 디렉터리와 같은 전통적인 패키지.\n",
    "\n",
    "이름 공간 패키지 도 보세요."
   ]
  },
  {
   "cell_type": "markdown",
   "metadata": {},
   "source": [
    "# namespace package (이름 공간 패키지)\n",
    "오직 서브 패키지들의 컨테이너로만 기능하는 PEP 420 패키지. 이름 공간 패키지는 물리적인 실체가 없을 수도 있고, 특히 _ _init__.py 파일이 없으므로 정규 패키지 와는 다릅니다.\n",
    "\n",
    "모듈 도 보세요."
   ]
  },
  {
   "cell_type": "markdown",
   "metadata": {},
   "source": [
    "---"
   ]
  },
  {
   "cell_type": "markdown",
   "metadata": {},
   "source": [
    "# extension module (확장 모듈)\n",
    "C 나 C++ 로 작성된 모듈인데, 파이썬의 C API를 사용해서 핵심이나 사용자 코드와 상호 작용합니다."
   ]
  },
  {
   "cell_type": "markdown",
   "metadata": {},
   "source": [
    "# module spec (모듈 스펙)\n",
    "모듈을 로드하는데 사용되는 임포트 관련 정보들을 담고 있는 이름 공간. importlib.machinery.ModuleSpec 의 인스턴스."
   ]
  },
  {
   "cell_type": "markdown",
   "metadata": {},
   "source": [
    "# import path (임포트 경로)\n",
    "import 참조 \n",
    "\n",
    "경로 기반 파인더 가 임포트할 모듈을 찾기 위해 검색하는 장소들 (또는 경로 엔트리) 의 목록. 임포트하는 동안, 이 장소들의 목록은 보통 sys.path 로부터 옵니다, 하지만 서브 패키지의 경우 부모 패키지의 __path__ 어트리뷰트로부터 올 수도 있습니다."
   ]
  },
  {
   "cell_type": "markdown",
   "metadata": {},
   "source": [
    "# qualified name (정규화된 이름)\n",
    "모듈의 전역 스코프에서 모듈에 정의된 클래스, 함수, 메서드에 이르는 \"경로\"를 보여주는 점으로 구분된 이름. PEP 3155 에서 정의됩니다. 최상위 함수와 클래스의 경우에, 정규화된 이름은 객체의 이름과 같습니다:"
   ]
  },
  {
   "cell_type": "markdown",
   "metadata": {},
   "source": [
    "<pre>\n",
    ">>>\n",
    ">>> class C:\n",
    "...     class D:\n",
    "...         def meth(self):\n",
    "...             pass\n",
    "...\n",
    ">>> C.__qualname__\n",
    "'C'\n",
    ">>> C.D.__qualname__\n",
    "'C.D'\n",
    ">>> C.D.meth.__qualname__\n",
    "'C.D.meth'\n",
    "</pre>"
   ]
  },
  {
   "cell_type": "markdown",
   "metadata": {},
   "source": [
    "모듈을 가리키는데 사용될 때, 완전히 정규화된 이름(fully qualified name) 은 모든 부모 패키지들을 포함해서 모듈로 가는 점으로 분리된 이름을 의미합니다, 예를 들어, email.mime.text:"
   ]
  },
  {
   "cell_type": "markdown",
   "metadata": {},
   "source": [
    "<pre>\n",
    ">>>\n",
    ">>> import email.mime.text\n",
    ">>> email.mime.text.__name__\n",
    "'email.mime.text'\n",
    "</pre>"
   ]
  },
  {
   "cell_type": "markdown",
   "metadata": {},
   "source": [
    "# importing (임포팅)\n",
    "한 모듈의 파이썬 코드가 다른 모듈의 파이썬 코드에서 사용될 수 있도록 하는 절차."
   ]
  },
  {
   "cell_type": "markdown",
   "metadata": {},
   "source": [
    "# importer (임포터)\n",
    "모듈을 찾기도 하고 로드 하기도 하는 객체; 동시에 파인더 이자 로더 객체입니다."
   ]
  },
  {
   "cell_type": "markdown",
   "metadata": {},
   "source": [
    "# loader (로더)\n",
    "모듈을 로드하는 객체. load_module() 이라는 이름의 메서드를 정의해야 합니다. 로더는 보통 파인더 가 돌려줍니다. 자세한 내용은 PEP 302 를, 추상 베이스 클래스 는 importlib.abc.Loader 를 보세요."
   ]
  },
  {
   "cell_type": "markdown",
   "metadata": {},
   "source": [
    "# finder (파인더)\n",
    "임포트될 모듈을 위한 로더 를 찾으려고 시도하는 객체.\n",
    "\n",
    "파이썬 3.3. 이후로, 두 종류의 파인더가 있습니다: sys.meta_path 와 함께 사용하는 메타 경로 파인더 와 sys.path_hooks 과 함께 사용하는 경로 엔트리 파인더.\n",
    "\n",
    "더 자세한 내용은 PEP 302, PEP 420, PEP 451 에 나옵니다."
   ]
  },
  {
   "cell_type": "markdown",
   "metadata": {},
   "source": [
    "# meta path finder (메타 경로 파인더)\n",
    "sys.meta_path 의 검색이 돌려주는 파인더. 메타 경로 파인더는 경로 엔트리 파인더 와 관련되어 있기는 하지만 다릅니다.\n",
    "\n",
    "메타 경로 파인더가 구현하는 메서드들에 대해서는 importlib.abc.MetaPathFinder 를 보면 됩니다."
   ]
  },
  {
   "cell_type": "markdown",
   "metadata": {},
   "source": [
    "# path entry finder (경로 엔트리 파인더)\n",
    "sys.path_hooks 에 있는 콜러블 (즉, 경로 엔트리 훅) 이 돌려주는 파인더 인데, 주어진 경로 엔트리 로 모듈을 찾는 방법을 알고 있습니다.\n",
    "\n",
    "경로 엔트리 파인더들이 구현하는 메서드들은 importlib.abc.PathEntryFinder 에 나옵니다."
   ]
  },
  {
   "cell_type": "markdown",
   "metadata": {},
   "source": [
    "# path entry (경로 엔트리)\n",
    "경로 기반 파인더 가 임포트할 모듈들을 찾기 위해 참고하는 임포트 경로 상의 하나의 장소."
   ]
  },
  {
   "cell_type": "markdown",
   "metadata": {},
   "source": [
    "---"
   ]
  },
  {
   "cell_type": "markdown",
   "metadata": {},
   "source": [
    "# function (함수)\n",
    "호출자에게 어떤 값을 돌려주는 일련의 문장들. 없거나 그 이상의 인자 가 전달될 수 있는데, 바디의 실행에 사용될 수 있습니다. 매개변수 와 메서드 와 함수 정의 섹션도 보세요."
   ]
  },
  {
   "cell_type": "markdown",
   "metadata": {},
   "source": [
    "# class variable (클래스 변수)\n",
    "ch09 참조\n",
    "\n",
    "클래스에서 정의되고 클래스 수준 (즉, 클래스의 인스턴스에서가 아니라) 에서만 수정되는 변수.\n",
    "\n",
    "* instance variable 인스턴스 변수\n",
    "- self.instance_name\n",
    "\n",
    "class.instance_method(self, ~), instance.instance_method(~)"
   ]
  },
  {
   "cell_type": "markdown",
   "metadata": {},
   "source": [
    "# method (메서드)\n",
    "ch07 참조\n",
    "\n",
    "클래스 바디 안에서 정의되는 함수. 그 클래스의 인스턴스의 어트리뷰트로서 호출되면, 그 메서드는 첫 번째 인자 (보통 self 라고 불린다) 로 인스턴스 객체를 받습니다. 함수 와 중첩된 스코프 를 보세요."
   ]
  },
  {
   "cell_type": "markdown",
   "metadata": {},
   "source": [
    "# class method\n",
    "ch09 참조"
   ]
  },
  {
   "cell_type": "code",
   "execution_count": 133,
   "metadata": {},
   "outputs": [],
   "source": [
    "class Parrot:\n",
    "    speceies = 'ss'\n",
    "    # instance attributes\n",
    "    def __init__(selfsssss, name, age): \n",
    "                                    \n",
    "        selfsssss.name = name\n",
    "        selfsssss.age = age  \n",
    "    \n",
    "    # instance method`\n",
    "    def sing(self, song):\n",
    "        return \"{} sings {}\".format(self.name, song)\n",
    "\n",
    "    def dance(self):\n",
    "        return \"{} is now dancing\".format(self.name)\n",
    "    \n",
    "    @classmethod # anotation -> decorator \n",
    "    def dance2(cls): # 클래스 메소드는 관례상 cls \n",
    "# !      return \"{} is now dancing2\".format(self.name) # cls인디 self -> 인스턴스 변수 면 에러 \n",
    "        return \"{} is now dancing2\""
   ]
  },
  {
   "cell_type": "code",
   "execution_count": 134,
   "metadata": {
    "scrolled": true
   },
   "outputs": [
    {
     "data": {
      "text/plain": [
       "'{} is now dancing2'"
      ]
     },
     "execution_count": 134,
     "metadata": {},
     "output_type": "execute_result"
    }
   ],
   "source": [
    "Parrot.dance2() # class 메소드는 class 명 을 쓰고 기입을 한다. "
   ]
  },
  {
   "cell_type": "code",
   "execution_count": 135,
   "metadata": {},
   "outputs": [],
   "source": [
    "a = Parrot('sun' ,42)"
   ]
  },
  {
   "cell_type": "code",
   "execution_count": 136,
   "metadata": {},
   "outputs": [
    {
     "data": {
      "text/plain": [
       "'{} is now dancing2'"
      ]
     },
     "execution_count": 136,
     "metadata": {},
     "output_type": "execute_result"
    }
   ],
   "source": [
    "a.__class__.dance2() # instance.__class__ -> real class 전자와 같은 개념 "
   ]
  },
  {
   "cell_type": "markdown",
   "metadata": {},
   "source": [
    "# Inheritance\n",
    "ch09 참조\n",
    "\n",
    "- 객체지향의 특징은 상속으로 확장과 변경이 가능하다 (재사용), #함수같은경우 재사용이 힘들다. \n",
    "- 상속은 상식적으로 2가지 \n",
    "- 단일 상속(java), 다중상속 (c++)<br>\n",
    "<br>\n",
    "- 파이썬은 다중상속 ,추상클래스 기법 가능 <br>\n",
    "<br>\n",
    "- 가능한 다중상속 쓰지마 \n",
    "-  java에서는 다중상속이 없지만 다중상속처럼 쓸 수 있는것이  -> interface \n"
   ]
  },
  {
   "cell_type": "markdown",
   "metadata": {},
   "source": [
    "## 상속의 문제점 \n",
    "- 나는 어떤 기능 한 개만 바꾸고 싶은디 \n",
    "- 상속 받은거 엄청 커 그럼 부모 성질 다 갖고 오잖아\n",
    "- 그래서 메모리커지잖아 \n",
    "- 그래서 상속을 쓰지 않는게 대부분\n",
    "- 참고로 간단한 확장시킬 수 있어 다른 언어에서는 다른 방법으로 사용한다. swift ...etc\n",
    "- 가장 간단한 방법이기 때문에 (확장)"
   ]
  },
  {
   "cell_type": "markdown",
   "metadata": {},
   "source": [
    "#  Encapsulation\n",
    "ch09 참조"
   ]
  },
  {
   "cell_type": "code",
   "execution_count": 137,
   "metadata": {},
   "outputs": [],
   "source": [
    "# class는 private가 없어서 외부에서 관리 해주는게 어렵다 \n",
    "# 그래서 캡슐화 \n",
    "# 근디 mutable 땜에 또 골치 아프다 "
   ]
  },
  {
   "cell_type": "code",
   "execution_count": 138,
   "metadata": {},
   "outputs": [],
   "source": [
    "class Computer:\n",
    "\n",
    "    def __init__(self): # __ -> private _ -> 예약어\n",
    "        self.__maxprice = 900\n",
    "\n",
    "    def sell(self):\n",
    "        print(\"Selling Price: {}\".format(self.__maxprice))\n",
    "        \n",
    "    def setMaxPrice(self, price):\n",
    "        self.__maxprice = price"
   ]
  },
  {
   "cell_type": "code",
   "execution_count": 139,
   "metadata": {},
   "outputs": [
    {
     "name": "stdout",
     "output_type": "stream",
     "text": [
      "Selling Price: 900\n",
      "Selling Price: 900\n",
      "Selling Price: 1000\n"
     ]
    }
   ],
   "source": [
    "c = Computer()\n",
    "c.sell()\n",
    "\n",
    "# change the price\n",
    "c.__maxprice = 1000\n",
    "c.sell()\n",
    "\n",
    "# using setter function\n",
    "c.setMaxPrice(1000)\n",
    "c.sell()"
   ]
  },
  {
   "cell_type": "code",
   "execution_count": 140,
   "metadata": {
    "collapsed": true
   },
   "outputs": [
    {
     "data": {
      "text/plain": [
       "['_Computer__maxprice',\n",
       " '__class__',\n",
       " '__delattr__',\n",
       " '__dict__',\n",
       " '__dir__',\n",
       " '__doc__',\n",
       " '__eq__',\n",
       " '__format__',\n",
       " '__ge__',\n",
       " '__getattribute__',\n",
       " '__gt__',\n",
       " '__hash__',\n",
       " '__init__',\n",
       " '__init_subclass__',\n",
       " '__le__',\n",
       " '__lt__',\n",
       " '__maxprice',\n",
       " '__module__',\n",
       " '__ne__',\n",
       " '__new__',\n",
       " '__reduce__',\n",
       " '__reduce_ex__',\n",
       " '__repr__',\n",
       " '__setattr__',\n",
       " '__sizeof__',\n",
       " '__str__',\n",
       " '__subclasshook__',\n",
       " '__weakref__',\n",
       " 'sell',\n",
       " 'setMaxPrice']"
      ]
     },
     "execution_count": 140,
     "metadata": {},
     "output_type": "execute_result"
    }
   ],
   "source": [
    "dir(c)"
   ]
  },
  {
   "cell_type": "code",
   "execution_count": 141,
   "metadata": {
    "scrolled": true
   },
   "outputs": [
    {
     "data": {
      "text/plain": [
       "{'_Computer__maxprice': 1000, '__maxprice': 1000}"
      ]
     },
     "execution_count": 141,
     "metadata": {},
     "output_type": "execute_result"
    }
   ],
   "source": [
    "vars(c)"
   ]
  },
  {
   "cell_type": "markdown",
   "metadata": {},
   "source": [
    "# Polymorphism\n",
    "ch09 참조 \n",
    "\n",
    "- 폴리모피즘은 상속하는 얘만\n",
    "- 파이썬은 상관 없어 Liskov Substitutiuin principle\n",
    "- 파이썬에서 다형성에서 상속을 안받아도 상관없는것이 특징"
   ]
  },
  {
   "cell_type": "code",
   "execution_count": 143,
   "metadata": {},
   "outputs": [
    {
     "name": "stdout",
     "output_type": "stream",
     "text": [
      "Parrot can fly\n",
      "Penguin can't fly\n"
     ]
    }
   ],
   "source": [
    "class Parrot:\n",
    "\n",
    "    def fly(self): # 상속 안받음\n",
    "        print(\"Parrot can fly\")\n",
    "    \n",
    "    def swim(self):\n",
    "        print(\"Parrot can't swim\")\n",
    "\n",
    "class Penguin:\n",
    "\n",
    "    def fly(self): #상속 안받음 \n",
    "        print(\"Penguin can't fly\")\n",
    "    \n",
    "    def swim(self):\n",
    "        print(\"Penguin can swim\")# common interface\n",
    "def flying_test(bird): # bird 상속 안받았지만, duck typing! 제공 <- 인스턴스가 온다 , \n",
    "                       # self, 다른 언어에서는 전혀 안됨 (duck typing 지원하는거 이외)\n",
    "    bird.fly() # duck typing \n",
    "\n",
    "#instantiate objects\n",
    "blu = Parrot()\n",
    "peggy = Penguin()\n",
    "\n",
    "# passing the object\n",
    "flying_test(blu)\n",
    "flying_test(peggy)"
   ]
  },
  {
   "cell_type": "markdown",
   "metadata": {},
   "source": [
    "# duck-typing (덕 타이핑)\n",
    "ch09 참조 \n",
    "\n",
    "올바른 인터페이스를 가졌는지 판단하는데 객체의 형을 보지 않는 프로그래밍 스타일; 대신, 단순히 메서드나 어트리뷰트가 호출되거나 사용됩니다 (\"오리처럼 보이고 오리처럼 꽥꽥댄다면, 그것은 오리다.\") 특정한 형 대신에 인터페이스를 강조함으로써, 잘 설계된 코드는 다형적인 치환을 허락함으로써 유연성을 개선할 수 있습니다. 덕 타이핑은 type() 이나 isinstance() 을 사용한 검사를 피합니다. (하지만, 덕 타이핑이 추상 베이스 클래스 로 보완될 수 있음에 유의해야 합니다.) 대신에, hasattr() 검사나 EAFP 프로그래밍을 씁니다."
   ]
  },
  {
   "cell_type": "markdown",
   "metadata": {},
   "source": [
    "# MRO\n",
    "ch09 참조\n",
    "\n",
    "메서드 결정 순서 를 보세요. "
   ]
  },
  {
   "cell_type": "markdown",
   "metadata": {},
   "source": [
    "# method resolution order (메서드 결정 순서)\n",
    "메서드 결정 순서는 조회하는 동안 멤버를 검색하는 베이스 클래스들의 순서입니다. 2.3 릴리스부터 파이썬 인터프리터에 사용된 알고리즘의 상세한 내용은 The Python 2.3 Method Resolution Order 를 보면 됩니다."
   ]
  },
  {
   "cell_type": "markdown",
   "metadata": {},
   "source": [
    "# provisional API (잠정 API)\n",
    "잠정 API는 표준 라이브러리의 과거 호환성 보장으로부터 신중히 제외된 것입니다. 인터페이스의 큰 변화가 예상되지는 않지만, 잠정적이라고 표시되는 한, 코어 개발자들이 필요하다고 생각한다면 과거 호환성이 유지되지 않는 변경이 일어날 수 있습니다. 그런 변경은 불필요한 방식으로 일어나지는 않을 것입니다 --- API를 포함하기 전에 놓친 중대하고 근본적인 결함이 발견된 경우에만 일어날 것입니다.\n",
    "\n",
    "잠정 API에서조차도, 과거 호환성이 유지되지 않는 변경은 \"최후의 수단\"으로 여겨집니다 - 모든 식별된 문제들에 대해 과거 호환성을 유지하는 해법을 찾으려는 모든 시도가 선행됩니다.\n",
    "\n",
    "이 절차는 표준 라이브러리가 오랜 시간 동안 잘못된 설계 오류에 발목 잡히지 않고 발전할 수 있도록 만듭니다. 더 자세한 내용은 PEP 411 를 보면 됩니다."
   ]
  },
  {
   "cell_type": "markdown",
   "metadata": {},
   "source": [
    "# provisional package (잠정 패키지)\n",
    "잠정 API 를 보세요."
   ]
  },
  {
   "cell_type": "code",
   "execution_count": null,
   "metadata": {},
   "outputs": [],
   "source": []
  }
 ],
 "metadata": {
  "kernelspec": {
   "display_name": "Python 3",
   "language": "python",
   "name": "python3"
  },
  "language_info": {
   "codemirror_mode": {
    "name": "ipython",
    "version": 3
   },
   "file_extension": ".py",
   "mimetype": "text/x-python",
   "name": "python",
   "nbconvert_exporter": "python",
   "pygments_lexer": "ipython3",
   "version": "3.6.4"
  }
 },
 "nbformat": 4,
 "nbformat_minor": 2
}
