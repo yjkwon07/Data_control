{
 "cells": [
  {
   "cell_type": "code",
   "execution_count": 2,
   "metadata": {},
   "outputs": [],
   "source": [
    "import requests"
   ]
  },
  {
   "cell_type": "code",
   "execution_count": 3,
   "metadata": {},
   "outputs": [],
   "source": [
    "resp = requests.get(\"http://example.webscraping.com/places/default/search\")"
   ]
  },
  {
   "cell_type": "code",
   "execution_count": 4,
   "metadata": {},
   "outputs": [],
   "source": [
    "from bs4 import BeautifulSoup"
   ]
  },
  {
   "cell_type": "code",
   "execution_count": 5,
   "metadata": {},
   "outputs": [],
   "source": [
    "dom = BeautifulSoup(resp.content, \"lxml\")"
   ]
  },
  {
   "cell_type": "code",
   "execution_count": 6,
   "metadata": {},
   "outputs": [],
   "source": [
    "result = dom.select(\"#results\")"
   ]
  },
  {
   "cell_type": "code",
   "execution_count": 7,
   "metadata": {},
   "outputs": [
    {
     "data": {
      "text/plain": [
       "1"
      ]
     },
     "execution_count": 7,
     "metadata": {},
     "output_type": "execute_result"
    }
   ],
   "source": [
    "len(result)"
   ]
  },
  {
   "cell_type": "code",
   "execution_count": 8,
   "metadata": {},
   "outputs": [
    {
     "data": {
      "text/plain": [
       "[<div id=\"results\">\n",
       " </div>]"
      ]
     },
     "execution_count": 8,
     "metadata": {},
     "output_type": "execute_result"
    }
   ],
   "source": [
    "result #원래 받은 html이 비어있으니깐 (비동기식 (ajax))"
   ]
  },
  {
   "cell_type": "code",
   "execution_count": 9,
   "metadata": {},
   "outputs": [],
   "source": [
    "# selenium\n",
    "# 검색 자동화 툴 \n",
    "# web system flow 자동화 \n",
    "# 가상 브라우저를 띄어서 새롭게 반영된 dom을 새로고침한 html을 가져온다 \n",
    "\n",
    "# 매크로 만드는데 쓰임 \n",
    "# 개발자 하는일들을 줄여준다 \n"
   ]
  },
  {
   "cell_type": "code",
   "execution_count": 10,
   "metadata": {},
   "outputs": [
    {
     "name": "stdout",
     "output_type": "stream",
     "text": [
      "Requirement already satisfied: selenium in c:\\programdata\\anaconda3\\lib\\site-packages (3.13.0)\n"
     ]
    },
    {
     "name": "stderr",
     "output_type": "stream",
     "text": [
      "tensorflow-gpu 1.7.0 has requirement tensorboard<1.8.0,>=1.7.0, but you'll have tensorboard 1.8.0 which is incompatible.\n"
     ]
    }
   ],
   "source": [
    "!pip install selenium"
   ]
  },
  {
   "cell_type": "code",
   "execution_count": 11,
   "metadata": {},
   "outputs": [],
   "source": [
    "from selenium import webdriver"
   ]
  },
  {
   "cell_type": "code",
   "execution_count": 12,
   "metadata": {},
   "outputs": [
    {
     "data": {
      "text/plain": [
       "<selenium.webdriver.chrome.webdriver.WebDriver (session=\"eb8b51803804451813eda742f750ac4c\")>"
      ]
     },
     "execution_count": 12,
     "metadata": {},
     "output_type": "execute_result"
    }
   ],
   "source": [
    "webdriver.Chrome()"
   ]
  },
  {
   "cell_type": "code",
   "execution_count": 13,
   "metadata": {},
   "outputs": [
    {
     "data": {
      "text/plain": [
       "<selenium.webdriver.chrome.webdriver.WebDriver (session=\"1398a57b2b0e69bf011e425ab8d4de1e\")>"
      ]
     },
     "execution_count": 13,
     "metadata": {},
     "output_type": "execute_result"
    }
   ],
   "source": [
    "webdriver.Chrome()"
   ]
  },
  {
   "cell_type": "code",
   "execution_count": 14,
   "metadata": {},
   "outputs": [
    {
     "name": "stdout",
     "output_type": "stream",
     "text": [
      "Requirement already satisfied: service in c:\\programdata\\anaconda3\\lib\\site-packages (0.5.1)\n",
      "Requirement already satisfied: python-daemon>=2.1.2 in c:\\programdata\\anaconda3\\lib\\site-packages (from service) (2.1.2)\n",
      "Requirement already satisfied: pid>=2.2.0 in c:\\programdata\\anaconda3\\lib\\site-packages (from service) (2.2.0)\n",
      "Requirement already satisfied: setproctitle>=1.1.10 in c:\\programdata\\anaconda3\\lib\\site-packages (from service) (1.1.10)\n",
      "Requirement already satisfied: docutils in c:\\programdata\\anaconda3\\lib\\site-packages (from python-daemon>=2.1.2->service) (0.14)\n",
      "Requirement already satisfied: setuptools in c:\\programdata\\anaconda3\\lib\\site-packages (from python-daemon>=2.1.2->service) (38.4.0)\n",
      "Requirement already satisfied: lockfile>=0.10 in c:\\programdata\\anaconda3\\lib\\site-packages (from python-daemon>=2.1.2->service) (0.12.2)\n"
     ]
    },
    {
     "name": "stderr",
     "output_type": "stream",
     "text": [
      "tensorflow-gpu 1.7.0 has requirement tensorboard<1.8.0,>=1.7.0, but you'll have tensorboard 1.8.0 which is incompatible.\n"
     ]
    }
   ],
   "source": [
    "!pip install service"
   ]
  },
  {
   "cell_type": "code",
   "execution_count": 23,
   "metadata": {},
   "outputs": [
    {
     "ename": "ModuleNotFoundError",
     "evalue": "No module named 'pwd'",
     "output_type": "error",
     "traceback": [
      "\u001b[1;31m---------------------------------------------------------------------------\u001b[0m",
      "\u001b[1;31mModuleNotFoundError\u001b[0m                       Traceback (most recent call last)",
      "\u001b[1;32m<ipython-input-23-855091ed79ca>\u001b[0m in \u001b[0;36m<module>\u001b[1;34m()\u001b[0m\n\u001b[1;32m----> 1\u001b[1;33m \u001b[1;32mimport\u001b[0m \u001b[0mservice\u001b[0m\u001b[1;33m\u001b[0m\u001b[0m\n\u001b[0m",
      "\u001b[1;32mC:\\ProgramData\\Anaconda3\\lib\\site-packages\\service\\__init__.py\u001b[0m in \u001b[0;36m<module>\u001b[1;34m()\u001b[0m\n\u001b[0;32m     32\u001b[0m \u001b[1;32mimport\u001b[0m \u001b[0mtime\u001b[0m\u001b[1;33m\u001b[0m\u001b[0m\n\u001b[0;32m     33\u001b[0m \u001b[1;33m\u001b[0m\u001b[0m\n\u001b[1;32m---> 34\u001b[1;33m \u001b[1;32mfrom\u001b[0m \u001b[0mdaemon\u001b[0m \u001b[1;32mimport\u001b[0m \u001b[0mDaemonContext\u001b[0m\u001b[1;33m\u001b[0m\u001b[0m\n\u001b[0m\u001b[0;32m     35\u001b[0m \u001b[1;32mfrom\u001b[0m \u001b[0mpid\u001b[0m \u001b[1;32mimport\u001b[0m \u001b[0mPidFile\u001b[0m\u001b[1;33m\u001b[0m\u001b[0m\n\u001b[0;32m     36\u001b[0m \u001b[1;32mimport\u001b[0m \u001b[0msetproctitle\u001b[0m\u001b[1;33m\u001b[0m\u001b[0m\n",
      "\u001b[1;32mC:\\ProgramData\\Anaconda3\\lib\\site-packages\\daemon\\__init__.py\u001b[0m in \u001b[0;36m<module>\u001b[1;34m()\u001b[0m\n\u001b[0;32m     40\u001b[0m \u001b[1;32mfrom\u001b[0m \u001b[0m__future__\u001b[0m \u001b[1;32mimport\u001b[0m \u001b[1;33m(\u001b[0m\u001b[0mabsolute_import\u001b[0m\u001b[1;33m,\u001b[0m \u001b[0municode_literals\u001b[0m\u001b[1;33m)\u001b[0m\u001b[1;33m\u001b[0m\u001b[0m\n\u001b[0;32m     41\u001b[0m \u001b[1;33m\u001b[0m\u001b[0m\n\u001b[1;32m---> 42\u001b[1;33m \u001b[1;32mfrom\u001b[0m \u001b[1;33m.\u001b[0m\u001b[0mdaemon\u001b[0m \u001b[1;32mimport\u001b[0m \u001b[0mDaemonContext\u001b[0m\u001b[1;33m\u001b[0m\u001b[0m\n\u001b[0m\u001b[0;32m     43\u001b[0m \u001b[1;33m\u001b[0m\u001b[0m\n\u001b[0;32m     44\u001b[0m \u001b[1;33m\u001b[0m\u001b[0m\n",
      "\u001b[1;32mC:\\ProgramData\\Anaconda3\\lib\\site-packages\\daemon\\daemon.py\u001b[0m in \u001b[0;36m<module>\u001b[1;34m()\u001b[0m\n\u001b[0;32m     23\u001b[0m \u001b[1;32mimport\u001b[0m \u001b[0mos\u001b[0m\u001b[1;33m\u001b[0m\u001b[0m\n\u001b[0;32m     24\u001b[0m \u001b[1;32mimport\u001b[0m \u001b[0msys\u001b[0m\u001b[1;33m\u001b[0m\u001b[0m\n\u001b[1;32m---> 25\u001b[1;33m \u001b[1;32mimport\u001b[0m \u001b[0mpwd\u001b[0m\u001b[1;33m\u001b[0m\u001b[0m\n\u001b[0m\u001b[0;32m     26\u001b[0m \u001b[1;32mimport\u001b[0m \u001b[0mresource\u001b[0m\u001b[1;33m\u001b[0m\u001b[0m\n\u001b[0;32m     27\u001b[0m \u001b[1;32mimport\u001b[0m \u001b[0merrno\u001b[0m\u001b[1;33m\u001b[0m\u001b[0m\n",
      "\u001b[1;31mModuleNotFoundError\u001b[0m: No module named 'pwd'"
     ]
    }
   ],
   "source": [
    "import service"
   ]
  },
  {
   "cell_type": "code",
   "execution_count": 24,
   "metadata": {},
   "outputs": [
    {
     "ename": "NameError",
     "evalue": "name 'service' is not defined",
     "output_type": "error",
     "traceback": [
      "\u001b[1;31m---------------------------------------------------------------------------\u001b[0m",
      "\u001b[1;31mNameError\u001b[0m                                 Traceback (most recent call last)",
      "\u001b[1;32m<ipython-input-24-fc979443f8d0>\u001b[0m in \u001b[0;36m<module>\u001b[1;34m()\u001b[0m\n\u001b[1;32m----> 1\u001b[1;33m \u001b[0mservice\u001b[0m \u001b[1;33m=\u001b[0m \u001b[0mservice\u001b[0m\u001b[1;33m(\u001b[0m\u001b[1;34m'/path/to/chromdriver'\u001b[0m\u001b[1;33m)\u001b[0m\u001b[1;33m\u001b[0m\u001b[0m\n\u001b[0m",
      "\u001b[1;31mNameError\u001b[0m: name 'service' is not defined"
     ]
    }
   ],
   "source": [
    "service = service('/path/to/chromdriver')"
   ]
  },
  {
   "cell_type": "code",
   "execution_count": 25,
   "metadata": {},
   "outputs": [],
   "source": [
    "driver = webdriver.Chrome()"
   ]
  },
  {
   "cell_type": "code",
   "execution_count": 27,
   "metadata": {},
   "outputs": [],
   "source": [
    "driver.get(\"http://example.webscraping.com/places/default/search\")"
   ]
  },
  {
   "cell_type": "code",
   "execution_count": 29,
   "metadata": {},
   "outputs": [],
   "source": [
    "obj = driver.find_element_by_id(\"search_term\")"
   ]
  },
  {
   "cell_type": "code",
   "execution_count": 30,
   "metadata": {},
   "outputs": [
    {
     "data": {
      "text/plain": [
       "'input'"
      ]
     },
     "execution_count": 30,
     "metadata": {},
     "output_type": "execute_result"
    }
   ],
   "source": [
    "obj.tag_name"
   ]
  },
  {
   "cell_type": "code",
   "execution_count": 34,
   "metadata": {},
   "outputs": [],
   "source": [
    "obj.send_keys(\"korea\")"
   ]
  },
  {
   "cell_type": "code",
   "execution_count": 35,
   "metadata": {},
   "outputs": [],
   "source": [
    "driver.find_element_by_id(\"search\").click()"
   ]
  },
  {
   "cell_type": "code",
   "execution_count": 36,
   "metadata": {},
   "outputs": [
    {
     "data": {
      "text/plain": [
       "'<!--[if HTML5]><![endif]--><!DOCTYPE html><!-- paulirish.com/2008/conditional-stylesheets-vs-css-hacks-answer-neither/ --><!--[if lt IE 7]><html class=\"ie ie6 ie-lte9 ie-lte8 ie-lte7 no-js\" lang=\"en-us\"> <![endif]--><!--[if IE 7]><html class=\"ie ie7 ie-lte9 ie-lte8 ie-lte7 no-js\" lang=\"en-us\"> <![endif]--><!--[if IE 8]><html class=\"ie ie8 ie-lte9 ie-lte8 no-js\" lang=\"en-us\"> <![endif]--><!--[if IE 9]><html class=\"ie9 ie-lte9 no-js\" lang=\"en-us\"> <![endif]--><!--[if (gt IE 9)|!(IE)]><!--><html xmlns=\"http://www.w3.org/1999/xhtml\" class=\" js flexbox flexboxlegacy canvas canvastext webgl no-touch geolocation postmessage websqldatabase indexeddb hashchange history draganddrop websockets rgba hsla multiplebgs backgroundsize borderimage borderradius boxshadow textshadow opacity cssanimations csscolumns cssgradients cssreflections csstransforms csstransforms3d csstransitions fontface generatedcontent video audio localstorage sessionstorage webworkers applicationcache svg inlinesvg smil svgclippaths\" lang=\"en-us\" style=\"\"><!--<![endif]--><head>\\n<title>Example web scraping website</title>\\n  <!--[if !HTML5]>\\n      <meta http-equiv=\"X-UA-Compatible\" content=\"IE=edge,chrome=1\">\\n  <![endif]-->\\n  <!-- www.phpied.com/conditional-comments-block-downloads/ -->\\n  <!-- Always force latest IE rendering engine\\n       (even in intranet) & Chrome Frame\\n       Remove this if you use the .htaccess -->\\n\\t   \\n  <meta charset=\"utf-8\" />\\n\\n  <!-- http://dev.w3.org/html5/markup/meta.name.html -->\\n  <meta name=\"application-name\" content=\"places\" />\\n\\n  <!--  Mobile Viewport Fix\\n        j.mp/mobileviewport & davidbcalhoun.com/2010/viewport-metatag\\n        device-width: Occupy full width of the screen in its current orientation\\n        initial-scale = 1.0 retains dimensions instead of zooming out if page height > device height\\n        user-scalable = yes allows the user to zoom in -->\\n  <meta name=\"viewport\" content=\"width=device-width, initial-scale=1.0\" />\\n\\n  <link rel=\"shortcut icon\" href=\"/places/static/images/favicon.ico\" type=\"image/x-icon\" />\\n  <link rel=\"apple-touch-icon\" href=\"/places/static/images/favicon.png\" />\\n\\n  <!-- All JavaScript at the bottom, except for Modernizr which enables\\n       HTML5 elements & feature detects -->\\n  <script src=\"/places/static/js/modernizr.custom.js\"></script>\\n\\n  <!-- include stylesheets -->\\n  \\n\\n  <script type=\"text/javascript\">&lt;!--\\n    // These variables are used by the web2py_ajax_init function in web2py_ajax.js (which is loaded below).\\n    var w2p_ajax_confirm_message = \"Are you sure you want to delete this object?\";\\n    var w2p_ajax_disable_with_message = \"Working...\";\\n    var w2p_ajax_date_format = \"%Y-%m-%d\";\\n    var w2p_ajax_datetime_format = \"%Y-%m-%d %H:%M:%S\";\\n    var ajax_error_500 = \\'An error occured, please &lt;a href=\"/places/default/search\"&gt;reload&lt;/a&gt; the page\\'\\n    //--&gt;</script>\\n\\n<meta name=\"keywords\" content=\"web2py, python, web scraping\" />\\n<meta name=\"generator\" content=\"Web2py Web Framework\" />\\n<meta name=\"author\" content=\"Richard Penman\" />\\n<script src=\"/places/static/js/jquery.js\" type=\"text/javascript\"></script><link href=\"/places/static/css/calendar.css\" rel=\"stylesheet\" type=\"text/css\" /><script src=\"/places/static/js/calendar.js\" type=\"text/javascript\"></script><script src=\"/places/static/js/web2py.js\" type=\"text/javascript\"></script><link href=\"/places/static/css/web2py.css\" rel=\"stylesheet\" type=\"text/css\" /><link href=\"/places/static/css/bootstrap.min.css\" rel=\"stylesheet\" type=\"text/css\" /><link href=\"/places/static/css/bootstrap-responsive.min.css\" rel=\"stylesheet\" type=\"text/css\" /><link href=\"/places/static/css/style.css\" rel=\"stylesheet\" type=\"text/css\" /><link href=\"/places/static/css/web2py_bootstrap.css\" rel=\"stylesheet\" type=\"text/css\" />\\n\\n\\n  \\n\\n  <!-- uncomment here to load jquery-ui\\n       <link rel=\"stylesheet\" href=\"http://ajax.googleapis.com/ajax/libs/jqueryui/1.10.3/themes/ui-lightness/jquery-ui.css\" type=\"text/css\" media=\"all\" />\\n       <script src=\"http://ajax.googleapis.com/ajax/libs/jqueryui/1.10.3/jquery-ui.min.js\" type=\"text/javascript\"></script>\\n       uncomment to load jquery-ui //-->\\n  <noscript>&lt;link href=\"/places/static/css/web2py_bootstrap_nojs.css\" rel=\"stylesheet\" type=\"text/css\" /&gt;</noscript>\\n  \\n</head>\\n\\n<body>\\n  <!-- Navbar ================================================== -->\\n  <div class=\"navbar navbar-inverse\">\\n    <div class=\"flash\" style=\"display: none;\"></div>\\n    <div class=\"navbar-inner\">\\n      <div class=\"container\">\\n        \\n        <!-- the next tag is necessary for bootstrap menus, do not remove -->\\n        <button type=\"button\" class=\"btn btn-navbar\" data-toggle=\"collapse\" data-target=\".nav-collapse\" style=\"display:none;\">\\n          <span class=\"icon-bar\"></span>\\n          <span class=\"icon-bar\"></span>\\n          <span class=\"icon-bar\"></span>\\n        </button>\\n        \\n        <ul id=\"navbar\" class=\"nav pull-right\"><li class=\"dropdown\"><a class=\"dropdown-toggle\" data-toggle=\"dropdown\" href=\"#\" rel=\"nofollow\">Log In<b class=\"caret\"></b></a><ul class=\"dropdown-menu\"><li><a href=\"/places/default/user/register?_next=/places/default/search\" rel=\"nofollow\"><i class=\"icon icon-user glyphicon glyphicon-user\"></i> Sign Up</a></li><li class=\"divider\"></li><li><a href=\"/places/default/user/login?_next=/places/default/search\" rel=\"nofollow\"><i class=\"icon icon-off glyphicon glyphicon-off\"></i> Log In</a></li></ul></li></ul>\\n        <div class=\"nav\">\\n          \\n          <ul class=\"nav\"><li class=\"web2py-menu-first\"><a href=\"/places/default/index\">Home</a></li><li class=\"web2py-menu-last\"><a href=\"/places/default/search\">Search</a></li></ul>\\n          \\n        </div><!--/.nav-collapse -->\\n      </div>\\n    </div>\\n  </div><!--/top navbar -->\\n\\n  <div class=\"container\">\\n    <!-- Masthead ================================================== -->\\n      \\n    <header class=\"mastheader row\" id=\"header\">\\n        <div class=\"span12\">\\n            <div class=\"page-header\">\\n                <h1>\\n                    Example web scraping website\\n                    <small></small>\\n                </h1>\\n            </div>\\n        </div>\\n    </header>\\n\\t\\n\\n    <section id=\"main\" class=\"main row\">\\n        \\n\\n        <div class=\"span12\">\\n            \\n            \\n\\n<form>\\n<table>\\n    <tbody><tr>\\n        <th>Name:</th>\\n        <td><input id=\"search_term\" /></td>\\n    </tr>\\n    <tr>\\n        <th>Page size:</th>\\n        <td>\\n            <select id=\"page_size\">\\n                <option>4</option>\\n                <option selected=\"\">10</option>\\n                <option>20</option>\\n            </select>\\n        </td>\\n    </tr>\\n    <tr>\\n        <td></td>\\n        <td>\\n            <input type=\"submit\" id=\"search\" value=\"Search\" class=\"btn\" />\\n        </td>\\n    </tr>\\n</tbody></table>\\n</form>\\n\\n<div id=\"results\"><table><tbody><tr><td><div><a href=\"/places/default/view/North-Korea-165\"><img src=\"/places/static/images/flags/kp.png\" /> North Korea</a></div></td><td><div><a href=\"/places/default/view/South-Korea-211\"><img src=\"/places/static/images/flags/kr.png\" /> South Korea</a></div></td></tr></tbody></table></div>\\n<div id=\"pagination\"></div>\\n\\n<script language=\"javascript\" type=\"text/javascript\">\\nvar NUM_COLUMNS = 2;\\nvar page = 0;\\n\\n\\n$(function() {\\n    $(\"form\").submit(function() {\\n        page = 0;\\n        search();\\n        return false;\\n    });\\n\\n    load_hash();\\n    window.onhashchange = load_hash;\\n});\\n\\n\\nfunction load_hash() {\\n    // load previous state from hash string\\n    var args = window.location.hash.slice(1).split(\\'|\\')\\n    if(args.length == 3) {\\n        $(\"#search_term\").val(args[0]);\\n        $(\"#page_size\").val(args[1]);\\n        page = parseInt(args[2]);\\n        search();\\n    }\\n}\\n\\n\\nfunction previous() {\\n    page = page - 1;\\n    search();\\n}\\nfunction next() {\\n    page = page + 1;\\n    search();\\n}\\n\\nfunction search() {\\n    var data = {\\n        search_term: $(\"#search_term\").val(),\\n        page_size: parseInt($(\"#page_size\").val()),\\n        page: page,\\n    };\\n    //window.location.hash = data.search_term + \\'|\\' + data.page_size + \\'|\\' + page;\\n\\n    $.ajax({\\n        dataType: \"json\",\\n        url: \"/places/ajax/search.json?\",\\n        data: data,\\n        success: function(results) {\\n            render(results)\\n        }\\n    });\\n}\\n\\nfunction render(results) {\\n    // add resulting records\\n    var html = \"&lt;table&gt;\";\\n    for(var i=0; i &lt; results.records.length; i++) {\\n        var record = results.records[i];\\n        if(i % NUM_COLUMNS == 0) html += \"&lt;tr&gt;\";\\n        html += \"&lt;td&gt;\" + record[\"pretty_link\"] + \"&lt;/td&gt;\";\\n        if(i % NUM_COLUMNS == NUM_COLUMNS - 1) html += \"&lt;/tr&gt;\";\\n    }\\n    $(\"#results\").html(html + \"&lt;/table&gt;\");\\n\\n    // add pagination if necessary\\n    html = \"\";\\n    if(results.num_pages &gt; 1) {\\n        if(page &gt; 0) {\\n            html += \"&lt;a id=\\'previous\\' href=\\'javascript:void(0)\\' onclick=\\'previous()\\'&gt;&amp;lt; Previous&lt;/a&gt;\";\\n        } else {\\n            html += \"&amp;lt; Previous\";\\n        }\\n        html += \" | \";\\n        if(page + 1 &lt; results.num_pages) {\\n            html += \"&lt;a id=\\'next\\' href=\\'javascript:void(0)\\' onclick=\\'next()\\'&gt;Next &amp;gt;&lt;/a&gt;\";\\n        } else {\\n            html += \"Next &amp;gt;\";\\n        \\n        }\\n    }\\n    $(\"#pagination\").html(html);\\n}\\n</script>\\n\\n            \\n        </div>\\n\\n        \\n    </section><!--/main-->\\n\\n    <!-- Footer ================================================== -->\\n    <div class=\"row\">\\n        <footer class=\"footer span12\" id=\"footer\">\\n        </footer>\\n    </div>\\n\\n  </div> <!-- /container -->\\n\\n  <!-- The javascript =============================================\\n       (Placed at the end of the document so the pages load faster) -->\\n  <script src=\"/places/static/js/bootstrap.min.js\"></script>\\n  <script src=\"/places/static/js/web2py_bootstrap.js\"></script>\\n  <!--[if lt IE 7 ]>\\n      <script src=\"/places/static/js/dd_belatedpng.js\"></script>\\n      <script> DD_belatedPNG.fix(\\'img, .png_bg\\'); //fix any <img> or .png_bg background-images </script>\\n      <![endif]-->\\n\\n\\n\\n</body></html>'"
      ]
     },
     "execution_count": 36,
     "metadata": {},
     "output_type": "execute_result"
    }
   ],
   "source": [
    "driver.page_source"
   ]
  },
  {
   "cell_type": "code",
   "execution_count": 38,
   "metadata": {},
   "outputs": [
    {
     "data": {
      "text/plain": [
       "str"
      ]
     },
     "execution_count": 38,
     "metadata": {},
     "output_type": "execute_result"
    }
   ],
   "source": [
    "type(driver.page_source)"
   ]
  },
  {
   "cell_type": "code",
   "execution_count": 49,
   "metadata": {},
   "outputs": [],
   "source": [
    "links = driver.find_element_by_css_selector(\"#results a\") # 단일 element"
   ]
  },
  {
   "cell_type": "code",
   "execution_count": 50,
   "metadata": {},
   "outputs": [
    {
     "data": {
      "text/plain": [
       "<selenium.webdriver.remote.webelement.WebElement (session=\"635701dddb3bf828e17d3b0b883e6205\", element=\"0.85044284608742-3\")>"
      ]
     },
     "execution_count": 50,
     "metadata": {},
     "output_type": "execute_result"
    }
   ],
   "source": [
    "links"
   ]
  },
  {
   "cell_type": "code",
   "execution_count": 51,
   "metadata": {},
   "outputs": [],
   "source": [
    "links = driver.find_elements_by_css_selector(\"#results a\") #동적인 데이터 가져오기 "
   ]
  },
  {
   "cell_type": "code",
   "execution_count": 52,
   "metadata": {},
   "outputs": [
    {
     "name": "stdout",
     "output_type": "stream",
     "text": [
      "North Korea\n",
      "South Korea\n"
     ]
    }
   ],
   "source": [
    "for link in links:\n",
    "    print(link.text)"
   ]
  },
  {
   "cell_type": "code",
   "execution_count": null,
   "metadata": {},
   "outputs": [],
   "source": []
  }
 ],
 "metadata": {
  "kernelspec": {
   "display_name": "Python 3",
   "language": "python",
   "name": "python3"
  },
  "language_info": {
   "codemirror_mode": {
    "name": "ipython",
    "version": 3
   },
   "file_extension": ".py",
   "mimetype": "text/x-python",
   "name": "python",
   "nbconvert_exporter": "python",
   "pygments_lexer": "ipython3",
   "version": "3.6.4"
  }
 },
 "nbformat": 4,
 "nbformat_minor": 2
}
