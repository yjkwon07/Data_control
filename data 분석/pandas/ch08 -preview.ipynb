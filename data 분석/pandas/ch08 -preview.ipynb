{
 "cells": [
  {
   "cell_type": "markdown",
   "metadata": {},
   "source": [
    "# summary\n",
    "- df.melt('religion') # wild -> long if you predict or operator tnat useing the pandas, you have to transfer from wild to long \n",
    "- df2.melt(['iso2', 'year']) # 변수만 있고 값이 없어 humm.. 그럼 dropna\n",
    "- df2.dropna(inplace=True)\n",
    "- df2 = df2.melt(['iso2', 'year'], value_name='문', var_name='근영') \n",
    "\n",
    "\n",
    "- melt_data.groupby('religion').mean() # 보통 통계적 함수 나온다. \n",
    "- melt_data.groupby('religion').min()\n",
    "- df2.groupby('year').sum()\n",
    "- df3[df3.element == 'TMIN'].groupby('month').sum()\n",
    "\n",
    "\n",
    "- df3.groupby('month').mean()\n",
    "- pd.pivot_table(df3, index='month', values='value') # 피벗은 조금 더 쉽게 만든 것 (groupby로 다 해결됨)\n"
   ]
  }
 ],
 "metadata": {
  "kernelspec": {
   "display_name": "Python 3",
   "language": "python",
   "name": "python3"
  },
  "language_info": {
   "codemirror_mode": {
    "name": "ipython",
    "version": 3
   },
   "file_extension": ".py",
   "mimetype": "text/x-python",
   "name": "python",
   "nbconvert_exporter": "python",
   "pygments_lexer": "ipython3",
   "version": "3.6.4"
  }
 },
 "nbformat": 4,
 "nbformat_minor": 2
}
