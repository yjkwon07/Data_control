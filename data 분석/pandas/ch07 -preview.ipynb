{
 "cells": [
  {
   "cell_type": "markdown",
   "metadata": {},
   "source": [
    "# summary\n",
    "- df.dtypes #<- type만 \n",
    "- df.shape\n",
    "- df.describe(include=['object']) \n",
    "    - object->(string) category 분석 항상 object가 좋을 순 없어 할 때마다 경우의 수 따져야 한다.\n",
    "    \n",
    "- pandas data type are the number 7 index \n",
    "    - object - string\n",
    "    - int64 \n",
    "    - float64\n",
    "    - category -> 문자지만 한정되어 있는것\n",
    "    - date type\n",
    "    \n",
    "    \n",
    "- df.set_index('name')\n",
    "- df.reset_index()\n",
    "- df.set_index('name', drop=True) # index drop - > slicing indexing 편하게 쓰기 위해서 \n",
    "\n",
    "\n",
    "- apply는 dataframe or series 둘 다 쓸 수있다.\n",
    "    - df.born_in.apply(len) # functional perdaim # series \n",
    "      \n",
    "- map은 series에서만 쓸 수 있다. \n",
    "    - df.born_in.map(len)\n",
    "\n",
    "\n",
    "<pre>\n",
    "def unknown(x):\n",
    "    if not len(x):\n",
    "        return 'unknwon'\n",
    "    else:\n",
    "        return x\n",
    "</pre>\n",
    "df.born_in = df.born_in.map(unknown) \n",
    "-  map은 inplace가 없기 때문에 새로운 인자로 받아서 사용한다 \n",
    "\n",
    "\n",
    "- import numpy as np \n",
    "- pandas에서 없는 값 np.nan == python에서 None하고 같다.\n",
    "- bi_col.replace('unknwon', np.nan, inplace=True) -> 다른 기능을 쓸 수 있기 때문에\n",
    "\n",
    "\n",
    "- df.born_in.isnull() # null이냐 아니냐 값이 있냐 없냐 \n",
    "- df.born_in.isna()\n",
    "- df.dropna() # 없는 값들을 다 지운다. \n",
    "- df = df.drop('born_in', axis=1)\n",
    "\n",
    "\n",
    "- 중복값 처리 \n",
    "    - df.duplicated('name')\n",
    "    - df[df.duplicated('name')].name # 중복된 사람 이름 \n",
    "    - df.duplicated('name') #series  # dataframe에 사용 \n",
    "    - df.name.duplicated() # seirese\n",
    "    - all_dupes = df[df.duplicated('name') \\\n",
    "    -                 '| df.duplicated('name', keep='last')]' -> 괄호나 중괄호 사이에서는 \\ 행나눔을 사용하지만, [] 안에는 \\사용 안해두 된다.\n"
   ]
  },
  {
   "cell_type": "code",
   "execution_count": null,
   "metadata": {},
   "outputs": [],
   "source": []
  }
 ],
 "metadata": {
  "kernelspec": {
   "display_name": "Python 3",
   "language": "python",
   "name": "python3"
  },
  "language_info": {
   "codemirror_mode": {
    "name": "ipython",
    "version": 3
   },
   "file_extension": ".py",
   "mimetype": "text/x-python",
   "name": "python",
   "nbconvert_exporter": "python",
   "pygments_lexer": "ipython3",
   "version": "3.6.4"
  }
 },
 "nbformat": 4,
 "nbformat_minor": 2
}
