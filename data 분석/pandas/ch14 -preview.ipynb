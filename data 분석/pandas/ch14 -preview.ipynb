{
 "cells": [
  {
   "cell_type": "markdown",
   "metadata": {},
   "source": [
    "# summary \n",
    "data.describe(include='all') # type별로 알 수 있따. # 로케이션을 새로운 영역을 잡고 구역별로 나누는게 통계적 분석\n",
    "\n",
    "- hdf 특색: h5 -> 5 는 버전\n",
    "- 엄청나게 깔끔 \n",
    "- json 포맷처럼 key와 연동 시킬 수 있다. \n",
    "- hdf는 파일포멧도 좋아 \n",
    "- bool 타입을 안쓰는 이유가 0 1 이기 때문에 \n",
    " \n",
    "data.REPORTED_DATE.dt.day # 날짜만 뽑을 수 잇다. #포멧이 정해져있으면 추가적인 기능을 사용 가능   # 이러면 요일별 범죄 분석 \n",
    "<pre>\n",
    "0         29\n",
    "1         29\n",
    "2         29\n",
    "3         29\n",
    "4         29\n",
    "5         29\n",
    "6         29\n",
    "7         29\n",
    "8         20\n",
    "9         29\n",
    "10        29\n",
    "11        21\n",
    "12        24\n",
    "13        29\n",
    "14        12\n",
    "15         2\n",
    "</pre>\n",
    "\n",
    "- 시계열은 시간이 인덱스 # set index \n",
    "\n",
    "data.between_time('2:00','5:00',include_end=False).head() # helpfunc -> slicing\n",
    "\n",
    "data.at_time('5:47').head() \n",
    "\n",
    "data.first('5D') # 있다는것만 알아둬 그냥 슬라이싱해 \n",
    "\n",
    "data.resample('W')\n",
    "<pre>\n",
    "DatetimeIndexResampler [freq=<Week: weekday=6>, axis=0, closed=right, label=right, convention=start, base=0]\n",
    "</pre>\n",
    "\n",
    "weekly_data = data.resample('W').size()\n",
    "\n",
    "weekly_data.head() # resample 쓰기위해 시계열\n",
    "<pre>\n",
    "REPORTED_DATE\n",
    "2012-01-08     877\n",
    "2012-01-15    1071\n",
    "2012-01-22     991\n",
    "2012-01-29     988\n",
    "2012-02-05     888\n",
    "Freq: W-SUN, dtype: int64\n",
    "</pre>"
   ]
  },
  {
   "cell_type": "code",
   "execution_count": null,
   "metadata": {},
   "outputs": [],
   "source": []
  }
 ],
 "metadata": {
  "kernelspec": {
   "display_name": "Python 3",
   "language": "python",
   "name": "python3"
  },
  "language_info": {
   "codemirror_mode": {
    "name": "ipython",
    "version": 3
   },
   "file_extension": ".py",
   "mimetype": "text/x-python",
   "name": "python",
   "nbconvert_exporter": "python",
   "pygments_lexer": "ipython3",
   "version": "3.6.4"
  }
 },
 "nbformat": 4,
 "nbformat_minor": 2
}
