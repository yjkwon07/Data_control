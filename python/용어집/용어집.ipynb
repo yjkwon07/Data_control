{
 "cells": [
  {
   "cell_type": "markdown",
   "metadata": {},
   "source": [
    "# 용어집"
   ]
  },
  {
   "cell_type": "markdown",
   "metadata": {},
   "source": [
    "# Zen of Python (파이썬 젠)\n",
    "파이썬 디자인 원리와 철학들의 목록인데, 인어를 이해하고 사용하는 데 도움이 됩니다. 이 목록은 대화형 프롬프트에서 \"import this\" 를 입력하면 보입니다."
   ]
  },
  {
   "cell_type": "markdown",
   "metadata": {},
   "source": [
    "# BDFL\n",
    "자비로운 종신 독재자 (Benevolent Dictator For Life), 즉 Guido van Rossum, 파이썬의 창시자."
   ]
  },
  {
   "cell_type": "markdown",
   "metadata": {},
   "source": [
    "# IDLE\n",
    "파이썬을 위한 통합 개발 환경 (Integrated Development Environment). IDLE은 파이썬의 표준 배포판에 따라오는 기초적인 편집기와 인터프리터 환경입니다."
   ]
  },
  {
   "cell_type": "markdown",
   "metadata": {},
   "source": [
    "# interpreted (인터프리티드)\n",
    "바이트 코드 컴파일러의 존재 때문에 그 구분이 흐릿해지기는 하지만, 파이썬은 컴파일 언어가 아니라 인터프리터 언어입니다. 이것은 명시적으로 실행 파일을 만들지 않고도, 소스 파일을 직접 실행할 수 있다는 뜻입니다. 그 프로그램이 좀 더 천천히 실행되기는 하지만, 인터프리터 언어는 보통 컴파일 언어보다 짧은 개발/디버깅 주기를 갖습니다. 대화형 도 보세요."
   ]
  },
  {
   "cell_type": "markdown",
   "metadata": {},
   "source": [
    "# interactive (대화형)\n",
    "파이썬은 대화형 인터프리터를 갖고 있는데, 인터프리터 프롬프트에서 문장과 표현식을 입력할 수 있고, 즉각 실행된 결과를 볼 수 있다는 뜻입니다. 인자 없이 단지 python 을 실행하세요 (컴퓨터의 주메뉴에서 선택하는 것도 가능할 수 있습니다). 새 아이디어를 검사하거나 모듈과 패키지를 들여다보는 매우 강력한 방법입니다 (help(x) 를 기억하세요). "
   ]
  },
  {
   "cell_type": "markdown",
   "metadata": {},
   "source": [
    "# PEP\n",
    "파이썬 개선 제안. PEP는 파이썬 커뮤니티에 정보를 제공하거나 파이썬 또는 그 프로세스 또는 환경에 대한 새로운 기능을 설명하는 설계 문서입니다. PEP는 제안된 기능에 대한 간결한 기술 사양 및 근거를 제공해야 합니다.\n",
    "\n",
    "PEP는 주요 새로운 기능을 제안하고 문제에 대한 커뮤니티 입력을 수집하며 파이썬에 들어간 설계 결정을 문서로 만들기 위한 기본 메커니즘입니다. PEP 작성자는 커뮤니티 내에서 합의를 구축하고 반대 의견을 문서화 할 책임이 있습니다.\n",
    "\n",
    "PEP 1 참조하세요. "
   ]
  },
  {
   "cell_type": "markdown",
   "metadata": {},
   "source": [
    "# CPython\n",
    "파이썬 프로그래밍 언어의 규범적인 구현인데, python.org 에서 배포됩니다. 이 구현을 Jython 이나 IronPython 과 같은 다른 것들과 구별할 필요가 있을 때 용어 \"CPython\" 이 사용됩니다. "
   ]
  },
  {
   "cell_type": "markdown",
   "metadata": {},
   "source": [
    "# triple-quoted string (삼중 따옴표 된 문자열)\n",
    "따옴표 (\") 나 작은따옴표 (') 세 개로 둘러싸인 문자열. 그냥 따옴표 하나로 둘러싸인 문자열에 없는 기능을 제공하지는 않지만, 여러 가지 이유에서 쓸모가 있습니다. 이스케이프 되지 않은 작은따옴표나 큰따옴표를 문자열 안에 포함할 수 있도록 하고, 연결 문자를 쓰지 않고도 여러 줄에 걸칠 수 있는데, 독스트링을 쓸 때 특히 쓸모 있습니다."
   ]
  },
  {
   "cell_type": "markdown",
   "metadata": {},
   "source": [
    "# Pythonic (파이썬다운)\n",
    "다른 언어들에서 일반적인 개념들을 사용해서 코드를 구현하는 대신, 파이썬 언어에서 가장 자주 사용되는 이디엄들을 가까이 따르는 아이디어나 코드 조각. 예를 들어, 파이썬에서 자주 쓰는 이디엄은 for 문을 사용해서 이터러블의 모든 요소로 루핑하는 것입니다. 다른 많은 언어에는 이런 종류의 구성물이 없으므로, 파이썬에 익숙하지 않은 사람들은 대신에 숫자 카운터를 사용하기도 합니다:"
   ]
  },
  {
   "cell_type": "code",
   "execution_count": 22,
   "metadata": {},
   "outputs": [],
   "source": [
    "food = 1,2,3,4"
   ]
  },
  {
   "cell_type": "code",
   "execution_count": 23,
   "metadata": {},
   "outputs": [
    {
     "name": "stdout",
     "output_type": "stream",
     "text": [
      "1\n",
      "2\n",
      "3\n",
      "4\n"
     ]
    }
   ],
   "source": [
    "for i in range(len(food)):\n",
    "    print(food[i])"
   ]
  },
  {
   "cell_type": "code",
   "execution_count": 24,
   "metadata": {},
   "outputs": [
    {
     "name": "stdout",
     "output_type": "stream",
     "text": [
      "1\n",
      "2\n",
      "3\n",
      "4\n"
     ]
    }
   ],
   "source": [
    "# 더 깔끔한, 파이썬다운 방법은 이렇습니다:\n",
    "for piece in food:\n",
    "    print(piece)"
   ]
  },
  {
   "cell_type": "markdown",
   "metadata": {},
   "source": [
    "# local enclosed global builtin scope(LEGB)\n",
    "ch04, cho5 참조, LEGB 참조"
   ]
  },
  {
   "cell_type": "markdown",
   "metadata": {},
   "source": [
    "---"
   ]
  },
  {
   "cell_type": "markdown",
   "metadata": {},
   "source": [
    "# keyword argument (키워드 인자)\n",
    "인자 를 보세요.\n"
   ]
  },
  {
   "cell_type": "markdown",
   "metadata": {},
   "source": [
    "# as(alias)\n",
    "ch04 참조<br>\n",
    "namespace는 그대로 두고 사용자 편의성을 둔다.(as) # define\n",
    "행동은 똑같다."
   ]
  },
  {
   "cell_type": "markdown",
   "metadata": {},
   "source": [
    "# type alias (형 에일리어스)\n",
    "형을 식별자에 대입하여 만들어지는 형의 동의어.\n",
    "\n",
    "형 에일리어스는 형 힌트를 단순화하는 데 유용합니다. 예를 들면:"
   ]
  },
  {
   "cell_type": "code",
   "execution_count": 17,
   "metadata": {},
   "outputs": [],
   "source": [
    "from typing import List, Tuple\n",
    "\n",
    "def remove_gray_shades(\n",
    "        colors: List[Tuple[int, int, int]]) -> List[Tuple[int, int, int]]:\n",
    "    pass"
   ]
  },
  {
   "cell_type": "code",
   "execution_count": 19,
   "metadata": {},
   "outputs": [],
   "source": [
    "# 다음과 같이 더 읽기 쉽게 만들 수 있습니다:\n",
    "\n",
    "from typing import List, Tuple\n",
    "\n",
    "Color = Tuple[int, int, int]\n",
    "\n",
    "def remove_gray_shades(colors: List[Color]) -> List[Color]:\n",
    "    pass\n",
    "# 이 기능을 설명하는 typing과 PEP 484를 참조하세요."
   ]
  },
  {
   "cell_type": "markdown",
   "metadata": {},
   "source": [
    "# None \n",
    "ch04 참조<br>\n",
    "None은 False 아무것도 없으면 Fasle 아무것도 가리키지 않을 때"
   ]
  },
  {
   "cell_type": "code",
   "execution_count": 104,
   "metadata": {},
   "outputs": [
    {
     "data": {
      "text/plain": [
       "False"
      ]
     },
     "execution_count": 104,
     "metadata": {},
     "output_type": "execute_result"
    }
   ],
   "source": [
    "True == None"
   ]
  },
  {
   "cell_type": "code",
   "execution_count": 105,
   "metadata": {},
   "outputs": [
    {
     "data": {
      "text/plain": [
       "False"
      ]
     },
     "execution_count": 105,
     "metadata": {},
     "output_type": "execute_result"
    }
   ],
   "source": [
    "False is None"
   ]
  },
  {
   "cell_type": "code",
   "execution_count": 106,
   "metadata": {},
   "outputs": [
    {
     "name": "stdout",
     "output_type": "stream",
     "text": [
      "b\n"
     ]
    }
   ],
   "source": [
    "if None:\n",
    "    print('a')\n",
    "else:\n",
    "    print('b')"
   ]
  },
  {
   "cell_type": "code",
   "execution_count": 107,
   "metadata": {},
   "outputs": [
    {
     "name": "stdout",
     "output_type": "stream",
     "text": [
      "b\n"
     ]
    }
   ],
   "source": [
    "a = None\n",
    "if a is not None: # a가 존재하면\n",
    "    print('a')\n",
    "else:\n",
    "    print('b')"
   ]
  },
  {
   "cell_type": "code",
   "execution_count": 108,
   "metadata": {},
   "outputs": [
    {
     "name": "stdout",
     "output_type": "stream",
     "text": [
      "b\n"
     ]
    }
   ],
   "source": [
    "a = None\n",
    "if a:\n",
    "    print('a')\n",
    "else:\n",
    "    print('b')"
   ]
  },
  {
   "cell_type": "markdown",
   "metadata": {},
   "source": [
    "# argument (인자)\n",
    "key point; keyword argument, position argument<br>\n",
    "ch05 참조;\n",
    "\n",
    "함수를 호출할 때 함수 (또는 메서드) 로 전달되는 값. 두 종류의 인자가 있습니다:\n",
    "\n",
    "- 키워드 인자 (keyword argument): 함수 호출 때 식별자가 앞에 붙은 인자 (예를 들어, name=)  또는 **** 를 앞에 붙인 딕셔너리로 전달되는 인자. 예를 들어, 다음과 같은 complex() 호출에서 3 과 5 는 모두 키워드 인자입니다:\n",
    "\n",
    "complex(real=3, imag=5)<br>\n",
    "complex(**{'real': 3, 'imag': 5})<br>\n",
    "\n",
    "- 위치 인자 (positional argument): 키워드 인자가 아닌 인자. 위치 인자들은 인자 목록의 처음에 나오거나 이터러블 의 앞에 * 를 붙여 전달할 수 있습니다. 예를 들어, 다음과 같은 호출에서 3 과 5 는 모두 위치 인자입니다.\n",
    "\n",
    "complex(3, 5)<br>\n",
    "complex(*(3, 5))<br>\n",
    "\n",
    "인자는 함수 바의 이름 붙은 지역 변수에 대입됩니다. 이 대입에 적용되는 규칙들에 대해서는 호출 섹션을 보세요. 문법적으로, 어떤 표현식이건 인자로 사용될 수 있습니다; 구해진 값이 지역 변수에 대입됩니다.\n",
    "\n",
    "용어집의 매개변수 항목과 FAQ 질문 인자와 매개변수의 차이 와 PEP 362 도 보세요"
   ]
  },
  {
   "cell_type": "code",
   "execution_count": 15,
   "metadata": {},
   "outputs": [],
   "source": [
    "import keyword"
   ]
  },
  {
   "cell_type": "code",
   "execution_count": 16,
   "metadata": {},
   "outputs": [
    {
     "data": {
      "text/plain": [
       "['False',\n",
       " 'None',\n",
       " 'True',\n",
       " 'and',\n",
       " 'as',\n",
       " 'assert',\n",
       " 'break',\n",
       " 'class',\n",
       " 'continue',\n",
       " 'def',\n",
       " 'del',\n",
       " 'elif',\n",
       " 'else',\n",
       " 'except',\n",
       " 'finally',\n",
       " 'for',\n",
       " 'from',\n",
       " 'global',\n",
       " 'if',\n",
       " 'import',\n",
       " 'in',\n",
       " 'is',\n",
       " 'lambda',\n",
       " 'nonlocal',\n",
       " 'not',\n",
       " 'or',\n",
       " 'pass',\n",
       " 'raise',\n",
       " 'return',\n",
       " 'try',\n",
       " 'while',\n",
       " 'with',\n",
       " 'yield']"
      ]
     },
     "execution_count": 16,
     "metadata": {},
     "output_type": "execute_result"
    }
   ],
   "source": [
    "keyword.kwlist"
   ]
  },
  {
   "cell_type": "markdown",
   "metadata": {},
   "source": [
    "# parameter (매개변수)\n",
    "함수 (또는 메서드) 정의에서 함수가 받을 수 있는 인자 (또는 어떤 경우 인자들) 를 지정하는 이름 붙은 엔티티. 다섯 종류의 매개변수가 있습니다:\n",
    "\n",
    "- 위치-키워드 (positional-or-keyword): 위치 인자 나 키워드 인자 로 전달될 수 있는 인자를 지정합니다. 이것이 기본 형태의 매개변수입니다, 예를 들어 다음에서 foo 와 bar:"
   ]
  },
  {
   "cell_type": "code",
   "execution_count": 1,
   "metadata": {},
   "outputs": [],
   "source": [
    "def func(foo, bar=None): ..."
   ]
  },
  {
   "cell_type": "markdown",
   "metadata": {},
   "source": [
    "- 위치-전용 (positional-only): 위치로만 제공될 수 있는 인자를 지정합니다. 파이썬은 위치-전용 매개변수를 정의하는 문법을 갖고 있지 않습니다. 하지만, 어떤 매장 함수들은 위치-전용 매개변수를 갖습니다 (예를 들어, abs()).\n",
    "\n",
    "\n",
    "- 키워드-전용 (keyword-only): 키워드로만 제공될 수 있는 인자를 지정합니다. 키워드-전용 매개변수는 함수 정의의 매개변수 목록에서 앞에 하나의 가변-위치 매개변수나 * 를 그대로 포함해서 정의할 수 있습니다. 예를 들어, 다음에서 kw_only1 와 kw_only2:"
   ]
  },
  {
   "cell_type": "code",
   "execution_count": 2,
   "metadata": {},
   "outputs": [],
   "source": [
    "def func(arg, *, kw_only1, kw_only2): ..."
   ]
  },
  {
   "cell_type": "markdown",
   "metadata": {},
   "source": [
    "- 가변-위치 (var-positional): (다른 매개변수들에 의해서 이미 받아들여진 위치 인자들에 더해) 제공될 수 있는 위치 인자들의 임의의 시퀀스를 지정합니다. 이런 매개변수는 매개변수 이름에 * 를 앞에 붙여서 정의될 수 있습니다, 예를 들어 다음에서 args:"
   ]
  },
  {
   "cell_type": "markdown",
   "metadata": {},
   "source": [
    "- 가변-키워드 (var-keyword): (다른 매개변수들에 의해서 이미 받아들여진 키워드 인자들에 더해) 제공될 수 있는 임의의 개수 키워드 인자들을 지정합니다. 이런 매개변수는 매개변수 이름에 ** 를 앞에 붙여서 정의될 수 있습니다, 예를 들어 위의 예 에서 kwargs."
   ]
  },
  {
   "cell_type": "code",
   "execution_count": 60,
   "metadata": {},
   "outputs": [],
   "source": [
    "def func(*args, **kwargs): ..."
   ]
  },
  {
   "cell_type": "markdown",
   "metadata": {},
   "source": [
    "매개변수는 선택적 인자들을 위한 기본값뿐만 아니라 선택적이거나 필수 인자들을 지정할 수 있습니다.\n",
    "\n",
    "인자 용어집 항목, 인자와 매개변수의 차이 에 나오는 FAQ 질문, inspect.Parameter 클래스, 함수 정의 섹션, PEP 362 도 보세요. "
   ]
  },
  {
   "cell_type": "markdown",
   "metadata": {},
   "source": [
    "# Arbitary argument lists\n",
    "key word; unpacking; *\n",
    "\n",
    "ch 05 참조 \n",
    "\n",
    "■ A function can be defined to take a variable argument list<br>\n",
    "■ Variadic arguments passed in as a tuple (im)<br>\n",
    "■ Variadic parameter declared using * after any mandatory positional arguments<br>\n",
    "■ This syntax also works in assignments<br>"
   ]
  },
  {
   "cell_type": "code",
   "execution_count": 109,
   "metadata": {},
   "outputs": [],
   "source": [
    "def mean(value, *values):\n",
    "    return sum(values, value) / (1 + len(values))"
   ]
  },
  {
   "cell_type": "markdown",
   "metadata": {},
   "source": [
    "■ To apply values from an iterable, e.g., a tuple, as arguments, unpack using * <br>\n",
    "■ The iterable is expanded to become the argument list at the point of call<br>"
   ]
  },
  {
   "cell_type": "code",
   "execution_count": 110,
   "metadata": {},
   "outputs": [
    {
     "data": {
      "text/plain": [
       "7.0"
      ]
     },
     "execution_count": 110,
     "metadata": {},
     "output_type": "execute_result"
    }
   ],
   "source": [
    "def line_length(x, y, z):\n",
    "    return (x**2 + y**2 + z**2)**0.5\n",
    "\n",
    "point = (2, 3, 6)\n",
    "length = line_length(*point)\n",
    "length"
   ]
  },
  {
   "cell_type": "markdown",
   "metadata": {},
   "source": [
    "# unpacking; ** \n",
    "ch05 참조 \n",
    "- **의 두개는 dict로 들어감"
   ]
  },
  {
   "cell_type": "code",
   "execution_count": 111,
   "metadata": {},
   "outputs": [],
   "source": [
    "def moon_sun(x,*y,**z): # 무조건 *, ** 순서대로 \n",
    "    return x,y,z"
   ]
  },
  {
   "cell_type": "code",
   "execution_count": 112,
   "metadata": {},
   "outputs": [
    {
     "ename": "TypeError",
     "evalue": "moon_sun() keywords must be strings",
     "output_type": "error",
     "traceback": [
      "\u001b[1;31m---------------------------------------------------------------------------\u001b[0m",
      "\u001b[1;31mTypeError\u001b[0m                                 Traceback (most recent call last)",
      "\u001b[1;32m<ipython-input-112-c8bf3f414f77>\u001b[0m in \u001b[0;36m<module>\u001b[1;34m()\u001b[0m\n\u001b[1;32m----> 1\u001b[1;33m \u001b[0mmoon_sun\u001b[0m\u001b[1;33m(\u001b[0m\u001b[1;36m1\u001b[0m\u001b[1;33m,\u001b[0m\u001b[1;33m**\u001b[0m\u001b[1;33m{\u001b[0m\u001b[1;36m1\u001b[0m\u001b[1;33m:\u001b[0m\u001b[1;36m2\u001b[0m\u001b[1;33m,\u001b[0m \u001b[1;34m'3'\u001b[0m\u001b[1;33m:\u001b[0m\u001b[1;36m4\u001b[0m\u001b[1;33m}\u001b[0m\u001b[1;33m)\u001b[0m \u001b[1;31m# 함수에 들어갈 dict는 숫자가 안됨\u001b[0m\u001b[1;33m\u001b[0m\u001b[0m\n\u001b[0m",
      "\u001b[1;31mTypeError\u001b[0m: moon_sun() keywords must be strings"
     ]
    }
   ],
   "source": [
    "moon_sun(1,**{1:2, '3':4}) # 함수에 들어갈 dict는 숫자가 안됨 "
   ]
  },
  {
   "cell_type": "code",
   "execution_count": 113,
   "metadata": {},
   "outputs": [
    {
     "data": {
      "text/plain": [
       "('1', (), {'1': 2, '3': 4})"
      ]
     },
     "execution_count": 113,
     "metadata": {},
     "output_type": "execute_result"
    }
   ],
   "source": [
    "moon_sun('1',**{'1':1, '1':2, '3':4}) # ** unpacking 풀어주는거 함수 인자의 앞에 수와 dict 키워드 중복일 경우 에러"
   ]
  },
  {
   "cell_type": "code",
   "execution_count": 114,
   "metadata": {},
   "outputs": [
    {
     "data": {
      "text/plain": [
       "(1, (2, 3, 4, 5, 1), {})"
      ]
     },
     "execution_count": 114,
     "metadata": {},
     "output_type": "execute_result"
    }
   ],
   "source": [
    "moon_sun(1,*[2,3,4,5],1) "
   ]
  },
  {
   "cell_type": "code",
   "execution_count": 115,
   "metadata": {},
   "outputs": [
    {
     "ename": "SyntaxError",
     "evalue": "invalid syntax (<ipython-input-115-ff0e65a045db>, line 1)",
     "output_type": "error",
     "traceback": [
      "\u001b[1;36m  File \u001b[1;32m\"<ipython-input-115-ff0e65a045db>\"\u001b[1;36m, line \u001b[1;32m1\u001b[0m\n\u001b[1;33m    def moon_sun(1,*y): #헤더에는 인자가 들어갈 수 없다\u001b[0m\n\u001b[1;37m                 ^\u001b[0m\n\u001b[1;31mSyntaxError\u001b[0m\u001b[1;31m:\u001b[0m invalid syntax\n"
     ]
    }
   ],
   "source": [
    "def moon_sun(1,*y): #헤더에는 인자가 들어갈 수 없다 \n",
    "    return x,y"
   ]
  },
  {
   "cell_type": "markdown",
   "metadata": {},
   "source": [
    "---"
   ]
  },
  {
   "cell_type": "markdown",
   "metadata": {},
   "source": [
    "# expression (표현식)\n",
    "key point; expression<br>\n",
    "ch02 참조<br>\n",
    "어떤 값으로 구해질 수 있는 문법적인 조각. 다른 말로 표현하면, 표현식은 리터럴, 이름, 어트리뷰트 액세스, 연산자, 함수들과 같은 값을 돌려주는 표현 요소들을 쌓아 올린 것입니다. 다른 많은 언어와 대조적으로, 모든 언어 구성물들이 표현식인 것은 아닙니다.\n",
    "\n",
    "**if 처럼, 표현식으로 사용할 수 없는 문장 들이 있습니다. 대입 또한 문장이고, 표현식이 아닙니다.**"
   ]
  },
  {
   "cell_type": "code",
   "execution_count": 17,
   "metadata": {},
   "outputs": [
    {
     "data": {
      "text/plain": [
       "4"
      ]
     },
     "execution_count": 17,
     "metadata": {},
     "output_type": "execute_result"
    }
   ],
   "source": [
    "1+ 1 + 1+ 1 # 왼쪽에서 오른쪽으로 계산 2 -> +1 -> 3 +1 > 4\n",
    "# 문 과 식은 계산할 수 없다.\n",
    "# ch05 참조 "
   ]
  },
  {
   "cell_type": "markdown",
   "metadata": {},
   "source": [
    "○ 수\n",
    " - 1 + 1 과 같은 수식\n",
    "    – 1 + 1 이라는 표현식은 평가될 때 계산되어 2라는 값으로 축약되는 식\n",
    " - 0 과 같이 값 리터럴로 값을 표현해놓은 것\n",
    " \n",
    "○ 문자열\n",
    " - 그 자체가 값이므로 표현식이며,\n",
    " - 문자열과 관련되는 연산\n",
    " \n",
    "      - \"hello\" + \", world”\n",
    "      - \"hello\" * 3\n",
    "    \n",
    "○ 함수\n",
    " - lambda\n",
    "\n",
    "○ 표현식은 궁극적으로 “평가”되며, 평가된다는 것은 표현식은 결국 하나의 값으로 수렴한다는 의미"
   ]
  },
  {
   "cell_type": "markdown",
   "metadata": {},
   "source": [
    "# True False 연산 (and , or)\n",
    "ch03, ch04참조\n",
    "<img src =\"3.jpg\"/>\n",
    "<img src=\"4.jpg\"/>"
   ]
  },
  {
   "cell_type": "markdown",
   "metadata": {},
   "source": [
    "# coercion (코어션)\n",
    "같은 형의 두 인자를 수반하는 연산이 일어나는 동안, 한 형의 인스턴스를 다른 형으로 묵시적으로 변환하는 것. 예를 들어, int(3.15) 는 실수를 정수 3 으로 변환합니다. 하지만, 3+4.5 에서, 각 인자는 다른 형이고 (하나는 int, 다른 하나는 float), 둘을 더하기 전에 같은 형으로 변환해야 합니다. 그렇지 않으면 TypeError 를 일으킵니다. 코어션 없이는, 호환되는 형들조차도 프로그래머가 같은 형으로 정규화해주어야 합니다, 예를 들어, 그냥 3+4.5 하는 대신 float(3)+4.5."
   ]
  },
  {
   "cell_type": "markdown",
   "metadata": {},
   "source": [
    "# floor division (정수 나눗셈)\n",
    "가장 가까운 정수로 내림하는 수학적 나눗셈. 정수 나눗셈 연산자는 // 다. 예를 들어, 표현식 11 // 4 의 값은 2 가 되지만, 실수 나눗셈은 2.75 를 돌려줍니다. (-11) // 4 가 -2.75 를 내림 한 -3 이 됨에 유의해야 합니다. PEP 238 를 보세요."
   ]
  },
  {
   "cell_type": "markdown",
   "metadata": {},
   "source": [
    "# lambda\n",
    "ch04 참조<br>\n",
    "호출될 때 값이 구해지는 하나의 표현식 으로 구성된 이름 없는 인라인 함수. 람다 함수를 만드는 문법은 lambda [parameters]: expression 입니다.<br>\n",
    "- 선언문(함수 )\n",
    "- 콜론 기준으로 x를 받거나 안받거나\n",
    "- 함수를 선언하지 않고 간단하게 구현 함수형 페러다임에는 lambda가 있다. (익명 함수-> 우리는 람다식으로 통칭한다.)"
   ]
  },
  {
   "cell_type": "markdown",
   "metadata": {},
   "source": [
    "# statement (문장)\n",
    "key point; statement<br>\n",
    "ch02 참조 <br>\n",
    "문장은 스위트 (코드의 \"블록(block)\") 를 구성하는 부분입니다. 문장은 표현식 이거나 키워드를 사용하는 여러 가지 구조물 중의 하나입니다. 가령 if, while, for."
   ]
  },
  {
   "cell_type": "markdown",
   "metadata": {},
   "source": [
    "○ 예약어(reserved word)와 표현식을 결합한 패턴\n",
    "\n",
    "○ 컴퓨터가 수행해야 하는 하나의 단일 작업(instruction)을 명시.\n",
    " - 활당, 대입 (assigning statment) : python에서는 보통 ‘바인딩(binding)’이라는 표현을 씀, 어떤 값에 이름을 붙이는 작업.\n",
    " - 선언, 정의(Declaration) : 재사용이 가능한 독립적인 단위를 정의. 별도의 선언 문법과 그 내용을 기술하는 블럭 혹은 블럭들로 구성. Ex) python에서는 기함수나 클래스를 정의<br>\n",
    " – 블럭<br>\n",
    "   » 여러 구문이 순서대로 나열된 덩어리<br>\n",
    "   » 블럭은 여러 줄의 구문으로 구성되며, 블럭 내에서 구문은 위에서 아래로 쓰여진 순서대로 실행. 블럭은 분기문에서 조건에 따라 수행되어야 할 작업이나, 반복문에서 반복적으로 수행해야 하는 일련의 작업을 나타낼 때 사용하며, 클래스나 함수를 정의할 때에도 쓰임.<Br>\n",
    "   \n",
    " - 분기문 : 조건에 따라 수행할 작업을 나눌 때 사용. Ex) if 문\n",
    " - 반복문 : 특정한 작업을 반복수행할때 사용. Ex) for 문 및 while 문"
   ]
  },
  {
   "cell_type": "markdown",
   "metadata": {},
   "source": [
    "# Ternary Operator\n",
    "## 식별자 = 15 if a>5 else 5 \n",
    "ch04 참조\n",
    "\n",
    "○ Python has its own ternary operator, called a conditional expression (see PEP 308). These are handy as they can be used in comprehension constructs and lambda functions:\n",
    "<Br>\n",
    "○ >>> last = 'Lennon' if band == 'Beatles' else 'Jones' Note that this has similar behavior to an if statement,but it is an expression, and not a statement. <br>\n",
    "Python distinguishes these two. An easy way to determine between the two, is to remember that an expression follows a return statement. Anything you can return is an expression.<br>\n",
    "\n",
    "- There is no header–suite delineation, as for statements<br>\n",
    "○ The else is mandatory<br>\n",
    "○ There is no elif"
   ]
  },
  {
   "cell_type": "markdown",
   "metadata": {},
   "source": [
    "---"
   ]
  },
  {
   "cell_type": "markdown",
   "metadata": {},
   "source": [
    "# type (형)\n",
    "key point; int, float, str, complex, bool<br>\n",
    "ch01 참조<br>\n",
    "파이썬 객체의 형은 그것이 어떤 종류의 객체인지를 결정합니다; 모든 객체는 형이 있습니다. 객체의 형은 _ _class__ 어트리뷰트로 액세스할 수 있거나 type(obj) 로 얻을 수 있습니다."
   ]
  },
  {
   "cell_type": "markdown",
   "metadata": {},
   "source": [
    "# complex number (복소수)\n",
    "key point; complex <br>\n",
    "ch01 참조 \n",
    "\n",
    "익숙한 실수 시스템의 확장인데, 모든 숫자가 실수부와 허수부의 합으로 표현됩니다. 허수부는 실수에 허수 단위 (-1 의 제곱근)를 곱한 것인데, 종종 수학에서는 i 로, 공학에서는 j 로 표기합니다. 파이썬은 후자의 표기법을 쓰는 복소수를 기본 지원합니다; 허수부는 j 접미사를 붙여서 표기합니다, 예를 들어, 3+1j. math 모듈의 복소수 버전이 필요하면, cmath 를 사용합니다. 복소수의 활용은 꽤 수준 높은 수학적 기능입니다. 필요하다고 느끼지 못한다면, 거의 확실히 무시해도 좋습니다."
   ]
  },
  {
   "cell_type": "markdown",
   "metadata": {},
   "source": [
    "---"
   ]
  },
  {
   "cell_type": "markdown",
   "metadata": {},
   "source": [
    "# garbage collection (가비지 수거)\n",
    "ch03 참조\n",
    "\n",
    "더 사용되지 않는 메모리를 반납하는 절차. 파이썬은 참조 횟수 추적과 참조 순환을 감지하고 끊을 수 있는 순환 가비지 수거기를 통해 가비지 수거를 수행합니다. 가비지 수거기는 gc 모듈을 사용해서 제어할 수 있습니다."
   ]
  },
  {
   "cell_type": "markdown",
   "metadata": {},
   "source": [
    "# sys.getrefcount()"
   ]
  },
  {
   "cell_type": "markdown",
   "metadata": {},
   "source": [
    "\n",
    "---"
   ]
  },
  {
   "cell_type": "markdown",
   "metadata": {},
   "source": [
    "#  arbitrary precision\n",
    "ch02 참조"
   ]
  },
  {
   "cell_type": "markdown",
   "metadata": {},
   "source": [
    "---"
   ]
  },
  {
   "cell_type": "markdown",
   "metadata": {},
   "source": [
    "# container\n",
    "key point; list, tuple, set, dict, frozenset<br>\n",
    "ch01, ch02(연산) 참조<br>\n",
    "○ 기본적인 데이터 타입을 조합하여, 여러 개의 값을 하나의 단위로 묶어서 다루는 데이터 타입<br>\n",
    "\n",
    "○ 논리적으로 이들은 데이터 타입인 동시에 데이터의 구조(흔히 말하는 자료 구조)의 한 종류. 보통 다른 데이터들을 원소로 하는 집합처럼 생각되는 타입들\n",
    "### 1. list (리스트)\n",
    "내장 파이썬 시퀀스. 그 이름에도 불구하고, 원소에 대한 액세스가 O(1)이기 때문에, 연결 리스트(linked list)보다는 다른 언어의 배열과 유사합니다.\n",
    "### 2. tuple\n",
    "튜플은 처음 생성하고 변경이 안되기 때문에 속도가 빠르다, 반복같은 상황에서 튜플의 속도가 빠르다.\n",
    "### 3. set\n",
    "중복이 없으며, 시퀀스도 아니다.<br>\n",
    "set and frozenset both define containers of unique hashable values<br>\n",
    "set is mutable and has a display form — note that set() is the empty set, not {}<br>\n",
    "\n",
    "### 4. dictionary (딕셔너리)\n",
    "임의의 키를 값에 대응시키는 연관 배열 (associative array). 키는 __hash__() 와 __eq__() 메서드를 갖는 모든 객체가 될 수 있습니다. 펄에서 해시라고 부릅니다.\n",
    "\n",
    "### 5. frozenset\n",
    "set and frozenset both define containers of unique hashable values<br>\n",
    "frozenset is immutable and can be constructed from a set or other iterable<br>\n",
    "\n",
    "###  range\n",
    "컨테이너는 아니다. flat -> 숫자만 나열\n",
    "\n",
    "<img src=\"1.jpg\"/>\n"
   ]
  },
  {
   "cell_type": "markdown",
   "metadata": {},
   "source": [
    "# mutable (가변)\n",
    "가변 객체는 값이 변할 수 있지만 id() 는 일정하게 유지합니다. 불변 도 보세요."
   ]
  },
  {
   "cell_type": "markdown",
   "metadata": {},
   "source": [
    "## Mutability pitfalls (in function)\n",
    "ch05 참조\n",
    "\n",
    "■ Python is reference-based language(참조 기반 언어), so objects are shared by default\n",
    "\n",
    "■ Easily accessible data or state-modifying (상태 수정)methods can give aliasing (별칭에)surprises\n",
    "\n",
    "■ Note that true and, full object immutability(완전한 객체 불변성) is not possible in Python\n",
    "\n",
    "■ Default arguments should be of immutable type, e.g., use tuple not list\n",
    "\n",
    "■ Changes persist between function calls\n",
    "(함수 호출간에 변경 사항이 지속됩니다.)"
   ]
  },
  {
   "cell_type": "markdown",
   "metadata": {},
   "source": [
    "# immutable (불변)\n",
    "고정된 값을 갖는 객체. 불변 객체는 숫자, 문자열, 튜플을 포함합니다. 이런 객체들은 변경될 수 없습니다. 새 값을 저장하려면 새 객체를 만들어야 합니다. 변하지 않는 해시값이 있어야 하는 곳에서 중요한 역할을 합니다, 예를 들어, 딕셔너리의 키."
   ]
  },
  {
   "cell_type": "markdown",
   "metadata": {},
   "source": [
    "# sequence (시퀀스)\n",
    "- _ _getitem__() 특수 메서드를 통해 정수 인덱스를 사용한 빠른 요소 액세스를 지원하고, 시퀀스의 길이를 돌려주는 _ _len__() 메서드를 정의하는 이터러블. 몇몇 내장 시퀀스들을 나열해보면, list, str, tuple, bytes 가 있습니다. dict 또한 _ _getitem__() 과 _ _len__() 을 지원하지만, 조회에 정수 대신 임의의 불변 키를 사용하기 때문에 시퀀스가 아니라 매핑으로 취급된다는 것에 주의해야 합니다.\n",
    "\n",
    "- collections.abc.Sequence 추상 베이스 클래스는 _ _getitem__() 과 _ _len__() 를 넘어서 훨씬 풍부한 인터페이스를 정의하는데, count(), index(),  _ _contains__(), _ _reversed__() 를 추가합니다. 이 확장된 인터페이스를 구현한 형을 register() 를 사용해서 명시적으로 등록할 수 있습니다."
   ]
  },
  {
   "cell_type": "code",
   "execution_count": 43,
   "metadata": {},
   "outputs": [
    {
     "name": "stdout",
     "output_type": "stream",
     "text": [
      "[5, 4, 3]\n"
     ]
    },
    {
     "data": {
      "text/plain": [
       "5"
      ]
     },
     "execution_count": 43,
     "metadata": {},
     "output_type": "execute_result"
    }
   ],
   "source": [
    "a = 5,4,3\n",
    "b = list(a)\n",
    "print(b)\n",
    "b[0]"
   ]
  },
  {
   "cell_type": "code",
   "execution_count": 37,
   "metadata": {},
   "outputs": [
    {
     "name": "stdout",
     "output_type": "stream",
     "text": [
      "{3, 4, 5}\n"
     ]
    },
    {
     "ename": "TypeError",
     "evalue": "'set' object does not support indexing",
     "output_type": "error",
     "traceback": [
      "\u001b[1;31m---------------------------------------------------------------------------\u001b[0m",
      "\u001b[1;31mTypeError\u001b[0m                                 Traceback (most recent call last)",
      "\u001b[1;32m<ipython-input-37-56f126d8ec80>\u001b[0m in \u001b[0;36m<module>\u001b[1;34m()\u001b[0m\n\u001b[0;32m      1\u001b[0m \u001b[0mc\u001b[0m \u001b[1;33m=\u001b[0m \u001b[0mset\u001b[0m\u001b[1;33m(\u001b[0m\u001b[0ma\u001b[0m\u001b[1;33m)\u001b[0m\u001b[1;33m\u001b[0m\u001b[0m\n\u001b[0;32m      2\u001b[0m \u001b[0mprint\u001b[0m\u001b[1;33m(\u001b[0m\u001b[0mc\u001b[0m\u001b[1;33m)\u001b[0m\u001b[1;33m\u001b[0m\u001b[0m\n\u001b[1;32m----> 3\u001b[1;33m \u001b[0mprint\u001b[0m\u001b[1;33m(\u001b[0m\u001b[0mc\u001b[0m\u001b[1;33m[\u001b[0m\u001b[1;36m0\u001b[0m\u001b[1;33m]\u001b[0m\u001b[1;33m)\u001b[0m\u001b[1;33m\u001b[0m\u001b[0m\n\u001b[0m",
      "\u001b[1;31mTypeError\u001b[0m: 'set' object does not support indexing"
     ]
    }
   ],
   "source": [
    "c = set(a)\n",
    "print(c)\n",
    "print(c[0])"
   ]
  },
  {
   "cell_type": "code",
   "execution_count": 41,
   "metadata": {},
   "outputs": [
    {
     "data": {
      "text/plain": [
       "frozenset({3, 4, 5})"
      ]
     },
     "execution_count": 41,
     "metadata": {},
     "output_type": "execute_result"
    }
   ],
   "source": [
    "d = frozenset(a)\n",
    "d"
   ]
  },
  {
   "cell_type": "code",
   "execution_count": 47,
   "metadata": {},
   "outputs": [
    {
     "data": {
      "text/plain": [
       "(5, 4, 3)"
      ]
     },
     "execution_count": 47,
     "metadata": {},
     "output_type": "execute_result"
    }
   ],
   "source": [
    "e = tuple(a)\n",
    "e"
   ]
  },
  {
   "cell_type": "markdown",
   "metadata": {},
   "source": [
    "# indexing 인덱싱 "
   ]
  },
  {
   "cell_type": "markdown",
   "metadata": {},
   "source": [
    "# slice (슬라이스)\n",
    "보통 시퀀스 의 일부를 포함하는 객체. 슬라이스는 서브 스크립트 표기법을 사용해서 만듭니다. variable_name[1:3:5] 처럼, [] 안에서 여러 개의 숫자를 콜론으로 분리합니다. 꺾쇠괄호 (서브 스크립트) 표기법은 내부적으로 slice 객체를 사용합니다."
   ]
  },
  {
   "cell_type": "markdown",
   "metadata": {},
   "source": [
    "# iterable (이터러블)\n",
    "**멤버들을 한 번에 하나씩 돌려줄 수 있는 객체.<Br>** 이터러블의 예로는 모든 (list, str, tuple 같은) 시퀀스 형들, dict 같은 몇몇 비시퀀스 형들, 파일 객체들, _ _iter__() 나 시퀀스 개념을 구현하는 _ _getitem__() 메서드를 써서 정의한 모든 클래스의 객체들이 있습니다.\n",
    "\n",
    "이터러블은 for 루프에 사용될 수 있고, 시퀀스를 필요로 하는 다른 많은 곳 (zip(), map(), ...) 에 사용될 수 있습니다. **이터러블 객체가 내장 함수 iter() 에 인자로 전달되면, 그 객체의 이터레이터를 돌려줍니다.** 이 이터레이터는 값들의 집합을 한 번 거치는 동안 유효합니다. 이터러블을 사용할 때, 보통은 iter() 를 호출하거나, 이터레이터 객체를 직접 다룰 필요는 없습니다. **for 문은 이것들을 여러분을 대신해서 자동으로 해주는데, 루프를 도는 동안 이터레이터를 잡아 이름 없는 변수를 만듭니다. 이터레이터, 시퀀스, 제너레이터 도 보세요.**"
   ]
  },
  {
   "cell_type": "markdown",
   "metadata": {},
   "source": [
    "# iterator (이터레이터)\n",
    "**데이터의 스트림을 표현하는 객체.<br>** \n",
    "이터레이터의 _ _next__() 메서드를 반복적으로 호출하면 (또는 내장 함수 next() 로 전달하면) 스트림에 있는 항목들을 차례대로 돌려줍니다. 더 이상의 데이터가 없을 때는 대신 StopIteration 예외를 일으킵니다. 이 지점에서, 이터레이터 객체는 소진되고, 이후의 모든 _ _next__() 메서드 호출은 StopIteration 예외를 다시 일으키기만 합니다. 이터레이터는 이터레이터 객체 자신을 돌려주는 _ _iter__() 메서드를 가질 것이 요구되기 때문에, 이터레이터는 이터러블이기도 하고 다른 이터러블들을 받아들이는 대부분의 곳에서 사용될 수 있습니다. 중요한 예외는 여러 번의 이터레이션을 시도하는 코드입니다. (list 같은) 컨테이너 객체는 iter() 함수로 전달하거나 for 루프에 사용할 때마다 새 이터레이터를 만듭니다. 이런 것을 이터레이터에 대해서 수행하려고 하면, 지난 이터레이션에 사용된 이미 소진된 이터레이터를 돌려줘서, 빈 컨테이너처럼 보이게 만듭니다.\n",
    "\n",
    "이터레이터 형 에 더 자세한 내용이 있습니다. "
   ]
  },
  {
   "cell_type": "markdown",
   "metadata": {},
   "source": [
    "## Defining iterators\n",
    "■ There are many ways to provide an iterator...\n",
    "\n",
    "■ Define a class that supports the iterator protocol directly\n",
    "\n",
    "■ Return an iterator from another object\n",
    "\n",
    "■ Compose an iterator with iter, using an action and a termination value\n",
    "\n",
    "■ Define a generator function\n",
    "\n",
    "■ Write a generator expression"
   ]
  },
  {
   "cell_type": "markdown",
   "metadata": {},
   "source": [
    "# itertools"
   ]
  },
  {
   "cell_type": "markdown",
   "metadata": {},
   "source": [
    "<img src=\"12.jpg\"/>"
   ]
  },
  {
   "cell_type": "markdown",
   "metadata": {},
   "source": [
    "---"
   ]
  },
  {
   "cell_type": "markdown",
   "metadata": {},
   "source": [
    "# key function (키 함수)\n",
    "키 함수 또는 콜레이션(collation) 함수는 정렬(sorting)이나 배열(ordering)에 사용되는 값을 돌려주는 콜러블입니다. 예를 들어, locale.strxfrm() 은 로케일 특정 방식을 따르는 정렬 키를 만드는 데 사용됩니다.\n",
    "\n",
    "파이썬의 많은 도구가 요소들이 어떻게 순서 지어지고 묶이는지를 제어하기 위해 키 함수를 받아들입니다. 이런 것들에는 min(), max(), sorted(), list.sort(), heapq.merge(), heapq.nsmallest(), heapq.nlargest(), itertools.groupby() 이 있습니다.\n",
    "\n",
    "키 함수를 만드는 데는 여러 방법이 있습니다. 예를 들어, str.lower() 메서드는 케이스 구분 없는 정렬을 위한 키 함수로 사용될 수 있습니다. 대안적으로, 키 함수는 lambda 표현식으로 만들 수도 있는데, 이런 식입니다: lambda r: (r[0], r[2]). 또한, operator 모듈은 세 개의 키 함수 생성자를 제공합니다: attrgetter(), itemgetter(), methodcaller(). 키 함수를 만들고 사용하는 법에 대한 예로 Sorting HOW TO 를 보세요."
   ]
  },
  {
   "cell_type": "markdown",
   "metadata": {},
   "source": [
    "# mapping (매핑)\n",
    "임의의 키 조회를 지원하고 Mapping 이나 MutableMapping 추상 베이스 클래스 에 지정된 메서드들을 구현하는 컨테이너 객체. 예로는 dict, collections.defaultdict, collections.OrderedDict, collections.Counter 를 들 수 있습니다.\n"
   ]
  },
  {
   "cell_type": "markdown",
   "metadata": {},
   "source": [
    "---"
   ]
  },
  {
   "cell_type": "markdown",
   "metadata": {},
   "source": [
    "# builtin\n",
    "key point; _ _builtin__<br>\n",
    "ch02참조<br>\n",
    "The Python interpreter has a number of functions that are always available for use. These functions are called built-in functions(내장기능). For example, print() function prints the given object to the standard output device (screen) or to the text stream file.\n",
    "\n",
    "Built-in containers address most needs<br>\n",
    "• There are some common iteration patterns to follow (and avoid)<br>\n",
    "• Comprehensions address many common(일반적) container iteration(반복) needs<br>\n",
    "• collections module offers variations on standard sequence and lookup types<br>\n",
    "• collections.abc supports container usage and definition<br>\n",
    "\n",
    "• Although everything is, at one level, a dict, dict is not always the best choice<br>\n",
    "– Nor is list<br>\n",
    "\n",
    "• Choose containers based on usage patterns and mutability<br>\n",
    "– E.g., tuple is immutable whereas list is not<br>\n",
    "– Iteration is the most common container activity, so favor the most direct and efficient iteration style<br>"
   ]
  },
  {
   "cell_type": "code",
   "execution_count": 48,
   "metadata": {},
   "outputs": [
    {
     "data": {
      "text/plain": [
       "['ArithmeticError',\n",
       " 'AssertionError',\n",
       " 'AttributeError',\n",
       " 'BaseException',\n",
       " 'BlockingIOError',\n",
       " 'BrokenPipeError',\n",
       " 'BufferError',\n",
       " 'BytesWarning',\n",
       " 'ChildProcessError',\n",
       " 'ConnectionAbortedError',\n",
       " 'ConnectionError',\n",
       " 'ConnectionRefusedError',\n",
       " 'ConnectionResetError',\n",
       " 'DeprecationWarning',\n",
       " 'EOFError',\n",
       " 'Ellipsis',\n",
       " 'EnvironmentError',\n",
       " 'Exception',\n",
       " 'False',\n",
       " 'FileExistsError',\n",
       " 'FileNotFoundError',\n",
       " 'FloatingPointError',\n",
       " 'FutureWarning',\n",
       " 'GeneratorExit',\n",
       " 'IOError',\n",
       " 'ImportError',\n",
       " 'ImportWarning',\n",
       " 'IndentationError',\n",
       " 'IndexError',\n",
       " 'InterruptedError',\n",
       " 'IsADirectoryError',\n",
       " 'KeyError',\n",
       " 'KeyboardInterrupt',\n",
       " 'LookupError',\n",
       " 'MemoryError',\n",
       " 'ModuleNotFoundError',\n",
       " 'NameError',\n",
       " 'None',\n",
       " 'NotADirectoryError',\n",
       " 'NotImplemented',\n",
       " 'NotImplementedError',\n",
       " 'OSError',\n",
       " 'OverflowError',\n",
       " 'PendingDeprecationWarning',\n",
       " 'PermissionError',\n",
       " 'ProcessLookupError',\n",
       " 'RecursionError',\n",
       " 'ReferenceError',\n",
       " 'ResourceWarning',\n",
       " 'RuntimeError',\n",
       " 'RuntimeWarning',\n",
       " 'StopAsyncIteration',\n",
       " 'StopIteration',\n",
       " 'SyntaxError',\n",
       " 'SyntaxWarning',\n",
       " 'SystemError',\n",
       " 'SystemExit',\n",
       " 'TabError',\n",
       " 'TimeoutError',\n",
       " 'True',\n",
       " 'TypeError',\n",
       " 'UnboundLocalError',\n",
       " 'UnicodeDecodeError',\n",
       " 'UnicodeEncodeError',\n",
       " 'UnicodeError',\n",
       " 'UnicodeTranslateError',\n",
       " 'UnicodeWarning',\n",
       " 'UserWarning',\n",
       " 'ValueError',\n",
       " 'Warning',\n",
       " 'WindowsError',\n",
       " 'ZeroDivisionError',\n",
       " '__IPYTHON__',\n",
       " '__build_class__',\n",
       " '__debug__',\n",
       " '__doc__',\n",
       " '__import__',\n",
       " '__loader__',\n",
       " '__name__',\n",
       " '__package__',\n",
       " '__spec__',\n",
       " 'abs',\n",
       " 'all',\n",
       " 'any',\n",
       " 'ascii',\n",
       " 'bin',\n",
       " 'bool',\n",
       " 'bytearray',\n",
       " 'bytes',\n",
       " 'callable',\n",
       " 'chr',\n",
       " 'classmethod',\n",
       " 'compile',\n",
       " 'complex',\n",
       " 'copyright',\n",
       " 'credits',\n",
       " 'delattr',\n",
       " 'dict',\n",
       " 'dir',\n",
       " 'display',\n",
       " 'divmod',\n",
       " 'enumerate',\n",
       " 'eval',\n",
       " 'exec',\n",
       " 'filter',\n",
       " 'float',\n",
       " 'format',\n",
       " 'frozenset',\n",
       " 'get_ipython',\n",
       " 'getattr',\n",
       " 'globals',\n",
       " 'hasattr',\n",
       " 'hash',\n",
       " 'help',\n",
       " 'hex',\n",
       " 'id',\n",
       " 'input',\n",
       " 'int',\n",
       " 'isinstance',\n",
       " 'issubclass',\n",
       " 'iter',\n",
       " 'len',\n",
       " 'license',\n",
       " 'list',\n",
       " 'locals',\n",
       " 'map',\n",
       " 'max',\n",
       " 'memoryview',\n",
       " 'min',\n",
       " 'next',\n",
       " 'object',\n",
       " 'oct',\n",
       " 'open',\n",
       " 'ord',\n",
       " 'pow',\n",
       " 'print',\n",
       " 'property',\n",
       " 'range',\n",
       " 'repr',\n",
       " 'reversed',\n",
       " 'round',\n",
       " 'set',\n",
       " 'setattr',\n",
       " 'slice',\n",
       " 'sorted',\n",
       " 'staticmethod',\n",
       " 'str',\n",
       " 'sum',\n",
       " 'super',\n",
       " 'tuple',\n",
       " 'type',\n",
       " 'vars',\n",
       " 'zip']"
      ]
     },
     "execution_count": 48,
     "metadata": {},
     "output_type": "execute_result"
    }
   ],
   "source": [
    "dir(__builtin__)"
   ]
  },
  {
   "cell_type": "markdown",
   "metadata": {},
   "source": [
    "---"
   ]
  },
  {
   "cell_type": "markdown",
   "metadata": {},
   "source": [
    "# Exception \n",
    "key point; try, except, else, finally, raise Exception<br>\n",
    "ch04 참조<br>\n",
    "■ normally used to signal error or other undesirable events<br>\n",
    "■ But this is not always the case, e.g., StopIteration is used by iterators to signal the end of iteration<br>\n",
    "■ objects and their type is defined in a class hierarchy<br>\n",
    "■ The root of the hierarchy is BaseException<br>\n",
    "■ But yours should derive from Exception<br>\n",
    "\n",
    "■ A handled exception can be 'bound' to a variable<br>\n",
    "■ The variable is 'bound' only for the duration of the handler, and is not accessible after<Br>\n",
    "    \n",
    "■ It is possible to define an except handler that matches different types<br>\n",
    "■ A handler variable can also be assigned<Br>\n",
    "    \n",
    "■ A raise statement specifies a class or an object as the exception to raise<br>\n",
    "■ If it's a class name, an object instantiated from that class is created and raised<br><img src =\"5.jpg\"/><img src=\"6.jpg\"/>\n"
   ]
  },
  {
   "cell_type": "markdown",
   "metadata": {},
   "source": [
    "# assert\n",
    "ch04 참조<br>\n",
    "오류난 시점 파악 흐름 제어 파악 (확인하는 것) 값의 조건 true시 그냥 패스 아니면 error"
   ]
  },
  {
   "cell_type": "markdown",
   "metadata": {},
   "source": [
    "# EAFP\n",
    "허락보다는 용서를 구하기가 쉽다 (Easier to ask for forgiveness than permission). 이 흔히 볼 수 있는 파이썬 코딩 스타일은, 올바른 키나 어트리뷰트의 존재를 가정하고, 그 가정이 틀리면 예외를 잡습니다. 이 깔끔하고 빠른 스타일은 많은 try 와 except 문의 존재로 특징지어집니다. 이 테크닉은 C와 같은 다른 많은 언어에서 자주 사용되는 LBYL 스타일과 대비됩니다."
   ]
  },
  {
   "cell_type": "markdown",
   "metadata": {},
   "source": [
    "# LBYL\n",
    "뛰기 전에 보라 (Look before you leap). 이 코딩 스타일은 호출이나 조회를 하기 전에 명시적으로 사전 조건들을 검사합니다. 이 스타일은 EAFP 접근법과 대비되고, 많은 if 문의 존재로 특징지어집니다.\n",
    "\n",
    "다중 스레드 환경에서, LBYL 접근법은 \"보기\"와 \"뛰기\" 간에 경쟁 조건을 만들게 될 위험이 있습니다. 예를 들어, 코드 if key in mapping: return mapping[key] 는 검사 후에, 하지만 조회 전에, 다른 스레드가 key 를 mapping 에서 제거하면 실패할 수 있습니다. 이런 이슈는 록이나 EAFP 접근법을 사용함으로써 해결될 수 있습니다."
   ]
  },
  {
   "cell_type": "markdown",
   "metadata": {},
   "source": [
    "# 컴파일 에러 , 런타임 에러 \n",
    "ch04 참조<br>\n",
    "- error 와 exception 차이\n",
    "- c에는 컴파일 에러, 런타임에러(실행에러)\n",
    "- 인터프립터 에러 (컴파일에러), exception(런타임에러)\n",
    "- 런타임에러 찾기 어려움 -> excption \n",
    "- 문법적 구문적인 에러 -> 에러 (중단)\n",
    "- exception은 실행이 중단되지 않는다. -> 내가 원하는 결과가 아니다. "
   ]
  },
  {
   "cell_type": "markdown",
   "metadata": {},
   "source": [
    "---"
   ]
  },
  {
   "cell_type": "markdown",
   "metadata": {},
   "source": [
    "# 파이썬은함수형 기법; 명령형 선언형\n",
    "ch05 참조 <br>\n",
    "- 명령형 언어 어떤 함수의 흐름\n",
    "- 선언형 언어 함수형 언어 스칼라 로직 프롤로그 \n",
    "- 쿼리형 언어 sql tensorflow(sesseion) 파이토치 \n",
    "\n",
    "\n",
    "- 함수형 프로그램은 모두 다 객체 기반 \n",
    "- 그러한 함수를 펄스트클래스 펀션 \n",
    "- 프로그램에서 1등은 가장 중요한것 값 함수가 값처럼 사용할 수 있으면 펄스트 클래스\n",
    "- 프로그램에서 값이란 함수형 이름에서 어떠한 함수에 이름으로 인자 결과값 \n",
    "- 하이올더펀션 고차함수  특징이 함수의 인자로 함수가 들어갈 수 있다. \n",
    "- 함수의 결과값으로 함수로 나올 수 있다 .\n"
   ]
  },
  {
   "cell_type": "markdown",
   "metadata": {},
   "source": [
    "# 함수형 언어\n",
    "○ 부작용을 완전히 피할 수는 없다. 대부분의 프로그램은 반환 값을 얻기 위해서가 아니라 어떤 동작을 하기 위해 실행하기 때문이다. 하지만 프로그램 내부에서는 엄격하게 통제하고자 한다. 우리는 가능한 모든 곳에서 부작용(과 부원인)을 제거하고, 또 제거할 수 없는 경우에는 철저하게 통제할 것이다.<br>\n",
    "○ 코드 조각이 필요로 하는 것과 유발하게 될 결과를 숨기지 말자. 코드 조각이 제대로 실행하기 위해 뭔가를 필요로 한다면 그렇게 말하자. 뭔가 유용한 일을 한다면 출력 형태로 선언하자. 이렇게 한다면 우리의 코드는 더 명확해 질 것이다. 복잡성이 표면에 드러나고 우리는 그것을 분해하여 처리할 수 있을 것이다.<br>\n",
    "\n",
    "■ Functions are the principal units of composition<br>\n",
    "\n",
    "■ Functions are pure, i.e., no side effects<br>\n",
    "○ 숨겨진 출력은 “부작용(side-effect)”으로, 숨겨진 입력은 “부원인(side-cause)”<br>\n",
    "○ 모든 입력이 입력으로 선언되고 (숨겨진 것이 없어야 한다) 마찬가지로 모든 출력이 출력으로 선언된 함수를 ‘순수(pure)’하다고 부른다.<br>\n",
    "\n",
    "■ Immutability, i.e., query and create state rather than modify it\n",
    "<img src=\"8.jpg\"/>"
   ]
  },
  {
   "cell_type": "markdown",
   "metadata": {},
   "source": [
    "# Functional guidance \n",
    "\n",
    "■ Immutability...\n",
    "\n",
    "■ Prefer to return new state rather than modifying arguments and attributes\n",
    "\n",
    "■ Resist the temptation(유혹?) to match every query or get method with a modifier(한정자) or set (?????)\n",
    "\n",
    "■ Expressiveness...(표현력)\n",
    "\n",
    "■ Consider where loops and intermediate variables can be replaced with\n",
    "comprehensions and existing functions"
   ]
  },
  {
   "cell_type": "markdown",
   "metadata": {},
   "source": [
    "# First- class objects\n",
    "- first class function<br>\n",
    "○ it is \"first class\" in the type system: that is, that functions themselves are values. <br>\n",
    "In languages where functions are not first class, functions are defined as a relationship between values, which makes them \"second class\".<br>\n",
    "\n",
    "○ you can use a function as a value, which means (among other things) that you can pass functions into functions.<br>\n",
    " - You couldn't do this in Java before Java 7 (reflection doesn't count), so that's an example of a programming\n",
    "language only having \"second class\" functions. In order to \"pass a function\", you had to define a type where that\n",
    "function could live (as a method), and then pass an instance of that type.<Br>\n",
    "\n",
    "\n",
    "- So, in Python, 'all functions are first class', because all functions can be used as a value.<Br>\n",
    "\n",
    "\n",
    "- higher order function<br>\n",
    "○ a function that takes a function as an argument.<br>\n",
    "'Not all functions in Pythons are higher-order',because not all functions take another function as an argument. <br>\n",
    "But even the functions that are not higher-order are first class. (It's a square/rectangle thing.) <br>\n",
    "\n",
    "■ Functions can be passed as arguments and can be used in assignment<br>\n",
    "○ This supports many callback techniques and functional programming idioms\n",
    "\n",
    "■ Conversely, any object that is callable can be treated as a function\n",
    "\n",
    "■ callable is a built-in predicate function\n",
    "\n",
    "■ Functions always return a value\n",
    "\n",
    "■ None if nothing is returned explicity\n",
    "\n",
    "■ High-Order Function<br>\n",
    "    ○ 함수를 파라미터로 전달 받는 함수<br>\n",
    "    ○ 함수를 리턴하는 함수<Br>\n",
    "\n",
    "■ First-class function<br>\n",
    "    ○ 함수 function를 first-class citizen으로 취급<br>\n",
    "    ○ 함수 자체를 인자 (argument) 로써 다른 함수에 전달하거나 다른 함수의 결과값으로 리턴 할수도 있고, 함수를 변수에 할당하거나 데이터 구조안에 저장할 수 있는 함수를 뜻합니다.<Br>"
   ]
  },
  {
   "cell_type": "markdown",
   "metadata": {},
   "source": [
    "###  Fewer explicit loops(명시적 루프 감소)\n",
    "■ A common feature of functional programming is fewer explicit loops\n",
    "\n",
    "■ Recursion, but note that Python does not support tail recursion optimisation(최적화)\n",
    "\n",
    "■ Comprehensions — very declarative(선언적), very Pythonic\n",
    "\n",
    "■ Higher-order functions, e.g., map applies a function over an iterable sequence\n",
    "\n",
    "■ Existing algorithmic functions, e.g., min, str.split, str.join"
   ]
  },
  {
   "cell_type": "markdown",
   "metadata": {},
   "source": [
    "#### Recursion\n",
    "■ Recursion may be a consequence of data structure traversal or algorithm\n",
    "○ E.g., iterating over a tree structure\n",
    "○ E.g., quicksort\n",
    "\n",
    "■ But it can be used as an alternative to looping in many simple situations\n",
    "\n",
    "■ But beware(조심하다) of efficiency concerns(효율성에 대한 우려) and Python's limits (see sys.getrecursionlimit)"
   ]
  },
  {
   "cell_type": "code",
   "execution_count": 18,
   "metadata": {},
   "outputs": [],
   "source": [
    "def factorial(n): # There is a tendency in functional programming to favour expressions(표현)...\n",
    "    return  n * factorial(n - 1) if n > 1 else 1"
   ]
  },
  {
   "cell_type": "code",
   "execution_count": 19,
   "metadata": {},
   "outputs": [],
   "source": [
    "factorial = lambda n:  n * factorial(n - 1) if n > 1 else 1"
   ]
  },
  {
   "cell_type": "markdown",
   "metadata": {},
   "source": [
    "But using a lambda bound to a variable instead of a single-statement function is not\n",
    "considered Pythonic and means factorial lacks some(일부) metadata of a function, e.g., a good __name__."
   ]
  },
  {
   "cell_type": "code",
   "execution_count": 20,
   "metadata": {},
   "outputs": [
    {
     "data": {
      "text/plain": [
       "6"
      ]
     },
     "execution_count": 20,
     "metadata": {},
     "output_type": "execute_result"
    }
   ],
   "source": [
    "factorial(3)"
   ]
  },
  {
   "cell_type": "markdown",
   "metadata": {},
   "source": [
    "# Comprehensions\n",
    "ch05 참조\n",
    "\n",
    "■ A comprehension is used to define a sequence of values declaratively\n",
    "\n",
    "■ Sequence of values defined by intension as an expression, rather than procedurally in terms of loops and modifiable state\n",
    "\n",
    "■ They have a select...from...where structure\n",
    "\n",
    "■ Many common container-based looping patterns are captured in the form of container comprehensions\n",
    "\n",
    "■ Comprehension syntax is used to create lists, sets, dictionaries and generators\n",
    "\n",
    "■ Although the for and if keywords are used, they have different implications\n",
    "\n",
    "■ Can read for as from and if as where"
   ]
  },
  {
   "cell_type": "code",
   "execution_count": 117,
   "metadata": {},
   "outputs": [
    {
     "data": {
      "text/plain": [
       "[0, 1, 4, 9, 16, 25, 36, 49, 64, 81, 100, 121, 144]"
      ]
     },
     "execution_count": 117,
     "metadata": {},
     "output_type": "execute_result"
    }
   ],
   "source": [
    "squares = []\n",
    "for i in range(13):\n",
    "    squares.append(i**2)\n",
    "squares"
   ]
  },
  {
   "cell_type": "code",
   "execution_count": 119,
   "metadata": {},
   "outputs": [
    {
     "data": {
      "text/plain": [
       "[0, 1, 4, 9, 16, 25, 36, 49, 64, 81, 100, 121, 144]"
      ]
     },
     "execution_count": 119,
     "metadata": {},
     "output_type": "execute_result"
    }
   ],
   "source": [
    "squares = [i**2 for i in range(13)]\n",
    "squares"
   ]
  },
  {
   "cell_type": "code",
   "execution_count": 27,
   "metadata": {},
   "outputs": [
    {
     "data": {
      "text/plain": [
       "[1, 2, 3, 4, 5, 6, 7, 8, 9, 10]"
      ]
     },
     "execution_count": 27,
     "metadata": {},
     "output_type": "execute_result"
    }
   ],
   "source": [
    "[j for j in range(1,11)]"
   ]
  },
  {
   "cell_type": "code",
   "execution_count": 28,
   "metadata": {
    "scrolled": true
   },
   "outputs": [
    {
     "data": {
      "text/plain": [
       "[1, 2, 3, 4, 5, 6, 7, 8, 9, 10]"
      ]
     },
     "execution_count": 28,
     "metadata": {},
     "output_type": "execute_result"
    }
   ],
   "source": [
    "list(range(1,11))"
   ]
  },
  {
   "cell_type": "markdown",
   "metadata": {},
   "source": [
    "<img src =\"11.jpg\"/>"
   ]
  },
  {
   "cell_type": "markdown",
   "metadata": {},
   "source": [
    "<img src=\"9.jpg\"/>"
   ]
  },
  {
   "cell_type": "markdown",
   "metadata": {},
   "source": [
    "# Higher-order functions\n",
    "ch05 참조\n",
    "\n",
    "■  Higher-order functions often used to abstract common iteration operations\n",
    "\n",
    "■ Hides the mechanics(역학) of repetition\n",
    "\n",
    "■ Comprehensions are often an alternative to such higher-order functions"
   ]
  },
  {
   "cell_type": "markdown",
   "metadata": {},
   "source": [
    "##  map\n",
    "ch05 참조\n",
    "\n",
    "■ map applies a function over an iterable to produce a new iterable\n",
    "\n",
    "■ Can sometimes be replaced with a comprehension or generator expression that has\n",
    "no predicate(술어부)\n",
    "\n",
    "■ Often shorter if no lambdas are involved"
   ]
  },
  {
   "cell_type": "code",
   "execution_count": 61,
   "metadata": {},
   "outputs": [
    {
     "data": {
      "text/plain": [
       "<map at 0x1e2826ae128>"
      ]
     },
     "execution_count": 61,
     "metadata": {},
     "output_type": "execute_result"
    }
   ],
   "source": [
    "map(len, 'The cat sat on the mat'.split())"
   ]
  },
  {
   "cell_type": "code",
   "execution_count": 62,
   "metadata": {},
   "outputs": [
    {
     "data": {
      "text/plain": [
       "<generator object <genexpr> at 0x000001E282585E60>"
      ]
     },
     "execution_count": 62,
     "metadata": {},
     "output_type": "execute_result"
    }
   ],
   "source": [
    "(len(word) for word in 'The cat sat on the mat'.split())"
   ]
  },
  {
   "cell_type": "code",
   "execution_count": 29,
   "metadata": {},
   "outputs": [
    {
     "data": {
      "text/plain": [
       "[3, 4, 5, 6, 7, 8, 9, 10, 11, 12]"
      ]
     },
     "execution_count": 29,
     "metadata": {},
     "output_type": "execute_result"
    }
   ],
   "source": [
    "list(map(lambda x:x+2, range(1,11)))"
   ]
  },
  {
   "cell_type": "markdown",
   "metadata": {},
   "source": [
    "## filter\n",
    "ch05 참조\n",
    "\n",
    "■ filter includes only values that satisfy a given predicate in its generated result\n",
    "\n",
    "■ Can sometimes be replaced with a comprehension or generator expression that has a\n",
    "predicate\n",
    "\n",
    "■ Often shorter if no lambdas are involved"
   ]
  },
  {
   "cell_type": "code",
   "execution_count": 30,
   "metadata": {},
   "outputs": [
    {
     "data": {
      "text/plain": [
       "[4, 5, 6]"
      ]
     },
     "execution_count": 30,
     "metadata": {},
     "output_type": "execute_result"
    }
   ],
   "source": [
    "list(filter(lambda x:x>3, {1,2,3,4,5,6,})) # 조건을 만들어서 filter "
   ]
  },
  {
   "cell_type": "code",
   "execution_count": null,
   "metadata": {},
   "outputs": [],
   "source": [
    "filter(lambda score: score > 50, scores)"
   ]
  },
  {
   "cell_type": "code",
   "execution_count": null,
   "metadata": {},
   "outputs": [],
   "source": [
    "(score for score in scores if score > 50)"
   ]
  },
  {
   "cell_type": "markdown",
   "metadata": {},
   "source": [
    "## reduce\n",
    "ch05 참조\n",
    "\n",
    "■ functools.reduce implements(구현하다) what is know as a fold left operation\n",
    "\n",
    "■ Reduces a sequence of values to a single value, left to right, with the accumulated value on the left and the other on the right"
   ]
  },
  {
   "cell_type": "markdown",
   "metadata": {},
   "source": [
    "reduce는 파이썬 3부터 파이썬 표준 라이브러리에서 제외되었으므로 내장 함수가 아닙니다. 따라서 from functools import reduce와 같이 functools 모듈에서 reduce 함수를 가져와야 합니다."
   ]
  },
  {
   "cell_type": "code",
   "execution_count": 72,
   "metadata": {},
   "outputs": [],
   "source": [
    "from functools import reduce"
   ]
  },
  {
   "cell_type": "code",
   "execution_count": 77,
   "metadata": {},
   "outputs": [],
   "source": [
    "import operator"
   ]
  },
  {
   "cell_type": "code",
   "execution_count": 81,
   "metadata": {},
   "outputs": [],
   "source": [
    "def factorial(n):\n",
    "    return reduce(lambda l, r: l*r, range(1, n+1))"
   ]
  },
  {
   "cell_type": "code",
   "execution_count": 88,
   "metadata": {},
   "outputs": [],
   "source": [
    "def factorial(n):\n",
    "    return reduce(operator.mul, range(1, n+1), 1)"
   ]
  },
  {
   "cell_type": "code",
   "execution_count": 89,
   "metadata": {},
   "outputs": [
    {
     "data": {
      "text/plain": [
       "120"
      ]
     },
     "execution_count": 89,
     "metadata": {},
     "output_type": "execute_result"
    }
   ],
   "source": [
    "factorial(5)"
   ]
  },
  {
   "cell_type": "markdown",
   "metadata": {},
   "source": [
    "---"
   ]
  },
  {
   "cell_type": "markdown",
   "metadata": {},
   "source": [
    "# Nested functions & lambdas\n",
    "ch05 참조\n",
    "\n",
    "■ Nested functions and lambdas bind to their surrounding scope\n",
    "\n",
    "■ I.e., they are closures\n"
   ]
  },
  {
   "cell_type": "code",
   "execution_count": 90,
   "metadata": {},
   "outputs": [],
   "source": [
    "def curry(function, first):\n",
    "    def curried(second):\n",
    "        return function(first, second)\n",
    "    return curried"
   ]
  },
  {
   "cell_type": "code",
   "execution_count": 91,
   "metadata": {},
   "outputs": [],
   "source": [
    "def curry(function, first):\n",
    "    return lambda second: function(first, second)"
   ]
  },
  {
   "cell_type": "code",
   "execution_count": 92,
   "metadata": {},
   "outputs": [
    {
     "name": "stdout",
     "output_type": "stream",
     "text": [
      "Hello World\n"
     ]
    }
   ],
   "source": [
    "hello = curry(print, 'Hello')\n",
    "hello('World')"
   ]
  },
  {
   "cell_type": "code",
   "execution_count": 93,
   "metadata": {},
   "outputs": [
    {
     "name": "stdout",
     "output_type": "stream",
     "text": [
      "Hello World\n"
     ]
    }
   ],
   "source": [
    "curry(print, 'Hello')('World')"
   ]
  },
  {
   "cell_type": "code",
   "execution_count": 95,
   "metadata": {},
   "outputs": [],
   "source": [
    "def timed_function(function, *, report=print):\n",
    "    from time import time\n",
    "    def wrapper(*args):\n",
    "        start = time()\n",
    "        try:\n",
    "            function(*args)\n",
    "        finally:\n",
    "            report(time() - start)\n",
    "    return wrapper"
   ]
  },
  {
   "cell_type": "code",
   "execution_count": 96,
   "metadata": {
    "scrolled": true
   },
   "outputs": [
    {
     "ename": "NameError",
     "evalue": "name 'long_running' is not defined",
     "output_type": "error",
     "traceback": [
      "\u001b[1;31m---------------------------------------------------------------------------\u001b[0m",
      "\u001b[1;31mNameError\u001b[0m                                 Traceback (most recent call last)",
      "\u001b[1;32m<ipython-input-96-8cf1b951ecda>\u001b[0m in \u001b[0;36m<module>\u001b[1;34m()\u001b[0m\n\u001b[1;32m----> 1\u001b[1;33m \u001b[0mwrapped\u001b[0m \u001b[1;33m=\u001b[0m \u001b[0mtimed_function\u001b[0m\u001b[1;33m(\u001b[0m\u001b[0mlong_running\u001b[0m\u001b[1;33m)\u001b[0m\u001b[1;33m\u001b[0m\u001b[0m\n\u001b[0m\u001b[0;32m      2\u001b[0m \u001b[0mwrapped\u001b[0m\u001b[1;33m(\u001b[0m\u001b[0marg_for_long_running\u001b[0m\u001b[1;33m)\u001b[0m\u001b[1;33m\u001b[0m\u001b[0m\n",
      "\u001b[1;31mNameError\u001b[0m: name 'long_running' is not defined"
     ]
    }
   ],
   "source": [
    "wrapped = timed_function(long_running)\n",
    "wrapped(arg_for_long_running)"
   ]
  },
  {
   "cell_type": "markdown",
   "metadata": {},
   "source": [
    "---"
   ]
  },
  {
   "cell_type": "markdown",
   "metadata": {},
   "source": [
    "# case-sensitive names\n",
    "<img src=\"2.jpg\"/>"
   ]
  },
  {
   "cell_type": "markdown",
   "metadata": {},
   "source": [
    "# case \n",
    "<img src=\"7.jpg\"/>"
   ]
  },
  {
   "cell_type": "markdown",
   "metadata": {},
   "source": [
    "# annotation (어노테이션)\n",
    "■ A function's parameters and its result can be annotated with expressions\n",
    "\n",
    "■ No semantic effect, but are associated with the function object as metadata, typically for documentation purposes"
   ]
  },
  {
   "cell_type": "markdown",
   "metadata": {},
   "source": [
    "관습에 따라 형 힌트 로 사용되는 변수, 클래스 어트리뷰트 또는 함수 매개변수 나 반환 값과 연결된 레이블입니다.\n",
    "\n",
    "지역 변수의 어노테이션은 실행 시간에 액세스할 수 없지만, 전역 변수, 클래스 속성 및 함수의 어노테이션은 각각 모듈, 클래스, 함수의 _ _annotations__ 특수 어트리뷰트에 저장됩니다.\n",
    "\n",
    "이 기능을 설명하는 변수 어노테이션, 함수 어노테이션, PEP 484, PEP 526을 참조하세요."
   ]
  },
  {
   "cell_type": "code",
   "execution_count": 52,
   "metadata": {},
   "outputs": [
    {
     "data": {
      "text/plain": [
       "{'return': bool, 'year': 'Gregorian'}"
      ]
     },
     "execution_count": 52,
     "metadata": {},
     "output_type": "execute_result"
    }
   ],
   "source": [
    "def is_leap_year(year : 'Gregorian') -> bool:\n",
    "    return year % 4 == 0 and year % 100 != 0 or year % 400 == 0\n",
    "is_leap_year.__annotations__"
   ]
  },
  {
   "cell_type": "markdown",
   "metadata": {},
   "source": [
    "# class (클래스)\n",
    "ch07 참조\n",
    "\n",
    "사용자 정의 객체들을 만들기 위한 주형. 클래스 정의는 보통 클래스의 인스턴스를 대상으로 연산하는 메서드 정의들을 포함합니다."
   ]
  },
  {
   "cell_type": "markdown",
   "metadata": {},
   "source": [
    "# object (객체)\n",
    "상태 (어트리뷰트나 값) 를 갖고 동작 (메서드) 이 정의된 모든 데이터. 또한, 모든 뉴스타일 클래스 의 최종적인 베이스 클래스입니다.\n",
    "package (패키지)"
   ]
  },
  {
   "cell_type": "markdown",
   "metadata": {},
   "source": [
    "# docstring (독스트링)\n",
    "클래스, 함수, 모듈에서 첫 번째 표현식으로 나타나는 문자열 리터럴. 스위트가 실행될 때는 무시되지만, 컴파일러에 의해 인지되어 둘러싼 클래스, 함수, 모듈의 __doc__ 어트리뷰트로 삽입됩니다. 인트로스팩션을 통해 사용할 수 있으므로, 객체의 설명서를 위한 규범적인 장소입니다."
   ]
  },
  {
   "cell_type": "markdown",
   "metadata": {},
   "source": [
    "# import path (임포트 경로)\n",
    "import 참조 \n",
    "\n",
    "경로 기반 파인더 가 임포트할 모듈을 찾기 위해 검색하는 장소들 (또는 경로 엔트리) 의 목록. 임포트하는 동안, 이 장소들의 목록은 보통 sys.path 로부터 옵니다, 하지만 서브 패키지의 경우 부모 패키지의 __path__ 어트리뷰트로부터 올 수도 있습니다."
   ]
  },
  {
   "cell_type": "markdown",
   "metadata": {},
   "source": [
    "# importing (임포팅)\n",
    "한 모듈의 파이썬 코드가 다른 모듈의 파이썬 코드에서 사용될 수 있도록 하는 절차."
   ]
  },
  {
   "cell_type": "markdown",
   "metadata": {},
   "source": [
    "# importer (임포터)\n",
    "모듈을 찾기도 하고 로드 하기도 하는 객체; 동시에 파인더 이자 로더 객체입니다."
   ]
  },
  {
   "cell_type": "markdown",
   "metadata": {},
   "source": [
    "# loader (로더)\n",
    "모듈을 로드하는 객체. load_module() 이라는 이름의 메서드를 정의해야 합니다. 로더는 보통 파인더 가 돌려줍니다. 자세한 내용은 PEP 302 를, 추상 베이스 클래스 는 importlib.abc.Loader 를 보세요."
   ]
  },
  {
   "cell_type": "markdown",
   "metadata": {},
   "source": [
    "# finder (파인더)\n",
    "임포트될 모듈을 위한 로더 를 찾으려고 시도하는 객체.\n",
    "\n",
    "파이썬 3.3. 이후로, 두 종류의 파인더가 있습니다: sys.meta_path 와 함께 사용하는 메타 경로 파인더 와 sys.path_hooks 과 함께 사용하는 경로 엔트리 파인더.\n",
    "\n",
    "더 자세한 내용은 PEP 302, PEP 420, PEP 451 에 나옵니다."
   ]
  },
  {
   "cell_type": "markdown",
   "metadata": {},
   "source": [
    "# meta path finder (메타 경로 파인더)\n",
    "sys.meta_path 의 검색이 돌려주는 파인더. 메타 경로 파인더는 경로 엔트리 파인더 와 관련되어 있기는 하지만 다릅니다.\n",
    "\n",
    "메타 경로 파인더가 구현하는 메서드들에 대해서는 importlib.abc.MetaPathFinder 를 보면 됩니다."
   ]
  },
  {
   "cell_type": "markdown",
   "metadata": {},
   "source": [
    "# path entry finder (경로 엔트리 파인더)\n",
    "sys.path_hooks 에 있는 콜러블 (즉, 경로 엔트리 훅) 이 돌려주는 파인더 인데, 주어진 경로 엔트리 로 모듈을 찾는 방법을 알고 있습니다.\n",
    "\n",
    "경로 엔트리 파인더들이 구현하는 메서드들은 importlib.abc.PathEntryFinder 에 나옵니다."
   ]
  },
  {
   "cell_type": "markdown",
   "metadata": {},
   "source": [
    "# path entry (경로 엔트리)\n",
    "경로 기반 파인더 가 임포트할 모듈들을 찾기 위해 참고하는 임포트 경로 상의 하나의 장소."
   ]
  },
  {
   "cell_type": "markdown",
   "metadata": {},
   "source": [
    "# function (함수)\n",
    "호출자에게 어떤 값을 돌려주는 일련의 문장들. 없거나 그 이상의 인자 가 전달될 수 있는데, 바디의 실행에 사용될 수 있습니다. 매개변수 와 메서드 와 함수 정의 섹션도 보세요."
   ]
  },
  {
   "cell_type": "markdown",
   "metadata": {},
   "source": [
    "# class variable (클래스 변수)\n",
    "ch09 참조\n",
    "\n",
    "클래스에서 정의되고 클래스 수준 (즉, 클래스의 인스턴스에서가 아니라) 에서만 수정되는 변수.\n",
    "\n",
    "* instance variable 인스턴스 변수\n",
    "- self.instance_name\n",
    "\n",
    "class.instance_method(self, ~), instance.instance_method(~)"
   ]
  },
  {
   "cell_type": "markdown",
   "metadata": {},
   "source": [
    "# method (메서드)\n",
    "ch07 참조\n",
    "\n",
    "클래스 바디 안에서 정의되는 함수. 그 클래스의 인스턴스의 어트리뷰트로서 호출되면, 그 메서드는 첫 번째 인자 (보통 self 라고 불린다) 로 인스턴스 객체를 받습니다. 함수 와 중첩된 스코프 를 보세요."
   ]
  },
  {
   "cell_type": "markdown",
   "metadata": {},
   "source": [
    "# class method\n",
    "ch09 참조"
   ]
  },
  {
   "cell_type": "code",
   "execution_count": 133,
   "metadata": {},
   "outputs": [],
   "source": [
    "class Parrot:\n",
    "    speceies = 'ss'\n",
    "    # instance attributes\n",
    "    def __init__(selfsssss, name, age): \n",
    "                                    \n",
    "        selfsssss.name = name\n",
    "        selfsssss.age = age  \n",
    "    \n",
    "    # instance method`\n",
    "    def sing(self, song):\n",
    "        return \"{} sings {}\".format(self.name, song)\n",
    "\n",
    "    def dance(self):\n",
    "        return \"{} is now dancing\".format(self.name)\n",
    "    \n",
    "    @classmethod # anotation -> decorator \n",
    "    def dance2(cls): # 클래스 메소드는 관례상 cls \n",
    "# !      return \"{} is now dancing2\".format(self.name) # cls인디 self -> 인스턴스 변수 면 에러 \n",
    "        return \"{} is now dancing2\""
   ]
  },
  {
   "cell_type": "code",
   "execution_count": 134,
   "metadata": {},
   "outputs": [
    {
     "data": {
      "text/plain": [
       "'{} is now dancing2'"
      ]
     },
     "execution_count": 134,
     "metadata": {},
     "output_type": "execute_result"
    }
   ],
   "source": [
    "Parrot.dance2() # class 메소드는 class 명 을 쓰고 기입을 한다. "
   ]
  },
  {
   "cell_type": "code",
   "execution_count": 135,
   "metadata": {},
   "outputs": [],
   "source": [
    "a = Parrot('sun' ,42)"
   ]
  },
  {
   "cell_type": "code",
   "execution_count": 136,
   "metadata": {},
   "outputs": [
    {
     "data": {
      "text/plain": [
       "'{} is now dancing2'"
      ]
     },
     "execution_count": 136,
     "metadata": {},
     "output_type": "execute_result"
    }
   ],
   "source": [
    "a.__class__.dance2() # instance.__class__ -> real class 전자와 같은 개념 "
   ]
  },
  {
   "cell_type": "markdown",
   "metadata": {},
   "source": [
    "# nested scope (중첩된 스코프)\n",
    "LEGB 참조\n",
    "\n",
    "둘러싼 정의에서 변수를 참조하는 능력. 예를 들어, 다른 함수 내부에서 정의된 함수는 바깥 함수에 있는 변수들을 참조할 수 있습니다. 중첩된 스코프는 기본적으로는 참조만 가능할 뿐, 대입은 되지 않는다는 것에 주의해야 합니다. 지역 변수들은 가장 내부의 스코프에서 읽고 씁니다. 마찬가지로, 전역 변수들은 전역 이름 공간에서 읽고 씁니다. nonlocal 은 바깥 스코프에 쓰는 것을 허락합니다."
   ]
  },
  {
   "cell_type": "markdown",
   "metadata": {},
   "source": [
    "# special method (특수 메서드)\n",
    "ch07 참조\n",
    "\n",
    "파이썬이 형에 어떤 연산을, 덧셈 같은, 실행할 때 묵시적으로 호출되는 메서드. 이런 메서드는 두 개의 밑줄로 시작하고 끝나는 이름을 갖고 있습니다. 특수 메서드는 특수 메서드 이름들 에 문서로 만들어져 있습니다. "
   ]
  },
  {
   "cell_type": "markdown",
   "metadata": {},
   "source": [
    "# Inheritance\n",
    "ch09 참조\n",
    "\n",
    "- 객체지향의 특징은 상속으로 확장과 변경이 가능하다 (재사용), #함수같은경우 재사용이 힘들다. \n",
    "- 상속은 상식적으로 2가지 \n",
    "- 단일 상속(java), 다중상속 (c++)<br>\n",
    "<br>\n",
    "- 파이썬은 다중상속 ,추상클래스 기법 가능 <br>\n",
    "<br>\n",
    "- 가능한 다중상속 쓰지마 \n",
    "-  java에서는 다중상속이 없지만 다중상속처럼 쓸 수 있는것이  -> interface \n"
   ]
  },
  {
   "cell_type": "markdown",
   "metadata": {},
   "source": [
    "## 상속의 문제점 \n",
    "- 나는 어떤 기능 한 개만 바꾸고 싶은디 \n",
    "- 상속 받은거 엄청 커 그럼 부모 성질 다 갖고 오잖아\n",
    "- 그래서 메모리커지잖아 \n",
    "- 그래서 상속을 쓰지 않는게 대부분\n",
    "- 참고로 간단한 확장시킬 수 있어 다른 언어에서는 다른 방법으로 사용한다. swift ...etc\n",
    "- 가장 간단한 방법이기 때문에 (확장)"
   ]
  },
  {
   "cell_type": "markdown",
   "metadata": {},
   "source": [
    "#  Encapsulation\n",
    "ch09 참조"
   ]
  },
  {
   "cell_type": "code",
   "execution_count": 137,
   "metadata": {},
   "outputs": [],
   "source": [
    "# class는 private가 없어서 외부에서 관리 해주는게 어렵다 \n",
    "# 그래서 캡슐화 \n",
    "# 근디 mutable 땜에 또 골치 아프다 "
   ]
  },
  {
   "cell_type": "code",
   "execution_count": 138,
   "metadata": {},
   "outputs": [],
   "source": [
    "class Computer:\n",
    "\n",
    "    def __init__(self): # __ -> private _ -> 예약어\n",
    "        self.__maxprice = 900\n",
    "\n",
    "    def sell(self):\n",
    "        print(\"Selling Price: {}\".format(self.__maxprice))\n",
    "        \n",
    "    def setMaxPrice(self, price):\n",
    "        self.__maxprice = price"
   ]
  },
  {
   "cell_type": "code",
   "execution_count": 139,
   "metadata": {},
   "outputs": [
    {
     "name": "stdout",
     "output_type": "stream",
     "text": [
      "Selling Price: 900\n",
      "Selling Price: 900\n",
      "Selling Price: 1000\n"
     ]
    }
   ],
   "source": [
    "c = Computer()\n",
    "c.sell()\n",
    "\n",
    "# change the price\n",
    "c.__maxprice = 1000\n",
    "c.sell()\n",
    "\n",
    "# using setter function\n",
    "c.setMaxPrice(1000)\n",
    "c.sell()"
   ]
  },
  {
   "cell_type": "code",
   "execution_count": 140,
   "metadata": {},
   "outputs": [
    {
     "data": {
      "text/plain": [
       "['_Computer__maxprice',\n",
       " '__class__',\n",
       " '__delattr__',\n",
       " '__dict__',\n",
       " '__dir__',\n",
       " '__doc__',\n",
       " '__eq__',\n",
       " '__format__',\n",
       " '__ge__',\n",
       " '__getattribute__',\n",
       " '__gt__',\n",
       " '__hash__',\n",
       " '__init__',\n",
       " '__init_subclass__',\n",
       " '__le__',\n",
       " '__lt__',\n",
       " '__maxprice',\n",
       " '__module__',\n",
       " '__ne__',\n",
       " '__new__',\n",
       " '__reduce__',\n",
       " '__reduce_ex__',\n",
       " '__repr__',\n",
       " '__setattr__',\n",
       " '__sizeof__',\n",
       " '__str__',\n",
       " '__subclasshook__',\n",
       " '__weakref__',\n",
       " 'sell',\n",
       " 'setMaxPrice']"
      ]
     },
     "execution_count": 140,
     "metadata": {},
     "output_type": "execute_result"
    }
   ],
   "source": [
    "dir(c)"
   ]
  },
  {
   "cell_type": "code",
   "execution_count": 141,
   "metadata": {},
   "outputs": [
    {
     "data": {
      "text/plain": [
       "{'_Computer__maxprice': 1000, '__maxprice': 1000}"
      ]
     },
     "execution_count": 141,
     "metadata": {},
     "output_type": "execute_result"
    }
   ],
   "source": [
    "vars(c)"
   ]
  },
  {
   "cell_type": "markdown",
   "metadata": {},
   "source": [
    "# Polymorphism\n",
    "ch09 참조 \n",
    "\n",
    "- 폴리모피즘은 상속하는 얘만\n",
    "- 파이썬은 상관 없어 Liskov Substitutiuin principle\n",
    "- 파이썬에서 다형성에서 상속을 안받아도 상관없는것이 특징"
   ]
  },
  {
   "cell_type": "code",
   "execution_count": 142,
   "metadata": {},
   "outputs": [],
   "source": [
    "class Parrot:\n",
    "\n",
    "    def fly(self): # 상속 안받음\n",
    "        print(\"Parrot can fly\")\n",
    "    \n",
    "    def swim(self):\n",
    "        print(\"Parrot can't swim\")\n",
    "\n",
    "class Penguin:\n",
    "\n",
    "    def fly(self): #상속 안받음 \n",
    "        print(\"Penguin can't fly\")\n",
    "    \n",
    "    def swim(self):\n",
    "        print(\"Penguin can swim\")"
   ]
  },
  {
   "cell_type": "code",
   "execution_count": 143,
   "metadata": {},
   "outputs": [
    {
     "name": "stdout",
     "output_type": "stream",
     "text": [
      "Parrot can fly\n",
      "Penguin can't fly\n"
     ]
    }
   ],
   "source": [
    "# common interface\n",
    "def flying_test(bird): # bird 상속 안받았지만, duck typing! 제공 <- 인스턴스가 온다 , \n",
    "                       # self, 다른 언어에서는 전혀 안됨 (duck typing 지원하는거 이외)\n",
    "    bird.fly() # duck typing \n",
    "\n",
    "#instantiate objects\n",
    "blu = Parrot()\n",
    "peggy = Penguin()\n",
    "\n",
    "# passing the object\n",
    "flying_test(blu)\n",
    "flying_test(peggy)"
   ]
  },
  {
   "cell_type": "markdown",
   "metadata": {},
   "source": [
    "# duck-typing (덕 타이핑)\n",
    "ch09 참조 \n",
    "\n",
    "올바른 인터페이스를 가졌는지 판단하는데 객체의 형을 보지 않는 프로그래밍 스타일; 대신, 단순히 메서드나 어트리뷰트가 호출되거나 사용됩니다 (\"오리처럼 보이고 오리처럼 꽥꽥댄다면, 그것은 오리다.\") 특정한 형 대신에 인터페이스를 강조함으로써, 잘 설계된 코드는 다형적인 치환을 허락함으로써 유연성을 개선할 수 있습니다. 덕 타이핑은 type() 이나 isinstance() 을 사용한 검사를 피합니다. (하지만, 덕 타이핑이 추상 베이스 클래스 로 보완될 수 있음에 유의해야 합니다.) 대신에, hasattr() 검사나 EAFP 프로그래밍을 씁니다."
   ]
  },
  {
   "cell_type": "markdown",
   "metadata": {},
   "source": [
    "# MRO\n",
    "ch09 참조\n",
    "\n",
    "메서드 결정 순서 를 보세요. "
   ]
  },
  {
   "cell_type": "markdown",
   "metadata": {},
   "source": [
    "# method resolution order (메서드 결정 순서)\n",
    "메서드 결정 순서는 조회하는 동안 멤버를 검색하는 베이스 클래스들의 순서입니다. 2.3 릴리스부터 파이썬 인터프리터에 사용된 알고리즘의 상세한 내용은 The Python 2.3 Method Resolution Order 를 보면 됩니다."
   ]
  },
  {
   "cell_type": "markdown",
   "metadata": {},
   "source": [
    "---"
   ]
  },
  {
   "cell_type": "markdown",
   "metadata": {},
   "source": [
    "# generic function (제네릭 함수)\n",
    "ch09 참조 \n",
    "\n",
    "같은 연산을 서로 다른 형들에 대해 구현한 여러 함수로 구성된 함수. 호출 때 어떤 구현이 사용될지는 디스패치 알고리즘에 의해 결정됩니다.\n",
    "\n",
    "싱글 디스패치 용어집 항목과 functools.singledispatch() 데코레이터와 PEP 443 도 보세요."
   ]
  },
  {
   "cell_type": "markdown",
   "metadata": {},
   "source": [
    "# generator iterator (제너레이터 이터레이터)\n",
    "ch09 참조\n",
    "\n",
    "제너레이터 함수가 만드는 객체.\n",
    "\n",
    "각 yield 는 일시적으로 처리를 중단하고, 그 위치의 (지역 변수들과 대기 중인 try-문들을 포함하는) 실행 상태를 기억합니다. 제너레이터 이터레이터 가 재개되면, 떠난 곳으로 복귀합니다 (호출마다 새로 시작하는 함수와 대비됩니다)."
   ]
  },
  {
   "cell_type": "markdown",
   "metadata": {},
   "source": [
    "# yield\n",
    "Yield는 함수가 제너레이터를 반환한다는 것을 제외하고 return과 비슷하게 사용되는 키워드입니다."
   ]
  },
  {
   "cell_type": "code",
   "execution_count": 58,
   "metadata": {},
   "outputs": [
    {
     "name": "stdout",
     "output_type": "stream",
     "text": [
      "<generator object createGenerator at 0x000001E28269EB48>\n"
     ]
    }
   ],
   "source": [
    "def createGenerator():\n",
    "    mylist = range(3)\n",
    "    for i in mylist:\n",
    "        yield i * i\n",
    "\n",
    "mygenerator = createGenerator() # 제너레이터 생성\n",
    "print(mygenerator) # mygenerater는 객체입니다."
   ]
  },
  {
   "cell_type": "code",
   "execution_count": 59,
   "metadata": {},
   "outputs": [
    {
     "name": "stdout",
     "output_type": "stream",
     "text": [
      "0\n",
      "1\n",
      "4\n"
     ]
    }
   ],
   "source": [
    "for i in mygenerator:\n",
    "     print(i)"
   ]
  },
  {
   "cell_type": "markdown",
   "metadata": {},
   "source": [
    "쓸모없는 예를 들어봤습니다, 하지만 만약 한 번만 순환할 거대한 리스트(set)를 반환하는 함수를 만들어야 한다면 이와 같은 방법은 매우 유용하게 사용됩니다.\n",
    "\n",
    "yield를 완벽히 마스터하기 위해 우리는 **함수를 호출해도 함수 내에 있는 코드들이 실행되지 않는다.**\n",
    "라는 것을 이해해야 합니다. 함수는 실행될 때 그저 제너레이터 객체를 반환하고 이는 약간 생각을 복잡하게 합니다.\n",
    "\n",
    "코드는 실제로 for 루프로 제너레이터를 돌 때 실행됩니다.\n",
    "함수로부터 만들어진 제너레이터 객체가 for 루프를 통해 처음 실행될 때 Python은 함수 내에 있는 코드를 yield 키워드를 만나기 전까지 실행하고 첫 번째 루프의 값을 반환하게 됩니다. 다음 루프 때에는 yield 키워드 뒤에 있는 코드를 실행하고 다시 루프를 돌면서 반환할 값이 아예 없을 때까지 계속 같은 과정을 반복하게 됩니다.\n",
    "\n",
    "제너레이터는 함수가 실행됐는데 더 이상 yield를 만나지 못했을 때 다 끝난 것으로 간주합니다. 루프가 끝났거나 if/else와 같은 조건문을 더 이상 만족하지 않는 경우에 말이죠."
   ]
  },
  {
   "cell_type": "markdown",
   "metadata": {},
   "source": [
    "# generator expression (제너레이터 표현식)\n",
    "이터레이터를 돌려주는 표현식. 루프 변수와 범위를 정의하는 for 표현식과 생략 가능한 if 표현식이 뒤에 붙는 일반 표현식 처럼 보입니다. 결합한 표현식은 둘러싼 함수를 위한 값들을 만들어냅니다:"
   ]
  },
  {
   "cell_type": "code",
   "execution_count": 11,
   "metadata": {},
   "outputs": [],
   "source": [
    "a = (i*i for i in range(10))   # sum of squares 0, 1, 4, ... 81"
   ]
  },
  {
   "cell_type": "code",
   "execution_count": 8,
   "metadata": {},
   "outputs": [
    {
     "data": {
      "text/plain": [
       "generator"
      ]
     },
     "execution_count": 8,
     "metadata": {},
     "output_type": "execute_result"
    }
   ],
   "source": [
    "type(a)"
   ]
  },
  {
   "cell_type": "code",
   "execution_count": 9,
   "metadata": {},
   "outputs": [],
   "source": [
    "a = [i*i for i in range(10)]"
   ]
  },
  {
   "cell_type": "code",
   "execution_count": 10,
   "metadata": {},
   "outputs": [
    {
     "data": {
      "text/plain": [
       "list"
      ]
     },
     "execution_count": 10,
     "metadata": {},
     "output_type": "execute_result"
    }
   ],
   "source": [
    "type(a)"
   ]
  },
  {
   "cell_type": "code",
   "execution_count": 12,
   "metadata": {
    "scrolled": true
   },
   "outputs": [
    {
     "data": {
      "text/plain": [
       "285"
      ]
     },
     "execution_count": 12,
     "metadata": {},
     "output_type": "execute_result"
    }
   ],
   "source": [
    "sum(i*i for i in range(10))   # sum of squares 0, 1, 4, ... 81"
   ]
  },
  {
   "cell_type": "code",
   "execution_count": 13,
   "metadata": {
    "scrolled": false
   },
   "outputs": [
    {
     "name": "stdout",
     "output_type": "stream",
     "text": [
      "0\n",
      "1\n",
      "4\n",
      "9\n",
      "16\n",
      "25\n",
      "36\n",
      "49\n",
      "64\n",
      "81\n"
     ]
    }
   ],
   "source": [
    "for i in a:\n",
    "    print(i)\n",
    "    "
   ]
  },
  {
   "cell_type": "code",
   "execution_count": 14,
   "metadata": {
    "scrolled": false
   },
   "outputs": [],
   "source": [
    "for i in a:\n",
    "    print(i)\n",
    "    "
   ]
  },
  {
   "cell_type": "code",
   "execution_count": 15,
   "metadata": {
    "scrolled": true
   },
   "outputs": [
    {
     "data": {
      "text/plain": [
       "81"
      ]
     },
     "execution_count": 15,
     "metadata": {},
     "output_type": "execute_result"
    }
   ],
   "source": [
    "i"
   ]
  },
  {
   "cell_type": "code",
   "execution_count": 16,
   "metadata": {
    "scrolled": true
   },
   "outputs": [
    {
     "data": {
      "text/plain": [
       "generator"
      ]
     },
     "execution_count": 16,
     "metadata": {},
     "output_type": "execute_result"
    }
   ],
   "source": [
    "type(a)"
   ]
  },
  {
   "cell_type": "markdown",
   "metadata": {},
   "source": [
    "# generator (제너레이터)\n",
    "ch09 참조\n",
    "\n",
    "제너레이터 이터레이터를 돌려주는 함수. 일반 함수처럼 보이는데, 일련의 값들을 만드는 yield 표현식을 포함한다는 점이 다릅니다. 이 값들은 for-루프로 사용하거나 next() 함수로 한 번에 하나씩 꺼낼 수 있습니다.\n",
    "\n",
    "보통 제너레이터 함수를 가리키지만, 어떤 문맥에서는 제너레이터 이터레이터를 가리킵니다. 의도하는 의미가 명확하지 않은 경우는, 완전한 용어를 써서 모호함을 없앱니다."
   ]
  },
  {
   "cell_type": "markdown",
   "metadata": {},
   "source": [
    "제너레이터(generators)는 이터레이터(iterators)입니다. 하지만 제너레이터는 모든 값을 메모리에 담고 있지 않고 그때그때 값을 생성(generator)해서 반환하기 때문에 제너레이터를 사용할 때에는 한 번에 한 개의 값만 순환(iterate) 할 수 있습니다:"
   ]
  },
  {
   "cell_type": "code",
   "execution_count": 31,
   "metadata": {},
   "outputs": [
    {
     "name": "stdout",
     "output_type": "stream",
     "text": [
      "10 3\n",
      "11 4\n",
      "12 5\n",
      "13 6\n",
      "14 7\n",
      "15 8\n",
      "16 9\n",
      "17 10\n"
     ]
    }
   ],
   "source": [
    "for i,j in enumerate(range(3,11),10):\n",
    "    print(i,j) #인덱스는 10부터 <- 함수형 기법"
   ]
  },
  {
   "cell_type": "code",
   "execution_count": 120,
   "metadata": {},
   "outputs": [
    {
     "name": "stdout",
     "output_type": "stream",
     "text": [
      "0\n",
      "1\n",
      "4\n"
     ]
    }
   ],
   "source": [
    "mygenerator = (x * x for x in range(3))\n",
    "for i in mygenerator:\n",
    "    print(i)"
   ]
  },
  {
   "cell_type": "markdown",
   "metadata": {},
   "source": [
    " 코드에서 볼 수 있듯 [] 대신 ()를 사용한다는 것을 제외하고는 일반적인 이터레이터와 동일합니다. 하지만 우리는 제너레이터를 이용해 for i in mygenerator 코드를 두 번 실행할 수는 없습니다. 제너레이터는 한 번만 사용될 수 있기 때문입니다: 제너레이터는 0을 계산해서 반환한 후 0에 대해서는 아예 잊습니다, 그리고 1을 계산하고 한 번에 하나씩 처리해가며 순환을 종료합니다."
   ]
  },
  {
   "cell_type": "markdown",
   "metadata": {},
   "source": [
    "<img src=\"10.jpg\"/>"
   ]
  },
  {
   "cell_type": "markdown",
   "metadata": {},
   "source": [
    "---"
   ]
  },
  {
   "cell_type": "markdown",
   "metadata": {},
   "source": [
    "# Decorators\n",
    "■ A function definition may be wrapped in decorator expressions\n",
    "\n",
    "■ A decorator is a function that transforms the function it decorates"
   ]
  },
  {
   "cell_type": "code",
   "execution_count": 53,
   "metadata": {},
   "outputs": [],
   "source": [
    "class List:\n",
    "    @staticmethod\n",
    "    def nil():\n",
    "        return []\n",
    "    @staticmethod\n",
    "    def cons(head, tail):\n",
    "        return [head] + tail"
   ]
  },
  {
   "cell_type": "code",
   "execution_count": 56,
   "metadata": {},
   "outputs": [
    {
     "name": "stdout",
     "output_type": "stream",
     "text": [
      "[]\n",
      "[1]\n",
      "[2, 1]\n",
      "1449630200648\n",
      "1449630190344\n",
      "1449630007688\n"
     ]
    }
   ],
   "source": [
    "nil = List.nil()\n",
    "one = List.cons(1, nil)\n",
    "two = List.cons(2, one)\n",
    "\n",
    "print(nil)\n",
    "print(one)\n",
    "print(two)\n",
    "print(id(nil))\n",
    "print(id(one))\n",
    "print(id(two))"
   ]
  },
  {
   "cell_type": "code",
   "execution_count": null,
   "metadata": {},
   "outputs": [],
   "source": []
  },
  {
   "cell_type": "code",
   "execution_count": null,
   "metadata": {},
   "outputs": [],
   "source": []
  },
  {
   "cell_type": "markdown",
   "metadata": {},
   "source": [
    "# type hint (형 힌트)\n",
    "변수, 클래스 어트리뷰트 및 함수 매개변수 나 반환 값의 기대되는 형을 지정하는 어노테이션.\n",
    "\n",
    "형 힌트는 선택 사항이며 파이썬에서 강제되지는 않습니다. 하지만, 정적 형 분석 도구에 유용하며 IDE의 코드 완성 및 리팩토링을 돕습니다.\n",
    "\n",
    "지역 변수를 제외하고, 전역 변수, 클래스 어트리뷰트 및 함수의 형 힌트는 typing.get_type_hints() 를 사용하여 액세스할 수 있습니다.\n",
    "\n",
    "이 기능을 설명하는 typing과 PEP 484를 참조하세요."
   ]
  },
  {
   "cell_type": "markdown",
   "metadata": {},
   "source": [
    "# Name Access\n",
    "ch05참조\n"
   ]
  },
  {
   "cell_type": "markdown",
   "metadata": {},
   "source": [
    "# context manager (컨텍스트 관리자)\n",
    "_ _enter__() 와 _ _exit__() 메서드를 정의함으로써 with 문에서 보이는 환경을 제어하는 객체. PEP 343 로 도입되었습니다.\n",
    "\n",
    "https://ddanggle.gitbooks.io/interpy-kr/content/ch24-context-manager.html"
   ]
  },
  {
   "cell_type": "code",
   "execution_count": 1,
   "metadata": {},
   "outputs": [],
   "source": [
    "with open('a.txt', 'w') as opened_file:\n",
    "    opened_file.write('Hola')"
   ]
  },
  {
   "cell_type": "code",
   "execution_count": 2,
   "metadata": {},
   "outputs": [],
   "source": [
    "file = open('a.txt', 'w')\n",
    "try:\n",
    "    file.write('Hola')\n",
    "finally:\n",
    "    file.close()"
   ]
  },
  {
   "cell_type": "markdown",
   "metadata": {},
   "source": [
    "# Class로 Context Manager 향상시키기."
   ]
  },
  {
   "cell_type": "code",
   "execution_count": 3,
   "metadata": {},
   "outputs": [],
   "source": [
    "class File(object):\n",
    "    def __init__(self, file_name, method):\n",
    "        self.file_obj = open(file_name, method)\n",
    "    def __enter__(self):\n",
    "        return self.file_obj\n",
    "    def __exit__(self, type, value, trace_back):\n",
    "        self.file_obj.close()"
   ]
  },
  {
   "cell_type": "code",
   "execution_count": 14,
   "metadata": {},
   "outputs": [
    {
     "name": "stdout",
     "output_type": "stream",
     "text": [
      "예외는 처리되어야 합니다\n"
     ]
    }
   ],
   "source": [
    "with File('demo.txt', 'wb') as opened_file:\n",
    "    opened_file.write('Hola!')"
   ]
  },
  {
   "cell_type": "markdown",
   "metadata": {},
   "source": [
    "1. with문은 Fileclass의 _ _exit__ 메소드를 저장합니다.\n",
    "2. 이것은 File class의 _ _enter__메소드를 호출합니다.\n",
    "3. 'enter` 메소드는 파일을 열고 파일을 반환합니다.\n",
    "4. 열려진 파일 처리는 opened_file을 통과합니다.\n",
    "5. .write()를 사용해서 파일을 쓸 수 있습니다.\n",
    "6. with문은 저장된 _ _exit__ 문을 호출합니다.\n",
    "7. _ _exit__문은 파일을 닫습니다.\n"
   ]
  },
  {
   "cell_type": "markdown",
   "metadata": {},
   "source": [
    "# handling exception\n",
    "아직까지 _ _exit__ 메소드의 인자인 type, value, trace_back에 대해서는 아직 이야기를 나누지 않았습니다. 4번째에서 6번째 단계 사이에서 예외가 발생한다면, 파이썬은 예외에서의 type, value, trace_back을\n",
    "_v_exit__메소드에 통과시킵니다. 그러면 _ _exit__ 메소드에서는 다음에 어떤 단계들이 요구되는 지에 따라 파일을 닫을 수 있는 방법을 결정해야합니다. 이 경우에는 거기까지는 생각하지 않겠습니다.\n",
    "\n",
    "어떤 파일 객체에서 예외를 발생한다면 어떻게 될까요? 파일 객체가 지원되지 않는 메소드에 접근하려 한다고 생각해보겠습니다. 예를 들면,"
   ]
  },
  {
   "cell_type": "code",
   "execution_count": 4,
   "metadata": {},
   "outputs": [
    {
     "ename": "AttributeError",
     "evalue": "'_io.BufferedWriter' object has no attribute 'undefined_function'",
     "output_type": "error",
     "traceback": [
      "\u001b[1;31m---------------------------------------------------------------------------\u001b[0m",
      "\u001b[1;31mAttributeError\u001b[0m                            Traceback (most recent call last)",
      "\u001b[1;32m<ipython-input-4-af42a666be98>\u001b[0m in \u001b[0;36m<module>\u001b[1;34m()\u001b[0m\n\u001b[0;32m      1\u001b[0m \u001b[1;32mwith\u001b[0m \u001b[0mFile\u001b[0m\u001b[1;33m(\u001b[0m\u001b[1;34m'demo.txt'\u001b[0m\u001b[1;33m,\u001b[0m \u001b[1;34m'wb'\u001b[0m\u001b[1;33m)\u001b[0m \u001b[1;32mas\u001b[0m \u001b[0mopened_file\u001b[0m\u001b[1;33m:\u001b[0m\u001b[1;33m\u001b[0m\u001b[0m\n\u001b[1;32m----> 2\u001b[1;33m     \u001b[0mopened_file\u001b[0m\u001b[1;33m.\u001b[0m\u001b[0mundefined_function\u001b[0m\u001b[1;33m(\u001b[0m\u001b[1;34m'Hola!'\u001b[0m\u001b[1;33m)\u001b[0m\u001b[1;33m\u001b[0m\u001b[0m\n\u001b[0m",
      "\u001b[1;31mAttributeError\u001b[0m: '_io.BufferedWriter' object has no attribute 'undefined_function'"
     ]
    }
   ],
   "source": [
    "with File('demo.txt', 'wb') as opened_file:\n",
    "    opened_file.undefined_function('Hola!')"
   ]
  },
  {
   "cell_type": "markdown",
   "metadata": {},
   "source": [
    "with문이 에러를 만나면, 어떤 식으로 처리되는 지 단계들을 살펴보겠습니다.\n",
    "1. type, value, traceback의 에러가 `_exit`메소드를 통과합니다.\n",
    "2. _ _exit__ 메소드가 예외를 처리하도록 합니다.\n",
    "3. _ _exit__ 메소드가 True 를 반환한다면, 예외는 적절하게 된 것입니다.\n",
    "4. _ _exit__ 메소드가 True가 아닌 다른 것을 반환하면, with문에서 예외가 발생합니다.\n",
    "\n",
    "위의 경우에는 _ _exit__ 메소드는 None(리턴 문이 어떤 것도 만나지 않는다면 None을 반환합니다)을 반환합니다. 그래서, with문은 예외를 발생시킵니다.\n",
    "\n",
    "_ _exit__ 메소드에서 예외를 처리 해보겠습니다.\n",
    "\n"
   ]
  },
  {
   "cell_type": "code",
   "execution_count": 6,
   "metadata": {},
   "outputs": [
    {
     "name": "stdout",
     "output_type": "stream",
     "text": [
      "예외는 처리되어야 합니다\n"
     ]
    }
   ],
   "source": [
    "class File(object):\n",
    "    def __init__(self, file_name, method):\n",
    "        self.file_obj = open(file_name, method)\n",
    "    def __enter__(self):\n",
    "        return self.file_obj\n",
    "    def __exit__(self, type, value, trace_back):\n",
    "        print (\"예외는 처리되어야 합니다\")\n",
    "        self.file_obj.close()\n",
    "        return True\n",
    "\n",
    "with File('demo.txt', 'wb') as opened_file:\n",
    "    opened_file.undefined_function()\n",
    "# Output: 예외는 처리되어야 합니다"
   ]
  },
  {
   "cell_type": "markdown",
   "metadata": {},
   "source": [
    "_ _exit__ 메소드가 True를 반환한다면, with문에서 에외는 발생하지 않을 것입니다.\n",
    "\n",
    "컨텍스트 매니저를 향상시키는 방법말고도 다른 방법도 있습니다. 다음 섹션에서 알아보도록 하겠습니다."
   ]
  },
  {
   "cell_type": "markdown",
   "metadata": {},
   "source": [
    "# 제너레이터를 활용해서 컨텍스트 매니저 향상시키기.\n",
    "데코레이터와 제너레이터를 활용해서 컨텍스트 매니저를 향상시킬 수도 있습니다. 파이썬은 바로 이러한 목적으로 contextlib 모듈들을 가지고 있습니다. class 대신에, 컨텍스트 매니저을 제너레이터 함수를 이용해서 향상시킬 수도 있습니다. 의미없는 예시를 보면서, 기본부터 확인 해보겠습니다."
   ]
  },
  {
   "cell_type": "code",
   "execution_count": 9,
   "metadata": {},
   "outputs": [],
   "source": [
    "from contextlib import contextmanager\n",
    "\n",
    "@contextmanager\n",
    "def open_file(name):\n",
    "    f = open(name, 'wb')\n",
    "    yield f\n",
    "    f.close()"
   ]
  },
  {
   "cell_type": "markdown",
   "metadata": {},
   "source": [
    "자! 이 방법으로 컨텍스트 매니저를 좀 더 직관적이고 쉽게 향상시켰습니다! 그렇지만 이 메소드는 제너레이터, yield, 데코레이터에 관한 지식들이 필요합니다.\n",
    "이 예시에서는 일어날 수 있는 예외를 처리하지는 못합니다. 이전의 메소드와 동일한 방법으로 동작합니다.\n",
    "\n",
    "위 메소드에 관해서 조금 더 살펴보면,\n",
    "\n",
    "1. 파이썬이 yield 키워드를 만난다면, 일반적인 함수 대신에 제너레이터를 만들었기 때문입니다.\n",
    "2. 데코레이션이 있기 때문에 컨텍스트 매니저는 함수 이름(open_file)을 전달 인자로서 호출합니다.\n",
    "3. contextmanager함수는 GeneratorContextManager로 감싸진 제너레이터를 반환합니다.\n",
    "\n",
    "4. GeneratorContextManager는 open_file함수를 할당합니다. 그렇기 떄문에 open_file 함수를 앞으로 호출하면, 사실은 GeneratorContextManager을 호출하는 것입니다.\n",
    "\n",
    "우리는 이제 모든 것을 배웠으므로, 아래와 같이 새롭게 만들어진 컨텍스트 매니저를 사용할 수도 있습니다."
   ]
  },
  {
   "cell_type": "code",
   "execution_count": 13,
   "metadata": {},
   "outputs": [
    {
     "ename": "TypeError",
     "evalue": "a bytes-like object is required, not 'str'",
     "output_type": "error",
     "traceback": [
      "\u001b[1;31m---------------------------------------------------------------------------\u001b[0m",
      "\u001b[1;31mTypeError\u001b[0m                                 Traceback (most recent call last)",
      "\u001b[1;32m<ipython-input-13-ac3381b599ba>\u001b[0m in \u001b[0;36m<module>\u001b[1;34m()\u001b[0m\n\u001b[0;32m      1\u001b[0m \u001b[1;32mwith\u001b[0m \u001b[0mopen_file\u001b[0m\u001b[1;33m(\u001b[0m\u001b[1;34m'test.txt'\u001b[0m\u001b[1;33m)\u001b[0m \u001b[1;32mas\u001b[0m \u001b[0mf\u001b[0m\u001b[1;33m:\u001b[0m\u001b[1;33m\u001b[0m\u001b[0m\n\u001b[1;32m----> 2\u001b[1;33m         \u001b[0mf\u001b[0m\u001b[1;33m.\u001b[0m\u001b[0mwrite\u001b[0m\u001b[1;33m(\u001b[0m\u001b[1;34m'Hola'\u001b[0m\u001b[1;33m)\u001b[0m\u001b[1;33m\u001b[0m\u001b[0m\n\u001b[0m",
      "\u001b[1;31mTypeError\u001b[0m: a bytes-like object is required, not 'str'"
     ]
    }
   ],
   "source": [
    "with open_file('test.txt') as f:\n",
    "        f.write('Hola')"
   ]
  },
  {
   "cell_type": "markdown",
   "metadata": {},
   "source": [
    "# list comprehension (리스트 컴프리헨션)\n",
    "시퀀스의 요소들 전부 또는 일부를 처리하고 그 결과를 리스트로 돌려주는 간결한 방법. result = ['{:#04x}'.format(x) for x in range(256) if x % 2 == 0] 는 0에서 255 사이에 있는 짝수들의 16진수 (0x..) 들을 포함하는 문자열의 리스트를 만듭니다. if 절은 생략할 수 있습니다. 생략하면, range(256) 에 있는 모든 요소가 처리됩니다."
   ]
  },
  {
   "cell_type": "markdown",
   "metadata": {},
   "source": [
    "---"
   ]
  },
  {
   "cell_type": "markdown",
   "metadata": {},
   "source": [
    "# virtual environment (가상 환경)\n",
    "파이썬 사용자와 응용 프로그램이, 같은 시스템에서 실행되는 다른 파이썬 응용 프로그램들의 동작에 영향을 주지 않으면서, 파이썬 배포 패키지들을 설치하거나 업그레이드하는 것을 가능하게 하는, 협력적으로 격리된 실행 환경.\n",
    "\n",
    "venv 도 보세요."
   ]
  },
  {
   "cell_type": "markdown",
   "metadata": {},
   "source": [
    "---"
   ]
  },
  {
   "cell_type": "markdown",
   "metadata": {},
   "source": [
    "# text file (텍스트 파일)\n",
    "str 객체를 읽고 쓸 수 있는 파일 객체. 종종, 텍스트 파일은 실제로는 바이트 지향 데이터스트림을 액세스하고 텍스트 인코딩 을 자동 처리합니다. 텍스트 파일의 예로는 텍스트 모드 ('r' 또는 'w') 로 열린 파일, sys.stdin, sys.stdout, io.StringIO 의 인스턴스를 들 수 있습니다.\n",
    "\n",
    "바이트열류 객체 를 읽고 쓸 수 있는 파일 객체에 대해서는 바이너리 파일 도 참조하세요."
   ]
  },
  {
   "cell_type": "markdown",
   "metadata": {},
   "source": [
    "# text encoding (텍스트 인코딩)\n",
    "유니코드 문자열을 바이트열로 인코딩하는 코덱."
   ]
  },
  {
   "cell_type": "markdown",
   "metadata": {},
   "source": [
    "# binary file (바이너리 파일)\n",
    "바이트열류 객체들 을 읽고 쓸 수 있는 파일 객체. 바이너리 파일의 예로는 바이너리 모드 ('rb', 'wb' 또는 'rb+') 로 열린 파일, sys.stdin.buffer, sys.stdout.buffer, io.BytesIO 와 gzip.GzipFile 의 인스턴스를 들 수 있습니다.\n",
    "\n",
    "str 객체를 읽고 쓸 수 있는 파일 객체에 대해서는 텍스트 파일 도 참조하세요."
   ]
  },
  {
   "cell_type": "markdown",
   "metadata": {},
   "source": [
    "# bytecode (바이트 코드)\n",
    "파이썬 소스 코드는 바이트 코드로 컴파일되는데, CPython 인터프리터에서 파이썬 프로그램의 내부 표현입니다. 바이트 코드는 .pyc 파일에 캐시 되어, 같은 파일을 두 번째 실행할 때 더 빨라지게 만듭니다 (소스에서 바이트 코드로의 재컴파일을 피할 수 있습니다). 이 \"중간 언어\" 는 각 바이트 코드에 대응하는 기계를 실행하는 가상 기계 에서 실행된다고 말합니다. 바이트 코드는 서로 다른 파이썬 가상 기계에서 작동할 것으로 기대하지도, 파이썬 배포 간에 안정적이지도 않다는 것에 주의해야 합니다.\n",
    "\n",
    "바이트 코드 명령어들의 목록은 dis 모듈 설명서에 나옵니다."
   ]
  },
  {
   "cell_type": "markdown",
   "metadata": {},
   "source": [
    "# bytes-like object (바이트열류 객체)\n",
    "Buffer Protocol 를 지원하고 C-연속 버퍼를 익스포트 할 수 있습니다. 여러 공통 memoryview 객체들은 물론이고 bytes, bytearray, array.array 객체들을 포함합니다. 바이트열류 객체들은 바이너리 데이터를 다루는 여러 가지 연산들에 사용될 수 있습니다; 압축, 바이너리 파일로 저장, 소켓을 통한 전송 같은 것들이 있습니다.\n",
    "\n",
    "어떤 연산들은 바이너리 데이터가 가변적일 필요가 있습니다. 이런 경우에 설명서는 종종 \"읽고-쓰기 바이트열류 객체\"라고 표현합니다. 가변 버퍼 객체의 예로는 bytearray 와 bytearray 의 memoryview 가 있습니다. 다른 연산들은 바이너리 데이터가 불변 객체 (\"읽기 전용 바이트열류 객체\")에 저장되도록 요구합니다; 이런 것들의 예로는 bytes 와 bytes 객체의 memoryview 가 있습니다."
   ]
  },
  {
   "cell_type": "markdown",
   "metadata": {},
   "source": [
    "# contiguous (연속)\n",
    "버퍼는 정확히 C-연속 (C-contiguous) 이거나 포트란 연속 (Fortran contiguous) 일 때 연속이라고 여겨집니다. 영차원 버퍼는 C-연속이면서 포트란 연속입니다. 일차원 배열에서, 항목들은 서로에 인접하고, 0에서 시작하는 오름차순 인덱스의 순서대로 메모리에 배치되어야 합니다. 다차원 C-연속 배열에서, 메모리 주소의 순서대로 항목들을 방문할 때 마지막 인덱스가 가장 빨리 변합니다. 하지만, 포트란 연속 배열에서는, 첫 번째 인덱스가 가장 빨리 변합니다."
   ]
  },
  {
   "cell_type": "markdown",
   "metadata": {},
   "source": [
    "---"
   ]
  },
  {
   "cell_type": "code",
   "execution_count": null,
   "metadata": {},
   "outputs": [],
   "source": [
    "1. finder (파인더)"
   ]
  },
  {
   "cell_type": "code",
   "execution_count": null,
   "metadata": {},
   "outputs": [],
   "source": []
  },
  {
   "cell_type": "markdown",
   "metadata": {},
   "source": [
    "---"
   ]
  },
  {
   "cell_type": "markdown",
   "metadata": {},
   "source": [
    "# interpreter shutdown (인터프리터 종료)\n",
    "종료하라는 요청을 받을 때, 파이썬 인터프리터는 특별한 시기에 진입하는데, 모듈이나 여러 가지 중요한 내부 구조들과 같은 모든 할당된 자원들을 단계적으로 반납합니다. 또한, 가비지 수거기 를 여러 번 호출합니다. 사용자 정의 파괴자나 weakref 콜백에 있는 코드들의 실행을 시작시킬 수 있습니다. 종료 시기 동안 실행되는 코드는 다양한 예외들을 만날 수 있는데, 그것이 의존하는 자원들이 더 기능하지 않을 수 있기 때문입니다 (흔한 예는 라이브러리 모듈이나 경고 장치들입니다).\n",
    "\n",
    "인터프리터 종료의 주된 원인은 실행되는 __main__ 모듈이나 스크립트가 실행을 끝내는 것입니다."
   ]
  },
  {
   "cell_type": "code",
   "execution_count": null,
   "metadata": {},
   "outputs": [],
   "source": []
  }
 ],
 "metadata": {
  "kernelspec": {
   "display_name": "Python 3",
   "language": "python",
   "name": "python3"
  },
  "language_info": {
   "codemirror_mode": {
    "name": "ipython",
    "version": 3
   },
   "file_extension": ".py",
   "mimetype": "text/x-python",
   "name": "python",
   "nbconvert_exporter": "python",
   "pygments_lexer": "ipython3",
   "version": "3.6.4"
  }
 },
 "nbformat": 4,
 "nbformat_minor": 2
}
