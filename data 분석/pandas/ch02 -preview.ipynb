{
 "cells": [
  {
   "cell_type": "markdown",
   "metadata": {},
   "source": [
    "# summary\n",
    "- DataFrame \n",
    " - Series (many uese) \n",
    " - DataFrame \n",
    "\n",
    "\n",
    "- Series is only one column get <br/>\n",
    "\n",
    "\n",
    "- For search <br/>\n",
    " - dict \n",
    " - attribute \n",
    "\n",
    "\n",
    "- attribute don't get two more info of column <br/>\n",
    "\n",
    "\n",
    "- df[ [ ] ] -> column get all of info<br/>\n",
    "\n",
    "\n",
    "- df.loc[0] -> the first index is row <br/>\n",
    "\n",
    "\n",
    "- df.loc[0,1] -> x <br/>\n",
    "\n",
    "\n",
    "- df.loc[[0,1]] -> ok ( why?? list !! ) <br/>\n",
    "\n",
    "\n",
    "- index 방식: python에서는 동시에 여러개를 가져오지 못하지만, pandas에서는 가능하다 <br/>\n",
    "\n",
    "\n",
    "- df.loc[1:3] 1~3 row 가져온다. 3도 포함 (slicing ok)<br/>\n",
    "\n",
    "\n",
    "- df.loc[1:3, 'title'] -> Series <br/>\n",
    "\n",
    "\n",
    "- df.loc[1:3, ['title','rating'] ] -> DataFrame<br/>\n",
    "\n",
    "\n",
    "- df.loc[1, 'rating' ] -> Series <br/>\n",
    "\n",
    "\n",
    "- df.at[1, 'title'] -> only one data get ,No the second index is numeric, speed is goot <br/>\n",
    "\n",
    "\n",
    "- df.axes -> column name<br/>\n",
    "\n",
    "\n",
    "- df.iat[1,1] -> the second index is numeric (ok)<br/>"
   ]
  }
 ],
 "metadata": {
  "kernelspec": {
   "display_name": "Python 3",
   "language": "python",
   "name": "python3"
  },
  "language_info": {
   "codemirror_mode": {
    "name": "ipython",
    "version": 3
   },
   "file_extension": ".py",
   "mimetype": "text/x-python",
   "name": "python",
   "nbconvert_exporter": "python",
   "pygments_lexer": "ipython3",
   "version": "3.6.4"
  }
 },
 "nbformat": 4,
 "nbformat_minor": 2
}
