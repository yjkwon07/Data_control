{
 "cells": [
  {
   "cell_type": "markdown",
   "metadata": {},
   "source": [
    "# Special Methods & Attributes\n",
    "Integrating(통합) new types with operators & built-in functions<br/>\n",
    "• Special methods take the place of operat or overloading in Python<br/>\n",
    "• Built-in functions also build on special methods and special attributes<br/>\n",
    "• The set of special names Python is aware of is predefined(미리 정의된) <br/>\n",
    "• Context managers allow new classes to take advantage of with statements<br/>"
   ]
  },
  {
   "cell_type": "markdown",
   "metadata": {},
   "source": [
    "# Operator overloading\n",
    "■ It is not possible to overload operators in Python directly<br/>\n",
    "■ There is no syntax for this <br/>\n",
    "■ But classes can support operators and global built-ins using special methods<br/>\n",
    "■ They have reserved names, meanings and predefined relationships, and some cannot be redefined, e.g., is and id<br/>\n",
    "■ Often referred to as magic methods<br/>"
   ]
  },
  {
   "cell_type": "markdown",
   "metadata": {},
   "source": [
    "# Comparisons\n",
    "<img src =\"14.jpg\"/>"
   ]
  },
  {
   "cell_type": "markdown",
   "metadata": {},
   "source": [
    "These methods return NotImplemented if not provided for a class, but whether TypeError is raised when an operator form is used depends, in whether a reversed comparison is also defined, e.g., if _ _It__ is defied but _ _gt__ is not, a > b will be executed as b < a"
   ]
  },
  {
   "cell_type": "markdown",
   "metadata": {},
   "source": [
    "# Arithmetic operations\n",
    "<img src =\"15.jpg\"/>"
   ]
  },
  {
   "cell_type": "markdown",
   "metadata": {},
   "source": [
    "# Augmented assignment\n",
    "<img src = \"16.jpg\"/>"
   ]
  },
  {
   "cell_type": "markdown",
   "metadata": {},
   "source": [
    "Note that if these special methods are not defined, but the corresponding(~해당하는) binary operations are, these assignment(할당) forms are still valid, e.g., if _ _add__ is defined, then ihs += rhs becomes ihs._ _add__(rhs)"
   ]
  },
  {
   "cell_type": "markdown",
   "metadata": {},
   "source": [
    "# Conversions & representation\n",
    "<img src=\"17.jpg\"/>"
   ]
  },
  {
   "cell_type": "markdown",
   "metadata": {},
   "source": [
    "# Containers & iteration\n",
    "<img src =\"18.jpg\"/>"
   ]
  },
  {
   "cell_type": "markdown",
   "metadata": {},
   "source": [
    "if  _ _contains__ not defined, in uses linear search based(기준) on _ _iter__ or indexing from 0 of _ _getitem__"
   ]
  },
  {
   "cell_type": "markdown",
   "metadata": {},
   "source": [
    "Most commonly(일반적으로) invoked(호출) indirectly(간접적으로) in the context of a for loop"
   ]
  },
  {
   "cell_type": "markdown",
   "metadata": {},
   "source": [
    "# Interception & lifecycle\n",
    "<img src = \"19.jpg\"/>"
   ]
  },
  {
   "cell_type": "markdown",
   "metadata": {},
   "source": [
    "# with & context managers\n",
    "■ The with statement provides exception safety for paired actions<br/>\n",
    "○ I.e., where an initial acquire/open/lock action must be paired with a final release/close/unlock action, regardless of exceptions<br/>\n",
    "■ A context manager is an object that can be used in this way in a with<br/>\n",
    "■ It is defined by a simple protocol<br/>\n"
   ]
  },
  {
   "cell_type": "markdown",
   "metadata": {},
   "source": [
    "# Context manager anatomy\n",
    "<img src=\"20.jpg\"/>"
   ]
  },
  {
   "cell_type": "markdown",
   "metadata": {},
   "source": [
    "# Experiment\n",
    "<img src=\"21.jpg\"/>"
   ]
  },
  {
   "cell_type": "markdown",
   "metadata": {},
   "source": [
    "# Special attributes \n",
    "■ A number of special attributes can also be defined, including... <br/>\n",
    "○ _ _doc__ is the documentation string and is used by the built-in help function<br/>\n",
    "○ _ _name__ is used to hold the name for functions and classes<br/>\n",
    "○ _ _dict__ refers to the dictionary of values held by any object<br/>\n",
    "○ _ _module__ names the defining module<br/>"
   ]
  },
  {
   "cell_type": "code",
   "execution_count": null,
   "metadata": {},
   "outputs": [],
   "source": []
  }
 ],
 "metadata": {
  "kernelspec": {
   "display_name": "Python 3",
   "language": "python",
   "name": "python3"
  },
  "language_info": {
   "codemirror_mode": {
    "name": "ipython",
    "version": 3
   },
   "file_extension": ".py",
   "mimetype": "text/x-python",
   "name": "python",
   "nbconvert_exporter": "python",
   "pygments_lexer": "ipython3",
   "version": "3.6.4"
  }
 },
 "nbformat": 4,
 "nbformat_minor": 2
}
