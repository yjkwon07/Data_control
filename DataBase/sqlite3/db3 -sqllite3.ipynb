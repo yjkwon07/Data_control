{
 "cells": [
  {
   "cell_type": "markdown",
   "metadata": {},
   "source": [
    "파이썬은 추상화가 잘 되어있어 \n",
    "connect한 클래스가 리턴값으로 cur를 가져오기 때문에 \n",
    "cursor를 선언 하지 않기 때문에 , cursor를 생략하는경우도 있지만 \n",
    "꼭 쓰길 바란다 파이썬만 쓰지 않기 때문에 \n"
   ]
  },
  {
   "cell_type": "code",
   "execution_count": 1,
   "metadata": {},
   "outputs": [],
   "source": [
    "import sqlite3\n",
    "\n",
    "con = sqlite3.connect(':memory:')\n",
    "cur = con.cursor()"
   ]
  },
  {
   "cell_type": "code",
   "execution_count": 3,
   "metadata": {},
   "outputs": [
    {
     "data": {
      "text/plain": [
       "<sqlite3.Cursor at 0x2d27ca225e0>"
      ]
     },
     "execution_count": 3,
     "metadata": {},
     "output_type": "execute_result"
    }
   ],
   "source": [
    "con.executescript(\n",
    "    \"\"\"   \n",
    "        drop table artist;\n",
    "        drop table genre;\n",
    "        drop table album;\n",
    "        drop table track;\n",
    "\n",
    "        \n",
    "        create table artist( \n",
    "                id INTEGER not null primary key autoincrement,\n",
    "                name text);\n",
    "\n",
    "        create table genre (\n",
    "                Id INTEGER not null primary key  autoincrement, \n",
    "                name TEXT );\n",
    "\n",
    "        create table album(\n",
    "                id INTEGER primary key  autoincrement,\n",
    "                title text, \n",
    "                artist_id int \n",
    "                );\n",
    "        create table track(\n",
    "            id INTEGER primary key  autoincrement,\n",
    "            title text, \n",
    "            length INTEGER,\n",
    "            count INTEGER,\n",
    "            rating INTEGER,\n",
    "            album_id INTEGER, \n",
    "            genre_id INTEGER \n",
    "        );\n",
    "\n",
    "        insert into artist (id, name) values(1, 'Led zepplin');\n",
    "        insert into artist (id, name) values(2, 'AC/DC');\n",
    "\n",
    "        insert into genre (id, name) values(1, 'Rock');\n",
    "        insert into genre (id, name) values(2, 'Metal');\n",
    "\n",
    "    \n",
    "    \"\"\"\n",
    ")\n"
   ]
  },
  {
   "cell_type": "code",
   "execution_count": 4,
   "metadata": {},
   "outputs": [
    {
     "data": {
      "text/plain": [
       "<sqlite3.Cursor at 0x2d27bbf15e0>"
      ]
     },
     "execution_count": 4,
     "metadata": {},
     "output_type": "execute_result"
    }
   ],
   "source": [
    "cur.execute('select * from artist')"
   ]
  },
  {
   "cell_type": "code",
   "execution_count": 5,
   "metadata": {},
   "outputs": [
    {
     "data": {
      "text/plain": [
       "list"
      ]
     },
     "execution_count": 5,
     "metadata": {},
     "output_type": "execute_result"
    }
   ],
   "source": [
    "artist = cur.fetchall()\n",
    "type(artist)"
   ]
  },
  {
   "cell_type": "code",
   "execution_count": 9,
   "metadata": {},
   "outputs": [
    {
     "name": "stdout",
     "output_type": "stream",
     "text": [
      "1\n",
      "2\n"
     ]
    }
   ],
   "source": [
    "for id_ in artist:\n",
    "    cur.execute(\"insert into album (title, artist_id) values('IV', :id_)\", {\"id_\":id_[0]})\n",
    "    print(id_[0])"
   ]
  },
  {
   "cell_type": "code",
   "execution_count": 10,
   "metadata": {},
   "outputs": [
    {
     "data": {
      "text/plain": [
       "<sqlite3.Cursor at 0x2d27ca7d110>"
      ]
     },
     "execution_count": 10,
     "metadata": {},
     "output_type": "execute_result"
    }
   ],
   "source": [
    "con.executescript(\n",
    "    \"\"\"   \n",
    "\n",
    "        insert into album (title, artist_id) values('IV', 1);\n",
    "        insert into album (title, artist_id) values('who Made who', 2);\n",
    "\n",
    "        insert into track (title, album_id, genre_id) values('Black Dog',1, 1);\n",
    "        insert into track (title, album_id, genre_id) values('Stairway', 1, 2);\n",
    "        insert into track (title, album_id, genre_id) values('About to Rock', 2, 1);\n",
    "        insert into track (title, album_id, genre_id) values('who Made who', 2, 2);\n",
    "\n",
    "    \n",
    "    \"\"\"\n",
    ")\n"
   ]
  },
  {
   "cell_type": "code",
   "execution_count": 11,
   "metadata": {},
   "outputs": [
    {
     "data": {
      "text/plain": [
       "<sqlite3.Cursor at 0x2d27bbf15e0>"
      ]
     },
     "execution_count": 11,
     "metadata": {},
     "output_type": "execute_result"
    }
   ],
   "source": [
    "cur.execute(\"SELECT * FROM album\")"
   ]
  },
  {
   "cell_type": "code",
   "execution_count": 12,
   "metadata": {},
   "outputs": [
    {
     "name": "stdout",
     "output_type": "stream",
     "text": [
      "[(1, 'IV', 1), (2, 'IV', 1), (3, 'IV', 2), (4, 'IV', 1), (5, 'who Made who', 2)]\n"
     ]
    }
   ],
   "source": [
    "print(cur.fetchall())"
   ]
  },
  {
   "cell_type": "code",
   "execution_count": 13,
   "metadata": {},
   "outputs": [
    {
     "data": {
      "text/plain": [
       "<sqlite3.Cursor at 0x2d27bbf15e0>"
      ]
     },
     "execution_count": 13,
     "metadata": {},
     "output_type": "execute_result"
    }
   ],
   "source": [
    "cur.execute(\"SELECT * FROM track\")"
   ]
  },
  {
   "cell_type": "code",
   "execution_count": 14,
   "metadata": {},
   "outputs": [
    {
     "name": "stdout",
     "output_type": "stream",
     "text": [
      "[(1, 'Black Dog', None, None, None, 1, 1), (2, 'Stairway', None, None, None, 1, 2), (3, 'About to Rock', None, None, None, 2, 1), (4, 'who Made who', None, None, None, 2, 2)]\n"
     ]
    }
   ],
   "source": [
    "print(cur.fetchall())"
   ]
  },
  {
   "cell_type": "code",
   "execution_count": 15,
   "metadata": {},
   "outputs": [
    {
     "data": {
      "text/plain": [
       "<sqlite3.Cursor at 0x2d27bbf15e0>"
      ]
     },
     "execution_count": 15,
     "metadata": {},
     "output_type": "execute_result"
    }
   ],
   "source": [
    "cur.execute(\"select * from artist, album\") # 데이터 쌍을 가능한 최대한 나타낸다 ..."
   ]
  },
  {
   "cell_type": "code",
   "execution_count": 16,
   "metadata": {},
   "outputs": [
    {
     "name": "stdout",
     "output_type": "stream",
     "text": [
      "(1, 'Led zepplin', 1, 'IV', 1)\n",
      "(1, 'Led zepplin', 2, 'IV', 1)\n",
      "(1, 'Led zepplin', 3, 'IV', 2)\n",
      "(1, 'Led zepplin', 4, 'IV', 1)\n",
      "(1, 'Led zepplin', 5, 'who Made who', 2)\n",
      "(2, 'AC/DC', 1, 'IV', 1)\n",
      "(2, 'AC/DC', 2, 'IV', 1)\n",
      "(2, 'AC/DC', 3, 'IV', 2)\n",
      "(2, 'AC/DC', 4, 'IV', 1)\n",
      "(2, 'AC/DC', 5, 'who Made who', 2)\n"
     ]
    }
   ],
   "source": [
    "for row in cur.fetchall():\n",
    "    print(row)"
   ]
  },
  {
   "cell_type": "code",
   "execution_count": 17,
   "metadata": {},
   "outputs": [
    {
     "data": {
      "text/plain": [
       "<sqlite3.Cursor at 0x2d27bbf15e0>"
      ]
     },
     "execution_count": 17,
     "metadata": {},
     "output_type": "execute_result"
    }
   ],
   "source": [
    "cur.execute(\"select * from artist cross join  album \") "
   ]
  },
  {
   "cell_type": "code",
   "execution_count": 18,
   "metadata": {},
   "outputs": [
    {
     "name": "stdout",
     "output_type": "stream",
     "text": [
      "(1, 'Led zepplin', 1, 'IV', 1)\n",
      "(1, 'Led zepplin', 2, 'IV', 1)\n",
      "(1, 'Led zepplin', 3, 'IV', 2)\n",
      "(1, 'Led zepplin', 4, 'IV', 1)\n",
      "(1, 'Led zepplin', 5, 'who Made who', 2)\n",
      "(2, 'AC/DC', 1, 'IV', 1)\n",
      "(2, 'AC/DC', 2, 'IV', 1)\n",
      "(2, 'AC/DC', 3, 'IV', 2)\n",
      "(2, 'AC/DC', 4, 'IV', 1)\n",
      "(2, 'AC/DC', 5, 'who Made who', 2)\n"
     ]
    }
   ],
   "source": [
    "for row in cur.fetchall():\n",
    "    print(row)"
   ]
  },
  {
   "cell_type": "code",
   "execution_count": 19,
   "metadata": {},
   "outputs": [
    {
     "data": {
      "text/plain": [
       "<sqlite3.Cursor at 0x2d27bbf15e0>"
      ]
     },
     "execution_count": 19,
     "metadata": {},
     "output_type": "execute_result"
    }
   ],
   "source": [
    "cur.execute(\"select * from artist join album on artist.id = album.artist_id\") "
   ]
  },
  {
   "cell_type": "code",
   "execution_count": 20,
   "metadata": {},
   "outputs": [
    {
     "name": "stdout",
     "output_type": "stream",
     "text": [
      "(1, 'Led zepplin', 1, 'IV', 1)\n",
      "(1, 'Led zepplin', 2, 'IV', 1)\n",
      "(2, 'AC/DC', 3, 'IV', 2)\n",
      "(1, 'Led zepplin', 4, 'IV', 1)\n",
      "(2, 'AC/DC', 5, 'who Made who', 2)\n"
     ]
    }
   ],
   "source": [
    "for row in cur.fetchall():\n",
    "    print(row)"
   ]
  },
  {
   "cell_type": "code",
   "execution_count": 21,
   "metadata": {},
   "outputs": [
    {
     "data": {
      "text/plain": [
       "<sqlite3.Cursor at 0x2d27bbf15e0>"
      ]
     },
     "execution_count": 21,
     "metadata": {},
     "output_type": "execute_result"
    }
   ],
   "source": [
    "cur.execute(\"select artist.name, album.title from artist join album on artist.id = album.artist_id\") "
   ]
  },
  {
   "cell_type": "code",
   "execution_count": 22,
   "metadata": {},
   "outputs": [
    {
     "name": "stdout",
     "output_type": "stream",
     "text": [
      "('Led zepplin', 'IV')\n",
      "('Led zepplin', 'IV')\n",
      "('AC/DC', 'IV')\n",
      "('Led zepplin', 'IV')\n",
      "('AC/DC', 'who Made who')\n"
     ]
    }
   ],
   "source": [
    "for row in cur.fetchall():\n",
    "    print(row)"
   ]
  },
  {
   "cell_type": "code",
   "execution_count": 23,
   "metadata": {},
   "outputs": [
    {
     "data": {
      "text/plain": [
       "<sqlite3.Cursor at 0x2d27bbf15e0>"
      ]
     },
     "execution_count": 23,
     "metadata": {},
     "output_type": "execute_result"
    }
   ],
   "source": [
    "cur.execute(\"select a.name, album.title from artist as a join album on a.id = album.artist_id\") "
   ]
  },
  {
   "cell_type": "code",
   "execution_count": 24,
   "metadata": {},
   "outputs": [
    {
     "name": "stdout",
     "output_type": "stream",
     "text": [
      "('Led zepplin', 'IV')\n",
      "('Led zepplin', 'IV')\n",
      "('AC/DC', 'IV')\n",
      "('Led zepplin', 'IV')\n",
      "('AC/DC', 'who Made who')\n"
     ]
    }
   ],
   "source": [
    "for row in cur.fetchall():\n",
    "    print(row)"
   ]
  },
  {
   "cell_type": "code",
   "execution_count": 70,
   "metadata": {},
   "outputs": [
    {
     "data": {
      "text/plain": [
       "<sqlite3.Cursor at 0x2d27bbf15e0>"
      ]
     },
     "execution_count": 70,
     "metadata": {},
     "output_type": "execute_result"
    }
   ],
   "source": [
    "cur.execute(\"select id , title, length, count, rating, album_id, genre_id from track\")"
   ]
  },
  {
   "cell_type": "code",
   "execution_count": 71,
   "metadata": {},
   "outputs": [
    {
     "name": "stdout",
     "output_type": "stream",
     "text": [
      "id , title, length, count, rating, album_id, genre_id\n",
      "(1, 'Black Dog', None, None, None, 1, 1)\n",
      "(2, 'Stairway', None, None, None, 1, 2)\n",
      "(3, 'About to Rock', None, None, None, 2, 1)\n",
      "(4, 'who Made who', None, None, None, 2, 2)\n"
     ]
    }
   ],
   "source": [
    "print(\"id , title, length, count, rating, album_id, genre_id\")\n",
    "for row in cur.fetchall():\n",
    "    print(row)"
   ]
  },
  {
   "cell_type": "code",
   "execution_count": 69,
   "metadata": {},
   "outputs": [
    {
     "data": {
      "text/plain": [
       "<sqlite3.Cursor at 0x2d27bbf15e0>"
      ]
     },
     "execution_count": 69,
     "metadata": {},
     "output_type": "execute_result"
    }
   ],
   "source": [
    "cur.execute(\"select id, title, artist_id from album\")"
   ]
  },
  {
   "cell_type": "code",
   "execution_count": 65,
   "metadata": {},
   "outputs": [
    {
     "name": "stdout",
     "output_type": "stream",
     "text": [
      "id, title, artist_id \n",
      "(1, 'IV', 1)\n",
      "(2, 'IV', 1)\n",
      "(3, 'IV', 2)\n",
      "(4, 'IV', 1)\n",
      "(5, 'who Made who', 2)\n"
     ]
    }
   ],
   "source": [
    "print(\"id, title, artist_id \")\n",
    "for row in cur.fetchall():\n",
    "    print(row)"
   ]
  },
  {
   "cell_type": "code",
   "execution_count": 47,
   "metadata": {},
   "outputs": [
    {
     "data": {
      "text/plain": [
       "<sqlite3.Cursor at 0x2d27bbf15e0>"
      ]
     },
     "execution_count": 47,
     "metadata": {},
     "output_type": "execute_result"
    }
   ],
   "source": [
    "cur.execute(\"select * from album join track on album.id = track.album_id\")  # inner join"
   ]
  },
  {
   "cell_type": "code",
   "execution_count": 48,
   "metadata": {},
   "outputs": [
    {
     "name": "stdout",
     "output_type": "stream",
     "text": [
      "(1, 'IV', 1, 1, 'Black Dog', None, None, None, 1, 1)\n",
      "(1, 'IV', 1, 2, 'Stairway', None, None, None, 1, 2)\n",
      "(2, 'IV', 1, 3, 'About to Rock', None, None, None, 2, 1)\n",
      "(2, 'IV', 1, 4, 'who Made who', None, None, None, 2, 2)\n"
     ]
    }
   ],
   "source": [
    "for row in cur.fetchall():\n",
    "    print(row)"
   ]
  },
  {
   "cell_type": "code",
   "execution_count": 51,
   "metadata": {},
   "outputs": [
    {
     "data": {
      "text/plain": [
       "<sqlite3.Cursor at 0x2d27bbf15e0>"
      ]
     },
     "execution_count": 51,
     "metadata": {},
     "output_type": "execute_result"
    }
   ],
   "source": [
    "cur.execute(\"select * from track join album join genre join artist on track.album_id = album.id and \\\n",
    "            track.genre_id = genre.id and \\\n",
    "            album.artist_id = artist.id\")  # inner join"
   ]
  },
  {
   "cell_type": "code",
   "execution_count": 52,
   "metadata": {},
   "outputs": [
    {
     "name": "stdout",
     "output_type": "stream",
     "text": [
      "(1, 'Black Dog', None, None, None, 1, 1, 1, 'IV', 1, 1, 'Rock', 1, 'Led zepplin')\n",
      "(2, 'Stairway', None, None, None, 1, 2, 1, 'IV', 1, 2, 'Metal', 1, 'Led zepplin')\n",
      "(3, 'About to Rock', None, None, None, 2, 1, 2, 'IV', 1, 1, 'Rock', 1, 'Led zepplin')\n",
      "(4, 'who Made who', None, None, None, 2, 2, 2, 'IV', 1, 2, 'Metal', 1, 'Led zepplin')\n"
     ]
    }
   ],
   "source": [
    "for row in cur.fetchall():\n",
    "    print(row)"
   ]
  },
  {
   "cell_type": "code",
   "execution_count": 74,
   "metadata": {},
   "outputs": [
    {
     "data": {
      "text/plain": [
       "<sqlite3.Cursor at 0x2d27bbf15e0>"
      ]
     },
     "execution_count": 74,
     "metadata": {},
     "output_type": "execute_result"
    }
   ],
   "source": [
    "cur.execute(\"select track.title, album.title, genre.name, artist.name from track join album join genre join artist on \\\n",
    "            track.album_id = album.id and \\\n",
    "            track.genre_id = genre.id and \\\n",
    "            album.artist_id = artist.id\")  # inner join"
   ]
  },
  {
   "cell_type": "code",
   "execution_count": 75,
   "metadata": {},
   "outputs": [
    {
     "name": "stdout",
     "output_type": "stream",
     "text": [
      "track.title, album.title, genre.name, artist.name\n",
      "('Black Dog', 'IV', 'Rock', 'Led zepplin')\n",
      "('Stairway', 'IV', 'Metal', 'Led zepplin')\n",
      "('About to Rock', 'IV', 'Rock', 'Led zepplin')\n",
      "('who Made who', 'IV', 'Metal', 'Led zepplin')\n"
     ]
    }
   ],
   "source": [
    "print(\"track.title, album.title, genre.name, artist.name\")\n",
    "for row in cur.fetchall():\n",
    "    print(row)"
   ]
  },
  {
   "cell_type": "code",
   "execution_count": 76,
   "metadata": {},
   "outputs": [],
   "source": [
    "# dump\n",
    "with open('test.dump', 'w') as f:\n",
    "    for line in con.iterdump():\n",
    "        f.write(\"%s\\n\" % line)"
   ]
  }
 ],
 "metadata": {
  "kernelspec": {
   "display_name": "Python 3",
   "language": "python",
   "name": "python3"
  },
  "language_info": {
   "codemirror_mode": {
    "name": "ipython",
    "version": 3
   },
   "file_extension": ".py",
   "mimetype": "text/x-python",
   "name": "python",
   "nbconvert_exporter": "python",
   "pygments_lexer": "ipython3",
   "version": "3.6.4"
  }
 },
 "nbformat": 4,
 "nbformat_minor": 2
}
