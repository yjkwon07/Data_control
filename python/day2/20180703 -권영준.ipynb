{
 "cells": [
  {
   "cell_type": "markdown",
   "metadata": {},
   "source": [
    "# Exercise 105: Reverse order \n",
    " Write a program that reads integers from the user and stores them in a list. <br>\n",
    " Use 0 as a setninel value to mark the end of the input.<br> Once all of the vlaues have been read your program should display them\n",
    " (except fot the 0) in reverse order. with one value appearing in each line.\n",
    " "
   ]
  },
  {
   "cell_type": "code",
   "execution_count": 6,
   "metadata": {},
   "outputs": [
    {
     "name": "stdout",
     "output_type": "stream",
     "text": [
      "input : 3\n",
      "input : 3\n",
      "input : 4\n",
      "input : 5\n",
      "input : 6\n",
      "input : 0\n"
     ]
    },
    {
     "data": {
      "text/plain": [
       "[6, 5, 4, 3, 3]"
      ]
     },
     "execution_count": 6,
     "metadata": {},
     "output_type": "execute_result"
    }
   ],
   "source": [
    "#1.\n",
    "t =[]\n",
    "flag = True\n",
    "while flag:\n",
    "    a = input('input : ')\n",
    "    if int(a) == 0:\n",
    "        flag = not flag;\n",
    "    else:    \n",
    "        t.append(int(a))\n",
    "t[::-1]"
   ]
  },
  {
   "cell_type": "code",
   "execution_count": null,
   "metadata": {
    "scrolled": true
   },
   "outputs": [],
   "source": [
    "#1. sol\n",
    "while True:\n",
    "    num = input()\n",
    "    \n",
    "    if num is 0: # input으로 받는건 문자 여기서 0은 숫자이기 때문에 typecasting을 해줘야 한다. \n",
    "        print(\"True\")"
   ]
  },
  {
   "cell_type": "code",
   "execution_count": 8,
   "metadata": {
    "scrolled": true
   },
   "outputs": [
    {
     "data": {
      "text/plain": [
       "[10, 9, 8, 7, 6, 5, 4, 3, 2, 1]"
      ]
     },
     "execution_count": 8,
     "metadata": {},
     "output_type": "execute_result"
    }
   ],
   "source": [
    "list(range(10,0,-1))"
   ]
  },
  {
   "cell_type": "code",
   "execution_count": 8,
   "metadata": {},
   "outputs": [
    {
     "data": {
      "text/plain": [
       "[10, 9, 8, 7, 6, 5, 4, 3, 2, 1]"
      ]
     },
     "execution_count": 8,
     "metadata": {},
     "output_type": "execute_result"
    }
   ],
   "source": [
    "list(range(10,0,-1))"
   ]
  },
  {
   "cell_type": "code",
   "execution_count": 15,
   "metadata": {},
   "outputs": [
    {
     "name": "stdout",
     "output_type": "stream",
     "text": [
      "6\n",
      "5\n",
      "4\n",
      "3\n",
      "2\n",
      "1\n",
      "0\n",
      "1 2 3 4 5 6 "
     ]
    }
   ],
   "source": [
    "#1. \n",
    "# 1-1. sol 인덱스로 추출\n",
    "# 1-2. sol reverse()\n",
    "\n",
    "num_list = []\n",
    "\n",
    "while True:\n",
    "    try: # 문자 받을시 에러가 나기 때문에 \n",
    "        num = int(input())\n",
    "    except:\n",
    "        \n",
    "    if num is 0: \n",
    "        break\n",
    "    else:\n",
    "        num_list.append(num)\n",
    "        \n",
    "#for i in range(len(num_list)-1,-1,-1):\n",
    "#    print(num_list[i], end=\" \")\n",
    "\n",
    "num_list.reverse()\n",
    "num_list\n",
    "for i in range(len(num_list)):\n",
    "    print(num_list[i])"
   ]
  },
  {
   "cell_type": "markdown",
   "metadata": {},
   "source": [
    "## Exercise107:AvoidingDuplicates\n",
    "In this exercise, you will create a program that reads words from the user until the user enters a blank line.<br>\n",
    "After the user enters a blank line your program should display each word entered by the user exactly once. <br>\n",
    "The words should be displayed in the same order that they were entered. For example, if the user enters:<br>\n",
    "first <br>\n",
    "second <br>\n",
    "first <br>\n",
    "third <br>\n",
    "second<br>\n",
    "\n",
    "then your program should display:<br>\n",
    "first<br>\n",
    "second <br>\n",
    "third<br>\n"
   ]
  },
  {
   "cell_type": "code",
   "execution_count": 32,
   "metadata": {},
   "outputs": [
    {
     "name": "stdout",
     "output_type": "stream",
     "text": [
      "input:first\n",
      "input:second\n",
      "input:first\n",
      "input:third\n",
      "input:second\n",
      "input:\n",
      "first\n",
      "second\n",
      "third\n"
     ]
    }
   ],
   "source": [
    "#2.\n",
    "\n",
    "t = set()\n",
    "d =[]\n",
    "while True:\n",
    "\n",
    "    a = input('input:')\n",
    "    if a == '':\n",
    "        break;\n",
    "    t.add(a)\n",
    "    \n",
    "for i in t:\n",
    "    d .append(i)\n",
    "d.sort()\n",
    "\n",
    "for i in d:\n",
    "    print(i)\n",
    "              "
   ]
  },
  {
   "cell_type": "code",
   "execution_count": 16,
   "metadata": {},
   "outputs": [
    {
     "data": {
      "text/plain": [
       "0"
      ]
     },
     "execution_count": 16,
     "metadata": {},
     "output_type": "execute_result"
    }
   ],
   "source": [
    "#2. sol\n",
    "a = [\"a\", \"b\", \"c\", \"d\"]\n",
    "a.index(\"a\")"
   ]
  },
  {
   "cell_type": "code",
   "execution_count": 17,
   "metadata": {},
   "outputs": [
    {
     "ename": "ValueError",
     "evalue": "'10' is not in list",
     "output_type": "error",
     "traceback": [
      "\u001b[1;31m---------------------------------------------------------------------------\u001b[0m",
      "\u001b[1;31mValueError\u001b[0m                                Traceback (most recent call last)",
      "\u001b[1;32m<ipython-input-17-607fd6c75020>\u001b[0m in \u001b[0;36m<module>\u001b[1;34m()\u001b[0m\n\u001b[1;32m----> 1\u001b[1;33m \u001b[0ma\u001b[0m\u001b[1;33m.\u001b[0m\u001b[0mindex\u001b[0m\u001b[1;33m(\u001b[0m\u001b[1;34m\"10\"\u001b[0m\u001b[1;33m)\u001b[0m\u001b[1;33m\u001b[0m\u001b[0m\n\u001b[0m",
      "\u001b[1;31mValueError\u001b[0m: '10' is not in list"
     ]
    }
   ],
   "source": [
    "a.index(\"10\")"
   ]
  },
  {
   "cell_type": "code",
   "execution_count": null,
   "metadata": {},
   "outputs": [],
   "source": [
    "#2. sol \n",
    "word_list = []\n",
    "\n",
    "while True:\n",
    "    word = input()\n",
    "    \n",
    "    if word is \"\":\n",
    "        break;\n",
    "    try:\n",
    "        word_list.index(word)\n",
    "    except:\n",
    "        word_list.append(word)\n",
    "word_list        \n",
    "\n",
    " # 무식한 방법       \n",
    "#    for i in word_list:\n",
    "#        is_exit = False\n",
    "        \n",
    "#        if word is i:\n",
    "#                is_exit = True\n",
    "#                break \n",
    "#    if is_eixt = Fasle:\n",
    "#        word_index.append()"
   ]
  },
  {
   "cell_type": "markdown",
   "metadata": {},
   "source": [
    "# Exercise 108: Negatives, Zeros and Postives\n",
    " Create a program that reads integers from the user until a blank line is entered.<br>\n",
    "Once all of the integers have been read your program should display all of the negative numbers, followed by all of the zeros,\n",
    "followd by all of the postive numbers.<br>\n",
    "Within each group the numbers should be displayed in the same order that they were entered by the user. <br>\n",
    "For example, if the user enters the values 3, -4, 1,0,-1,0, and -2 then your program should output the values -4, -1, -2, 0, 0, 3 and 1. <br>\n",
    "Your program should display each value on its own line.<br>"
   ]
  },
  {
   "cell_type": "code",
   "execution_count": 20,
   "metadata": {},
   "outputs": [
    {
     "name": "stdout",
     "output_type": "stream",
     "text": [
      "input:4\n",
      "input:5\n",
      "input:6\n",
      "input:0\n",
      "input:-1\n",
      "input:\n"
     ]
    },
    {
     "data": {
      "text/plain": [
       "[-1, 0, 4, 5, 6]"
      ]
     },
     "execution_count": 20,
     "metadata": {},
     "output_type": "execute_result"
    }
   ],
   "source": [
    "#3.\n",
    "flag = True\n",
    "t = []\n",
    "while flag:\n",
    "    a = input('input:')\n",
    "    if '' != a:\n",
    "        try:\n",
    "            t.append(int(a))\n",
    "        except:\n",
    "            print(\"only integer!!!\")\n",
    "    else:\n",
    "        flag = not flag\n",
    "\n",
    "t.sort()\n",
    "t\n"
   ]
  },
  {
   "cell_type": "code",
   "execution_count": 39,
   "metadata": {},
   "outputs": [
    {
     "name": "stdout",
     "output_type": "stream",
     "text": [
      "1\n",
      "2\n",
      "7\n",
      "0\n",
      "9\n",
      "-9\n",
      "8\n",
      "\n",
      "[-9]\n",
      "[0]\n",
      "[1, 2, 7, 9, 8]\n"
     ]
    }
   ],
   "source": [
    "#3. sol\n",
    "\n",
    "\n",
    "neg_list = []\n",
    "zero_list = []\n",
    "pos_list = []\n",
    "while True:\n",
    "    num = input()\n",
    "    \n",
    "    if num is \"\":\n",
    "        break\n",
    "        \n",
    "    try:\n",
    "        num = int(num)\n",
    "    except:\n",
    "        continue\n",
    "    \n",
    "    if num < 0:\n",
    "        neg_list.append(num)\n",
    "    elif num is 0:\n",
    "        zero_list.append(num)\n",
    "    else:\n",
    "        pos_list.append(num)\n",
    "    \n",
    "print(neg_list )\n",
    "print(zero_list)\n",
    "print(pos_list)\n",
    "# for문으로 음수 인지 아닌지 \n",
    "# for문으로 0을 팝 \n",
    "\n",
    "        \n"
   ]
  },
  {
   "cell_type": "markdown",
   "metadata": {},
   "source": [
    "# Exercise 110: perfect Numbers\n",
    "  An integer, n, is said to be perfect when the sum of all of the proper divisors of n is equal to n. <br>\n",
    "For example, 28 is a perfect number because its proper divisors are 1, 2, 4, 7 and 14, and, 1 + 2 + 4 +7 +14 =28<br>\n",
    "Write a function that determines wheather or not a positive integeris perfect.<br>\n",
    "Your function will take one parmeter. <br>\n",
    "If that parameter is a perfect number then your function will return true.Otherwise, it will return false.<br> \n",
    "In addition, write a main program that uses your function to identify and display all of the perfect numbers between 1 and 10,000.<br> \n",
    "Import your solution to Exercise 109 when completing this task.<br>"
   ]
  },
  {
   "cell_type": "code",
   "execution_count": 33,
   "metadata": {
    "scrolled": true
   },
   "outputs": [
    {
     "name": "stdout",
     "output_type": "stream",
     "text": [
      "6\n",
      "28\n",
      "496\n",
      "8128\n"
     ]
    }
   ],
   "source": [
    "#4.\n",
    "\n",
    "def perfect_func(x):\n",
    "\n",
    "    i=1\n",
    "    t=[]\n",
    "    for i in range(1, x):\n",
    "        if x %i == 0:\n",
    "            t.append(i)\n",
    "  \n",
    "    if sum(t) == x:\n",
    "        return True\n",
    "    else:\n",
    "        False\n",
    "        \n",
    "perfect_func(28)\n",
    "for i in range(1, 10_000):\n",
    "        if perfect_func(i):\n",
    "            print(i)"
   ]
  },
  {
   "cell_type": "code",
   "execution_count": 24,
   "metadata": {},
   "outputs": [
    {
     "ename": "TypeError",
     "evalue": "'float' object cannot be interpreted as an integer",
     "output_type": "error",
     "traceback": [
      "\u001b[1;31m---------------------------------------------------------------------------\u001b[0m",
      "\u001b[1;31mTypeError\u001b[0m                                 Traceback (most recent call last)",
      "\u001b[1;32m<ipython-input-24-b3610a47ee94>\u001b[0m in \u001b[0;36m<module>\u001b[1;34m()\u001b[0m\n\u001b[1;32m----> 1\u001b[1;33m \u001b[0mrange\u001b[0m\u001b[1;33m(\u001b[0m\u001b[1;36m10.5\u001b[0m\u001b[1;33m)\u001b[0m\u001b[1;33m\u001b[0m\u001b[0m\n\u001b[0m",
      "\u001b[1;31mTypeError\u001b[0m: 'float' object cannot be interpreted as an integer"
     ]
    }
   ],
   "source": [
    "range(10.5) #오직 정수 값만 가능"
   ]
  },
  {
   "cell_type": "code",
   "execution_count": 31,
   "metadata": {},
   "outputs": [],
   "source": [
    "#4. sol\n",
    "def common(num):\n",
    "    common_list = []\n",
    "    \n",
    "    for i in range(1, int(num/2)+1):# range의 첫번 째 인자가 없으면 0부터 시작 또한 끝자리는 n -1 \n",
    "        if num % i is 0:\n",
    "            common_list.append(i)\n",
    "    return common_list"
   ]
  },
  {
   "cell_type": "code",
   "execution_count": 34,
   "metadata": {},
   "outputs": [
    {
     "data": {
      "text/plain": [
       "[1, 2, 4, 8, 16, 31, 62, 124, 248]"
      ]
     },
     "execution_count": 34,
     "metadata": {},
     "output_type": "execute_result"
    }
   ],
   "source": [
    "a = common(496) \n",
    "a"
   ]
  },
  {
   "cell_type": "code",
   "execution_count": 35,
   "metadata": {},
   "outputs": [
    {
     "name": "stdout",
     "output_type": "stream",
     "text": [
      "6\n",
      "28\n",
      "496\n",
      "8128\n"
     ]
    }
   ],
   "source": [
    "for i in range(1, 10001):\n",
    "    common_i = common(i)\n",
    "    \n",
    "    sum_common = 0\n",
    "    \n",
    "    for j in common_i:\n",
    "        sum_common += j\n",
    "    \n",
    "    if sum_common == i: #why is ?? -> memory pro........\n",
    "        print(i)"
   ]
  },
  {
   "cell_type": "markdown",
   "metadata": {},
   "source": [
    "# Exercise 113: Formatting a List \n",
    "When writing out a list of items in English, one normally separates the items with commas.<Br>\n",
    "Inaddition,theword“and”is normally included before the last item,unless the list only contains one item.<br> \n",
    "\n",
    "Consider the following four lists:<br>\n",
    "apples <br>\n",
    "apples and oranges<br> \n",
    "apples,oranges and bananas<br>\n",
    "apples, oranges, bananas and lemons<br>\n",
    "    \n",
    "Write a function that takes a list of strings as its only parameter. <br>\n",
    "Your function should return a string that contains all of the items in the list formatted in the manner described previously as its only result. <br>\n",
    "While the examples shown previously only include lists containing four elements or less, your function should behave correctly for lists of any length.<br>\n",
    "Include a main program that reads several items from the user, formats them by calling your function, and then displays the result returned by the function.<br>"
   ]
  },
  {
   "cell_type": "code",
   "execution_count": 71,
   "metadata": {},
   "outputs": [
    {
     "name": "stdout",
     "output_type": "stream",
     "text": [
      "apples\n",
      "appels and orange \n",
      "apples, orange  and bananas \n",
      "apples, orange , bananas  and lemnos \n"
     ]
    }
   ],
   "source": [
    "#5.\n",
    "t =[]\n",
    "def add_list(x):\n",
    "    t= x\n",
    "    i = 0\n",
    "    while i <len(t):\n",
    "        if i == 0:\n",
    "            print(t[i],end=\"\")            \n",
    "        \n",
    "        if i >0:            \n",
    "            if i == len(t)-1:\n",
    "                print(' and',t[i],end=\" \")\n",
    "            else:\n",
    "                print(',',t[i], end=\" \")\n",
    "        i +=1\n",
    "    print()\n",
    "add_list(['apples'])\n",
    "add_list(['appels','orange'])\n",
    "add_list(['apples','orange','bananas'])\n",
    "add_list(['apples','orange','bananas','lemnos'])\n"
   ]
  },
  {
   "cell_type": "markdown",
   "metadata": {},
   "source": [
    "# Exercise114: Random Lottery Numbers\n",
    "In order to win the top prize in a particular lottery, one must match all 6 numbers on his or her ticket to the 6 numbers between 1 and 49 that are drawn by the lottery organizer.<br>\n",
    "Write a program that generates a random selection of 6 numbers for a lottery ticket.<br> \n",
    "Ensure that the 6 numbers selected do not contain any duplicates. Display the numbers in ascending order.<br>\n"
   ]
  },
  {
   "cell_type": "code",
   "execution_count": 11,
   "metadata": {},
   "outputs": [
    {
     "data": {
      "text/plain": [
       "{7, 19, 20, 31, 32, 37}"
      ]
     },
     "execution_count": 11,
     "metadata": {},
     "output_type": "execute_result"
    }
   ],
   "source": [
    "#6.\n",
    "import random\n",
    "t =set()\n",
    "flag = True\n",
    "while flag:\n",
    "    t.add(random.randrange(1, 49))\n",
    "    if len(t) == 6:\n",
    "        flag  = not flag\n",
    "        \n",
    "t"
   ]
  },
  {
   "cell_type": "code",
   "execution_count": 36,
   "metadata": {},
   "outputs": [
    {
     "data": {
      "text/plain": [
       "8"
      ]
     },
     "execution_count": 36,
     "metadata": {},
     "output_type": "execute_result"
    }
   ],
   "source": [
    "#6. so;\n",
    "import random\n",
    "rand = random.Random()\n",
    "rand.random()# 0~1 실수 \n",
    "rand.randint(1,49)"
   ]
  },
  {
   "cell_type": "code",
   "execution_count": 37,
   "metadata": {},
   "outputs": [
    {
     "data": {
      "text/plain": [
       "[2, 10, 18, 24, 25, 27]"
      ]
     },
     "execution_count": 37,
     "metadata": {},
     "output_type": "execute_result"
    }
   ],
   "source": [
    "#6. sol\n",
    "lotto_list =[]\n",
    "ball_num = 0\n",
    "\n",
    "while ball_num < 6:\n",
    "    new_ball = rand.randint(1,49)\n",
    "    \n",
    "    try:\n",
    "        lotto_list.index(new_ball)\n",
    "    except:\n",
    "        lotto_list.append(new_ball)\n",
    "        ball_num += 1\n",
    "        \n",
    "lotto_list.sort()\n",
    "lotto_list"
   ]
  },
  {
   "cell_type": "markdown",
   "metadata": {},
   "source": [
    "# Exercise134:UniqueCharacters\n",
    "Create a program that determines and displays the number of unique characters in a string entered by the user.<br>\n",
    "Forexample,Hello, World! has 10 unique characters while zzz has only one unique character.<br> \n",
    "Use a dictionary or set to solve this problem<br>"
   ]
  },
  {
   "cell_type": "code",
   "execution_count": 73,
   "metadata": {},
   "outputs": [
    {
     "name": "stdout",
     "output_type": "stream",
     "text": [
      "input:Hello, World!\n"
     ]
    },
    {
     "data": {
      "text/plain": [
       "10"
      ]
     },
     "execution_count": 73,
     "metadata": {},
     "output_type": "execute_result"
    }
   ],
   "source": [
    "#7. \n",
    "\n",
    "a = input('input:')\n",
    "b = set(a)\n",
    "\n",
    "len(b)\n",
    "\n"
   ]
  },
  {
   "cell_type": "markdown",
   "metadata": {},
   "source": [
    "# Exercise135:Anagrams\n",
    "Two words are anagrams if they contain all of the same letters, but in a different order.<br>\n",
    "Forexample,“evil”and“live”are an agrams because each contains one e,one i,one l,and one v.<br>\n",
    "Create ap rogram that reads two strings from the user,determines whether or not they are anagrams, and reports the result.<br>"
   ]
  },
  {
   "cell_type": "code",
   "execution_count": 24,
   "metadata": {},
   "outputs": [
    {
     "name": "stdout",
     "output_type": "stream",
     "text": [
      "input1:evil\n",
      "input2:live\n",
      "anagrams\n"
     ]
    }
   ],
   "source": [
    "#8.\n",
    "a = input('input1:')\n",
    "b = list(a)\n",
    "c = input('input2:')\n",
    "d = list(c)\n",
    "b.sort()\n",
    "d.sort()\n",
    "if b == d:\n",
    "    print('anagrams')\n",
    "else:\n",
    "    print('Nope')\n"
   ]
  },
  {
   "cell_type": "code",
   "execution_count": null,
   "metadata": {},
   "outputs": [],
   "source": []
  }
 ],
 "metadata": {
  "kernelspec": {
   "display_name": "Python 3",
   "language": "python",
   "name": "python3"
  },
  "language_info": {
   "codemirror_mode": {
    "name": "ipython",
    "version": 3
   },
   "file_extension": ".py",
   "mimetype": "text/x-python",
   "name": "python",
   "nbconvert_exporter": "python",
   "pygments_lexer": "ipython3",
   "version": "3.6.4"
  }
 },
 "nbformat": 4,
 "nbformat_minor": 2
}
