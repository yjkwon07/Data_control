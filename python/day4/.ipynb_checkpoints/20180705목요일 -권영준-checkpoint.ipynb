{
 "cells": [
  {
   "cell_type": "markdown",
   "metadata": {},
   "source": [
    "# Exercise82:TaxiFare\n",
    "(22 Lines) In a particular jurisdiction, taxi fares consist of a base fare of $4.00, plus $0.25 for every 140 meters traveled.<br> Write a function that takes the distance traveled (in kilometers) as its only parameter and returns the total fare as its only result.<br> Write a main program that demonstrates the function.<br>"
   ]
  },
  {
   "cell_type": "code",
   "execution_count": 4,
   "metadata": {},
   "outputs": [
    {
     "name": "stdout",
     "output_type": "stream",
     "text": [
      "TaxiFare\n",
      "kilometers\n",
      "input kilometers2.5\n",
      "34.0\n"
     ]
    }
   ],
   "source": [
    "#1.\n",
    "# kilometes\n",
    "def distance_trveled(distance):\n",
    "    basefare = 4.00 \n",
    "    distance %= 140\n",
    "    basefare = basefare  + (distance * 0.25 )\n",
    "    return basefare\n",
    "print('TaxiFare')\n",
    "print('kilometers')\n",
    "try:\n",
    "    num = float(input('input kilometers'))\n",
    "    \n",
    "    print(distance_trveled(num*1_000))\n",
    "    \n",
    "except:\n",
    "    print('no str')\n",
    "    "
   ]
  },
  {
   "cell_type": "markdown",
   "metadata": {},
   "source": [
    "# Exercise84:Median of Three Values\n",
    "(Solved—42 Lines)<br>\n",
    "Write a function that takes three numbers as parameters,and returns the median value of those parameters as its result.<br>\n",
    "Include a main program that reads three values from the user and displays their median.<br>\n",
    "\n"
   ]
  },
  {
   "cell_type": "code",
   "execution_count": 7,
   "metadata": {},
   "outputs": [
    {
     "name": "stdout",
     "output_type": "stream",
     "text": [
      "num1 : 1\n",
      "num2 : 2\n",
      "num3 : 3\n",
      "2\n"
     ]
    }
   ],
   "source": [
    "#2.\n",
    "def median_of_Threevalues(a,b,c):\n",
    "    m_list = [a, b ,c]\n",
    "    m_list.sort()\n",
    "    return m_list[1]\n",
    "try:    \n",
    "    num = input('num1 : ')\n",
    "    num2 = input('num2 : ')\n",
    "    num3 = input('num3 : ')\n",
    "    print(median_of_Threevalues(num,num2,num3))\n",
    "    \n",
    "except:\n",
    "    print('Nope')"
   ]
  },
  {
   "cell_type": "markdown",
   "metadata": {},
   "source": [
    "# Exercise85:Convert an Integer to its Ordinal Number\n",
    "(47 Lines) <br>\n",
    "Words like ﬁrst,second and third are referred to as ordinal numbers.\n",
    "<br>In this exercise, you will write a function that takes an integer as its only parameter and returns a string containing the appropriate English ordinal number as its only result.<Br> Your function must handle the integers between 1 and 12 (inclusive).<br> It should return an empty string if a value outside of this range is provided as a parameter.<br> Include a main program that demonstrates your function by displaying each integer from 1 to 12 and its ordinal number.<br> Your main program should only run when your ﬁle has not been imported into another program.<br>"
   ]
  },
  {
   "cell_type": "code",
   "execution_count": 30,
   "metadata": {},
   "outputs": [
    {
     "name": "stdout",
     "output_type": "stream",
     "text": [
      "input12\n",
      "twelve\n"
     ]
    }
   ],
   "source": [
    "#3.\n",
    "# return  String\n",
    "# handle integes 1~12\n",
    "# 12 over return empty\n",
    "# 1 ~ 12 number insert\n",
    "def Convert_Intger(nums):\n",
    "    convert_dict = {1:'first', 2:'second', 3: 'third', 4:'four', 5:'five', 6:'six', 7:'sven', 8:'eight', 9:'nine',10:'ten',11:'eleven',12:'twelve'}\n",
    "    \n",
    "    if nums in convert_dict:\n",
    "        return convert_dict[nums]\n",
    "    else:\n",
    "        print('잘못 입력 했습니다.')\n",
    "        \n",
    "try:    \n",
    "    num =input('input')\n",
    "    s = int(num) if '0' < num <'13' else 0\n",
    "    j = Convert_Intger(s)\n",
    "    print(j)\n",
    "    \n",
    "except:\n",
    "    print('no str')\n",
    "\n"
   ]
  },
  {
   "cell_type": "markdown",
   "metadata": {},
   "source": [
    "# Exercise88:Is it a Valid Triangle?\n",
    "(33 Lines) <br>\n",
    "If you have 3 straws, possibly of differing lengths, it may or may not be possible to lay them down so that they form a triangle when their ends are touching.<br>\n",
    "For example, if all of the straws have a length of 6 inches. then one can easily construct an equilateral triangle using them.<br>\n",
    "However, if one straw is 6 inches. long, while the other two are each only 2 inches. long, then a triangle cannot be formed.<br>\n",
    "In general, if any one length is greater than or equal to the sum of the other two then the lengths cannot be used to form a triangle.<br> Otherwise they can form a triangle.<br>\n",
    "Write a function that determines whether or not three length scan form a triangle.<br>\n",
    "The function will take 3 parameters and return a Boolean result. In addition, write a program that reads 3 lengths from the user and demonstrates the behaviour of this function.<br>"
   ]
  },
  {
   "cell_type": "code",
   "execution_count": 40,
   "metadata": {},
   "outputs": [
    {
     "name": "stdout",
     "output_type": "stream",
     "text": [
      "straw_1 : 1\n",
      "straw_2 : 2\n",
      "straw_3 : 3\n",
      "invalid\n"
     ]
    }
   ],
   "source": [
    "#4.\n",
    "# 3 straws\n",
    "# 3 = each 6 inches 정삼각형 \n",
    "# 1 => 6 ,2 => each 2  Nope\n",
    "# Write a function that determines whether or not three length scan form a triangle.\n",
    "# The function will take 3 parameters and return a Boolean result.\n",
    "# write a program that reads 3 lengths\n",
    "\n",
    "def Valid_Triangle(num,num2,num3):\n",
    "    t =[]\n",
    "    t = [num,num2,num3]\n",
    "    a = max(t)\n",
    "    \n",
    "    t.remove(max(t))\n",
    "    c,d = t[0],t[1]\n",
    "    \n",
    "    if a < c + d:\n",
    "        return True\n",
    "    else:\n",
    "        return False\n",
    "    \n",
    "try:    \n",
    "    num  = input('straw_1 : ')\n",
    "    num2 = input('straw_2 : ')\n",
    "    num3 = input('straw_3 : ')\n",
    "    valid = Valid_Triangle(num,num2,num3)\n",
    "    if valid  is True:\n",
    "        print('valid')\n",
    "    else:\n",
    "        print('invalid')\n",
    "except:\n",
    "    print('Nope')\n"
   ]
  },
  {
   "cell_type": "markdown",
   "metadata": {},
   "source": [
    "# Exercise92:Is a Number Prime?\n",
    "(Solved—28 Lines)<br>\n",
    "A prime number is an integer greater than 1 that is only divisible by one and itself.<br>\n",
    "Write a function that determines whether or not its parameter is prime, returning True if it is, and False otherwise.<br>\n",
    "Write a main program that reads an integer from the user and displays a message indicating whether or not it is prime.<br>\n",
    "Ensure that the main program will not run if the ﬁle containing your solution is imported into another program.<br>"
   ]
  },
  {
   "cell_type": "code",
   "execution_count": null,
   "metadata": {},
   "outputs": [],
   "source": [
    "#5.'\n",
    "# division only 1 over \n",
    "# return True or False\n",
    "# reads an integer from the user and displays a message indicating whether or not it is prime.\n",
    "\n",
    "def Nmber_Prime(nums):\n",
    "    print(nums)\n",
    "    t =[]\n",
    "    if nums == 0:\n",
    "        return False\n",
    "    else:\n",
    "        for i in rnage(1, (nums/2) ):\n",
    "            if i % nums == 0:\n",
    "                t.append(i)\n",
    "            else:\n",
    "                pass\n",
    "    if len(t) > 2:\n",
    "        return False\n",
    "    else:\n",
    "        return True\n",
    "    \n",
    "try: \n",
    "    num =input('input')\n",
    "    s = int(num) if  num > '0' else 0\n",
    "    j = Nmber_Prime(s)\n",
    "    \"\"\"\n",
    "    j = Nmber_Prime(s)\n",
    "   print(j)\n",
    "    if j is True:\n",
    "        print('Number Prime')\n",
    "    else:\n",
    "        print('No')\n",
    "    \"\"\"\n",
    "        \n",
    "except:\n",
    "    print('no str')\n",
    "    "
   ]
  },
  {
   "cell_type": "code",
   "execution_count": null,
   "metadata": {},
   "outputs": [],
   "source": []
  }
 ],
 "metadata": {
  "kernelspec": {
   "display_name": "Python 3",
   "language": "python",
   "name": "python3"
  },
  "language_info": {
   "codemirror_mode": {
    "name": "ipython",
    "version": 3
   },
   "file_extension": ".py",
   "mimetype": "text/x-python",
   "name": "python",
   "nbconvert_exporter": "python",
   "pygments_lexer": "ipython3",
   "version": "3.6.4"
  }
 },
 "nbformat": 4,
 "nbformat_minor": 2
}
