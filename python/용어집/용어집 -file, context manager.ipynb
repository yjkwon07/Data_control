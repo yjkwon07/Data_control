{
 "cells": [
  {
   "cell_type": "markdown",
   "metadata": {},
   "source": [
    "# virtual machine (가상 기계)\n",
    "소프트웨어만으로 정의된 컴퓨터. 파이썬의 가상 기계는 바이트 코드 컴파일러가 출력하는 바이트 코드 를 실행합니다."
   ]
  },
  {
   "cell_type": "markdown",
   "metadata": {},
   "source": [
    "# universal newlines (유니버설 줄 넘김)\n",
    "다음과 같은 것들을 모두 줄의 끝으로 인식하는, 텍스트 스트림을 해석하는 태도: 유닉스 개행 문자 관례 '\\n', 윈도우즈 관례 '\\r\\n', 예전의 매킨토시 관례 '\\r'. 추가적인 사용에 관해서는 bytes.splitlines() 뿐만 아니라 PEP 278 와 PEP 3116 도 보세요."
   ]
  },
  {
   "cell_type": "markdown",
   "metadata": {},
   "source": [
    "# bytecode (바이트 코드)\n",
    "파이썬 소스 코드는 바이트 코드로 컴파일되는데, CPython 인터프리터에서 파이썬 프로그램의 내부 표현입니다. 바이트 코드는 .pyc 파일에 캐시 되어, 같은 파일을 두 번째 실행할 때 더 빨라지게 만듭니다 (소스에서 바이트 코드로의 재컴파일을 피할 수 있습니다). 이 \"중간 언어\" 는 각 바이트 코드에 대응하는 기계를 실행하는 가상 기계 에서 실행된다고 말합니다. 바이트 코드는 서로 다른 파이썬 가상 기계에서 작동할 것으로 기대하지도, 파이썬 배포 간에 안정적이지도 않다는 것에 주의해야 합니다.\n",
    "\n",
    "바이트 코드 명령어들의 목록은 dis 모듈 설명서에 나옵니다."
   ]
  },
  {
   "cell_type": "code",
   "execution_count": 2,
   "metadata": {},
   "outputs": [],
   "source": [
    "import dis"
   ]
  },
  {
   "cell_type": "code",
   "execution_count": 3,
   "metadata": {},
   "outputs": [
    {
     "name": "stdout",
     "output_type": "stream",
     "text": [
      " 99           0 LOAD_GLOBAL              0 (compile)\n",
      "              2 LOAD_FAST                1 (source)\n",
      "              4 LOAD_FAST                2 (filename)\n",
      "              6 LOAD_FAST                3 (symbol)\n",
      "              8 LOAD_FAST                0 (self)\n",
      "             10 LOAD_ATTR                1 (flags)\n",
      "             12 LOAD_GLOBAL              2 (PyCF_ONLY_AST)\n",
      "             14 BINARY_OR\n",
      "             16 LOAD_CONST               1 (1)\n",
      "    -->      18 CALL_FUNCTION            5\n",
      "             20 RETURN_VALUE\n"
     ]
    }
   ],
   "source": [
    "dis.dis()"
   ]
  },
  {
   "cell_type": "markdown",
   "metadata": {},
   "source": [
    "# GIL\n",
    "전역 인터프리터 록 을 보세요."
   ]
  },
  {
   "cell_type": "markdown",
   "metadata": {},
   "source": [
    "# global interpreter lock (전역 인터프리터 록)\n",
    "**한 번에 오직 하나의 스레드가 파이썬 바이트 코드 를 실행하도록 보장하기 위해 CPython 인터프리터가 사용하는 메커니즘.** (dict 와 같은 중요한 내장형들을 포함하는) 객체 모델이 묵시적으로 동시 액세스에 대해 안전하도록 만들어서 CPython 구현을 단순하게 만듭니다. **인터프리터 전체를 로킹하는 것은 인터프리터를 다중스레드화하기 쉽게 만드는 대신, 다중 프로세서 기계가 제공하는 병렬성의 많은 부분을 희생합니다.**\n",
    "\n",
    "하지만, **어떤 확장 모듈들은, 표준이나 제삼자 모두, 압축이나 해싱 같은 계산 집약적인 작업을 수행할 때는 GIL 을 반납하도록 설계되었습니다. 또한, I/O를 할 때는 항상 GIL 을 반납합니다.**\n",
    "\n",
    "(훨씬 더 미세하게 공유 데이터를 로킹하는) \"스레드에 자유로운(free-threaded)\" 인터프리터를 만들고자 하는 과거의 노력은 성공적이지 못했는데, 흔한 단일 프로세서 경우의 성능 저하가 심하기 때문입니다. 이 성능 이슈를 극복하는 것은 구현을 훨씬 복잡하게 만들어서 유지 비용이 더 들어갈 것으로 여겨지고 있습니다."
   ]
  },
  {
   "cell_type": "markdown",
   "metadata": {},
   "source": [
    "# text file (텍스트 파일)\n",
    "str 객체를 읽고 쓸 수 있는 파일 객체. 종종, 텍스트 파일은 실제로는 바이트 지향 데이터스트림을 액세스하고 텍스트 인코딩 을 자동 처리합니다. 텍스트 파일의 예로는 텍스트 모드 ('r' 또는 'w') 로 열린 파일, sys.stdin, sys.stdout, io.StringIO 의 인스턴스를 들 수 있습니다.\n",
    "\n",
    "바이트열류 객체 를 읽고 쓸 수 있는 파일 객체에 대해서는 바이너리 파일 도 참조하세요."
   ]
  },
  {
   "cell_type": "markdown",
   "metadata": {},
   "source": [
    "# binary file (바이너리 파일)\n",
    "바이트열류 객체들 을 읽고 쓸 수 있는 파일 객체. 바이너리 파일의 예로는 바이너리 모드 ('rb', 'wb' 또는 'rb+') 로 열린 파일, sys.stdin.buffer, sys.stdout.buffer, io.BytesIO 와 gzip.GzipFile 의 인스턴스를 들 수 있습니다.\n",
    "\n",
    "str 객체를 읽고 쓸 수 있는 파일 객체에 대해서는 텍스트 파일 도 참조하세요."
   ]
  },
  {
   "cell_type": "markdown",
   "metadata": {},
   "source": [
    "# text encoding (텍스트 인코딩)\n",
    "유니코드 문자열을 바이트열로 인코딩하는 코덱."
   ]
  },
  {
   "cell_type": "markdown",
   "metadata": {},
   "source": [
    "# contiguous (연속)\n",
    "버퍼는 정확히 C-연속 (C-contiguous) 이거나 포트란 연속 (Fortran contiguous) 일 때 연속이라고 여겨집니다. 영차원 버퍼는 C-연속이면서 포트란 연속입니다. 일차원 배열에서, 항목들은 서로에 인접하고, 0에서 시작하는 오름차순 인덱스의 순서대로 메모리에 배치되어야 합니다. 다차원 C-연속 배열에서, 메모리 주소의 순서대로 항목들을 방문할 때 마지막 인덱스가 가장 빨리 변합니다. 하지만, 포트란 연속 배열에서는, 첫 번째 인덱스가 가장 빨리 변합니다."
   ]
  },
  {
   "cell_type": "markdown",
   "metadata": {},
   "source": [
    "# f-string (f-문자열)\n",
    "참조: f-string <br/>\n",
    "'f' 나 'F' 를 앞에 붙인 문자열 리터럴들을 흔히 \"f-문자열\"이라고 부르는데, 포맷 문자열 리터럴 의 줄임말입니다. PEP 498 을 보세요."
   ]
  },
  {
   "cell_type": "markdown",
   "metadata": {},
   "source": [
    "# __future__\n",
    "프로그래머가 현재 인터프리터와 호환되지 않는 새 언어 기능들을 활성화할 수 있도록 하는 가상 모듈.\n",
    "\n",
    "_ _future__ 모듈을 임포트하고 그 변수들의 값들을 구해서, 새 기능이 언제 처음으로 언어에 추가되었고, 언제부터 그것이 기본이 되는지 볼 수 있습니다:"
   ]
  },
  {
   "cell_type": "markdown",
   "metadata": {},
   "source": [
    "# bytes-like object (바이트열류 객체)\n",
    "Buffer Protocol 를 지원하고 C-연속 버퍼를 익스포트 할 수 있습니다. 여러 공통 memoryview 객체들은 물론이고 bytes, bytearray, array.array 객체들을 포함합니다. 바이트열류 객체들은 바이너리 데이터를 다루는 여러 가지 연산들에 사용될 수 있습니다; 압축, 바이너리 파일로 저장, 소켓을 통한 전송 같은 것들이 있습니다.\n",
    "\n",
    "어떤 연산들은 바이너리 데이터가 가변적일 필요가 있습니다. 이런 경우에 설명서는 종종 \"읽고-쓰기 바이트열류 객체\"라고 표현합니다. 가변 버퍼 객체의 예로는 bytearray 와 bytearray 의 memoryview 가 있습니다. 다른 연산들은 바이너리 데이터가 불변 객체 (\"읽기 전용 바이트열류 객체\")에 저장되도록 요구합니다; 이런 것들의 예로는 bytes 와 bytes 객체의 memoryview 가 있습니다."
   ]
  },
  {
   "cell_type": "markdown",
   "metadata": {},
   "source": [
    "# file object (파일 객체)\n",
    "**하부 자원에 대해 파일 지향적 API (read() 나 write() 같은 메서드들) 를 드러내는 객체.** 만들어진 방법에 따라, 파일 객체는 실제 디스크 상의 파일이나 다른 저장장치나 통신 장치 (예를 들어, 표준 입출력, 인-메모리 버퍼, 소켓, 파이프, 등등)에 대한 **액세스를 중계할 수 있습니다. 파일 객체는 파일류 객체 (file-like objects) 나 스트림 (streams) 이라고도 불립니다.**\n",
    "\n",
    "**실제로는 세 부류의 파일 객체들이 있습니다. **\n",
    "- 날(raw) 바이너리 파일\n",
    "- 버퍼드(buffered) 바이너리 파일\n",
    "- 텍스트 파일 <br/> \n",
    "**이들의 인터페이스는 io 모듈에서 정의됩니다. 파일 객체를 만드는 규범적인 방법은 open() 함수를 쓰는 것입니다.**"
   ]
  },
  {
   "cell_type": "markdown",
   "metadata": {},
   "source": [
    "# file-like object (파일류 객체)\n",
    "파일 객체 의 비슷한 말."
   ]
  },
  {
   "cell_type": "markdown",
   "metadata": {},
   "source": [
    "---"
   ]
  },
  {
   "cell_type": "markdown",
   "metadata": {},
   "source": [
    "# path based finder (경로 기반 파인더)\n",
    "기본 메타 경로 파인더들 중 하나인데, 임포트 경로 에서 모듈을 찾습니다."
   ]
  },
  {
   "cell_type": "markdown",
   "metadata": {},
   "source": [
    "# path entry (경로 엔트리)\n",
    "경로 기반 파인더 가 임포트할 모듈들을 찾기 위해 참고하는 임포트 경로 상의 하나의 장소."
   ]
  },
  {
   "cell_type": "markdown",
   "metadata": {},
   "source": [
    "# path entry hook (경로 엔트리 훅)\n",
    "sys.path_hook 리스트에 있는 콜러블인데, 특정 경로 엔트리 에서 모듈을 찾는 법을 알고 있다면 경로 엔트리 파인더 를 돌려줍니다."
   ]
  },
  {
   "cell_type": "markdown",
   "metadata": {},
   "source": [
    "# path-like object (경로류 객체)\n",
    "파일 시스템 경로를 나타내는 객체. **경로류 객체는 경로를 나타내는 str 나 bytes 객체이거나 os.PathLike 프로토콜을 구현하는 객체입니다.** os.PathLike 프로토콜을 지원하는 객체는 **os.fspath() 함수를 호출해서 str 나 bytes 파일 시스템 경로로 변환될 수 있습니다;** 대신 os.fsdecode() 와 os.fsencode() 는 각각 str 나 bytes 결과를 보장하는데 사용될 수 있습니다. PEP 519 로 도입되었습니다."
   ]
  },
  {
   "cell_type": "markdown",
   "metadata": {},
   "source": [
    "---"
   ]
  },
  {
   "cell_type": "markdown",
   "metadata": {},
   "source": [
    "# context manager (컨텍스트 관리자)\n",
    "_ _enter__() 와 _ _exit__() 메서드를 정의함으로써 with 문에서 보이는 환경을 제어하는 객체. PEP 343 로 도입되었습니다.\n",
    "\n",
    "https://ddanggle.gitbooks.io/interpy-kr/content/ch24-context-manager.html"
   ]
  },
  {
   "cell_type": "code",
   "execution_count": 1,
   "metadata": {},
   "outputs": [],
   "source": [
    "with open('a.txt', 'w') as opened_file:\n",
    "    opened_file.write('Hola')"
   ]
  },
  {
   "cell_type": "code",
   "execution_count": 2,
   "metadata": {},
   "outputs": [],
   "source": [
    "file = open('a.txt', 'w')\n",
    "try:\n",
    "    file.write('Hola')\n",
    "finally:\n",
    "    file.close()"
   ]
  },
  {
   "cell_type": "markdown",
   "metadata": {},
   "source": [
    "# Class로 Context Manager 향상시키기"
   ]
  },
  {
   "cell_type": "code",
   "execution_count": 3,
   "metadata": {},
   "outputs": [],
   "source": [
    "class File(object):\n",
    "    def __init__(self, file_name, method):\n",
    "        self.file_obj = open(file_name, method)\n",
    "    def __enter__(self):\n",
    "        return self.file_obj\n",
    "    def __exit__(self, type, value, trace_back):\n",
    "        self.file_obj.close()"
   ]
  },
  {
   "cell_type": "code",
   "execution_count": 14,
   "metadata": {
    "scrolled": true
   },
   "outputs": [
    {
     "name": "stdout",
     "output_type": "stream",
     "text": [
      "예외는 처리되어야 합니다\n"
     ]
    }
   ],
   "source": [
    "with File('demo.txt', 'wb') as opened_file:\n",
    "    opened_file.write('Hola!')"
   ]
  },
  {
   "cell_type": "markdown",
   "metadata": {},
   "source": [
    "1. with문은 Fileclass의 _ _exit__ 메소드를 저장합니다.\n",
    "2. 이것은 File class의 _ _enter__메소드를 호출합니다.\n",
    "3. 'enter` 메소드는 파일을 열고 파일을 반환합니다.\n",
    "4. 열려진 파일 처리는 opened_file을 통과합니다.\n",
    "5. .write()를 사용해서 파일을 쓸 수 있습니다.\n",
    "6. with문은 저장된 _ _exit__ 문을 호출합니다.\n",
    "7. _ _exit__문은 파일을 닫습니다.\n"
   ]
  },
  {
   "cell_type": "markdown",
   "metadata": {},
   "source": [
    "# handling exception\n",
    "아직까지 _ _exit__ 메소드의 인자인 type, value, trace_back에 대해서는 아직 이야기를 나누지 않았습니다. 4번째에서 6번째 단계 사이에서 예외가 발생한다면, 파이썬은 예외에서의 type, value, trace_back을\n",
    "_ _exit__메소드에 통과시킵니다. 그러면 _ _exit__ 메소드에서는 다음에 어떤 단계들이 요구되는 지에 따라 파일을 닫을 수 있는 방법을 결정해야합니다. 이 경우에는 거기까지는 생각하지 않겠습니다.\n",
    "\n",
    "어떤 파일 객체에서 예외를 발생한다면 어떻게 될까요? 파일 객체가 지원되지 않는 메소드에 접근하려 한다고 생각해보겠습니다. 예를 들면,"
   ]
  },
  {
   "cell_type": "code",
   "execution_count": 4,
   "metadata": {
    "scrolled": false
   },
   "outputs": [
    {
     "ename": "AttributeError",
     "evalue": "'_io.BufferedWriter' object has no attribute 'undefined_function'",
     "output_type": "error",
     "traceback": [
      "\u001b[1;31m---------------------------------------------------------------------------\u001b[0m",
      "\u001b[1;31mAttributeError\u001b[0m                            Traceback (most recent call last)",
      "\u001b[1;32m<ipython-input-4-af42a666be98>\u001b[0m in \u001b[0;36m<module>\u001b[1;34m()\u001b[0m\n\u001b[0;32m      1\u001b[0m \u001b[1;32mwith\u001b[0m \u001b[0mFile\u001b[0m\u001b[1;33m(\u001b[0m\u001b[1;34m'demo.txt'\u001b[0m\u001b[1;33m,\u001b[0m \u001b[1;34m'wb'\u001b[0m\u001b[1;33m)\u001b[0m \u001b[1;32mas\u001b[0m \u001b[0mopened_file\u001b[0m\u001b[1;33m:\u001b[0m\u001b[1;33m\u001b[0m\u001b[0m\n\u001b[1;32m----> 2\u001b[1;33m     \u001b[0mopened_file\u001b[0m\u001b[1;33m.\u001b[0m\u001b[0mundefined_function\u001b[0m\u001b[1;33m(\u001b[0m\u001b[1;34m'Hola!'\u001b[0m\u001b[1;33m)\u001b[0m\u001b[1;33m\u001b[0m\u001b[0m\n\u001b[0m",
      "\u001b[1;31mAttributeError\u001b[0m: '_io.BufferedWriter' object has no attribute 'undefined_function'"
     ]
    }
   ],
   "source": [
    "with File('demo.txt', 'wb') as opened_file:\n",
    "    opened_file.undefined_function('Hola!')"
   ]
  },
  {
   "cell_type": "markdown",
   "metadata": {},
   "source": [
    "with문이 에러를 만나면, 어떤 식으로 처리되는 지 단계들을 살펴보겠습니다.\n",
    "1. type, value, traceback의 에러가 `_exit`메소드를 통과합니다.\n",
    "2. _ _exit__ 메소드가 예외를 처리하도록 합니다.\n",
    "3. _ _exit__ 메소드가 True 를 반환한다면, 예외는 적절하게 된 것입니다.\n",
    "4. _ _exit__ 메소드가 True가 아닌 다른 것을 반환하면, with문에서 예외가 발생합니다.\n",
    "\n",
    "위의 경우에는 _ _exit__ 메소드는 None(리턴 문이 어떤 것도 만나지 않는다면 None을 반환합니다)을 반환합니다. 그래서, with문은 예외를 발생시킵니다.\n",
    "\n",
    "_ _exit__ 메소드에서 예외를 처리 해보겠습니다.\n",
    "\n"
   ]
  },
  {
   "cell_type": "code",
   "execution_count": 6,
   "metadata": {},
   "outputs": [
    {
     "name": "stdout",
     "output_type": "stream",
     "text": [
      "예외는 처리되어야 합니다\n"
     ]
    }
   ],
   "source": [
    "class File(object):\n",
    "    def __init__(self, file_name, method):\n",
    "        self.file_obj = open(file_name, method)\n",
    "    def __enter__(self):\n",
    "        return self.file_obj\n",
    "    def __exit__(self, type, value, trace_back):\n",
    "        print (\"예외는 처리되어야 합니다\")\n",
    "        self.file_obj.close()\n",
    "        return True\n",
    "\n",
    "with File('demo.txt', 'wb') as opened_file:\n",
    "    opened_file.undefined_function()\n",
    "# Output: 예외는 처리되어야 합니다"
   ]
  },
  {
   "cell_type": "markdown",
   "metadata": {},
   "source": [
    "_ _exit__ 메소드가 True를 반환한다면, with문에서 에외는 발생하지 않을 것입니다.\n",
    "\n",
    "컨텍스트 매니저를 향상시키는 방법말고도 다른 방법도 있습니다. 다음 섹션에서 알아보도록 하겠습니다."
   ]
  },
  {
   "cell_type": "markdown",
   "metadata": {},
   "source": [
    "# 제너레이터를 활용해서 컨텍스트 매니저 향상시키기\n",
    "데코레이터와 제너레이터를 활용해서 컨텍스트 매니저를 향상시킬 수도 있습니다. 파이썬은 바로 이러한 목적으로 contextlib 모듈들을 가지고 있습니다. **class 대신에, 컨텍스트 매니저을 제너레이터 함수를 이용해서 향상시킬 수도 있습니다. 의미없는 예시를 보면서, 기본부터 확인 해보겠습니다.**"
   ]
  },
  {
   "cell_type": "code",
   "execution_count": 4,
   "metadata": {},
   "outputs": [],
   "source": [
    "from contextlib import contextmanager\n",
    "\n",
    "@contextmanager\n",
    "def open_file(name):\n",
    "    f = open(name, 'wb')\n",
    "    yield f\n",
    "    f.close()"
   ]
  },
  {
   "cell_type": "markdown",
   "metadata": {},
   "source": [
    "자! 이 방법으로 컨텍스트 매니저를 좀 더 직관적이고 쉽게 향상시켰습니다! 그렇지만 이 메소드는 제너레이터, yield, 데코레이터에 관한 지식들이 필요합니다.\n",
    "이 예시에서는 일어날 수 있는 예외를 처리하지는 못합니다. 이전의 메소드와 동일한 방법으로 동작합니다.\n",
    "\n",
    "위 메소드에 관해서 조금 더 살펴보면,\n",
    "\n",
    "1. 파이썬이 yield 키워드를 만난다면, 일반적인 함수 대신에 제너레이터를 만들었기 때문입니다.\n",
    "2. 데코레이션이 있기 때문에 컨텍스트 매니저는 함수 이름(open_file)을 전달 인자로서 호출합니다.\n",
    "3. contextmanager함수는 GeneratorContextManager로 감싸진 제너레이터를 반환합니다.\n",
    "\n",
    "4. GeneratorContextManager는 open_file함수를 할당합니다. 그렇기 떄문에 open_file 함수를 앞으로 호출하면, 사실은 GeneratorContextManager을 호출하는 것입니다.\n",
    "\n",
    "우리는 이제 모든 것을 배웠으므로, 아래와 같이 새롭게 만들어진 컨텍스트 매니저를 사용할 수도 있습니다."
   ]
  },
  {
   "cell_type": "code",
   "execution_count": 8,
   "metadata": {
    "scrolled": false
   },
   "outputs": [],
   "source": [
    "with open_file('test.txt') as f:\n",
    "        f.write(b'Hola')"
   ]
  },
  {
   "cell_type": "code",
   "execution_count": 10,
   "metadata": {},
   "outputs": [],
   "source": [
    "with open('test.txt', \"r\") as f:\n",
    "        a = f.read()"
   ]
  },
  {
   "cell_type": "code",
   "execution_count": 11,
   "metadata": {},
   "outputs": [
    {
     "name": "stdout",
     "output_type": "stream",
     "text": [
      "Hola\n"
     ]
    }
   ],
   "source": [
    "print(a)"
   ]
  },
  {
   "cell_type": "code",
   "execution_count": 12,
   "metadata": {},
   "outputs": [
    {
     "data": {
      "text/plain": [
       "str"
      ]
     },
     "execution_count": 12,
     "metadata": {},
     "output_type": "execute_result"
    }
   ],
   "source": [
    "type(a)"
   ]
  }
 ],
 "metadata": {
  "kernelspec": {
   "display_name": "Python 3",
   "language": "python",
   "name": "python3"
  },
  "language_info": {
   "codemirror_mode": {
    "name": "ipython",
    "version": 3
   },
   "file_extension": ".py",
   "mimetype": "text/x-python",
   "name": "python",
   "nbconvert_exporter": "python",
   "pygments_lexer": "ipython3",
   "version": "3.6.4"
  }
 },
 "nbformat": 4,
 "nbformat_minor": 2
}
