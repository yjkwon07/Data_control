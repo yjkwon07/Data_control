{
 "cells": [
  {
   "cell_type": "markdown",
   "metadata": {},
   "source": [
    "# summary\n",
    "\n",
    "- billboard_long.nsmallest(5, 'year')\n",
    "\n",
    "\n",
    "- 시간 날짜, 위치정보  \n",
    "- timeseries 시계열  -> 조금 영역이 달라 \n",
    "- 별도의 분야로 다루기도 한다. -> 사이킷에서도 온전하게 다룰 수 없다. \n",
    "- 시계열은 날짜와 시간 \n",
    "- 날짜와 시간은 파이썬에서 기본적인 데이터 구조가 없다. \n",
    "- import를 해야한다. \n",
    "- 표준라이브러리가 있지만, 기본적인 데이터구조가 없다. \n",
    "- 표준라이브러리에는 총 3가지가 있다.\n",
    "- 시계열은 3가지의 라이브러리를 알아야한다. \n",
    "- time, ....\n",
    "- 치명적인 단점; 시간 관련된 라이브러리를 잘 안만들어서\n",
    "- dateutil로 서브로 지원을 받아야한다.  <- 쉽게 사용할 수 있다.\n",
    "- pytz <- python time지원이 별로라 만들어놈 \n",
    "- https://pendulum.eustace.io/ <- 요즘 나온 기술  \n",
    " \n",
    " \n",
    "- temp_data = pd.to_datetime(billboard_long['date.entered'])\n",
    "- billboard_long['date.entered']['2010'] # 인덱스가 안됨 값으로 들어갔기 때문에  # 인덱스가 시계열로 들어가야한다. \n"
   ]
  }
 ],
 "metadata": {
  "kernelspec": {
   "display_name": "Python 3",
   "language": "python",
   "name": "python3"
  },
  "language_info": {
   "codemirror_mode": {
    "name": "ipython",
    "version": 3
   },
   "file_extension": ".py",
   "mimetype": "text/x-python",
   "name": "python",
   "nbconvert_exporter": "python",
   "pygments_lexer": "ipython3",
   "version": "3.6.4"
  }
 },
 "nbformat": 4,
 "nbformat_minor": 2
}
